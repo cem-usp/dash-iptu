{
 "cells": [
  {
   "cell_type": "markdown",
   "id": "1c1b5f43",
   "metadata": {
    "slideshow": {
     "slide_type": "slide"
    }
   },
   "source": [
    "# Dash do IPTU\n",
    "\n",
    "* Fernando Gomes, doutorando Eng. Transportes / Inf. Espaciais, bolsista TT\n",
    "\n",
    "> CEM - Centro de Estudo da Metrópole, Área de Transferência"
   ]
  },
  {
   "cell_type": "markdown",
   "id": "089453b8",
   "metadata": {
    "slideshow": {
     "slide_type": "slide"
    }
   },
   "source": [
    "## Motivações\n",
    "\n",
    "* $ BigData \\cap OpenData $\n",
    "\n",
    "> Publicar *dezenas* de arquivos CSV com *milhões* de registros e dezenas de atributos é suficiente para o exercício do _direito constitucional de acesso às informações públicas_ de maneira *democrática*?"
   ]
  },
  {
   "cell_type": "markdown",
   "id": "8b18f12f",
   "metadata": {
    "slideshow": {
     "slide_type": "slide"
    }
   },
   "source": [
    "## Objetivos e Hipótese\n",
    "\n",
    "* Democratizar e facilitar o acesso aos dados cadastrais em diversas escalas de necessidade\n",
    "    * Espacializar e possibilitar diversas agregações espaciais\n",
    "    * Possibilitar leituras de dinâmicas temporais ($\\Delta$)\n",
    "    * Calcular índices urbanísticos como CA e TO e atributos quantitativos\n",
    "    * Visualização em mapas temáticos graduados\n",
    "    * Compartilhar o desenvolvimento por Licensas Livres\n",
    "    \n",
    "> Com a facilitação do acesso, espera-se a ampliação do uso analítico dos dados cadastrais, pela sociedade, pela academia e pelo corpo técnico da municipalidade em diversas escalas de necessidades, das mais generalistas às mais específicas.\n",
    "    "
   ]
  },
  {
   "cell_type": "markdown",
   "id": "533f0b03",
   "metadata": {
    "slideshow": {
     "slide_type": "slide"
    }
   },
   "source": [
    "## Materiais\n",
    "\n",
    "* Base de dados do IPTU\n",
    "    * 3.6 milhões de registros em 2022\n",
    "    * 82 milhões de registros desde 1995\n",
    "    * 17 atributos\n",
    "* Geometria dos Lotes Fiscais (SIG)\n",
    "* Diversas agregações espaciais (SIG)\n",
    "    * Sub-Prefeituras\n",
    "    * Distritos\n",
    "    * Zonas Origem e Destino\n",
    "    * Censo 2010"
   ]
  },
  {
   "cell_type": "markdown",
   "id": "94fda22f",
   "metadata": {
    "slideshow": {
     "slide_type": "slide"
    }
   },
   "source": [
    "## Método\n",
    "\n",
    "1. Download e Preparação dos dados originais\n",
    "2. Espacialização dos registros por lotes\n",
    "3. Pre-processamento em estruturas específicas e leves\n",
    "    * Para cada agregação espacial\n",
    "    * Indexado por ano\n",
    "4. Publicação no Dash"
   ]
  },
  {
   "cell_type": "markdown",
   "id": "94adee5b",
   "metadata": {
    "slideshow": {
     "slide_type": "slide"
    }
   },
   "source": [
    "## Recursos técnicos"
   ]
  },
  {
   "cell_type": "code",
   "execution_count": null,
   "id": "6a1beaa1",
   "metadata": {
    "slideshow": {
     "slide_type": "fragment"
    }
   },
   "outputs": [],
   "source": [
    "# Python                  # Jupyter Notebook, pre-&-post-processing\n",
    "import pandas as pd       # Open CSV\n",
    "import vaex               # Convert to HDF5, performance\n",
    "import geopandas as gpd   # SIG/GIS reades and processing\n",
    "from dash import Dash     # Plotly"
   ]
  },
  {
   "cell_type": "markdown",
   "id": "1e46e4c1",
   "metadata": {
    "slideshow": {
     "slide_type": "fragment"
    }
   },
   "source": [
    "* https://github.com/cem-usp/dash-iptu (GNU General Public License v3.0)"
   ]
  },
  {
   "cell_type": "markdown",
   "id": "6ad0159a",
   "metadata": {
    "slideshow": {
     "slide_type": "slide"
    }
   },
   "source": [
    "## Resultados Preliminares\n",
    "\n",
    "* https://dashiptu.centrodametropole.fflch.usp.br/"
   ]
  },
  {
   "cell_type": "markdown",
   "id": "0c70fab3",
   "metadata": {
    "slideshow": {
     "slide_type": "slide"
    }
   },
   "source": [
    "## Resultados Esperados\n",
    "\n",
    "* Aumento de uso dos dados do IPTU pelo corpo técnico da Municipalidade\n",
    "* Aumento da produção de conhecimento a partir dos dados do IPTU"
   ]
  },
  {
   "cell_type": "markdown",
   "id": "d2dd279b",
   "metadata": {
    "slideshow": {
     "slide_type": "slide"
    }
   },
   "source": [
    "## Próximos Passos\n",
    "\n",
    "* Processo de validação com SMUL/PMSP\n",
    "* Adaptação visual ao CEM, UI e UX\n",
    "* Aumentar N-possibilidades analíticas separando Atributos quantitativos de filtragens Qualitativas\n",
    "* Publicação de série de Notas Técnicas \n",
    "* Resolução de _Issues_ https://github.com/cem-usp/dash-iptu/issues\n",
    "* Internalização na InfraEstrutura computacional da Prefeitura"
   ]
  }
 ],
 "metadata": {
  "celltoolbar": "Slideshow",
  "kernelspec": {
   "display_name": "Python 3 (ipykernel)",
   "language": "python",
   "name": "python3"
  },
  "language_info": {
   "codemirror_mode": {
    "name": "ipython",
    "version": 3
   },
   "file_extension": ".py",
   "mimetype": "text/x-python",
   "name": "python",
   "nbconvert_exporter": "python",
   "pygments_lexer": "ipython3",
   "version": "3.9.12"
  }
 },
 "nbformat": 4,
 "nbformat_minor": 5
}
