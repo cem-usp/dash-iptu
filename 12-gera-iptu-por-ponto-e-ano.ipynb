{
 "cells": [
  {
   "cell_type": "markdown",
   "metadata": {},
   "source": [
    "# Gerando IPTU espacializado por pontos e agregados por distrito para todos exercícios"
   ]
  },
  {
   "cell_type": "code",
   "execution_count": 1,
   "metadata": {},
   "outputs": [
    {
     "name": "stderr",
     "output_type": "stream",
     "text": [
      "/home/fernando/miniconda3/envs/dash/lib/python3.9/site-packages/geopandas/_compat.py:111: UserWarning: The Shapely GEOS version (3.10.2-CAPI-1.16.0) is incompatible with the GEOS version PyGEOS was compiled with (3.10.1-CAPI-1.16.0). Conversions between both will be slow.\n",
      "  warnings.warn(\n"
     ]
    }
   ],
   "source": [
    "import vaex\n",
    "import pandas as pd\n",
    "import geopandas as gpd\n",
    "from shapely.validation import make_valid\n",
    "from difflib import SequenceMatcher\n",
    "import numpy as np\n",
    "import pandas as pd"
   ]
  },
  {
   "cell_type": "code",
   "execution_count": 2,
   "metadata": {},
   "outputs": [],
   "source": [
    "df = vaex.open(f'data/IPTU_2022/IPTU_2022.hdf5')#.to_pandas_df()\n",
    "gdf_distrito = gpd.read_file('data/SIRGAS_GPKG_distrito.gpkg')"
   ]
  },
  {
   "cell_type": "code",
   "execution_count": 3,
   "metadata": {},
   "outputs": [],
   "source": [
    "df.setor = df['NUMERO DO CONTRIBUINTE'].str.slice(0,3)\n",
    "df.quadra = df['NUMERO DO CONTRIBUINTE'].str.slice(3,6)\n",
    "df.fillna(value='00-0', column_names=['NUMERO DO CONDOMINIO'], inplace=True)\n",
    "df.fillna(value=1., column_names=['FRACAO IDEAL'], inplace=True)\n",
    "df.fillna(value=0., column_names=['AREA CONSTRUIDA', 'AREA OCUPADA', 'AREA DO TERRENO'], inplace=True)\n",
    "df.sqlc = df.func.where(df['NUMERO DO CONDOMINIO'] == '00-0',\n",
    "                                df['NUMERO DO CONTRIBUINTE'].str.slice(0, 10) + '00',\n",
    "                                df['NUMERO DO CONTRIBUINTE'].str.slice(0, 6) + '0000' + df['NUMERO DO CONDOMINIO'].str.slice(0, 2))\n",
    "df['sq'] = df.setor + df.quadra\n",
    "df['sqlc'] = df.sqlc"
   ]
  },
  {
   "cell_type": "code",
   "execution_count": 4,
   "metadata": {},
   "outputs": [],
   "source": [
    "df = df.to_pandas_df()"
   ]
  },
  {
   "cell_type": "code",
   "execution_count": 7,
   "metadata": {},
   "outputs": [
    {
     "name": "stdout",
     "output_type": "stream",
     "text": [
      "PIRITUBA\n"
     ]
    },
    {
     "name": "stderr",
     "output_type": "stream",
     "text": [
      "/home/fernando/miniconda3/envs/dash/lib/python3.9/site-packages/geopandas/io/file.py:362: FutureWarning: pandas.Int64Index is deprecated and will be removed from pandas in a future version. Use pandas.Index with the appropriate dtype instead.\n",
      "  pd.Int64Index,\n"
     ]
    },
    {
     "name": "stdout",
     "output_type": "stream",
     "text": [
      "SAO DOMINGOS\n"
     ]
    },
    {
     "name": "stderr",
     "output_type": "stream",
     "text": [
      "/home/fernando/miniconda3/envs/dash/lib/python3.9/site-packages/geopandas/io/file.py:362: FutureWarning: pandas.Int64Index is deprecated and will be removed from pandas in a future version. Use pandas.Index with the appropriate dtype instead.\n",
      "  pd.Int64Index,\n"
     ]
    },
    {
     "name": "stdout",
     "output_type": "stream",
     "text": [
      "JARAGUA\n"
     ]
    },
    {
     "name": "stderr",
     "output_type": "stream",
     "text": [
      "/tmp/ipykernel_189144/2706964129.py:18: UserWarning: Boolean Series key will be reindexed to match DataFrame index.\n",
      "  df_sq = df[df_sqlc.lo_lote.isna()].merge(gdf_lote, how='left', on='sq')\n",
      "/home/fernando/miniconda3/envs/dash/lib/python3.9/site-packages/geopandas/io/file.py:362: FutureWarning: pandas.Int64Index is deprecated and will be removed from pandas in a future version. Use pandas.Index with the appropriate dtype instead.\n",
      "  pd.Int64Index,\n"
     ]
    },
    {
     "name": "stdout",
     "output_type": "stream",
     "text": [
      "BRASILANDIA\n"
     ]
    },
    {
     "name": "stderr",
     "output_type": "stream",
     "text": [
      "/tmp/ipykernel_189144/2706964129.py:18: UserWarning: Boolean Series key will be reindexed to match DataFrame index.\n",
      "  df_sq = df[df_sqlc.lo_lote.isna()].merge(gdf_lote, how='left', on='sq')\n",
      "/home/fernando/miniconda3/envs/dash/lib/python3.9/site-packages/geopandas/io/file.py:362: FutureWarning: pandas.Int64Index is deprecated and will be removed from pandas in a future version. Use pandas.Index with the appropriate dtype instead.\n",
      "  pd.Int64Index,\n"
     ]
    },
    {
     "name": "stdout",
     "output_type": "stream",
     "text": [
      "FREGUESIA DO O\n"
     ]
    },
    {
     "name": "stderr",
     "output_type": "stream",
     "text": [
      "/tmp/ipykernel_189144/2706964129.py:18: UserWarning: Boolean Series key will be reindexed to match DataFrame index.\n",
      "  df_sq = df[df_sqlc.lo_lote.isna()].merge(gdf_lote, how='left', on='sq')\n",
      "/home/fernando/miniconda3/envs/dash/lib/python3.9/site-packages/geopandas/io/file.py:362: FutureWarning: pandas.Int64Index is deprecated and will be removed from pandas in a future version. Use pandas.Index with the appropriate dtype instead.\n",
      "  pd.Int64Index,\n"
     ]
    },
    {
     "name": "stdout",
     "output_type": "stream",
     "text": [
      "CASA VERDE\n"
     ]
    },
    {
     "name": "stderr",
     "output_type": "stream",
     "text": [
      "/home/fernando/miniconda3/envs/dash/lib/python3.9/site-packages/geopandas/io/file.py:362: FutureWarning: pandas.Int64Index is deprecated and will be removed from pandas in a future version. Use pandas.Index with the appropriate dtype instead.\n",
      "  pd.Int64Index,\n"
     ]
    },
    {
     "name": "stdout",
     "output_type": "stream",
     "text": [
      "CACHOEIRINHA\n"
     ]
    },
    {
     "name": "stderr",
     "output_type": "stream",
     "text": [
      "/home/fernando/miniconda3/envs/dash/lib/python3.9/site-packages/geopandas/io/file.py:362: FutureWarning: pandas.Int64Index is deprecated and will be removed from pandas in a future version. Use pandas.Index with the appropriate dtype instead.\n",
      "  pd.Int64Index,\n"
     ]
    },
    {
     "name": "stdout",
     "output_type": "stream",
     "text": [
      "LIMAO\n"
     ]
    },
    {
     "name": "stderr",
     "output_type": "stream",
     "text": [
      "/tmp/ipykernel_189144/2706964129.py:18: UserWarning: Boolean Series key will be reindexed to match DataFrame index.\n",
      "  df_sq = df[df_sqlc.lo_lote.isna()].merge(gdf_lote, how='left', on='sq')\n",
      "/home/fernando/miniconda3/envs/dash/lib/python3.9/site-packages/geopandas/io/file.py:362: FutureWarning: pandas.Int64Index is deprecated and will be removed from pandas in a future version. Use pandas.Index with the appropriate dtype instead.\n",
      "  pd.Int64Index,\n"
     ]
    },
    {
     "name": "stdout",
     "output_type": "stream",
     "text": [
      "VILA GUILHERME\n"
     ]
    },
    {
     "name": "stderr",
     "output_type": "stream",
     "text": [
      "/tmp/ipykernel_189144/2706964129.py:18: UserWarning: Boolean Series key will be reindexed to match DataFrame index.\n",
      "  df_sq = df[df_sqlc.lo_lote.isna()].merge(gdf_lote, how='left', on='sq')\n",
      "/home/fernando/miniconda3/envs/dash/lib/python3.9/site-packages/geopandas/io/file.py:362: FutureWarning: pandas.Int64Index is deprecated and will be removed from pandas in a future version. Use pandas.Index with the appropriate dtype instead.\n",
      "  pd.Int64Index,\n"
     ]
    },
    {
     "name": "stdout",
     "output_type": "stream",
     "text": [
      "VILA MARIA\n"
     ]
    },
    {
     "name": "stderr",
     "output_type": "stream",
     "text": [
      "/home/fernando/miniconda3/envs/dash/lib/python3.9/site-packages/geopandas/io/file.py:362: FutureWarning: pandas.Int64Index is deprecated and will be removed from pandas in a future version. Use pandas.Index with the appropriate dtype instead.\n",
      "  pd.Int64Index,\n"
     ]
    },
    {
     "name": "stdout",
     "output_type": "stream",
     "text": [
      "VILA MEDEIROS\n"
     ]
    },
    {
     "name": "stderr",
     "output_type": "stream",
     "text": [
      "/home/fernando/miniconda3/envs/dash/lib/python3.9/site-packages/geopandas/io/file.py:362: FutureWarning: pandas.Int64Index is deprecated and will be removed from pandas in a future version. Use pandas.Index with the appropriate dtype instead.\n",
      "  pd.Int64Index,\n"
     ]
    },
    {
     "name": "stdout",
     "output_type": "stream",
     "text": [
      "ARTUR ALVIM\n"
     ]
    },
    {
     "ename": "DriverError",
     "evalue": "'/vsizip/data/lotes/SIRGAS_SHP_LOTES_5_ARTUR_ALVIM.zip/SIRGAS_SHP_LOTES_5_ARTUR_ALVIM/SIRGAS_SHP_LOTES_5_ARTUR_ALVIM.shp' does not exist in the file system, and is not recognized as a supported dataset name.",
     "output_type": "error",
     "traceback": [
      "\u001b[0;31m---------------------------------------------------------------------------\u001b[0m",
      "\u001b[0;31mCPLE_OpenFailedError\u001b[0m                      Traceback (most recent call last)",
      "File \u001b[0;32mfiona/_shim.pyx:83\u001b[0m, in \u001b[0;36mfiona._shim.gdal_open_vector\u001b[0;34m()\u001b[0m\n",
      "File \u001b[0;32mfiona/_err.pyx:291\u001b[0m, in \u001b[0;36mfiona._err.exc_wrap_pointer\u001b[0;34m()\u001b[0m\n",
      "\u001b[0;31mCPLE_OpenFailedError\u001b[0m: '/vsizip/data/lotes/SIRGAS_SHP_LOTES_5_ARTUR_ALVIM.zip/SIRGAS_SHP_LOTES_5_ARTUR_ALVIM/SIRGAS_SHP_LOTES_5_ARTUR_ALVIM.shp' does not exist in the file system, and is not recognized as a supported dataset name.",
      "\nDuring handling of the above exception, another exception occurred:\n",
      "\u001b[0;31mDriverError\u001b[0m                               Traceback (most recent call last)",
      "\u001b[1;32m/home/fernando/dev/dash-iptu/12-gera-iptu-por-ponto-e-ano.ipynb Cell 6\u001b[0m in \u001b[0;36m<cell line: 1>\u001b[0;34m()\u001b[0m\n\u001b[1;32m      <a href='vscode-notebook-cell:/home/fernando/dev/dash-iptu/12-gera-iptu-por-ponto-e-ano.ipynb#X15sZmlsZQ%3D%3D?line=3'>4</a>\u001b[0m ano \u001b[39m=\u001b[39m \u001b[39m'\u001b[39m\u001b[39m2022\u001b[39m\u001b[39m'\u001b[39m\n\u001b[1;32m      <a href='vscode-notebook-cell:/home/fernando/dev/dash-iptu/12-gera-iptu-por-ponto-e-ano.ipynb#X15sZmlsZQ%3D%3D?line=5'>6</a>\u001b[0m d_nome, d_codigo \u001b[39m=\u001b[39m distrito\u001b[39m.\u001b[39mds_nome\u001b[39m.\u001b[39mreplace(\u001b[39m\"\u001b[39m\u001b[39m \u001b[39m\u001b[39m\"\u001b[39m, \u001b[39m\"\u001b[39m\u001b[39m_\u001b[39m\u001b[39m\"\u001b[39m), distrito\u001b[39m.\u001b[39mds_codigo\n\u001b[0;32m----> <a href='vscode-notebook-cell:/home/fernando/dev/dash-iptu/12-gera-iptu-por-ponto-e-ano.ipynb#X15sZmlsZQ%3D%3D?line=7'>8</a>\u001b[0m gdf_lote \u001b[39m=\u001b[39m gpd\u001b[39m.\u001b[39;49mread_file(\u001b[39mf\u001b[39;49m\u001b[39m'\u001b[39;49m\u001b[39mzip://data/lotes/SIRGAS_SHP_LOTES_\u001b[39;49m\u001b[39m{\u001b[39;49;00md_codigo\u001b[39m}\u001b[39;49;00m\u001b[39m_\u001b[39;49m\u001b[39m{\u001b[39;49;00md_nome\u001b[39m}\u001b[39;49;00m\u001b[39m.zip!SIRGAS_SHP_LOTES_\u001b[39;49m\u001b[39m{\u001b[39;49;00md_codigo\u001b[39m}\u001b[39;49;00m\u001b[39m_\u001b[39;49m\u001b[39m{\u001b[39;49;00md_nome\u001b[39m}\u001b[39;49;00m\u001b[39m/SIRGAS_SHP_LOTES_\u001b[39;49m\u001b[39m{\u001b[39;49;00md_codigo\u001b[39m}\u001b[39;49;00m\u001b[39m_\u001b[39;49m\u001b[39m{\u001b[39;49;00md_nome\u001b[39m}\u001b[39;49;00m\u001b[39m.shp\u001b[39;49m\u001b[39m'\u001b[39;49m)\n\u001b[1;32m      <a href='vscode-notebook-cell:/home/fernando/dev/dash-iptu/12-gera-iptu-por-ponto-e-ano.ipynb#X15sZmlsZQ%3D%3D?line=8'>9</a>\u001b[0m gdf_lote \u001b[39m=\u001b[39m gdf_lote[gdf_lote\u001b[39m.\u001b[39mlo_tp_lote \u001b[39m==\u001b[39m \u001b[39m'\u001b[39m\u001b[39mF\u001b[39m\u001b[39m'\u001b[39m]\n\u001b[1;32m     <a href='vscode-notebook-cell:/home/fernando/dev/dash-iptu/12-gera-iptu-por-ponto-e-ano.ipynb#X15sZmlsZQ%3D%3D?line=9'>10</a>\u001b[0m gdf_lote[\u001b[39m'\u001b[39m\u001b[39msqlc\u001b[39m\u001b[39m'\u001b[39m] \u001b[39m=\u001b[39m gdf_lote\u001b[39m.\u001b[39mlo_setor \u001b[39m+\u001b[39m gdf_lote\u001b[39m.\u001b[39mlo_quadra \u001b[39m+\u001b[39m gdf_lote\u001b[39m.\u001b[39mlo_lote\u001b[39m.\u001b[39mwhere(gdf_lote[\u001b[39m\"\u001b[39m\u001b[39mlo_condomi\u001b[39m\u001b[39m\"\u001b[39m] \u001b[39m==\u001b[39m \u001b[39m'\u001b[39m\u001b[39m00\u001b[39m\u001b[39m'\u001b[39m, \u001b[39m'\u001b[39m\u001b[39m0000\u001b[39m\u001b[39m'\u001b[39m) \u001b[39m+\u001b[39m gdf_lote\u001b[39m.\u001b[39mlo_condomi\n",
      "File \u001b[0;32m~/miniconda3/envs/dash/lib/python3.9/site-packages/geopandas/io/file.py:201\u001b[0m, in \u001b[0;36m_read_file\u001b[0;34m(filename, bbox, mask, rows, **kwargs)\u001b[0m\n\u001b[1;32m    198\u001b[0m     reader \u001b[39m=\u001b[39m fiona\u001b[39m.\u001b[39mopen\n\u001b[1;32m    200\u001b[0m \u001b[39mwith\u001b[39;00m fiona_env():\n\u001b[0;32m--> 201\u001b[0m     \u001b[39mwith\u001b[39;00m reader(path_or_bytes, \u001b[39m*\u001b[39;49m\u001b[39m*\u001b[39;49mkwargs) \u001b[39mas\u001b[39;00m features:\n\u001b[1;32m    202\u001b[0m \n\u001b[1;32m    203\u001b[0m         \u001b[39m# In a future Fiona release the crs attribute of features will\u001b[39;00m\n\u001b[1;32m    204\u001b[0m         \u001b[39m# no longer be a dict, but will behave like a dict. So this should\u001b[39;00m\n\u001b[1;32m    205\u001b[0m         \u001b[39m# be forwards compatible\u001b[39;00m\n\u001b[1;32m    206\u001b[0m         crs \u001b[39m=\u001b[39m (\n\u001b[1;32m    207\u001b[0m             features\u001b[39m.\u001b[39mcrs[\u001b[39m\"\u001b[39m\u001b[39minit\u001b[39m\u001b[39m\"\u001b[39m]\n\u001b[1;32m    208\u001b[0m             \u001b[39mif\u001b[39;00m features\u001b[39m.\u001b[39mcrs \u001b[39mand\u001b[39;00m \u001b[39m\"\u001b[39m\u001b[39minit\u001b[39m\u001b[39m\"\u001b[39m \u001b[39min\u001b[39;00m features\u001b[39m.\u001b[39mcrs\n\u001b[1;32m    209\u001b[0m             \u001b[39melse\u001b[39;00m features\u001b[39m.\u001b[39mcrs_wkt\n\u001b[1;32m    210\u001b[0m         )\n\u001b[1;32m    212\u001b[0m         \u001b[39m# handle loading the bounding box\u001b[39;00m\n",
      "File \u001b[0;32m~/miniconda3/envs/dash/lib/python3.9/site-packages/fiona/env.py:408\u001b[0m, in \u001b[0;36mensure_env_with_credentials.<locals>.wrapper\u001b[0;34m(*args, **kwargs)\u001b[0m\n\u001b[1;32m    405\u001b[0m \u001b[39m@wraps\u001b[39m(f)\n\u001b[1;32m    406\u001b[0m \u001b[39mdef\u001b[39;00m \u001b[39mwrapper\u001b[39m(\u001b[39m*\u001b[39margs, \u001b[39m*\u001b[39m\u001b[39m*\u001b[39mkwargs):\n\u001b[1;32m    407\u001b[0m     \u001b[39mif\u001b[39;00m local\u001b[39m.\u001b[39m_env:\n\u001b[0;32m--> 408\u001b[0m         \u001b[39mreturn\u001b[39;00m f(\u001b[39m*\u001b[39;49margs, \u001b[39m*\u001b[39;49m\u001b[39m*\u001b[39;49mkwargs)\n\u001b[1;32m    409\u001b[0m     \u001b[39melse\u001b[39;00m:\n\u001b[1;32m    410\u001b[0m         \u001b[39mif\u001b[39;00m \u001b[39misinstance\u001b[39m(args[\u001b[39m0\u001b[39m], \u001b[39mstr\u001b[39m):\n",
      "File \u001b[0;32m~/miniconda3/envs/dash/lib/python3.9/site-packages/fiona/__init__.py:264\u001b[0m, in \u001b[0;36mopen\u001b[0;34m(fp, mode, driver, schema, crs, encoding, layer, vfs, enabled_drivers, crs_wkt, **kwargs)\u001b[0m\n\u001b[1;32m    261\u001b[0m     path \u001b[39m=\u001b[39m parse_path(fp)\n\u001b[1;32m    263\u001b[0m \u001b[39mif\u001b[39;00m mode \u001b[39min\u001b[39;00m (\u001b[39m'\u001b[39m\u001b[39ma\u001b[39m\u001b[39m'\u001b[39m, \u001b[39m'\u001b[39m\u001b[39mr\u001b[39m\u001b[39m'\u001b[39m):\n\u001b[0;32m--> 264\u001b[0m     c \u001b[39m=\u001b[39m Collection(path, mode, driver\u001b[39m=\u001b[39;49mdriver, encoding\u001b[39m=\u001b[39;49mencoding,\n\u001b[1;32m    265\u001b[0m                    layer\u001b[39m=\u001b[39;49mlayer, enabled_drivers\u001b[39m=\u001b[39;49menabled_drivers, \u001b[39m*\u001b[39;49m\u001b[39m*\u001b[39;49mkwargs)\n\u001b[1;32m    266\u001b[0m \u001b[39melif\u001b[39;00m mode \u001b[39m==\u001b[39m \u001b[39m'\u001b[39m\u001b[39mw\u001b[39m\u001b[39m'\u001b[39m:\n\u001b[1;32m    267\u001b[0m     \u001b[39mif\u001b[39;00m schema:\n\u001b[1;32m    268\u001b[0m         \u001b[39m# Make an ordered dict of schema properties.\u001b[39;00m\n",
      "File \u001b[0;32m~/miniconda3/envs/dash/lib/python3.9/site-packages/fiona/collection.py:162\u001b[0m, in \u001b[0;36mCollection.__init__\u001b[0;34m(self, path, mode, driver, schema, crs, encoding, layer, vsi, archive, enabled_drivers, crs_wkt, ignore_fields, ignore_geometry, **kwargs)\u001b[0m\n\u001b[1;32m    160\u001b[0m \u001b[39mif\u001b[39;00m \u001b[39mself\u001b[39m\u001b[39m.\u001b[39mmode \u001b[39m==\u001b[39m \u001b[39m'\u001b[39m\u001b[39mr\u001b[39m\u001b[39m'\u001b[39m:\n\u001b[1;32m    161\u001b[0m     \u001b[39mself\u001b[39m\u001b[39m.\u001b[39msession \u001b[39m=\u001b[39m Session()\n\u001b[0;32m--> 162\u001b[0m     \u001b[39mself\u001b[39;49m\u001b[39m.\u001b[39;49msession\u001b[39m.\u001b[39;49mstart(\u001b[39mself\u001b[39;49m, \u001b[39m*\u001b[39;49m\u001b[39m*\u001b[39;49mkwargs)\n\u001b[1;32m    163\u001b[0m \u001b[39melif\u001b[39;00m \u001b[39mself\u001b[39m\u001b[39m.\u001b[39mmode \u001b[39min\u001b[39;00m (\u001b[39m'\u001b[39m\u001b[39ma\u001b[39m\u001b[39m'\u001b[39m, \u001b[39m'\u001b[39m\u001b[39mw\u001b[39m\u001b[39m'\u001b[39m):\n\u001b[1;32m    164\u001b[0m     \u001b[39mself\u001b[39m\u001b[39m.\u001b[39msession \u001b[39m=\u001b[39m WritingSession()\n",
      "File \u001b[0;32mfiona/ogrext.pyx:540\u001b[0m, in \u001b[0;36mfiona.ogrext.Session.start\u001b[0;34m()\u001b[0m\n",
      "File \u001b[0;32mfiona/_shim.pyx:90\u001b[0m, in \u001b[0;36mfiona._shim.gdal_open_vector\u001b[0;34m()\u001b[0m\n",
      "\u001b[0;31mDriverError\u001b[0m: '/vsizip/data/lotes/SIRGAS_SHP_LOTES_5_ARTUR_ALVIM.zip/SIRGAS_SHP_LOTES_5_ARTUR_ALVIM/SIRGAS_SHP_LOTES_5_ARTUR_ALVIM.shp' does not exist in the file system, and is not recognized as a supported dataset name."
     ]
    }
   ],
   "source": [
    "for i, distrito in gdf_distrito.iterrows():\n",
    "    \n",
    "    print(distrito.ds_nome)\n",
    "    result_file = f'iptu_por_pontos/{ano}/SIRGAS_IPTU_{ano}_{d_codigo}_{d_nome}.gpkg'\n",
    "\n",
    "    if os.path.exists(result_file):\n",
    "        continue\n",
    "\n",
    "    ano = '2022'\n",
    "\n",
    "    d_nome, d_codigo = distrito.ds_nome.replace(\" \", \"_\"), distrito.ds_codigo.zfill(2)\n",
    "\n",
    "    gdf_lote = gpd.read_file(f'zip://data/lotes/SIRGAS_SHP_LOTES_{d_codigo}_{d_nome}.zip!SIRGAS_SHP_LOTES_{d_codigo}_{d_nome}/SIRGAS_SHP_LOTES_{d_codigo}_{d_nome}.shp')\n",
    "    gdf_lote = gdf_lote[gdf_lote.lo_tp_lote == 'F']\n",
    "    gdf_lote['sqlc'] = gdf_lote.lo_setor + gdf_lote.lo_quadra + gdf_lote.lo_lote.where(gdf_lote[\"lo_condomi\"] == '00', '0000') + gdf_lote.lo_condomi\n",
    "    gdf_lote['geometry'] = gdf_lote.representative_point()\n",
    "\n",
    "    df_sqlc = df.merge(gdf_lote, how='left', on='sqlc')\n",
    "\n",
    "    gdf_lote['sq'] = gdf_lote.lo_setor + gdf_lote.lo_quadra\n",
    "    gdf_lote = gdf_lote.dissolve(by=['sq'])\n",
    "    gdf_lote.geometry = gdf_lote.representative_point()\n",
    "    df_sq = df[df_sqlc.lo_lote.isna()].merge(gdf_lote, how='left', on='sq')\n",
    "\n",
    "    columns = df.columns.to_list()\n",
    "    columns.append('geometry')\n",
    "\n",
    "    df_sqlc = df_sqlc.loc[df_sqlc.lo_lote.notna(), columns]\n",
    "    df_sqlc[\"espacializado_por_lote\"] = True\n",
    "    df_sq.rename(columns={'sqlc_x':'sqlc'}, inplace=True)\n",
    "    df_sq = df_sq.loc[df_sq.lo_lote.notna(), columns]\n",
    "    df_sq[\"espacializado_por_lote\"] = False\n",
    "\n",
    "    df_lotes = pd.concat([df_sqlc, df_sq]).reset_index(drop=True)\n",
    "    gpd.GeoDataFrame(df_lotes).to_file(result_file, driver='GPKG', crs='EPSG:31983')\n",
    "\n",
    "    break\n",
    "\n",
    "## TODO - criar interação sobre cada ano"
   ]
  },
  {
   "cell_type": "code",
   "execution_count": null,
   "metadata": {},
   "outputs": [],
   "source": []
  }
 ],
 "metadata": {
  "kernelspec": {
   "display_name": "Python 3.9.12 ('dash')",
   "language": "python",
   "name": "python3"
  },
  "language_info": {
   "codemirror_mode": {
    "name": "ipython",
    "version": 3
   },
   "file_extension": ".py",
   "mimetype": "text/x-python",
   "name": "python",
   "nbconvert_exporter": "python",
   "pygments_lexer": "ipython3",
   "version": "3.9.12"
  },
  "orig_nbformat": 4,
  "vscode": {
   "interpreter": {
    "hash": "ebf3c2fc12fbcaba6e75ea2e49af41058138f51e278d9579f2c5ffa4a897fa04"
   }
  }
 },
 "nbformat": 4,
 "nbformat_minor": 2
}
