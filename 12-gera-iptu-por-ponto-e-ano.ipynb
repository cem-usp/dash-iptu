{
 "cells": [
  {
   "cell_type": "markdown",
   "metadata": {},
   "source": [
    "# Gerando IPTU espacializado por pontos e agregados por distrito para todos exercícios"
   ]
  },
  {
   "cell_type": "code",
   "execution_count": 34,
   "metadata": {},
   "outputs": [],
   "source": [
    "import vaex\n",
    "import pandas as pd\n",
    "import geopandas as gpd\n",
    "from shapely.validation import make_valid\n",
    "from difflib import SequenceMatcher\n",
    "import numpy as np\n",
    "import pandas as pd"
   ]
  },
  {
   "cell_type": "code",
   "execution_count": 27,
   "metadata": {},
   "outputs": [],
   "source": [
    "df = vaex.open(f'data/IPTU_2022/IPTU_2022.hdf5')#.to_pandas_df()\n",
    "gdf_distrito = gpd.read_file('data/SIRGAS_GPKG_distrito.gpkg')"
   ]
  },
  {
   "cell_type": "code",
   "execution_count": 28,
   "metadata": {},
   "outputs": [],
   "source": [
    "df.setor = df['NUMERO DO CONTRIBUINTE'].str.slice(0,3)\n",
    "df.quadra = df['NUMERO DO CONTRIBUINTE'].str.slice(3,6)\n",
    "df.fillna(value='00-0', column_names=['NUMERO DO CONDOMINIO'], inplace=True)\n",
    "df.fillna(value=1., column_names=['FRACAO IDEAL'], inplace=True)\n",
    "df.fillna(value=0., column_names=['AREA CONSTRUIDA', 'AREA OCUPADA', 'AREA DO TERRENO'], inplace=True)\n",
    "df.sqlc = df.func.where(df['NUMERO DO CONDOMINIO'] == '00-0',\n",
    "                                df['NUMERO DO CONTRIBUINTE'].str.slice(0, 10) + '00',\n",
    "                                df['NUMERO DO CONTRIBUINTE'].str.slice(0, 6) + '0000' + df['NUMERO DO CONDOMINIO'].str.slice(0, 2))\n",
    "df['sq'] = df.setor + df.quadra\n",
    "df['sqlc'] = df.sqlc"
   ]
  },
  {
   "cell_type": "code",
   "execution_count": 29,
   "metadata": {},
   "outputs": [],
   "source": [
    "df = df.to_pandas_df()"
   ]
  },
  {
   "cell_type": "code",
   "execution_count": 4,
   "metadata": {},
   "outputs": [],
   "source": [
    "gdf_lote = gpd.read_file(f'zip://data/lotes/SIRGAS_SHP_LOTES_90_VILA_MARIANA.zip!SIRGAS_SHP_LOTES_90_VILA_MARIANA/SIRGAS_SHP_LOTES_90_VILA_MARIANA.shp')"
   ]
  },
  {
   "cell_type": "code",
   "execution_count": 5,
   "metadata": {},
   "outputs": [],
   "source": [
    "gdf_lote = gdf_lote[gdf_lote.lo_tp_lote == 'F']"
   ]
  },
  {
   "cell_type": "code",
   "execution_count": 6,
   "metadata": {},
   "outputs": [],
   "source": [
    "gdf_lote['sqlc'] = gdf_lote.lo_setor + gdf_lote.lo_quadra + gdf_lote.lo_lote + gdf_lote.lo_condomi\n",
    "gdf_lote['sq'] = gdf_lote.lo_setor + gdf_lote.lo_quadra \n",
    "gdf_lote['geometry'] = gdf_lote.representative_point()"
   ]
  },
  {
   "cell_type": "code",
   "execution_count": 7,
   "metadata": {},
   "outputs": [
    {
     "data": {
      "text/html": [
       "<div>\n",
       "<style scoped>\n",
       "    .dataframe tbody tr th:only-of-type {\n",
       "        vertical-align: middle;\n",
       "    }\n",
       "\n",
       "    .dataframe tbody tr th {\n",
       "        vertical-align: top;\n",
       "    }\n",
       "\n",
       "    .dataframe thead th {\n",
       "        text-align: right;\n",
       "    }\n",
       "</style>\n",
       "<table border=\"1\" class=\"dataframe\">\n",
       "  <thead>\n",
       "    <tr style=\"text-align: right;\">\n",
       "      <th></th>\n",
       "      <th>lo_setor</th>\n",
       "      <th>lo_quadra</th>\n",
       "      <th>lo_lote</th>\n",
       "      <th>lo_condomi</th>\n",
       "      <th>lo_tp_quad</th>\n",
       "      <th>lo_tp_lote</th>\n",
       "      <th>geometry</th>\n",
       "      <th>sqlc</th>\n",
       "      <th>sq</th>\n",
       "    </tr>\n",
       "  </thead>\n",
       "  <tbody>\n",
       "    <tr>\n",
       "      <th>0</th>\n",
       "      <td>042</td>\n",
       "      <td>067</td>\n",
       "      <td>0000</td>\n",
       "      <td>08</td>\n",
       "      <td>F</td>\n",
       "      <td>F</td>\n",
       "      <td>POINT (332080.671 7389398.255)</td>\n",
       "      <td>042067000008</td>\n",
       "      <td>042067</td>\n",
       "    </tr>\n",
       "    <tr>\n",
       "      <th>1</th>\n",
       "      <td>037</td>\n",
       "      <td>056</td>\n",
       "      <td>0000</td>\n",
       "      <td>07</td>\n",
       "      <td>F</td>\n",
       "      <td>F</td>\n",
       "      <td>POINT (333037.858 7390154.381)</td>\n",
       "      <td>037056000007</td>\n",
       "      <td>037056</td>\n",
       "    </tr>\n",
       "    <tr>\n",
       "      <th>2</th>\n",
       "      <td>039</td>\n",
       "      <td>025</td>\n",
       "      <td>0000</td>\n",
       "      <td>06</td>\n",
       "      <td>F</td>\n",
       "      <td>F</td>\n",
       "      <td>POINT (334986.635 7391299.199)</td>\n",
       "      <td>039025000006</td>\n",
       "      <td>039025</td>\n",
       "    </tr>\n",
       "    <tr>\n",
       "      <th>3</th>\n",
       "      <td>038</td>\n",
       "      <td>089</td>\n",
       "      <td>0000</td>\n",
       "      <td>05</td>\n",
       "      <td>F</td>\n",
       "      <td>F</td>\n",
       "      <td>POINT (333706.667 7391245.012)</td>\n",
       "      <td>038089000005</td>\n",
       "      <td>038089</td>\n",
       "    </tr>\n",
       "    <tr>\n",
       "      <th>4</th>\n",
       "      <td>039</td>\n",
       "      <td>082</td>\n",
       "      <td>0000</td>\n",
       "      <td>09</td>\n",
       "      <td>F</td>\n",
       "      <td>F</td>\n",
       "      <td>POINT (333990.193 7390290.401)</td>\n",
       "      <td>039082000009</td>\n",
       "      <td>039082</td>\n",
       "    </tr>\n",
       "    <tr>\n",
       "      <th>...</th>\n",
       "      <td>...</td>\n",
       "      <td>...</td>\n",
       "      <td>...</td>\n",
       "      <td>...</td>\n",
       "      <td>...</td>\n",
       "      <td>...</td>\n",
       "      <td>...</td>\n",
       "      <td>...</td>\n",
       "      <td>...</td>\n",
       "    </tr>\n",
       "    <tr>\n",
       "      <th>16453</th>\n",
       "      <td>037</td>\n",
       "      <td>040</td>\n",
       "      <td>0000</td>\n",
       "      <td>05</td>\n",
       "      <td>F</td>\n",
       "      <td>F</td>\n",
       "      <td>POINT (332566.590 7390580.862)</td>\n",
       "      <td>037040000005</td>\n",
       "      <td>037040</td>\n",
       "    </tr>\n",
       "    <tr>\n",
       "      <th>16454</th>\n",
       "      <td>037</td>\n",
       "      <td>040</td>\n",
       "      <td>0000</td>\n",
       "      <td>04</td>\n",
       "      <td>F</td>\n",
       "      <td>F</td>\n",
       "      <td>POINT (332808.596 7390692.502)</td>\n",
       "      <td>037040000004</td>\n",
       "      <td>037040</td>\n",
       "    </tr>\n",
       "    <tr>\n",
       "      <th>16455</th>\n",
       "      <td>039</td>\n",
       "      <td>158</td>\n",
       "      <td>0000</td>\n",
       "      <td>21</td>\n",
       "      <td>F</td>\n",
       "      <td>F</td>\n",
       "      <td>POINT (333808.730 7390280.822)</td>\n",
       "      <td>039158000021</td>\n",
       "      <td>039158</td>\n",
       "    </tr>\n",
       "    <tr>\n",
       "      <th>16456</th>\n",
       "      <td>036</td>\n",
       "      <td>048</td>\n",
       "      <td>0000</td>\n",
       "      <td>15</td>\n",
       "      <td>F</td>\n",
       "      <td>F</td>\n",
       "      <td>POINT (332082.997 7391767.759)</td>\n",
       "      <td>036048000015</td>\n",
       "      <td>036048</td>\n",
       "    </tr>\n",
       "    <tr>\n",
       "      <th>16457</th>\n",
       "      <td>037</td>\n",
       "      <td>025</td>\n",
       "      <td>0000</td>\n",
       "      <td>14</td>\n",
       "      <td>F</td>\n",
       "      <td>F</td>\n",
       "      <td>POINT (332279.374 7390769.046)</td>\n",
       "      <td>037025000014</td>\n",
       "      <td>037025</td>\n",
       "    </tr>\n",
       "  </tbody>\n",
       "</table>\n",
       "<p>16234 rows × 9 columns</p>\n",
       "</div>"
      ],
      "text/plain": [
       "      lo_setor lo_quadra lo_lote lo_condomi lo_tp_quad lo_tp_lote  \\\n",
       "0          042       067    0000         08          F          F   \n",
       "1          037       056    0000         07          F          F   \n",
       "2          039       025    0000         06          F          F   \n",
       "3          038       089    0000         05          F          F   \n",
       "4          039       082    0000         09          F          F   \n",
       "...        ...       ...     ...        ...        ...        ...   \n",
       "16453      037       040    0000         05          F          F   \n",
       "16454      037       040    0000         04          F          F   \n",
       "16455      039       158    0000         21          F          F   \n",
       "16456      036       048    0000         15          F          F   \n",
       "16457      037       025    0000         14          F          F   \n",
       "\n",
       "                             geometry          sqlc      sq  \n",
       "0      POINT (332080.671 7389398.255)  042067000008  042067  \n",
       "1      POINT (333037.858 7390154.381)  037056000007  037056  \n",
       "2      POINT (334986.635 7391299.199)  039025000006  039025  \n",
       "3      POINT (333706.667 7391245.012)  038089000005  038089  \n",
       "4      POINT (333990.193 7390290.401)  039082000009  039082  \n",
       "...                               ...           ...     ...  \n",
       "16453  POINT (332566.590 7390580.862)  037040000005  037040  \n",
       "16454  POINT (332808.596 7390692.502)  037040000004  037040  \n",
       "16455  POINT (333808.730 7390280.822)  039158000021  039158  \n",
       "16456  POINT (332082.997 7391767.759)  036048000015  036048  \n",
       "16457  POINT (332279.374 7390769.046)  037025000014  037025  \n",
       "\n",
       "[16234 rows x 9 columns]"
      ]
     },
     "execution_count": 7,
     "metadata": {},
     "output_type": "execute_result"
    }
   ],
   "source": [
    "gdf_lote"
   ]
  },
  {
   "cell_type": "code",
   "execution_count": 8,
   "metadata": {},
   "outputs": [
    {
     "data": {
      "text/plain": [
       "<AxesSubplot:>"
      ]
     },
     "execution_count": 8,
     "metadata": {},
     "output_type": "execute_result"
    },
    {
     "data": {
      "image/png": "[encoded data removed]",
      "text/plain": [
       "<Figure size 432x288 with 1 Axes>"
      ]
     },
     "metadata": {
      "needs_background": "light"
     },
     "output_type": "display_data"
    }
   ],
   "source": [
    "gdf_lote.dissolve(by=['lo_setor', 'lo_quadra']).representative_point().plot()"
   ]
  },
  {
   "cell_type": "code",
   "execution_count": null,
   "metadata": {},
   "outputs": [],
   "source": [
    "## Para cada ano de IPTU\n",
    "    ## Para cada distrito\n",
    "        ## Join dos dados de IPTU com lotes pelo SQLC, atribuindo um campo espaciliazaco pelo lote (BOOL)\n",
    "        ## Com o refugo, espacializar pelo ponto representativo da dissolucao dos polĩgonoes do refugo\n",
    "        ## Salva o arquivo em GPKG"
   ]
  },
  {
   "cell_type": "code",
   "execution_count": 63,
   "metadata": {},
   "outputs": [],
   "source": [
    "for i, distrito in gdf_distrito.iterrows():\n",
    "    \n",
    "    d_nome, d_codigo = distrito.ds_nome.replace(\" \", \"_\"), distrito.ds_codigo\n",
    "\n",
    "    gdf_lote = gpd.read_file(f'zip://data/lotes/SIRGAS_SHP_LOTES_{d_codigo}_{d_nome}.zip!SIRGAS_SHP_LOTES_{d_codigo}_{d_nome}/SIRGAS_SHP_LOTES_{d_codigo}_{d_nome}.shp')\n",
    "    ## TODO Considerar o lote condominial\n",
    "    gdf_lote['sqlc'] = gdf_lote.lo_setor + gdf_lote.lo_quadra + gdf_lote.lo_lote + gdf_lote.lo_condomi\n",
    "    gdf_lote['sq'] = gdf_lote.lo_setor + gdf_lote.lo_quadra \n",
    "    gdf_lote['geometry'] = gdf_lote.representative_point()\n",
    "\n",
    "    df_sqlc = df.merge(gdf_lote, how='left', on='sqlc')\n",
    "    df_sq = df[df_sqlc.lo_lote.isna()].merge(gdf_lote, how='left', on='sq')\n",
    "\n",
    "    ## TODO - Concatenar df_sqlc com df_sq\n",
    "    ## TODO - Salvar o resultado\n",
    "    \n",
    "    break\n",
    "\n",
    "## TODO - criar interação sobre cada ano"
   ]
  },
  {
   "cell_type": "code",
   "execution_count": 66,
   "metadata": {},
   "outputs": [
    {
     "data": {
      "text/plain": [
       "(True     3538799\n",
       " False      41392\n",
       " Name: lo_lote, dtype: int64,\n",
       " True     3533521\n",
       " False     181262\n",
       " Name: lo_lote, dtype: int64)"
      ]
     },
     "execution_count": 66,
     "metadata": {},
     "output_type": "execute_result"
    }
   ],
   "source": [
    "df_sqlc.lo_lote.isna().value_counts(), df_sq.lo_lote.isna().value_counts()"
   ]
  },
  {
   "cell_type": "code",
   "execution_count": null,
   "metadata": {},
   "outputs": [],
   "source": []
  }
 ],
 "metadata": {
  "kernelspec": {
   "display_name": "Python 3.9.12 ('dash')",
   "language": "python",
   "name": "python3"
  },
  "language_info": {
   "codemirror_mode": {
    "name": "ipython",
    "version": 3
   },
   "file_extension": ".py",
   "mimetype": "text/x-python",
   "name": "python",
   "nbconvert_exporter": "python",
   "pygments_lexer": "ipython3",
   "version": "3.9.12"
  },
  "orig_nbformat": 4,
  "vscode": {
   "interpreter": {
    "hash": "ebf3c2fc12fbcaba6e75ea2e49af41058138f51e278d9579f2c5ffa4a897fa04"
   }
  }
 },
 "nbformat": 4,
 "nbformat_minor": 2
}
