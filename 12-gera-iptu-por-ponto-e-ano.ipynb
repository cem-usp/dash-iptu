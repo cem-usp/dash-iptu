{
 "cells": [
  {
   "attachments": {},
   "cell_type": "markdown",
   "metadata": {},
   "source": [
    "# Gerando IPTU espacializado por pontos e agregados por distrito para todos exercícios"
   ]
  },
  {
   "cell_type": "code",
   "execution_count": 12,
   "metadata": {},
   "outputs": [],
   "source": [
    "import vaex\n",
    "import pandas as pd\n",
    "import geopandas as gpd\n",
    "from shapely.validation import make_valid\n",
    "from difflib import SequenceMatcher\n",
    "import numpy as np\n",
    "import pandas as pd\n",
    "import os"
   ]
  },
  {
   "cell_type": "code",
   "execution_count": 13,
   "metadata": {},
   "outputs": [],
   "source": [
    "df = vaex.open(f'data/IPTU_2018/IPTU_2018.hdf5')#.to_pandas_df()\n",
    "gdf_distrito = gpd.read_file('data/SIRGAS_GPKG_distrito.gpkg')"
   ]
  },
  {
   "cell_type": "code",
   "execution_count": 14,
   "metadata": {},
   "outputs": [],
   "source": [
    "df.setor = df['NUMERO DO CONTRIBUINTE'].str.slice(0,3)\n",
    "df.quadra = df['NUMERO DO CONTRIBUINTE'].str.slice(3,6)\n",
    "df.fillna(value='00-0', column_names=['NUMERO DO CONDOMINIO'], inplace=True)\n",
    "df.fillna(value=1., column_names=['FRACAO IDEAL'], inplace=True)\n",
    "df.fillna(value=0., column_names=['AREA CONSTRUIDA', 'AREA OCUPADA', 'AREA DO TERRENO'], inplace=True)\n",
    "df.sqlc = df.func.where(df['NUMERO DO CONDOMINIO'] == '00-0',\n",
    "                                df['NUMERO DO CONTRIBUINTE'].str.slice(0, 10) + '00',\n",
    "                                df['NUMERO DO CONTRIBUINTE'].str.slice(0, 6) + '0000' + df['NUMERO DO CONDOMINIO'].str.slice(0, 2))\n",
    "df['sq'] = df.setor + df.quadra\n",
    "df['sqlc'] = df.sqlc"
   ]
  },
  {
   "cell_type": "code",
   "execution_count": 15,
   "metadata": {},
   "outputs": [],
   "source": [
    "df = df.to_pandas_df()"
   ]
  },
  {
   "cell_type": "code",
   "execution_count": 16,
   "metadata": {},
   "outputs": [
    {
     "name": "stdout",
     "output_type": "stream",
     "text": [
      "PIRITUBA\n"
     ]
    }
   ],
   "source": [
    "for i, distrito in gdf_distrito.iterrows():\n",
    "    \n",
    "    print(distrito.ds_nome)\n",
    "    ano = '2018'\n",
    "    d_nome, d_codigo = distrito.ds_nome.replace(\" \", \"_\"), distrito.ds_codigo.zfill(2)\n",
    "    result_file = f'iptu_por_pontos/{ano}/SIRGAS_IPTU_{ano}_{d_codigo}_{d_nome}.gpkg'\n",
    "\n",
    "    if os.path.exists(result_file):\n",
    "        continue\n",
    "\n",
    "\n",
    "\n",
    "    gdf_lote = gpd.read_file(f'zip://data/lotes/SIRGAS_SHP_LOTES_{d_codigo}_{d_nome}.zip!SIRGAS_SHP_LOTES_{d_codigo}_{d_nome}/SIRGAS_SHP_LOTES_{d_codigo}_{d_nome}.shp')\n",
    "    gdf_lote = gdf_lote[gdf_lote.lo_tp_lote == 'F']\n",
    "    gdf_lote['sqlc'] = gdf_lote.lo_setor + gdf_lote.lo_quadra + gdf_lote.lo_lote.where(gdf_lote[\"lo_condomi\"] == '00', '0000') + gdf_lote.lo_condomi\n",
    "    gdf_lote['geometry'] = gdf_lote.representative_point()\n",
    "\n",
    "    df_sqlc = df.merge(gdf_lote, how='left', on='sqlc')\n",
    "\n",
    "    gdf_lote['sq'] = gdf_lote.lo_setor + gdf_lote.lo_quadra\n",
    "    gdf_lote = gdf_lote.dissolve(by=['sq'])\n",
    "    gdf_lote.geometry = gdf_lote.representative_point()\n",
    "    df_sq = df[df_sqlc.lo_lote.isna()].merge(gdf_lote, how='left', on='sq')\n",
    "\n",
    "    columns = df.columns.to_list()\n",
    "    columns.append('geometry')\n",
    "\n",
    "    df_sqlc = df_sqlc.loc[df_sqlc.lo_lote.notna(), columns]\n",
    "    df_sqlc[\"espacializado_por_lote\"] = True\n",
    "    df_sq.rename(columns={'sqlc_x':'sqlc'}, inplace=True)\n",
    "    df_sq = df_sq.loc[df_sq.lo_lote.notna(), columns]\n",
    "    df_sq[\"espacializado_por_lote\"] = False\n",
    "\n",
    "    df_lotes = pd.concat([df_sqlc, df_sq]).reset_index(drop=True)\n",
    "    gpd.GeoDataFrame(df_lotes).to_file(result_file, driver='GPKG', crs='EPSG:31983')\n",
    "\n",
    "    # break\n",
    "\n",
    "## TODO - criar interação sobre cada ano"
   ]
  },
  {
   "cell_type": "code",
   "execution_count": null,
   "metadata": {},
   "outputs": [],
   "source": [
    "import glob"
   ]
  },
  {
   "cell_type": "code",
   "execution_count": 8,
   "metadata": {},
   "outputs": [],
   "source": [
    "iptus = glob.glob('iptu_por_pontos/2018/*')"
   ]
  },
  {
   "cell_type": "code",
   "execution_count": 9,
   "metadata": {},
   "outputs": [],
   "source": [
    "df_iptus = []\n",
    "\n",
    "for iptu in iptus:\n",
    "    gdf = gpd.read_file(iptu)\n",
    "    df_iptus.append(gdf)"
   ]
  },
  {
   "cell_type": "code",
   "execution_count": 10,
   "metadata": {},
   "outputs": [],
   "source": [
    "df_iptus_concat = pd.concat(df_iptus)"
   ]
  },
  {
   "cell_type": "code",
   "execution_count": 11,
   "metadata": {},
   "outputs": [],
   "source": [
    "gdf_iptus = gpd.GeoDataFrame(df_iptus_concat.reset_index())"
   ]
  },
  {
   "cell_type": "code",
   "execution_count": 12,
   "metadata": {},
   "outputs": [
    {
     "name": "stderr",
     "output_type": "stream",
     "text": [
      "/home/fernando/miniconda3/envs/dash/lib/python3.9/site-packages/geopandas/io/file.py:362: FutureWarning: pandas.Int64Index is deprecated and will be removed from pandas in a future version. Use pandas.Index with the appropriate dtype instead.\n",
      "  pd.Int64Index,\n"
     ]
    }
   ],
   "source": [
    "gdf_iptus.to_file('tmp/IPTUs-2018-pontos.gpkg', driver='GPKG')"
   ]
  },
  {
   "cell_type": "code",
   "execution_count": null,
   "metadata": {},
   "outputs": [],
   "source": []
  }
 ],
 "metadata": {
  "kernelspec": {
   "display_name": "Python 3.9.12 ('dash')",
   "language": "python",
   "name": "python3"
  },
  "language_info": {
   "codemirror_mode": {
    "name": "ipython",
    "version": 3
   },
   "file_extension": ".py",
   "mimetype": "text/x-python",
   "name": "python",
   "nbconvert_exporter": "python",
   "pygments_lexer": "ipython3",
   "version": "3.9.12"
  },
  "orig_nbformat": 4,
  "vscode": {
   "interpreter": {
    "hash": "ebf3c2fc12fbcaba6e75ea2e49af41058138f51e278d9579f2c5ffa4a897fa04"
   }
  }
 },
 "nbformat": 4,
 "nbformat_minor": 2
}
