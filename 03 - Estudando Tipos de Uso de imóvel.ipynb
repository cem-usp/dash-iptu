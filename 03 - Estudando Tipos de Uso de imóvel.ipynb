{
 "cells": [
  {
   "cell_type": "code",
   "execution_count": 1,
   "metadata": {},
   "outputs": [
    {
     "name": "stderr",
     "output_type": "stream",
     "text": [
      "/home/fernando/miniconda3/envs/dash/lib/python3.9/site-packages/geopandas/_compat.py:111: UserWarning: The Shapely GEOS version (3.10.2-CAPI-1.16.0) is incompatible with the GEOS version PyGEOS was compiled with (3.10.1-CAPI-1.16.0). Conversions between both will be slow.\n",
      "  warnings.warn(\n"
     ]
    }
   ],
   "source": [
    "import vaex\n",
    "import geopandas as gpd\n",
    "import pandas as pd"
   ]
  },
  {
   "cell_type": "code",
   "execution_count": 2,
   "metadata": {},
   "outputs": [],
   "source": [
    "dfs = []\n",
    "\n",
    "for i in range(1995,2023):\n",
    "    dfs.append(vaex.open(f'data/IPTU_{i}/IPTU_{i}.hdf5'))"
   ]
  },
  {
   "cell_type": "code",
   "execution_count": 3,
   "metadata": {},
   "outputs": [],
   "source": [
    "df_iptu = vaex.concat(dfs)"
   ]
  },
  {
   "cell_type": "code",
   "execution_count": 4,
   "metadata": {},
   "outputs": [
    {
     "data": {
      "text/plain": [
       "82322059"
      ]
     },
     "execution_count": 4,
     "metadata": {},
     "output_type": "execute_result"
    }
   ],
   "source": [
    "len(df_iptu)"
   ]
  },
  {
   "cell_type": "code",
   "execution_count": 5,
   "metadata": {},
   "outputs": [],
   "source": [
    "df_iptu.groupby('TIPO DE USO DO IMOVEL').agg('count').export_csv('criterios/tipos-de-uso-do-imovel.csv')\n",
    "df_usos = pd.read_csv('criterios/tipos-de-uso-do-imovel.csv')"
   ]
  },
  {
   "cell_type": "code",
   "execution_count": 8,
   "metadata": {},
   "outputs": [],
   "source": [
    "df_usos.fillna('', inplace=True)"
   ]
  },
  {
   "cell_type": "code",
   "execution_count": 9,
   "metadata": {},
   "outputs": [],
   "source": [
    "df_usos['classificacao_abrangente'] = '' # Para definir entre: residencial, comercial/servicos, industrial, outros\n",
    "df_usos['titulo_padronizado'] = '' # Os títulos costumam variar, portanto esse campo será referência para os agrupamentos"
   ]
  },
  {
   "cell_type": "code",
   "execution_count": 10,
   "metadata": {},
   "outputs": [
    {
     "data": {
      "text/html": [
       "<div>\n",
       "<style scoped>\n",
       "    .dataframe tbody tr th:only-of-type {\n",
       "        vertical-align: middle;\n",
       "    }\n",
       "\n",
       "    .dataframe tbody tr th {\n",
       "        vertical-align: top;\n",
       "    }\n",
       "\n",
       "    .dataframe thead th {\n",
       "        text-align: right;\n",
       "    }\n",
       "</style>\n",
       "<table border=\"1\" class=\"dataframe\">\n",
       "  <thead>\n",
       "    <tr style=\"text-align: right;\">\n",
       "      <th></th>\n",
       "      <th>TIPO DE USO DO IMOVEL</th>\n",
       "      <th>count</th>\n",
       "      <th>classificacao_abrangente</th>\n",
       "      <th>titulo_padronizado</th>\n",
       "    </tr>\n",
       "  </thead>\n",
       "  <tbody>\n",
       "    <tr>\n",
       "      <th>0</th>\n",
       "      <td></td>\n",
       "      <td>26</td>\n",
       "      <td></td>\n",
       "      <td></td>\n",
       "    </tr>\n",
       "    <tr>\n",
       "      <th>1</th>\n",
       "      <td>Outras edificações de uso comercial, com utili...</td>\n",
       "      <td>147516</td>\n",
       "      <td></td>\n",
       "      <td></td>\n",
       "    </tr>\n",
       "    <tr>\n",
       "      <th>2</th>\n",
       "      <td>Residência e outro uso (predominância residenc...</td>\n",
       "      <td>595522</td>\n",
       "      <td></td>\n",
       "      <td></td>\n",
       "    </tr>\n",
       "    <tr>\n",
       "      <th>3</th>\n",
       "      <td>outras edificações do tipo (uso especial), com...</td>\n",
       "      <td>24600</td>\n",
       "      <td></td>\n",
       "      <td></td>\n",
       "    </tr>\n",
       "    <tr>\n",
       "      <th>4</th>\n",
       "      <td>Garagem (unidade autônoma) em edifício em cond...</td>\n",
       "      <td>178032</td>\n",
       "      <td></td>\n",
       "      <td></td>\n",
       "    </tr>\n",
       "    <tr>\n",
       "      <th>...</th>\n",
       "      <td>...</td>\n",
       "      <td>...</td>\n",
       "      <td>...</td>\n",
       "      <td>...</td>\n",
       "    </tr>\n",
       "    <tr>\n",
       "      <th>73</th>\n",
       "      <td>asilo, orfanato, creche, seminário ou convento</td>\n",
       "      <td>11795</td>\n",
       "      <td></td>\n",
       "      <td></td>\n",
       "    </tr>\n",
       "    <tr>\n",
       "      <th>74</th>\n",
       "      <td>cortiço (habitação coletiva subnormal)</td>\n",
       "      <td>41620</td>\n",
       "      <td></td>\n",
       "      <td></td>\n",
       "    </tr>\n",
       "    <tr>\n",
       "      <th>75</th>\n",
       "      <td>escola</td>\n",
       "      <td>135829</td>\n",
       "      <td></td>\n",
       "      <td></td>\n",
       "    </tr>\n",
       "    <tr>\n",
       "      <th>76</th>\n",
       "      <td>Prédio de escritório ou consultório, não em co...</td>\n",
       "      <td>173977</td>\n",
       "      <td></td>\n",
       "      <td></td>\n",
       "    </tr>\n",
       "    <tr>\n",
       "      <th>77</th>\n",
       "      <td>Armazéns gerais e depósitos</td>\n",
       "      <td>60461</td>\n",
       "      <td></td>\n",
       "      <td></td>\n",
       "    </tr>\n",
       "  </tbody>\n",
       "</table>\n",
       "<p>78 rows × 4 columns</p>\n",
       "</div>"
      ],
      "text/plain": [
       "                                TIPO DE USO DO IMOVEL   count  \\\n",
       "0                                                          26   \n",
       "1   Outras edificações de uso comercial, com utili...  147516   \n",
       "2   Residência e outro uso (predominância residenc...  595522   \n",
       "3   outras edificações do tipo (uso especial), com...   24600   \n",
       "4   Garagem (unidade autônoma) em edifício em cond...  178032   \n",
       "..                                                ...     ...   \n",
       "73     asilo, orfanato, creche, seminário ou convento   11795   \n",
       "74             cortiço (habitação coletiva subnormal)   41620   \n",
       "75                                             escola  135829   \n",
       "76  Prédio de escritório ou consultório, não em co...  173977   \n",
       "77                        Armazéns gerais e depósitos   60461   \n",
       "\n",
       "   classificacao_abrangente titulo_padronizado  \n",
       "0                                               \n",
       "1                                               \n",
       "2                                               \n",
       "3                                               \n",
       "4                                               \n",
       "..                      ...                ...  \n",
       "73                                              \n",
       "74                                              \n",
       "75                                              \n",
       "76                                              \n",
       "77                                              \n",
       "\n",
       "[78 rows x 4 columns]"
      ]
     },
     "execution_count": 10,
     "metadata": {},
     "output_type": "execute_result"
    }
   ],
   "source": [
    "df_usos"
   ]
  },
  {
   "cell_type": "code",
   "execution_count": 12,
   "metadata": {},
   "outputs": [],
   "source": [
    "df_usos.to_csv('criterios/tipos-de-uso-do-imovel-padronizados.csv')"
   ]
  },
  {
   "cell_type": "code",
   "execution_count": 13,
   "metadata": {},
   "outputs": [],
   "source": [
    "df_iptu.groupby('TIPO DE PADRAO DA CONSTRUCAO').agg('count').export_csv('criterios/tipos-de-padrao-construcao.csv')\n",
    "df_padroes = pd.read_csv('criterios/tipos-de-padrao-construcao.csv')"
   ]
  },
  {
   "cell_type": "code",
   "execution_count": 14,
   "metadata": {},
   "outputs": [],
   "source": [
    "df_padroes.fillna('', inplace=True)"
   ]
  },
  {
   "cell_type": "code",
   "execution_count": 15,
   "metadata": {},
   "outputs": [],
   "source": [
    "horizontal = df_padroes['TIPO DE PADRAO DA CONSTRUCAO'].str.contains('horizontal', case=False)\n",
    "vertical = df_padroes['TIPO DE PADRAO DA CONSTRUCAO'].str.contains('vertical', case=False)\n",
    "terreno = df_padroes['TIPO DE PADRAO DA CONSTRUCAO'].str.contains('terreno', case=False)"
   ]
  },
  {
   "cell_type": "code",
   "execution_count": 16,
   "metadata": {},
   "outputs": [],
   "source": [
    "padroes = df_padroes['TIPO DE PADRAO DA CONSTRUCAO'].str[-1].isin([l for l in 'ABCDEF'])\n",
    "df_padroes.loc[padroes, 'padrao'] = df_padroes.loc[padroes, 'TIPO DE PADRAO DA CONSTRUCAO'].str[-1]"
   ]
  },
  {
   "cell_type": "code",
   "execution_count": 17,
   "metadata": {},
   "outputs": [],
   "source": [
    "df_padroes.loc[vertical, 'contrucao'] = 'vertical'\n",
    "df_padroes.loc[horizontal, 'contrucao'] = 'horizontal'\n",
    "df_padroes.loc[terreno, 'contrucao'] = 'terreno'"
   ]
  },
  {
   "cell_type": "code",
   "execution_count": 18,
   "metadata": {},
   "outputs": [],
   "source": [
    "df_padroes.fillna('', inplace=True)"
   ]
  },
  {
   "cell_type": "code",
   "execution_count": 20,
   "metadata": {},
   "outputs": [],
   "source": [
    "df_padroes['titulo_padronizado'] = '' # Os títulos costumam variar, portanto esse campo será referência para os agrupamentos"
   ]
  },
  {
   "cell_type": "code",
   "execution_count": 23,
   "metadata": {},
   "outputs": [],
   "source": [
    "df_padroes.to_csv('criterios/tipos-de-padrao-construcao-padronizados.csv')"
   ]
  },
  {
   "cell_type": "code",
   "execution_count": null,
   "metadata": {},
   "outputs": [],
   "source": []
  }
 ],
 "metadata": {
  "interpreter": {
   "hash": "ebf3c2fc12fbcaba6e75ea2e49af41058138f51e278d9579f2c5ffa4a897fa04"
  },
  "kernelspec": {
   "display_name": "Python 3.9.12 ('dash')",
   "language": "python",
   "name": "python3"
  },
  "language_info": {
   "codemirror_mode": {
    "name": "ipython",
    "version": 3
   },
   "file_extension": ".py",
   "mimetype": "text/x-python",
   "name": "python",
   "nbconvert_exporter": "python",
   "pygments_lexer": "ipython3",
   "version": "3.9.12"
  },
  "orig_nbformat": 4
 },
 "nbformat": 4,
 "nbformat_minor": 2
}
