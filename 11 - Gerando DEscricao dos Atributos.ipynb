{
 "cells": [
  {
   "cell_type": "code",
   "execution_count": 1,
   "metadata": {},
   "outputs": [],
   "source": [
    "atributos = [\n",
    "    'Quantidade de Unidades',\n",
    "    'Quantidade de Unidades Condominiais',\n",
    "    'Tamanho Médio da Unidade Condominial',\n",
    "    'Tamanho médio dos Terrenos',\n",
    "    'Área Total dos terrenos-lotes',\n",
    "    'Área Total Ocupada',\n",
    "    'Área Total Construída',\n",
    "    'Valor Total dos Terrenos',\n",
    "    'Valor Total das Construções',\n",
    "    'CA médio',\n",
    "    'TO médio',\n",
    "    'CA médio em lotes condominiais',\n",
    "    'TO médio em lotes condominiais',\n",
    "    'CA médio em lotes não condominiais',\n",
    "    'TO médio em lotes não condominiais',\n",
    "    'Comprimento Médio da Testada',\n",
    "    'Número médio de Pavimentos',\n",
    "    'Fator de obsolecência médio',\n",
    "    'Residencial vertical Baixo (m2)',\n",
    "    'Residencial vertical Médio (m2)',\n",
    "    'Residencial vertical Alto (m2)',\n",
    "    'Residencial horizontal Baixo (m2)',\n",
    "    'Residencial horizontal Médio (m2)',\n",
    "    'Residencial horizontal Alto (m2)',\n",
    "    'Comercial vertical Baixo (m2)',\n",
    "    'Comercial vertical Médio (m2)',\n",
    "    'Comercial vertical Alto (m2)',\n",
    "    'Comercial horizontal Baixo (m2)',\n",
    "    'Comercial horizontal Alto (m2)',\n",
    "    'Comercial horizontal Médio (m2)',\n",
    "    'Terreno (m2)',\n",
    "    'Outros Usos (m2)',\n",
    "    'Residencial vertical Baixo (qt)',\n",
    "    'Residencial vertical Médio (qt)',\n",
    "    'Residencial vertical Alto (qt)',\n",
    "    'Residencial horizontal Baixo (qt)',\n",
    "    'Residencial horizontal Médio (qt)',\n",
    "    'Residencial horizontal Alto (qt)',\n",
    "    'Comercial vertical Baixo (qt)',\n",
    "    'Comercial vertical Médio (qt)',\n",
    "    'Comercial vertical Alto (qt)',\n",
    "    'Comercial horizontal Baixo (qt)',\n",
    "    'Comercial horizontal Alto (qt)',\n",
    "    'Comercial horizontal Médio (qt)',\n",
    "    'Terreno (qt)',\n",
    "    'Outros Usos (qt)'\n",
    "]"
   ]
  },
  {
   "cell_type": "code",
   "execution_count": 3,
   "metadata": {},
   "outputs": [],
   "source": [
    "for a in atributos:\n",
    "    f = open(f'descricao_atributos/{a}.md', 'w')\n",
    "    f.write(f'## {a}')\n",
    "    f.close()"
   ]
  },
  {
   "cell_type": "code",
   "execution_count": 13,
   "metadata": {},
   "outputs": [],
   "source": [
    "r = open('descricao_atributos/Área Total Construída.md', 'r')"
   ]
  },
  {
   "cell_type": "code",
   "execution_count": 14,
   "metadata": {},
   "outputs": [
    {
     "data": {
      "text/plain": [
       "'## Área Total Construída\\n\\nA área contruída está presente no cadastro do IPTU para cada lançamento no campo originalmente chamado de `AREA CONSTRUIDA`'"
      ]
     },
     "execution_count": 14,
     "metadata": {},
     "output_type": "execute_result"
    }
   ],
   "source": [
    "r.read()"
   ]
  },
  {
   "cell_type": "code",
   "execution_count": null,
   "metadata": {},
   "outputs": [],
   "source": []
  }
 ],
 "metadata": {
  "kernelspec": {
   "display_name": "Python 3.9.12 ('venv': venv)",
   "language": "python",
   "name": "python3"
  },
  "language_info": {
   "codemirror_mode": {
    "name": "ipython",
    "version": 3
   },
   "file_extension": ".py",
   "mimetype": "text/x-python",
   "name": "python",
   "nbconvert_exporter": "python",
   "pygments_lexer": "ipython3",
   "version": "3.9.12"
  },
  "orig_nbformat": 4,
  "vscode": {
   "interpreter": {
    "hash": "c1fb877d92570f95ca9cf21ba8296078ed0d1ac0c428c438ea8488773b3aa6c6"
   }
  }
 },
 "nbformat": 4,
 "nbformat_minor": 2
}
