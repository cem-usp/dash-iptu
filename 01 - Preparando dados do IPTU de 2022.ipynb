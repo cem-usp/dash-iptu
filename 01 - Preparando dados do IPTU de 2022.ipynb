{
 "cells": [
  {
   "cell_type": "markdown",
   "metadata": {},
   "source": [
    "# Preparando os dados do IPTU de 2022\n",
    "\n",
    "Para o primeiro experimento vamos preparar os dados do IPTU de 2022, e posteriormente validar com as informações apresentadas no DashBoard"
   ]
  },
  {
   "cell_type": "code",
   "execution_count": null,
   "metadata": {},
   "outputs": [],
   "source": [
    "import vaex\n",
    "import geopandas as gpd\n",
    "from shapely.validation import make_valid\n",
    "from difflib import SequenceMatcher\n",
    "import numpy as np\n",
    "import pandas as pd\n",
    "# import pygeos"
   ]
  },
  {
   "cell_type": "code",
   "execution_count": null,
   "metadata": {},
   "outputs": [],
   "source": [
    "gdf_distritos = gpd.read_file('data/SIRGAS_GPKG_distrito.gpkg')\n",
    "\n",
    "gdf_quadras = gpd.read_file('zip://data/SIRGAS_SHP_quadraMDSF.zip!SIRGAS_SHP_quadraMDSF/SIRGAS_SHP_quadraMDSF.shp')\n",
    "gdf_quadras = gdf_quadras.set_crs(epsg=31983)\n",
    "gdf_quadras = gdf_quadras[gdf_quadras.qd_tipo == 'F']\n",
    "gdf_quadras = gdf_quadras.dissolve(['qd_setor', 'qd_fiscal']).reset_index()\n",
    "gdf_quadras_centroid = gdf_quadras.copy()\n",
    "gdf_quadras_centroid.geometry = gdf_quadras_centroid.representative_point()"
   ]
  },
  {
   "cell_type": "code",
   "execution_count": null,
   "metadata": {},
   "outputs": [],
   "source": [
    "gdf_quadras.shape, gdf_quadras_centroid.shape"
   ]
  },
  {
   "cell_type": "code",
   "execution_count": null,
   "metadata": {},
   "outputs": [],
   "source": [
    "gdf_quadras_distritos = gdf_quadras_centroid.sjoin(gdf_distritos, how='left', predicate='intersects')\n",
    "gdf_quadras_distritos.drop('index_right', axis=1, inplace=True)"
   ]
  },
  {
   "cell_type": "code",
   "execution_count": null,
   "metadata": {},
   "outputs": [],
   "source": [
    "gdf_quadras.shape, gdf_quadras_distritos.shape"
   ]
  },
  {
   "cell_type": "code",
   "execution_count": null,
   "metadata": {},
   "outputs": [],
   "source": [
    "gdf_od = gpd.read_file('zip://data/SIRGAS_SHP_origemdestino_2017.zip!SIRGAS_SHP_origemdestino_2017')\n",
    "gdf_od_sp = gdf_od[gdf_od.od_municip == '36']\n",
    "gdf_od_sp.set_crs(epsg=31983, inplace=True)\n",
    "gdf_quadras_distritos_od = gdf_quadras_distritos.sjoin(gdf_od_sp, how='left', predicate='intersects')\n",
    "\n",
    "df_quadras_distritos_od = gdf_quadras_distritos_od.loc[:, ['qd_setor', 'qd_fiscal', 'ds_codigo', 'ds_nome', 'ds_cd_sub', 'ds_subpref', 'od_id', 'od_nome']]\n",
    "df_quadras_distritos_od.loc[:, ['sq']] = df_quadras_distritos_od.qd_setor + df_quadras_distritos_od.qd_fiscal\n",
    "# df_quadras_distritos_od.drop_duplicates(keep='first', inplace=True, ignore_index=True)"
   ]
  },
  {
   "cell_type": "code",
   "execution_count": null,
   "metadata": {},
   "outputs": [],
   "source": [
    "gdf_quadras.shape, df_quadras_distritos_od.shape"
   ]
  },
  {
   "cell_type": "code",
   "execution_count": null,
   "metadata": {},
   "outputs": [],
   "source": [
    "gdf_ponderacao_censo = gpd.read_file('data/areas-ponderacao-censo.gpkg', layer='areas-ponderacao-censo-2010')\n",
    "df_quadras_censo =  gdf_quadras_centroid.sjoin(gdf_ponderacao_censo, how='left', predicate='intersects')"
   ]
  },
  {
   "cell_type": "code",
   "execution_count": null,
   "metadata": {},
   "outputs": [],
   "source": [
    "df_quadras_distritos_od.shape, df_quadras_censo[['COD_AED', 'COD_AED_S']].shape"
   ]
  },
  {
   "cell_type": "code",
   "execution_count": null,
   "metadata": {},
   "outputs": [],
   "source": [
    "df_quadras_distritos_od = pd.concat(\n",
    "    [df_quadras_distritos_od,\n",
    "    df_quadras_censo[['COD_AED', 'COD_AED_S']]],\n",
    "    axis=1\n",
    ")"
   ]
  },
  {
   "cell_type": "code",
   "execution_count": null,
   "metadata": {},
   "outputs": [],
   "source": [
    "df_quadras_distritos_od.columns"
   ]
  },
  {
   "cell_type": "code",
   "execution_count": null,
   "metadata": {},
   "outputs": [],
   "source": [
    "gdf_od_sp = gdf_od_sp.to_file('data/OD-sp.gpkg', driver='GPKG')"
   ]
  },
  {
   "cell_type": "code",
   "execution_count": null,
   "metadata": {},
   "outputs": [],
   "source": [
    "df_quadras_distritos_od"
   ]
  },
  {
   "cell_type": "code",
   "execution_count": null,
   "metadata": {},
   "outputs": [],
   "source": [
    "## TODO\n",
    "# Verificar essa inconsistencia\n",
    "gdf_quadras_distritos[gdf_quadras_distritos.ds_codigo.isna()]"
   ]
  },
  {
   "cell_type": "code",
   "execution_count": null,
   "metadata": {},
   "outputs": [],
   "source": [
    "dfs = []\n",
    "\n",
    "for i in range(1995,2023):\n",
    "\n",
    "    print(f'Processando {i}')\n",
    "    \n",
    "    # df = vaex.open(f'data/IPTU_{i}/IPTU_{i}.hdf5')\n",
    "    df = vaex.open(f'data//IPTU-HDF5/IPTU_{i}/IPTU_{i}.hdf5')\n",
    "\n",
    "    df.setor = df['NUMERO DO CONTRIBUINTE'].str.slice(0,3)\n",
    "    df.quadra = df['NUMERO DO CONTRIBUINTE'].str.slice(3,6)\n",
    "    df.fillna(value='00-0', column_names=['NUMERO DO CONDOMINIO'], inplace=True)\n",
    "    df.fillna(value=1., column_names=['FRACAO IDEAL'], inplace=True)\n",
    "    df.fillna(value=0., column_names=['AREA CONSTRUIDA', 'AREA OCUPADA', 'AREA DO TERRENO'], inplace=True)\n",
    "    df.sqlc = df.func.where(df['NUMERO DO CONDOMINIO'] == '00-0',\n",
    "                                    df['NUMERO DO CONTRIBUINTE'].str.slice(0, 10) + '00',\n",
    "                                    df['NUMERO DO CONTRIBUINTE'].str.slice(0, 6) + '0000' + df['NUMERO DO CONDOMINIO'].str.slice(0, 2))\n",
    "    df['sq'] = df.setor + df.quadra\n",
    "    df['sqlc'] = df.sqlc\n",
    "    df_sqlc_ac = df.groupby('sqlc', agg={'area_contruida_total': vaex.agg.sum('AREA CONSTRUIDA')})\n",
    "    df = df.join(df_sqlc_ac, on='sqlc')\n",
    "    df['fracao_ideal'] = df.func.where(df['FRACAO IDEAL'] == 0.,  \n",
    "                                                df['AREA CONSTRUIDA'] / df['area_contruida_total'],\n",
    "                                                df['FRACAO IDEAL'])\n",
    "    df['ca'] = (df['AREA CONSTRUIDA'] / df['fracao_ideal']) / df['AREA DO TERRENO']\n",
    "    df['to'] = df['AREA OCUPADA'] / df['AREA DO TERRENO']\n",
    "\n",
    "    df['valor_terreno'] = df['fracao_ideal'] * df['VALOR DO M2 DO TERRENO'] * df['AREA DO TERRENO']\n",
    "    df['valor_construcao'] = df['VALOR DO M2 DE CONSTRUCAO'] * df['AREA CONSTRUIDA']\n",
    "\n",
    "    dfs.append(df)\n",
    "    # break\n"
   ]
  },
  {
   "cell_type": "code",
   "execution_count": null,
   "metadata": {},
   "outputs": [],
   "source": [
    "df_iptu = vaex.concat(dfs)"
   ]
  },
  {
   "cell_type": "code",
   "execution_count": null,
   "metadata": {},
   "outputs": [],
   "source": [
    "df_iptu.shape"
   ]
  },
  {
   "cell_type": "code",
   "execution_count": null,
   "metadata": {},
   "outputs": [],
   "source": [
    "## Parece que para alguns lotes condominiais o terreno está proporcional à fracao ideal\n",
    "df_iptu[df_iptu.ca > 100]['AREA CONSTRUIDA', 'fracao_ideal', 'AREA DO TERRENO', 'area_contruida_total', 'ANO DO EXERCICIO']"
   ]
  },
  {
   "cell_type": "code",
   "execution_count": null,
   "metadata": {},
   "outputs": [],
   "source": [
    "df_iptu[df_iptu['NUMERO DO CONDOMINIO'] == '00-0'].shape"
   ]
  },
  {
   "cell_type": "code",
   "execution_count": null,
   "metadata": {},
   "outputs": [],
   "source": [
    "df_iptu.shape"
   ]
  },
  {
   "cell_type": "code",
   "execution_count": null,
   "metadata": {},
   "outputs": [],
   "source": [
    "df_quadras_distritos_od['sqod'] = df_quadras_distritos_od.sq + df_quadras_distritos_od.od_id.str.pad(width=3, side='left', fillchar='0')"
   ]
  },
  {
   "cell_type": "code",
   "execution_count": null,
   "metadata": {},
   "outputs": [],
   "source": [
    "df_quadras_distritos_od.shape"
   ]
  },
  {
   "cell_type": "code",
   "execution_count": null,
   "metadata": {},
   "outputs": [],
   "source": [
    "df_quadras_distritos_od"
   ]
  },
  {
   "cell_type": "code",
   "execution_count": null,
   "metadata": {},
   "outputs": [],
   "source": [
    "df_quadras_distritos_od = df_quadras_distritos_od.drop_duplicates(subset=['sq'])"
   ]
  },
  {
   "cell_type": "code",
   "execution_count": null,
   "metadata": {},
   "outputs": [],
   "source": [
    "df_quadras_distritos_od.shape, df_iptu.shape"
   ]
  },
  {
   "cell_type": "code",
   "execution_count": null,
   "metadata": {},
   "outputs": [],
   "source": [
    "df_iptu = df_iptu.join(vaex.from_pandas(df_quadras_distritos_od), on='sq', how='left',  \n",
    "            allow_duplication=False, inplace=False)"
   ]
  },
  {
   "cell_type": "code",
   "execution_count": null,
   "metadata": {},
   "outputs": [],
   "source": [
    "df_quadras_distritos_od.shape, df_iptu.shape"
   ]
  },
  {
   "cell_type": "markdown",
   "metadata": {},
   "source": [
    "## Adicionando informações de Uso"
   ]
  },
  {
   "cell_type": "code",
   "execution_count": null,
   "metadata": {},
   "outputs": [],
   "source": [
    "df_usos_2022 = df_iptu[df_iptu['ANO DO EXERCICIO'] == 2022].groupby('TIPO DE USO DO IMOVEL').agg('count').to_pandas_df()\n",
    "df_usos_2022"
   ]
  },
  {
   "cell_type": "code",
   "execution_count": null,
   "metadata": {},
   "outputs": [],
   "source": [
    "df_usos = df_iptu.groupby('TIPO DE USO DO IMOVEL').agg('count').to_pandas_df()"
   ]
  },
  {
   "cell_type": "code",
   "execution_count": null,
   "metadata": {},
   "outputs": [],
   "source": [
    "df_usos.fillna('', inplace=True)"
   ]
  },
  {
   "cell_type": "code",
   "execution_count": null,
   "metadata": {},
   "outputs": [],
   "source": [
    "results, ratios = [], []\n",
    "\n",
    "for i, row in df_usos.iterrows():\n",
    "\n",
    "    similaridade = df_usos_2022['TIPO DE USO DO IMOVEL'].apply(lambda x: SequenceMatcher(None, row['TIPO DE USO DO IMOVEL'], x).ratio())\n",
    "    \n",
    "    results.append(df_usos_2022.iloc[similaridade.idxmax()]['TIPO DE USO DO IMOVEL'])\n",
    "\n",
    "    ratios.append(similaridade.max())\n",
    "\n",
    "df_usos['titulo_padronizado'] = results # Os títulos costumam variar, portanto esse campo será referência para os agrupamentos\n",
    "df_usos['relacao_de_assertividade_com_titulo_padronizado'] = ratios"
   ]
  },
  {
   "cell_type": "code",
   "execution_count": null,
   "metadata": {},
   "outputs": [],
   "source": [
    "df_usos"
   ]
  },
  {
   "cell_type": "code",
   "execution_count": null,
   "metadata": {},
   "outputs": [],
   "source": [
    "residencial = ['residencial', 'residência', 'apartamento', 'cortiço']\n",
    "comercial = ['comércio', 'comercial', 'posto', 'loja']\n",
    "servicos =  ['hotel', 'radioemissora', 'flat', 'serviço', 'clube', 'oficina', 'hospital', 'templo', 'escritórios', 'consultórios', 'escritório', 'consultório', 'asilo', 'creche', 'prédio de garagens', 'escola']\n",
    "industrial = ['Indústria', 'armazéns']"
   ]
  },
  {
   "cell_type": "code",
   "execution_count": null,
   "metadata": {},
   "outputs": [],
   "source": [
    "class_residencial = df_usos.loc[:, 'titulo_padronizado'].str.contains(r'\\b(?:{})\\b'.format('|'.join(residencial)), case=False)\n",
    "class_comercial = df_usos.loc[:, 'titulo_padronizado'].str.contains(r'\\b(?:{})\\b'.format('|'.join(comercial)), case=False)\n",
    "class_servicos = df_usos.loc[:, 'titulo_padronizado'].str.contains(r'\\b(?:{})\\b'.format('|'.join(servicos)), case=False)\n",
    "class_industrial = df_usos.loc[:, 'titulo_padronizado'].str.contains(r'\\b(?:{})\\b'.format('|'.join(industrial)), case=False)\n",
    "\n",
    "df_usos.loc[class_residencial, ['classificacao_abrangente']] = 'Residencial'\n",
    "df_usos.loc[class_comercial, ['classificacao_abrangente']] = 'Comercial'\n",
    "df_usos.loc[class_servicos, ['classificacao_abrangente']] = 'Serviços'\n",
    "df_usos.loc[class_industrial, ['classificacao_abrangente']] = 'Industrial'\n",
    "\n",
    "df_usos.loc[df_usos.classificacao_abrangente.isna(), ['classificacao_abrangente']] = 'Outros'"
   ]
  },
  {
   "cell_type": "code",
   "execution_count": null,
   "metadata": {},
   "outputs": [],
   "source": [
    "# df_iptu['TIPO DE USO DO IMOVEL']\n",
    "df_usos = vaex.from_pandas(df_usos.loc[df_usos['TIPO DE USO DO IMOVEL'] != '', ['TIPO DE USO DO IMOVEL', 'classificacao_abrangente']])\n",
    "df_iptu = df_iptu.join(df_usos, on='TIPO DE USO DO IMOVEL')"
   ]
  },
  {
   "cell_type": "code",
   "execution_count": null,
   "metadata": {},
   "outputs": [],
   "source": [
    "df_iptu[['classificacao_abrangente']]"
   ]
  },
  {
   "cell_type": "code",
   "execution_count": null,
   "metadata": {},
   "outputs": [],
   "source": [
    "df_iptu.shape"
   ]
  },
  {
   "cell_type": "code",
   "execution_count": null,
   "metadata": {},
   "outputs": [],
   "source": [
    "df_padroes_usos_2022 = df_iptu[df_iptu['ANO DO EXERCICIO'] == 2022].groupby('TIPO DE PADRAO DA CONSTRUCAO').agg('count').to_pandas_df()\n",
    "df_padroes_usos_2022.loc[df_padroes_usos_2022['TIPO DE PADRAO DA CONSTRUCAO'] == 'TERRENO', 'TIPO DE PADRAO DA CONSTRUCAO'] = 'Terreno'\n",
    "df_padroes_usos_2022"
   ]
  },
  {
   "cell_type": "code",
   "execution_count": null,
   "metadata": {},
   "outputs": [],
   "source": [
    "df_padroes_usos = df_iptu.groupby('TIPO DE PADRAO DA CONSTRUCAO').agg('count').to_pandas_df()\n",
    "df_padroes_usos.fillna('', inplace=True)\n",
    "df_padroes_usos"
   ]
  },
  {
   "cell_type": "code",
   "execution_count": null,
   "metadata": {},
   "outputs": [],
   "source": [
    "results, ratios = [], []\n",
    "\n",
    "for i, row in df_padroes_usos.iterrows():\n",
    "\n",
    "    similaridade = df_padroes_usos_2022['TIPO DE PADRAO DA CONSTRUCAO'].apply(lambda x: SequenceMatcher(None, row['TIPO DE PADRAO DA CONSTRUCAO'], x).ratio())\n",
    "    \n",
    "    results.append(df_padroes_usos_2022.iloc[similaridade.idxmax()]['TIPO DE PADRAO DA CONSTRUCAO'])\n",
    "\n",
    "    ratios.append(similaridade.max())\n",
    "\n",
    "df_padroes_usos['titulo_padronizado'] = results # Os títulos costumam variar, portanto esse campo será referência para os agrupamentos\n",
    "df_padroes_usos['relacao_de_assertividade_com_titulo_padronizado'] = ratios"
   ]
  },
  {
   "cell_type": "code",
   "execution_count": null,
   "metadata": {},
   "outputs": [],
   "source": [
    "# df_padroes_usos\n",
    "df_padroes_usos['tipo_de_uso'] = df_padroes_usos['titulo_padronizado'].str.split(\"-\").apply(lambda x: x[0] if x[0][-1] != ' ' else x[0][:-1])\n",
    "df_padroes_usos['padrao_de_uso'] = df_padroes_usos['titulo_padronizado'].str.split(\"-\").apply(lambda x: x[-1][-1] if x[-1][-3] == 'o' else '')\n",
    "\n",
    "df_padroes_usos.loc[(df_padroes_usos.padrao_de_uso == 'A') |\n",
    "                    (df_padroes_usos.padrao_de_uso == 'B'),\n",
    "                    'classe_de_uso'] = 'Baixo'\n",
    "\n",
    "df_padroes_usos.loc[df_padroes_usos.padrao_de_uso == 'C',\n",
    "                    'classe_de_uso'] = 'Médio'\n",
    "\n",
    "df_padroes_usos.loc[(df_padroes_usos.padrao_de_uso == 'D') |\n",
    "                    (df_padroes_usos.padrao_de_uso == 'E') |\n",
    "                    (df_padroes_usos.padrao_de_uso == 'F'),\n",
    "                    'classe_de_uso'] = 'Alto'\n",
    "\n",
    "df_padroes_usos.fillna('', inplace=True)\n"
   ]
  },
  {
   "cell_type": "code",
   "execution_count": null,
   "metadata": {},
   "outputs": [],
   "source": [
    "df_padroes_usos"
   ]
  },
  {
   "cell_type": "code",
   "execution_count": null,
   "metadata": {},
   "outputs": [],
   "source": [
    "df_padroes_usos.rename(columns={'titulo_padronizado':'padrao_construcao'}, inplace=True)\n",
    "df_padroes_usos = vaex.from_pandas(df_padroes_usos.loc[df_padroes_usos['TIPO DE PADRAO DA CONSTRUCAO'] != '', ['TIPO DE PADRAO DA CONSTRUCAO', 'padrao_construcao', 'tipo_de_uso', 'padrao_de_uso', 'classe_de_uso']])\n",
    "df_iptu = df_iptu.join(df_padroes_usos, on='TIPO DE PADRAO DA CONSTRUCAO')"
   ]
  },
  {
   "cell_type": "code",
   "execution_count": null,
   "metadata": {},
   "outputs": [],
   "source": [
    "df_iptu"
   ]
  },
  {
   "cell_type": "markdown",
   "metadata": {},
   "source": [
    "## Processando as totalizacoes"
   ]
  },
  {
   "cell_type": "code",
   "execution_count": null,
   "metadata": {},
   "outputs": [],
   "source": [
    "gdf_distritos['area'] = gdf_distritos.area\n",
    "gdf_distritos.to_crs(epsg=4674, inplace=True)"
   ]
  },
  {
   "cell_type": "code",
   "execution_count": null,
   "metadata": {},
   "outputs": [],
   "source": [
    "df_iptu['sq'] = df_iptu.qd_setor + df_iptu.qd_fiscal"
   ]
  },
  {
   "cell_type": "code",
   "execution_count": null,
   "metadata": {},
   "outputs": [],
   "source": [
    "# df_iptu.sq"
   ]
  },
  {
   "cell_type": "code",
   "execution_count": null,
   "metadata": {},
   "outputs": [],
   "source": [
    "# df_iptu.fillna(value='0', column_names=['sq'], inplace=True)\n",
    "# df_iptu['sq'] = df_iptu['sq'].astype('int')\n",
    "# df_iptu.categorize('sq', inplace=True)"
   ]
  },
  {
   "cell_type": "code",
   "execution_count": null,
   "metadata": {},
   "outputs": [],
   "source": [
    "# df_iptu.head(1)\n",
    "df_iptu.fillna(value='0', column_names=['ds_codigo'], inplace=True)\n",
    "df_iptu['distrito'] = df_iptu['ds_codigo'].astype('int')\n",
    "df_iptu.categorize('distrito', inplace=True)\n",
    "# df_iptu.head(1)"
   ]
  },
  {
   "cell_type": "code",
   "execution_count": null,
   "metadata": {},
   "outputs": [],
   "source": [
    "# df_iptu['distrito'] = df_iptu['ds_codigo'].astype('int')\n",
    "df_iptu['ano'] = df_iptu['ANO DO EXERCICIO'].astype('int')\n",
    "df_iptu.categorize('ano', inplace=True)"
   ]
  },
  {
   "cell_type": "code",
   "execution_count": null,
   "metadata": {},
   "outputs": [],
   "source": [
    "df_iptu.fillna(value='0', column_names=['od_id'], inplace=True)\n",
    "df_iptu['od'] = df_iptu['od_id'].astype('int')\n",
    "df_iptu.categorize('od', inplace=True)"
   ]
  },
  {
   "cell_type": "code",
   "execution_count": null,
   "metadata": {},
   "outputs": [],
   "source": [
    "df_iptu.shape"
   ]
  },
  {
   "cell_type": "code",
   "execution_count": null,
   "metadata": {},
   "outputs": [],
   "source": [
    "df_iptu.fillna(value='0', column_names=['ds_cd_sub'], inplace=True)\n",
    "df_iptu['subprefeitura'] = df_iptu['ds_cd_sub'].astype('int')\n",
    "df_iptu.categorize('subprefeitura', inplace=True)"
   ]
  },
  {
   "cell_type": "code",
   "execution_count": null,
   "metadata": {},
   "outputs": [],
   "source": [
    "df_iptu.fillna(value='0', column_names=['COD_AED_S'], inplace=True)\n",
    "df_iptu['censo'] = df_iptu['COD_AED_S'].astype('int')\n",
    "df_iptu.categorize('censo', inplace=True)\n"
   ]
  },
  {
   "cell_type": "code",
   "execution_count": null,
   "metadata": {},
   "outputs": [],
   "source": [
    "# df_iptu_grouped_distrito = \\\n",
    "def agrupamento(campo):\n",
    "    return df_iptu.groupby([campo, 'ano'],agg={\n",
    "                        'Quantidade de Unidades': 'count', \n",
    "                        'Quantidade de Unidades Condominiais': vaex.agg.count('sqlc',\n",
    "                                                                        selection=df_iptu['NUMERO DO CONDOMINIO'] != '00-0'),\n",
    "                        'Tamanho Médio da Unidade Condominial': vaex.agg.mean('AREA CONSTRUIDA', \n",
    "                                                                        selection=df_iptu['NUMERO DO CONDOMINIO'] != '00-0'),\n",
    "                        'Tamanho médio dos Terrenos': vaex.agg.mean('AREA DO TERRENO'),\n",
    "                        'Área Total dos terrenos-lotes': vaex.agg.sum('AREA DO TERRENO'),\n",
    "                        'Área Total Ocupada': vaex.agg.sum('AREA OCUPADA'),\n",
    "                        'Área Total Construída':vaex.agg.sum('AREA CONSTRUIDA'),\n",
    "                        'Valor Total dos Terrenos': vaex.agg.sum('valor_terreno'),\n",
    "                        'Valor Total das Construções': vaex.agg.sum('valor_construcao'),\n",
    "                        'CA médio': vaex.agg.mean('ca'),\n",
    "                        'TO médio': vaex.agg.mean('to'),\n",
    "                        'CA médio em lotes condominiais': vaex.agg.mean('ca',\n",
    "                                                                        selection=df_iptu['NUMERO DO CONDOMINIO'] != '00-0'),\n",
    "                        'TO médio em lotes condominiais': vaex.agg.mean('to',\n",
    "                                                                        selection=df_iptu['NUMERO DO CONDOMINIO'] != '00-0'),\n",
    "                        'CA médio em lotes não condominiais': vaex.agg.mean('ca',\n",
    "                                                                        selection=df_iptu['NUMERO DO CONDOMINIO'] == '00-0'),\n",
    "                        'TO médio em lotes não condominiais': vaex.agg.mean('to',\n",
    "                                                                        selection=df_iptu['NUMERO DO CONDOMINIO'] == '00-0'),\n",
    "                        'Comprimento Médio da Testada': vaex.agg.mean('TESTADA PARA CALCULO'),\n",
    "                        'Número médio de Pavimentos': vaex.agg.mean('QUANTIDADE DE PAVIMENTOS'),\n",
    "                        'Fator de obsolecência médio': vaex.agg.mean('FATOR DE OBSOLESCENCIA'),\n",
    "                        'Residencial': vaex.agg.sum('AREA CONSTRUIDA', \n",
    "                                                                    selection=df_iptu['classificacao_abrangente'] == 'Residencial'),\n",
    "                        'Comercial': vaex.agg.sum('AREA CONSTRUIDA', \n",
    "                                                                    selection=df_iptu['classificacao_abrangente'] == 'Comercial'),\n",
    "                        'Serviços': vaex.agg.sum('AREA CONSTRUIDA', \n",
    "                                                                    selection=df_iptu['classificacao_abrangente'] == 'Serviços'),\n",
    "                        'Industrial': vaex.agg.sum('AREA CONSTRUIDA', \n",
    "                                                                    selection=df_iptu['classificacao_abrangente'] == 'Industrial'),\n",
    "                        'Outros': vaex.agg.sum('AREA CONSTRUIDA', \n",
    "                                                                    selection=df_iptu['classificacao_abrangente'] == 'Outros'),\n",
    "                        # 'Padrão de Construção A - Baixo': vaex.agg.sum('AREA CONSTRUIDA', \n",
    "                        #                                             selection=df_iptu['padrao_de_uso'] == 'A'),\n",
    "                        # 'Padrão de Construção B - Baixo': vaex.agg.sum('AREA CONSTRUIDA', \n",
    "                        #                                             selection=df_iptu['padrao_de_uso'] == 'B'),                                                                                                                                                                \n",
    "                        # 'Padrão de Construção C - Médio': vaex.agg.sum('AREA CONSTRUIDA', \n",
    "                        #                                             selection=df_iptu['padrao_de_uso'] == 'C'),\n",
    "                        # 'Padrão de Construção D - Alto': vaex.agg.sum('AREA CONSTRUIDA', \n",
    "                        #                                             selection=df_iptu['padrao_de_uso'] == 'D'),\n",
    "                        # 'Padrão de Construção E - Alto': vaex.agg.sum('AREA CONSTRUIDA', \n",
    "                        #                                             selection=df_iptu['padrao_de_uso'] == 'E'),\n",
    "                        # 'Padrão de Construção F - Alto': vaex.agg.sum('AREA CONSTRUIDA', \n",
    "                        #                                             selection=df_iptu['padrao_de_uso'] == 'F'),                                                                                                                                                                                                            \n",
    "    })"
   ]
  },
  {
   "cell_type": "code",
   "execution_count": null,
   "metadata": {},
   "outputs": [],
   "source": [
    "campos = ['distrito', 'subprefeitura', 'od', 'censo', 'sq', 'sqlc']"
   ]
  },
  {
   "cell_type": "code",
   "execution_count": null,
   "metadata": {},
   "outputs": [],
   "source": [
    "dfs = []\n",
    "\n",
    "for campo in campos:\n",
    "    print(campo)\n",
    "    df = agrupamento(campo)\n",
    "    for u in ['Residencial', 'Comercial', 'Serviços', 'Industrial', 'Outros']:\n",
    "        df[f'Percentual de Uso {u}'] = df[u] / df['Área Total Construída']\n",
    "    df.export_hdf5(f'data/IPTU-1995-2022-agrupados-por-{campo}.hdf5')\n",
    "    dfs.append(df)"
   ]
  },
  {
   "cell_type": "code",
   "execution_count": null,
   "metadata": {},
   "outputs": [],
   "source": [
    "# df_iptu_distrito = vaex.open('data/IPTU-1995-2022-agrupados-por-distrito.hdf5')\n",
    "# df_iptu_subprefeitura = vaex.open('data/IPTU-1995-2022-agrupados-por-subprefeitura.hdf5')\n",
    "# df_iptu_od = vaex.open('data/IPTU-1995-2022-agrupados-por-od.hdf5')\n",
    "\n",
    "df_iptu_distrito, df_iptu_subprefeitura, df_iptu_od, df_iptu_censo, df_iptu_sq, df_iptu_sqlc = dfs"
   ]
  },
  {
   "cell_type": "code",
   "execution_count": null,
   "metadata": {},
   "outputs": [],
   "source": [
    "f\"{format(df_iptu_distrito['Quantidade de Unidades'].sum(), ',d').replace(',', '.')} seila\""
   ]
  },
  {
   "cell_type": "code",
   "execution_count": null,
   "metadata": {},
   "outputs": [],
   "source": [
    "df_iptu_sqlc.shape"
   ]
  },
  {
   "cell_type": "code",
   "execution_count": null,
   "metadata": {},
   "outputs": [],
   "source": [
    "df_iptu_subprefeitura[\"CA médio\"].max()"
   ]
  },
  {
   "cell_type": "code",
   "execution_count": null,
   "metadata": {},
   "outputs": [],
   "source": [
    "df_iptu_od[\"CA médio\"].max()"
   ]
  },
  {
   "cell_type": "code",
   "execution_count": null,
   "metadata": {},
   "outputs": [],
   "source": [
    "df_iptu.sqlc"
   ]
  },
  {
   "cell_type": "code",
   "execution_count": null,
   "metadata": {},
   "outputs": [],
   "source": []
  },
  {
   "cell_type": "code",
   "execution_count": null,
   "metadata": {},
   "outputs": [],
   "source": []
  },
  {
   "cell_type": "code",
   "execution_count": null,
   "metadata": {},
   "outputs": [],
   "source": []
  }
 ],
 "metadata": {
  "kernelspec": {
   "display_name": "Python 3.10.5 ('vaex_geo_data')",
   "language": "python",
   "name": "python3"
  },
  "language_info": {
   "codemirror_mode": {
    "name": "ipython",
    "version": 3
   },
   "file_extension": ".py",
   "mimetype": "text/x-python",
   "name": "python",
   "nbconvert_exporter": "python",
   "pygments_lexer": "ipython3",
   "version": "3.10.5"
  },
  "orig_nbformat": 4,
  "vscode": {
   "interpreter": {
    "hash": "0341034113fb58718766baf12f0d6826e2b308651dc1d9c42fe847e4b46dc5f2"
   }
  }
 },
 "nbformat": 4,
 "nbformat_minor": 2
}
