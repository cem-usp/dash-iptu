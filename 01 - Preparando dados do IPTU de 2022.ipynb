{
 "cells": [
  {
   "cell_type": "markdown",
   "metadata": {},
   "source": [
    "# Preparando os dados do IPTU de 2022\n",
    "\n",
    "Para o primeiro experimento vamos preparar os dados do IPTU de 2022, e posteriormente validar com as informações apresentadas no DashBoard"
   ]
  },
  {
   "cell_type": "code",
   "execution_count": 1,
   "metadata": {},
   "outputs": [
    {
     "name": "stderr",
     "output_type": "stream",
     "text": [
      "/home/fernando/miniconda3/envs/dash/lib/python3.9/site-packages/geopandas/_compat.py:111: UserWarning: The Shapely GEOS version (3.10.2-CAPI-1.16.0) is incompatible with the GEOS version PyGEOS was compiled with (3.10.1-CAPI-1.16.0). Conversions between both will be slow.\n",
      "  warnings.warn(\n"
     ]
    }
   ],
   "source": [
    "import vaex\n",
    "import geopandas as gpd\n",
    "from shapely.validation import make_valid\n",
    "from difflib import SequenceMatcher\n",
    "import numpy as np\n",
    "# import pygeos"
   ]
  },
  {
   "cell_type": "code",
   "execution_count": 2,
   "metadata": {},
   "outputs": [
    {
     "name": "stderr",
     "output_type": "stream",
     "text": [
      "/home/fernando/miniconda3/envs/dash/lib/python3.9/site-packages/geopandas/geodataframe.py:1938: UserWarning: CRS mismatch between the CRS of left geometries and the CRS of right geometries.\n",
      "Use `to_crs()` to reproject one of the input geometries to match the CRS of the other.\n",
      "\n",
      "Left CRS: EPSG:31983\n",
      "Right CRS: None\n",
      "\n",
      "  return geopandas.sjoin(left_df=self, right_df=df, *args, **kwargs)\n"
     ]
    }
   ],
   "source": [
    "gdf_distritos = gpd.read_file('data/SIRGAS_GPKG_distrito.gpkg')\n",
    "\n",
    "gdf_quadras = gpd.read_file('zip://data/SIRGAS_SHP_quadraMDSF.zip!SIRGAS_SHP_quadraMDSF/SIRGAS_SHP_quadraMDSF.shp')\n",
    "gdf_quadras = gdf_quadras.set_crs(epsg=31983)\n",
    "gdf_quadras = gdf_quadras[gdf_quadras.qd_tipo == 'F']\n",
    "gdf_quadras = gdf_quadras.dissolve(['qd_setor', 'qd_fiscal']).reset_index()\n",
    "\n",
    "gdf_od = gpd.read_file('zip://data/SIRGAS_SHP_origemdestino_2017.zip!SIRGAS_SHP_origemdestino_2017')\n",
    "gdf_od_sp = gdf_od[gdf_od.od_municip == '36']\n",
    "\n",
    "gdf_quadras_distritos = gdf_quadras.sjoin(gdf_distritos, how='left', predicate='intersects')\n",
    "gdf_quadras_distritos.drop('index_right', axis=1, inplace=True)\n",
    "gdf_quadras_distritos_od = gdf_quadras_distritos.sjoin(gdf_od_sp, how='left', predicate='intersects')\n",
    "\n",
    "df_quadras_distritos_od = gdf_quadras_distritos_od.loc[:, ['qd_setor', 'qd_fiscal', 'ds_codigo', 'ds_nome', 'ds_cd_sub', 'ds_subpref', 'od_id', 'od_nome']]\n",
    "df_quadras_distritos_od.loc[:, ['sq']] = df_quadras_distritos_od.qd_setor + df_quadras_distritos_od.qd_fiscal\n",
    "df_quadras_distritos_od.drop_duplicates(keep='first', inplace=True, ignore_index=True)\n",
    "# df_quadras_distritos_od = vaex.from_pandas(df_quadras_distritos_od)"
   ]
  },
  {
   "cell_type": "code",
   "execution_count": 3,
   "metadata": {},
   "outputs": [
    {
     "data": {
      "text/plain": [
       "Index(['qd_setor', 'qd_fiscal', 'ds_codigo', 'ds_nome', 'ds_cd_sub',\n",
       "       'ds_subpref', 'od_id', 'od_nome', 'sq'],\n",
       "      dtype='object')"
      ]
     },
     "execution_count": 3,
     "metadata": {},
     "output_type": "execute_result"
    }
   ],
   "source": [
    "df_quadras_distritos_od.columns"
   ]
  },
  {
   "cell_type": "code",
   "execution_count": 4,
   "metadata": {},
   "outputs": [
    {
     "name": "stderr",
     "output_type": "stream",
     "text": [
      "/home/fernando/miniconda3/envs/dash/lib/python3.9/site-packages/geopandas/io/file.py:362: FutureWarning: pandas.Int64Index is deprecated and will be removed from pandas in a future version. Use pandas.Index with the appropriate dtype instead.\n",
      "  pd.Int64Index,\n"
     ]
    }
   ],
   "source": [
    "gdf_od_sp = gdf_od_sp.to_file('data/OD-sp.gpkg', driver='GPKG')"
   ]
  },
  {
   "cell_type": "code",
   "execution_count": 5,
   "metadata": {},
   "outputs": [
    {
     "data": {
      "text/html": [
       "<div>\n",
       "<style scoped>\n",
       "    .dataframe tbody tr th:only-of-type {\n",
       "        vertical-align: middle;\n",
       "    }\n",
       "\n",
       "    .dataframe tbody tr th {\n",
       "        vertical-align: top;\n",
       "    }\n",
       "\n",
       "    .dataframe thead th {\n",
       "        text-align: right;\n",
       "    }\n",
       "</style>\n",
       "<table border=\"1\" class=\"dataframe\">\n",
       "  <thead>\n",
       "    <tr style=\"text-align: right;\">\n",
       "      <th></th>\n",
       "      <th>qd_setor</th>\n",
       "      <th>qd_fiscal</th>\n",
       "      <th>ds_codigo</th>\n",
       "      <th>ds_nome</th>\n",
       "      <th>ds_cd_sub</th>\n",
       "      <th>ds_subpref</th>\n",
       "      <th>od_id</th>\n",
       "      <th>od_nome</th>\n",
       "      <th>sq</th>\n",
       "    </tr>\n",
       "  </thead>\n",
       "  <tbody>\n",
       "    <tr>\n",
       "      <th>0</th>\n",
       "      <td>001</td>\n",
       "      <td>003</td>\n",
       "      <td>9</td>\n",
       "      <td>BOM RETIRO</td>\n",
       "      <td>09</td>\n",
       "      <td>SE</td>\n",
       "      <td>7</td>\n",
       "      <td>Luz</td>\n",
       "      <td>001003</td>\n",
       "    </tr>\n",
       "    <tr>\n",
       "      <th>1</th>\n",
       "      <td>001</td>\n",
       "      <td>004</td>\n",
       "      <td>9</td>\n",
       "      <td>BOM RETIRO</td>\n",
       "      <td>09</td>\n",
       "      <td>SE</td>\n",
       "      <td>7</td>\n",
       "      <td>Luz</td>\n",
       "      <td>001004</td>\n",
       "    </tr>\n",
       "    <tr>\n",
       "      <th>2</th>\n",
       "      <td>001</td>\n",
       "      <td>005</td>\n",
       "      <td>9</td>\n",
       "      <td>BOM RETIRO</td>\n",
       "      <td>09</td>\n",
       "      <td>SE</td>\n",
       "      <td>7</td>\n",
       "      <td>Luz</td>\n",
       "      <td>001005</td>\n",
       "    </tr>\n",
       "    <tr>\n",
       "      <th>3</th>\n",
       "      <td>001</td>\n",
       "      <td>006</td>\n",
       "      <td>9</td>\n",
       "      <td>BOM RETIRO</td>\n",
       "      <td>09</td>\n",
       "      <td>SE</td>\n",
       "      <td>7</td>\n",
       "      <td>Luz</td>\n",
       "      <td>001006</td>\n",
       "    </tr>\n",
       "    <tr>\n",
       "      <th>4</th>\n",
       "      <td>001</td>\n",
       "      <td>007</td>\n",
       "      <td>9</td>\n",
       "      <td>BOM RETIRO</td>\n",
       "      <td>09</td>\n",
       "      <td>SE</td>\n",
       "      <td>7</td>\n",
       "      <td>Luz</td>\n",
       "      <td>001007</td>\n",
       "    </tr>\n",
       "    <tr>\n",
       "      <th>...</th>\n",
       "      <td>...</td>\n",
       "      <td>...</td>\n",
       "      <td>...</td>\n",
       "      <td>...</td>\n",
       "      <td>...</td>\n",
       "      <td>...</td>\n",
       "      <td>...</td>\n",
       "      <td>...</td>\n",
       "      <td>...</td>\n",
       "    </tr>\n",
       "    <tr>\n",
       "      <th>48624</th>\n",
       "      <td>310</td>\n",
       "      <td>117</td>\n",
       "      <td>38</td>\n",
       "      <td>JABAQUARA</td>\n",
       "      <td>15</td>\n",
       "      <td>JABAQUARA</td>\n",
       "      <td>275</td>\n",
       "      <td>Cidade Vargas</td>\n",
       "      <td>310117</td>\n",
       "    </tr>\n",
       "    <tr>\n",
       "      <th>48625</th>\n",
       "      <td>310</td>\n",
       "      <td>118</td>\n",
       "      <td>38</td>\n",
       "      <td>JABAQUARA</td>\n",
       "      <td>15</td>\n",
       "      <td>JABAQUARA</td>\n",
       "      <td>275</td>\n",
       "      <td>Cidade Vargas</td>\n",
       "      <td>310118</td>\n",
       "    </tr>\n",
       "    <tr>\n",
       "      <th>48626</th>\n",
       "      <td>310</td>\n",
       "      <td>119</td>\n",
       "      <td>38</td>\n",
       "      <td>JABAQUARA</td>\n",
       "      <td>15</td>\n",
       "      <td>JABAQUARA</td>\n",
       "      <td>275</td>\n",
       "      <td>Cidade Vargas</td>\n",
       "      <td>310119</td>\n",
       "    </tr>\n",
       "    <tr>\n",
       "      <th>48627</th>\n",
       "      <td>310</td>\n",
       "      <td>120</td>\n",
       "      <td>38</td>\n",
       "      <td>JABAQUARA</td>\n",
       "      <td>15</td>\n",
       "      <td>JABAQUARA</td>\n",
       "      <td>276</td>\n",
       "      <td>Jardim Bom Clima</td>\n",
       "      <td>310120</td>\n",
       "    </tr>\n",
       "    <tr>\n",
       "      <th>48628</th>\n",
       "      <td>310</td>\n",
       "      <td>120</td>\n",
       "      <td>38</td>\n",
       "      <td>JABAQUARA</td>\n",
       "      <td>15</td>\n",
       "      <td>JABAQUARA</td>\n",
       "      <td>275</td>\n",
       "      <td>Cidade Vargas</td>\n",
       "      <td>310120</td>\n",
       "    </tr>\n",
       "  </tbody>\n",
       "</table>\n",
       "<p>48629 rows × 9 columns</p>\n",
       "</div>"
      ],
      "text/plain": [
       "      qd_setor qd_fiscal ds_codigo     ds_nome ds_cd_sub ds_subpref od_id  \\\n",
       "0          001       003         9  BOM RETIRO        09         SE     7   \n",
       "1          001       004         9  BOM RETIRO        09         SE     7   \n",
       "2          001       005         9  BOM RETIRO        09         SE     7   \n",
       "3          001       006         9  BOM RETIRO        09         SE     7   \n",
       "4          001       007         9  BOM RETIRO        09         SE     7   \n",
       "...        ...       ...       ...         ...       ...        ...   ...   \n",
       "48624      310       117        38   JABAQUARA        15  JABAQUARA   275   \n",
       "48625      310       118        38   JABAQUARA        15  JABAQUARA   275   \n",
       "48626      310       119        38   JABAQUARA        15  JABAQUARA   275   \n",
       "48627      310       120        38   JABAQUARA        15  JABAQUARA   276   \n",
       "48628      310       120        38   JABAQUARA        15  JABAQUARA   275   \n",
       "\n",
       "                od_nome      sq  \n",
       "0                   Luz  001003  \n",
       "1                   Luz  001004  \n",
       "2                   Luz  001005  \n",
       "3                   Luz  001006  \n",
       "4                   Luz  001007  \n",
       "...                 ...     ...  \n",
       "48624     Cidade Vargas  310117  \n",
       "48625     Cidade Vargas  310118  \n",
       "48626     Cidade Vargas  310119  \n",
       "48627  Jardim Bom Clima  310120  \n",
       "48628     Cidade Vargas  310120  \n",
       "\n",
       "[48629 rows x 9 columns]"
      ]
     },
     "execution_count": 5,
     "metadata": {},
     "output_type": "execute_result"
    }
   ],
   "source": [
    "df_quadras_distritos_od"
   ]
  },
  {
   "cell_type": "code",
   "execution_count": 6,
   "metadata": {},
   "outputs": [
    {
     "data": {
      "text/html": [
       "<div>\n",
       "<style scoped>\n",
       "    .dataframe tbody tr th:only-of-type {\n",
       "        vertical-align: middle;\n",
       "    }\n",
       "\n",
       "    .dataframe tbody tr th {\n",
       "        vertical-align: top;\n",
       "    }\n",
       "\n",
       "    .dataframe thead th {\n",
       "        text-align: right;\n",
       "    }\n",
       "</style>\n",
       "<table border=\"1\" class=\"dataframe\">\n",
       "  <thead>\n",
       "    <tr style=\"text-align: right;\">\n",
       "      <th></th>\n",
       "      <th>qd_setor</th>\n",
       "      <th>qd_fiscal</th>\n",
       "      <th>geometry</th>\n",
       "      <th>qd_id_orig</th>\n",
       "      <th>qd_tipo</th>\n",
       "      <th>qd_subqua</th>\n",
       "      <th>qd_area</th>\n",
       "      <th>qd_situac</th>\n",
       "      <th>qd_id</th>\n",
       "      <th>qd_tx_tipo</th>\n",
       "      <th>ds_codigo</th>\n",
       "      <th>ds_subpref</th>\n",
       "      <th>ds_cd_sub</th>\n",
       "      <th>ds_sigla</th>\n",
       "      <th>ds_nome</th>\n",
       "    </tr>\n",
       "  </thead>\n",
       "  <tbody>\n",
       "    <tr>\n",
       "      <th>33243</th>\n",
       "      <td>156</td>\n",
       "      <td>135</td>\n",
       "      <td>POLYGON ((343220.581 7387752.345, 343218.992 7...</td>\n",
       "      <td>8985852</td>\n",
       "      <td>F</td>\n",
       "      <td>001</td>\n",
       "      <td>2484.92461758186</td>\n",
       "      <td>1</td>\n",
       "      <td>148338</td>\n",
       "      <td>FISCAL</td>\n",
       "      <td>NaN</td>\n",
       "      <td>NaN</td>\n",
       "      <td>NaN</td>\n",
       "      <td>NaN</td>\n",
       "      <td>NaN</td>\n",
       "    </tr>\n",
       "    <tr>\n",
       "      <th>37127</th>\n",
       "      <td>173</td>\n",
       "      <td>160</td>\n",
       "      <td>POLYGON ((333539.250 7378902.010, 333537.093 7...</td>\n",
       "      <td>9704470</td>\n",
       "      <td>F</td>\n",
       "      <td>001</td>\n",
       "      <td>1348.82739798853</td>\n",
       "      <td>1</td>\n",
       "      <td>182464</td>\n",
       "      <td>FISCAL</td>\n",
       "      <td>NaN</td>\n",
       "      <td>NaN</td>\n",
       "      <td>NaN</td>\n",
       "      <td>NaN</td>\n",
       "      <td>NaN</td>\n",
       "    </tr>\n",
       "    <tr>\n",
       "      <th>37132</th>\n",
       "      <td>173</td>\n",
       "      <td>165</td>\n",
       "      <td>POLYGON ((333600.829 7378409.331, 333597.817 7...</td>\n",
       "      <td>9704234</td>\n",
       "      <td>F</td>\n",
       "      <td>001</td>\n",
       "      <td>2641.57734002054</td>\n",
       "      <td>1</td>\n",
       "      <td>186397</td>\n",
       "      <td>FISCAL</td>\n",
       "      <td>NaN</td>\n",
       "      <td>NaN</td>\n",
       "      <td>NaN</td>\n",
       "      <td>NaN</td>\n",
       "      <td>NaN</td>\n",
       "    </tr>\n",
       "  </tbody>\n",
       "</table>\n",
       "</div>"
      ],
      "text/plain": [
       "      qd_setor qd_fiscal                                           geometry  \\\n",
       "33243      156       135  POLYGON ((343220.581 7387752.345, 343218.992 7...   \n",
       "37127      173       160  POLYGON ((333539.250 7378902.010, 333537.093 7...   \n",
       "37132      173       165  POLYGON ((333600.829 7378409.331, 333597.817 7...   \n",
       "\n",
       "      qd_id_orig qd_tipo qd_subqua           qd_area qd_situac   qd_id  \\\n",
       "33243    8985852       F       001  2484.92461758186         1  148338   \n",
       "37127    9704470       F       001  1348.82739798853         1  182464   \n",
       "37132    9704234       F       001  2641.57734002054         1  186397   \n",
       "\n",
       "      qd_tx_tipo ds_codigo ds_subpref ds_cd_sub ds_sigla ds_nome  \n",
       "33243     FISCAL       NaN        NaN       NaN      NaN     NaN  \n",
       "37127     FISCAL       NaN        NaN       NaN      NaN     NaN  \n",
       "37132     FISCAL       NaN        NaN       NaN      NaN     NaN  "
      ]
     },
     "execution_count": 6,
     "metadata": {},
     "output_type": "execute_result"
    }
   ],
   "source": [
    "## TODO\n",
    "# Verificar essa inconsistencia\n",
    "gdf_quadras_distritos[gdf_quadras_distritos.ds_codigo.isna()]"
   ]
  },
  {
   "cell_type": "code",
   "execution_count": 7,
   "metadata": {},
   "outputs": [
    {
     "name": "stdout",
     "output_type": "stream",
     "text": [
      "Processando 1995\n",
      "Processando 1996\n",
      "Processando 1997\n",
      "Processando 1998\n",
      "Processando 1999\n",
      "Processando 2000\n",
      "Processando 2001\n",
      "Processando 2002\n",
      "Processando 2003\n",
      "Processando 2004\n",
      "Processando 2005\n",
      "Processando 2006\n",
      "Processando 2007\n",
      "Processando 2008\n",
      "Processando 2009\n",
      "Processando 2010\n",
      "Processando 2011\n",
      "Processando 2012\n",
      "Processando 2013\n",
      "Processando 2014\n",
      "Processando 2015\n",
      "Processando 2016\n",
      "Processando 2017\n",
      "Processando 2018\n",
      "Processando 2019\n",
      "Processando 2020\n",
      "Processando 2021\n",
      "Processando 2022\n"
     ]
    }
   ],
   "source": [
    "dfs = []\n",
    "\n",
    "for i in range(1995,2023):\n",
    "\n",
    "    print(f'Processando {i}')\n",
    "    \n",
    "    df = vaex.open(f'data/IPTU_{i}/IPTU_{i}.hdf5')\n",
    "    \n",
    "    df.setor = df['NUMERO DO CONTRIBUINTE'].str.slice(0,3)\n",
    "    df.quadra = df['NUMERO DO CONTRIBUINTE'].str.slice(3,6)\n",
    "    df.fillna(value='00-0', column_names=['NUMERO DO CONDOMINIO'], inplace=True)\n",
    "    df.fillna(value=1., column_names=['FRACAO IDEAL'], inplace=True)\n",
    "    df.fillna(value=0., column_names=['AREA CONSTRUIDA', 'AREA OCUPADA', 'AREA DO TERRENO'], inplace=True)\n",
    "    df.sqlc = df.func.where(df['NUMERO DO CONDOMINIO'] == '00-0',\n",
    "                                    df['NUMERO DO CONTRIBUINTE'].str.slice(0, 10) + '00',\n",
    "                                    df['NUMERO DO CONTRIBUINTE'].str.slice(0, 6) + '0000' + df['NUMERO DO CONDOMINIO'].str.slice(0, 2))\n",
    "    df['sq'] = df.setor + df.quadra\n",
    "    df['sqlc'] = df.sqlc\n",
    "    df_sqlc_ac = df.groupby('sqlc', agg={'area_contruida_total': vaex.agg.sum('AREA CONSTRUIDA')})\n",
    "    df = df.join(df_sqlc_ac, on='sqlc')\n",
    "    df['fracao_ideal'] = df.func.where(df['FRACAO IDEAL'] == 0.,  \n",
    "                                                df['AREA CONSTRUIDA'] / df['area_contruida_total'],\n",
    "                                                df['FRACAO IDEAL'])\n",
    "    df['ca'] = (df['AREA CONSTRUIDA'] / df['fracao_ideal']) / df['AREA DO TERRENO']\n",
    "    df['to'] = df['AREA OCUPADA'] / df['AREA DO TERRENO']\n",
    "\n",
    "    df['valor_terreno'] = df['fracao_ideal'] * df['VALOR DO M2 DO TERRENO'] * df['AREA DO TERRENO']\n",
    "    df['valor_construcao'] = df['VALOR DO M2 DE CONSTRUCAO'] * df['AREA CONSTRUIDA']\n",
    "\n",
    "    dfs.append(df)\n",
    "    # break\n"
   ]
  },
  {
   "cell_type": "code",
   "execution_count": 8,
   "metadata": {},
   "outputs": [],
   "source": [
    "df_iptu = vaex.concat(dfs)"
   ]
  },
  {
   "cell_type": "code",
   "execution_count": 9,
   "metadata": {},
   "outputs": [
    {
     "data": {
      "text/plain": [
       "(82322059, 37)"
      ]
     },
     "execution_count": 9,
     "metadata": {},
     "output_type": "execute_result"
    }
   ],
   "source": [
    "df_iptu.shape"
   ]
  },
  {
   "cell_type": "code",
   "execution_count": 10,
   "metadata": {},
   "outputs": [
    {
     "name": "stderr",
     "output_type": "stream",
     "text": [
      "/home/fernando/miniconda3/envs/dash/lib/python3.9/site-packages/vaex/arrow/numpy_dispatch.py:72: RuntimeWarning: invalid value encountered in true_divide\n",
      "  result_data = op['op'](a_data, b_data)\n"
     ]
    },
    {
     "data": {
      "text/html": [
       "<table>\n",
       "<thead>\n",
       "<tr><th>#                              </th><th>AREA CONSTRUIDA  </th><th>fracao_ideal         </th><th>AREA DO TERRENO  </th><th>area_contruida_total  </th><th>ANO DO EXERCICIO  </th></tr>\n",
       "</thead>\n",
       "<tbody>\n",
       "<tr><td><i style='opacity: 0.6'>0</i>  </td><td>67932            </td><td>1.0                  </td><td>420              </td><td>67932                 </td><td>1995              </td></tr>\n",
       "<tr><td><i style='opacity: 0.6'>1</i>  </td><td>142              </td><td>0.004320705918150008 </td><td>257              </td><td>32865                 </td><td>2014              </td></tr>\n",
       "<tr><td><i style='opacity: 0.6'>2</i>  </td><td>137              </td><td>0.004168568385820782 </td><td>257              </td><td>32865                 </td><td>2014              </td></tr>\n",
       "<tr><td><i style='opacity: 0.6'>3</i>  </td><td>141              </td><td>0.004290278411684162 </td><td>257              </td><td>32865                 </td><td>2014              </td></tr>\n",
       "<tr><td><i style='opacity: 0.6'>4</i>  </td><td>142              </td><td>0.004320705918150008 </td><td>257              </td><td>32865                 </td><td>2015              </td></tr>\n",
       "<tr><td>...                            </td><td>...              </td><td>...                  </td><td>...              </td><td>...                   </td><td>...               </td></tr>\n",
       "<tr><td><i style='opacity: 0.6'>237</i></td><td>26               </td><td>9.999999747378752e-05</td><td>2594             </td><td>16906                 </td><td>2022              </td></tr>\n",
       "<tr><td><i style='opacity: 0.6'>238</i></td><td>26               </td><td>9.999999747378752e-05</td><td>2594             </td><td>16906                 </td><td>2022              </td></tr>\n",
       "<tr><td><i style='opacity: 0.6'>239</i></td><td>26               </td><td>9.999999747378752e-05</td><td>2594             </td><td>16906                 </td><td>2022              </td></tr>\n",
       "<tr><td><i style='opacity: 0.6'>240</i></td><td>26               </td><td>9.999999747378752e-05</td><td>2594             </td><td>16906                 </td><td>2022              </td></tr>\n",
       "<tr><td><i style='opacity: 0.6'>241</i></td><td>26               </td><td>9.999999747378752e-05</td><td>2594             </td><td>16906                 </td><td>2022              </td></tr>\n",
       "</tbody>\n",
       "</table>"
      ],
      "text/plain": [
       "#    AREA CONSTRUIDA    fracao_ideal           AREA DO TERRENO    area_contruida_total    ANO DO EXERCICIO\n",
       "0    67932              1.0                    420                67932                   1995\n",
       "1    142                0.004320705918150008   257                32865                   2014\n",
       "2    137                0.004168568385820782   257                32865                   2014\n",
       "3    141                0.004290278411684162   257                32865                   2014\n",
       "4    142                0.004320705918150008   257                32865                   2015\n",
       "...  ...                ...                    ...                ...                     ...\n",
       "237  26                 9.999999747378752e-05  2594               16906                   2022\n",
       "238  26                 9.999999747378752e-05  2594               16906                   2022\n",
       "239  26                 9.999999747378752e-05  2594               16906                   2022\n",
       "240  26                 9.999999747378752e-05  2594               16906                   2022\n",
       "241  26                 9.999999747378752e-05  2594               16906                   2022"
      ]
     },
     "execution_count": 10,
     "metadata": {},
     "output_type": "execute_result"
    }
   ],
   "source": [
    "## Parece que para alguns lotes condominiais o terreno está proporcional à fracao ideal\n",
    "df_iptu[df_iptu.ca > 100]['AREA CONSTRUIDA', 'fracao_ideal', 'AREA DO TERRENO', 'area_contruida_total', 'ANO DO EXERCICIO']"
   ]
  },
  {
   "cell_type": "code",
   "execution_count": 11,
   "metadata": {},
   "outputs": [
    {
     "data": {
      "text/plain": [
       "(44504583, 37)"
      ]
     },
     "execution_count": 11,
     "metadata": {},
     "output_type": "execute_result"
    }
   ],
   "source": [
    "df_iptu[df_iptu['NUMERO DO CONDOMINIO'] == '00-0'].shape"
   ]
  },
  {
   "cell_type": "code",
   "execution_count": 12,
   "metadata": {},
   "outputs": [
    {
     "data": {
      "text/plain": [
       "(82322059, 37)"
      ]
     },
     "execution_count": 12,
     "metadata": {},
     "output_type": "execute_result"
    }
   ],
   "source": [
    "df_iptu.shape"
   ]
  },
  {
   "cell_type": "code",
   "execution_count": 13,
   "metadata": {},
   "outputs": [],
   "source": [
    "df_quadras_distritos_od['sqod'] = df_quadras_distritos_od.sq + df_quadras_distritos_od.od_id.str.pad(width=3, side='left', fillchar='0')"
   ]
  },
  {
   "cell_type": "code",
   "execution_count": 14,
   "metadata": {},
   "outputs": [
    {
     "data": {
      "text/plain": [
       "(48629, 10)"
      ]
     },
     "execution_count": 14,
     "metadata": {},
     "output_type": "execute_result"
    }
   ],
   "source": [
    "df_quadras_distritos_od.shape"
   ]
  },
  {
   "cell_type": "code",
   "execution_count": 15,
   "metadata": {},
   "outputs": [],
   "source": [
    "df_quadras_distritos_od = df_quadras_distritos_od.drop_duplicates(subset=['sq'])"
   ]
  },
  {
   "cell_type": "code",
   "execution_count": 16,
   "metadata": {},
   "outputs": [],
   "source": [
    "\n",
    "df_iptu = df_iptu.join(vaex.from_pandas(df_quadras_distritos_od), on='sq', how='left',  \n",
    "            allow_duplication=False, inplace=False)"
   ]
  },
  {
   "cell_type": "code",
   "execution_count": 17,
   "metadata": {},
   "outputs": [
    {
     "data": {
      "text/plain": [
       "(82322059, 46)"
      ]
     },
     "execution_count": 17,
     "metadata": {},
     "output_type": "execute_result"
    }
   ],
   "source": [
    "df_iptu.shape"
   ]
  },
  {
   "cell_type": "markdown",
   "metadata": {},
   "source": [
    "## Adicionando informações de Uso"
   ]
  },
  {
   "cell_type": "code",
   "execution_count": 18,
   "metadata": {},
   "outputs": [
    {
     "data": {
      "text/html": [
       "<div>\n",
       "<style scoped>\n",
       "    .dataframe tbody tr th:only-of-type {\n",
       "        vertical-align: middle;\n",
       "    }\n",
       "\n",
       "    .dataframe tbody tr th {\n",
       "        vertical-align: top;\n",
       "    }\n",
       "\n",
       "    .dataframe thead th {\n",
       "        text-align: right;\n",
       "    }\n",
       "</style>\n",
       "<table border=\"1\" class=\"dataframe\">\n",
       "  <thead>\n",
       "    <tr style=\"text-align: right;\">\n",
       "      <th></th>\n",
       "      <th>TIPO DE USO DO IMOVEL</th>\n",
       "      <th>count</th>\n",
       "    </tr>\n",
       "  </thead>\n",
       "  <tbody>\n",
       "    <tr>\n",
       "      <th>0</th>\n",
       "      <td>Residência e outro uso (predominância residenc...</td>\n",
       "      <td>85643</td>\n",
       "    </tr>\n",
       "    <tr>\n",
       "      <th>1</th>\n",
       "      <td>Outras edificações de uso comercial, com utili...</td>\n",
       "      <td>22163</td>\n",
       "    </tr>\n",
       "    <tr>\n",
       "      <th>2</th>\n",
       "      <td>Posto de serviço</td>\n",
       "      <td>2279</td>\n",
       "    </tr>\n",
       "    <tr>\n",
       "      <th>3</th>\n",
       "      <td>Prédio de apartamento, não em condomínio, de u...</td>\n",
       "      <td>2209</td>\n",
       "    </tr>\n",
       "    <tr>\n",
       "      <th>4</th>\n",
       "      <td>Estação radioemissora, de televisão ou empresa...</td>\n",
       "      <td>495</td>\n",
       "    </tr>\n",
       "    <tr>\n",
       "      <th>5</th>\n",
       "      <td>Flat de uso comercial (semelhante a hotel)</td>\n",
       "      <td>24619</td>\n",
       "    </tr>\n",
       "    <tr>\n",
       "      <th>6</th>\n",
       "      <td>Apartamento em condomínio</td>\n",
       "      <td>1439450</td>\n",
       "    </tr>\n",
       "    <tr>\n",
       "      <th>7</th>\n",
       "      <td>Garagem (unidade autônoma) em edifício em cond...</td>\n",
       "      <td>200254</td>\n",
       "    </tr>\n",
       "    <tr>\n",
       "      <th>8</th>\n",
       "      <td>Clube esportivo</td>\n",
       "      <td>573</td>\n",
       "    </tr>\n",
       "    <tr>\n",
       "      <th>9</th>\n",
       "      <td>Outras edificações de uso especial, com utiliz...</td>\n",
       "      <td>1263</td>\n",
       "    </tr>\n",
       "    <tr>\n",
       "      <th>10</th>\n",
       "      <td>Outras edificações de uso de serviço, com util...</td>\n",
       "      <td>4927</td>\n",
       "    </tr>\n",
       "    <tr>\n",
       "      <th>11</th>\n",
       "      <td>Outras edificações de uso coletivo, com utiliz...</td>\n",
       "      <td>3033</td>\n",
       "    </tr>\n",
       "    <tr>\n",
       "      <th>12</th>\n",
       "      <td>Cinema, teatro, casa de diversão, clube ou con...</td>\n",
       "      <td>558</td>\n",
       "    </tr>\n",
       "    <tr>\n",
       "      <th>13</th>\n",
       "      <td>Loja e residência (predominância comercial)</td>\n",
       "      <td>44321</td>\n",
       "    </tr>\n",
       "    <tr>\n",
       "      <th>14</th>\n",
       "      <td>Garagem (unidade autônoma) em edifício em cond...</td>\n",
       "      <td>38376</td>\n",
       "    </tr>\n",
       "    <tr>\n",
       "      <th>15</th>\n",
       "      <td>Oficina</td>\n",
       "      <td>9921</td>\n",
       "    </tr>\n",
       "    <tr>\n",
       "      <th>16</th>\n",
       "      <td>Cortiço</td>\n",
       "      <td>1722</td>\n",
       "    </tr>\n",
       "    <tr>\n",
       "      <th>17</th>\n",
       "      <td>Hospital, ambulatório, casa de saúde e assemel...</td>\n",
       "      <td>1352</td>\n",
       "    </tr>\n",
       "    <tr>\n",
       "      <th>18</th>\n",
       "      <td>Escola</td>\n",
       "      <td>7029</td>\n",
       "    </tr>\n",
       "    <tr>\n",
       "      <th>19</th>\n",
       "      <td>Loja</td>\n",
       "      <td>54341</td>\n",
       "    </tr>\n",
       "    <tr>\n",
       "      <th>20</th>\n",
       "      <td>Residência coletiva, exclusive cortiço (mais d...</td>\n",
       "      <td>204980</td>\n",
       "    </tr>\n",
       "    <tr>\n",
       "      <th>21</th>\n",
       "      <td>Residência</td>\n",
       "      <td>1085600</td>\n",
       "    </tr>\n",
       "    <tr>\n",
       "      <th>22</th>\n",
       "      <td>Garagem (exclusive em prédio em condomínio)</td>\n",
       "      <td>2711</td>\n",
       "    </tr>\n",
       "    <tr>\n",
       "      <th>23</th>\n",
       "      <td>Prédio de apartamento, não em condomínio, de u...</td>\n",
       "      <td>2735</td>\n",
       "    </tr>\n",
       "    <tr>\n",
       "      <th>24</th>\n",
       "      <td>Prédio de escritório, não em condomínio, de us...</td>\n",
       "      <td>312</td>\n",
       "    </tr>\n",
       "    <tr>\n",
       "      <th>25</th>\n",
       "      <td>Flat residencial em condomínio</td>\n",
       "      <td>5184</td>\n",
       "    </tr>\n",
       "    <tr>\n",
       "      <th>26</th>\n",
       "      <td>Indústria</td>\n",
       "      <td>13270</td>\n",
       "    </tr>\n",
       "    <tr>\n",
       "      <th>27</th>\n",
       "      <td>Templo</td>\n",
       "      <td>5974</td>\n",
       "    </tr>\n",
       "    <tr>\n",
       "      <th>28</th>\n",
       "      <td>Escritório/consultório em condomínio (unidade ...</td>\n",
       "      <td>139963</td>\n",
       "    </tr>\n",
       "    <tr>\n",
       "      <th>29</th>\n",
       "      <td>Hotel, pensão ou hospedaria</td>\n",
       "      <td>3936</td>\n",
       "    </tr>\n",
       "    <tr>\n",
       "      <th>30</th>\n",
       "      <td>Loja em edifício em condomínio (unidade autônoma)</td>\n",
       "      <td>23752</td>\n",
       "    </tr>\n",
       "    <tr>\n",
       "      <th>31</th>\n",
       "      <td>Terreno</td>\n",
       "      <td>103197</td>\n",
       "    </tr>\n",
       "    <tr>\n",
       "      <th>32</th>\n",
       "      <td>Asilo, orfanato, creche, seminário ou convento</td>\n",
       "      <td>989</td>\n",
       "    </tr>\n",
       "    <tr>\n",
       "      <th>33</th>\n",
       "      <td>Garagem (unidade autônoma) de prédio de garagens</td>\n",
       "      <td>9568</td>\n",
       "    </tr>\n",
       "    <tr>\n",
       "      <th>34</th>\n",
       "      <td>Prédio de escritório ou consultório, não em co...</td>\n",
       "      <td>24185</td>\n",
       "    </tr>\n",
       "    <tr>\n",
       "      <th>35</th>\n",
       "      <td>Armazéns gerais e depósitos</td>\n",
       "      <td>9177</td>\n",
       "    </tr>\n",
       "  </tbody>\n",
       "</table>\n",
       "</div>"
      ],
      "text/plain": [
       "                                TIPO DE USO DO IMOVEL    count\n",
       "0   Residência e outro uso (predominância residenc...    85643\n",
       "1   Outras edificações de uso comercial, com utili...    22163\n",
       "2                                    Posto de serviço     2279\n",
       "3   Prédio de apartamento, não em condomínio, de u...     2209\n",
       "4   Estação radioemissora, de televisão ou empresa...      495\n",
       "5          Flat de uso comercial (semelhante a hotel)    24619\n",
       "6                           Apartamento em condomínio  1439450\n",
       "7   Garagem (unidade autônoma) em edifício em cond...   200254\n",
       "8                                     Clube esportivo      573\n",
       "9   Outras edificações de uso especial, com utiliz...     1263\n",
       "10  Outras edificações de uso de serviço, com util...     4927\n",
       "11  Outras edificações de uso coletivo, com utiliz...     3033\n",
       "12  Cinema, teatro, casa de diversão, clube ou con...      558\n",
       "13        Loja e residência (predominância comercial)    44321\n",
       "14  Garagem (unidade autônoma) em edifício em cond...    38376\n",
       "15                                            Oficina     9921\n",
       "16                                            Cortiço     1722\n",
       "17  Hospital, ambulatório, casa de saúde e assemel...     1352\n",
       "18                                             Escola     7029\n",
       "19                                               Loja    54341\n",
       "20  Residência coletiva, exclusive cortiço (mais d...   204980\n",
       "21                                         Residência  1085600\n",
       "22        Garagem (exclusive em prédio em condomínio)     2711\n",
       "23  Prédio de apartamento, não em condomínio, de u...     2735\n",
       "24  Prédio de escritório, não em condomínio, de us...      312\n",
       "25                     Flat residencial em condomínio     5184\n",
       "26                                          Indústria    13270\n",
       "27                                             Templo     5974\n",
       "28  Escritório/consultório em condomínio (unidade ...   139963\n",
       "29                        Hotel, pensão ou hospedaria     3936\n",
       "30  Loja em edifício em condomínio (unidade autônoma)    23752\n",
       "31                                            Terreno   103197\n",
       "32     Asilo, orfanato, creche, seminário ou convento      989\n",
       "33   Garagem (unidade autônoma) de prédio de garagens     9568\n",
       "34  Prédio de escritório ou consultório, não em co...    24185\n",
       "35                        Armazéns gerais e depósitos     9177"
      ]
     },
     "execution_count": 18,
     "metadata": {},
     "output_type": "execute_result"
    }
   ],
   "source": [
    "df_usos_2022 = df_iptu[df_iptu['ANO DO EXERCICIO'] == 2022].groupby('TIPO DE USO DO IMOVEL').agg('count').to_pandas_df()\n",
    "df_usos_2022"
   ]
  },
  {
   "cell_type": "code",
   "execution_count": 19,
   "metadata": {},
   "outputs": [],
   "source": [
    "df_usos = df_iptu.groupby('TIPO DE USO DO IMOVEL').agg('count').to_pandas_df()"
   ]
  },
  {
   "cell_type": "code",
   "execution_count": 20,
   "metadata": {},
   "outputs": [],
   "source": [
    "df_usos.fillna('', inplace=True)"
   ]
  },
  {
   "cell_type": "code",
   "execution_count": 21,
   "metadata": {},
   "outputs": [],
   "source": [
    "results, ratios = [], []\n",
    "\n",
    "for i, row in df_usos.iterrows():\n",
    "\n",
    "    similaridade = df_usos_2022['TIPO DE USO DO IMOVEL'].apply(lambda x: SequenceMatcher(None, row['TIPO DE USO DO IMOVEL'], x).ratio())\n",
    "    \n",
    "    results.append(df_usos_2022.iloc[similaridade.idxmax()]['TIPO DE USO DO IMOVEL'])\n",
    "\n",
    "    ratios.append(similaridade.max())"
   ]
  },
  {
   "cell_type": "code",
   "execution_count": 22,
   "metadata": {},
   "outputs": [],
   "source": [
    "df_usos['titulo_padronizado'] = results # Os títulos costumam variar, portanto esse campo será referência para os agrupamentos\n",
    "df_usos['relacao_de_assertividade_com_titulo_padronizado'] = ratios"
   ]
  },
  {
   "cell_type": "code",
   "execution_count": 23,
   "metadata": {},
   "outputs": [],
   "source": [
    "residencial = ['residencial', 'residência', 'apartamento', 'cortiço']\n",
    "comercial = ['comércio', 'comercial', 'posto', 'loja']\n",
    "servicos =  ['hotel', 'radioemissora', 'flat', 'serviço', 'clube', 'oficina', 'hospital', 'templo', 'escritórios', 'consultórios', 'escritório', 'consultório', 'asilo', 'creche', 'prédio de garagens', 'escola']\n",
    "industrial = ['Indústria', 'armazéns']"
   ]
  },
  {
   "cell_type": "code",
   "execution_count": 24,
   "metadata": {},
   "outputs": [],
   "source": [
    "class_residencial = df_usos.loc[:, 'titulo_padronizado'].str.contains(r'\\b(?:{})\\b'.format('|'.join(residencial)), case=False)\n",
    "class_comercial = df_usos.loc[:, 'titulo_padronizado'].str.contains(r'\\b(?:{})\\b'.format('|'.join(comercial)), case=False)\n",
    "class_servicos = df_usos.loc[:, 'titulo_padronizado'].str.contains(r'\\b(?:{})\\b'.format('|'.join(servicos)), case=False)\n",
    "class_industrial = df_usos.loc[:, 'titulo_padronizado'].str.contains(r'\\b(?:{})\\b'.format('|'.join(industrial)), case=False)\n",
    "\n",
    "df_usos.loc[class_residencial, ['classificacao_abrangente']] = 'Residencial'\n",
    "df_usos.loc[class_comercial, ['classificacao_abrangente']] = 'Comercial'\n",
    "df_usos.loc[class_servicos, ['classificacao_abrangente']] = 'Serviços'\n",
    "df_usos.loc[class_industrial, ['classificacao_abrangente']] = 'Industrial'\n",
    "\n",
    "df_usos.loc[df_usos.classificacao_abrangente.isna(), ['classificacao_abrangente']] = 'Outros'"
   ]
  },
  {
   "cell_type": "code",
   "execution_count": 25,
   "metadata": {},
   "outputs": [],
   "source": [
    "# df_iptu['TIPO DE USO DO IMOVEL']\n",
    "df_usos = vaex.from_pandas(df_usos.loc[df_usos['TIPO DE USO DO IMOVEL'] != '', ['TIPO DE USO DO IMOVEL', 'classificacao_abrangente']])\n",
    "df_iptu = df_iptu.join(df_usos, on='TIPO DE USO DO IMOVEL')"
   ]
  },
  {
   "cell_type": "code",
   "execution_count": 26,
   "metadata": {},
   "outputs": [
    {
     "data": {
      "text/plain": [
       "(82322059, 47)"
      ]
     },
     "execution_count": 26,
     "metadata": {},
     "output_type": "execute_result"
    }
   ],
   "source": [
    "df_iptu.shape"
   ]
  },
  {
   "cell_type": "markdown",
   "metadata": {},
   "source": [
    "## Processando as totalizacoes"
   ]
  },
  {
   "cell_type": "code",
   "execution_count": 27,
   "metadata": {},
   "outputs": [],
   "source": [
    "gdf_distritos['area'] = gdf_distritos.area\n",
    "gdf_distritos.to_crs(epsg=4674, inplace=True)"
   ]
  },
  {
   "cell_type": "code",
   "execution_count": 37,
   "metadata": {},
   "outputs": [],
   "source": [
    "df_iptu['sq'] = df_iptu.qd_setor + df_iptu.qd_fiscal"
   ]
  },
  {
   "cell_type": "code",
   "execution_count": 40,
   "metadata": {},
   "outputs": [],
   "source": [
    "# df_iptu.sq"
   ]
  },
  {
   "cell_type": "code",
   "execution_count": 41,
   "metadata": {},
   "outputs": [],
   "source": [
    "# df_iptu.fillna(value='0', column_names=['sq'], inplace=True)\n",
    "# df_iptu['sq'] = df_iptu['sq'].astype('int')\n",
    "# df_iptu.categorize('sq', inplace=True)"
   ]
  },
  {
   "cell_type": "code",
   "execution_count": 42,
   "metadata": {},
   "outputs": [
    {
     "data": {
      "text/html": [
       "<table>\n",
       "<thead>\n",
       "<tr><th>#                                     </th><th>NUMERO DO CONTRIBUINTE  </th><th>ANO DO EXERCICIO  </th><th>NUMERO DA NL  </th><th>DATA DO CADASTRAMENTO        </th><th>CODLOG DO IMOVEL  </th><th>NOME DE LOGRADOURO DO IMOVEL    </th><th>NUMERO DO IMOVEL  </th><th>COMPLEMENTO DO IMOVEL  </th><th>BAIRRO DO IMOVEL  </th><th>REFERENCIA DO IMOVEL  </th><th>CEP DO IMOVEL  </th><th>QUANTIDADE DE ESQUINAS FRENTES  </th><th>VALOR DO M2 DO TERRENO  </th><th>VALOR DO M2 DE CONSTRUCAO  </th><th>ANO DA CONSTRUCAO CORRIGIDO  </th><th>QUANTIDADE DE PAVIMENTOS  </th><th>TESTADA PARA CALCULO  </th><th>TIPO DE USO DO IMOVEL    </th><th>TIPO DE PADRAO DA CONSTRUCAO   </th><th>TIPO DE TERRENO  </th><th>FATOR DE OBSOLESCENCIA  </th><th>ANO DE INICIO DA VIDA DO CONTRIBUINTE  </th><th>MES DE INICIO DA VIDA DO CONTRIBUINTE  </th><th>FASE DO CONTRIBUINTE  </th><th>area_contruida_total  </th><th>NUMERO DO CONDOMINIO  </th><th>FRACAO IDEAL  </th><th>AREA CONSTRUIDA  </th><th>AREA OCUPADA  </th><th>AREA DO TERRENO  </th><th>sq    </th><th>sqlc        </th><th>fracao_ideal         </th><th>ca                </th><th>to                </th><th>valor_terreno    </th><th>valor_construcao  </th><th>qd_setor  </th><th>qd_fiscal  </th><th>ds_codigo  </th><th>ds_nome   </th><th>ds_cd_sub  </th><th>ds_subpref  </th><th>od_id  </th><th>od_nome         </th><th>sqod     </th><th>classificacao_abrangente  </th><th>distrito  </th></tr>\n",
       "</thead>\n",
       "<tbody>\n",
       "<tr><td><i style='opacity: 0.6'>0</i>         </td><td>0010030001-4            </td><td>1995              </td><td>1             </td><td>--                           </td><td>03812-1           </td><td>R          SAO CAETANO          </td><td>13.0              </td><td>--                     </td><td>--                </td><td>--                    </td><td>01104-001      </td><td>1                               </td><td>100.0                   </td><td>129.0                      </td><td>1924                         </td><td>1                         </td><td>13.0                  </td><td>loja                     </td><td>comercial horizontal - Padrão B</td><td>de esquina       </td><td>0.0                     </td><td>1963                                   </td><td>1                                      </td><td>--                    </td><td>135                   </td><td>00-0                  </td><td>1.0           </td><td>135              </td><td>0             </td><td>136              </td><td>001003</td><td>001003000100</td><td>1.0                  </td><td>0.9926470588235294</td><td>0.0               </td><td>13600.0          </td><td>17415.0           </td><td>001       </td><td>003        </td><td>9          </td><td>BOM RETIRO</td><td>09         </td><td>SE          </td><td>7      </td><td>Luz             </td><td>001003007</td><td>Comercial                 </td><td>9         </td></tr>\n",
       "<tr><td><i style='opacity: 0.6'>1</i>         </td><td>0010030002-2            </td><td>1995              </td><td>1             </td><td>--                           </td><td>03812-1           </td><td>R          SAO CAETANO          </td><td>19.0              </td><td>--                     </td><td>--                </td><td>--                    </td><td>01104-001      </td><td>0                               </td><td>100.0                   </td><td>94.0                       </td><td>1944                         </td><td>1                         </td><td>6.0                   </td><td>loja                     </td><td>comercial horizontal - Padrão A</td><td>normal           </td><td>0.0                     </td><td>1963                                   </td><td>1                                      </td><td>--                    </td><td>67                    </td><td>00-0                  </td><td>1.0           </td><td>67               </td><td>0             </td><td>90               </td><td>001003</td><td>001003000200</td><td>1.0                  </td><td>0.7444444444444445</td><td>0.0               </td><td>9000.0           </td><td>6298.0            </td><td>001       </td><td>003        </td><td>9          </td><td>BOM RETIRO</td><td>09         </td><td>SE          </td><td>7      </td><td>Luz             </td><td>001003007</td><td>Comercial                 </td><td>9         </td></tr>\n",
       "<tr><td><i style='opacity: 0.6'>2</i>         </td><td>0010030003-0            </td><td>1995              </td><td>1             </td><td>--                           </td><td>03812-1           </td><td>R          SAO CAETANO          </td><td>27.0              </td><td>--                     </td><td>--                </td><td>--                    </td><td>01104-001      </td><td>0                               </td><td>100.0                   </td><td>94.0                       </td><td>1944                         </td><td>1                         </td><td>8.0                   </td><td>loja                     </td><td>comercial horizontal - Padrão A</td><td>normal           </td><td>0.0                     </td><td>1963                                   </td><td>1                                      </td><td>--                    </td><td>85                    </td><td>00-0                  </td><td>1.0           </td><td>85               </td><td>0             </td><td>105              </td><td>001003</td><td>001003000300</td><td>1.0                  </td><td>0.8095238095238095</td><td>0.0               </td><td>10500.0          </td><td>7990.0            </td><td>001       </td><td>003        </td><td>9          </td><td>BOM RETIRO</td><td>09         </td><td>SE          </td><td>7      </td><td>Luz             </td><td>001003007</td><td>Comercial                 </td><td>9         </td></tr>\n",
       "<tr><td><i style='opacity: 0.6'>3</i>         </td><td>0010030004-9            </td><td>1995              </td><td>1             </td><td>--                           </td><td>03812-1           </td><td>R          SAO CAETANO          </td><td>33.0              </td><td>--                     </td><td>--                </td><td>--                    </td><td>01104-001      </td><td>0                               </td><td>100.0                   </td><td>129.0                      </td><td>1944                         </td><td>1                         </td><td>6.0                   </td><td>loja                     </td><td>comercial horizontal - Padrão B</td><td>normal           </td><td>0.0                     </td><td>1963                                   </td><td>1                                      </td><td>--                    </td><td>103                   </td><td>00-0                  </td><td>1.0           </td><td>103              </td><td>0             </td><td>108              </td><td>001003</td><td>001003000400</td><td>1.0                  </td><td>0.9537037037037037</td><td>0.0               </td><td>10800.0          </td><td>13287.0           </td><td>001       </td><td>003        </td><td>9          </td><td>BOM RETIRO</td><td>09         </td><td>SE          </td><td>7      </td><td>Luz             </td><td>001003007</td><td>Comercial                 </td><td>9         </td></tr>\n",
       "<tr><td><i style='opacity: 0.6'>4</i>         </td><td>0010030005-7            </td><td>1995              </td><td>1             </td><td>--                           </td><td>03812-1           </td><td>R          SAO CAETANO          </td><td>39.0              </td><td>--                     </td><td>--                </td><td>--                    </td><td>01104-001      </td><td>0                               </td><td>100.0                   </td><td>94.0                       </td><td>1944                         </td><td>1                         </td><td>7.0                   </td><td>loja                     </td><td>comercial horizontal - Padrão A</td><td>normal           </td><td>0.0                     </td><td>1963                                   </td><td>1                                      </td><td>--                    </td><td>98                    </td><td>00-0                  </td><td>1.0           </td><td>98               </td><td>0             </td><td>120              </td><td>001003</td><td>001003000500</td><td>1.0                  </td><td>0.8166666666666667</td><td>0.0               </td><td>12000.0          </td><td>9212.0            </td><td>001       </td><td>003        </td><td>9          </td><td>BOM RETIRO</td><td>09         </td><td>SE          </td><td>7      </td><td>Luz             </td><td>001003007</td><td>Comercial                 </td><td>9         </td></tr>\n",
       "<tr><td>...                                   </td><td>...                     </td><td>...               </td><td>...           </td><td>...                          </td><td>...               </td><td>...                             </td><td>...               </td><td>...                    </td><td>...               </td><td>...                   </td><td>...            </td><td>...                             </td><td>...                     </td><td>...                        </td><td>...                          </td><td>...                       </td><td>...                   </td><td>...                      </td><td>...                            </td><td>...              </td><td>...                     </td><td>...                                    </td><td>...                                    </td><td>...                   </td><td>...                   </td><td>...                   </td><td>...           </td><td>...              </td><td>...           </td><td>...              </td><td>...   </td><td>...         </td><td>...                  </td><td>...               </td><td>...               </td><td>...              </td><td>...               </td><td>...       </td><td>...        </td><td>...        </td><td>...       </td><td>...        </td><td>...         </td><td>...    </td><td>...             </td><td>...      </td><td>...                       </td><td>...       </td></tr>\n",
       "<tr><td><i style='opacity: 0.6'>82,322,054</i></td><td>3101180238-1            </td><td>2022              </td><td>1             </td><td>2022-01-01 00:00:00.000000000</td><td>02235-7           </td><td>AV ENG ARMANDO DE ARRUDA PEREIRA</td><td>1827.0            </td><td>AP 42                  </td><td>JABAQUARA         </td><td>BL 15 QD II           </td><td>04309-011      </td><td>5                               </td><td>2301.0                  </td><td>2005.0                     </td><td>1978                         </td><td>5                         </td><td>0.0                   </td><td>Apartamento em condomínio</td><td>Residencial vertical - padrão B</td><td>De esquina       </td><td>0.2                     </td><td>1985                                   </td><td>1                                      </td><td>0                     </td><td>25215                 </td><td>01-9                  </td><td>0.0033        </td><td>84               </td><td>5312          </td><td>18041            </td><td>310118</td><td>310118000001</td><td>0.0032999999821186066</td><td>1.4109276421746886</td><td>0.2944404412172274</td><td>136990.7245577015</td><td>168420.0          </td><td>310       </td><td>118        </td><td>38         </td><td>JABAQUARA </td><td>15         </td><td>JABAQUARA   </td><td>275    </td><td>Cidade Vargas   </td><td>310118275</td><td>Residencial               </td><td>38        </td></tr>\n",
       "<tr><td><i style='opacity: 0.6'>82,322,055</i></td><td>3101180239-1            </td><td>2022              </td><td>1             </td><td>2022-01-01 00:00:00.000000000</td><td>02235-7           </td><td>AV ENG ARMANDO DE ARRUDA PEREIRA</td><td>1827.0            </td><td>AP 43                  </td><td>JABAQUARA         </td><td>BL 15 QD II           </td><td>04309-011      </td><td>5                               </td><td>2301.0                  </td><td>2005.0                     </td><td>1978                         </td><td>5                         </td><td>0.0                   </td><td>Apartamento em condomínio</td><td>Residencial vertical - padrão B</td><td>De esquina       </td><td>0.2                     </td><td>1985                                   </td><td>1                                      </td><td>0                     </td><td>25215                 </td><td>01-9                  </td><td>0.0033        </td><td>84               </td><td>5312          </td><td>18041            </td><td>310118</td><td>310118000001</td><td>0.0032999999821186066</td><td>1.4109276421746886</td><td>0.2944404412172274</td><td>136990.7245577015</td><td>168420.0          </td><td>310       </td><td>118        </td><td>38         </td><td>JABAQUARA </td><td>15         </td><td>JABAQUARA   </td><td>275    </td><td>Cidade Vargas   </td><td>310118275</td><td>Residencial               </td><td>38        </td></tr>\n",
       "<tr><td><i style='opacity: 0.6'>82,322,056</i></td><td>3101180240-3            </td><td>2022              </td><td>1             </td><td>2022-01-01 00:00:00.000000000</td><td>02235-7           </td><td>AV ENG ARMANDO DE ARRUDA PEREIRA</td><td>1827.0            </td><td>AP 44                  </td><td>JABAQUARA         </td><td>BL 15 QD II           </td><td>04309-011      </td><td>5                               </td><td>2301.0                  </td><td>2005.0                     </td><td>1978                         </td><td>5                         </td><td>0.0                   </td><td>Apartamento em condomínio</td><td>Residencial vertical - padrão B</td><td>De esquina       </td><td>0.2                     </td><td>1985                                   </td><td>1                                      </td><td>0                     </td><td>25215                 </td><td>01-9                  </td><td>0.0033        </td><td>84               </td><td>5312          </td><td>18041            </td><td>310118</td><td>310118000001</td><td>0.0032999999821186066</td><td>1.4109276421746886</td><td>0.2944404412172274</td><td>136990.7245577015</td><td>168420.0          </td><td>310       </td><td>118        </td><td>38         </td><td>JABAQUARA </td><td>15         </td><td>JABAQUARA   </td><td>275    </td><td>Cidade Vargas   </td><td>310118275</td><td>Residencial               </td><td>38        </td></tr>\n",
       "<tr><td><i style='opacity: 0.6'>82,322,057</i></td><td>3101190001-4            </td><td>2022              </td><td>1             </td><td>2022-01-01 00:00:00.000000000</td><td>19137-0           </td><td>R  COTIPORA                     </td><td>nan               </td><td>--                     </td><td>CIDADE VARGAS     </td><td>--                    </td><td>04317-060      </td><td>2                               </td><td>2149.0                  </td><td>0.0                        </td><td>0                            </td><td>0                         </td><td>0.0                   </td><td>Terreno                  </td><td>TERRENO                        </td><td>De esquina       </td><td>0.0                     </td><td>1988                                   </td><td>1                                      </td><td>0                     </td><td>0                     </td><td>00-0                  </td><td>1.0           </td><td>0                </td><td>0             </td><td>18500            </td><td>310119</td><td>310119000100</td><td>1.0                  </td><td>0.0               </td><td>0.0               </td><td>39756500.0       </td><td>0.0               </td><td>310       </td><td>119        </td><td>38         </td><td>JABAQUARA </td><td>15         </td><td>JABAQUARA   </td><td>275    </td><td>Cidade Vargas   </td><td>310119275</td><td>Outros                    </td><td>38        </td></tr>\n",
       "<tr><td><i style='opacity: 0.6'>82,322,058</i></td><td>3101200001-7            </td><td>2022              </td><td>1             </td><td>2022-01-01 00:00:00.000000000</td><td>01041-3           </td><td>R  AMBORES                      </td><td>nan               </td><td>--                     </td><td>CIDADE VARGAS     </td><td>--                    </td><td>04319-110      </td><td>0                               </td><td>591.0                   </td><td>0.0                        </td><td>0                            </td><td>0                         </td><td>500.0                 </td><td>Terreno                  </td><td>TERRENO                        </td><td>Normal           </td><td>0.0                     </td><td>1988                                   </td><td>1                                      </td><td>0                     </td><td>0                     </td><td>00-0                  </td><td>1.0           </td><td>0                </td><td>0             </td><td>18926            </td><td>310120</td><td>310120000100</td><td>1.0                  </td><td>0.0               </td><td>0.0               </td><td>11185266.0       </td><td>0.0               </td><td>310       </td><td>120        </td><td>38         </td><td>JABAQUARA </td><td>15         </td><td>JABAQUARA   </td><td>276    </td><td>Jardim Bom Clima</td><td>310120276</td><td>Outros                    </td><td>38        </td></tr>\n",
       "</tbody>\n",
       "</table>"
      ],
      "text/plain": [
       "#           NUMERO DO CONTRIBUINTE    ANO DO EXERCICIO    NUMERO DA NL    DATA DO CADASTRAMENTO          CODLOG DO IMOVEL    NOME DE LOGRADOURO DO IMOVEL      NUMERO DO IMOVEL    COMPLEMENTO DO IMOVEL    BAIRRO DO IMOVEL    REFERENCIA DO IMOVEL    CEP DO IMOVEL    QUANTIDADE DE ESQUINAS FRENTES    VALOR DO M2 DO TERRENO    VALOR DO M2 DE CONSTRUCAO    ANO DA CONSTRUCAO CORRIGIDO    QUANTIDADE DE PAVIMENTOS    TESTADA PARA CALCULO    TIPO DE USO DO IMOVEL      TIPO DE PADRAO DA CONSTRUCAO     TIPO DE TERRENO    FATOR DE OBSOLESCENCIA    ANO DE INICIO DA VIDA DO CONTRIBUINTE    MES DE INICIO DA VIDA DO CONTRIBUINTE    FASE DO CONTRIBUINTE    area_contruida_total    NUMERO DO CONDOMINIO    FRACAO IDEAL    AREA CONSTRUIDA    AREA OCUPADA    AREA DO TERRENO    sq      sqlc          fracao_ideal           ca                  to                  valor_terreno      valor_construcao    qd_setor    qd_fiscal    ds_codigo    ds_nome     ds_cd_sub    ds_subpref    od_id    od_nome           sqod       classificacao_abrangente    distrito\n",
       "0           0010030001-4              1995                1               --                             03812-1             R          SAO CAETANO            13.0                --                       --                  --                      01104-001        1                                 100.0                     129.0                        1924                           1                           13.0                    loja                       comercial horizontal - Padrão B  de esquina         0.0                       1963                                     1                                        --                      135                     00-0                    1.0             135                0               136                001003  001003000100  1.0                    0.9926470588235294  0.0                 13600.0            17415.0             001         003          9            BOM RETIRO  09           SE            7        Luz               001003007  Comercial                   9\n",
       "1           0010030002-2              1995                1               --                             03812-1             R          SAO CAETANO            19.0                --                       --                  --                      01104-001        0                                 100.0                     94.0                         1944                           1                           6.0                     loja                       comercial horizontal - Padrão A  normal             0.0                       1963                                     1                                        --                      67                      00-0                    1.0             67                 0               90                 001003  001003000200  1.0                    0.7444444444444445  0.0                 9000.0             6298.0              001         003          9            BOM RETIRO  09           SE            7        Luz               001003007  Comercial                   9\n",
       "2           0010030003-0              1995                1               --                             03812-1             R          SAO CAETANO            27.0                --                       --                  --                      01104-001        0                                 100.0                     94.0                         1944                           1                           8.0                     loja                       comercial horizontal - Padrão A  normal             0.0                       1963                                     1                                        --                      85                      00-0                    1.0             85                 0               105                001003  001003000300  1.0                    0.8095238095238095  0.0                 10500.0            7990.0              001         003          9            BOM RETIRO  09           SE            7        Luz               001003007  Comercial                   9\n",
       "3           0010030004-9              1995                1               --                             03812-1             R          SAO CAETANO            33.0                --                       --                  --                      01104-001        0                                 100.0                     129.0                        1944                           1                           6.0                     loja                       comercial horizontal - Padrão B  normal             0.0                       1963                                     1                                        --                      103                     00-0                    1.0             103                0               108                001003  001003000400  1.0                    0.9537037037037037  0.0                 10800.0            13287.0             001         003          9            BOM RETIRO  09           SE            7        Luz               001003007  Comercial                   9\n",
       "4           0010030005-7              1995                1               --                             03812-1             R          SAO CAETANO            39.0                --                       --                  --                      01104-001        0                                 100.0                     94.0                         1944                           1                           7.0                     loja                       comercial horizontal - Padrão A  normal             0.0                       1963                                     1                                        --                      98                      00-0                    1.0             98                 0               120                001003  001003000500  1.0                    0.8166666666666667  0.0                 12000.0            9212.0              001         003          9            BOM RETIRO  09           SE            7        Luz               001003007  Comercial                   9\n",
       "...         ...                       ...                 ...             ...                            ...                 ...                               ...                 ...                      ...                 ...                     ...              ...                               ...                       ...                          ...                            ...                         ...                     ...                        ...                              ...                ...                       ...                                      ...                                      ...                     ...                     ...                     ...             ...                ...             ...                ...     ...           ...                    ...                 ...                 ...                ...                 ...         ...          ...          ...         ...          ...           ...      ...               ...        ...                         ...\n",
       "82,322,054  3101180238-1              2022                1               2022-01-01 00:00:00.000000000  02235-7             AV ENG ARMANDO DE ARRUDA PEREIRA  1827.0              AP 42                    JABAQUARA           BL 15 QD II             04309-011        5                                 2301.0                    2005.0                       1978                           5                           0.0                     Apartamento em condomínio  Residencial vertical - padrão B  De esquina         0.2                       1985                                     1                                        0                       25215                   01-9                    0.0033          84                 5312            18041              310118  310118000001  0.0032999999821186066  1.4109276421746886  0.2944404412172274  136990.7245577015  168420.0            310         118          38           JABAQUARA   15           JABAQUARA     275      Cidade Vargas     310118275  Residencial                 38\n",
       "82,322,055  3101180239-1              2022                1               2022-01-01 00:00:00.000000000  02235-7             AV ENG ARMANDO DE ARRUDA PEREIRA  1827.0              AP 43                    JABAQUARA           BL 15 QD II             04309-011        5                                 2301.0                    2005.0                       1978                           5                           0.0                     Apartamento em condomínio  Residencial vertical - padrão B  De esquina         0.2                       1985                                     1                                        0                       25215                   01-9                    0.0033          84                 5312            18041              310118  310118000001  0.0032999999821186066  1.4109276421746886  0.2944404412172274  136990.7245577015  168420.0            310         118          38           JABAQUARA   15           JABAQUARA     275      Cidade Vargas     310118275  Residencial                 38\n",
       "82,322,056  3101180240-3              2022                1               2022-01-01 00:00:00.000000000  02235-7             AV ENG ARMANDO DE ARRUDA PEREIRA  1827.0              AP 44                    JABAQUARA           BL 15 QD II             04309-011        5                                 2301.0                    2005.0                       1978                           5                           0.0                     Apartamento em condomínio  Residencial vertical - padrão B  De esquina         0.2                       1985                                     1                                        0                       25215                   01-9                    0.0033          84                 5312            18041              310118  310118000001  0.0032999999821186066  1.4109276421746886  0.2944404412172274  136990.7245577015  168420.0            310         118          38           JABAQUARA   15           JABAQUARA     275      Cidade Vargas     310118275  Residencial                 38\n",
       "82,322,057  3101190001-4              2022                1               2022-01-01 00:00:00.000000000  19137-0             R  COTIPORA                       nan                 --                       CIDADE VARGAS       --                      04317-060        2                                 2149.0                    0.0                          0                              0                           0.0                     Terreno                    TERRENO                          De esquina         0.0                       1988                                     1                                        0                       0                       00-0                    1.0             0                  0               18500              310119  310119000100  1.0                    0.0                 0.0                 39756500.0         0.0                 310         119          38           JABAQUARA   15           JABAQUARA     275      Cidade Vargas     310119275  Outros                      38\n",
       "82,322,058  3101200001-7              2022                1               2022-01-01 00:00:00.000000000  01041-3             R  AMBORES                        nan                 --                       CIDADE VARGAS       --                      04319-110        0                                 591.0                     0.0                          0                              0                           500.0                   Terreno                    TERRENO                          Normal             0.0                       1988                                     1                                        0                       0                       00-0                    1.0             0                  0               18926              310120  310120000100  1.0                    0.0                 0.0                 11185266.0         0.0                 310         120          38           JABAQUARA   15           JABAQUARA     276      Jardim Bom Clima  310120276  Outros                      38"
      ]
     },
     "execution_count": 42,
     "metadata": {},
     "output_type": "execute_result"
    }
   ],
   "source": [
    "# df_iptu.head(1)\n",
    "df_iptu.fillna(value='0', column_names=['ds_codigo'], inplace=True)\n",
    "df_iptu['distrito'] = df_iptu['ds_codigo'].astype('int')\n",
    "df_iptu.categorize('distrito', inplace=True)\n",
    "# df_iptu.head(1)"
   ]
  },
  {
   "cell_type": "code",
   "execution_count": 43,
   "metadata": {},
   "outputs": [
    {
     "data": {
      "text/html": [
       "<table>\n",
       "<thead>\n",
       "<tr><th>#                                     </th><th>NUMERO DO CONTRIBUINTE  </th><th>ANO DO EXERCICIO  </th><th>NUMERO DA NL  </th><th>DATA DO CADASTRAMENTO        </th><th>CODLOG DO IMOVEL  </th><th>NOME DE LOGRADOURO DO IMOVEL    </th><th>NUMERO DO IMOVEL  </th><th>COMPLEMENTO DO IMOVEL  </th><th>BAIRRO DO IMOVEL  </th><th>REFERENCIA DO IMOVEL  </th><th>CEP DO IMOVEL  </th><th>QUANTIDADE DE ESQUINAS FRENTES  </th><th>VALOR DO M2 DO TERRENO  </th><th>VALOR DO M2 DE CONSTRUCAO  </th><th>ANO DA CONSTRUCAO CORRIGIDO  </th><th>QUANTIDADE DE PAVIMENTOS  </th><th>TESTADA PARA CALCULO  </th><th>TIPO DE USO DO IMOVEL    </th><th>TIPO DE PADRAO DA CONSTRUCAO   </th><th>TIPO DE TERRENO  </th><th>FATOR DE OBSOLESCENCIA  </th><th>ANO DE INICIO DA VIDA DO CONTRIBUINTE  </th><th>MES DE INICIO DA VIDA DO CONTRIBUINTE  </th><th>FASE DO CONTRIBUINTE  </th><th>area_contruida_total  </th><th>NUMERO DO CONDOMINIO  </th><th>FRACAO IDEAL  </th><th>AREA CONSTRUIDA  </th><th>AREA OCUPADA  </th><th>AREA DO TERRENO  </th><th>sq    </th><th>sqlc        </th><th>fracao_ideal         </th><th>ca                </th><th>to                </th><th>valor_terreno    </th><th>valor_construcao  </th><th>qd_setor  </th><th>qd_fiscal  </th><th>ds_codigo  </th><th>ds_nome   </th><th>ds_cd_sub  </th><th>ds_subpref  </th><th>od_id  </th><th>od_nome         </th><th>sqod     </th><th>classificacao_abrangente  </th><th>distrito  </th><th>ano  </th></tr>\n",
       "</thead>\n",
       "<tbody>\n",
       "<tr><td><i style='opacity: 0.6'>0</i>         </td><td>0010030001-4            </td><td>1995              </td><td>1             </td><td>--                           </td><td>03812-1           </td><td>R          SAO CAETANO          </td><td>13.0              </td><td>--                     </td><td>--                </td><td>--                    </td><td>01104-001      </td><td>1                               </td><td>100.0                   </td><td>129.0                      </td><td>1924                         </td><td>1                         </td><td>13.0                  </td><td>loja                     </td><td>comercial horizontal - Padrão B</td><td>de esquina       </td><td>0.0                     </td><td>1963                                   </td><td>1                                      </td><td>--                    </td><td>135                   </td><td>00-0                  </td><td>1.0           </td><td>135              </td><td>0             </td><td>136              </td><td>001003</td><td>001003000100</td><td>1.0                  </td><td>0.9926470588235294</td><td>0.0               </td><td>13600.0          </td><td>17415.0           </td><td>001       </td><td>003        </td><td>9          </td><td>BOM RETIRO</td><td>09         </td><td>SE          </td><td>7      </td><td>Luz             </td><td>001003007</td><td>Comercial                 </td><td>9         </td><td>1995 </td></tr>\n",
       "<tr><td><i style='opacity: 0.6'>1</i>         </td><td>0010030002-2            </td><td>1995              </td><td>1             </td><td>--                           </td><td>03812-1           </td><td>R          SAO CAETANO          </td><td>19.0              </td><td>--                     </td><td>--                </td><td>--                    </td><td>01104-001      </td><td>0                               </td><td>100.0                   </td><td>94.0                       </td><td>1944                         </td><td>1                         </td><td>6.0                   </td><td>loja                     </td><td>comercial horizontal - Padrão A</td><td>normal           </td><td>0.0                     </td><td>1963                                   </td><td>1                                      </td><td>--                    </td><td>67                    </td><td>00-0                  </td><td>1.0           </td><td>67               </td><td>0             </td><td>90               </td><td>001003</td><td>001003000200</td><td>1.0                  </td><td>0.7444444444444445</td><td>0.0               </td><td>9000.0           </td><td>6298.0            </td><td>001       </td><td>003        </td><td>9          </td><td>BOM RETIRO</td><td>09         </td><td>SE          </td><td>7      </td><td>Luz             </td><td>001003007</td><td>Comercial                 </td><td>9         </td><td>1995 </td></tr>\n",
       "<tr><td><i style='opacity: 0.6'>2</i>         </td><td>0010030003-0            </td><td>1995              </td><td>1             </td><td>--                           </td><td>03812-1           </td><td>R          SAO CAETANO          </td><td>27.0              </td><td>--                     </td><td>--                </td><td>--                    </td><td>01104-001      </td><td>0                               </td><td>100.0                   </td><td>94.0                       </td><td>1944                         </td><td>1                         </td><td>8.0                   </td><td>loja                     </td><td>comercial horizontal - Padrão A</td><td>normal           </td><td>0.0                     </td><td>1963                                   </td><td>1                                      </td><td>--                    </td><td>85                    </td><td>00-0                  </td><td>1.0           </td><td>85               </td><td>0             </td><td>105              </td><td>001003</td><td>001003000300</td><td>1.0                  </td><td>0.8095238095238095</td><td>0.0               </td><td>10500.0          </td><td>7990.0            </td><td>001       </td><td>003        </td><td>9          </td><td>BOM RETIRO</td><td>09         </td><td>SE          </td><td>7      </td><td>Luz             </td><td>001003007</td><td>Comercial                 </td><td>9         </td><td>1995 </td></tr>\n",
       "<tr><td><i style='opacity: 0.6'>3</i>         </td><td>0010030004-9            </td><td>1995              </td><td>1             </td><td>--                           </td><td>03812-1           </td><td>R          SAO CAETANO          </td><td>33.0              </td><td>--                     </td><td>--                </td><td>--                    </td><td>01104-001      </td><td>0                               </td><td>100.0                   </td><td>129.0                      </td><td>1944                         </td><td>1                         </td><td>6.0                   </td><td>loja                     </td><td>comercial horizontal - Padrão B</td><td>normal           </td><td>0.0                     </td><td>1963                                   </td><td>1                                      </td><td>--                    </td><td>103                   </td><td>00-0                  </td><td>1.0           </td><td>103              </td><td>0             </td><td>108              </td><td>001003</td><td>001003000400</td><td>1.0                  </td><td>0.9537037037037037</td><td>0.0               </td><td>10800.0          </td><td>13287.0           </td><td>001       </td><td>003        </td><td>9          </td><td>BOM RETIRO</td><td>09         </td><td>SE          </td><td>7      </td><td>Luz             </td><td>001003007</td><td>Comercial                 </td><td>9         </td><td>1995 </td></tr>\n",
       "<tr><td><i style='opacity: 0.6'>4</i>         </td><td>0010030005-7            </td><td>1995              </td><td>1             </td><td>--                           </td><td>03812-1           </td><td>R          SAO CAETANO          </td><td>39.0              </td><td>--                     </td><td>--                </td><td>--                    </td><td>01104-001      </td><td>0                               </td><td>100.0                   </td><td>94.0                       </td><td>1944                         </td><td>1                         </td><td>7.0                   </td><td>loja                     </td><td>comercial horizontal - Padrão A</td><td>normal           </td><td>0.0                     </td><td>1963                                   </td><td>1                                      </td><td>--                    </td><td>98                    </td><td>00-0                  </td><td>1.0           </td><td>98               </td><td>0             </td><td>120              </td><td>001003</td><td>001003000500</td><td>1.0                  </td><td>0.8166666666666667</td><td>0.0               </td><td>12000.0          </td><td>9212.0            </td><td>001       </td><td>003        </td><td>9          </td><td>BOM RETIRO</td><td>09         </td><td>SE          </td><td>7      </td><td>Luz             </td><td>001003007</td><td>Comercial                 </td><td>9         </td><td>1995 </td></tr>\n",
       "<tr><td>...                                   </td><td>...                     </td><td>...               </td><td>...           </td><td>...                          </td><td>...               </td><td>...                             </td><td>...               </td><td>...                    </td><td>...               </td><td>...                   </td><td>...            </td><td>...                             </td><td>...                     </td><td>...                        </td><td>...                          </td><td>...                       </td><td>...                   </td><td>...                      </td><td>...                            </td><td>...              </td><td>...                     </td><td>...                                    </td><td>...                                    </td><td>...                   </td><td>...                   </td><td>...                   </td><td>...           </td><td>...              </td><td>...           </td><td>...              </td><td>...   </td><td>...         </td><td>...                  </td><td>...               </td><td>...               </td><td>...              </td><td>...               </td><td>...       </td><td>...        </td><td>...        </td><td>...       </td><td>...        </td><td>...         </td><td>...    </td><td>...             </td><td>...      </td><td>...                       </td><td>...       </td><td>...  </td></tr>\n",
       "<tr><td><i style='opacity: 0.6'>82,322,054</i></td><td>3101180238-1            </td><td>2022              </td><td>1             </td><td>2022-01-01 00:00:00.000000000</td><td>02235-7           </td><td>AV ENG ARMANDO DE ARRUDA PEREIRA</td><td>1827.0            </td><td>AP 42                  </td><td>JABAQUARA         </td><td>BL 15 QD II           </td><td>04309-011      </td><td>5                               </td><td>2301.0                  </td><td>2005.0                     </td><td>1978                         </td><td>5                         </td><td>0.0                   </td><td>Apartamento em condomínio</td><td>Residencial vertical - padrão B</td><td>De esquina       </td><td>0.2                     </td><td>1985                                   </td><td>1                                      </td><td>0                     </td><td>25215                 </td><td>01-9                  </td><td>0.0033        </td><td>84               </td><td>5312          </td><td>18041            </td><td>310118</td><td>310118000001</td><td>0.0032999999821186066</td><td>1.4109276421746886</td><td>0.2944404412172274</td><td>136990.7245577015</td><td>168420.0          </td><td>310       </td><td>118        </td><td>38         </td><td>JABAQUARA </td><td>15         </td><td>JABAQUARA   </td><td>275    </td><td>Cidade Vargas   </td><td>310118275</td><td>Residencial               </td><td>38        </td><td>2022 </td></tr>\n",
       "<tr><td><i style='opacity: 0.6'>82,322,055</i></td><td>3101180239-1            </td><td>2022              </td><td>1             </td><td>2022-01-01 00:00:00.000000000</td><td>02235-7           </td><td>AV ENG ARMANDO DE ARRUDA PEREIRA</td><td>1827.0            </td><td>AP 43                  </td><td>JABAQUARA         </td><td>BL 15 QD II           </td><td>04309-011      </td><td>5                               </td><td>2301.0                  </td><td>2005.0                     </td><td>1978                         </td><td>5                         </td><td>0.0                   </td><td>Apartamento em condomínio</td><td>Residencial vertical - padrão B</td><td>De esquina       </td><td>0.2                     </td><td>1985                                   </td><td>1                                      </td><td>0                     </td><td>25215                 </td><td>01-9                  </td><td>0.0033        </td><td>84               </td><td>5312          </td><td>18041            </td><td>310118</td><td>310118000001</td><td>0.0032999999821186066</td><td>1.4109276421746886</td><td>0.2944404412172274</td><td>136990.7245577015</td><td>168420.0          </td><td>310       </td><td>118        </td><td>38         </td><td>JABAQUARA </td><td>15         </td><td>JABAQUARA   </td><td>275    </td><td>Cidade Vargas   </td><td>310118275</td><td>Residencial               </td><td>38        </td><td>2022 </td></tr>\n",
       "<tr><td><i style='opacity: 0.6'>82,322,056</i></td><td>3101180240-3            </td><td>2022              </td><td>1             </td><td>2022-01-01 00:00:00.000000000</td><td>02235-7           </td><td>AV ENG ARMANDO DE ARRUDA PEREIRA</td><td>1827.0            </td><td>AP 44                  </td><td>JABAQUARA         </td><td>BL 15 QD II           </td><td>04309-011      </td><td>5                               </td><td>2301.0                  </td><td>2005.0                     </td><td>1978                         </td><td>5                         </td><td>0.0                   </td><td>Apartamento em condomínio</td><td>Residencial vertical - padrão B</td><td>De esquina       </td><td>0.2                     </td><td>1985                                   </td><td>1                                      </td><td>0                     </td><td>25215                 </td><td>01-9                  </td><td>0.0033        </td><td>84               </td><td>5312          </td><td>18041            </td><td>310118</td><td>310118000001</td><td>0.0032999999821186066</td><td>1.4109276421746886</td><td>0.2944404412172274</td><td>136990.7245577015</td><td>168420.0          </td><td>310       </td><td>118        </td><td>38         </td><td>JABAQUARA </td><td>15         </td><td>JABAQUARA   </td><td>275    </td><td>Cidade Vargas   </td><td>310118275</td><td>Residencial               </td><td>38        </td><td>2022 </td></tr>\n",
       "<tr><td><i style='opacity: 0.6'>82,322,057</i></td><td>3101190001-4            </td><td>2022              </td><td>1             </td><td>2022-01-01 00:00:00.000000000</td><td>19137-0           </td><td>R  COTIPORA                     </td><td>nan               </td><td>--                     </td><td>CIDADE VARGAS     </td><td>--                    </td><td>04317-060      </td><td>2                               </td><td>2149.0                  </td><td>0.0                        </td><td>0                            </td><td>0                         </td><td>0.0                   </td><td>Terreno                  </td><td>TERRENO                        </td><td>De esquina       </td><td>0.0                     </td><td>1988                                   </td><td>1                                      </td><td>0                     </td><td>0                     </td><td>00-0                  </td><td>1.0           </td><td>0                </td><td>0             </td><td>18500            </td><td>310119</td><td>310119000100</td><td>1.0                  </td><td>0.0               </td><td>0.0               </td><td>39756500.0       </td><td>0.0               </td><td>310       </td><td>119        </td><td>38         </td><td>JABAQUARA </td><td>15         </td><td>JABAQUARA   </td><td>275    </td><td>Cidade Vargas   </td><td>310119275</td><td>Outros                    </td><td>38        </td><td>2022 </td></tr>\n",
       "<tr><td><i style='opacity: 0.6'>82,322,058</i></td><td>3101200001-7            </td><td>2022              </td><td>1             </td><td>2022-01-01 00:00:00.000000000</td><td>01041-3           </td><td>R  AMBORES                      </td><td>nan               </td><td>--                     </td><td>CIDADE VARGAS     </td><td>--                    </td><td>04319-110      </td><td>0                               </td><td>591.0                   </td><td>0.0                        </td><td>0                            </td><td>0                         </td><td>500.0                 </td><td>Terreno                  </td><td>TERRENO                        </td><td>Normal           </td><td>0.0                     </td><td>1988                                   </td><td>1                                      </td><td>0                     </td><td>0                     </td><td>00-0                  </td><td>1.0           </td><td>0                </td><td>0             </td><td>18926            </td><td>310120</td><td>310120000100</td><td>1.0                  </td><td>0.0               </td><td>0.0               </td><td>11185266.0       </td><td>0.0               </td><td>310       </td><td>120        </td><td>38         </td><td>JABAQUARA </td><td>15         </td><td>JABAQUARA   </td><td>276    </td><td>Jardim Bom Clima</td><td>310120276</td><td>Outros                    </td><td>38        </td><td>2022 </td></tr>\n",
       "</tbody>\n",
       "</table>"
      ],
      "text/plain": [
       "#           NUMERO DO CONTRIBUINTE    ANO DO EXERCICIO    NUMERO DA NL    DATA DO CADASTRAMENTO          CODLOG DO IMOVEL    NOME DE LOGRADOURO DO IMOVEL      NUMERO DO IMOVEL    COMPLEMENTO DO IMOVEL    BAIRRO DO IMOVEL    REFERENCIA DO IMOVEL    CEP DO IMOVEL    QUANTIDADE DE ESQUINAS FRENTES    VALOR DO M2 DO TERRENO    VALOR DO M2 DE CONSTRUCAO    ANO DA CONSTRUCAO CORRIGIDO    QUANTIDADE DE PAVIMENTOS    TESTADA PARA CALCULO    TIPO DE USO DO IMOVEL      TIPO DE PADRAO DA CONSTRUCAO     TIPO DE TERRENO    FATOR DE OBSOLESCENCIA    ANO DE INICIO DA VIDA DO CONTRIBUINTE    MES DE INICIO DA VIDA DO CONTRIBUINTE    FASE DO CONTRIBUINTE    area_contruida_total    NUMERO DO CONDOMINIO    FRACAO IDEAL    AREA CONSTRUIDA    AREA OCUPADA    AREA DO TERRENO    sq      sqlc          fracao_ideal           ca                  to                  valor_terreno      valor_construcao    qd_setor    qd_fiscal    ds_codigo    ds_nome     ds_cd_sub    ds_subpref    od_id    od_nome           sqod       classificacao_abrangente    distrito    ano\n",
       "0           0010030001-4              1995                1               --                             03812-1             R          SAO CAETANO            13.0                --                       --                  --                      01104-001        1                                 100.0                     129.0                        1924                           1                           13.0                    loja                       comercial horizontal - Padrão B  de esquina         0.0                       1963                                     1                                        --                      135                     00-0                    1.0             135                0               136                001003  001003000100  1.0                    0.9926470588235294  0.0                 13600.0            17415.0             001         003          9            BOM RETIRO  09           SE            7        Luz               001003007  Comercial                   9           1995\n",
       "1           0010030002-2              1995                1               --                             03812-1             R          SAO CAETANO            19.0                --                       --                  --                      01104-001        0                                 100.0                     94.0                         1944                           1                           6.0                     loja                       comercial horizontal - Padrão A  normal             0.0                       1963                                     1                                        --                      67                      00-0                    1.0             67                 0               90                 001003  001003000200  1.0                    0.7444444444444445  0.0                 9000.0             6298.0              001         003          9            BOM RETIRO  09           SE            7        Luz               001003007  Comercial                   9           1995\n",
       "2           0010030003-0              1995                1               --                             03812-1             R          SAO CAETANO            27.0                --                       --                  --                      01104-001        0                                 100.0                     94.0                         1944                           1                           8.0                     loja                       comercial horizontal - Padrão A  normal             0.0                       1963                                     1                                        --                      85                      00-0                    1.0             85                 0               105                001003  001003000300  1.0                    0.8095238095238095  0.0                 10500.0            7990.0              001         003          9            BOM RETIRO  09           SE            7        Luz               001003007  Comercial                   9           1995\n",
       "3           0010030004-9              1995                1               --                             03812-1             R          SAO CAETANO            33.0                --                       --                  --                      01104-001        0                                 100.0                     129.0                        1944                           1                           6.0                     loja                       comercial horizontal - Padrão B  normal             0.0                       1963                                     1                                        --                      103                     00-0                    1.0             103                0               108                001003  001003000400  1.0                    0.9537037037037037  0.0                 10800.0            13287.0             001         003          9            BOM RETIRO  09           SE            7        Luz               001003007  Comercial                   9           1995\n",
       "4           0010030005-7              1995                1               --                             03812-1             R          SAO CAETANO            39.0                --                       --                  --                      01104-001        0                                 100.0                     94.0                         1944                           1                           7.0                     loja                       comercial horizontal - Padrão A  normal             0.0                       1963                                     1                                        --                      98                      00-0                    1.0             98                 0               120                001003  001003000500  1.0                    0.8166666666666667  0.0                 12000.0            9212.0              001         003          9            BOM RETIRO  09           SE            7        Luz               001003007  Comercial                   9           1995\n",
       "...         ...                       ...                 ...             ...                            ...                 ...                               ...                 ...                      ...                 ...                     ...              ...                               ...                       ...                          ...                            ...                         ...                     ...                        ...                              ...                ...                       ...                                      ...                                      ...                     ...                     ...                     ...             ...                ...             ...                ...     ...           ...                    ...                 ...                 ...                ...                 ...         ...          ...          ...         ...          ...           ...      ...               ...        ...                         ...         ...\n",
       "82,322,054  3101180238-1              2022                1               2022-01-01 00:00:00.000000000  02235-7             AV ENG ARMANDO DE ARRUDA PEREIRA  1827.0              AP 42                    JABAQUARA           BL 15 QD II             04309-011        5                                 2301.0                    2005.0                       1978                           5                           0.0                     Apartamento em condomínio  Residencial vertical - padrão B  De esquina         0.2                       1985                                     1                                        0                       25215                   01-9                    0.0033          84                 5312            18041              310118  310118000001  0.0032999999821186066  1.4109276421746886  0.2944404412172274  136990.7245577015  168420.0            310         118          38           JABAQUARA   15           JABAQUARA     275      Cidade Vargas     310118275  Residencial                 38          2022\n",
       "82,322,055  3101180239-1              2022                1               2022-01-01 00:00:00.000000000  02235-7             AV ENG ARMANDO DE ARRUDA PEREIRA  1827.0              AP 43                    JABAQUARA           BL 15 QD II             04309-011        5                                 2301.0                    2005.0                       1978                           5                           0.0                     Apartamento em condomínio  Residencial vertical - padrão B  De esquina         0.2                       1985                                     1                                        0                       25215                   01-9                    0.0033          84                 5312            18041              310118  310118000001  0.0032999999821186066  1.4109276421746886  0.2944404412172274  136990.7245577015  168420.0            310         118          38           JABAQUARA   15           JABAQUARA     275      Cidade Vargas     310118275  Residencial                 38          2022\n",
       "82,322,056  3101180240-3              2022                1               2022-01-01 00:00:00.000000000  02235-7             AV ENG ARMANDO DE ARRUDA PEREIRA  1827.0              AP 44                    JABAQUARA           BL 15 QD II             04309-011        5                                 2301.0                    2005.0                       1978                           5                           0.0                     Apartamento em condomínio  Residencial vertical - padrão B  De esquina         0.2                       1985                                     1                                        0                       25215                   01-9                    0.0033          84                 5312            18041              310118  310118000001  0.0032999999821186066  1.4109276421746886  0.2944404412172274  136990.7245577015  168420.0            310         118          38           JABAQUARA   15           JABAQUARA     275      Cidade Vargas     310118275  Residencial                 38          2022\n",
       "82,322,057  3101190001-4              2022                1               2022-01-01 00:00:00.000000000  19137-0             R  COTIPORA                       nan                 --                       CIDADE VARGAS       --                      04317-060        2                                 2149.0                    0.0                          0                              0                           0.0                     Terreno                    TERRENO                          De esquina         0.0                       1988                                     1                                        0                       0                       00-0                    1.0             0                  0               18500              310119  310119000100  1.0                    0.0                 0.0                 39756500.0         0.0                 310         119          38           JABAQUARA   15           JABAQUARA     275      Cidade Vargas     310119275  Outros                      38          2022\n",
       "82,322,058  3101200001-7              2022                1               2022-01-01 00:00:00.000000000  01041-3             R  AMBORES                        nan                 --                       CIDADE VARGAS       --                      04319-110        0                                 591.0                     0.0                          0                              0                           500.0                   Terreno                    TERRENO                          Normal             0.0                       1988                                     1                                        0                       0                       00-0                    1.0             0                  0               18926              310120  310120000100  1.0                    0.0                 0.0                 11185266.0         0.0                 310         120          38           JABAQUARA   15           JABAQUARA     276      Jardim Bom Clima  310120276  Outros                      38          2022"
      ]
     },
     "execution_count": 43,
     "metadata": {},
     "output_type": "execute_result"
    }
   ],
   "source": [
    "# df_iptu['distrito'] = df_iptu['ds_codigo'].astype('int')\n",
    "df_iptu['ano'] = df_iptu['ANO DO EXERCICIO'].astype('int')\n",
    "df_iptu.categorize('ano', inplace=True)"
   ]
  },
  {
   "cell_type": "code",
   "execution_count": 44,
   "metadata": {},
   "outputs": [
    {
     "data": {
      "text/html": [
       "<table>\n",
       "<thead>\n",
       "<tr><th>#                                     </th><th>NUMERO DO CONTRIBUINTE  </th><th>ANO DO EXERCICIO  </th><th>NUMERO DA NL  </th><th>DATA DO CADASTRAMENTO        </th><th>CODLOG DO IMOVEL  </th><th>NOME DE LOGRADOURO DO IMOVEL    </th><th>NUMERO DO IMOVEL  </th><th>COMPLEMENTO DO IMOVEL  </th><th>BAIRRO DO IMOVEL  </th><th>REFERENCIA DO IMOVEL  </th><th>CEP DO IMOVEL  </th><th>QUANTIDADE DE ESQUINAS FRENTES  </th><th>VALOR DO M2 DO TERRENO  </th><th>VALOR DO M2 DE CONSTRUCAO  </th><th>ANO DA CONSTRUCAO CORRIGIDO  </th><th>QUANTIDADE DE PAVIMENTOS  </th><th>TESTADA PARA CALCULO  </th><th>TIPO DE USO DO IMOVEL    </th><th>TIPO DE PADRAO DA CONSTRUCAO   </th><th>TIPO DE TERRENO  </th><th>FATOR DE OBSOLESCENCIA  </th><th>ANO DE INICIO DA VIDA DO CONTRIBUINTE  </th><th>MES DE INICIO DA VIDA DO CONTRIBUINTE  </th><th>FASE DO CONTRIBUINTE  </th><th>area_contruida_total  </th><th>NUMERO DO CONDOMINIO  </th><th>FRACAO IDEAL  </th><th>AREA CONSTRUIDA  </th><th>AREA OCUPADA  </th><th>AREA DO TERRENO  </th><th>sq    </th><th>sqlc        </th><th>fracao_ideal         </th><th>ca                </th><th>to                </th><th>valor_terreno    </th><th>valor_construcao  </th><th>qd_setor  </th><th>qd_fiscal  </th><th>ds_codigo  </th><th>ds_nome   </th><th>ds_cd_sub  </th><th>ds_subpref  </th><th>od_id  </th><th>od_nome         </th><th>sqod     </th><th>classificacao_abrangente  </th><th>distrito  </th><th>ano  </th><th>od  </th></tr>\n",
       "</thead>\n",
       "<tbody>\n",
       "<tr><td><i style='opacity: 0.6'>0</i>         </td><td>0010030001-4            </td><td>1995              </td><td>1             </td><td>--                           </td><td>03812-1           </td><td>R          SAO CAETANO          </td><td>13.0              </td><td>--                     </td><td>--                </td><td>--                    </td><td>01104-001      </td><td>1                               </td><td>100.0                   </td><td>129.0                      </td><td>1924                         </td><td>1                         </td><td>13.0                  </td><td>loja                     </td><td>comercial horizontal - Padrão B</td><td>de esquina       </td><td>0.0                     </td><td>1963                                   </td><td>1                                      </td><td>--                    </td><td>135                   </td><td>00-0                  </td><td>1.0           </td><td>135              </td><td>0             </td><td>136              </td><td>001003</td><td>001003000100</td><td>1.0                  </td><td>0.9926470588235294</td><td>0.0               </td><td>13600.0          </td><td>17415.0           </td><td>001       </td><td>003        </td><td>9          </td><td>BOM RETIRO</td><td>09         </td><td>SE          </td><td>7      </td><td>Luz             </td><td>001003007</td><td>Comercial                 </td><td>9         </td><td>1995 </td><td>7   </td></tr>\n",
       "<tr><td><i style='opacity: 0.6'>1</i>         </td><td>0010030002-2            </td><td>1995              </td><td>1             </td><td>--                           </td><td>03812-1           </td><td>R          SAO CAETANO          </td><td>19.0              </td><td>--                     </td><td>--                </td><td>--                    </td><td>01104-001      </td><td>0                               </td><td>100.0                   </td><td>94.0                       </td><td>1944                         </td><td>1                         </td><td>6.0                   </td><td>loja                     </td><td>comercial horizontal - Padrão A</td><td>normal           </td><td>0.0                     </td><td>1963                                   </td><td>1                                      </td><td>--                    </td><td>67                    </td><td>00-0                  </td><td>1.0           </td><td>67               </td><td>0             </td><td>90               </td><td>001003</td><td>001003000200</td><td>1.0                  </td><td>0.7444444444444445</td><td>0.0               </td><td>9000.0           </td><td>6298.0            </td><td>001       </td><td>003        </td><td>9          </td><td>BOM RETIRO</td><td>09         </td><td>SE          </td><td>7      </td><td>Luz             </td><td>001003007</td><td>Comercial                 </td><td>9         </td><td>1995 </td><td>7   </td></tr>\n",
       "<tr><td><i style='opacity: 0.6'>2</i>         </td><td>0010030003-0            </td><td>1995              </td><td>1             </td><td>--                           </td><td>03812-1           </td><td>R          SAO CAETANO          </td><td>27.0              </td><td>--                     </td><td>--                </td><td>--                    </td><td>01104-001      </td><td>0                               </td><td>100.0                   </td><td>94.0                       </td><td>1944                         </td><td>1                         </td><td>8.0                   </td><td>loja                     </td><td>comercial horizontal - Padrão A</td><td>normal           </td><td>0.0                     </td><td>1963                                   </td><td>1                                      </td><td>--                    </td><td>85                    </td><td>00-0                  </td><td>1.0           </td><td>85               </td><td>0             </td><td>105              </td><td>001003</td><td>001003000300</td><td>1.0                  </td><td>0.8095238095238095</td><td>0.0               </td><td>10500.0          </td><td>7990.0            </td><td>001       </td><td>003        </td><td>9          </td><td>BOM RETIRO</td><td>09         </td><td>SE          </td><td>7      </td><td>Luz             </td><td>001003007</td><td>Comercial                 </td><td>9         </td><td>1995 </td><td>7   </td></tr>\n",
       "<tr><td><i style='opacity: 0.6'>3</i>         </td><td>0010030004-9            </td><td>1995              </td><td>1             </td><td>--                           </td><td>03812-1           </td><td>R          SAO CAETANO          </td><td>33.0              </td><td>--                     </td><td>--                </td><td>--                    </td><td>01104-001      </td><td>0                               </td><td>100.0                   </td><td>129.0                      </td><td>1944                         </td><td>1                         </td><td>6.0                   </td><td>loja                     </td><td>comercial horizontal - Padrão B</td><td>normal           </td><td>0.0                     </td><td>1963                                   </td><td>1                                      </td><td>--                    </td><td>103                   </td><td>00-0                  </td><td>1.0           </td><td>103              </td><td>0             </td><td>108              </td><td>001003</td><td>001003000400</td><td>1.0                  </td><td>0.9537037037037037</td><td>0.0               </td><td>10800.0          </td><td>13287.0           </td><td>001       </td><td>003        </td><td>9          </td><td>BOM RETIRO</td><td>09         </td><td>SE          </td><td>7      </td><td>Luz             </td><td>001003007</td><td>Comercial                 </td><td>9         </td><td>1995 </td><td>7   </td></tr>\n",
       "<tr><td><i style='opacity: 0.6'>4</i>         </td><td>0010030005-7            </td><td>1995              </td><td>1             </td><td>--                           </td><td>03812-1           </td><td>R          SAO CAETANO          </td><td>39.0              </td><td>--                     </td><td>--                </td><td>--                    </td><td>01104-001      </td><td>0                               </td><td>100.0                   </td><td>94.0                       </td><td>1944                         </td><td>1                         </td><td>7.0                   </td><td>loja                     </td><td>comercial horizontal - Padrão A</td><td>normal           </td><td>0.0                     </td><td>1963                                   </td><td>1                                      </td><td>--                    </td><td>98                    </td><td>00-0                  </td><td>1.0           </td><td>98               </td><td>0             </td><td>120              </td><td>001003</td><td>001003000500</td><td>1.0                  </td><td>0.8166666666666667</td><td>0.0               </td><td>12000.0          </td><td>9212.0            </td><td>001       </td><td>003        </td><td>9          </td><td>BOM RETIRO</td><td>09         </td><td>SE          </td><td>7      </td><td>Luz             </td><td>001003007</td><td>Comercial                 </td><td>9         </td><td>1995 </td><td>7   </td></tr>\n",
       "<tr><td>...                                   </td><td>...                     </td><td>...               </td><td>...           </td><td>...                          </td><td>...               </td><td>...                             </td><td>...               </td><td>...                    </td><td>...               </td><td>...                   </td><td>...            </td><td>...                             </td><td>...                     </td><td>...                        </td><td>...                          </td><td>...                       </td><td>...                   </td><td>...                      </td><td>...                            </td><td>...              </td><td>...                     </td><td>...                                    </td><td>...                                    </td><td>...                   </td><td>...                   </td><td>...                   </td><td>...           </td><td>...              </td><td>...           </td><td>...              </td><td>...   </td><td>...         </td><td>...                  </td><td>...               </td><td>...               </td><td>...              </td><td>...               </td><td>...       </td><td>...        </td><td>...        </td><td>...       </td><td>...        </td><td>...         </td><td>...    </td><td>...             </td><td>...      </td><td>...                       </td><td>...       </td><td>...  </td><td>... </td></tr>\n",
       "<tr><td><i style='opacity: 0.6'>82,322,054</i></td><td>3101180238-1            </td><td>2022              </td><td>1             </td><td>2022-01-01 00:00:00.000000000</td><td>02235-7           </td><td>AV ENG ARMANDO DE ARRUDA PEREIRA</td><td>1827.0            </td><td>AP 42                  </td><td>JABAQUARA         </td><td>BL 15 QD II           </td><td>04309-011      </td><td>5                               </td><td>2301.0                  </td><td>2005.0                     </td><td>1978                         </td><td>5                         </td><td>0.0                   </td><td>Apartamento em condomínio</td><td>Residencial vertical - padrão B</td><td>De esquina       </td><td>0.2                     </td><td>1985                                   </td><td>1                                      </td><td>0                     </td><td>25215                 </td><td>01-9                  </td><td>0.0033        </td><td>84               </td><td>5312          </td><td>18041            </td><td>310118</td><td>310118000001</td><td>0.0032999999821186066</td><td>1.4109276421746886</td><td>0.2944404412172274</td><td>136990.7245577015</td><td>168420.0          </td><td>310       </td><td>118        </td><td>38         </td><td>JABAQUARA </td><td>15         </td><td>JABAQUARA   </td><td>275    </td><td>Cidade Vargas   </td><td>310118275</td><td>Residencial               </td><td>38        </td><td>2022 </td><td>275 </td></tr>\n",
       "<tr><td><i style='opacity: 0.6'>82,322,055</i></td><td>3101180239-1            </td><td>2022              </td><td>1             </td><td>2022-01-01 00:00:00.000000000</td><td>02235-7           </td><td>AV ENG ARMANDO DE ARRUDA PEREIRA</td><td>1827.0            </td><td>AP 43                  </td><td>JABAQUARA         </td><td>BL 15 QD II           </td><td>04309-011      </td><td>5                               </td><td>2301.0                  </td><td>2005.0                     </td><td>1978                         </td><td>5                         </td><td>0.0                   </td><td>Apartamento em condomínio</td><td>Residencial vertical - padrão B</td><td>De esquina       </td><td>0.2                     </td><td>1985                                   </td><td>1                                      </td><td>0                     </td><td>25215                 </td><td>01-9                  </td><td>0.0033        </td><td>84               </td><td>5312          </td><td>18041            </td><td>310118</td><td>310118000001</td><td>0.0032999999821186066</td><td>1.4109276421746886</td><td>0.2944404412172274</td><td>136990.7245577015</td><td>168420.0          </td><td>310       </td><td>118        </td><td>38         </td><td>JABAQUARA </td><td>15         </td><td>JABAQUARA   </td><td>275    </td><td>Cidade Vargas   </td><td>310118275</td><td>Residencial               </td><td>38        </td><td>2022 </td><td>275 </td></tr>\n",
       "<tr><td><i style='opacity: 0.6'>82,322,056</i></td><td>3101180240-3            </td><td>2022              </td><td>1             </td><td>2022-01-01 00:00:00.000000000</td><td>02235-7           </td><td>AV ENG ARMANDO DE ARRUDA PEREIRA</td><td>1827.0            </td><td>AP 44                  </td><td>JABAQUARA         </td><td>BL 15 QD II           </td><td>04309-011      </td><td>5                               </td><td>2301.0                  </td><td>2005.0                     </td><td>1978                         </td><td>5                         </td><td>0.0                   </td><td>Apartamento em condomínio</td><td>Residencial vertical - padrão B</td><td>De esquina       </td><td>0.2                     </td><td>1985                                   </td><td>1                                      </td><td>0                     </td><td>25215                 </td><td>01-9                  </td><td>0.0033        </td><td>84               </td><td>5312          </td><td>18041            </td><td>310118</td><td>310118000001</td><td>0.0032999999821186066</td><td>1.4109276421746886</td><td>0.2944404412172274</td><td>136990.7245577015</td><td>168420.0          </td><td>310       </td><td>118        </td><td>38         </td><td>JABAQUARA </td><td>15         </td><td>JABAQUARA   </td><td>275    </td><td>Cidade Vargas   </td><td>310118275</td><td>Residencial               </td><td>38        </td><td>2022 </td><td>275 </td></tr>\n",
       "<tr><td><i style='opacity: 0.6'>82,322,057</i></td><td>3101190001-4            </td><td>2022              </td><td>1             </td><td>2022-01-01 00:00:00.000000000</td><td>19137-0           </td><td>R  COTIPORA                     </td><td>nan               </td><td>--                     </td><td>CIDADE VARGAS     </td><td>--                    </td><td>04317-060      </td><td>2                               </td><td>2149.0                  </td><td>0.0                        </td><td>0                            </td><td>0                         </td><td>0.0                   </td><td>Terreno                  </td><td>TERRENO                        </td><td>De esquina       </td><td>0.0                     </td><td>1988                                   </td><td>1                                      </td><td>0                     </td><td>0                     </td><td>00-0                  </td><td>1.0           </td><td>0                </td><td>0             </td><td>18500            </td><td>310119</td><td>310119000100</td><td>1.0                  </td><td>0.0               </td><td>0.0               </td><td>39756500.0       </td><td>0.0               </td><td>310       </td><td>119        </td><td>38         </td><td>JABAQUARA </td><td>15         </td><td>JABAQUARA   </td><td>275    </td><td>Cidade Vargas   </td><td>310119275</td><td>Outros                    </td><td>38        </td><td>2022 </td><td>275 </td></tr>\n",
       "<tr><td><i style='opacity: 0.6'>82,322,058</i></td><td>3101200001-7            </td><td>2022              </td><td>1             </td><td>2022-01-01 00:00:00.000000000</td><td>01041-3           </td><td>R  AMBORES                      </td><td>nan               </td><td>--                     </td><td>CIDADE VARGAS     </td><td>--                    </td><td>04319-110      </td><td>0                               </td><td>591.0                   </td><td>0.0                        </td><td>0                            </td><td>0                         </td><td>500.0                 </td><td>Terreno                  </td><td>TERRENO                        </td><td>Normal           </td><td>0.0                     </td><td>1988                                   </td><td>1                                      </td><td>0                     </td><td>0                     </td><td>00-0                  </td><td>1.0           </td><td>0                </td><td>0             </td><td>18926            </td><td>310120</td><td>310120000100</td><td>1.0                  </td><td>0.0               </td><td>0.0               </td><td>11185266.0       </td><td>0.0               </td><td>310       </td><td>120        </td><td>38         </td><td>JABAQUARA </td><td>15         </td><td>JABAQUARA   </td><td>276    </td><td>Jardim Bom Clima</td><td>310120276</td><td>Outros                    </td><td>38        </td><td>2022 </td><td>276 </td></tr>\n",
       "</tbody>\n",
       "</table>"
      ],
      "text/plain": [
       "#           NUMERO DO CONTRIBUINTE    ANO DO EXERCICIO    NUMERO DA NL    DATA DO CADASTRAMENTO          CODLOG DO IMOVEL    NOME DE LOGRADOURO DO IMOVEL      NUMERO DO IMOVEL    COMPLEMENTO DO IMOVEL    BAIRRO DO IMOVEL    REFERENCIA DO IMOVEL    CEP DO IMOVEL    QUANTIDADE DE ESQUINAS FRENTES    VALOR DO M2 DO TERRENO    VALOR DO M2 DE CONSTRUCAO    ANO DA CONSTRUCAO CORRIGIDO    QUANTIDADE DE PAVIMENTOS    TESTADA PARA CALCULO    TIPO DE USO DO IMOVEL      TIPO DE PADRAO DA CONSTRUCAO     TIPO DE TERRENO    FATOR DE OBSOLESCENCIA    ANO DE INICIO DA VIDA DO CONTRIBUINTE    MES DE INICIO DA VIDA DO CONTRIBUINTE    FASE DO CONTRIBUINTE    area_contruida_total    NUMERO DO CONDOMINIO    FRACAO IDEAL    AREA CONSTRUIDA    AREA OCUPADA    AREA DO TERRENO    sq      sqlc          fracao_ideal           ca                  to                  valor_terreno      valor_construcao    qd_setor    qd_fiscal    ds_codigo    ds_nome     ds_cd_sub    ds_subpref    od_id    od_nome           sqod       classificacao_abrangente    distrito    ano    od\n",
       "0           0010030001-4              1995                1               --                             03812-1             R          SAO CAETANO            13.0                --                       --                  --                      01104-001        1                                 100.0                     129.0                        1924                           1                           13.0                    loja                       comercial horizontal - Padrão B  de esquina         0.0                       1963                                     1                                        --                      135                     00-0                    1.0             135                0               136                001003  001003000100  1.0                    0.9926470588235294  0.0                 13600.0            17415.0             001         003          9            BOM RETIRO  09           SE            7        Luz               001003007  Comercial                   9           1995   7\n",
       "1           0010030002-2              1995                1               --                             03812-1             R          SAO CAETANO            19.0                --                       --                  --                      01104-001        0                                 100.0                     94.0                         1944                           1                           6.0                     loja                       comercial horizontal - Padrão A  normal             0.0                       1963                                     1                                        --                      67                      00-0                    1.0             67                 0               90                 001003  001003000200  1.0                    0.7444444444444445  0.0                 9000.0             6298.0              001         003          9            BOM RETIRO  09           SE            7        Luz               001003007  Comercial                   9           1995   7\n",
       "2           0010030003-0              1995                1               --                             03812-1             R          SAO CAETANO            27.0                --                       --                  --                      01104-001        0                                 100.0                     94.0                         1944                           1                           8.0                     loja                       comercial horizontal - Padrão A  normal             0.0                       1963                                     1                                        --                      85                      00-0                    1.0             85                 0               105                001003  001003000300  1.0                    0.8095238095238095  0.0                 10500.0            7990.0              001         003          9            BOM RETIRO  09           SE            7        Luz               001003007  Comercial                   9           1995   7\n",
       "3           0010030004-9              1995                1               --                             03812-1             R          SAO CAETANO            33.0                --                       --                  --                      01104-001        0                                 100.0                     129.0                        1944                           1                           6.0                     loja                       comercial horizontal - Padrão B  normal             0.0                       1963                                     1                                        --                      103                     00-0                    1.0             103                0               108                001003  001003000400  1.0                    0.9537037037037037  0.0                 10800.0            13287.0             001         003          9            BOM RETIRO  09           SE            7        Luz               001003007  Comercial                   9           1995   7\n",
       "4           0010030005-7              1995                1               --                             03812-1             R          SAO CAETANO            39.0                --                       --                  --                      01104-001        0                                 100.0                     94.0                         1944                           1                           7.0                     loja                       comercial horizontal - Padrão A  normal             0.0                       1963                                     1                                        --                      98                      00-0                    1.0             98                 0               120                001003  001003000500  1.0                    0.8166666666666667  0.0                 12000.0            9212.0              001         003          9            BOM RETIRO  09           SE            7        Luz               001003007  Comercial                   9           1995   7\n",
       "...         ...                       ...                 ...             ...                            ...                 ...                               ...                 ...                      ...                 ...                     ...              ...                               ...                       ...                          ...                            ...                         ...                     ...                        ...                              ...                ...                       ...                                      ...                                      ...                     ...                     ...                     ...             ...                ...             ...                ...     ...           ...                    ...                 ...                 ...                ...                 ...         ...          ...          ...         ...          ...           ...      ...               ...        ...                         ...         ...    ...\n",
       "82,322,054  3101180238-1              2022                1               2022-01-01 00:00:00.000000000  02235-7             AV ENG ARMANDO DE ARRUDA PEREIRA  1827.0              AP 42                    JABAQUARA           BL 15 QD II             04309-011        5                                 2301.0                    2005.0                       1978                           5                           0.0                     Apartamento em condomínio  Residencial vertical - padrão B  De esquina         0.2                       1985                                     1                                        0                       25215                   01-9                    0.0033          84                 5312            18041              310118  310118000001  0.0032999999821186066  1.4109276421746886  0.2944404412172274  136990.7245577015  168420.0            310         118          38           JABAQUARA   15           JABAQUARA     275      Cidade Vargas     310118275  Residencial                 38          2022   275\n",
       "82,322,055  3101180239-1              2022                1               2022-01-01 00:00:00.000000000  02235-7             AV ENG ARMANDO DE ARRUDA PEREIRA  1827.0              AP 43                    JABAQUARA           BL 15 QD II             04309-011        5                                 2301.0                    2005.0                       1978                           5                           0.0                     Apartamento em condomínio  Residencial vertical - padrão B  De esquina         0.2                       1985                                     1                                        0                       25215                   01-9                    0.0033          84                 5312            18041              310118  310118000001  0.0032999999821186066  1.4109276421746886  0.2944404412172274  136990.7245577015  168420.0            310         118          38           JABAQUARA   15           JABAQUARA     275      Cidade Vargas     310118275  Residencial                 38          2022   275\n",
       "82,322,056  3101180240-3              2022                1               2022-01-01 00:00:00.000000000  02235-7             AV ENG ARMANDO DE ARRUDA PEREIRA  1827.0              AP 44                    JABAQUARA           BL 15 QD II             04309-011        5                                 2301.0                    2005.0                       1978                           5                           0.0                     Apartamento em condomínio  Residencial vertical - padrão B  De esquina         0.2                       1985                                     1                                        0                       25215                   01-9                    0.0033          84                 5312            18041              310118  310118000001  0.0032999999821186066  1.4109276421746886  0.2944404412172274  136990.7245577015  168420.0            310         118          38           JABAQUARA   15           JABAQUARA     275      Cidade Vargas     310118275  Residencial                 38          2022   275\n",
       "82,322,057  3101190001-4              2022                1               2022-01-01 00:00:00.000000000  19137-0             R  COTIPORA                       nan                 --                       CIDADE VARGAS       --                      04317-060        2                                 2149.0                    0.0                          0                              0                           0.0                     Terreno                    TERRENO                          De esquina         0.0                       1988                                     1                                        0                       0                       00-0                    1.0             0                  0               18500              310119  310119000100  1.0                    0.0                 0.0                 39756500.0         0.0                 310         119          38           JABAQUARA   15           JABAQUARA     275      Cidade Vargas     310119275  Outros                      38          2022   275\n",
       "82,322,058  3101200001-7              2022                1               2022-01-01 00:00:00.000000000  01041-3             R  AMBORES                        nan                 --                       CIDADE VARGAS       --                      04319-110        0                                 591.0                     0.0                          0                              0                           500.0                   Terreno                    TERRENO                          Normal             0.0                       1988                                     1                                        0                       0                       00-0                    1.0             0                  0               18926              310120  310120000100  1.0                    0.0                 0.0                 11185266.0         0.0                 310         120          38           JABAQUARA   15           JABAQUARA     276      Jardim Bom Clima  310120276  Outros                      38          2022   276"
      ]
     },
     "execution_count": 44,
     "metadata": {},
     "output_type": "execute_result"
    }
   ],
   "source": [
    "df_iptu.fillna(value='0', column_names=['od_id'], inplace=True)\n",
    "df_iptu['od'] = df_iptu['od_id'].astype('int')\n",
    "df_iptu.categorize('od', inplace=True)"
   ]
  },
  {
   "cell_type": "code",
   "execution_count": 45,
   "metadata": {},
   "outputs": [
    {
     "data": {
      "text/plain": [
       "(82322059, 50)"
      ]
     },
     "execution_count": 45,
     "metadata": {},
     "output_type": "execute_result"
    }
   ],
   "source": [
    "df_iptu.shape"
   ]
  },
  {
   "cell_type": "markdown",
   "metadata": {},
   "source": []
  },
  {
   "cell_type": "code",
   "execution_count": 46,
   "metadata": {},
   "outputs": [
    {
     "data": {
      "text/html": [
       "<table>\n",
       "<thead>\n",
       "<tr><th>#                                     </th><th>NUMERO DO CONTRIBUINTE  </th><th>ANO DO EXERCICIO  </th><th>NUMERO DA NL  </th><th>DATA DO CADASTRAMENTO        </th><th>CODLOG DO IMOVEL  </th><th>NOME DE LOGRADOURO DO IMOVEL    </th><th>NUMERO DO IMOVEL  </th><th>COMPLEMENTO DO IMOVEL  </th><th>BAIRRO DO IMOVEL  </th><th>REFERENCIA DO IMOVEL  </th><th>CEP DO IMOVEL  </th><th>QUANTIDADE DE ESQUINAS FRENTES  </th><th>VALOR DO M2 DO TERRENO  </th><th>VALOR DO M2 DE CONSTRUCAO  </th><th>ANO DA CONSTRUCAO CORRIGIDO  </th><th>QUANTIDADE DE PAVIMENTOS  </th><th>TESTADA PARA CALCULO  </th><th>TIPO DE USO DO IMOVEL    </th><th>TIPO DE PADRAO DA CONSTRUCAO   </th><th>TIPO DE TERRENO  </th><th>FATOR DE OBSOLESCENCIA  </th><th>ANO DE INICIO DA VIDA DO CONTRIBUINTE  </th><th>MES DE INICIO DA VIDA DO CONTRIBUINTE  </th><th>FASE DO CONTRIBUINTE  </th><th>area_contruida_total  </th><th>NUMERO DO CONDOMINIO  </th><th>FRACAO IDEAL  </th><th>AREA CONSTRUIDA  </th><th>AREA OCUPADA  </th><th>AREA DO TERRENO  </th><th>sq    </th><th>sqlc        </th><th>fracao_ideal         </th><th>ca                </th><th>to                </th><th>valor_terreno    </th><th>valor_construcao  </th><th>qd_setor  </th><th>qd_fiscal  </th><th>ds_codigo  </th><th>ds_nome   </th><th>ds_cd_sub  </th><th>ds_subpref  </th><th>od_id  </th><th>od_nome         </th><th>sqod     </th><th>classificacao_abrangente  </th><th>distrito  </th><th>ano  </th><th>od  </th><th>subprefeitura  </th></tr>\n",
       "</thead>\n",
       "<tbody>\n",
       "<tr><td><i style='opacity: 0.6'>0</i>         </td><td>0010030001-4            </td><td>1995              </td><td>1             </td><td>--                           </td><td>03812-1           </td><td>R          SAO CAETANO          </td><td>13.0              </td><td>--                     </td><td>--                </td><td>--                    </td><td>01104-001      </td><td>1                               </td><td>100.0                   </td><td>129.0                      </td><td>1924                         </td><td>1                         </td><td>13.0                  </td><td>loja                     </td><td>comercial horizontal - Padrão B</td><td>de esquina       </td><td>0.0                     </td><td>1963                                   </td><td>1                                      </td><td>--                    </td><td>135                   </td><td>00-0                  </td><td>1.0           </td><td>135              </td><td>0             </td><td>136              </td><td>001003</td><td>001003000100</td><td>1.0                  </td><td>0.9926470588235294</td><td>0.0               </td><td>13600.0          </td><td>17415.0           </td><td>001       </td><td>003        </td><td>9          </td><td>BOM RETIRO</td><td>09         </td><td>SE          </td><td>7      </td><td>Luz             </td><td>001003007</td><td>Comercial                 </td><td>9         </td><td>1995 </td><td>7   </td><td>9              </td></tr>\n",
       "<tr><td><i style='opacity: 0.6'>1</i>         </td><td>0010030002-2            </td><td>1995              </td><td>1             </td><td>--                           </td><td>03812-1           </td><td>R          SAO CAETANO          </td><td>19.0              </td><td>--                     </td><td>--                </td><td>--                    </td><td>01104-001      </td><td>0                               </td><td>100.0                   </td><td>94.0                       </td><td>1944                         </td><td>1                         </td><td>6.0                   </td><td>loja                     </td><td>comercial horizontal - Padrão A</td><td>normal           </td><td>0.0                     </td><td>1963                                   </td><td>1                                      </td><td>--                    </td><td>67                    </td><td>00-0                  </td><td>1.0           </td><td>67               </td><td>0             </td><td>90               </td><td>001003</td><td>001003000200</td><td>1.0                  </td><td>0.7444444444444445</td><td>0.0               </td><td>9000.0           </td><td>6298.0            </td><td>001       </td><td>003        </td><td>9          </td><td>BOM RETIRO</td><td>09         </td><td>SE          </td><td>7      </td><td>Luz             </td><td>001003007</td><td>Comercial                 </td><td>9         </td><td>1995 </td><td>7   </td><td>9              </td></tr>\n",
       "<tr><td><i style='opacity: 0.6'>2</i>         </td><td>0010030003-0            </td><td>1995              </td><td>1             </td><td>--                           </td><td>03812-1           </td><td>R          SAO CAETANO          </td><td>27.0              </td><td>--                     </td><td>--                </td><td>--                    </td><td>01104-001      </td><td>0                               </td><td>100.0                   </td><td>94.0                       </td><td>1944                         </td><td>1                         </td><td>8.0                   </td><td>loja                     </td><td>comercial horizontal - Padrão A</td><td>normal           </td><td>0.0                     </td><td>1963                                   </td><td>1                                      </td><td>--                    </td><td>85                    </td><td>00-0                  </td><td>1.0           </td><td>85               </td><td>0             </td><td>105              </td><td>001003</td><td>001003000300</td><td>1.0                  </td><td>0.8095238095238095</td><td>0.0               </td><td>10500.0          </td><td>7990.0            </td><td>001       </td><td>003        </td><td>9          </td><td>BOM RETIRO</td><td>09         </td><td>SE          </td><td>7      </td><td>Luz             </td><td>001003007</td><td>Comercial                 </td><td>9         </td><td>1995 </td><td>7   </td><td>9              </td></tr>\n",
       "<tr><td><i style='opacity: 0.6'>3</i>         </td><td>0010030004-9            </td><td>1995              </td><td>1             </td><td>--                           </td><td>03812-1           </td><td>R          SAO CAETANO          </td><td>33.0              </td><td>--                     </td><td>--                </td><td>--                    </td><td>01104-001      </td><td>0                               </td><td>100.0                   </td><td>129.0                      </td><td>1944                         </td><td>1                         </td><td>6.0                   </td><td>loja                     </td><td>comercial horizontal - Padrão B</td><td>normal           </td><td>0.0                     </td><td>1963                                   </td><td>1                                      </td><td>--                    </td><td>103                   </td><td>00-0                  </td><td>1.0           </td><td>103              </td><td>0             </td><td>108              </td><td>001003</td><td>001003000400</td><td>1.0                  </td><td>0.9537037037037037</td><td>0.0               </td><td>10800.0          </td><td>13287.0           </td><td>001       </td><td>003        </td><td>9          </td><td>BOM RETIRO</td><td>09         </td><td>SE          </td><td>7      </td><td>Luz             </td><td>001003007</td><td>Comercial                 </td><td>9         </td><td>1995 </td><td>7   </td><td>9              </td></tr>\n",
       "<tr><td><i style='opacity: 0.6'>4</i>         </td><td>0010030005-7            </td><td>1995              </td><td>1             </td><td>--                           </td><td>03812-1           </td><td>R          SAO CAETANO          </td><td>39.0              </td><td>--                     </td><td>--                </td><td>--                    </td><td>01104-001      </td><td>0                               </td><td>100.0                   </td><td>94.0                       </td><td>1944                         </td><td>1                         </td><td>7.0                   </td><td>loja                     </td><td>comercial horizontal - Padrão A</td><td>normal           </td><td>0.0                     </td><td>1963                                   </td><td>1                                      </td><td>--                    </td><td>98                    </td><td>00-0                  </td><td>1.0           </td><td>98               </td><td>0             </td><td>120              </td><td>001003</td><td>001003000500</td><td>1.0                  </td><td>0.8166666666666667</td><td>0.0               </td><td>12000.0          </td><td>9212.0            </td><td>001       </td><td>003        </td><td>9          </td><td>BOM RETIRO</td><td>09         </td><td>SE          </td><td>7      </td><td>Luz             </td><td>001003007</td><td>Comercial                 </td><td>9         </td><td>1995 </td><td>7   </td><td>9              </td></tr>\n",
       "<tr><td>...                                   </td><td>...                     </td><td>...               </td><td>...           </td><td>...                          </td><td>...               </td><td>...                             </td><td>...               </td><td>...                    </td><td>...               </td><td>...                   </td><td>...            </td><td>...                             </td><td>...                     </td><td>...                        </td><td>...                          </td><td>...                       </td><td>...                   </td><td>...                      </td><td>...                            </td><td>...              </td><td>...                     </td><td>...                                    </td><td>...                                    </td><td>...                   </td><td>...                   </td><td>...                   </td><td>...           </td><td>...              </td><td>...           </td><td>...              </td><td>...   </td><td>...         </td><td>...                  </td><td>...               </td><td>...               </td><td>...              </td><td>...               </td><td>...       </td><td>...        </td><td>...        </td><td>...       </td><td>...        </td><td>...         </td><td>...    </td><td>...             </td><td>...      </td><td>...                       </td><td>...       </td><td>...  </td><td>... </td><td>...            </td></tr>\n",
       "<tr><td><i style='opacity: 0.6'>82,322,054</i></td><td>3101180238-1            </td><td>2022              </td><td>1             </td><td>2022-01-01 00:00:00.000000000</td><td>02235-7           </td><td>AV ENG ARMANDO DE ARRUDA PEREIRA</td><td>1827.0            </td><td>AP 42                  </td><td>JABAQUARA         </td><td>BL 15 QD II           </td><td>04309-011      </td><td>5                               </td><td>2301.0                  </td><td>2005.0                     </td><td>1978                         </td><td>5                         </td><td>0.0                   </td><td>Apartamento em condomínio</td><td>Residencial vertical - padrão B</td><td>De esquina       </td><td>0.2                     </td><td>1985                                   </td><td>1                                      </td><td>0                     </td><td>25215                 </td><td>01-9                  </td><td>0.0033        </td><td>84               </td><td>5312          </td><td>18041            </td><td>310118</td><td>310118000001</td><td>0.0032999999821186066</td><td>1.4109276421746886</td><td>0.2944404412172274</td><td>136990.7245577015</td><td>168420.0          </td><td>310       </td><td>118        </td><td>38         </td><td>JABAQUARA </td><td>15         </td><td>JABAQUARA   </td><td>275    </td><td>Cidade Vargas   </td><td>310118275</td><td>Residencial               </td><td>38        </td><td>2022 </td><td>275 </td><td>15             </td></tr>\n",
       "<tr><td><i style='opacity: 0.6'>82,322,055</i></td><td>3101180239-1            </td><td>2022              </td><td>1             </td><td>2022-01-01 00:00:00.000000000</td><td>02235-7           </td><td>AV ENG ARMANDO DE ARRUDA PEREIRA</td><td>1827.0            </td><td>AP 43                  </td><td>JABAQUARA         </td><td>BL 15 QD II           </td><td>04309-011      </td><td>5                               </td><td>2301.0                  </td><td>2005.0                     </td><td>1978                         </td><td>5                         </td><td>0.0                   </td><td>Apartamento em condomínio</td><td>Residencial vertical - padrão B</td><td>De esquina       </td><td>0.2                     </td><td>1985                                   </td><td>1                                      </td><td>0                     </td><td>25215                 </td><td>01-9                  </td><td>0.0033        </td><td>84               </td><td>5312          </td><td>18041            </td><td>310118</td><td>310118000001</td><td>0.0032999999821186066</td><td>1.4109276421746886</td><td>0.2944404412172274</td><td>136990.7245577015</td><td>168420.0          </td><td>310       </td><td>118        </td><td>38         </td><td>JABAQUARA </td><td>15         </td><td>JABAQUARA   </td><td>275    </td><td>Cidade Vargas   </td><td>310118275</td><td>Residencial               </td><td>38        </td><td>2022 </td><td>275 </td><td>15             </td></tr>\n",
       "<tr><td><i style='opacity: 0.6'>82,322,056</i></td><td>3101180240-3            </td><td>2022              </td><td>1             </td><td>2022-01-01 00:00:00.000000000</td><td>02235-7           </td><td>AV ENG ARMANDO DE ARRUDA PEREIRA</td><td>1827.0            </td><td>AP 44                  </td><td>JABAQUARA         </td><td>BL 15 QD II           </td><td>04309-011      </td><td>5                               </td><td>2301.0                  </td><td>2005.0                     </td><td>1978                         </td><td>5                         </td><td>0.0                   </td><td>Apartamento em condomínio</td><td>Residencial vertical - padrão B</td><td>De esquina       </td><td>0.2                     </td><td>1985                                   </td><td>1                                      </td><td>0                     </td><td>25215                 </td><td>01-9                  </td><td>0.0033        </td><td>84               </td><td>5312          </td><td>18041            </td><td>310118</td><td>310118000001</td><td>0.0032999999821186066</td><td>1.4109276421746886</td><td>0.2944404412172274</td><td>136990.7245577015</td><td>168420.0          </td><td>310       </td><td>118        </td><td>38         </td><td>JABAQUARA </td><td>15         </td><td>JABAQUARA   </td><td>275    </td><td>Cidade Vargas   </td><td>310118275</td><td>Residencial               </td><td>38        </td><td>2022 </td><td>275 </td><td>15             </td></tr>\n",
       "<tr><td><i style='opacity: 0.6'>82,322,057</i></td><td>3101190001-4            </td><td>2022              </td><td>1             </td><td>2022-01-01 00:00:00.000000000</td><td>19137-0           </td><td>R  COTIPORA                     </td><td>nan               </td><td>--                     </td><td>CIDADE VARGAS     </td><td>--                    </td><td>04317-060      </td><td>2                               </td><td>2149.0                  </td><td>0.0                        </td><td>0                            </td><td>0                         </td><td>0.0                   </td><td>Terreno                  </td><td>TERRENO                        </td><td>De esquina       </td><td>0.0                     </td><td>1988                                   </td><td>1                                      </td><td>0                     </td><td>0                     </td><td>00-0                  </td><td>1.0           </td><td>0                </td><td>0             </td><td>18500            </td><td>310119</td><td>310119000100</td><td>1.0                  </td><td>0.0               </td><td>0.0               </td><td>39756500.0       </td><td>0.0               </td><td>310       </td><td>119        </td><td>38         </td><td>JABAQUARA </td><td>15         </td><td>JABAQUARA   </td><td>275    </td><td>Cidade Vargas   </td><td>310119275</td><td>Outros                    </td><td>38        </td><td>2022 </td><td>275 </td><td>15             </td></tr>\n",
       "<tr><td><i style='opacity: 0.6'>82,322,058</i></td><td>3101200001-7            </td><td>2022              </td><td>1             </td><td>2022-01-01 00:00:00.000000000</td><td>01041-3           </td><td>R  AMBORES                      </td><td>nan               </td><td>--                     </td><td>CIDADE VARGAS     </td><td>--                    </td><td>04319-110      </td><td>0                               </td><td>591.0                   </td><td>0.0                        </td><td>0                            </td><td>0                         </td><td>500.0                 </td><td>Terreno                  </td><td>TERRENO                        </td><td>Normal           </td><td>0.0                     </td><td>1988                                   </td><td>1                                      </td><td>0                     </td><td>0                     </td><td>00-0                  </td><td>1.0           </td><td>0                </td><td>0             </td><td>18926            </td><td>310120</td><td>310120000100</td><td>1.0                  </td><td>0.0               </td><td>0.0               </td><td>11185266.0       </td><td>0.0               </td><td>310       </td><td>120        </td><td>38         </td><td>JABAQUARA </td><td>15         </td><td>JABAQUARA   </td><td>276    </td><td>Jardim Bom Clima</td><td>310120276</td><td>Outros                    </td><td>38        </td><td>2022 </td><td>276 </td><td>15             </td></tr>\n",
       "</tbody>\n",
       "</table>"
      ],
      "text/plain": [
       "#           NUMERO DO CONTRIBUINTE    ANO DO EXERCICIO    NUMERO DA NL    DATA DO CADASTRAMENTO          CODLOG DO IMOVEL    NOME DE LOGRADOURO DO IMOVEL      NUMERO DO IMOVEL    COMPLEMENTO DO IMOVEL    BAIRRO DO IMOVEL    REFERENCIA DO IMOVEL    CEP DO IMOVEL    QUANTIDADE DE ESQUINAS FRENTES    VALOR DO M2 DO TERRENO    VALOR DO M2 DE CONSTRUCAO    ANO DA CONSTRUCAO CORRIGIDO    QUANTIDADE DE PAVIMENTOS    TESTADA PARA CALCULO    TIPO DE USO DO IMOVEL      TIPO DE PADRAO DA CONSTRUCAO     TIPO DE TERRENO    FATOR DE OBSOLESCENCIA    ANO DE INICIO DA VIDA DO CONTRIBUINTE    MES DE INICIO DA VIDA DO CONTRIBUINTE    FASE DO CONTRIBUINTE    area_contruida_total    NUMERO DO CONDOMINIO    FRACAO IDEAL    AREA CONSTRUIDA    AREA OCUPADA    AREA DO TERRENO    sq      sqlc          fracao_ideal           ca                  to                  valor_terreno      valor_construcao    qd_setor    qd_fiscal    ds_codigo    ds_nome     ds_cd_sub    ds_subpref    od_id    od_nome           sqod       classificacao_abrangente    distrito    ano    od    subprefeitura\n",
       "0           0010030001-4              1995                1               --                             03812-1             R          SAO CAETANO            13.0                --                       --                  --                      01104-001        1                                 100.0                     129.0                        1924                           1                           13.0                    loja                       comercial horizontal - Padrão B  de esquina         0.0                       1963                                     1                                        --                      135                     00-0                    1.0             135                0               136                001003  001003000100  1.0                    0.9926470588235294  0.0                 13600.0            17415.0             001         003          9            BOM RETIRO  09           SE            7        Luz               001003007  Comercial                   9           1995   7     9\n",
       "1           0010030002-2              1995                1               --                             03812-1             R          SAO CAETANO            19.0                --                       --                  --                      01104-001        0                                 100.0                     94.0                         1944                           1                           6.0                     loja                       comercial horizontal - Padrão A  normal             0.0                       1963                                     1                                        --                      67                      00-0                    1.0             67                 0               90                 001003  001003000200  1.0                    0.7444444444444445  0.0                 9000.0             6298.0              001         003          9            BOM RETIRO  09           SE            7        Luz               001003007  Comercial                   9           1995   7     9\n",
       "2           0010030003-0              1995                1               --                             03812-1             R          SAO CAETANO            27.0                --                       --                  --                      01104-001        0                                 100.0                     94.0                         1944                           1                           8.0                     loja                       comercial horizontal - Padrão A  normal             0.0                       1963                                     1                                        --                      85                      00-0                    1.0             85                 0               105                001003  001003000300  1.0                    0.8095238095238095  0.0                 10500.0            7990.0              001         003          9            BOM RETIRO  09           SE            7        Luz               001003007  Comercial                   9           1995   7     9\n",
       "3           0010030004-9              1995                1               --                             03812-1             R          SAO CAETANO            33.0                --                       --                  --                      01104-001        0                                 100.0                     129.0                        1944                           1                           6.0                     loja                       comercial horizontal - Padrão B  normal             0.0                       1963                                     1                                        --                      103                     00-0                    1.0             103                0               108                001003  001003000400  1.0                    0.9537037037037037  0.0                 10800.0            13287.0             001         003          9            BOM RETIRO  09           SE            7        Luz               001003007  Comercial                   9           1995   7     9\n",
       "4           0010030005-7              1995                1               --                             03812-1             R          SAO CAETANO            39.0                --                       --                  --                      01104-001        0                                 100.0                     94.0                         1944                           1                           7.0                     loja                       comercial horizontal - Padrão A  normal             0.0                       1963                                     1                                        --                      98                      00-0                    1.0             98                 0               120                001003  001003000500  1.0                    0.8166666666666667  0.0                 12000.0            9212.0              001         003          9            BOM RETIRO  09           SE            7        Luz               001003007  Comercial                   9           1995   7     9\n",
       "...         ...                       ...                 ...             ...                            ...                 ...                               ...                 ...                      ...                 ...                     ...              ...                               ...                       ...                          ...                            ...                         ...                     ...                        ...                              ...                ...                       ...                                      ...                                      ...                     ...                     ...                     ...             ...                ...             ...                ...     ...           ...                    ...                 ...                 ...                ...                 ...         ...          ...          ...         ...          ...           ...      ...               ...        ...                         ...         ...    ...   ...\n",
       "82,322,054  3101180238-1              2022                1               2022-01-01 00:00:00.000000000  02235-7             AV ENG ARMANDO DE ARRUDA PEREIRA  1827.0              AP 42                    JABAQUARA           BL 15 QD II             04309-011        5                                 2301.0                    2005.0                       1978                           5                           0.0                     Apartamento em condomínio  Residencial vertical - padrão B  De esquina         0.2                       1985                                     1                                        0                       25215                   01-9                    0.0033          84                 5312            18041              310118  310118000001  0.0032999999821186066  1.4109276421746886  0.2944404412172274  136990.7245577015  168420.0            310         118          38           JABAQUARA   15           JABAQUARA     275      Cidade Vargas     310118275  Residencial                 38          2022   275   15\n",
       "82,322,055  3101180239-1              2022                1               2022-01-01 00:00:00.000000000  02235-7             AV ENG ARMANDO DE ARRUDA PEREIRA  1827.0              AP 43                    JABAQUARA           BL 15 QD II             04309-011        5                                 2301.0                    2005.0                       1978                           5                           0.0                     Apartamento em condomínio  Residencial vertical - padrão B  De esquina         0.2                       1985                                     1                                        0                       25215                   01-9                    0.0033          84                 5312            18041              310118  310118000001  0.0032999999821186066  1.4109276421746886  0.2944404412172274  136990.7245577015  168420.0            310         118          38           JABAQUARA   15           JABAQUARA     275      Cidade Vargas     310118275  Residencial                 38          2022   275   15\n",
       "82,322,056  3101180240-3              2022                1               2022-01-01 00:00:00.000000000  02235-7             AV ENG ARMANDO DE ARRUDA PEREIRA  1827.0              AP 44                    JABAQUARA           BL 15 QD II             04309-011        5                                 2301.0                    2005.0                       1978                           5                           0.0                     Apartamento em condomínio  Residencial vertical - padrão B  De esquina         0.2                       1985                                     1                                        0                       25215                   01-9                    0.0033          84                 5312            18041              310118  310118000001  0.0032999999821186066  1.4109276421746886  0.2944404412172274  136990.7245577015  168420.0            310         118          38           JABAQUARA   15           JABAQUARA     275      Cidade Vargas     310118275  Residencial                 38          2022   275   15\n",
       "82,322,057  3101190001-4              2022                1               2022-01-01 00:00:00.000000000  19137-0             R  COTIPORA                       nan                 --                       CIDADE VARGAS       --                      04317-060        2                                 2149.0                    0.0                          0                              0                           0.0                     Terreno                    TERRENO                          De esquina         0.0                       1988                                     1                                        0                       0                       00-0                    1.0             0                  0               18500              310119  310119000100  1.0                    0.0                 0.0                 39756500.0         0.0                 310         119          38           JABAQUARA   15           JABAQUARA     275      Cidade Vargas     310119275  Outros                      38          2022   275   15\n",
       "82,322,058  3101200001-7              2022                1               2022-01-01 00:00:00.000000000  01041-3             R  AMBORES                        nan                 --                       CIDADE VARGAS       --                      04319-110        0                                 591.0                     0.0                          0                              0                           500.0                   Terreno                    TERRENO                          Normal             0.0                       1988                                     1                                        0                       0                       00-0                    1.0             0                  0               18926              310120  310120000100  1.0                    0.0                 0.0                 11185266.0         0.0                 310         120          38           JABAQUARA   15           JABAQUARA     276      Jardim Bom Clima  310120276  Outros                      38          2022   276   15"
      ]
     },
     "execution_count": 46,
     "metadata": {},
     "output_type": "execute_result"
    }
   ],
   "source": [
    "df_iptu.fillna(value='0', column_names=['ds_cd_sub'], inplace=True)\n",
    "df_iptu['subprefeitura'] = df_iptu['ds_cd_sub'].astype('int')\n",
    "df_iptu.categorize('subprefeitura', inplace=True)"
   ]
  },
  {
   "cell_type": "code",
   "execution_count": 47,
   "metadata": {},
   "outputs": [],
   "source": [
    "# df_iptu_grouped_distrito = \\\n",
    "def agrupamento(campo):\n",
    "    return df_iptu.groupby([campo, 'ano'],agg={\n",
    "                        'Quantidade de Unidades': 'count', \n",
    "                        'Quantidade de Unidades Condominiais': vaex.agg.count('sqlc',\n",
    "                                                                        selection=df_iptu['NUMERO DO CONDOMINIO'] != '00-0'),\n",
    "                        'Tamanho Médio da Unidade Condominial': vaex.agg.mean('AREA CONSTRUIDA', \n",
    "                                                                        selection=df_iptu['NUMERO DO CONDOMINIO'] != '00-0'),\n",
    "                        'Tamanho médio dos Terrenos': vaex.agg.mean('AREA DO TERRENO'),\n",
    "                        'Área Total dos terrenos-lotes': vaex.agg.sum('AREA DO TERRENO'),\n",
    "                        'Área Total Ocupada': vaex.agg.sum('AREA OCUPADA'),\n",
    "                        'Área Total Construída':vaex.agg.sum('AREA CONSTRUIDA'),\n",
    "                        'Valor Total dos Terrenos': vaex.agg.sum('valor_terreno'),\n",
    "                        'Valor Total das Construções': vaex.agg.sum('valor_construcao'),\n",
    "                        'CA médio': vaex.agg.mean('ca'),\n",
    "                        'TO médio': vaex.agg.mean('to'),\n",
    "                        'CA médio em lotes condominiais': vaex.agg.mean('ca',\n",
    "                                                                        selection=df_iptu['NUMERO DO CONDOMINIO'] != '00-0'),\n",
    "                        'TO médio em lotes condominiais': vaex.agg.mean('to',\n",
    "                                                                        selection=df_iptu['NUMERO DO CONDOMINIO'] != '00-0'),\n",
    "                        'CA médio em lotes não condominiais': vaex.agg.mean('ca',\n",
    "                                                                        selection=df_iptu['NUMERO DO CONDOMINIO'] == '00-0'),\n",
    "                        'TO médio em lotes não condominiais': vaex.agg.mean('to',\n",
    "                                                                        selection=df_iptu['NUMERO DO CONDOMINIO'] == '00-0'),\n",
    "                        'Comprimento Médio da Testada': vaex.agg.mean('TESTADA PARA CALCULO'),\n",
    "                        'Número médio de Pavimentos': vaex.agg.mean('QUANTIDADE DE PAVIMENTOS'),\n",
    "                        'Fator de obsolecência médio': vaex.agg.mean('FATOR DE OBSOLESCENCIA'),\n",
    "                        'Residencial': vaex.agg.sum('AREA CONSTRUIDA', \n",
    "                                                                    selection=df_iptu['classificacao_abrangente'] == 'Residencial'),\n",
    "                        'Comercial': vaex.agg.sum('AREA CONSTRUIDA', \n",
    "                                                                    selection=df_iptu['classificacao_abrangente'] == 'Comercial'),\n",
    "                        'Serviços': vaex.agg.sum('AREA CONSTRUIDA', \n",
    "                                                                    selection=df_iptu['classificacao_abrangente'] == 'Serviços'),\n",
    "                        'Industrial': vaex.agg.sum('AREA CONSTRUIDA', \n",
    "                                                                    selection=df_iptu['classificacao_abrangente'] == 'Industrial'),\n",
    "                        'Outros': vaex.agg.sum('AREA CONSTRUIDA', \n",
    "                                                                    selection=df_iptu['classificacao_abrangente'] == 'Outros')\n",
    "\n",
    "    })"
   ]
  },
  {
   "cell_type": "code",
   "execution_count": 48,
   "metadata": {},
   "outputs": [],
   "source": [
    "campos = ['distrito', 'subprefeitura', 'od']"
   ]
  },
  {
   "cell_type": "code",
   "execution_count": 49,
   "metadata": {},
   "outputs": [
    {
     "name": "stdout",
     "output_type": "stream",
     "text": [
      "distrito\n"
     ]
    },
    {
     "name": "stderr",
     "output_type": "stream",
     "text": [
      "/home/fernando/miniconda3/envs/dash/lib/python3.9/site-packages/vaex/arrow/numpy_dispatch.py:72: RuntimeWarning: invalid value encountered in true_divide\n",
      "  result_data = op['op'](a_data, b_data)\n"
     ]
    },
    {
     "name": "stdout",
     "output_type": "stream",
     "text": [
      "subprefeitura\n",
      "od\n",
      "sq\n"
     ]
    }
   ],
   "source": [
    "dfs = []\n",
    "\n",
    "for campo in campos:\n",
    "    print(campo)\n",
    "    df = agrupamento(campo)\n",
    "    for u in ['Residencial', 'Comercial', 'Serviços', 'Industrial', 'Outros']:\n",
    "        df[f'Percentual de Uso {u}'] = df[u] / df['Área Total Construída']\n",
    "    df.export_hdf5(f'data/IPTU-1995-2022-agrupados-por-{campo}.hdf5')\n",
    "    dfs.append(df)"
   ]
  },
  {
   "cell_type": "code",
   "execution_count": 51,
   "metadata": {},
   "outputs": [],
   "source": [
    "# df_iptu_distrito = vaex.open('data/IPTU-1995-2022-agrupados-por-distrito.hdf5')\n",
    "# df_iptu_subprefeitura = vaex.open('data/IPTU-1995-2022-agrupados-por-subprefeitura.hdf5')\n",
    "# df_iptu_od = vaex.open('data/IPTU-1995-2022-agrupados-por-od.hdf5')\n",
    "\n",
    "df_iptu_distrito, df_iptu_subprefeitura, df_iptu_od = dfs"
   ]
  },
  {
   "cell_type": "code",
   "execution_count": 52,
   "metadata": {},
   "outputs": [
    {
     "data": {
      "text/html": [
       "<table>\n",
       "<thead>\n",
       "<tr><th>#                                </th><th>distrito  </th><th>ano  </th><th>Quantidade de Unidades  </th><th>Quantidade de Unidades Condominiais  </th><th>Tamanho Médio da Unidade Condominial  </th><th>Tamanho médio dos Terrenos  </th><th>Área Total dos terrenos-lotes  </th><th>Área Total Ocupada  </th><th>Área Total Construída  </th><th>Valor Total dos Terrenos  </th><th>Valor Total das Construções  </th><th>CA médio          </th><th>TO médio           </th><th>CA médio em lotes condominiais  </th><th>TO médio em lotes condominiais  </th><th>CA médio em lotes não condominiais  </th><th>TO médio em lotes não condominiais  </th><th>Comprimento Médio da Testada  </th><th>Número médio de Pavimentos  </th><th>Fator de obsolecência médio  </th><th>Residencial  </th><th>Comercial  </th><th>Serviços  </th><th>Industrial  </th><th>Outros  </th><th>Percentual de Uso Residencial  </th><th>Percentual de Uso Comercial  </th><th>Percentual de Uso Serviços  </th><th>Percentual de Uso Industrial  </th><th>Percentual de Uso Outros  </th></tr>\n",
       "</thead>\n",
       "<tbody>\n",
       "<tr><td><i style='opacity: 0.6'>0</i>    </td><td>0         </td><td>1995 </td><td>10912                   </td><td>1923                                 </td><td>91.49141965678628                     </td><td>3730.6820931085044          </td><td>40709203                       </td><td>6330766             </td><td>1474148                </td><td>403508190.57777524        </td><td>342587818.0                  </td><td>0.5707595655441189</td><td>0.24455748209426265</td><td>1.7500919321624053              </td><td>0.24412733431471892             </td><td>0.3213535327327567                  </td><td>0.24464950280625053                 </td><td>48.34549120234604             </td><td>1.6637646627565983          </td><td>0.6513929618768328           </td><td>739597       </td><td>243146     </td><td>144522    </td><td>292132      </td><td>54751   </td><td>0.5017114970817041             </td><td>0.1649400195909773           </td><td>0.09803764615221809         </td><td>0.19817006162203524           </td><td>0.037140775553065226      </td></tr>\n",
       "<tr><td><i style='opacity: 0.6'>1</i>    </td><td>0         </td><td>1996 </td><td>11178                   </td><td>2100                                 </td><td>93.53904761904762                     </td><td>3990.5865986759704          </td><td>44606777                       </td><td>7943388             </td><td>1578791                </td><td>625149057.1666627         </td><td>476590870.0                  </td><td>0.6077497882852628</td><td>0.269002606916139  </td><td>1.7490463618827914              </td><td>0.25562280800901827             </td><td>0.34662696570736623                 </td><td>0.27209773554634026                 </td><td>47.66183574879227             </td><td>1.7461084272678475          </td><td>0.675344426552156            </td><td>814189       </td><td>251335     </td><td>150237    </td><td>302798      </td><td>60232   </td><td>0.515704105229888              </td><td>0.15919459890511156          </td><td>0.09515952396485665         </td><td>0.1917910603746791            </td><td>0.03815071152546474       </td></tr>\n",
       "<tr><td><i style='opacity: 0.6'>2</i>    </td><td>0         </td><td>1997 </td><td>10316                   </td><td>2100                                 </td><td>93.54                                 </td><td>4280.401706087631           </td><td>44156624                       </td><td>8028760             </td><td>1728144                </td><td>667593144.2555504         </td><td>584468408.0                  </td><td>0.6829332843668249</td><td>0.3067563811731817 </td><td>1.7490600027904148              </td><td>0.25562280800901577             </td><td>0.41341707280818957                 </td><td>0.3198260627268294                  </td><td>50.32095773555642             </td><td>1.9332105467235363          </td><td>0.7296432725862737           </td><td>881779       </td><td>316672     </td><td>149697    </td><td>318155      </td><td>61841   </td><td>0.5102462526270959             </td><td>0.18324398892684868          </td><td>0.0866229897508541          </td><td>0.1841021350072679            </td><td>0.035784633687933415      </td></tr>\n",
       "<tr><td><i style='opacity: 0.6'>3</i>    </td><td>0         </td><td>1998 </td><td>10300                   </td><td>2117                                 </td><td>95.93103448275862                     </td><td>4088.7499029126216          </td><td>42114124                       </td><td>8054073             </td><td>1753029                </td><td>605134057.799998          </td><td>623670460.0                  </td><td>0.6959584662565197</td><td>0.3103514290911142 </td><td>1.7772406242050165              </td><td>0.2594796583481374              </td><td>0.41913014890321987                 </td><td>0.3235123161328903                  </td><td>50.5152427184466              </td><td>1.9575728155339807          </td><td>0.7349514563106796           </td><td>897953       </td><td>308752     </td><td>172911    </td><td>309072      </td><td>64341   </td><td>0.5122294040771715             </td><td>0.1761248673011114           </td><td>0.09863556164786777         </td><td>0.17630740849124574           </td><td>0.03670275848260354       </td></tr>\n",
       "<tr><td><i style='opacity: 0.6'>4</i>    </td><td>0         </td><td>1999 </td><td>10350                   </td><td>2232                                 </td><td>95.99417562724014                     </td><td>4211.980966183575           </td><td>43594003                       </td><td>8787774             </td><td>1809696                </td><td>609171048.844445          </td><td>647722993.0                  </td><td>0.7138666176545666</td><td>0.3196793561453528 </td><td>1.743794717411117               </td><td>0.2742871372307171              </td><td>0.43361148432587837                 </td><td>0.3321597001484922                  </td><td>50.8751690821256              </td><td>1.9769082125603865          </td><td>0.7426086956521739           </td><td>933763       </td><td>326504     </td><td>175967    </td><td>310033      </td><td>63429   </td><td>0.5159778216893887             </td><td>0.1804192527363712           </td><td>0.09723566831114176         </td><td>0.17131772408183474           </td><td>0.035049533181263595      </td></tr>\n",
       "<tr><td>...                              </td><td>...       </td><td>...  </td><td>...                     </td><td>...                                  </td><td>...                                   </td><td>...                         </td><td>...                            </td><td>...                 </td><td>...                    </td><td>...                       </td><td>...                          </td><td>...               </td><td>...                </td><td>...                             </td><td>...                             </td><td>...                                 </td><td>...                                 </td><td>...                           </td><td>...                         </td><td>...                          </td><td>...          </td><td>...        </td><td>...       </td><td>...         </td><td>...     </td><td>...                            </td><td>...                          </td><td>...                         </td><td>...                           </td><td>...                       </td></tr>\n",
       "<tr><td><i style='opacity: 0.6'>2,711</i></td><td>96        </td><td>2018 </td><td>26008                   </td><td>5980                                 </td><td>64.00234113712375                     </td><td>2588.421908643494           </td><td>67319677                       </td><td>16434666            </td><td>2579943                </td><td>1796147331.954893         </td><td>1946149566.0                 </td><td>0.7594004641919282</td><td>0.37377944867127993</td><td>1.5742614129138586              </td><td>0.26877648344094                </td><td>0.5160976644437634                  </td><td>0.4051314424838183                  </td><td>34.526645647493076            </td><td>2.172677637649954           </td><td>0.7085512150107659           </td><td>2254441      </td><td>185495     </td><td>88160     </td><td>32655       </td><td>19192   </td><td>0.8738336467123499             </td><td>0.07189887528522917          </td><td>0.034171297582931096        </td><td>0.012657256381245633          </td><td>0.007438924038244255      </td></tr>\n",
       "<tr><td><i style='opacity: 0.6'>2,712</i></td><td>96        </td><td>2019 </td><td>26083                   </td><td>5980                                 </td><td>64.00234113712375                     </td><td>2578.3312885787677          </td><td>67250615                       </td><td>16458706            </td><td>2617899                </td><td>1838775271.5361295        </td><td>2049283236.0                 </td><td>0.7645979196808642</td><td>0.37698327483715643</td><td>1.574261412913811               </td><td>0.2687764834409361              </td><td>0.5237489076163141                  </td><td>0.4091713369447804                  </td><td>34.42725146647241             </td><td>2.176130046390369           </td><td>0.7046735421538933           </td><td>2277568      </td><td>191413     </td><td>97308     </td><td>32638       </td><td>18972   </td><td>0.8699984223990307             </td><td>0.07311703010696746          </td><td>0.03717026516301813         </td><td>0.012467249500458192          </td><td>0.007247032830525547      </td></tr>\n",
       "<tr><td><i style='opacity: 0.6'>2,713</i></td><td>96        </td><td>2020 </td><td>26753                   </td><td>6527                                 </td><td>64.18124712731729                     </td><td>2638.251896983516           </td><td>70581153                       </td><td>17676847            </td><td>2703299                </td><td>1924870966.5916398        </td><td>2191579382.0                 </td><td>0.8047835289843321</td><td>0.37822300459465846</td><td>1.6563464593448145              </td><td>0.2749135133815406              </td><td>0.5299812326101878                  </td><td>0.4115613339305626                  </td><td>34.91432736515531             </td><td>2.2610922139573133          </td><td>0.7002579150001869           </td><td>2358440      </td><td>192783     </td><td>106834    </td><td>26270       </td><td>18972   </td><td>0.8724303156994472             </td><td>0.07131397599747567          </td><td>0.03951986073312645         </td><td>0.009717755971500009          </td><td>0.007018091598450633      </td></tr>\n",
       "<tr><td><i style='opacity: 0.6'>2,714</i></td><td>96        </td><td>2021 </td><td>26595                   </td><td>6546                                 </td><td>64.13290559120074                     </td><td>2650.028463996992           </td><td>70477507                       </td><td>17668705            </td><td>2695299                </td><td>1888105386.1111403        </td><td>2185946155.0                 </td><td>0.8106606750664945</td><td>0.3794940494392545 </td><td>1.6568096339320415              </td><td>0.27564942747446225             </td><td>0.534392976690857                   </td><td>0.41339932628008264                 </td><td>35.02622463625834             </td><td>2.2736980635457793          </td><td>0.5618981004456063           </td><td>2351193      </td><td>195622     </td><td>105463    </td><td>25469       </td><td>17552   </td><td>0.8723310475015944             </td><td>0.0725789606273738           </td><td>0.03912849743201033         </td><td>0.009449415445188085          </td><td>0.006512078993833337      </td></tr>\n",
       "<tr><td><i style='opacity: 0.6'>2,715</i></td><td>96        </td><td>2022 </td><td>26912                   </td><td>6742                                 </td><td>64.36991990507268                     </td><td>2656.1762039239             </td><td>71483014                       </td><td>18122931            </td><td>2768915                </td><td>2996262398.7335067        </td><td>3757675403.0                 </td><td>0.8275675490022489</td><td>0.3820070192177523 </td><td>1.688645798453685               </td><td>0.28088620220194244             </td><td>0.5397445664637122                  </td><td>0.4158075421885206                  </td><td>34.91189336460682             </td><td>2.369091854934602           </td><td>0.5523223826942986           </td><td>2403094      </td><td>199645     </td><td>119765    </td><td>26329       </td><td>20082   </td><td>0.8678829072037242             </td><td>0.07210224943705386          </td><td>0.04325340431179722         </td><td>0.009508778709350052          </td><td>0.007252660338074661      </td></tr>\n",
       "</tbody>\n",
       "</table>"
      ],
      "text/plain": [
       "#      distrito    ano    Quantidade de Unidades    Quantidade de Unidades Condominiais    Tamanho Médio da Unidade Condominial    Tamanho médio dos Terrenos    Área Total dos terrenos-lotes    Área Total Ocupada    Área Total Construída    Valor Total dos Terrenos    Valor Total das Construções    CA médio            TO médio             CA médio em lotes condominiais    TO médio em lotes condominiais    CA médio em lotes não condominiais    TO médio em lotes não condominiais    Comprimento Médio da Testada    Número médio de Pavimentos    Fator de obsolecência médio    Residencial    Comercial    Serviços    Industrial    Outros    Percentual de Uso Residencial    Percentual de Uso Comercial    Percentual de Uso Serviços    Percentual de Uso Industrial    Percentual de Uso Outros\n",
       "0      0           1995   10912                     1923                                   91.49141965678628                       3730.6820931085044            40709203                         6330766               1474148                  403508190.57777524          342587818.0                    0.5707595655441189  0.24455748209426265  1.7500919321624053                0.24412733431471892               0.3213535327327567                    0.24464950280625053                   48.34549120234604               1.6637646627565983            0.6513929618768328             739597         243146       144522      292132        54751     0.5017114970817041               0.1649400195909773             0.09803764615221809           0.19817006162203524             0.037140775553065226\n",
       "1      0           1996   11178                     2100                                   93.53904761904762                       3990.5865986759704            44606777                         7943388               1578791                  625149057.1666627           476590870.0                    0.6077497882852628  0.269002606916139    1.7490463618827914                0.25562280800901827               0.34662696570736623                   0.27209773554634026                   47.66183574879227               1.7461084272678475            0.675344426552156              814189         251335       150237      302798        60232     0.515704105229888                0.15919459890511156            0.09515952396485665           0.1917910603746791              0.03815071152546474\n",
       "2      0           1997   10316                     2100                                   93.54                                   4280.401706087631             44156624                         8028760               1728144                  667593144.2555504           584468408.0                    0.6829332843668249  0.3067563811731817   1.7490600027904148                0.25562280800901577               0.41341707280818957                   0.3198260627268294                    50.32095773555642               1.9332105467235363            0.7296432725862737             881779         316672       149697      318155        61841     0.5102462526270959               0.18324398892684868            0.0866229897508541            0.1841021350072679              0.035784633687933415\n",
       "3      0           1998   10300                     2117                                   95.93103448275862                       4088.7499029126216            42114124                         8054073               1753029                  605134057.799998            623670460.0                    0.6959584662565197  0.3103514290911142   1.7772406242050165                0.2594796583481374                0.41913014890321987                   0.3235123161328903                    50.5152427184466                1.9575728155339807            0.7349514563106796             897953         308752       172911      309072        64341     0.5122294040771715               0.1761248673011114             0.09863556164786777           0.17630740849124574             0.03670275848260354\n",
       "4      0           1999   10350                     2232                                   95.99417562724014                       4211.980966183575             43594003                         8787774               1809696                  609171048.844445            647722993.0                    0.7138666176545666  0.3196793561453528   1.743794717411117                 0.2742871372307171                0.43361148432587837                   0.3321597001484922                    50.8751690821256                1.9769082125603865            0.7426086956521739             933763         326504       175967      310033        63429     0.5159778216893887               0.1804192527363712             0.09723566831114176           0.17131772408183474             0.035049533181263595\n",
       "...    ...         ...    ...                       ...                                    ...                                     ...                           ...                              ...                   ...                      ...                         ...                            ...                 ...                  ...                               ...                               ...                                   ...                                   ...                             ...                           ...                            ...            ...          ...         ...           ...       ...                              ...                            ...                           ...                             ...\n",
       "2,711  96          2018   26008                     5980                                   64.00234113712375                       2588.421908643494             67319677                         16434666              2579943                  1796147331.954893           1946149566.0                   0.7594004641919282  0.37377944867127993  1.5742614129138586                0.26877648344094                  0.5160976644437634                    0.4051314424838183                    34.526645647493076              2.172677637649954             0.7085512150107659             2254441        185495       88160       32655         19192     0.8738336467123499               0.07189887528522917            0.034171297582931096          0.012657256381245633            0.007438924038244255\n",
       "2,712  96          2019   26083                     5980                                   64.00234113712375                       2578.3312885787677            67250615                         16458706              2617899                  1838775271.5361295          2049283236.0                   0.7645979196808642  0.37698327483715643  1.574261412913811                 0.2687764834409361                0.5237489076163141                    0.4091713369447804                    34.42725146647241               2.176130046390369             0.7046735421538933             2277568        191413       97308       32638         18972     0.8699984223990307               0.07311703010696746            0.03717026516301813           0.012467249500458192            0.007247032830525547\n",
       "2,713  96          2020   26753                     6527                                   64.18124712731729                       2638.251896983516             70581153                         17676847              2703299                  1924870966.5916398          2191579382.0                   0.8047835289843321  0.37822300459465846  1.6563464593448145                0.2749135133815406                0.5299812326101878                    0.4115613339305626                    34.91432736515531               2.2610922139573133            0.7002579150001869             2358440        192783       106834      26270         18972     0.8724303156994472               0.07131397599747567            0.03951986073312645           0.009717755971500009            0.007018091598450633\n",
       "2,714  96          2021   26595                     6546                                   64.13290559120074                       2650.028463996992             70477507                         17668705              2695299                  1888105386.1111403          2185946155.0                   0.8106606750664945  0.3794940494392545   1.6568096339320415                0.27564942747446225               0.534392976690857                     0.41339932628008264                   35.02622463625834               2.2736980635457793            0.5618981004456063             2351193        195622       105463      25469         17552     0.8723310475015944               0.0725789606273738             0.03912849743201033           0.009449415445188085            0.006512078993833337\n",
       "2,715  96          2022   26912                     6742                                   64.36991990507268                       2656.1762039239               71483014                         18122931              2768915                  2996262398.7335067          3757675403.0                   0.8275675490022489  0.3820070192177523   1.688645798453685                 0.28088620220194244               0.5397445664637122                    0.4158075421885206                    34.91189336460682               2.369091854934602             0.5523223826942986             2403094        199645       119765      26329         20082     0.8678829072037242               0.07210224943705386            0.04325340431179722           0.009508778709350052            0.007252660338074661"
      ]
     },
     "execution_count": 52,
     "metadata": {},
     "output_type": "execute_result"
    }
   ],
   "source": [
    "df_iptu_distrito"
   ]
  },
  {
   "cell_type": "code",
   "execution_count": 53,
   "metadata": {},
   "outputs": [
    {
     "data": {
      "text/plain": [
       "array(8.10014438)"
      ]
     },
     "execution_count": 53,
     "metadata": {},
     "output_type": "execute_result"
    }
   ],
   "source": [
    "df_iptu_subprefeitura[\"CA médio\"].max()"
   ]
  },
  {
   "cell_type": "code",
   "execution_count": 54,
   "metadata": {},
   "outputs": [
    {
     "data": {
      "text/plain": [
       "array(15.81042331)"
      ]
     },
     "execution_count": 54,
     "metadata": {},
     "output_type": "execute_result"
    }
   ],
   "source": [
    "df_iptu_od[\"CA médio\"].max()"
   ]
  },
  {
   "cell_type": "code",
   "execution_count": 55,
   "metadata": {},
   "outputs": [
    {
     "data": {
      "text/html": [
       "<table>\n",
       "<thead>\n",
       "<tr><th>#                                    </th><th>sq    </th><th>ano  </th><th>Quantidade de Unidades  </th><th>Quantidade de Unidades Condominiais  </th><th>Tamanho Médio da Unidade Condominial  </th><th>Tamanho médio dos Terrenos  </th><th>Área Total dos terrenos-lotes  </th><th>Área Total Ocupada  </th><th>Área Total Construída  </th><th>Valor Total dos Terrenos  </th><th>Valor Total das Construções  </th><th>CA médio          </th><th>TO médio           </th><th>CA médio em lotes condominiais  </th><th>TO médio em lotes condominiais  </th><th>CA médio em lotes não condominiais  </th><th>TO médio em lotes não condominiais  </th><th>Comprimento Médio da Testada  </th><th>Número médio de Pavimentos  </th><th>Fator de obsolecência médio  </th><th>Residencial  </th><th>Comercial  </th><th>Serviços  </th><th>Industrial  </th><th>Outros  </th><th>Percentual de Uso Residencial  </th><th>Percentual de Uso Comercial  </th><th>Percentual de Uso Serviços  </th><th>Percentual de Uso Industrial  </th><th>Percentual de Uso Outros  </th></tr>\n",
       "</thead>\n",
       "<tbody>\n",
       "<tr><td><i style='opacity: 0.6'>0</i>        </td><td>002083</td><td>1995 </td><td>34                      </td><td>0                                    </td><td>nan                                   </td><td>167.11764705882354          </td><td>5682                           </td><td>4577                </td><td>6684                   </td><td>1287606.0                 </td><td>1113989.0                    </td><td>1.410517477274633 </td><td>0.8148711515338328 </td><td>nan                             </td><td>nan                             </td><td>1.410517477274633                   </td><td>0.8148711515338328                  </td><td>8.5                           </td><td>1.911764705882353           </td><td>0.2647058823529412           </td><td>370          </td><td>3222       </td><td>2612      </td><td>130         </td><td>350     </td><td>0.05535607420706164            </td><td>0.48204667863554757          </td><td>0.3907839616995811          </td><td>0.01944943147815679           </td><td>0.0523638539796529        </td></tr>\n",
       "<tr><td><i style='opacity: 0.6'>1</i>        </td><td>002083</td><td>1996 </td><td>34                      </td><td>0                                    </td><td>nan                                   </td><td>167.11764705882354          </td><td>5682                           </td><td>4794                </td><td>6684                   </td><td>1873958.0                 </td><td>1484035.0                    </td><td>1.410517477274633 </td><td>0.8285086578183979 </td><td>nan                             </td><td>nan                             </td><td>1.410517477274633                   </td><td>0.8285086578183979                  </td><td>7.911764705882353             </td><td>1.9411764705882353          </td><td>0.2647058823529412           </td><td>370          </td><td>3222       </td><td>2612      </td><td>130         </td><td>350     </td><td>0.05535607420706164            </td><td>0.48204667863554757          </td><td>0.3907839616995811          </td><td>0.01944943147815679           </td><td>0.0523638539796529        </td></tr>\n",
       "<tr><td><i style='opacity: 0.6'>2</i>        </td><td>002083</td><td>1997 </td><td>34                      </td><td>0                                    </td><td>nan                                   </td><td>166.02941176470588          </td><td>5645                           </td><td>4789                </td><td>6697                   </td><td>2048070.0                 </td><td>1677578.0                    </td><td>1.4232203574697733</td><td>0.8356387825955816 </td><td>nan                             </td><td>nan                             </td><td>1.4232203574697733                  </td><td>0.8356387825955816                  </td><td>7.882352941176471             </td><td>1.9411764705882353          </td><td>0.2647058823529412           </td><td>270          </td><td>3335       </td><td>2612      </td><td>130         </td><td>350     </td><td>0.04031655965357623            </td><td>0.4979841720173212           </td><td>0.3900253845005226          </td><td>0.019411676870240407          </td><td>0.05226220695833955       </td></tr>\n",
       "<tr><td><i style='opacity: 0.6'>3</i>        </td><td>002083</td><td>1998 </td><td>34                      </td><td>0                                    </td><td>nan                                   </td><td>166.02941176470588          </td><td>5645                           </td><td>4789                </td><td>6697                   </td><td>2160970.0                 </td><td>1770156.0                    </td><td>1.4232203574697733</td><td>0.8356387825955816 </td><td>nan                             </td><td>nan                             </td><td>1.4232203574697733                  </td><td>0.8356387825955816                  </td><td>7.882352941176471             </td><td>1.9411764705882353          </td><td>0.20588235294117646          </td><td>270          </td><td>3335       </td><td>2612      </td><td>130         </td><td>350     </td><td>0.04031655965357623            </td><td>0.4979841720173212           </td><td>0.3900253845005226          </td><td>0.019411676870240407          </td><td>0.05226220695833955       </td></tr>\n",
       "<tr><td><i style='opacity: 0.6'>4</i>        </td><td>002083</td><td>1999 </td><td>34                      </td><td>0                                    </td><td>nan                                   </td><td>166.02941176470588          </td><td>5645                           </td><td>4789                </td><td>6767                   </td><td>2197484.0                 </td><td>1815245.0                    </td><td>1.4381393685524673</td><td>0.8356387825955816 </td><td>nan                             </td><td>nan                             </td><td>1.4381393685524673                  </td><td>0.8356387825955816                  </td><td>7.882352941176471             </td><td>1.9705882352941178          </td><td>0.20588235294117646          </td><td>0            </td><td>3675       </td><td>2612      </td><td>130         </td><td>350     </td><td>0.0                            </td><td>0.5430766957292744           </td><td>0.38599083788975913         </td><td>0.01921087631151175           </td><td>0.051721590069454704      </td></tr>\n",
       "<tr><td>...                                  </td><td>...   </td><td>...  </td><td>...                     </td><td>...                                  </td><td>...                                   </td><td>...                         </td><td>...                            </td><td>...                 </td><td>...                    </td><td>...                       </td><td>...                          </td><td>...               </td><td>...                </td><td>...                             </td><td>...                             </td><td>...                                 </td><td>...                                 </td><td>...                           </td><td>...                         </td><td>...                          </td><td>...          </td><td>...        </td><td>...       </td><td>...         </td><td>...     </td><td>...                            </td><td>...                          </td><td>...                         </td><td>...                           </td><td>...                       </td></tr>\n",
       "<tr><td><i style='opacity: 0.6'>1,233,046</i></td><td>216018</td><td>2021 </td><td>1                       </td><td>0                                    </td><td>nan                                   </td><td>10631.0                     </td><td>10631                          </td><td>4350                </td><td>4980                   </td><td>2211248.0                 </td><td>5468040.0                    </td><td>0.4684413507666259</td><td>0.40918069795879974</td><td>nan                             </td><td>nan                             </td><td>0.4684413507666259                  </td><td>0.40918069795879974                 </td><td>73.5                          </td><td>3.0                         </td><td>0.9100000262260437           </td><td>0            </td><td>0          </td><td>0         </td><td>4980        </td><td>0       </td><td>0.0                            </td><td>0.0                          </td><td>0.0                         </td><td>1.0                           </td><td>0.0                       </td></tr>\n",
       "<tr><td><i style='opacity: 0.6'>1,233,047</i></td><td>216018</td><td>2022 </td><td>1                       </td><td>0                                    </td><td>nan                                   </td><td>10631.0                     </td><td>10631                          </td><td>4350                </td><td>4980                   </td><td>1913580.0                 </td><td>6538740.0                    </td><td>0.4684413507666259</td><td>0.40918069795879974</td><td>nan                             </td><td>nan                             </td><td>0.4684413507666259                  </td><td>0.40918069795879974                 </td><td>73.5                          </td><td>3.0                         </td><td>0.8999999761581421           </td><td>0            </td><td>0          </td><td>0         </td><td>4980        </td><td>0       </td><td>0.0                            </td><td>0.0                          </td><td>0.0                         </td><td>1.0                           </td><td>0.0                       </td></tr>\n",
       "<tr><td><i style='opacity: 0.6'>1,233,048</i></td><td>252041</td><td>2021 </td><td>22                      </td><td>0                                    </td><td>nan                                   </td><td>74.4090909090909            </td><td>1637                           </td><td>1625                </td><td>2672                   </td><td>514018.0                  </td><td>1812939.0                    </td><td>1.6352701921014825</td><td>0.9928844755399779 </td><td>nan                             </td><td>nan                             </td><td>1.6352701921014825                  </td><td>0.9928844755399779                  </td><td>4.987272761084816             </td><td>1.9545454545454546          </td><td>0.7599999904632568           </td><td>2672         </td><td>0          </td><td>0         </td><td>0           </td><td>0       </td><td>1.0                            </td><td>0.0                          </td><td>0.0                         </td><td>0.0                           </td><td>0.0                       </td></tr>\n",
       "<tr><td><i style='opacity: 0.6'>1,233,049</i></td><td>252041</td><td>2022 </td><td>22                      </td><td>0                                    </td><td>nan                                   </td><td>74.4090909090909            </td><td>1637                           </td><td>1625                </td><td>2672                   </td><td>844692.0                  </td><td>3324548.0                    </td><td>1.6352701921014825</td><td>0.9928844755399779 </td><td>nan                             </td><td>nan                             </td><td>1.6352701921014825                  </td><td>0.9928844755399779                  </td><td>4.987272761084816             </td><td>1.9545454545454546          </td><td>0.7400000095367432           </td><td>2672         </td><td>0          </td><td>0         </td><td>0           </td><td>0       </td><td>1.0                            </td><td>0.0                          </td><td>0.0                         </td><td>0.0                           </td><td>0.0                       </td></tr>\n",
       "<tr><td><i style='opacity: 0.6'>1,233,050</i></td><td>078529</td><td>2022 </td><td>294                     </td><td>288                                  </td><td>82.78125                              </td><td>4348.1292517006805          </td><td>1278350                        </td><td>353376              </td><td>23841                  </td><td>45286037.80887815         </td><td>49660803.0                   </td><td>5.368339450200699 </td><td>0.27663042201921084</td><td>5.480179855413214               </td><td>0.28239355581127773             </td><td>0.0                                 </td><td>0.0                                 </td><td>23.157108644238946            </td><td>17.632653061224488          </td><td>0.9600000186842315           </td><td>23841        </td><td>0          </td><td>0         </td><td>0           </td><td>0       </td><td>1.0                            </td><td>0.0                          </td><td>0.0                         </td><td>0.0                           </td><td>0.0                       </td></tr>\n",
       "</tbody>\n",
       "</table>"
      ],
      "text/plain": [
       "#          sq      ano    Quantidade de Unidades    Quantidade de Unidades Condominiais    Tamanho Médio da Unidade Condominial    Tamanho médio dos Terrenos    Área Total dos terrenos-lotes    Área Total Ocupada    Área Total Construída    Valor Total dos Terrenos    Valor Total das Construções    CA médio            TO médio             CA médio em lotes condominiais    TO médio em lotes condominiais    CA médio em lotes não condominiais    TO médio em lotes não condominiais    Comprimento Médio da Testada    Número médio de Pavimentos    Fator de obsolecência médio    Residencial    Comercial    Serviços    Industrial    Outros    Percentual de Uso Residencial    Percentual de Uso Comercial    Percentual de Uso Serviços    Percentual de Uso Industrial    Percentual de Uso Outros\n",
       "0          002083  1995   34                        0                                      nan                                     167.11764705882354            5682                             4577                  6684                     1287606.0                   1113989.0                      1.410517477274633   0.8148711515338328   nan                               nan                               1.410517477274633                     0.8148711515338328                    8.5                             1.911764705882353             0.2647058823529412             370            3222         2612        130           350       0.05535607420706164              0.48204667863554757            0.3907839616995811            0.01944943147815679             0.0523638539796529\n",
       "1          002083  1996   34                        0                                      nan                                     167.11764705882354            5682                             4794                  6684                     1873958.0                   1484035.0                      1.410517477274633   0.8285086578183979   nan                               nan                               1.410517477274633                     0.8285086578183979                    7.911764705882353               1.9411764705882353            0.2647058823529412             370            3222         2612        130           350       0.05535607420706164              0.48204667863554757            0.3907839616995811            0.01944943147815679             0.0523638539796529\n",
       "2          002083  1997   34                        0                                      nan                                     166.02941176470588            5645                             4789                  6697                     2048070.0                   1677578.0                      1.4232203574697733  0.8356387825955816   nan                               nan                               1.4232203574697733                    0.8356387825955816                    7.882352941176471               1.9411764705882353            0.2647058823529412             270            3335         2612        130           350       0.04031655965357623              0.4979841720173212             0.3900253845005226            0.019411676870240407            0.05226220695833955\n",
       "3          002083  1998   34                        0                                      nan                                     166.02941176470588            5645                             4789                  6697                     2160970.0                   1770156.0                      1.4232203574697733  0.8356387825955816   nan                               nan                               1.4232203574697733                    0.8356387825955816                    7.882352941176471               1.9411764705882353            0.20588235294117646            270            3335         2612        130           350       0.04031655965357623              0.4979841720173212             0.3900253845005226            0.019411676870240407            0.05226220695833955\n",
       "4          002083  1999   34                        0                                      nan                                     166.02941176470588            5645                             4789                  6767                     2197484.0                   1815245.0                      1.4381393685524673  0.8356387825955816   nan                               nan                               1.4381393685524673                    0.8356387825955816                    7.882352941176471               1.9705882352941178            0.20588235294117646            0              3675         2612        130           350       0.0                              0.5430766957292744             0.38599083788975913           0.01921087631151175             0.051721590069454704\n",
       "...        ...     ...    ...                       ...                                    ...                                     ...                           ...                              ...                   ...                      ...                         ...                            ...                 ...                  ...                               ...                               ...                                   ...                                   ...                             ...                           ...                            ...            ...          ...         ...           ...       ...                              ...                            ...                           ...                             ...\n",
       "1,233,046  216018  2021   1                         0                                      nan                                     10631.0                       10631                            4350                  4980                     2211248.0                   5468040.0                      0.4684413507666259  0.40918069795879974  nan                               nan                               0.4684413507666259                    0.40918069795879974                   73.5                            3.0                           0.9100000262260437             0              0            0           4980          0         0.0                              0.0                            0.0                           1.0                             0.0\n",
       "1,233,047  216018  2022   1                         0                                      nan                                     10631.0                       10631                            4350                  4980                     1913580.0                   6538740.0                      0.4684413507666259  0.40918069795879974  nan                               nan                               0.4684413507666259                    0.40918069795879974                   73.5                            3.0                           0.8999999761581421             0              0            0           4980          0         0.0                              0.0                            0.0                           1.0                             0.0\n",
       "1,233,048  252041  2021   22                        0                                      nan                                     74.4090909090909              1637                             1625                  2672                     514018.0                    1812939.0                      1.6352701921014825  0.9928844755399779   nan                               nan                               1.6352701921014825                    0.9928844755399779                    4.987272761084816               1.9545454545454546            0.7599999904632568             2672           0            0           0             0         1.0                              0.0                            0.0                           0.0                             0.0\n",
       "1,233,049  252041  2022   22                        0                                      nan                                     74.4090909090909              1637                             1625                  2672                     844692.0                    3324548.0                      1.6352701921014825  0.9928844755399779   nan                               nan                               1.6352701921014825                    0.9928844755399779                    4.987272761084816               1.9545454545454546            0.7400000095367432             2672           0            0           0             0         1.0                              0.0                            0.0                           0.0                             0.0\n",
       "1,233,050  078529  2022   294                       288                                    82.78125                                4348.1292517006805            1278350                          353376                23841                    45286037.80887815           49660803.0                     5.368339450200699   0.27663042201921084  5.480179855413214                 0.28239355581127773               0.0                                   0.0                                   23.157108644238946              17.632653061224488            0.9600000186842315             23841          0            0           0             0         1.0                              0.0                            0.0                           0.0                             0.0"
      ]
     },
     "execution_count": 55,
     "metadata": {},
     "output_type": "execute_result"
    }
   ],
   "source": [
    "df_iptu_sq"
   ]
  },
  {
   "cell_type": "code",
   "execution_count": null,
   "metadata": {},
   "outputs": [],
   "source": []
  },
  {
   "cell_type": "code",
   "execution_count": null,
   "metadata": {},
   "outputs": [],
   "source": []
  },
  {
   "cell_type": "code",
   "execution_count": null,
   "metadata": {},
   "outputs": [],
   "source": []
  },
  {
   "cell_type": "code",
   "execution_count": null,
   "metadata": {},
   "outputs": [],
   "source": []
  },
  {
   "cell_type": "code",
   "execution_count": null,
   "metadata": {},
   "outputs": [],
   "source": [
    "gdf_od = gpd.read_file('zip://data/SIRGAS_SHP_origemdestino_2017.zip!SIRGAS_SHP_origemdestino_2017', crs='EPSG:31983')\n"
   ]
  },
  {
   "cell_type": "code",
   "execution_count": null,
   "metadata": {},
   "outputs": [],
   "source": [
    "gdf_od.set_crs(epsg=31983, inplace=True)"
   ]
  },
  {
   "cell_type": "code",
   "execution_count": null,
   "metadata": {},
   "outputs": [],
   "source": [
    "gdf_od = gdf_od[gdf_od.od_municip == '36']\n",
    "gdf_od['area'] = gdf_od.area\n",
    "gdf_od.geometry = gdf_od.simplify(tolerance=100)"
   ]
  },
  {
   "cell_type": "code",
   "execution_count": null,
   "metadata": {},
   "outputs": [],
   "source": [
    "gdf_od"
   ]
  },
  {
   "cell_type": "code",
   "execution_count": null,
   "metadata": {},
   "outputs": [],
   "source": [
    "gdf_od.set_crs(epsg=31983).to_crs(epsg=4674, inplace=True)"
   ]
  },
  {
   "cell_type": "code",
   "execution_count": null,
   "metadata": {},
   "outputs": [],
   "source": [
    "gdf_od"
   ]
  },
  {
   "cell_type": "code",
   "execution_count": null,
   "metadata": {},
   "outputs": [],
   "source": []
  }
 ],
 "metadata": {
  "interpreter": {
   "hash": "ebf3c2fc12fbcaba6e75ea2e49af41058138f51e278d9579f2c5ffa4a897fa04"
  },
  "kernelspec": {
   "display_name": "Python 3.9.12 ('dash')",
   "language": "python",
   "name": "python3"
  },
  "language_info": {
   "codemirror_mode": {
    "name": "ipython",
    "version": 3
   },
   "file_extension": ".py",
   "mimetype": "text/x-python",
   "name": "python",
   "nbconvert_exporter": "python",
   "pygments_lexer": "ipython3",
   "version": "3.9.12"
  },
  "orig_nbformat": 4
 },
 "nbformat": 4,
 "nbformat_minor": 2
}
