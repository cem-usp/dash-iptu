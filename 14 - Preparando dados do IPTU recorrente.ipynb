{
 "cells": [
  {
   "cell_type": "markdown",
   "metadata": {},
   "source": [
    "# Preparando os dados do IPTU recorrente\n",
    "\n",
    "Esse processamento é realizado recorrente a cada ano, LER NO README"
   ]
  },
  {
   "cell_type": "code",
   "execution_count": 1,
   "metadata": {},
   "outputs": [
    {
     "name": "stderr",
     "output_type": "stream",
     "text": [
      "/home/fernando/dev/dash-iptu/venv/lib/python3.9/site-packages/geopandas/_compat.py:111: UserWarning: The Shapely GEOS version (3.10.3-CAPI-1.16.1) is incompatible with the GEOS version PyGEOS was compiled with (3.10.1-CAPI-1.16.0). Conversions between both will be slow.\n",
      "  warnings.warn(\n"
     ]
    }
   ],
   "source": [
    "import vaex\n",
    "import geopandas as gpd\n",
    "from shapely.validation import make_valid\n",
    "from difflib import SequenceMatcher\n",
    "import numpy as np\n",
    "import pandas as pd\n",
    "# import pygeos"
   ]
  },
  {
   "cell_type": "code",
   "execution_count": 2,
   "metadata": {},
   "outputs": [],
   "source": [
    "gdf_distritos = gpd.read_file('data/SIRGAS_GPKG_distrito.gpkg')\n",
    "\n",
    "gdf_quadras = gpd.read_file('zip://data/SIRGAS_SHP_quadraMDSF.zip!SIRGAS_SHP_quadraMDSF/SIRGAS_SHP_quadraMDSF.shp')\n",
    "gdf_quadras = gdf_quadras.set_crs(epsg=31983)\n",
    "gdf_quadras = gdf_quadras[gdf_quadras.qd_tipo == 'F']\n",
    "gdf_quadras = gdf_quadras.dissolve(['qd_setor', 'qd_fiscal']).reset_index()\n",
    "gdf_quadras_centroid = gdf_quadras.copy()\n",
    "gdf_quadras_centroid.geometry = gdf_quadras_centroid.representative_point()"
   ]
  },
  {
   "cell_type": "code",
   "execution_count": 3,
   "metadata": {},
   "outputs": [
    {
     "data": {
      "text/plain": [
       "((45655, 10), (45655, 10))"
      ]
     },
     "execution_count": 3,
     "metadata": {},
     "output_type": "execute_result"
    }
   ],
   "source": [
    "gdf_quadras.shape, gdf_quadras_centroid.shape"
   ]
  },
  {
   "cell_type": "code",
   "execution_count": 4,
   "metadata": {},
   "outputs": [],
   "source": [
    "gdf_quadras_distritos = gdf_quadras_centroid.sjoin(gdf_distritos, how='left', predicate='intersects')\n",
    "gdf_quadras_distritos.drop('index_right', axis=1, inplace=True)"
   ]
  },
  {
   "cell_type": "code",
   "execution_count": 5,
   "metadata": {},
   "outputs": [
    {
     "data": {
      "text/plain": [
       "((45655, 10), (45655, 15))"
      ]
     },
     "execution_count": 5,
     "metadata": {},
     "output_type": "execute_result"
    }
   ],
   "source": [
    "gdf_quadras.shape, gdf_quadras_distritos.shape"
   ]
  },
  {
   "cell_type": "code",
   "execution_count": 6,
   "metadata": {},
   "outputs": [],
   "source": [
    "gdf_quadras_distritos['sq'] = gdf_quadras_distritos.qd_setor + gdf_quadras_distritos.qd_fiscal"
   ]
  },
  {
   "cell_type": "code",
   "execution_count": 7,
   "metadata": {},
   "outputs": [
    {
     "name": "stderr",
     "output_type": "stream",
     "text": [
      "/home/fernando/dev/dash-iptu/venv/lib/python3.9/site-packages/geopandas/io/file.py:362: FutureWarning: pandas.Int64Index is deprecated and will be removed from pandas in a future version. Use pandas.Index with the appropriate dtype instead.\n",
      "  pd.Int64Index,\n"
     ]
    }
   ],
   "source": [
    "gpd.GeoDataFrame(gdf_quadras_distritos[['sq', 'ds_codigo', 'ds_nome']], geometry=gdf_quadras.geometry,\n",
    "                crs='EPSG:31983').to_file('data/quadras.gpkg')"
   ]
  },
  {
   "cell_type": "code",
   "execution_count": 8,
   "metadata": {},
   "outputs": [
    {
     "name": "stderr",
     "output_type": "stream",
     "text": [
      "/home/fernando/dev/dash-iptu/venv/lib/python3.9/site-packages/geopandas/geodataframe.py:1351: SettingWithCopyWarning: \n",
      "A value is trying to be set on a copy of a slice from a DataFrame.\n",
      "Try using .loc[row_indexer,col_indexer] = value instead\n",
      "\n",
      "See the caveats in the documentation: https://pandas.pydata.org/pandas-docs/stable/user_guide/indexing.html#returning-a-view-versus-a-copy\n",
      "  super().__setitem__(key, value)\n"
     ]
    }
   ],
   "source": [
    "gdf_od = gpd.read_file('zip://data/SIRGAS_SHP_origemdestino_2017.zip!SIRGAS_SHP_origemdestino_2017')\n",
    "gdf_od_sp = gdf_od[gdf_od.od_municip == '36']\n",
    "gdf_od_sp.set_crs(epsg=31983, inplace=True)\n",
    "gdf_quadras_distritos_od = gdf_quadras_distritos.sjoin(gdf_od_sp, how='left', predicate='intersects')\n",
    "\n",
    "df_quadras_distritos_od = gdf_quadras_distritos_od.loc[:, ['qd_setor', 'qd_fiscal', 'ds_codigo', 'ds_nome', 'ds_cd_sub', 'ds_subpref', 'od_id', 'od_nome']]\n",
    "df_quadras_distritos_od.loc[:, ['sq']] = df_quadras_distritos_od.qd_setor + df_quadras_distritos_od.qd_fiscal\n",
    "# df_quadras_distritos_od.drop_duplicates(keep='first', inplace=True, ignore_index=True)"
   ]
  },
  {
   "cell_type": "code",
   "execution_count": 9,
   "metadata": {},
   "outputs": [
    {
     "data": {
      "text/html": [
       "<div>\n",
       "<style scoped>\n",
       "    .dataframe tbody tr th:only-of-type {\n",
       "        vertical-align: middle;\n",
       "    }\n",
       "\n",
       "    .dataframe tbody tr th {\n",
       "        vertical-align: top;\n",
       "    }\n",
       "\n",
       "    .dataframe thead th {\n",
       "        text-align: right;\n",
       "    }\n",
       "</style>\n",
       "<table border=\"1\" class=\"dataframe\">\n",
       "  <thead>\n",
       "    <tr style=\"text-align: right;\">\n",
       "      <th></th>\n",
       "      <th>ds_codigo</th>\n",
       "      <th>ds_subpref</th>\n",
       "      <th>ds_cd_sub</th>\n",
       "      <th>ds_sigla</th>\n",
       "      <th>ds_nome</th>\n",
       "      <th>geometry</th>\n",
       "    </tr>\n",
       "  </thead>\n",
       "  <tbody>\n",
       "    <tr>\n",
       "      <th>38</th>\n",
       "      <td>1</td>\n",
       "      <td>MOOCA</td>\n",
       "      <td>25</td>\n",
       "      <td>ARA</td>\n",
       "      <td>AGUA RASA</td>\n",
       "      <td>POLYGON ((341093.380 7391912.491, 341093.329 7...</td>\n",
       "    </tr>\n",
       "    <tr>\n",
       "      <th>55</th>\n",
       "      <td>2</td>\n",
       "      <td>PINHEIROS</td>\n",
       "      <td>11</td>\n",
       "      <td>API</td>\n",
       "      <td>ALTO DE PINHEIROS</td>\n",
       "      <td>POLYGON ((326739.457 7395585.840, 326741.473 7...</td>\n",
       "    </tr>\n",
       "    <tr>\n",
       "      <th>70</th>\n",
       "      <td>3</td>\n",
       "      <td>PERUS</td>\n",
       "      <td>01</td>\n",
       "      <td>ANH</td>\n",
       "      <td>ANHANGUERA</td>\n",
       "      <td>POLYGON ((318695.858 7403032.323, 318677.730 7...</td>\n",
       "    </tr>\n",
       "    <tr>\n",
       "      <th>43</th>\n",
       "      <td>4</td>\n",
       "      <td>ARICANDUVA-FORMOSA-CARRAO</td>\n",
       "      <td>26</td>\n",
       "      <td>ARI</td>\n",
       "      <td>ARICANDUVA</td>\n",
       "      <td>POLYGON ((344068.781 7390960.855, 344068.149 7...</td>\n",
       "    </tr>\n",
       "    <tr>\n",
       "      <th>11</th>\n",
       "      <td>5</td>\n",
       "      <td>PENHA</td>\n",
       "      <td>21</td>\n",
       "      <td>AAL</td>\n",
       "      <td>ARTUR ALVIM</td>\n",
       "      <td>POLYGON ((349416.226 7397718.808, 349416.884 7...</td>\n",
       "    </tr>\n",
       "    <tr>\n",
       "      <th>...</th>\n",
       "      <td>...</td>\n",
       "      <td>...</td>\n",
       "      <td>...</td>\n",
       "      <td>...</td>\n",
       "      <td>...</td>\n",
       "      <td>...</td>\n",
       "    </tr>\n",
       "    <tr>\n",
       "      <th>77</th>\n",
       "      <td>90</td>\n",
       "      <td>VILA MARIANA</td>\n",
       "      <td>12</td>\n",
       "      <td>VMN</td>\n",
       "      <td>VILA MARIANA</td>\n",
       "      <td>POLYGON ((332359.740 7389124.109, 332309.630 7...</td>\n",
       "    </tr>\n",
       "    <tr>\n",
       "      <th>14</th>\n",
       "      <td>91</td>\n",
       "      <td>PENHA</td>\n",
       "      <td>21</td>\n",
       "      <td>VMT</td>\n",
       "      <td>VILA MATILDE</td>\n",
       "      <td>POLYGON ((341949.933 7396395.900, 341934.334 7...</td>\n",
       "    </tr>\n",
       "    <tr>\n",
       "      <th>10</th>\n",
       "      <td>92</td>\n",
       "      <td>VILA MARIA-VILA GUILHERME</td>\n",
       "      <td>07</td>\n",
       "      <td>VMD</td>\n",
       "      <td>VILA MEDEIROS</td>\n",
       "      <td>POLYGON ((340579.417 7401672.553, 340579.493 7...</td>\n",
       "    </tr>\n",
       "    <tr>\n",
       "      <th>47</th>\n",
       "      <td>93</td>\n",
       "      <td>VILA PRUDENTE</td>\n",
       "      <td>29</td>\n",
       "      <td>VPR</td>\n",
       "      <td>VILA PRUDENTE</td>\n",
       "      <td>POLYGON ((341731.295 7388459.495, 341723.755 7...</td>\n",
       "    </tr>\n",
       "    <tr>\n",
       "      <th>51</th>\n",
       "      <td>94</td>\n",
       "      <td>BUTANTA</td>\n",
       "      <td>10</td>\n",
       "      <td>VSO</td>\n",
       "      <td>VILA SONIA</td>\n",
       "      <td>POLYGON ((320805.525 7390280.495, 320824.353 7...</td>\n",
       "    </tr>\n",
       "  </tbody>\n",
       "</table>\n",
       "<p>96 rows × 6 columns</p>\n",
       "</div>"
      ],
      "text/plain": [
       "   ds_codigo                 ds_subpref ds_cd_sub ds_sigla            ds_nome  \\\n",
       "38         1                      MOOCA        25      ARA          AGUA RASA   \n",
       "55         2                  PINHEIROS        11      API  ALTO DE PINHEIROS   \n",
       "70         3                      PERUS        01      ANH         ANHANGUERA   \n",
       "43         4  ARICANDUVA-FORMOSA-CARRAO        26      ARI         ARICANDUVA   \n",
       "11         5                      PENHA        21      AAL        ARTUR ALVIM   \n",
       "..       ...                        ...       ...      ...                ...   \n",
       "77        90               VILA MARIANA        12      VMN       VILA MARIANA   \n",
       "14        91                      PENHA        21      VMT       VILA MATILDE   \n",
       "10        92  VILA MARIA-VILA GUILHERME        07      VMD      VILA MEDEIROS   \n",
       "47        93              VILA PRUDENTE        29      VPR      VILA PRUDENTE   \n",
       "51        94                    BUTANTA        10      VSO         VILA SONIA   \n",
       "\n",
       "                                             geometry  \n",
       "38  POLYGON ((341093.380 7391912.491, 341093.329 7...  \n",
       "55  POLYGON ((326739.457 7395585.840, 326741.473 7...  \n",
       "70  POLYGON ((318695.858 7403032.323, 318677.730 7...  \n",
       "43  POLYGON ((344068.781 7390960.855, 344068.149 7...  \n",
       "11  POLYGON ((349416.226 7397718.808, 349416.884 7...  \n",
       "..                                                ...  \n",
       "77  POLYGON ((332359.740 7389124.109, 332309.630 7...  \n",
       "14  POLYGON ((341949.933 7396395.900, 341934.334 7...  \n",
       "10  POLYGON ((340579.417 7401672.553, 340579.493 7...  \n",
       "47  POLYGON ((341731.295 7388459.495, 341723.755 7...  \n",
       "51  POLYGON ((320805.525 7390280.495, 320824.353 7...  \n",
       "\n",
       "[96 rows x 6 columns]"
      ]
     },
     "execution_count": 9,
     "metadata": {},
     "output_type": "execute_result"
    }
   ],
   "source": [
    "gdf_distritos.sort_values('ds_nome')"
   ]
  },
  {
   "cell_type": "code",
   "execution_count": 10,
   "metadata": {},
   "outputs": [
    {
     "data": {
      "text/plain": [
       "((45655, 10), (45655, 9))"
      ]
     },
     "execution_count": 10,
     "metadata": {},
     "output_type": "execute_result"
    }
   ],
   "source": [
    "gdf_quadras.shape, df_quadras_distritos_od.shape"
   ]
  },
  {
   "cell_type": "code",
   "execution_count": 11,
   "metadata": {},
   "outputs": [],
   "source": [
    "gdf_ponderacao_censo = gpd.read_file('data/areas-ponderacao-censo.gpkg', layer='areas-ponderacao-censo-2010')\n",
    "df_quadras_censo =  gdf_quadras_centroid.sjoin(gdf_ponderacao_censo, how='left', predicate='intersects')"
   ]
  },
  {
   "cell_type": "code",
   "execution_count": 12,
   "metadata": {},
   "outputs": [
    {
     "data": {
      "text/plain": [
       "((45655, 9), (45655, 2))"
      ]
     },
     "execution_count": 12,
     "metadata": {},
     "output_type": "execute_result"
    }
   ],
   "source": [
    "df_quadras_distritos_od.shape, df_quadras_censo[['COD_AED', 'COD_AED_S']].shape"
   ]
  },
  {
   "cell_type": "code",
   "execution_count": 13,
   "metadata": {},
   "outputs": [],
   "source": [
    "df_quadras_distritos_od = pd.concat(\n",
    "    [df_quadras_distritos_od,\n",
    "    df_quadras_censo[['COD_AED', 'COD_AED_S']]],\n",
    "    axis=1\n",
    ")"
   ]
  },
  {
   "cell_type": "code",
   "execution_count": 14,
   "metadata": {},
   "outputs": [
    {
     "data": {
      "text/plain": [
       "Index(['qd_setor', 'qd_fiscal', 'ds_codigo', 'ds_nome', 'ds_cd_sub',\n",
       "       'ds_subpref', 'od_id', 'od_nome', 'sq', 'COD_AED', 'COD_AED_S'],\n",
       "      dtype='object')"
      ]
     },
     "execution_count": 14,
     "metadata": {},
     "output_type": "execute_result"
    }
   ],
   "source": [
    "df_quadras_distritos_od.columns"
   ]
  },
  {
   "cell_type": "code",
   "execution_count": 15,
   "metadata": {},
   "outputs": [
    {
     "name": "stderr",
     "output_type": "stream",
     "text": [
      "/home/fernando/dev/dash-iptu/venv/lib/python3.9/site-packages/geopandas/io/file.py:362: FutureWarning: pandas.Int64Index is deprecated and will be removed from pandas in a future version. Use pandas.Index with the appropriate dtype instead.\n",
      "  pd.Int64Index,\n"
     ]
    }
   ],
   "source": [
    "gdf_od_sp = gdf_od_sp.to_file('data/OD-sp.gpkg', driver='GPKG')"
   ]
  },
  {
   "cell_type": "code",
   "execution_count": 16,
   "metadata": {},
   "outputs": [
    {
     "data": {
      "text/html": [
       "<div>\n",
       "<style scoped>\n",
       "    .dataframe tbody tr th:only-of-type {\n",
       "        vertical-align: middle;\n",
       "    }\n",
       "\n",
       "    .dataframe tbody tr th {\n",
       "        vertical-align: top;\n",
       "    }\n",
       "\n",
       "    .dataframe thead th {\n",
       "        text-align: right;\n",
       "    }\n",
       "</style>\n",
       "<table border=\"1\" class=\"dataframe\">\n",
       "  <thead>\n",
       "    <tr style=\"text-align: right;\">\n",
       "      <th></th>\n",
       "      <th>qd_setor</th>\n",
       "      <th>qd_fiscal</th>\n",
       "      <th>ds_codigo</th>\n",
       "      <th>ds_nome</th>\n",
       "      <th>ds_cd_sub</th>\n",
       "      <th>ds_subpref</th>\n",
       "      <th>od_id</th>\n",
       "      <th>od_nome</th>\n",
       "      <th>sq</th>\n",
       "      <th>COD_AED</th>\n",
       "      <th>COD_AED_S</th>\n",
       "    </tr>\n",
       "  </thead>\n",
       "  <tbody>\n",
       "    <tr>\n",
       "      <th>0</th>\n",
       "      <td>001</td>\n",
       "      <td>003</td>\n",
       "      <td>9</td>\n",
       "      <td>BOM RETIRO</td>\n",
       "      <td>09</td>\n",
       "      <td>SE</td>\n",
       "      <td>7</td>\n",
       "      <td>Luz</td>\n",
       "      <td>001003</td>\n",
       "      <td>3550308005004</td>\n",
       "      <td>4</td>\n",
       "    </tr>\n",
       "    <tr>\n",
       "      <th>1</th>\n",
       "      <td>001</td>\n",
       "      <td>004</td>\n",
       "      <td>9</td>\n",
       "      <td>BOM RETIRO</td>\n",
       "      <td>09</td>\n",
       "      <td>SE</td>\n",
       "      <td>7</td>\n",
       "      <td>Luz</td>\n",
       "      <td>001004</td>\n",
       "      <td>3550308005004</td>\n",
       "      <td>4</td>\n",
       "    </tr>\n",
       "    <tr>\n",
       "      <th>2</th>\n",
       "      <td>001</td>\n",
       "      <td>005</td>\n",
       "      <td>9</td>\n",
       "      <td>BOM RETIRO</td>\n",
       "      <td>09</td>\n",
       "      <td>SE</td>\n",
       "      <td>7</td>\n",
       "      <td>Luz</td>\n",
       "      <td>001005</td>\n",
       "      <td>3550308005004</td>\n",
       "      <td>4</td>\n",
       "    </tr>\n",
       "    <tr>\n",
       "      <th>3</th>\n",
       "      <td>001</td>\n",
       "      <td>006</td>\n",
       "      <td>9</td>\n",
       "      <td>BOM RETIRO</td>\n",
       "      <td>09</td>\n",
       "      <td>SE</td>\n",
       "      <td>7</td>\n",
       "      <td>Luz</td>\n",
       "      <td>001006</td>\n",
       "      <td>3550308005004</td>\n",
       "      <td>4</td>\n",
       "    </tr>\n",
       "    <tr>\n",
       "      <th>4</th>\n",
       "      <td>001</td>\n",
       "      <td>007</td>\n",
       "      <td>9</td>\n",
       "      <td>BOM RETIRO</td>\n",
       "      <td>09</td>\n",
       "      <td>SE</td>\n",
       "      <td>7</td>\n",
       "      <td>Luz</td>\n",
       "      <td>001007</td>\n",
       "      <td>3550308005004</td>\n",
       "      <td>4</td>\n",
       "    </tr>\n",
       "    <tr>\n",
       "      <th>...</th>\n",
       "      <td>...</td>\n",
       "      <td>...</td>\n",
       "      <td>...</td>\n",
       "      <td>...</td>\n",
       "      <td>...</td>\n",
       "      <td>...</td>\n",
       "      <td>...</td>\n",
       "      <td>...</td>\n",
       "      <td>...</td>\n",
       "      <td>...</td>\n",
       "      <td>...</td>\n",
       "    </tr>\n",
       "    <tr>\n",
       "      <th>45650</th>\n",
       "      <td>310</td>\n",
       "      <td>116</td>\n",
       "      <td>38</td>\n",
       "      <td>JABAQUARA</td>\n",
       "      <td>15</td>\n",
       "      <td>JABAQUARA</td>\n",
       "      <td>274</td>\n",
       "      <td>Jabaquara</td>\n",
       "      <td>310116</td>\n",
       "      <td>3550308005095</td>\n",
       "      <td>95</td>\n",
       "    </tr>\n",
       "    <tr>\n",
       "      <th>45651</th>\n",
       "      <td>310</td>\n",
       "      <td>117</td>\n",
       "      <td>38</td>\n",
       "      <td>JABAQUARA</td>\n",
       "      <td>15</td>\n",
       "      <td>JABAQUARA</td>\n",
       "      <td>275</td>\n",
       "      <td>Cidade Vargas</td>\n",
       "      <td>310117</td>\n",
       "      <td>3550308005093</td>\n",
       "      <td>93</td>\n",
       "    </tr>\n",
       "    <tr>\n",
       "      <th>45652</th>\n",
       "      <td>310</td>\n",
       "      <td>118</td>\n",
       "      <td>38</td>\n",
       "      <td>JABAQUARA</td>\n",
       "      <td>15</td>\n",
       "      <td>JABAQUARA</td>\n",
       "      <td>275</td>\n",
       "      <td>Cidade Vargas</td>\n",
       "      <td>310118</td>\n",
       "      <td>3550308005093</td>\n",
       "      <td>93</td>\n",
       "    </tr>\n",
       "    <tr>\n",
       "      <th>45653</th>\n",
       "      <td>310</td>\n",
       "      <td>119</td>\n",
       "      <td>38</td>\n",
       "      <td>JABAQUARA</td>\n",
       "      <td>15</td>\n",
       "      <td>JABAQUARA</td>\n",
       "      <td>275</td>\n",
       "      <td>Cidade Vargas</td>\n",
       "      <td>310119</td>\n",
       "      <td>3550308005093</td>\n",
       "      <td>93</td>\n",
       "    </tr>\n",
       "    <tr>\n",
       "      <th>45654</th>\n",
       "      <td>310</td>\n",
       "      <td>120</td>\n",
       "      <td>38</td>\n",
       "      <td>JABAQUARA</td>\n",
       "      <td>15</td>\n",
       "      <td>JABAQUARA</td>\n",
       "      <td>275</td>\n",
       "      <td>Cidade Vargas</td>\n",
       "      <td>310120</td>\n",
       "      <td>3550308005093</td>\n",
       "      <td>93</td>\n",
       "    </tr>\n",
       "  </tbody>\n",
       "</table>\n",
       "<p>45655 rows × 11 columns</p>\n",
       "</div>"
      ],
      "text/plain": [
       "      qd_setor qd_fiscal ds_codigo     ds_nome ds_cd_sub ds_subpref od_id  \\\n",
       "0          001       003         9  BOM RETIRO        09         SE     7   \n",
       "1          001       004         9  BOM RETIRO        09         SE     7   \n",
       "2          001       005         9  BOM RETIRO        09         SE     7   \n",
       "3          001       006         9  BOM RETIRO        09         SE     7   \n",
       "4          001       007         9  BOM RETIRO        09         SE     7   \n",
       "...        ...       ...       ...         ...       ...        ...   ...   \n",
       "45650      310       116        38   JABAQUARA        15  JABAQUARA   274   \n",
       "45651      310       117        38   JABAQUARA        15  JABAQUARA   275   \n",
       "45652      310       118        38   JABAQUARA        15  JABAQUARA   275   \n",
       "45653      310       119        38   JABAQUARA        15  JABAQUARA   275   \n",
       "45654      310       120        38   JABAQUARA        15  JABAQUARA   275   \n",
       "\n",
       "             od_nome      sq        COD_AED COD_AED_S  \n",
       "0                Luz  001003  3550308005004         4  \n",
       "1                Luz  001004  3550308005004         4  \n",
       "2                Luz  001005  3550308005004         4  \n",
       "3                Luz  001006  3550308005004         4  \n",
       "4                Luz  001007  3550308005004         4  \n",
       "...              ...     ...            ...       ...  \n",
       "45650      Jabaquara  310116  3550308005095        95  \n",
       "45651  Cidade Vargas  310117  3550308005093        93  \n",
       "45652  Cidade Vargas  310118  3550308005093        93  \n",
       "45653  Cidade Vargas  310119  3550308005093        93  \n",
       "45654  Cidade Vargas  310120  3550308005093        93  \n",
       "\n",
       "[45655 rows x 11 columns]"
      ]
     },
     "execution_count": 16,
     "metadata": {},
     "output_type": "execute_result"
    }
   ],
   "source": [
    "df_quadras_distritos_od"
   ]
  },
  {
   "cell_type": "code",
   "execution_count": 17,
   "metadata": {},
   "outputs": [
    {
     "data": {
      "text/html": [
       "<div>\n",
       "<style scoped>\n",
       "    .dataframe tbody tr th:only-of-type {\n",
       "        vertical-align: middle;\n",
       "    }\n",
       "\n",
       "    .dataframe tbody tr th {\n",
       "        vertical-align: top;\n",
       "    }\n",
       "\n",
       "    .dataframe thead th {\n",
       "        text-align: right;\n",
       "    }\n",
       "</style>\n",
       "<table border=\"1\" class=\"dataframe\">\n",
       "  <thead>\n",
       "    <tr style=\"text-align: right;\">\n",
       "      <th></th>\n",
       "      <th>qd_setor</th>\n",
       "      <th>qd_fiscal</th>\n",
       "      <th>geometry</th>\n",
       "      <th>qd_id_orig</th>\n",
       "      <th>qd_tipo</th>\n",
       "      <th>qd_subqua</th>\n",
       "      <th>qd_area</th>\n",
       "      <th>qd_situac</th>\n",
       "      <th>qd_id</th>\n",
       "      <th>qd_tx_tipo</th>\n",
       "      <th>ds_codigo</th>\n",
       "      <th>ds_subpref</th>\n",
       "      <th>ds_cd_sub</th>\n",
       "      <th>ds_sigla</th>\n",
       "      <th>ds_nome</th>\n",
       "      <th>sq</th>\n",
       "    </tr>\n",
       "  </thead>\n",
       "  <tbody>\n",
       "    <tr>\n",
       "      <th>27467</th>\n",
       "      <td>133</td>\n",
       "      <td>127</td>\n",
       "      <td>POINT (357031.736 7402052.859)</td>\n",
       "      <td>10122413</td>\n",
       "      <td>F</td>\n",
       "      <td>001</td>\n",
       "      <td>65776.7480405944</td>\n",
       "      <td>1</td>\n",
       "      <td>179963</td>\n",
       "      <td>FISCAL</td>\n",
       "      <td>NaN</td>\n",
       "      <td>NaN</td>\n",
       "      <td>NaN</td>\n",
       "      <td>NaN</td>\n",
       "      <td>NaN</td>\n",
       "      <td>133127</td>\n",
       "    </tr>\n",
       "    <tr>\n",
       "      <th>33243</th>\n",
       "      <td>156</td>\n",
       "      <td>135</td>\n",
       "      <td>POINT (343167.543 7387776.019)</td>\n",
       "      <td>8985852</td>\n",
       "      <td>F</td>\n",
       "      <td>001</td>\n",
       "      <td>2484.92461758186</td>\n",
       "      <td>1</td>\n",
       "      <td>148338</td>\n",
       "      <td>FISCAL</td>\n",
       "      <td>NaN</td>\n",
       "      <td>NaN</td>\n",
       "      <td>NaN</td>\n",
       "      <td>NaN</td>\n",
       "      <td>NaN</td>\n",
       "      <td>156135</td>\n",
       "    </tr>\n",
       "    <tr>\n",
       "      <th>37127</th>\n",
       "      <td>173</td>\n",
       "      <td>160</td>\n",
       "      <td>POINT (333525.605 7378933.173)</td>\n",
       "      <td>9704470</td>\n",
       "      <td>F</td>\n",
       "      <td>001</td>\n",
       "      <td>1348.82739798853</td>\n",
       "      <td>1</td>\n",
       "      <td>182464</td>\n",
       "      <td>FISCAL</td>\n",
       "      <td>NaN</td>\n",
       "      <td>NaN</td>\n",
       "      <td>NaN</td>\n",
       "      <td>NaN</td>\n",
       "      <td>NaN</td>\n",
       "      <td>173160</td>\n",
       "    </tr>\n",
       "    <tr>\n",
       "      <th>37132</th>\n",
       "      <td>173</td>\n",
       "      <td>165</td>\n",
       "      <td>POINT (333590.700 7378465.176)</td>\n",
       "      <td>9704234</td>\n",
       "      <td>F</td>\n",
       "      <td>001</td>\n",
       "      <td>2641.57734002054</td>\n",
       "      <td>1</td>\n",
       "      <td>186397</td>\n",
       "      <td>FISCAL</td>\n",
       "      <td>NaN</td>\n",
       "      <td>NaN</td>\n",
       "      <td>NaN</td>\n",
       "      <td>NaN</td>\n",
       "      <td>NaN</td>\n",
       "      <td>173165</td>\n",
       "    </tr>\n",
       "  </tbody>\n",
       "</table>\n",
       "</div>"
      ],
      "text/plain": [
       "      qd_setor qd_fiscal                        geometry qd_id_orig qd_tipo  \\\n",
       "27467      133       127  POINT (357031.736 7402052.859)   10122413       F   \n",
       "33243      156       135  POINT (343167.543 7387776.019)    8985852       F   \n",
       "37127      173       160  POINT (333525.605 7378933.173)    9704470       F   \n",
       "37132      173       165  POINT (333590.700 7378465.176)    9704234       F   \n",
       "\n",
       "      qd_subqua           qd_area qd_situac   qd_id qd_tx_tipo ds_codigo  \\\n",
       "27467       001  65776.7480405944         1  179963     FISCAL       NaN   \n",
       "33243       001  2484.92461758186         1  148338     FISCAL       NaN   \n",
       "37127       001  1348.82739798853         1  182464     FISCAL       NaN   \n",
       "37132       001  2641.57734002054         1  186397     FISCAL       NaN   \n",
       "\n",
       "      ds_subpref ds_cd_sub ds_sigla ds_nome      sq  \n",
       "27467        NaN       NaN      NaN     NaN  133127  \n",
       "33243        NaN       NaN      NaN     NaN  156135  \n",
       "37127        NaN       NaN      NaN     NaN  173160  \n",
       "37132        NaN       NaN      NaN     NaN  173165  "
      ]
     },
     "execution_count": 17,
     "metadata": {},
     "output_type": "execute_result"
    }
   ],
   "source": [
    "## TODO\n",
    "# Verificar essa inconsistencia\n",
    "gdf_quadras_distritos[gdf_quadras_distritos.ds_codigo.isna()]"
   ]
  },
  {
   "cell_type": "code",
   "execution_count": 18,
   "metadata": {},
   "outputs": [],
   "source": [
    "exercicio_inicio = 1995\n",
    "exercicio_fim = 2023"
   ]
  },
  {
   "cell_type": "code",
   "execution_count": 19,
   "metadata": {},
   "outputs": [
    {
     "name": "stdout",
     "output_type": "stream",
     "text": [
      "Processando 1995\n"
     ]
    },
    {
     "ename": "NameError",
     "evalue": "Column or variable 'area_terreno_proporcional' does not exist. Did you mean: 'area_ocupada_proporcional' or '__area_ocupada_proporcional'",
     "output_type": "error",
     "traceback": [
      "\u001b[0;31m---------------------------------------------------------------------------\u001b[0m",
      "\u001b[0;31mNameError\u001b[0m                                 Traceback (most recent call last)",
      "\u001b[1;32m/home/fernando/dev/dash-iptu/14 - Preparando dados do IPTU recorrente.ipynb Cell 20\u001b[0m in \u001b[0;36m<cell line: 3>\u001b[0;34m()\u001b[0m\n\u001b[1;32m     <a href='vscode-notebook-cell:/home/fernando/dev/dash-iptu/14%20-%20Preparando%20dados%20do%20IPTU%20recorrente.ipynb#X25sZmlsZQ%3D%3D?line=22'>23</a>\u001b[0m df[\u001b[39m'\u001b[39m\u001b[39mfracao_ideal\u001b[39m\u001b[39m'\u001b[39m] \u001b[39m=\u001b[39m df\u001b[39m.\u001b[39mfunc\u001b[39m.\u001b[39mwhere(df[\u001b[39m'\u001b[39m\u001b[39mFRACAO IDEAL\u001b[39m\u001b[39m'\u001b[39m] \u001b[39m==\u001b[39m \u001b[39m0.\u001b[39m,  \n\u001b[1;32m     <a href='vscode-notebook-cell:/home/fernando/dev/dash-iptu/14%20-%20Preparando%20dados%20do%20IPTU%20recorrente.ipynb#X25sZmlsZQ%3D%3D?line=23'>24</a>\u001b[0m                                             df[\u001b[39m'\u001b[39m\u001b[39mAREA CONSTRUIDA\u001b[39m\u001b[39m'\u001b[39m] \u001b[39m/\u001b[39m df[\u001b[39m'\u001b[39m\u001b[39marea_contruida_total\u001b[39m\u001b[39m'\u001b[39m],\n\u001b[1;32m     <a href='vscode-notebook-cell:/home/fernando/dev/dash-iptu/14%20-%20Preparando%20dados%20do%20IPTU%20recorrente.ipynb#X25sZmlsZQ%3D%3D?line=24'>25</a>\u001b[0m                                             df[\u001b[39m'\u001b[39m\u001b[39mFRACAO IDEAL\u001b[39m\u001b[39m'\u001b[39m])\n\u001b[1;32m     <a href='vscode-notebook-cell:/home/fernando/dev/dash-iptu/14%20-%20Preparando%20dados%20do%20IPTU%20recorrente.ipynb#X25sZmlsZQ%3D%3D?line=25'>26</a>\u001b[0m df[\u001b[39m'\u001b[39m\u001b[39marea_ocupada_proporcional\u001b[39m\u001b[39m'\u001b[39m] \u001b[39m=\u001b[39m df[\u001b[39m'\u001b[39m\u001b[39marea_ocupada_proporcional\u001b[39m\u001b[39m'\u001b[39m] \u001b[39m*\u001b[39m df[\u001b[39m'\u001b[39m\u001b[39mfracao_ideal\u001b[39m\u001b[39m'\u001b[39m]\n\u001b[0;32m---> <a href='vscode-notebook-cell:/home/fernando/dev/dash-iptu/14%20-%20Preparando%20dados%20do%20IPTU%20recorrente.ipynb#X25sZmlsZQ%3D%3D?line=26'>27</a>\u001b[0m df[\u001b[39m'\u001b[39m\u001b[39marea_terreno_proporcional\u001b[39m\u001b[39m'\u001b[39m] \u001b[39m=\u001b[39m df[\u001b[39m'\u001b[39;49m\u001b[39marea_terreno_proporcional\u001b[39;49m\u001b[39m'\u001b[39;49m] \u001b[39m*\u001b[39m df[\u001b[39m'\u001b[39m\u001b[39mfracao_ideal\u001b[39m\u001b[39m'\u001b[39m]\n\u001b[1;32m     <a href='vscode-notebook-cell:/home/fernando/dev/dash-iptu/14%20-%20Preparando%20dados%20do%20IPTU%20recorrente.ipynb#X25sZmlsZQ%3D%3D?line=27'>28</a>\u001b[0m df[\u001b[39m'\u001b[39m\u001b[39mca\u001b[39m\u001b[39m'\u001b[39m] \u001b[39m=\u001b[39m (df[\u001b[39m'\u001b[39m\u001b[39mAREA CONSTRUIDA\u001b[39m\u001b[39m'\u001b[39m] \u001b[39m/\u001b[39m df[\u001b[39m'\u001b[39m\u001b[39mfracao_ideal\u001b[39m\u001b[39m'\u001b[39m]) \u001b[39m/\u001b[39m df[\u001b[39m'\u001b[39m\u001b[39mAREA DO TERRENO\u001b[39m\u001b[39m'\u001b[39m]\n\u001b[1;32m     <a href='vscode-notebook-cell:/home/fernando/dev/dash-iptu/14%20-%20Preparando%20dados%20do%20IPTU%20recorrente.ipynb#X25sZmlsZQ%3D%3D?line=28'>29</a>\u001b[0m df[\u001b[39m'\u001b[39m\u001b[39mto\u001b[39m\u001b[39m'\u001b[39m] \u001b[39m=\u001b[39m df[\u001b[39m'\u001b[39m\u001b[39mAREA OCUPADA\u001b[39m\u001b[39m'\u001b[39m] \u001b[39m/\u001b[39m df[\u001b[39m'\u001b[39m\u001b[39mAREA DO TERRENO\u001b[39m\u001b[39m'\u001b[39m]\n",
      "File \u001b[0;32m~/dev/dash-iptu/venv/lib/python3.9/site-packages/vaex/dataframe.py:5346\u001b[0m, in \u001b[0;36mDataFrame.__getitem__\u001b[0;34m(self, item)\u001b[0m\n\u001b[1;32m   5341\u001b[0m \u001b[39m# if item in self.virtual_columns:\u001b[39;00m\n\u001b[1;32m   5342\u001b[0m \u001b[39m#   return Expression(self, self.virtual_columns[item])\u001b[39;00m\n\u001b[1;32m   5343\u001b[0m \u001b[39m# if item in self._virtual_expressions:\u001b[39;00m\n\u001b[1;32m   5344\u001b[0m \u001b[39m#     return self._virtual_expressions[item]\u001b[39;00m\n\u001b[1;32m   5345\u001b[0m \u001b[39mif\u001b[39;00m item \u001b[39mnot\u001b[39;00m \u001b[39min\u001b[39;00m \u001b[39mself\u001b[39m\u001b[39m.\u001b[39mcolumn_names:\n\u001b[0;32m-> 5346\u001b[0m     \u001b[39mself\u001b[39;49m\u001b[39m.\u001b[39;49mvalidate_expression(item)\n\u001b[1;32m   5347\u001b[0m item \u001b[39m=\u001b[39m vaex\u001b[39m.\u001b[39mutils\u001b[39m.\u001b[39mvalid_expression(\u001b[39mself\u001b[39m\u001b[39m.\u001b[39mget_column_names(), item)\n\u001b[1;32m   5348\u001b[0m \u001b[39mreturn\u001b[39;00m Expression(\u001b[39mself\u001b[39m, item)  \u001b[39m# TODO we'd like to return the same expression if possible\u001b[39;00m\n",
      "File \u001b[0;32m~/dev/dash-iptu/venv/lib/python3.9/site-packages/vaex/dataframe.py:3441\u001b[0m, in \u001b[0;36mDataFrame.validate_expression\u001b[0;34m(self, expression)\u001b[0m\n\u001b[1;32m   3439\u001b[0m     \u001b[39mreturn\u001b[39;00m vaex\u001b[39m.\u001b[39mexpresso\u001b[39m.\u001b[39mvalidate_expression(expression, \u001b[39mvars\u001b[39m, funcs)\n\u001b[1;32m   3440\u001b[0m \u001b[39mexcept\u001b[39;00m \u001b[39mNameError\u001b[39;00m \u001b[39mas\u001b[39;00m e:\n\u001b[0;32m-> 3441\u001b[0m     \u001b[39mraise\u001b[39;00m \u001b[39mNameError\u001b[39;00m(\u001b[39mstr\u001b[39m(e)) \u001b[39mfrom\u001b[39;00m \u001b[39mNone\u001b[39m\n",
      "\u001b[0;31mNameError\u001b[0m: Column or variable 'area_terreno_proporcional' does not exist. Did you mean: 'area_ocupada_proporcional' or '__area_ocupada_proporcional'"
     ]
    }
   ],
   "source": [
    "dfs = []\n",
    "\n",
    "for i in range(exercicio_inicio,exercicio_fim + 1):\n",
    "\n",
    "    print(f'Processando {i}')\n",
    "    \n",
    "    # df = vaex.open(f'data/IPTU_{i}/IPTU_{i}.hdf5')\n",
    "    df = vaex.open(f'data//IPTU-HDF5/IPTU_{i}/IPTU_{i}.hdf5')\n",
    "\n",
    "    df.setor = df['NUMERO DO CONTRIBUINTE'].str.slice(0,3)\n",
    "    df.quadra = df['NUMERO DO CONTRIBUINTE'].str.slice(3,6)\n",
    "    df.fillna(value='00-0', column_names=['NUMERO DO CONDOMINIO'], inplace=True)\n",
    "    df.fillna(value=1., column_names=['FRACAO IDEAL'], inplace=True)\n",
    "    df.fillna(value=0., column_names=['AREA CONSTRUIDA', 'AREA OCUPADA', 'AREA DO TERRENO'], inplace=True)\n",
    "    df.sqlc = df.func.where(df['NUMERO DO CONDOMINIO'] == '00-0',\n",
    "                                    df['NUMERO DO CONTRIBUINTE'].str.slice(0, 10) + '00',\n",
    "                                    df['NUMERO DO CONTRIBUINTE'].str.slice(0, 6) + '0000' + df['NUMERO DO CONDOMINIO'].str.slice(0, 2))\n",
    "    df['sq'] = df.setor + df.quadra\n",
    "    df['sqlc'] = df.sqlc\n",
    "    df_sqlc_ac = df.groupby('sqlc', agg={'area_contruida_total': vaex.agg.sum('AREA CONSTRUIDA'),\n",
    "                                         'area_ocupada_proporcional': vaex.agg.max('AREA OCUPADA')})\n",
    "    df = df.join(df_sqlc_ac, on='sqlc')\n",
    "    df['fracao_ideal'] = df.func.where(df['FRACAO IDEAL'] == 0.,  \n",
    "                                                df['AREA CONSTRUIDA'] / df['area_contruida_total'],\n",
    "                                                df['FRACAO IDEAL'])\n",
    "    df['area_ocupada_proporcional'] = df['area_ocupada_proporcional'] * df['fracao_ideal']\n",
    "    df['area_terreno_proporcional'] = df['AREA DO TERRENO'] * df['fracao_ideal']\n",
    "    df['ca'] = (df['AREA CONSTRUIDA'] / df['fracao_ideal']) / df['AREA DO TERRENO']\n",
    "    df['to'] = df['AREA OCUPADA'] / df['AREA DO TERRENO']\n",
    "\n",
    "    df['valor_terreno'] = df['fracao_ideal'] * df['VALOR DO M2 DO TERRENO'] * df['AREA DO TERRENO']\n",
    "    df['valor_construcao'] = df['VALOR DO M2 DE CONSTRUCAO'] * df['AREA CONSTRUIDA']\n",
    "\n",
    "    dfs.append(df)\n",
    "    # break\n"
   ]
  },
  {
   "cell_type": "code",
   "execution_count": null,
   "metadata": {},
   "outputs": [
    {
     "name": "stderr",
     "output_type": "stream",
     "text": [
      "/home/fernando/dev/dash-iptu/venv/lib/python3.9/site-packages/vaex/arrow/numpy_dispatch.py:72: RuntimeWarning: invalid value encountered in true_divide\n",
      "  result_data = op['op'](a_data, b_data)\n"
     ]
    },
    {
     "data": {
      "text/html": [
       "<table>\n",
       "<thead>\n",
       "<tr><th>#                                    </th><th>AREA OCUPADA  </th><th>area_ocupada  </th><th>area_contruida_total  </th><th>AREA CONSTRUIDA  </th></tr>\n",
       "</thead>\n",
       "<tbody>\n",
       "<tr><td><i style='opacity: 0.6'>0</i>        </td><td>108           </td><td>108.0         </td><td>135                   </td><td>135              </td></tr>\n",
       "<tr><td><i style='opacity: 0.6'>1</i>        </td><td>67            </td><td>67.0          </td><td>67                    </td><td>67               </td></tr>\n",
       "<tr><td><i style='opacity: 0.6'>2</i>        </td><td>84            </td><td>84.0          </td><td>140                   </td><td>140              </td></tr>\n",
       "<tr><td><i style='opacity: 0.6'>3</i>        </td><td>86            </td><td>86.0          </td><td>103                   </td><td>103              </td></tr>\n",
       "<tr><td><i style='opacity: 0.6'>4</i>        </td><td>110           </td><td>110.0         </td><td>170                   </td><td>170              </td></tr>\n",
       "<tr><td>...                                  </td><td>...           </td><td>...           </td><td>...                   </td><td>...              </td></tr>\n",
       "<tr><td><i style='opacity: 0.6'>3,639,371</i></td><td>5312          </td><td>17.5296       </td><td>25215                 </td><td>84               </td></tr>\n",
       "<tr><td><i style='opacity: 0.6'>3,639,372</i></td><td>5312          </td><td>17.5296       </td><td>25215                 </td><td>84               </td></tr>\n",
       "<tr><td><i style='opacity: 0.6'>3,639,373</i></td><td>5312          </td><td>17.5296       </td><td>25215                 </td><td>84               </td></tr>\n",
       "<tr><td><i style='opacity: 0.6'>3,639,374</i></td><td>0             </td><td>0.0           </td><td>0                     </td><td>0                </td></tr>\n",
       "<tr><td><i style='opacity: 0.6'>3,639,375</i></td><td>0             </td><td>0.0           </td><td>0                     </td><td>0                </td></tr>\n",
       "</tbody>\n",
       "</table>"
      ],
      "text/plain": [
       "#          AREA OCUPADA    area_ocupada    area_contruida_total    AREA CONSTRUIDA\n",
       "0          108             108.0           135                     135\n",
       "1          67              67.0            67                      67\n",
       "2          84              84.0            140                     140\n",
       "3          86              86.0            103                     103\n",
       "4          110             110.0           170                     170\n",
       "...        ...             ...             ...                     ...\n",
       "3,639,371  5312            17.5296         25215                   84\n",
       "3,639,372  5312            17.5296         25215                   84\n",
       "3,639,373  5312            17.5296         25215                   84\n",
       "3,639,374  0               0.0             0                       0\n",
       "3,639,375  0               0.0             0                       0"
      ]
     },
     "execution_count": 53,
     "metadata": {},
     "output_type": "execute_result"
    }
   ],
   "source": [
    "df[['AREA OCUPADA', 'area_ocupada_proporcional', 'area_contruida_total', 'AREA CONSTRUIDA']]"
   ]
  },
  {
   "cell_type": "code",
   "execution_count": null,
   "metadata": {},
   "outputs": [],
   "source": [
    "df_iptu = vaex.concat(dfs)"
   ]
  },
  {
   "cell_type": "code",
   "execution_count": null,
   "metadata": {},
   "outputs": [
    {
     "data": {
      "text/plain": [
       "(85961435, 38)"
      ]
     },
     "execution_count": 55,
     "metadata": {},
     "output_type": "execute_result"
    }
   ],
   "source": [
    "df_iptu.shape"
   ]
  },
  {
   "cell_type": "code",
   "execution_count": null,
   "metadata": {},
   "outputs": [],
   "source": [
    "columns_to_drop = [\n",
    "    'NUMERO DO CONTRIBUINTE',\n",
    "    'NUMERO DA NL',\n",
    "    'DATA DO CADASTRAMENTO',\n",
    "    'NOME DE LOGRADOURO DO IMOVEL', \n",
    "    'NUMERO DO IMOVEL', \n",
    "    'COMPLEMENTO DO IMOVEL',\n",
    "    'BAIRRO DO IMOVEL', \n",
    "    'REFERENCIA DO IMOVEL',\n",
    "    'CEP DO IMOVEL',\n",
    "    'QUANTIDADE DE ESQUINAS FRENTES',\n",
    "    'VALOR DO M2 DO TERRENO',\n",
    "    'VALOR DO M2 DE CONSTRUCAO' , \n",
    "    'TIPO DE TERRENO', \n",
    "    'ANO DE INICIO DA VIDA DO CONTRIBUINTE',\n",
    "    'MES DE INICIO DA VIDA DO CONTRIBUINTE', \n",
    "    'FASE DO CONTRIBUINTE', \n",
    "    'FRACAO IDEAL'\n",
    "]"
   ]
  },
  {
   "cell_type": "code",
   "execution_count": null,
   "metadata": {},
   "outputs": [
    {
     "data": {
      "text/html": [
       "<table>\n",
       "<thead>\n",
       "<tr><th>#                                     </th><th>ANO DO EXERCICIO  </th><th>CODLOG DO IMOVEL  </th><th>ANO DA CONSTRUCAO CORRIGIDO  </th><th>QUANTIDADE DE PAVIMENTOS  </th><th>TESTADA PARA CALCULO  </th><th>TIPO DE USO DO IMOVEL    </th><th>TIPO DE PADRAO DA CONSTRUCAO   </th><th>FATOR DE OBSOLESCENCIA  </th><th>area_contruida_total  </th><th>NUMERO DO CONDOMINIO  </th><th>AREA CONSTRUIDA  </th><th>AREA OCUPADA  </th><th>AREA DO TERRENO  </th><th>sq    </th><th>sqlc        </th><th>fracao_ideal  </th><th>area_ocupada  </th><th>ca                </th><th>to                </th><th>valor_terreno  </th><th>valor_construcao  </th></tr>\n",
       "</thead>\n",
       "<tbody>\n",
       "<tr><td><i style='opacity: 0.6'>0</i>         </td><td>1995              </td><td>03812-1           </td><td>1924                         </td><td>1                         </td><td>13.0                  </td><td>loja                     </td><td>comercial horizontal - Padrão B</td><td>0.0                     </td><td>135                   </td><td>00-0                  </td><td>135              </td><td>0             </td><td>136              </td><td>001003</td><td>001003000100</td><td>1.0           </td><td>0.0           </td><td>0.9926470588235294</td><td>0.0               </td><td>13600.0        </td><td>17415.0           </td></tr>\n",
       "<tr><td><i style='opacity: 0.6'>1</i>         </td><td>1995              </td><td>03812-1           </td><td>1944                         </td><td>1                         </td><td>6.0                   </td><td>loja                     </td><td>comercial horizontal - Padrão A</td><td>0.0                     </td><td>67                    </td><td>00-0                  </td><td>67               </td><td>0             </td><td>90               </td><td>001003</td><td>001003000200</td><td>1.0           </td><td>0.0           </td><td>0.7444444444444445</td><td>0.0               </td><td>9000.0         </td><td>6298.0            </td></tr>\n",
       "<tr><td><i style='opacity: 0.6'>2</i>         </td><td>1995              </td><td>03812-1           </td><td>1944                         </td><td>1                         </td><td>8.0                   </td><td>loja                     </td><td>comercial horizontal - Padrão A</td><td>0.0                     </td><td>85                    </td><td>00-0                  </td><td>85               </td><td>0             </td><td>105              </td><td>001003</td><td>001003000300</td><td>1.0           </td><td>0.0           </td><td>0.8095238095238095</td><td>0.0               </td><td>10500.0        </td><td>7990.0            </td></tr>\n",
       "<tr><td><i style='opacity: 0.6'>3</i>         </td><td>1995              </td><td>03812-1           </td><td>1944                         </td><td>1                         </td><td>6.0                   </td><td>loja                     </td><td>comercial horizontal - Padrão B</td><td>0.0                     </td><td>103                   </td><td>00-0                  </td><td>103              </td><td>0             </td><td>108              </td><td>001003</td><td>001003000400</td><td>1.0           </td><td>0.0           </td><td>0.9537037037037037</td><td>0.0               </td><td>10800.0        </td><td>13287.0           </td></tr>\n",
       "<tr><td><i style='opacity: 0.6'>4</i>         </td><td>1995              </td><td>03812-1           </td><td>1944                         </td><td>1                         </td><td>7.0                   </td><td>loja                     </td><td>comercial horizontal - Padrão A</td><td>0.0                     </td><td>98                    </td><td>00-0                  </td><td>98               </td><td>0             </td><td>120              </td><td>001003</td><td>001003000500</td><td>1.0           </td><td>0.0           </td><td>0.8166666666666667</td><td>0.0               </td><td>12000.0        </td><td>9212.0            </td></tr>\n",
       "<tr><td>...                                   </td><td>...               </td><td>...               </td><td>...                          </td><td>...                       </td><td>...                   </td><td>...                      </td><td>...                            </td><td>...                     </td><td>...                   </td><td>...                   </td><td>...              </td><td>...           </td><td>...              </td><td>...   </td><td>...         </td><td>...           </td><td>...           </td><td>...               </td><td>...               </td><td>...            </td><td>...               </td></tr>\n",
       "<tr><td><i style='opacity: 0.6'>85,961,430</i></td><td>2023              </td><td>02235-7           </td><td>1978                         </td><td>5                         </td><td>0.0                   </td><td>Apartamento em condomínio</td><td>Residencial vertical - padrão B</td><td>0.2                     </td><td>25215                 </td><td>01-9                  </td><td>84               </td><td>5312          </td><td>18041            </td><td>310118</td><td>310118000001</td><td>0.0033        </td><td>17.5296       </td><td>1.4109276345294306</td><td>0.2944404412172274</td><td>144492.1731    </td><td>177660.0          </td></tr>\n",
       "<tr><td><i style='opacity: 0.6'>85,961,431</i></td><td>2023              </td><td>02235-7           </td><td>1978                         </td><td>5                         </td><td>0.0                   </td><td>Apartamento em condomínio</td><td>Residencial vertical - padrão B</td><td>0.2                     </td><td>25215                 </td><td>01-9                  </td><td>84               </td><td>5312          </td><td>18041            </td><td>310118</td><td>310118000001</td><td>0.0033        </td><td>17.5296       </td><td>1.4109276345294306</td><td>0.2944404412172274</td><td>144492.1731    </td><td>177660.0          </td></tr>\n",
       "<tr><td><i style='opacity: 0.6'>85,961,432</i></td><td>2023              </td><td>02235-7           </td><td>1978                         </td><td>5                         </td><td>0.0                   </td><td>Apartamento em condomínio</td><td>Residencial vertical - padrão B</td><td>0.2                     </td><td>25215                 </td><td>01-9                  </td><td>84               </td><td>5312          </td><td>18041            </td><td>310118</td><td>310118000001</td><td>0.0033        </td><td>17.5296       </td><td>1.4109276345294306</td><td>0.2944404412172274</td><td>144492.1731    </td><td>177660.0          </td></tr>\n",
       "<tr><td><i style='opacity: 0.6'>85,961,433</i></td><td>2023              </td><td>19137-0           </td><td>0                            </td><td>0                         </td><td>0.0                   </td><td>Terreno                  </td><td>TERRENO                        </td><td>0.0                     </td><td>0                     </td><td>00-0                  </td><td>0                </td><td>0             </td><td>18500            </td><td>310119</td><td>310119000100</td><td>1.0           </td><td>0.0           </td><td>0.0               </td><td>0.0               </td><td>41939500.0     </td><td>0.0               </td></tr>\n",
       "<tr><td><i style='opacity: 0.6'>85,961,434</i></td><td>2023              </td><td>01041-3           </td><td>0                            </td><td>0                         </td><td>500.0                 </td><td>Terreno                  </td><td>TERRENO                        </td><td>0.0                     </td><td>0                     </td><td>00-0                  </td><td>0                </td><td>0             </td><td>18926            </td><td>310120</td><td>310120000100</td><td>1.0           </td><td>0.0           </td><td>0.0               </td><td>0.0               </td><td>11790898.0     </td><td>0.0               </td></tr>\n",
       "</tbody>\n",
       "</table>"
      ],
      "text/plain": [
       "#           ANO DO EXERCICIO    CODLOG DO IMOVEL    ANO DA CONSTRUCAO CORRIGIDO    QUANTIDADE DE PAVIMENTOS    TESTADA PARA CALCULO    TIPO DE USO DO IMOVEL      TIPO DE PADRAO DA CONSTRUCAO     FATOR DE OBSOLESCENCIA    area_contruida_total    NUMERO DO CONDOMINIO    AREA CONSTRUIDA    AREA OCUPADA    AREA DO TERRENO    sq      sqlc          fracao_ideal    area_ocupada    ca                  to                  valor_terreno    valor_construcao\n",
       "0           1995                03812-1             1924                           1                           13.0                    loja                       comercial horizontal - Padrão B  0.0                       135                     00-0                    135                0               136                001003  001003000100  1.0             0.0             0.9926470588235294  0.0                 13600.0          17415.0\n",
       "1           1995                03812-1             1944                           1                           6.0                     loja                       comercial horizontal - Padrão A  0.0                       67                      00-0                    67                 0               90                 001003  001003000200  1.0             0.0             0.7444444444444445  0.0                 9000.0           6298.0\n",
       "2           1995                03812-1             1944                           1                           8.0                     loja                       comercial horizontal - Padrão A  0.0                       85                      00-0                    85                 0               105                001003  001003000300  1.0             0.0             0.8095238095238095  0.0                 10500.0          7990.0\n",
       "3           1995                03812-1             1944                           1                           6.0                     loja                       comercial horizontal - Padrão B  0.0                       103                     00-0                    103                0               108                001003  001003000400  1.0             0.0             0.9537037037037037  0.0                 10800.0          13287.0\n",
       "4           1995                03812-1             1944                           1                           7.0                     loja                       comercial horizontal - Padrão A  0.0                       98                      00-0                    98                 0               120                001003  001003000500  1.0             0.0             0.8166666666666667  0.0                 12000.0          9212.0\n",
       "...         ...                 ...                 ...                            ...                         ...                     ...                        ...                              ...                       ...                     ...                     ...                ...             ...                ...     ...           ...             ...             ...                 ...                 ...              ...\n",
       "85,961,430  2023                02235-7             1978                           5                           0.0                     Apartamento em condomínio  Residencial vertical - padrão B  0.2                       25215                   01-9                    84                 5312            18041              310118  310118000001  0.0033          17.5296         1.4109276345294306  0.2944404412172274  144492.1731      177660.0\n",
       "85,961,431  2023                02235-7             1978                           5                           0.0                     Apartamento em condomínio  Residencial vertical - padrão B  0.2                       25215                   01-9                    84                 5312            18041              310118  310118000001  0.0033          17.5296         1.4109276345294306  0.2944404412172274  144492.1731      177660.0\n",
       "85,961,432  2023                02235-7             1978                           5                           0.0                     Apartamento em condomínio  Residencial vertical - padrão B  0.2                       25215                   01-9                    84                 5312            18041              310118  310118000001  0.0033          17.5296         1.4109276345294306  0.2944404412172274  144492.1731      177660.0\n",
       "85,961,433  2023                19137-0             0                              0                           0.0                     Terreno                    TERRENO                          0.0                       0                       00-0                    0                  0               18500              310119  310119000100  1.0             0.0             0.0                 0.0                 41939500.0       0.0\n",
       "85,961,434  2023                01041-3             0                              0                           500.0                   Terreno                    TERRENO                          0.0                       0                       00-0                    0                  0               18926              310120  310120000100  1.0             0.0             0.0                 0.0                 11790898.0       0.0"
      ]
     },
     "execution_count": 57,
     "metadata": {},
     "output_type": "execute_result"
    }
   ],
   "source": [
    "df_iptu.drop(columns=columns_to_drop, inplace=True)"
   ]
  },
  {
   "cell_type": "code",
   "execution_count": null,
   "metadata": {},
   "outputs": [
    {
     "data": {
      "text/plain": [
       "(85961435, 21)"
      ]
     },
     "execution_count": 58,
     "metadata": {},
     "output_type": "execute_result"
    }
   ],
   "source": [
    "df_iptu.shape"
   ]
  },
  {
   "cell_type": "code",
   "execution_count": null,
   "metadata": {},
   "outputs": [
    {
     "data": {
      "text/html": [
       "<table>\n",
       "<thead>\n",
       "<tr><th>#                                </th><th>ca                </th><th>AREA CONSTRUIDA  </th><th>fracao_ideal        </th><th>AREA DO TERRENO  </th><th>area_contruida_total  </th><th>ANO DO EXERCICIO  </th></tr>\n",
       "</thead>\n",
       "<tbody>\n",
       "<tr><td><i style='opacity: 0.6'>0</i>    </td><td>62.370370370370374</td><td>99               </td><td>0.01175771971496437 </td><td>135              </td><td>8420                  </td><td>1995              </td></tr>\n",
       "<tr><td><i style='opacity: 0.6'>1</i>    </td><td>62.370370370370374</td><td>95               </td><td>0.011282660332541567</td><td>135              </td><td>8420                  </td><td>1995              </td></tr>\n",
       "<tr><td><i style='opacity: 0.6'>2</i>    </td><td>62.370370370370374</td><td>106              </td><td>0.012589073634204275</td><td>135              </td><td>8420                  </td><td>1995              </td></tr>\n",
       "<tr><td><i style='opacity: 0.6'>3</i>    </td><td>62.370370370370374</td><td>95               </td><td>0.011282660332541567</td><td>135              </td><td>8420                  </td><td>1995              </td></tr>\n",
       "<tr><td><i style='opacity: 0.6'>4</i>    </td><td>62.370370370370374</td><td>106              </td><td>0.012589073634204275</td><td>135              </td><td>8420                  </td><td>1995              </td></tr>\n",
       "<tr><td>...                              </td><td>...               </td><td>...              </td><td>...                 </td><td>...              </td><td>...                   </td><td>...               </td></tr>\n",
       "<tr><td><i style='opacity: 0.6'>2,418</i></td><td>62.398263700488336</td><td>23               </td><td>0.0001              </td><td>3686             </td><td>31879                 </td><td>2023              </td></tr>\n",
       "<tr><td><i style='opacity: 0.6'>2,419</i></td><td>62.398263700488336</td><td>23               </td><td>0.0001              </td><td>3686             </td><td>31879                 </td><td>2023              </td></tr>\n",
       "<tr><td><i style='opacity: 0.6'>2,420</i></td><td>62.398263700488336</td><td>23               </td><td>0.0001              </td><td>3686             </td><td>31879                 </td><td>2023              </td></tr>\n",
       "<tr><td><i style='opacity: 0.6'>2,421</i></td><td>62.398263700488336</td><td>23               </td><td>0.0001              </td><td>3686             </td><td>31879                 </td><td>2023              </td></tr>\n",
       "<tr><td><i style='opacity: 0.6'>2,422</i></td><td>77.14285714285714 </td><td>216              </td><td>0.0028              </td><td>1000             </td><td>7248                  </td><td>2023              </td></tr>\n",
       "</tbody>\n",
       "</table>"
      ],
      "text/plain": [
       "#      ca                  AREA CONSTRUIDA    fracao_ideal          AREA DO TERRENO    area_contruida_total    ANO DO EXERCICIO\n",
       "0      62.370370370370374  99                 0.01175771971496437   135                8420                    1995\n",
       "1      62.370370370370374  95                 0.011282660332541567  135                8420                    1995\n",
       "2      62.370370370370374  106                0.012589073634204275  135                8420                    1995\n",
       "3      62.370370370370374  95                 0.011282660332541567  135                8420                    1995\n",
       "4      62.370370370370374  106                0.012589073634204275  135                8420                    1995\n",
       "...    ...                 ...                ...                   ...                ...                     ...\n",
       "2,418  62.398263700488336  23                 0.0001                3686               31879                   2023\n",
       "2,419  62.398263700488336  23                 0.0001                3686               31879                   2023\n",
       "2,420  62.398263700488336  23                 0.0001                3686               31879                   2023\n",
       "2,421  62.398263700488336  23                 0.0001                3686               31879                   2023\n",
       "2,422  77.14285714285714   216                0.0028                1000               7248                    2023"
      ]
     },
     "execution_count": 59,
     "metadata": {},
     "output_type": "execute_result"
    }
   ],
   "source": [
    "## Parece que para alguns lotes condominiais o terreno está proporcional à fracao ideal\n",
    "df_iptu[df_iptu.ca > 60]['ca', 'AREA CONSTRUIDA', 'fracao_ideal', 'AREA DO TERRENO', 'area_contruida_total', 'ANO DO EXERCICIO']"
   ]
  },
  {
   "cell_type": "code",
   "execution_count": null,
   "metadata": {},
   "outputs": [
    {
     "data": {
      "text/plain": [
       "(46131796, 21)"
      ]
     },
     "execution_count": 60,
     "metadata": {},
     "output_type": "execute_result"
    }
   ],
   "source": [
    "df_iptu[df_iptu['NUMERO DO CONDOMINIO'] == '00-0'].shape"
   ]
  },
  {
   "cell_type": "code",
   "execution_count": null,
   "metadata": {},
   "outputs": [
    {
     "data": {
      "text/plain": [
       "(85961435, 21)"
      ]
     },
     "execution_count": 61,
     "metadata": {},
     "output_type": "execute_result"
    }
   ],
   "source": [
    "df_iptu.shape"
   ]
  },
  {
   "cell_type": "code",
   "execution_count": null,
   "metadata": {},
   "outputs": [],
   "source": [
    "df_quadras_distritos_od['sqod'] = df_quadras_distritos_od.sq + df_quadras_distritos_od.od_id.str.pad(width=3, side='left', fillchar='0')"
   ]
  },
  {
   "cell_type": "code",
   "execution_count": null,
   "metadata": {},
   "outputs": [
    {
     "data": {
      "text/plain": [
       "(45655, 12)"
      ]
     },
     "execution_count": 63,
     "metadata": {},
     "output_type": "execute_result"
    }
   ],
   "source": [
    "df_quadras_distritos_od.shape"
   ]
  },
  {
   "cell_type": "code",
   "execution_count": null,
   "metadata": {},
   "outputs": [
    {
     "data": {
      "text/html": [
       "<div>\n",
       "<style scoped>\n",
       "    .dataframe tbody tr th:only-of-type {\n",
       "        vertical-align: middle;\n",
       "    }\n",
       "\n",
       "    .dataframe tbody tr th {\n",
       "        vertical-align: top;\n",
       "    }\n",
       "\n",
       "    .dataframe thead th {\n",
       "        text-align: right;\n",
       "    }\n",
       "</style>\n",
       "<table border=\"1\" class=\"dataframe\">\n",
       "  <thead>\n",
       "    <tr style=\"text-align: right;\">\n",
       "      <th></th>\n",
       "      <th>qd_setor</th>\n",
       "      <th>qd_fiscal</th>\n",
       "      <th>ds_codigo</th>\n",
       "      <th>ds_nome</th>\n",
       "      <th>ds_cd_sub</th>\n",
       "      <th>ds_subpref</th>\n",
       "      <th>od_id</th>\n",
       "      <th>od_nome</th>\n",
       "      <th>sq</th>\n",
       "      <th>COD_AED</th>\n",
       "      <th>COD_AED_S</th>\n",
       "      <th>sqod</th>\n",
       "    </tr>\n",
       "  </thead>\n",
       "  <tbody>\n",
       "    <tr>\n",
       "      <th>0</th>\n",
       "      <td>001</td>\n",
       "      <td>003</td>\n",
       "      <td>9</td>\n",
       "      <td>BOM RETIRO</td>\n",
       "      <td>09</td>\n",
       "      <td>SE</td>\n",
       "      <td>7</td>\n",
       "      <td>Luz</td>\n",
       "      <td>001003</td>\n",
       "      <td>3550308005004</td>\n",
       "      <td>4</td>\n",
       "      <td>001003007</td>\n",
       "    </tr>\n",
       "    <tr>\n",
       "      <th>1</th>\n",
       "      <td>001</td>\n",
       "      <td>004</td>\n",
       "      <td>9</td>\n",
       "      <td>BOM RETIRO</td>\n",
       "      <td>09</td>\n",
       "      <td>SE</td>\n",
       "      <td>7</td>\n",
       "      <td>Luz</td>\n",
       "      <td>001004</td>\n",
       "      <td>3550308005004</td>\n",
       "      <td>4</td>\n",
       "      <td>001004007</td>\n",
       "    </tr>\n",
       "    <tr>\n",
       "      <th>2</th>\n",
       "      <td>001</td>\n",
       "      <td>005</td>\n",
       "      <td>9</td>\n",
       "      <td>BOM RETIRO</td>\n",
       "      <td>09</td>\n",
       "      <td>SE</td>\n",
       "      <td>7</td>\n",
       "      <td>Luz</td>\n",
       "      <td>001005</td>\n",
       "      <td>3550308005004</td>\n",
       "      <td>4</td>\n",
       "      <td>001005007</td>\n",
       "    </tr>\n",
       "    <tr>\n",
       "      <th>3</th>\n",
       "      <td>001</td>\n",
       "      <td>006</td>\n",
       "      <td>9</td>\n",
       "      <td>BOM RETIRO</td>\n",
       "      <td>09</td>\n",
       "      <td>SE</td>\n",
       "      <td>7</td>\n",
       "      <td>Luz</td>\n",
       "      <td>001006</td>\n",
       "      <td>3550308005004</td>\n",
       "      <td>4</td>\n",
       "      <td>001006007</td>\n",
       "    </tr>\n",
       "    <tr>\n",
       "      <th>4</th>\n",
       "      <td>001</td>\n",
       "      <td>007</td>\n",
       "      <td>9</td>\n",
       "      <td>BOM RETIRO</td>\n",
       "      <td>09</td>\n",
       "      <td>SE</td>\n",
       "      <td>7</td>\n",
       "      <td>Luz</td>\n",
       "      <td>001007</td>\n",
       "      <td>3550308005004</td>\n",
       "      <td>4</td>\n",
       "      <td>001007007</td>\n",
       "    </tr>\n",
       "    <tr>\n",
       "      <th>...</th>\n",
       "      <td>...</td>\n",
       "      <td>...</td>\n",
       "      <td>...</td>\n",
       "      <td>...</td>\n",
       "      <td>...</td>\n",
       "      <td>...</td>\n",
       "      <td>...</td>\n",
       "      <td>...</td>\n",
       "      <td>...</td>\n",
       "      <td>...</td>\n",
       "      <td>...</td>\n",
       "      <td>...</td>\n",
       "    </tr>\n",
       "    <tr>\n",
       "      <th>45650</th>\n",
       "      <td>310</td>\n",
       "      <td>116</td>\n",
       "      <td>38</td>\n",
       "      <td>JABAQUARA</td>\n",
       "      <td>15</td>\n",
       "      <td>JABAQUARA</td>\n",
       "      <td>274</td>\n",
       "      <td>Jabaquara</td>\n",
       "      <td>310116</td>\n",
       "      <td>3550308005095</td>\n",
       "      <td>95</td>\n",
       "      <td>310116274</td>\n",
       "    </tr>\n",
       "    <tr>\n",
       "      <th>45651</th>\n",
       "      <td>310</td>\n",
       "      <td>117</td>\n",
       "      <td>38</td>\n",
       "      <td>JABAQUARA</td>\n",
       "      <td>15</td>\n",
       "      <td>JABAQUARA</td>\n",
       "      <td>275</td>\n",
       "      <td>Cidade Vargas</td>\n",
       "      <td>310117</td>\n",
       "      <td>3550308005093</td>\n",
       "      <td>93</td>\n",
       "      <td>310117275</td>\n",
       "    </tr>\n",
       "    <tr>\n",
       "      <th>45652</th>\n",
       "      <td>310</td>\n",
       "      <td>118</td>\n",
       "      <td>38</td>\n",
       "      <td>JABAQUARA</td>\n",
       "      <td>15</td>\n",
       "      <td>JABAQUARA</td>\n",
       "      <td>275</td>\n",
       "      <td>Cidade Vargas</td>\n",
       "      <td>310118</td>\n",
       "      <td>3550308005093</td>\n",
       "      <td>93</td>\n",
       "      <td>310118275</td>\n",
       "    </tr>\n",
       "    <tr>\n",
       "      <th>45653</th>\n",
       "      <td>310</td>\n",
       "      <td>119</td>\n",
       "      <td>38</td>\n",
       "      <td>JABAQUARA</td>\n",
       "      <td>15</td>\n",
       "      <td>JABAQUARA</td>\n",
       "      <td>275</td>\n",
       "      <td>Cidade Vargas</td>\n",
       "      <td>310119</td>\n",
       "      <td>3550308005093</td>\n",
       "      <td>93</td>\n",
       "      <td>310119275</td>\n",
       "    </tr>\n",
       "    <tr>\n",
       "      <th>45654</th>\n",
       "      <td>310</td>\n",
       "      <td>120</td>\n",
       "      <td>38</td>\n",
       "      <td>JABAQUARA</td>\n",
       "      <td>15</td>\n",
       "      <td>JABAQUARA</td>\n",
       "      <td>275</td>\n",
       "      <td>Cidade Vargas</td>\n",
       "      <td>310120</td>\n",
       "      <td>3550308005093</td>\n",
       "      <td>93</td>\n",
       "      <td>310120275</td>\n",
       "    </tr>\n",
       "  </tbody>\n",
       "</table>\n",
       "<p>45655 rows × 12 columns</p>\n",
       "</div>"
      ],
      "text/plain": [
       "      qd_setor qd_fiscal ds_codigo     ds_nome ds_cd_sub ds_subpref od_id  \\\n",
       "0          001       003         9  BOM RETIRO        09         SE     7   \n",
       "1          001       004         9  BOM RETIRO        09         SE     7   \n",
       "2          001       005         9  BOM RETIRO        09         SE     7   \n",
       "3          001       006         9  BOM RETIRO        09         SE     7   \n",
       "4          001       007         9  BOM RETIRO        09         SE     7   \n",
       "...        ...       ...       ...         ...       ...        ...   ...   \n",
       "45650      310       116        38   JABAQUARA        15  JABAQUARA   274   \n",
       "45651      310       117        38   JABAQUARA        15  JABAQUARA   275   \n",
       "45652      310       118        38   JABAQUARA        15  JABAQUARA   275   \n",
       "45653      310       119        38   JABAQUARA        15  JABAQUARA   275   \n",
       "45654      310       120        38   JABAQUARA        15  JABAQUARA   275   \n",
       "\n",
       "             od_nome      sq        COD_AED COD_AED_S       sqod  \n",
       "0                Luz  001003  3550308005004         4  001003007  \n",
       "1                Luz  001004  3550308005004         4  001004007  \n",
       "2                Luz  001005  3550308005004         4  001005007  \n",
       "3                Luz  001006  3550308005004         4  001006007  \n",
       "4                Luz  001007  3550308005004         4  001007007  \n",
       "...              ...     ...            ...       ...        ...  \n",
       "45650      Jabaquara  310116  3550308005095        95  310116274  \n",
       "45651  Cidade Vargas  310117  3550308005093        93  310117275  \n",
       "45652  Cidade Vargas  310118  3550308005093        93  310118275  \n",
       "45653  Cidade Vargas  310119  3550308005093        93  310119275  \n",
       "45654  Cidade Vargas  310120  3550308005093        93  310120275  \n",
       "\n",
       "[45655 rows x 12 columns]"
      ]
     },
     "execution_count": 64,
     "metadata": {},
     "output_type": "execute_result"
    }
   ],
   "source": [
    "df_quadras_distritos_od"
   ]
  },
  {
   "cell_type": "code",
   "execution_count": null,
   "metadata": {},
   "outputs": [],
   "source": [
    "df_quadras_distritos_od = df_quadras_distritos_od.drop_duplicates(subset=['sq'])"
   ]
  },
  {
   "cell_type": "code",
   "execution_count": null,
   "metadata": {},
   "outputs": [
    {
     "data": {
      "text/plain": [
       "((45655, 12), (85961435, 21))"
      ]
     },
     "execution_count": 66,
     "metadata": {},
     "output_type": "execute_result"
    }
   ],
   "source": [
    "df_quadras_distritos_od.shape, df_iptu.shape"
   ]
  },
  {
   "cell_type": "code",
   "execution_count": null,
   "metadata": {},
   "outputs": [],
   "source": [
    "df_iptu = df_iptu.join(vaex.from_pandas(df_quadras_distritos_od), on='sq', how='left',  \n",
    "            allow_duplication=False, inplace=False)"
   ]
  },
  {
   "cell_type": "code",
   "execution_count": null,
   "metadata": {},
   "outputs": [
    {
     "data": {
      "text/plain": [
       "((45655, 12), (85961435, 32))"
      ]
     },
     "execution_count": 68,
     "metadata": {},
     "output_type": "execute_result"
    }
   ],
   "source": [
    "df_quadras_distritos_od.shape, df_iptu.shape"
   ]
  },
  {
   "cell_type": "code",
   "execution_count": null,
   "metadata": {},
   "outputs": [
    {
     "data": {
      "text/html": [
       "<div>\n",
       "<style scoped>\n",
       "    .dataframe tbody tr th:only-of-type {\n",
       "        vertical-align: middle;\n",
       "    }\n",
       "\n",
       "    .dataframe tbody tr th {\n",
       "        vertical-align: top;\n",
       "    }\n",
       "\n",
       "    .dataframe thead th {\n",
       "        text-align: right;\n",
       "    }\n",
       "</style>\n",
       "<table border=\"1\" class=\"dataframe\">\n",
       "  <thead>\n",
       "    <tr style=\"text-align: right;\">\n",
       "      <th></th>\n",
       "      <th>TIPO DE USO DO IMOVEL</th>\n",
       "      <th>count</th>\n",
       "    </tr>\n",
       "  </thead>\n",
       "  <tbody>\n",
       "    <tr>\n",
       "      <th>0</th>\n",
       "      <td>Flat residencial em condomínio</td>\n",
       "      <td>5184</td>\n",
       "    </tr>\n",
       "    <tr>\n",
       "      <th>1</th>\n",
       "      <td>Templo</td>\n",
       "      <td>5974</td>\n",
       "    </tr>\n",
       "    <tr>\n",
       "      <th>2</th>\n",
       "      <td>Loja em edifício em condomínio (unidade autônoma)</td>\n",
       "      <td>23752</td>\n",
       "    </tr>\n",
       "    <tr>\n",
       "      <th>3</th>\n",
       "      <td>Terreno</td>\n",
       "      <td>103197</td>\n",
       "    </tr>\n",
       "    <tr>\n",
       "      <th>4</th>\n",
       "      <td>Oficina</td>\n",
       "      <td>9921</td>\n",
       "    </tr>\n",
       "    <tr>\n",
       "      <th>5</th>\n",
       "      <td>Hospital, ambulatório, casa de saúde e assemel...</td>\n",
       "      <td>1352</td>\n",
       "    </tr>\n",
       "    <tr>\n",
       "      <th>6</th>\n",
       "      <td>Loja</td>\n",
       "      <td>54341</td>\n",
       "    </tr>\n",
       "    <tr>\n",
       "      <th>7</th>\n",
       "      <td>Prédio de escritório ou consultório, não em co...</td>\n",
       "      <td>24185</td>\n",
       "    </tr>\n",
       "    <tr>\n",
       "      <th>8</th>\n",
       "      <td>Residência</td>\n",
       "      <td>1085600</td>\n",
       "    </tr>\n",
       "    <tr>\n",
       "      <th>9</th>\n",
       "      <td>Outras edificações de uso comercial, com utili...</td>\n",
       "      <td>22163</td>\n",
       "    </tr>\n",
       "    <tr>\n",
       "      <th>10</th>\n",
       "      <td>Prédio de escritório, não em condomínio, de us...</td>\n",
       "      <td>312</td>\n",
       "    </tr>\n",
       "    <tr>\n",
       "      <th>11</th>\n",
       "      <td>Prédio de apartamento, não em condomínio, de u...</td>\n",
       "      <td>2209</td>\n",
       "    </tr>\n",
       "    <tr>\n",
       "      <th>12</th>\n",
       "      <td>Escritório/consultório em condomínio (unidade ...</td>\n",
       "      <td>139963</td>\n",
       "    </tr>\n",
       "    <tr>\n",
       "      <th>13</th>\n",
       "      <td>Garagem (unidade autônoma) em edifício em cond...</td>\n",
       "      <td>200254</td>\n",
       "    </tr>\n",
       "    <tr>\n",
       "      <th>14</th>\n",
       "      <td>Clube esportivo</td>\n",
       "      <td>573</td>\n",
       "    </tr>\n",
       "    <tr>\n",
       "      <th>15</th>\n",
       "      <td>Outras edificações de uso especial, com utiliz...</td>\n",
       "      <td>1263</td>\n",
       "    </tr>\n",
       "    <tr>\n",
       "      <th>16</th>\n",
       "      <td>Cinema, teatro, casa de diversão, clube ou con...</td>\n",
       "      <td>558</td>\n",
       "    </tr>\n",
       "    <tr>\n",
       "      <th>17</th>\n",
       "      <td>Cortiço</td>\n",
       "      <td>1722</td>\n",
       "    </tr>\n",
       "    <tr>\n",
       "      <th>18</th>\n",
       "      <td>Armazéns gerais e depósitos</td>\n",
       "      <td>9177</td>\n",
       "    </tr>\n",
       "    <tr>\n",
       "      <th>19</th>\n",
       "      <td>Residência e outro uso (predominância residenc...</td>\n",
       "      <td>85643</td>\n",
       "    </tr>\n",
       "    <tr>\n",
       "      <th>20</th>\n",
       "      <td>Garagem (exclusive em prédio em condomínio)</td>\n",
       "      <td>2711</td>\n",
       "    </tr>\n",
       "    <tr>\n",
       "      <th>21</th>\n",
       "      <td>Prédio de apartamento, não em condomínio, de u...</td>\n",
       "      <td>2735</td>\n",
       "    </tr>\n",
       "    <tr>\n",
       "      <th>22</th>\n",
       "      <td>Posto de serviço</td>\n",
       "      <td>2279</td>\n",
       "    </tr>\n",
       "    <tr>\n",
       "      <th>23</th>\n",
       "      <td>Estação radioemissora, de televisão ou empresa...</td>\n",
       "      <td>495</td>\n",
       "    </tr>\n",
       "    <tr>\n",
       "      <th>24</th>\n",
       "      <td>Flat de uso comercial (semelhante a hotel)</td>\n",
       "      <td>24619</td>\n",
       "    </tr>\n",
       "    <tr>\n",
       "      <th>25</th>\n",
       "      <td>Indústria</td>\n",
       "      <td>13270</td>\n",
       "    </tr>\n",
       "    <tr>\n",
       "      <th>26</th>\n",
       "      <td>Apartamento em condomínio</td>\n",
       "      <td>1439450</td>\n",
       "    </tr>\n",
       "    <tr>\n",
       "      <th>27</th>\n",
       "      <td>Outras edificações de uso de serviço, com util...</td>\n",
       "      <td>4927</td>\n",
       "    </tr>\n",
       "    <tr>\n",
       "      <th>28</th>\n",
       "      <td>Hotel, pensão ou hospedaria</td>\n",
       "      <td>3936</td>\n",
       "    </tr>\n",
       "    <tr>\n",
       "      <th>29</th>\n",
       "      <td>Outras edificações de uso coletivo, com utiliz...</td>\n",
       "      <td>3033</td>\n",
       "    </tr>\n",
       "    <tr>\n",
       "      <th>30</th>\n",
       "      <td>Loja e residência (predominância comercial)</td>\n",
       "      <td>44321</td>\n",
       "    </tr>\n",
       "    <tr>\n",
       "      <th>31</th>\n",
       "      <td>Garagem (unidade autônoma) em edifício em cond...</td>\n",
       "      <td>38376</td>\n",
       "    </tr>\n",
       "    <tr>\n",
       "      <th>32</th>\n",
       "      <td>Asilo, orfanato, creche, seminário ou convento</td>\n",
       "      <td>989</td>\n",
       "    </tr>\n",
       "    <tr>\n",
       "      <th>33</th>\n",
       "      <td>Garagem (unidade autônoma) de prédio de garagens</td>\n",
       "      <td>9568</td>\n",
       "    </tr>\n",
       "    <tr>\n",
       "      <th>34</th>\n",
       "      <td>Escola</td>\n",
       "      <td>7029</td>\n",
       "    </tr>\n",
       "    <tr>\n",
       "      <th>35</th>\n",
       "      <td>Residência coletiva, exclusive cortiço (mais d...</td>\n",
       "      <td>204980</td>\n",
       "    </tr>\n",
       "  </tbody>\n",
       "</table>\n",
       "</div>"
      ],
      "text/plain": [
       "                                TIPO DE USO DO IMOVEL    count\n",
       "0                      Flat residencial em condomínio     5184\n",
       "1                                              Templo     5974\n",
       "2   Loja em edifício em condomínio (unidade autônoma)    23752\n",
       "3                                             Terreno   103197\n",
       "4                                             Oficina     9921\n",
       "5   Hospital, ambulatório, casa de saúde e assemel...     1352\n",
       "6                                                Loja    54341\n",
       "7   Prédio de escritório ou consultório, não em co...    24185\n",
       "8                                          Residência  1085600\n",
       "9   Outras edificações de uso comercial, com utili...    22163\n",
       "10  Prédio de escritório, não em condomínio, de us...      312\n",
       "11  Prédio de apartamento, não em condomínio, de u...     2209\n",
       "12  Escritório/consultório em condomínio (unidade ...   139963\n",
       "13  Garagem (unidade autônoma) em edifício em cond...   200254\n",
       "14                                    Clube esportivo      573\n",
       "15  Outras edificações de uso especial, com utiliz...     1263\n",
       "16  Cinema, teatro, casa de diversão, clube ou con...      558\n",
       "17                                            Cortiço     1722\n",
       "18                        Armazéns gerais e depósitos     9177\n",
       "19  Residência e outro uso (predominância residenc...    85643\n",
       "20        Garagem (exclusive em prédio em condomínio)     2711\n",
       "21  Prédio de apartamento, não em condomínio, de u...     2735\n",
       "22                                   Posto de serviço     2279\n",
       "23  Estação radioemissora, de televisão ou empresa...      495\n",
       "24         Flat de uso comercial (semelhante a hotel)    24619\n",
       "25                                          Indústria    13270\n",
       "26                          Apartamento em condomínio  1439450\n",
       "27  Outras edificações de uso de serviço, com util...     4927\n",
       "28                        Hotel, pensão ou hospedaria     3936\n",
       "29  Outras edificações de uso coletivo, com utiliz...     3033\n",
       "30        Loja e residência (predominância comercial)    44321\n",
       "31  Garagem (unidade autônoma) em edifício em cond...    38376\n",
       "32     Asilo, orfanato, creche, seminário ou convento      989\n",
       "33   Garagem (unidade autônoma) de prédio de garagens     9568\n",
       "34                                             Escola     7029\n",
       "35  Residência coletiva, exclusive cortiço (mais d...   204980"
      ]
     },
     "execution_count": 69,
     "metadata": {},
     "output_type": "execute_result"
    }
   ],
   "source": [
    "df_usos_2022 = df_iptu[df_iptu['ANO DO EXERCICIO'] == 2022].groupby('TIPO DE USO DO IMOVEL').agg('count').to_pandas_df()\n",
    "df_usos_2022"
   ]
  },
  {
   "cell_type": "code",
   "execution_count": null,
   "metadata": {},
   "outputs": [],
   "source": [
    "df_usos = df_iptu.groupby('TIPO DE USO DO IMOVEL').agg('count').to_pandas_df()"
   ]
  },
  {
   "cell_type": "code",
   "execution_count": null,
   "metadata": {},
   "outputs": [],
   "source": [
    "df_usos.fillna('', inplace=True)"
   ]
  },
  {
   "cell_type": "code",
   "execution_count": null,
   "metadata": {},
   "outputs": [],
   "source": [
    "results, ratios = [], []\n",
    "\n",
    "for i, row in df_usos.iterrows():\n",
    "\n",
    "    similaridade = df_usos_2022['TIPO DE USO DO IMOVEL'].apply(lambda x: SequenceMatcher(None, row['TIPO DE USO DO IMOVEL'], x).ratio())\n",
    "    \n",
    "    results.append(df_usos_2022.iloc[similaridade.idxmax()]['TIPO DE USO DO IMOVEL'])\n",
    "\n",
    "    ratios.append(similaridade.max())\n",
    "\n",
    "df_usos['titulo_padronizado'] = results # Os títulos costumam variar, portanto esse campo será referência para os agrupamentos\n",
    "df_usos['relacao_de_assertividade_com_titulo_padronizado'] = ratios"
   ]
  },
  {
   "cell_type": "code",
   "execution_count": null,
   "metadata": {},
   "outputs": [
    {
     "data": {
      "text/html": [
       "<div>\n",
       "<style scoped>\n",
       "    .dataframe tbody tr th:only-of-type {\n",
       "        vertical-align: middle;\n",
       "    }\n",
       "\n",
       "    .dataframe tbody tr th {\n",
       "        vertical-align: top;\n",
       "    }\n",
       "\n",
       "    .dataframe thead th {\n",
       "        text-align: right;\n",
       "    }\n",
       "</style>\n",
       "<table border=\"1\" class=\"dataframe\">\n",
       "  <thead>\n",
       "    <tr style=\"text-align: right;\">\n",
       "      <th></th>\n",
       "      <th>TIPO DE USO DO IMOVEL</th>\n",
       "      <th>count</th>\n",
       "      <th>titulo_padronizado</th>\n",
       "      <th>relacao_de_assertividade_com_titulo_padronizado</th>\n",
       "    </tr>\n",
       "  </thead>\n",
       "  <tbody>\n",
       "    <tr>\n",
       "      <th>0</th>\n",
       "      <td></td>\n",
       "      <td>26</td>\n",
       "      <td>Flat residencial em condomínio</td>\n",
       "      <td>0.000000</td>\n",
       "    </tr>\n",
       "    <tr>\n",
       "      <th>1</th>\n",
       "      <td>clube esportivo</td>\n",
       "      <td>11697</td>\n",
       "      <td>Clube esportivo</td>\n",
       "      <td>0.933333</td>\n",
       "    </tr>\n",
       "    <tr>\n",
       "      <th>2</th>\n",
       "      <td>loja em edifício em condomínio</td>\n",
       "      <td>436348</td>\n",
       "      <td>Loja em edifício em condomínio (unidade autônoma)</td>\n",
       "      <td>0.734177</td>\n",
       "    </tr>\n",
       "    <tr>\n",
       "      <th>3</th>\n",
       "      <td>outras edificações do tipo (uso comércio), com...</td>\n",
       "      <td>366569</td>\n",
       "      <td>Outras edificações de uso comercial, com utili...</td>\n",
       "      <td>0.873016</td>\n",
       "    </tr>\n",
       "    <tr>\n",
       "      <th>4</th>\n",
       "      <td>Flat residencial em condomínio</td>\n",
       "      <td>39631</td>\n",
       "      <td>Flat residencial em condomínio</td>\n",
       "      <td>1.000000</td>\n",
       "    </tr>\n",
       "    <tr>\n",
       "      <th>...</th>\n",
       "      <td>...</td>\n",
       "      <td>...</td>\n",
       "      <td>...</td>\n",
       "      <td>...</td>\n",
       "    </tr>\n",
       "    <tr>\n",
       "      <th>73</th>\n",
       "      <td>Asilo, orfanato, creche, seminário ou convento</td>\n",
       "      <td>6795</td>\n",
       "      <td>Asilo, orfanato, creche, seminário ou convento</td>\n",
       "      <td>1.000000</td>\n",
       "    </tr>\n",
       "    <tr>\n",
       "      <th>74</th>\n",
       "      <td>Garagem (unidade autônoma) de prédio de garagens</td>\n",
       "      <td>75282</td>\n",
       "      <td>Garagem (unidade autônoma) de prédio de garagens</td>\n",
       "      <td>1.000000</td>\n",
       "    </tr>\n",
       "    <tr>\n",
       "      <th>75</th>\n",
       "      <td>Prédio de apartamento, não em condomínio, de u...</td>\n",
       "      <td>10215</td>\n",
       "      <td>Prédio de apartamento, não em condomínio, de u...</td>\n",
       "      <td>0.986486</td>\n",
       "    </tr>\n",
       "    <tr>\n",
       "      <th>76</th>\n",
       "      <td>Escola</td>\n",
       "      <td>54724</td>\n",
       "      <td>Escola</td>\n",
       "      <td>1.000000</td>\n",
       "    </tr>\n",
       "    <tr>\n",
       "      <th>77</th>\n",
       "      <td>Residência coletiva, exclusive cortiço (mais d...</td>\n",
       "      <td>1630779</td>\n",
       "      <td>Residência coletiva, exclusive cortiço (mais d...</td>\n",
       "      <td>1.000000</td>\n",
       "    </tr>\n",
       "  </tbody>\n",
       "</table>\n",
       "<p>78 rows × 4 columns</p>\n",
       "</div>"
      ],
      "text/plain": [
       "                                TIPO DE USO DO IMOVEL    count  \\\n",
       "0                                                           26   \n",
       "1                                     clube esportivo    11697   \n",
       "2                      loja em edifício em condomínio   436348   \n",
       "3   outras edificações do tipo (uso comércio), com...   366569   \n",
       "4                      Flat residencial em condomínio    39631   \n",
       "..                                                ...      ...   \n",
       "73     Asilo, orfanato, creche, seminário ou convento     6795   \n",
       "74   Garagem (unidade autônoma) de prédio de garagens    75282   \n",
       "75  Prédio de apartamento, não em condomínio, de u...    10215   \n",
       "76                                             Escola    54724   \n",
       "77  Residência coletiva, exclusive cortiço (mais d...  1630779   \n",
       "\n",
       "                                   titulo_padronizado  \\\n",
       "0                      Flat residencial em condomínio   \n",
       "1                                     Clube esportivo   \n",
       "2   Loja em edifício em condomínio (unidade autônoma)   \n",
       "3   Outras edificações de uso comercial, com utili...   \n",
       "4                      Flat residencial em condomínio   \n",
       "..                                                ...   \n",
       "73     Asilo, orfanato, creche, seminário ou convento   \n",
       "74   Garagem (unidade autônoma) de prédio de garagens   \n",
       "75  Prédio de apartamento, não em condomínio, de u...   \n",
       "76                                             Escola   \n",
       "77  Residência coletiva, exclusive cortiço (mais d...   \n",
       "\n",
       "    relacao_de_assertividade_com_titulo_padronizado  \n",
       "0                                          0.000000  \n",
       "1                                          0.933333  \n",
       "2                                          0.734177  \n",
       "3                                          0.873016  \n",
       "4                                          1.000000  \n",
       "..                                              ...  \n",
       "73                                         1.000000  \n",
       "74                                         1.000000  \n",
       "75                                         0.986486  \n",
       "76                                         1.000000  \n",
       "77                                         1.000000  \n",
       "\n",
       "[78 rows x 4 columns]"
      ]
     },
     "execution_count": 73,
     "metadata": {},
     "output_type": "execute_result"
    }
   ],
   "source": [
    "df_usos"
   ]
  },
  {
   "cell_type": "code",
   "execution_count": null,
   "metadata": {},
   "outputs": [],
   "source": [
    "residencial = ['residencial', 'residência', 'apartamento', 'cortiço']\n",
    "comercial = ['comércio', 'comercial', 'posto', 'loja']\n",
    "servicos =  ['hotel', 'radioemissora', 'flat', 'serviço', 'clube', 'oficina', 'hospital', 'templo', 'escritórios', 'consultórios', 'escritório', 'consultório', 'asilo', 'creche', 'prédio de garagens', 'escola']\n",
    "industrial = ['Indústria', 'armazéns']"
   ]
  },
  {
   "cell_type": "code",
   "execution_count": null,
   "metadata": {},
   "outputs": [],
   "source": [
    "class_residencial = df_usos.loc[:, 'titulo_padronizado'].str.contains(r'\\b(?:{})\\b'.format('|'.join(residencial)), case=False)\n",
    "class_comercial = df_usos.loc[:, 'titulo_padronizado'].str.contains(r'\\b(?:{})\\b'.format('|'.join(comercial)), case=False)\n",
    "class_servicos = df_usos.loc[:, 'titulo_padronizado'].str.contains(r'\\b(?:{})\\b'.format('|'.join(servicos)), case=False)\n",
    "class_industrial = df_usos.loc[:, 'titulo_padronizado'].str.contains(r'\\b(?:{})\\b'.format('|'.join(industrial)), case=False)\n",
    "\n",
    "df_usos.loc[class_residencial, ['classificacao_abrangente']] = 'Residencial'\n",
    "df_usos.loc[class_comercial, ['classificacao_abrangente']] = 'Comercial'\n",
    "df_usos.loc[class_servicos, ['classificacao_abrangente']] = 'Serviços'\n",
    "df_usos.loc[class_industrial, ['classificacao_abrangente']] = 'Industrial'\n",
    "\n",
    "df_usos.loc[df_usos.classificacao_abrangente.isna(), ['classificacao_abrangente']] = 'Outros'"
   ]
  },
  {
   "cell_type": "code",
   "execution_count": null,
   "metadata": {},
   "outputs": [
    {
     "data": {
      "text/plain": [
       "False    85961409\n",
       "True           26\n",
       "dtype: int64"
      ]
     },
     "execution_count": 76,
     "metadata": {},
     "output_type": "execute_result"
    }
   ],
   "source": [
    "df_iptu['TIPO DE USO DO IMOVEL'].isna().value_counts()"
   ]
  },
  {
   "cell_type": "code",
   "execution_count": null,
   "metadata": {},
   "outputs": [],
   "source": [
    "# df_iptu['TIPO DE USO DO IMOVEL']\n",
    "df_usos = vaex.from_pandas(df_usos.loc[df_usos['TIPO DE USO DO IMOVEL'] != '', ['TIPO DE USO DO IMOVEL', 'classificacao_abrangente']])\n",
    "df_iptu = df_iptu.join(df_usos, on='TIPO DE USO DO IMOVEL')"
   ]
  },
  {
   "cell_type": "code",
   "execution_count": null,
   "metadata": {},
   "outputs": [
    {
     "data": {
      "text/html": [
       "<table>\n",
       "<thead>\n",
       "<tr><th>#                                     </th><th>classificacao_abrangente  </th></tr>\n",
       "</thead>\n",
       "<tbody>\n",
       "<tr><td><i style='opacity: 0.6'>0</i>         </td><td>Comercial                 </td></tr>\n",
       "<tr><td><i style='opacity: 0.6'>1</i>         </td><td>Comercial                 </td></tr>\n",
       "<tr><td><i style='opacity: 0.6'>2</i>         </td><td>Comercial                 </td></tr>\n",
       "<tr><td><i style='opacity: 0.6'>3</i>         </td><td>Comercial                 </td></tr>\n",
       "<tr><td><i style='opacity: 0.6'>4</i>         </td><td>Comercial                 </td></tr>\n",
       "<tr><td>...                                   </td><td>...                       </td></tr>\n",
       "<tr><td><i style='opacity: 0.6'>85,961,430</i></td><td>Residencial               </td></tr>\n",
       "<tr><td><i style='opacity: 0.6'>85,961,431</i></td><td>Residencial               </td></tr>\n",
       "<tr><td><i style='opacity: 0.6'>85,961,432</i></td><td>Residencial               </td></tr>\n",
       "<tr><td><i style='opacity: 0.6'>85,961,433</i></td><td>Outros                    </td></tr>\n",
       "<tr><td><i style='opacity: 0.6'>85,961,434</i></td><td>Outros                    </td></tr>\n",
       "</tbody>\n",
       "</table>"
      ],
      "text/plain": [
       "#           classificacao_abrangente\n",
       "0           Comercial\n",
       "1           Comercial\n",
       "2           Comercial\n",
       "3           Comercial\n",
       "4           Comercial\n",
       "...         ...\n",
       "85,961,430  Residencial\n",
       "85,961,431  Residencial\n",
       "85,961,432  Residencial\n",
       "85,961,433  Outros\n",
       "85,961,434  Outros"
      ]
     },
     "execution_count": 78,
     "metadata": {},
     "output_type": "execute_result"
    }
   ],
   "source": [
    "df_iptu[['classificacao_abrangente']]"
   ]
  },
  {
   "cell_type": "code",
   "execution_count": null,
   "metadata": {},
   "outputs": [
    {
     "data": {
      "text/plain": [
       "(85961435, 33)"
      ]
     },
     "execution_count": 79,
     "metadata": {},
     "output_type": "execute_result"
    }
   ],
   "source": [
    "df_iptu.shape"
   ]
  },
  {
   "cell_type": "code",
   "execution_count": null,
   "metadata": {},
   "outputs": [
    {
     "data": {
      "text/html": [
       "<div>\n",
       "<style scoped>\n",
       "    .dataframe tbody tr th:only-of-type {\n",
       "        vertical-align: middle;\n",
       "    }\n",
       "\n",
       "    .dataframe tbody tr th {\n",
       "        vertical-align: top;\n",
       "    }\n",
       "\n",
       "    .dataframe thead th {\n",
       "        text-align: right;\n",
       "    }\n",
       "</style>\n",
       "<table border=\"1\" class=\"dataframe\">\n",
       "  <thead>\n",
       "    <tr style=\"text-align: right;\">\n",
       "      <th></th>\n",
       "      <th>TIPO DE PADRAO DA CONSTRUCAO</th>\n",
       "      <th>count</th>\n",
       "    </tr>\n",
       "  </thead>\n",
       "  <tbody>\n",
       "    <tr>\n",
       "      <th>0</th>\n",
       "      <td>Residencial vertical - padrão E</td>\n",
       "      <td>56532</td>\n",
       "    </tr>\n",
       "    <tr>\n",
       "      <th>1</th>\n",
       "      <td>Indústria - padrão E</td>\n",
       "      <td>124</td>\n",
       "    </tr>\n",
       "    <tr>\n",
       "      <th>2</th>\n",
       "      <td>Comercial horizontal - padrão E</td>\n",
       "      <td>208</td>\n",
       "    </tr>\n",
       "    <tr>\n",
       "      <th>3</th>\n",
       "      <td>Comercial horizontal - padrão B</td>\n",
       "      <td>91133</td>\n",
       "    </tr>\n",
       "    <tr>\n",
       "      <th>4</th>\n",
       "      <td>Comercial vertical - padrão E</td>\n",
       "      <td>19650</td>\n",
       "    </tr>\n",
       "    <tr>\n",
       "      <th>5</th>\n",
       "      <td>Comercial vertical - padrão B</td>\n",
       "      <td>54602</td>\n",
       "    </tr>\n",
       "    <tr>\n",
       "      <th>6</th>\n",
       "      <td>Residencial horizontal - padrão D</td>\n",
       "      <td>47294</td>\n",
       "    </tr>\n",
       "    <tr>\n",
       "      <th>7</th>\n",
       "      <td>Terreno</td>\n",
       "      <td>103197</td>\n",
       "    </tr>\n",
       "    <tr>\n",
       "      <th>8</th>\n",
       "      <td>Residencial vertical - padrão C</td>\n",
       "      <td>1079048</td>\n",
       "    </tr>\n",
       "    <tr>\n",
       "      <th>9</th>\n",
       "      <td>Comercial horizontal - padrão C</td>\n",
       "      <td>21436</td>\n",
       "    </tr>\n",
       "    <tr>\n",
       "      <th>10</th>\n",
       "      <td>Comercial vertical - padrão A</td>\n",
       "      <td>1891</td>\n",
       "    </tr>\n",
       "    <tr>\n",
       "      <th>11</th>\n",
       "      <td>Oficina,Posto de serviço,Armazém,D</td>\n",
       "      <td>21814</td>\n",
       "    </tr>\n",
       "    <tr>\n",
       "      <th>12</th>\n",
       "      <td>Residencial horizontal - padrão F</td>\n",
       "      <td>2022</td>\n",
       "    </tr>\n",
       "    <tr>\n",
       "      <th>13</th>\n",
       "      <td>Residencial horizontal - padrão E</td>\n",
       "      <td>8779</td>\n",
       "    </tr>\n",
       "    <tr>\n",
       "      <th>14</th>\n",
       "      <td>Comercial horizontal - padrão A</td>\n",
       "      <td>11399</td>\n",
       "    </tr>\n",
       "    <tr>\n",
       "      <th>15</th>\n",
       "      <td>Barracão,Telheiro,Oficina,Posto de</td>\n",
       "      <td>15355</td>\n",
       "    </tr>\n",
       "    <tr>\n",
       "      <th>16</th>\n",
       "      <td>Residencial horizontal - padrão A</td>\n",
       "      <td>285433</td>\n",
       "    </tr>\n",
       "    <tr>\n",
       "      <th>17</th>\n",
       "      <td>Comercial vertical - padrão C</td>\n",
       "      <td>119353</td>\n",
       "    </tr>\n",
       "    <tr>\n",
       "      <th>18</th>\n",
       "      <td>Templo,Clube,Ginásio ou Estádio es</td>\n",
       "      <td>9491</td>\n",
       "    </tr>\n",
       "    <tr>\n",
       "      <th>19</th>\n",
       "      <td>Barracão,Telheiro,Oficina - padrão</td>\n",
       "      <td>4067</td>\n",
       "    </tr>\n",
       "    <tr>\n",
       "      <th>20</th>\n",
       "      <td>Residencial horizontal - padrão B</td>\n",
       "      <td>395050</td>\n",
       "    </tr>\n",
       "    <tr>\n",
       "      <th>21</th>\n",
       "      <td>Residencial vertical - padrão A</td>\n",
       "      <td>84210</td>\n",
       "    </tr>\n",
       "    <tr>\n",
       "      <th>22</th>\n",
       "      <td>Residencial vertical - padrão F</td>\n",
       "      <td>8925</td>\n",
       "    </tr>\n",
       "    <tr>\n",
       "      <th>23</th>\n",
       "      <td>Comercial horizontal - padrão D</td>\n",
       "      <td>2343</td>\n",
       "    </tr>\n",
       "    <tr>\n",
       "      <th>24</th>\n",
       "      <td>Edifício de garagens - padrão A</td>\n",
       "      <td>9605</td>\n",
       "    </tr>\n",
       "    <tr>\n",
       "      <th>25</th>\n",
       "      <td>Residencial vertical - padrão D</td>\n",
       "      <td>264636</td>\n",
       "    </tr>\n",
       "    <tr>\n",
       "      <th>26</th>\n",
       "      <td>Residencial horizontal - padrão C</td>\n",
       "      <td>655758</td>\n",
       "    </tr>\n",
       "    <tr>\n",
       "      <th>27</th>\n",
       "      <td>Residencial vertical - padrão B</td>\n",
       "      <td>164311</td>\n",
       "    </tr>\n",
       "    <tr>\n",
       "      <th>28</th>\n",
       "      <td>Comercial vertical - padrão D</td>\n",
       "      <td>42395</td>\n",
       "    </tr>\n",
       "  </tbody>\n",
       "</table>\n",
       "</div>"
      ],
      "text/plain": [
       "          TIPO DE PADRAO DA CONSTRUCAO    count\n",
       "0      Residencial vertical - padrão E    56532\n",
       "1                 Indústria - padrão E      124\n",
       "2      Comercial horizontal - padrão E      208\n",
       "3      Comercial horizontal - padrão B    91133\n",
       "4        Comercial vertical - padrão E    19650\n",
       "5        Comercial vertical - padrão B    54602\n",
       "6    Residencial horizontal - padrão D    47294\n",
       "7                              Terreno   103197\n",
       "8      Residencial vertical - padrão C  1079048\n",
       "9      Comercial horizontal - padrão C    21436\n",
       "10       Comercial vertical - padrão A     1891\n",
       "11  Oficina,Posto de serviço,Armazém,D    21814\n",
       "12   Residencial horizontal - padrão F     2022\n",
       "13   Residencial horizontal - padrão E     8779\n",
       "14     Comercial horizontal - padrão A    11399\n",
       "15  Barracão,Telheiro,Oficina,Posto de    15355\n",
       "16   Residencial horizontal - padrão A   285433\n",
       "17       Comercial vertical - padrão C   119353\n",
       "18  Templo,Clube,Ginásio ou Estádio es     9491\n",
       "19  Barracão,Telheiro,Oficina - padrão     4067\n",
       "20   Residencial horizontal - padrão B   395050\n",
       "21     Residencial vertical - padrão A    84210\n",
       "22     Residencial vertical - padrão F     8925\n",
       "23     Comercial horizontal - padrão D     2343\n",
       "24     Edifício de garagens - padrão A     9605\n",
       "25     Residencial vertical - padrão D   264636\n",
       "26   Residencial horizontal - padrão C   655758\n",
       "27     Residencial vertical - padrão B   164311\n",
       "28       Comercial vertical - padrão D    42395"
      ]
     },
     "execution_count": 80,
     "metadata": {},
     "output_type": "execute_result"
    }
   ],
   "source": [
    "df_padroes_usos_2022 = df_iptu[df_iptu['ANO DO EXERCICIO'] == 2022].groupby('TIPO DE PADRAO DA CONSTRUCAO').agg('count').to_pandas_df()\n",
    "df_padroes_usos_2022.loc[df_padroes_usos_2022['TIPO DE PADRAO DA CONSTRUCAO'] == 'TERRENO', 'TIPO DE PADRAO DA CONSTRUCAO'] = 'Terreno'\n",
    "df_padroes_usos_2022['TIPO DE PADRAO DA CONSTRUCAO'] = df_padroes_usos_2022['TIPO DE PADRAO DA CONSTRUCAO'].str.replace('/', ',')\n",
    "df_padroes_usos_2022"
   ]
  },
  {
   "cell_type": "code",
   "execution_count": null,
   "metadata": {},
   "outputs": [
    {
     "data": {
      "text/html": [
       "<div>\n",
       "<style scoped>\n",
       "    .dataframe tbody tr th:only-of-type {\n",
       "        vertical-align: middle;\n",
       "    }\n",
       "\n",
       "    .dataframe tbody tr th {\n",
       "        vertical-align: top;\n",
       "    }\n",
       "\n",
       "    .dataframe thead th {\n",
       "        text-align: right;\n",
       "    }\n",
       "</style>\n",
       "<table border=\"1\" class=\"dataframe\">\n",
       "  <thead>\n",
       "    <tr style=\"text-align: right;\">\n",
       "      <th></th>\n",
       "      <th>TIPO DE PADRAO DA CONSTRUCAO</th>\n",
       "      <th>count</th>\n",
       "    </tr>\n",
       "  </thead>\n",
       "  <tbody>\n",
       "    <tr>\n",
       "      <th>0</th>\n",
       "      <td></td>\n",
       "      <td>26</td>\n",
       "    </tr>\n",
       "    <tr>\n",
       "      <th>1</th>\n",
       "      <td>Templo,Clube,Ginásio ou Estádio esportivo,Muse...</td>\n",
       "      <td>4605</td>\n",
       "    </tr>\n",
       "    <tr>\n",
       "      <th>2</th>\n",
       "      <td>Residencial vertical - padrão E</td>\n",
       "      <td>444552</td>\n",
       "    </tr>\n",
       "    <tr>\n",
       "      <th>3</th>\n",
       "      <td>Indústria - padrão E</td>\n",
       "      <td>1066</td>\n",
       "    </tr>\n",
       "    <tr>\n",
       "      <th>4</th>\n",
       "      <td>Comercial horizontal - padrão E</td>\n",
       "      <td>1669</td>\n",
       "    </tr>\n",
       "    <tr>\n",
       "      <th>...</th>\n",
       "      <td>...</td>\n",
       "      <td>...</td>\n",
       "    </tr>\n",
       "    <tr>\n",
       "      <th>62</th>\n",
       "      <td>comercial horizontal - Padrão A</td>\n",
       "      <td>276796</td>\n",
       "    </tr>\n",
       "    <tr>\n",
       "      <th>63</th>\n",
       "      <td>Residencial vertical - padrão D</td>\n",
       "      <td>2064836</td>\n",
       "    </tr>\n",
       "    <tr>\n",
       "      <th>64</th>\n",
       "      <td>Residencial horizontal - padrão C</td>\n",
       "      <td>5175618</td>\n",
       "    </tr>\n",
       "    <tr>\n",
       "      <th>65</th>\n",
       "      <td>Comercial vertical - padrão D</td>\n",
       "      <td>302388</td>\n",
       "    </tr>\n",
       "    <tr>\n",
       "      <th>66</th>\n",
       "      <td>Residencial vertical - padrão B</td>\n",
       "      <td>1225386</td>\n",
       "    </tr>\n",
       "  </tbody>\n",
       "</table>\n",
       "<p>67 rows × 2 columns</p>\n",
       "</div>"
      ],
      "text/plain": [
       "                         TIPO DE PADRAO DA CONSTRUCAO    count\n",
       "0                                                           26\n",
       "1   Templo,Clube,Ginásio ou Estádio esportivo,Muse...     4605\n",
       "2                     Residencial vertical - padrão E   444552\n",
       "3                                Indústria - padrão E     1066\n",
       "4                     Comercial horizontal - padrão E     1669\n",
       "..                                                ...      ...\n",
       "62                    comercial horizontal - Padrão A   276796\n",
       "63                    Residencial vertical - padrão D  2064836\n",
       "64                  Residencial horizontal - padrão C  5175618\n",
       "65                      Comercial vertical - padrão D   302388\n",
       "66                    Residencial vertical - padrão B  1225386\n",
       "\n",
       "[67 rows x 2 columns]"
      ]
     },
     "execution_count": 81,
     "metadata": {},
     "output_type": "execute_result"
    }
   ],
   "source": [
    "df_padroes_usos = df_iptu.groupby('TIPO DE PADRAO DA CONSTRUCAO').agg('count').to_pandas_df()\n",
    "df_padroes_usos.fillna('', inplace=True)\n",
    "df_padroes_usos['TIPO DE PADRAO DA CONSTRUCAO'] = df_padroes_usos['TIPO DE PADRAO DA CONSTRUCAO'].str.replace('/', ',')\n",
    "df_padroes_usos"
   ]
  },
  {
   "cell_type": "code",
   "execution_count": null,
   "metadata": {},
   "outputs": [],
   "source": [
    "results, ratios = [], []\n",
    "\n",
    "for i, row in df_padroes_usos.iterrows():\n",
    "\n",
    "    similaridade = df_padroes_usos_2022['TIPO DE PADRAO DA CONSTRUCAO'].apply(lambda x: SequenceMatcher(None, row['TIPO DE PADRAO DA CONSTRUCAO'], x).ratio())\n",
    "    \n",
    "    results.append(df_padroes_usos_2022.iloc[similaridade.idxmax()]['TIPO DE PADRAO DA CONSTRUCAO'])\n",
    "\n",
    "    ratios.append(similaridade.max())\n",
    "\n",
    "df_padroes_usos['titulo_padronizado'] = results # Os títulos costumam variar, portanto esse campo será referência para os agrupamentos\n",
    "df_padroes_usos['relacao_de_assertividade_com_titulo_padronizado'] = ratios"
   ]
  },
  {
   "cell_type": "code",
   "execution_count": null,
   "metadata": {},
   "outputs": [],
   "source": [
    "# df_padroes_usos\n",
    "df_padroes_usos['tipo_de_uso'] = df_padroes_usos['titulo_padronizado'].str.split(\"-\").apply(lambda x: x[0] if x[0][-1] != ' ' else x[0][:-1])\n",
    "df_padroes_usos['padrao_de_uso'] = df_padroes_usos['titulo_padronizado'].str.split(\"-\").apply(lambda x: x[-1][-1] if x[-1][-3] == 'o' else '')\n",
    "\n",
    "df_padroes_usos.loc[(df_padroes_usos.padrao_de_uso == 'A') |\n",
    "                    (df_padroes_usos.padrao_de_uso == 'B'),\n",
    "                    'classe_de_uso'] = 'Baixo'\n",
    "\n",
    "df_padroes_usos.loc[df_padroes_usos.padrao_de_uso == 'C',\n",
    "                    'classe_de_uso'] = 'Médio'\n",
    "\n",
    "df_padroes_usos.loc[(df_padroes_usos.padrao_de_uso == 'D') |\n",
    "                    (df_padroes_usos.padrao_de_uso == 'E') |\n",
    "                    (df_padroes_usos.padrao_de_uso == 'F'),\n",
    "                    'classe_de_uso'] = 'Alto'\n",
    "\n",
    "df_padroes_usos.fillna('', inplace=True)\n"
   ]
  },
  {
   "cell_type": "code",
   "execution_count": null,
   "metadata": {},
   "outputs": [
    {
     "data": {
      "text/html": [
       "<div>\n",
       "<style scoped>\n",
       "    .dataframe tbody tr th:only-of-type {\n",
       "        vertical-align: middle;\n",
       "    }\n",
       "\n",
       "    .dataframe tbody tr th {\n",
       "        vertical-align: top;\n",
       "    }\n",
       "\n",
       "    .dataframe thead th {\n",
       "        text-align: right;\n",
       "    }\n",
       "</style>\n",
       "<table border=\"1\" class=\"dataframe\">\n",
       "  <thead>\n",
       "    <tr style=\"text-align: right;\">\n",
       "      <th></th>\n",
       "      <th>TIPO DE PADRAO DA CONSTRUCAO</th>\n",
       "      <th>count</th>\n",
       "      <th>titulo_padronizado</th>\n",
       "      <th>relacao_de_assertividade_com_titulo_padronizado</th>\n",
       "      <th>tipo_de_uso</th>\n",
       "      <th>padrao_de_uso</th>\n",
       "      <th>classe_de_uso</th>\n",
       "    </tr>\n",
       "  </thead>\n",
       "  <tbody>\n",
       "    <tr>\n",
       "      <th>0</th>\n",
       "      <td></td>\n",
       "      <td>26</td>\n",
       "      <td>Residencial vertical - padrão E</td>\n",
       "      <td>0.000000</td>\n",
       "      <td>Residencial vertical</td>\n",
       "      <td>E</td>\n",
       "      <td>Alto</td>\n",
       "    </tr>\n",
       "    <tr>\n",
       "      <th>1</th>\n",
       "      <td>Templo,Clube,Ginásio ou Estádio esportivo,Muse...</td>\n",
       "      <td>4605</td>\n",
       "      <td>Templo,Clube,Ginásio ou Estádio es</td>\n",
       "      <td>0.485714</td>\n",
       "      <td>Templo,Clube,Ginásio ou Estádio es</td>\n",
       "      <td></td>\n",
       "      <td></td>\n",
       "    </tr>\n",
       "    <tr>\n",
       "      <th>2</th>\n",
       "      <td>Residencial vertical - padrão E</td>\n",
       "      <td>444552</td>\n",
       "      <td>Residencial vertical - padrão E</td>\n",
       "      <td>1.000000</td>\n",
       "      <td>Residencial vertical</td>\n",
       "      <td>E</td>\n",
       "      <td>Alto</td>\n",
       "    </tr>\n",
       "    <tr>\n",
       "      <th>3</th>\n",
       "      <td>Indústria - padrão E</td>\n",
       "      <td>1066</td>\n",
       "      <td>Indústria - padrão E</td>\n",
       "      <td>1.000000</td>\n",
       "      <td>Indústria</td>\n",
       "      <td>E</td>\n",
       "      <td>Alto</td>\n",
       "    </tr>\n",
       "    <tr>\n",
       "      <th>4</th>\n",
       "      <td>Comercial horizontal - padrão E</td>\n",
       "      <td>1669</td>\n",
       "      <td>Comercial horizontal - padrão E</td>\n",
       "      <td>1.000000</td>\n",
       "      <td>Comercial horizontal</td>\n",
       "      <td>E</td>\n",
       "      <td>Alto</td>\n",
       "    </tr>\n",
       "    <tr>\n",
       "      <th>...</th>\n",
       "      <td>...</td>\n",
       "      <td>...</td>\n",
       "      <td>...</td>\n",
       "      <td>...</td>\n",
       "      <td>...</td>\n",
       "      <td>...</td>\n",
       "      <td>...</td>\n",
       "    </tr>\n",
       "    <tr>\n",
       "      <th>62</th>\n",
       "      <td>comercial horizontal - Padrão A</td>\n",
       "      <td>276796</td>\n",
       "      <td>Comercial horizontal - padrão A</td>\n",
       "      <td>0.935484</td>\n",
       "      <td>Comercial horizontal</td>\n",
       "      <td>A</td>\n",
       "      <td>Baixo</td>\n",
       "    </tr>\n",
       "    <tr>\n",
       "      <th>63</th>\n",
       "      <td>Residencial vertical - padrão D</td>\n",
       "      <td>2064836</td>\n",
       "      <td>Residencial vertical - padrão D</td>\n",
       "      <td>1.000000</td>\n",
       "      <td>Residencial vertical</td>\n",
       "      <td>D</td>\n",
       "      <td>Alto</td>\n",
       "    </tr>\n",
       "    <tr>\n",
       "      <th>64</th>\n",
       "      <td>Residencial horizontal - padrão C</td>\n",
       "      <td>5175618</td>\n",
       "      <td>Residencial horizontal - padrão C</td>\n",
       "      <td>1.000000</td>\n",
       "      <td>Residencial horizontal</td>\n",
       "      <td>C</td>\n",
       "      <td>Médio</td>\n",
       "    </tr>\n",
       "    <tr>\n",
       "      <th>65</th>\n",
       "      <td>Comercial vertical - padrão D</td>\n",
       "      <td>302388</td>\n",
       "      <td>Comercial vertical - padrão D</td>\n",
       "      <td>1.000000</td>\n",
       "      <td>Comercial vertical</td>\n",
       "      <td>D</td>\n",
       "      <td>Alto</td>\n",
       "    </tr>\n",
       "    <tr>\n",
       "      <th>66</th>\n",
       "      <td>Residencial vertical - padrão B</td>\n",
       "      <td>1225386</td>\n",
       "      <td>Residencial vertical - padrão B</td>\n",
       "      <td>1.000000</td>\n",
       "      <td>Residencial vertical</td>\n",
       "      <td>B</td>\n",
       "      <td>Baixo</td>\n",
       "    </tr>\n",
       "  </tbody>\n",
       "</table>\n",
       "<p>67 rows × 7 columns</p>\n",
       "</div>"
      ],
      "text/plain": [
       "                         TIPO DE PADRAO DA CONSTRUCAO    count  \\\n",
       "0                                                           26   \n",
       "1   Templo,Clube,Ginásio ou Estádio esportivo,Muse...     4605   \n",
       "2                     Residencial vertical - padrão E   444552   \n",
       "3                                Indústria - padrão E     1066   \n",
       "4                     Comercial horizontal - padrão E     1669   \n",
       "..                                                ...      ...   \n",
       "62                    comercial horizontal - Padrão A   276796   \n",
       "63                    Residencial vertical - padrão D  2064836   \n",
       "64                  Residencial horizontal - padrão C  5175618   \n",
       "65                      Comercial vertical - padrão D   302388   \n",
       "66                    Residencial vertical - padrão B  1225386   \n",
       "\n",
       "                    titulo_padronizado  \\\n",
       "0      Residencial vertical - padrão E   \n",
       "1   Templo,Clube,Ginásio ou Estádio es   \n",
       "2      Residencial vertical - padrão E   \n",
       "3                 Indústria - padrão E   \n",
       "4      Comercial horizontal - padrão E   \n",
       "..                                 ...   \n",
       "62     Comercial horizontal - padrão A   \n",
       "63     Residencial vertical - padrão D   \n",
       "64   Residencial horizontal - padrão C   \n",
       "65       Comercial vertical - padrão D   \n",
       "66     Residencial vertical - padrão B   \n",
       "\n",
       "    relacao_de_assertividade_com_titulo_padronizado  \\\n",
       "0                                          0.000000   \n",
       "1                                          0.485714   \n",
       "2                                          1.000000   \n",
       "3                                          1.000000   \n",
       "4                                          1.000000   \n",
       "..                                              ...   \n",
       "62                                         0.935484   \n",
       "63                                         1.000000   \n",
       "64                                         1.000000   \n",
       "65                                         1.000000   \n",
       "66                                         1.000000   \n",
       "\n",
       "                           tipo_de_uso padrao_de_uso classe_de_uso  \n",
       "0                 Residencial vertical             E          Alto  \n",
       "1   Templo,Clube,Ginásio ou Estádio es                              \n",
       "2                 Residencial vertical             E          Alto  \n",
       "3                            Indústria             E          Alto  \n",
       "4                 Comercial horizontal             E          Alto  \n",
       "..                                 ...           ...           ...  \n",
       "62                Comercial horizontal             A         Baixo  \n",
       "63                Residencial vertical             D          Alto  \n",
       "64              Residencial horizontal             C         Médio  \n",
       "65                  Comercial vertical             D          Alto  \n",
       "66                Residencial vertical             B         Baixo  \n",
       "\n",
       "[67 rows x 7 columns]"
      ]
     },
     "execution_count": 84,
     "metadata": {},
     "output_type": "execute_result"
    }
   ],
   "source": [
    "df_padroes_usos"
   ]
  },
  {
   "cell_type": "code",
   "execution_count": null,
   "metadata": {},
   "outputs": [],
   "source": [
    "outros_tipos = df_padroes_usos.tipo_de_uso.str.contains('Residencial') | df_padroes_usos.tipo_de_uso.str.contains('Comercial') | df_padroes_usos.tipo_de_uso.str.contains('Terreno')"
   ]
  },
  {
   "cell_type": "code",
   "execution_count": null,
   "metadata": {},
   "outputs": [],
   "source": [
    "df_padroes_usos.loc[~outros_tipos, 'tipo_de_uso'] = 'Outros Usos'\n",
    "df_padroes_usos.loc[~outros_tipos, 'classe_de_uso'] = ''"
   ]
  },
  {
   "cell_type": "code",
   "execution_count": null,
   "metadata": {},
   "outputs": [],
   "source": [
    "df_padroes_usos.rename(columns={'titulo_padronizado':'padrao_construcao'}, inplace=True)"
   ]
  },
  {
   "cell_type": "code",
   "execution_count": null,
   "metadata": {},
   "outputs": [
    {
     "data": {
      "text/html": [
       "<div>\n",
       "<style scoped>\n",
       "    .dataframe tbody tr th:only-of-type {\n",
       "        vertical-align: middle;\n",
       "    }\n",
       "\n",
       "    .dataframe tbody tr th {\n",
       "        vertical-align: top;\n",
       "    }\n",
       "\n",
       "    .dataframe thead th {\n",
       "        text-align: right;\n",
       "    }\n",
       "</style>\n",
       "<table border=\"1\" class=\"dataframe\">\n",
       "  <thead>\n",
       "    <tr style=\"text-align: right;\">\n",
       "      <th></th>\n",
       "      <th>tipo_de_uso</th>\n",
       "      <th>padrao_de_uso</th>\n",
       "      <th>classe_de_uso</th>\n",
       "    </tr>\n",
       "  </thead>\n",
       "  <tbody>\n",
       "    <tr>\n",
       "      <th>0</th>\n",
       "      <td>Residencial vertical</td>\n",
       "      <td>E</td>\n",
       "      <td>Alto</td>\n",
       "    </tr>\n",
       "    <tr>\n",
       "      <th>1</th>\n",
       "      <td>Outros Usos</td>\n",
       "      <td></td>\n",
       "      <td></td>\n",
       "    </tr>\n",
       "    <tr>\n",
       "      <th>2</th>\n",
       "      <td>Residencial vertical</td>\n",
       "      <td>E</td>\n",
       "      <td>Alto</td>\n",
       "    </tr>\n",
       "    <tr>\n",
       "      <th>3</th>\n",
       "      <td>Outros Usos</td>\n",
       "      <td>E</td>\n",
       "      <td></td>\n",
       "    </tr>\n",
       "    <tr>\n",
       "      <th>4</th>\n",
       "      <td>Comercial horizontal</td>\n",
       "      <td>E</td>\n",
       "      <td>Alto</td>\n",
       "    </tr>\n",
       "    <tr>\n",
       "      <th>...</th>\n",
       "      <td>...</td>\n",
       "      <td>...</td>\n",
       "      <td>...</td>\n",
       "    </tr>\n",
       "    <tr>\n",
       "      <th>62</th>\n",
       "      <td>Comercial horizontal</td>\n",
       "      <td>A</td>\n",
       "      <td>Baixo</td>\n",
       "    </tr>\n",
       "    <tr>\n",
       "      <th>63</th>\n",
       "      <td>Residencial vertical</td>\n",
       "      <td>D</td>\n",
       "      <td>Alto</td>\n",
       "    </tr>\n",
       "    <tr>\n",
       "      <th>64</th>\n",
       "      <td>Residencial horizontal</td>\n",
       "      <td>C</td>\n",
       "      <td>Médio</td>\n",
       "    </tr>\n",
       "    <tr>\n",
       "      <th>65</th>\n",
       "      <td>Comercial vertical</td>\n",
       "      <td>D</td>\n",
       "      <td>Alto</td>\n",
       "    </tr>\n",
       "    <tr>\n",
       "      <th>66</th>\n",
       "      <td>Residencial vertical</td>\n",
       "      <td>B</td>\n",
       "      <td>Baixo</td>\n",
       "    </tr>\n",
       "  </tbody>\n",
       "</table>\n",
       "<p>67 rows × 3 columns</p>\n",
       "</div>"
      ],
      "text/plain": [
       "               tipo_de_uso padrao_de_uso classe_de_uso\n",
       "0     Residencial vertical             E          Alto\n",
       "1              Outros Usos                            \n",
       "2     Residencial vertical             E          Alto\n",
       "3              Outros Usos             E              \n",
       "4     Comercial horizontal             E          Alto\n",
       "..                     ...           ...           ...\n",
       "62    Comercial horizontal             A         Baixo\n",
       "63    Residencial vertical             D          Alto\n",
       "64  Residencial horizontal             C         Médio\n",
       "65      Comercial vertical             D          Alto\n",
       "66    Residencial vertical             B         Baixo\n",
       "\n",
       "[67 rows x 3 columns]"
      ]
     },
     "execution_count": 88,
     "metadata": {},
     "output_type": "execute_result"
    }
   ],
   "source": [
    "df_padroes_usos[['tipo_de_uso', 'padrao_de_uso', 'classe_de_uso']]"
   ]
  },
  {
   "cell_type": "code",
   "execution_count": null,
   "metadata": {},
   "outputs": [],
   "source": [
    "df_padroes_usos['tipo_e_classe_de_uso'] = (df_padroes_usos['tipo_de_uso'] + ' ' + df_padroes_usos['classe_de_uso']).str.rstrip()"
   ]
  },
  {
   "cell_type": "code",
   "execution_count": null,
   "metadata": {},
   "outputs": [],
   "source": [
    "# df_iptu = df_iptu[~df_iptu['TIPO DE PADRAO DA CONSTRUCAO'].isna()] "
   ]
  },
  {
   "cell_type": "code",
   "execution_count": null,
   "metadata": {},
   "outputs": [
    {
     "name": "stderr",
     "output_type": "stream",
     "text": [
      "/home/fernando/dev/dash-iptu/venv/lib/python3.9/site-packages/vaex/arrow/numpy_dispatch.py:72: RuntimeWarning: invalid value encountered in true_divide\n",
      "  result_data = op['op'](a_data, b_data)\n"
     ]
    },
    {
     "data": {
      "text/html": [
       "<table>\n",
       "<thead>\n",
       "<tr><th>#                                     </th><th>ANO DO EXERCICIO  </th><th>CODLOG DO IMOVEL  </th><th>ANO DA CONSTRUCAO CORRIGIDO  </th><th>QUANTIDADE DE PAVIMENTOS  </th><th>TESTADA PARA CALCULO  </th><th>TIPO DE USO DO IMOVEL    </th><th>TIPO DE PADRAO DA CONSTRUCAO   </th><th>FATOR DE OBSOLESCENCIA  </th><th>area_contruida_total  </th><th>NUMERO DO CONDOMINIO  </th><th>AREA CONSTRUIDA  </th><th>AREA OCUPADA  </th><th>AREA DO TERRENO  </th><th>sq    </th><th>sqlc        </th><th>fracao_ideal  </th><th>area_ocupada  </th><th>ca                </th><th>to                </th><th>valor_terreno  </th><th>valor_construcao  </th><th>qd_setor  </th><th>qd_fiscal  </th><th>ds_codigo  </th><th>ds_nome   </th><th>ds_cd_sub  </th><th>ds_subpref  </th><th>od_id  </th><th>od_nome      </th><th>COD_AED      </th><th>COD_AED_S  </th><th>sqod     </th><th>classificacao_abrangente  </th></tr>\n",
       "</thead>\n",
       "<tbody>\n",
       "<tr><td><i style='opacity: 0.6'>0</i>         </td><td>1995              </td><td>03812-1           </td><td>1924                         </td><td>1                         </td><td>13.0                  </td><td>loja                     </td><td>comercial horizontal - Padrão B</td><td>0.0                     </td><td>135                   </td><td>00-0                  </td><td>135              </td><td>0             </td><td>136              </td><td>001003</td><td>001003000100</td><td>1.0           </td><td>0.0           </td><td>0.9926470588235294</td><td>0.0               </td><td>13600.0        </td><td>17415.0           </td><td>001       </td><td>003        </td><td>9          </td><td>BOM RETIRO</td><td>09         </td><td>SE          </td><td>7      </td><td>Luz          </td><td>3550308005004</td><td>4          </td><td>001003007</td><td>Comercial                 </td></tr>\n",
       "<tr><td><i style='opacity: 0.6'>1</i>         </td><td>1995              </td><td>03812-1           </td><td>1944                         </td><td>1                         </td><td>6.0                   </td><td>loja                     </td><td>comercial horizontal - Padrão A</td><td>0.0                     </td><td>67                    </td><td>00-0                  </td><td>67               </td><td>0             </td><td>90               </td><td>001003</td><td>001003000200</td><td>1.0           </td><td>0.0           </td><td>0.7444444444444445</td><td>0.0               </td><td>9000.0         </td><td>6298.0            </td><td>001       </td><td>003        </td><td>9          </td><td>BOM RETIRO</td><td>09         </td><td>SE          </td><td>7      </td><td>Luz          </td><td>3550308005004</td><td>4          </td><td>001003007</td><td>Comercial                 </td></tr>\n",
       "<tr><td><i style='opacity: 0.6'>2</i>         </td><td>1995              </td><td>03812-1           </td><td>1944                         </td><td>1                         </td><td>8.0                   </td><td>loja                     </td><td>comercial horizontal - Padrão A</td><td>0.0                     </td><td>85                    </td><td>00-0                  </td><td>85               </td><td>0             </td><td>105              </td><td>001003</td><td>001003000300</td><td>1.0           </td><td>0.0           </td><td>0.8095238095238095</td><td>0.0               </td><td>10500.0        </td><td>7990.0            </td><td>001       </td><td>003        </td><td>9          </td><td>BOM RETIRO</td><td>09         </td><td>SE          </td><td>7      </td><td>Luz          </td><td>3550308005004</td><td>4          </td><td>001003007</td><td>Comercial                 </td></tr>\n",
       "<tr><td><i style='opacity: 0.6'>3</i>         </td><td>1995              </td><td>03812-1           </td><td>1944                         </td><td>1                         </td><td>6.0                   </td><td>loja                     </td><td>comercial horizontal - Padrão B</td><td>0.0                     </td><td>103                   </td><td>00-0                  </td><td>103              </td><td>0             </td><td>108              </td><td>001003</td><td>001003000400</td><td>1.0           </td><td>0.0           </td><td>0.9537037037037037</td><td>0.0               </td><td>10800.0        </td><td>13287.0           </td><td>001       </td><td>003        </td><td>9          </td><td>BOM RETIRO</td><td>09         </td><td>SE          </td><td>7      </td><td>Luz          </td><td>3550308005004</td><td>4          </td><td>001003007</td><td>Comercial                 </td></tr>\n",
       "<tr><td><i style='opacity: 0.6'>4</i>         </td><td>1995              </td><td>03812-1           </td><td>1944                         </td><td>1                         </td><td>7.0                   </td><td>loja                     </td><td>comercial horizontal - Padrão A</td><td>0.0                     </td><td>98                    </td><td>00-0                  </td><td>98               </td><td>0             </td><td>120              </td><td>001003</td><td>001003000500</td><td>1.0           </td><td>0.0           </td><td>0.8166666666666667</td><td>0.0               </td><td>12000.0        </td><td>9212.0            </td><td>001       </td><td>003        </td><td>9          </td><td>BOM RETIRO</td><td>09         </td><td>SE          </td><td>7      </td><td>Luz          </td><td>3550308005004</td><td>4          </td><td>001003007</td><td>Comercial                 </td></tr>\n",
       "<tr><td>...                                   </td><td>...               </td><td>...               </td><td>...                          </td><td>...                       </td><td>...                   </td><td>...                      </td><td>...                            </td><td>...                     </td><td>...                   </td><td>...                   </td><td>...              </td><td>...           </td><td>...              </td><td>...   </td><td>...         </td><td>...           </td><td>...           </td><td>...               </td><td>...               </td><td>...            </td><td>...               </td><td>...       </td><td>...        </td><td>...        </td><td>...       </td><td>...        </td><td>...         </td><td>...    </td><td>...          </td><td>...          </td><td>...        </td><td>...      </td><td>...                       </td></tr>\n",
       "<tr><td><i style='opacity: 0.6'>85,961,430</i></td><td>2023              </td><td>02235-7           </td><td>1978                         </td><td>5                         </td><td>0.0                   </td><td>Apartamento em condomínio</td><td>Residencial vertical - padrão B</td><td>0.2                     </td><td>25215                 </td><td>01-9                  </td><td>84               </td><td>5312          </td><td>18041            </td><td>310118</td><td>310118000001</td><td>0.0033        </td><td>17.5296       </td><td>1.4109276345294306</td><td>0.2944404412172274</td><td>144492.1731    </td><td>177660.0          </td><td>310       </td><td>118        </td><td>38         </td><td>JABAQUARA </td><td>15         </td><td>JABAQUARA   </td><td>275    </td><td>Cidade Vargas</td><td>3550308005093</td><td>93         </td><td>310118275</td><td>Residencial               </td></tr>\n",
       "<tr><td><i style='opacity: 0.6'>85,961,431</i></td><td>2023              </td><td>02235-7           </td><td>1978                         </td><td>5                         </td><td>0.0                   </td><td>Apartamento em condomínio</td><td>Residencial vertical - padrão B</td><td>0.2                     </td><td>25215                 </td><td>01-9                  </td><td>84               </td><td>5312          </td><td>18041            </td><td>310118</td><td>310118000001</td><td>0.0033        </td><td>17.5296       </td><td>1.4109276345294306</td><td>0.2944404412172274</td><td>144492.1731    </td><td>177660.0          </td><td>310       </td><td>118        </td><td>38         </td><td>JABAQUARA </td><td>15         </td><td>JABAQUARA   </td><td>275    </td><td>Cidade Vargas</td><td>3550308005093</td><td>93         </td><td>310118275</td><td>Residencial               </td></tr>\n",
       "<tr><td><i style='opacity: 0.6'>85,961,432</i></td><td>2023              </td><td>02235-7           </td><td>1978                         </td><td>5                         </td><td>0.0                   </td><td>Apartamento em condomínio</td><td>Residencial vertical - padrão B</td><td>0.2                     </td><td>25215                 </td><td>01-9                  </td><td>84               </td><td>5312          </td><td>18041            </td><td>310118</td><td>310118000001</td><td>0.0033        </td><td>17.5296       </td><td>1.4109276345294306</td><td>0.2944404412172274</td><td>144492.1731    </td><td>177660.0          </td><td>310       </td><td>118        </td><td>38         </td><td>JABAQUARA </td><td>15         </td><td>JABAQUARA   </td><td>275    </td><td>Cidade Vargas</td><td>3550308005093</td><td>93         </td><td>310118275</td><td>Residencial               </td></tr>\n",
       "<tr><td><i style='opacity: 0.6'>85,961,433</i></td><td>2023              </td><td>19137-0           </td><td>0                            </td><td>0                         </td><td>0.0                   </td><td>Terreno                  </td><td>TERRENO                        </td><td>0.0                     </td><td>0                     </td><td>00-0                  </td><td>0                </td><td>0             </td><td>18500            </td><td>310119</td><td>310119000100</td><td>1.0           </td><td>0.0           </td><td>0.0               </td><td>0.0               </td><td>41939500.0     </td><td>0.0               </td><td>310       </td><td>119        </td><td>38         </td><td>JABAQUARA </td><td>15         </td><td>JABAQUARA   </td><td>275    </td><td>Cidade Vargas</td><td>3550308005093</td><td>93         </td><td>310119275</td><td>Outros                    </td></tr>\n",
       "<tr><td><i style='opacity: 0.6'>85,961,434</i></td><td>2023              </td><td>01041-3           </td><td>0                            </td><td>0                         </td><td>500.0                 </td><td>Terreno                  </td><td>TERRENO                        </td><td>0.0                     </td><td>0                     </td><td>00-0                  </td><td>0                </td><td>0             </td><td>18926            </td><td>310120</td><td>310120000100</td><td>1.0           </td><td>0.0           </td><td>0.0               </td><td>0.0               </td><td>11790898.0     </td><td>0.0               </td><td>310       </td><td>120        </td><td>38         </td><td>JABAQUARA </td><td>15         </td><td>JABAQUARA   </td><td>275    </td><td>Cidade Vargas</td><td>3550308005093</td><td>93         </td><td>310120275</td><td>Outros                    </td></tr>\n",
       "</tbody>\n",
       "</table>"
      ],
      "text/plain": [
       "#           ANO DO EXERCICIO    CODLOG DO IMOVEL    ANO DA CONSTRUCAO CORRIGIDO    QUANTIDADE DE PAVIMENTOS    TESTADA PARA CALCULO    TIPO DE USO DO IMOVEL      TIPO DE PADRAO DA CONSTRUCAO     FATOR DE OBSOLESCENCIA    area_contruida_total    NUMERO DO CONDOMINIO    AREA CONSTRUIDA    AREA OCUPADA    AREA DO TERRENO    sq      sqlc          fracao_ideal    area_ocupada    ca                  to                  valor_terreno    valor_construcao    qd_setor    qd_fiscal    ds_codigo    ds_nome     ds_cd_sub    ds_subpref    od_id    od_nome        COD_AED        COD_AED_S    sqod       classificacao_abrangente\n",
       "0           1995                03812-1             1924                           1                           13.0                    loja                       comercial horizontal - Padrão B  0.0                       135                     00-0                    135                0               136                001003  001003000100  1.0             0.0             0.9926470588235294  0.0                 13600.0          17415.0             001         003          9            BOM RETIRO  09           SE            7        Luz            3550308005004  4            001003007  Comercial\n",
       "1           1995                03812-1             1944                           1                           6.0                     loja                       comercial horizontal - Padrão A  0.0                       67                      00-0                    67                 0               90                 001003  001003000200  1.0             0.0             0.7444444444444445  0.0                 9000.0           6298.0              001         003          9            BOM RETIRO  09           SE            7        Luz            3550308005004  4            001003007  Comercial\n",
       "2           1995                03812-1             1944                           1                           8.0                     loja                       comercial horizontal - Padrão A  0.0                       85                      00-0                    85                 0               105                001003  001003000300  1.0             0.0             0.8095238095238095  0.0                 10500.0          7990.0              001         003          9            BOM RETIRO  09           SE            7        Luz            3550308005004  4            001003007  Comercial\n",
       "3           1995                03812-1             1944                           1                           6.0                     loja                       comercial horizontal - Padrão B  0.0                       103                     00-0                    103                0               108                001003  001003000400  1.0             0.0             0.9537037037037037  0.0                 10800.0          13287.0             001         003          9            BOM RETIRO  09           SE            7        Luz            3550308005004  4            001003007  Comercial\n",
       "4           1995                03812-1             1944                           1                           7.0                     loja                       comercial horizontal - Padrão A  0.0                       98                      00-0                    98                 0               120                001003  001003000500  1.0             0.0             0.8166666666666667  0.0                 12000.0          9212.0              001         003          9            BOM RETIRO  09           SE            7        Luz            3550308005004  4            001003007  Comercial\n",
       "...         ...                 ...                 ...                            ...                         ...                     ...                        ...                              ...                       ...                     ...                     ...                ...             ...                ...     ...           ...             ...             ...                 ...                 ...              ...                 ...         ...          ...          ...         ...          ...           ...      ...            ...            ...          ...        ...\n",
       "85,961,430  2023                02235-7             1978                           5                           0.0                     Apartamento em condomínio  Residencial vertical - padrão B  0.2                       25215                   01-9                    84                 5312            18041              310118  310118000001  0.0033          17.5296         1.4109276345294306  0.2944404412172274  144492.1731      177660.0            310         118          38           JABAQUARA   15           JABAQUARA     275      Cidade Vargas  3550308005093  93           310118275  Residencial\n",
       "85,961,431  2023                02235-7             1978                           5                           0.0                     Apartamento em condomínio  Residencial vertical - padrão B  0.2                       25215                   01-9                    84                 5312            18041              310118  310118000001  0.0033          17.5296         1.4109276345294306  0.2944404412172274  144492.1731      177660.0            310         118          38           JABAQUARA   15           JABAQUARA     275      Cidade Vargas  3550308005093  93           310118275  Residencial\n",
       "85,961,432  2023                02235-7             1978                           5                           0.0                     Apartamento em condomínio  Residencial vertical - padrão B  0.2                       25215                   01-9                    84                 5312            18041              310118  310118000001  0.0033          17.5296         1.4109276345294306  0.2944404412172274  144492.1731      177660.0            310         118          38           JABAQUARA   15           JABAQUARA     275      Cidade Vargas  3550308005093  93           310118275  Residencial\n",
       "85,961,433  2023                19137-0             0                              0                           0.0                     Terreno                    TERRENO                          0.0                       0                       00-0                    0                  0               18500              310119  310119000100  1.0             0.0             0.0                 0.0                 41939500.0       0.0                 310         119          38           JABAQUARA   15           JABAQUARA     275      Cidade Vargas  3550308005093  93           310119275  Outros\n",
       "85,961,434  2023                01041-3             0                              0                           500.0                   Terreno                    TERRENO                          0.0                       0                       00-0                    0                  0               18926              310120  310120000100  1.0             0.0             0.0                 0.0                 11790898.0       0.0                 310         120          38           JABAQUARA   15           JABAQUARA     275      Cidade Vargas  3550308005093  93           310120275  Outros"
      ]
     },
     "execution_count": 91,
     "metadata": {},
     "output_type": "execute_result"
    }
   ],
   "source": [
    "df_iptu.fillna(value='Terreno', column_names=['TIPO DE PADRAO DA CONSTRUCAO'], inplace=True)"
   ]
  },
  {
   "cell_type": "code",
   "execution_count": null,
   "metadata": {},
   "outputs": [],
   "source": [
    "df_padroes_usos = vaex.from_pandas(df_padroes_usos.loc[df_padroes_usos['TIPO DE PADRAO DA CONSTRUCAO'] != '', ['TIPO DE PADRAO DA CONSTRUCAO',  'tipo_de_uso', 'padrao_de_uso', 'classe_de_uso', 'tipo_e_classe_de_uso']])\n",
    "df_iptu = df_iptu.join(df_padroes_usos, on='TIPO DE PADRAO DA CONSTRUCAO')"
   ]
  },
  {
   "cell_type": "code",
   "execution_count": null,
   "metadata": {},
   "outputs": [
    {
     "name": "stderr",
     "output_type": "stream",
     "text": [
      "/home/fernando/dev/dash-iptu/venv/lib/python3.9/site-packages/vaex/arrow/numpy_dispatch.py:72: RuntimeWarning: invalid value encountered in true_divide\n",
      "  result_data = op['op'](a_data, b_data)\n"
     ]
    },
    {
     "data": {
      "text/html": [
       "<table>\n",
       "<thead>\n",
       "<tr><th>#                                     </th><th>ANO DO EXERCICIO  </th><th>CODLOG DO IMOVEL  </th><th>ANO DA CONSTRUCAO CORRIGIDO  </th><th>QUANTIDADE DE PAVIMENTOS  </th><th>TESTADA PARA CALCULO  </th><th>TIPO DE USO DO IMOVEL    </th><th>TIPO DE PADRAO DA CONSTRUCAO   </th><th>FATOR DE OBSOLESCENCIA  </th><th>area_contruida_total  </th><th>NUMERO DO CONDOMINIO  </th><th>AREA CONSTRUIDA  </th><th>AREA OCUPADA  </th><th>AREA DO TERRENO  </th><th>sq    </th><th>sqlc        </th><th>fracao_ideal  </th><th>area_ocupada  </th><th>ca                </th><th>to                </th><th>valor_terreno  </th><th>valor_construcao  </th><th>qd_setor  </th><th>qd_fiscal  </th><th>ds_codigo  </th><th>ds_nome   </th><th>ds_cd_sub  </th><th>ds_subpref  </th><th>od_id  </th><th>od_nome      </th><th>COD_AED      </th><th>COD_AED_S  </th><th>sqod     </th><th>classificacao_abrangente  </th><th>tipo_de_uso         </th><th>padrao_de_uso  </th><th>classe_de_uso  </th><th>tipo_e_classe_de_uso      </th></tr>\n",
       "</thead>\n",
       "<tbody>\n",
       "<tr><td><i style='opacity: 0.6'>0</i>         </td><td>1995              </td><td>03812-1           </td><td>1924                         </td><td>1                         </td><td>13.0                  </td><td>loja                     </td><td>comercial horizontal - Padrão B</td><td>0.0                     </td><td>135                   </td><td>00-0                  </td><td>135              </td><td>0             </td><td>136              </td><td>001003</td><td>001003000100</td><td>1.0           </td><td>0.0           </td><td>0.9926470588235294</td><td>0.0               </td><td>13600.0        </td><td>17415.0           </td><td>001       </td><td>003        </td><td>9          </td><td>BOM RETIRO</td><td>09         </td><td>SE          </td><td>7      </td><td>Luz          </td><td>3550308005004</td><td>4          </td><td>001003007</td><td>Comercial                 </td><td>Comercial horizontal</td><td>B              </td><td>Baixo          </td><td>Comercial horizontal Baixo</td></tr>\n",
       "<tr><td><i style='opacity: 0.6'>1</i>         </td><td>1995              </td><td>03812-1           </td><td>1944                         </td><td>1                         </td><td>6.0                   </td><td>loja                     </td><td>comercial horizontal - Padrão A</td><td>0.0                     </td><td>67                    </td><td>00-0                  </td><td>67               </td><td>0             </td><td>90               </td><td>001003</td><td>001003000200</td><td>1.0           </td><td>0.0           </td><td>0.7444444444444445</td><td>0.0               </td><td>9000.0         </td><td>6298.0            </td><td>001       </td><td>003        </td><td>9          </td><td>BOM RETIRO</td><td>09         </td><td>SE          </td><td>7      </td><td>Luz          </td><td>3550308005004</td><td>4          </td><td>001003007</td><td>Comercial                 </td><td>Comercial horizontal</td><td>A              </td><td>Baixo          </td><td>Comercial horizontal Baixo</td></tr>\n",
       "<tr><td><i style='opacity: 0.6'>2</i>         </td><td>1995              </td><td>03812-1           </td><td>1944                         </td><td>1                         </td><td>8.0                   </td><td>loja                     </td><td>comercial horizontal - Padrão A</td><td>0.0                     </td><td>85                    </td><td>00-0                  </td><td>85               </td><td>0             </td><td>105              </td><td>001003</td><td>001003000300</td><td>1.0           </td><td>0.0           </td><td>0.8095238095238095</td><td>0.0               </td><td>10500.0        </td><td>7990.0            </td><td>001       </td><td>003        </td><td>9          </td><td>BOM RETIRO</td><td>09         </td><td>SE          </td><td>7      </td><td>Luz          </td><td>3550308005004</td><td>4          </td><td>001003007</td><td>Comercial                 </td><td>Comercial horizontal</td><td>A              </td><td>Baixo          </td><td>Comercial horizontal Baixo</td></tr>\n",
       "<tr><td><i style='opacity: 0.6'>3</i>         </td><td>1995              </td><td>03812-1           </td><td>1944                         </td><td>1                         </td><td>6.0                   </td><td>loja                     </td><td>comercial horizontal - Padrão B</td><td>0.0                     </td><td>103                   </td><td>00-0                  </td><td>103              </td><td>0             </td><td>108              </td><td>001003</td><td>001003000400</td><td>1.0           </td><td>0.0           </td><td>0.9537037037037037</td><td>0.0               </td><td>10800.0        </td><td>13287.0           </td><td>001       </td><td>003        </td><td>9          </td><td>BOM RETIRO</td><td>09         </td><td>SE          </td><td>7      </td><td>Luz          </td><td>3550308005004</td><td>4          </td><td>001003007</td><td>Comercial                 </td><td>Comercial horizontal</td><td>B              </td><td>Baixo          </td><td>Comercial horizontal Baixo</td></tr>\n",
       "<tr><td><i style='opacity: 0.6'>4</i>         </td><td>1995              </td><td>03812-1           </td><td>1944                         </td><td>1                         </td><td>7.0                   </td><td>loja                     </td><td>comercial horizontal - Padrão A</td><td>0.0                     </td><td>98                    </td><td>00-0                  </td><td>98               </td><td>0             </td><td>120              </td><td>001003</td><td>001003000500</td><td>1.0           </td><td>0.0           </td><td>0.8166666666666667</td><td>0.0               </td><td>12000.0        </td><td>9212.0            </td><td>001       </td><td>003        </td><td>9          </td><td>BOM RETIRO</td><td>09         </td><td>SE          </td><td>7      </td><td>Luz          </td><td>3550308005004</td><td>4          </td><td>001003007</td><td>Comercial                 </td><td>Comercial horizontal</td><td>A              </td><td>Baixo          </td><td>Comercial horizontal Baixo</td></tr>\n",
       "<tr><td>...                                   </td><td>...               </td><td>...               </td><td>...                          </td><td>...                       </td><td>...                   </td><td>...                      </td><td>...                            </td><td>...                     </td><td>...                   </td><td>...                   </td><td>...              </td><td>...           </td><td>...              </td><td>...   </td><td>...         </td><td>...           </td><td>...           </td><td>...               </td><td>...               </td><td>...            </td><td>...               </td><td>...       </td><td>...        </td><td>...        </td><td>...       </td><td>...        </td><td>...         </td><td>...    </td><td>...          </td><td>...          </td><td>...        </td><td>...      </td><td>...                       </td><td>...                 </td><td>...            </td><td>...            </td><td>...                       </td></tr>\n",
       "<tr><td><i style='opacity: 0.6'>85,961,430</i></td><td>2023              </td><td>02235-7           </td><td>1978                         </td><td>5                         </td><td>0.0                   </td><td>Apartamento em condomínio</td><td>Residencial vertical - padrão B</td><td>0.2                     </td><td>25215                 </td><td>01-9                  </td><td>84               </td><td>5312          </td><td>18041            </td><td>310118</td><td>310118000001</td><td>0.0033        </td><td>17.5296       </td><td>1.4109276345294306</td><td>0.2944404412172274</td><td>144492.1731    </td><td>177660.0          </td><td>310       </td><td>118        </td><td>38         </td><td>JABAQUARA </td><td>15         </td><td>JABAQUARA   </td><td>275    </td><td>Cidade Vargas</td><td>3550308005093</td><td>93         </td><td>310118275</td><td>Residencial               </td><td>Residencial vertical</td><td>B              </td><td>Baixo          </td><td>Residencial vertical Baixo</td></tr>\n",
       "<tr><td><i style='opacity: 0.6'>85,961,431</i></td><td>2023              </td><td>02235-7           </td><td>1978                         </td><td>5                         </td><td>0.0                   </td><td>Apartamento em condomínio</td><td>Residencial vertical - padrão B</td><td>0.2                     </td><td>25215                 </td><td>01-9                  </td><td>84               </td><td>5312          </td><td>18041            </td><td>310118</td><td>310118000001</td><td>0.0033        </td><td>17.5296       </td><td>1.4109276345294306</td><td>0.2944404412172274</td><td>144492.1731    </td><td>177660.0          </td><td>310       </td><td>118        </td><td>38         </td><td>JABAQUARA </td><td>15         </td><td>JABAQUARA   </td><td>275    </td><td>Cidade Vargas</td><td>3550308005093</td><td>93         </td><td>310118275</td><td>Residencial               </td><td>Residencial vertical</td><td>B              </td><td>Baixo          </td><td>Residencial vertical Baixo</td></tr>\n",
       "<tr><td><i style='opacity: 0.6'>85,961,432</i></td><td>2023              </td><td>02235-7           </td><td>1978                         </td><td>5                         </td><td>0.0                   </td><td>Apartamento em condomínio</td><td>Residencial vertical - padrão B</td><td>0.2                     </td><td>25215                 </td><td>01-9                  </td><td>84               </td><td>5312          </td><td>18041            </td><td>310118</td><td>310118000001</td><td>0.0033        </td><td>17.5296       </td><td>1.4109276345294306</td><td>0.2944404412172274</td><td>144492.1731    </td><td>177660.0          </td><td>310       </td><td>118        </td><td>38         </td><td>JABAQUARA </td><td>15         </td><td>JABAQUARA   </td><td>275    </td><td>Cidade Vargas</td><td>3550308005093</td><td>93         </td><td>310118275</td><td>Residencial               </td><td>Residencial vertical</td><td>B              </td><td>Baixo          </td><td>Residencial vertical Baixo</td></tr>\n",
       "<tr><td><i style='opacity: 0.6'>85,961,433</i></td><td>2023              </td><td>19137-0           </td><td>0                            </td><td>0                         </td><td>0.0                   </td><td>Terreno                  </td><td>TERRENO                        </td><td>0.0                     </td><td>0                     </td><td>00-0                  </td><td>0                </td><td>0             </td><td>18500            </td><td>310119</td><td>310119000100</td><td>1.0           </td><td>0.0           </td><td>0.0               </td><td>0.0               </td><td>41939500.0     </td><td>0.0               </td><td>310       </td><td>119        </td><td>38         </td><td>JABAQUARA </td><td>15         </td><td>JABAQUARA   </td><td>275    </td><td>Cidade Vargas</td><td>3550308005093</td><td>93         </td><td>310119275</td><td>Outros                    </td><td>Terreno             </td><td>               </td><td>               </td><td>Terreno                   </td></tr>\n",
       "<tr><td><i style='opacity: 0.6'>85,961,434</i></td><td>2023              </td><td>01041-3           </td><td>0                            </td><td>0                         </td><td>500.0                 </td><td>Terreno                  </td><td>TERRENO                        </td><td>0.0                     </td><td>0                     </td><td>00-0                  </td><td>0                </td><td>0             </td><td>18926            </td><td>310120</td><td>310120000100</td><td>1.0           </td><td>0.0           </td><td>0.0               </td><td>0.0               </td><td>11790898.0     </td><td>0.0               </td><td>310       </td><td>120        </td><td>38         </td><td>JABAQUARA </td><td>15         </td><td>JABAQUARA   </td><td>275    </td><td>Cidade Vargas</td><td>3550308005093</td><td>93         </td><td>310120275</td><td>Outros                    </td><td>Terreno             </td><td>               </td><td>               </td><td>Terreno                   </td></tr>\n",
       "</tbody>\n",
       "</table>"
      ],
      "text/plain": [
       "#           ANO DO EXERCICIO    CODLOG DO IMOVEL    ANO DA CONSTRUCAO CORRIGIDO    QUANTIDADE DE PAVIMENTOS    TESTADA PARA CALCULO    TIPO DE USO DO IMOVEL      TIPO DE PADRAO DA CONSTRUCAO     FATOR DE OBSOLESCENCIA    area_contruida_total    NUMERO DO CONDOMINIO    AREA CONSTRUIDA    AREA OCUPADA    AREA DO TERRENO    sq      sqlc          fracao_ideal    area_ocupada    ca                  to                  valor_terreno    valor_construcao    qd_setor    qd_fiscal    ds_codigo    ds_nome     ds_cd_sub    ds_subpref    od_id    od_nome        COD_AED        COD_AED_S    sqod       classificacao_abrangente    tipo_de_uso           padrao_de_uso    classe_de_uso    tipo_e_classe_de_uso\n",
       "0           1995                03812-1             1924                           1                           13.0                    loja                       comercial horizontal - Padrão B  0.0                       135                     00-0                    135                0               136                001003  001003000100  1.0             0.0             0.9926470588235294  0.0                 13600.0          17415.0             001         003          9            BOM RETIRO  09           SE            7        Luz            3550308005004  4            001003007  Comercial                   Comercial horizontal  B                Baixo            Comercial horizontal Baixo\n",
       "1           1995                03812-1             1944                           1                           6.0                     loja                       comercial horizontal - Padrão A  0.0                       67                      00-0                    67                 0               90                 001003  001003000200  1.0             0.0             0.7444444444444445  0.0                 9000.0           6298.0              001         003          9            BOM RETIRO  09           SE            7        Luz            3550308005004  4            001003007  Comercial                   Comercial horizontal  A                Baixo            Comercial horizontal Baixo\n",
       "2           1995                03812-1             1944                           1                           8.0                     loja                       comercial horizontal - Padrão A  0.0                       85                      00-0                    85                 0               105                001003  001003000300  1.0             0.0             0.8095238095238095  0.0                 10500.0          7990.0              001         003          9            BOM RETIRO  09           SE            7        Luz            3550308005004  4            001003007  Comercial                   Comercial horizontal  A                Baixo            Comercial horizontal Baixo\n",
       "3           1995                03812-1             1944                           1                           6.0                     loja                       comercial horizontal - Padrão B  0.0                       103                     00-0                    103                0               108                001003  001003000400  1.0             0.0             0.9537037037037037  0.0                 10800.0          13287.0             001         003          9            BOM RETIRO  09           SE            7        Luz            3550308005004  4            001003007  Comercial                   Comercial horizontal  B                Baixo            Comercial horizontal Baixo\n",
       "4           1995                03812-1             1944                           1                           7.0                     loja                       comercial horizontal - Padrão A  0.0                       98                      00-0                    98                 0               120                001003  001003000500  1.0             0.0             0.8166666666666667  0.0                 12000.0          9212.0              001         003          9            BOM RETIRO  09           SE            7        Luz            3550308005004  4            001003007  Comercial                   Comercial horizontal  A                Baixo            Comercial horizontal Baixo\n",
       "...         ...                 ...                 ...                            ...                         ...                     ...                        ...                              ...                       ...                     ...                     ...                ...             ...                ...     ...           ...             ...             ...                 ...                 ...              ...                 ...         ...          ...          ...         ...          ...           ...      ...            ...            ...          ...        ...                         ...                   ...              ...              ...\n",
       "85,961,430  2023                02235-7             1978                           5                           0.0                     Apartamento em condomínio  Residencial vertical - padrão B  0.2                       25215                   01-9                    84                 5312            18041              310118  310118000001  0.0033          17.5296         1.4109276345294306  0.2944404412172274  144492.1731      177660.0            310         118          38           JABAQUARA   15           JABAQUARA     275      Cidade Vargas  3550308005093  93           310118275  Residencial                 Residencial vertical  B                Baixo            Residencial vertical Baixo\n",
       "85,961,431  2023                02235-7             1978                           5                           0.0                     Apartamento em condomínio  Residencial vertical - padrão B  0.2                       25215                   01-9                    84                 5312            18041              310118  310118000001  0.0033          17.5296         1.4109276345294306  0.2944404412172274  144492.1731      177660.0            310         118          38           JABAQUARA   15           JABAQUARA     275      Cidade Vargas  3550308005093  93           310118275  Residencial                 Residencial vertical  B                Baixo            Residencial vertical Baixo\n",
       "85,961,432  2023                02235-7             1978                           5                           0.0                     Apartamento em condomínio  Residencial vertical - padrão B  0.2                       25215                   01-9                    84                 5312            18041              310118  310118000001  0.0033          17.5296         1.4109276345294306  0.2944404412172274  144492.1731      177660.0            310         118          38           JABAQUARA   15           JABAQUARA     275      Cidade Vargas  3550308005093  93           310118275  Residencial                 Residencial vertical  B                Baixo            Residencial vertical Baixo\n",
       "85,961,433  2023                19137-0             0                              0                           0.0                     Terreno                    TERRENO                          0.0                       0                       00-0                    0                  0               18500              310119  310119000100  1.0             0.0             0.0                 0.0                 41939500.0       0.0                 310         119          38           JABAQUARA   15           JABAQUARA     275      Cidade Vargas  3550308005093  93           310119275  Outros                      Terreno                                                 Terreno\n",
       "85,961,434  2023                01041-3             0                              0                           500.0                   Terreno                    TERRENO                          0.0                       0                       00-0                    0                  0               18926              310120  310120000100  1.0             0.0             0.0                 0.0                 11790898.0       0.0                 310         120          38           JABAQUARA   15           JABAQUARA     275      Cidade Vargas  3550308005093  93           310120275  Outros                      Terreno                                                 Terreno"
      ]
     },
     "execution_count": 93,
     "metadata": {},
     "output_type": "execute_result"
    }
   ],
   "source": [
    "df_iptu.fillna(value='', column_names=['tipo_de_uso', 'padrao_de_uso', 'classe_de_uso', 'tipo_e_classe_de_uso'], inplace=True)"
   ]
  },
  {
   "cell_type": "code",
   "execution_count": null,
   "metadata": {},
   "outputs": [
    {
     "data": {
      "text/html": [
       "<table>\n",
       "<thead>\n",
       "<tr><th>#                            </th><th style=\"text-align: right;\">  ANO DO EXERCICIO</th><th>CODLOG DO IMOVEL  </th><th style=\"text-align: right;\">  ANO DA CONSTRUCAO CORRIGIDO</th><th style=\"text-align: right;\">  QUANTIDADE DE PAVIMENTOS</th><th style=\"text-align: right;\">  TESTADA PARA CALCULO</th><th>TIPO DE USO DO IMOVEL  </th><th>TIPO DE PADRAO DA CONSTRUCAO   </th><th style=\"text-align: right;\">  FATOR DE OBSOLESCENCIA</th><th style=\"text-align: right;\">  area_contruida_total</th><th>NUMERO DO CONDOMINIO  </th><th style=\"text-align: right;\">  AREA CONSTRUIDA</th><th style=\"text-align: right;\">  AREA OCUPADA</th><th style=\"text-align: right;\">  AREA DO TERRENO</th><th style=\"text-align: right;\">    sq</th><th style=\"text-align: right;\">        sqlc</th><th style=\"text-align: right;\">  fracao_ideal</th><th style=\"text-align: right;\">  area_ocupada</th><th style=\"text-align: right;\">      ca</th><th style=\"text-align: right;\">  to</th><th style=\"text-align: right;\">  valor_terreno</th><th style=\"text-align: right;\">  valor_construcao</th><th style=\"text-align: right;\">  qd_setor</th><th style=\"text-align: right;\">  qd_fiscal</th><th style=\"text-align: right;\">  ds_codigo</th><th>ds_nome   </th><th style=\"text-align: right;\">  ds_cd_sub</th><th>ds_subpref  </th><th style=\"text-align: right;\">  od_id</th><th>od_nome  </th><th style=\"text-align: right;\">      COD_AED</th><th style=\"text-align: right;\">  COD_AED_S</th><th style=\"text-align: right;\">     sqod</th><th>classificacao_abrangente  </th><th>tipo_de_uso         </th><th>padrao_de_uso  </th><th>classe_de_uso  </th><th>tipo_e_classe_de_uso      </th></tr>\n",
       "</thead>\n",
       "<tbody>\n",
       "<tr><td><i style='opacity: 0.6'>0</i></td><td style=\"text-align: right;\">              1995</td><td>03812-1           </td><td style=\"text-align: right;\">                         1924</td><td style=\"text-align: right;\">                         1</td><td style=\"text-align: right;\">                    13</td><td>loja                   </td><td>comercial horizontal - Padrão B</td><td style=\"text-align: right;\">                       0</td><td style=\"text-align: right;\">                   135</td><td>00-0                  </td><td style=\"text-align: right;\">              135</td><td style=\"text-align: right;\">             0</td><td style=\"text-align: right;\">              136</td><td style=\"text-align: right;\">001003</td><td style=\"text-align: right;\">001003000100</td><td style=\"text-align: right;\">             1</td><td style=\"text-align: right;\">             0</td><td style=\"text-align: right;\">0.992647</td><td style=\"text-align: right;\">   0</td><td style=\"text-align: right;\">          13600</td><td style=\"text-align: right;\">             17415</td><td style=\"text-align: right;\">       001</td><td style=\"text-align: right;\">        003</td><td style=\"text-align: right;\">          9</td><td>BOM RETIRO</td><td style=\"text-align: right;\">         09</td><td>SE          </td><td style=\"text-align: right;\">      7</td><td>Luz      </td><td style=\"text-align: right;\">3550308005004</td><td style=\"text-align: right;\">          4</td><td style=\"text-align: right;\">001003007</td><td>Comercial                 </td><td>Comercial horizontal</td><td>B              </td><td>Baixo          </td><td>Comercial horizontal Baixo</td></tr>\n",
       "<tr><td><i style='opacity: 0.6'>1</i></td><td style=\"text-align: right;\">              1995</td><td>03812-1           </td><td style=\"text-align: right;\">                         1944</td><td style=\"text-align: right;\">                         1</td><td style=\"text-align: right;\">                     6</td><td>loja                   </td><td>comercial horizontal - Padrão A</td><td style=\"text-align: right;\">                       0</td><td style=\"text-align: right;\">                    67</td><td>00-0                  </td><td style=\"text-align: right;\">               67</td><td style=\"text-align: right;\">             0</td><td style=\"text-align: right;\">               90</td><td style=\"text-align: right;\">001003</td><td style=\"text-align: right;\">001003000200</td><td style=\"text-align: right;\">             1</td><td style=\"text-align: right;\">             0</td><td style=\"text-align: right;\">0.744444</td><td style=\"text-align: right;\">   0</td><td style=\"text-align: right;\">           9000</td><td style=\"text-align: right;\">              6298</td><td style=\"text-align: right;\">       001</td><td style=\"text-align: right;\">        003</td><td style=\"text-align: right;\">          9</td><td>BOM RETIRO</td><td style=\"text-align: right;\">         09</td><td>SE          </td><td style=\"text-align: right;\">      7</td><td>Luz      </td><td style=\"text-align: right;\">3550308005004</td><td style=\"text-align: right;\">          4</td><td style=\"text-align: right;\">001003007</td><td>Comercial                 </td><td>Comercial horizontal</td><td>A              </td><td>Baixo          </td><td>Comercial horizontal Baixo</td></tr>\n",
       "<tr><td><i style='opacity: 0.6'>2</i></td><td style=\"text-align: right;\">              1995</td><td>03812-1           </td><td style=\"text-align: right;\">                         1944</td><td style=\"text-align: right;\">                         1</td><td style=\"text-align: right;\">                     8</td><td>loja                   </td><td>comercial horizontal - Padrão A</td><td style=\"text-align: right;\">                       0</td><td style=\"text-align: right;\">                    85</td><td>00-0                  </td><td style=\"text-align: right;\">               85</td><td style=\"text-align: right;\">             0</td><td style=\"text-align: right;\">              105</td><td style=\"text-align: right;\">001003</td><td style=\"text-align: right;\">001003000300</td><td style=\"text-align: right;\">             1</td><td style=\"text-align: right;\">             0</td><td style=\"text-align: right;\">0.809524</td><td style=\"text-align: right;\">   0</td><td style=\"text-align: right;\">          10500</td><td style=\"text-align: right;\">              7990</td><td style=\"text-align: right;\">       001</td><td style=\"text-align: right;\">        003</td><td style=\"text-align: right;\">          9</td><td>BOM RETIRO</td><td style=\"text-align: right;\">         09</td><td>SE          </td><td style=\"text-align: right;\">      7</td><td>Luz      </td><td style=\"text-align: right;\">3550308005004</td><td style=\"text-align: right;\">          4</td><td style=\"text-align: right;\">001003007</td><td>Comercial                 </td><td>Comercial horizontal</td><td>A              </td><td>Baixo          </td><td>Comercial horizontal Baixo</td></tr>\n",
       "</tbody>\n",
       "</table>"
      ],
      "text/plain": [
       "  #    ANO DO EXERCICIO  CODLOG DO IMOVEL      ANO DA CONSTRUCAO CORRIGIDO    QUANTIDADE DE PAVIMENTOS    TESTADA PARA CALCULO  TIPO DE USO DO IMOVEL    TIPO DE PADRAO DA CONSTRUCAO       FATOR DE OBSOLESCENCIA    area_contruida_total  NUMERO DO CONDOMINIO      AREA CONSTRUIDA    AREA OCUPADA    AREA DO TERRENO      sq          sqlc    fracao_ideal    area_ocupada        ca    to    valor_terreno    valor_construcao    qd_setor    qd_fiscal    ds_codigo  ds_nome       ds_cd_sub  ds_subpref      od_id  od_nome          COD_AED    COD_AED_S       sqod  classificacao_abrangente    tipo_de_uso           padrao_de_uso    classe_de_uso    tipo_e_classe_de_uso\n",
       "  0                1995  03812-1                                      1924                           1                      13  loja                     comercial horizontal - Padrão B                         0                     135  00-0                                  135               0                136  001003  001003000100               1               0  0.992647     0            13600               17415         001          003            9  BOM RETIRO           09  SE                  7  Luz        3550308005004            4  001003007  Comercial                   Comercial horizontal  B                Baixo            Comercial horizontal Baixo\n",
       "  1                1995  03812-1                                      1944                           1                       6  loja                     comercial horizontal - Padrão A                         0                      67  00-0                                   67               0                 90  001003  001003000200               1               0  0.744444     0             9000                6298         001          003            9  BOM RETIRO           09  SE                  7  Luz        3550308005004            4  001003007  Comercial                   Comercial horizontal  A                Baixo            Comercial horizontal Baixo\n",
       "  2                1995  03812-1                                      1944                           1                       8  loja                     comercial horizontal - Padrão A                         0                      85  00-0                                   85               0                105  001003  001003000300               1               0  0.809524     0            10500                7990         001          003            9  BOM RETIRO           09  SE                  7  Luz        3550308005004            4  001003007  Comercial                   Comercial horizontal  A                Baixo            Comercial horizontal Baixo"
      ]
     },
     "execution_count": 94,
     "metadata": {},
     "output_type": "execute_result"
    }
   ],
   "source": [
    "df_iptu.head(3)"
   ]
  },
  {
   "cell_type": "code",
   "execution_count": null,
   "metadata": {},
   "outputs": [
    {
     "data": {
      "text/html": [
       "<table>\n",
       "<thead>\n",
       "<tr><th>#                                    </th><th>ANO DO EXERCICIO  </th><th>CODLOG DO IMOVEL  </th><th>ANO DA CONSTRUCAO CORRIGIDO  </th><th>QUANTIDADE DE PAVIMENTOS  </th><th>TESTADA PARA CALCULO  </th><th>TIPO DE USO DO IMOVEL                              </th><th>TIPO DE PADRAO DA CONSTRUCAO  </th><th>FATOR DE OBSOLESCENCIA  </th><th>area_contruida_total  </th><th>NUMERO DO CONDOMINIO  </th><th>AREA CONSTRUIDA  </th><th>AREA OCUPADA  </th><th>AREA DO TERRENO  </th><th>sq    </th><th>sqlc        </th><th>fracao_ideal  </th><th>area_ocupada  </th><th>ca                </th><th>to                 </th><th>valor_terreno  </th><th>valor_construcao  </th><th>qd_setor  </th><th>qd_fiscal  </th><th>ds_codigo  </th><th>ds_nome   </th><th>ds_cd_sub  </th><th>ds_subpref  </th><th>od_id  </th><th>od_nome      </th><th>COD_AED      </th><th>COD_AED_S  </th><th>sqod     </th><th>classificacao_abrangente  </th><th>tipo_de_uso       </th><th>padrao_de_uso  </th><th>classe_de_uso  </th><th>tipo_e_classe_de_uso    </th></tr>\n",
       "</thead>\n",
       "<tbody>\n",
       "<tr><td><i style='opacity: 0.6'>0</i>        </td><td>1995              </td><td>03812-1           </td><td>1970                         </td><td>4                         </td><td>11.0                  </td><td>loja e residência (predominância comercial)        </td><td>comercial vertical - Padrão B </td><td>1.0                     </td><td>802                   </td><td>00-0                  </td><td>802              </td><td>257           </td><td>257              </td><td>001003</td><td>001003000700</td><td>1.0           </td><td>257.0         </td><td>3.1206225680933852</td><td>1.0                </td><td>25700.0        </td><td>162004.0          </td><td>001       </td><td>003        </td><td>9          </td><td>BOM RETIRO</td><td>09         </td><td>SE          </td><td>7      </td><td>Luz          </td><td>3550308005004</td><td>4          </td><td>001003007</td><td>Comercial                 </td><td>Comercial vertical</td><td>B              </td><td>Baixo          </td><td>Comercial vertical Baixo</td></tr>\n",
       "<tr><td><i style='opacity: 0.6'>1</i>        </td><td>1995              </td><td>03812-1           </td><td>1981                         </td><td>2                         </td><td>11.0                  </td><td>loja                                               </td><td>comercial vertical - Padrão C </td><td>1.0                     </td><td>660                   </td><td>00-0                  </td><td>660              </td><td>297           </td><td>303              </td><td>001003</td><td>001003001000</td><td>1.0           </td><td>297.0         </td><td>2.1782178217821784</td><td>0.9801980198019802 </td><td>30300.0        </td><td>197340.0          </td><td>001       </td><td>003        </td><td>9          </td><td>BOM RETIRO</td><td>09         </td><td>SE          </td><td>7      </td><td>Luz          </td><td>3550308005004</td><td>4          </td><td>001003007</td><td>Comercial                 </td><td>Comercial vertical</td><td>C              </td><td>Médio          </td><td>Comercial vertical Médio</td></tr>\n",
       "<tr><td><i style='opacity: 0.6'>2</i>        </td><td>1995              </td><td>03812-1           </td><td>1924                         </td><td>4                         </td><td>10.0                  </td><td>&#x27;outras edificações do tipo (uso comércio), com ...</td><td>comercial vertical - Padrão B </td><td>0.0                     </td><td>505                   </td><td>00-0                  </td><td>505              </td><td>206           </td><td>285              </td><td>001003</td><td>001003001100</td><td>1.0           </td><td>206.0         </td><td>1.7719298245614035</td><td>0.7228070175438597 </td><td>28500.0        </td><td>102010.0          </td><td>001       </td><td>003        </td><td>9          </td><td>BOM RETIRO</td><td>09         </td><td>SE          </td><td>7      </td><td>Luz          </td><td>3550308005004</td><td>4          </td><td>001003007</td><td>Comercial                 </td><td>Comercial vertical</td><td>B              </td><td>Baixo          </td><td>Comercial vertical Baixo</td></tr>\n",
       "<tr><td><i style='opacity: 0.6'>3</i>        </td><td>1995              </td><td>06156-5           </td><td>1970                         </td><td>4                         </td><td>12.0                  </td><td>loja e residência (predominância comercial)        </td><td>comercial vertical - Padrão B </td><td>1.0                     </td><td>830                   </td><td>00-0                  </td><td>830              </td><td>270           </td><td>298              </td><td>001003</td><td>001003001400</td><td>1.0           </td><td>270.0         </td><td>2.785234899328859 </td><td>0.9060402684563759 </td><td>11324.0        </td><td>167660.0          </td><td>001       </td><td>003        </td><td>9          </td><td>BOM RETIRO</td><td>09         </td><td>SE          </td><td>7      </td><td>Luz          </td><td>3550308005004</td><td>4          </td><td>001003007</td><td>Comercial                 </td><td>Comercial vertical</td><td>B              </td><td>Baixo          </td><td>Comercial vertical Baixo</td></tr>\n",
       "<tr><td><i style='opacity: 0.6'>4</i>        </td><td>1995              </td><td>06156-5           </td><td>1983                         </td><td>6                         </td><td>6.0                   </td><td>loja e residência (predominância comercial)        </td><td>comercial vertical - Padrão B </td><td>1.0                     </td><td>740                   </td><td>00-0                  </td><td>740              </td><td>156           </td><td>162              </td><td>001003</td><td>001003001500</td><td>1.0           </td><td>156.0         </td><td>4.567901234567901 </td><td>0.9629629629629629 </td><td>6156.0         </td><td>149480.0          </td><td>001       </td><td>003        </td><td>9          </td><td>BOM RETIRO</td><td>09         </td><td>SE          </td><td>7      </td><td>Luz          </td><td>3550308005004</td><td>4          </td><td>001003007</td><td>Comercial                 </td><td>Comercial vertical</td><td>B              </td><td>Baixo          </td><td>Comercial vertical Baixo</td></tr>\n",
       "<tr><td>...                                  </td><td>...               </td><td>...               </td><td>...                          </td><td>...                       </td><td>...                   </td><td>...                                                </td><td>...                           </td><td>...                     </td><td>...                   </td><td>...                   </td><td>...              </td><td>...           </td><td>...              </td><td>...   </td><td>...         </td><td>...           </td><td>...           </td><td>...               </td><td>...                </td><td>...            </td><td>...               </td><td>...       </td><td>...        </td><td>...        </td><td>...       </td><td>...        </td><td>...         </td><td>...    </td><td>...          </td><td>...          </td><td>...        </td><td>...      </td><td>...                       </td><td>...               </td><td>...            </td><td>...            </td><td>...                     </td></tr>\n",
       "<tr><td><i style='opacity: 0.6'>4,851,705</i></td><td>2023              </td><td>06429-7           </td><td>2016                         </td><td>3                         </td><td>20.0                  </td><td>Escola                                             </td><td>Comercial vertical - padrão C </td><td>0.95                    </td><td>503                   </td><td>00-0                  </td><td>503              </td><td>239           </td><td>508              </td><td>310096</td><td>310096001700</td><td>1.0           </td><td>239.0         </td><td>0.9901574803149606</td><td>0.4704724409448819 </td><td>939292.0       </td><td>1332950.0         </td><td>310       </td><td>096        </td><td>38         </td><td>JABAQUARA </td><td>15         </td><td>JABAQUARA   </td><td>275    </td><td>Cidade Vargas</td><td>3550308005093</td><td>93         </td><td>310096275</td><td>Serviços                  </td><td>Comercial vertical</td><td>C              </td><td>Médio          </td><td>Comercial vertical Médio</td></tr>\n",
       "<tr><td><i style='opacity: 0.6'>4,851,706</i></td><td>2023              </td><td>05197-7           </td><td>2002                         </td><td>3                         </td><td>13.3                  </td><td>&#x27;Outras edificações de uso comercial, com utiliz...</td><td>Comercial vertical - padrão B </td><td>0.81                    </td><td>1161                  </td><td>00-0                  </td><td>1161             </td><td>394           </td><td>532              </td><td>310099</td><td>310099000400</td><td>1.0           </td><td>394.0         </td><td>2.1823308270676693</td><td>0.7406015037593985 </td><td>972496.0       </td><td>2836323.0         </td><td>310       </td><td>099        </td><td>38         </td><td>JABAQUARA </td><td>15         </td><td>JABAQUARA   </td><td>275    </td><td>Cidade Vargas</td><td>3550308005093</td><td>93         </td><td>310099275</td><td>Comercial                 </td><td>Comercial vertical</td><td>B              </td><td>Baixo          </td><td>Comercial vertical Baixo</td></tr>\n",
       "<tr><td><i style='opacity: 0.6'>4,851,707</i></td><td>2023              </td><td>01418-4           </td><td>1997                         </td><td>3                         </td><td>42.0                  </td><td>Escola                                             </td><td>Comercial vertical - padrão B </td><td>0.75                    </td><td>2493                  </td><td>00-0                  </td><td>2493             </td><td>1670          </td><td>2212             </td><td>310102</td><td>310102008800</td><td>1.0           </td><td>1670.0        </td><td>1.1270343580470163</td><td>0.7549728752260397 </td><td>3968328.0      </td><td>6090399.0         </td><td>310       </td><td>102        </td><td>38         </td><td>JABAQUARA </td><td>15         </td><td>JABAQUARA   </td><td>275    </td><td>Cidade Vargas</td><td>3550308005093</td><td>93         </td><td>310102275</td><td>Serviços                  </td><td>Comercial vertical</td><td>B              </td><td>Baixo          </td><td>Comercial vertical Baixo</td></tr>\n",
       "<tr><td><i style='opacity: 0.6'>4,851,708</i></td><td>2023              </td><td>02235-7           </td><td>1974                         </td><td>3                         </td><td>20.0                  </td><td>&#x27;Prédio de escritório ou consultório, não em con...</td><td>Comercial vertical - padrão B </td><td>0.41                    </td><td>748                   </td><td>00-0                  </td><td>748              </td><td>348           </td><td>400              </td><td>310104</td><td>310104002800</td><td>1.0           </td><td>348.0         </td><td>1.87              </td><td>0.87               </td><td>1107200.0      </td><td>1827364.0         </td><td>310       </td><td>104        </td><td>38         </td><td>JABAQUARA </td><td>15         </td><td>JABAQUARA   </td><td>275    </td><td>Cidade Vargas</td><td>3550308005093</td><td>93         </td><td>310104275</td><td>Serviços                  </td><td>Comercial vertical</td><td>B              </td><td>Baixo          </td><td>Comercial vertical Baixo</td></tr>\n",
       "<tr><td><i style='opacity: 0.6'>4,851,709</i></td><td>2023              </td><td>01041-3           </td><td>1995                         </td><td>3                         </td><td>60.0                  </td><td>Loja                                               </td><td>Comercial vertical - padrão C </td><td>0.73                    </td><td>3225                  </td><td>00-0                  </td><td>3225             </td><td>1121          </td><td>2383             </td><td>310109</td><td>310109054000</td><td>1.0           </td><td>1121.0        </td><td>1.3533361309274023</td><td>0.47041544271926145</td><td>4472891.0      </td><td>8546250.0         </td><td>310       </td><td>109        </td><td>38         </td><td>JABAQUARA </td><td>15         </td><td>JABAQUARA   </td><td>275    </td><td>Cidade Vargas</td><td>3550308005093</td><td>93         </td><td>310109275</td><td>Comercial                 </td><td>Comercial vertical</td><td>C              </td><td>Médio          </td><td>Comercial vertical Médio</td></tr>\n",
       "</tbody>\n",
       "</table>"
      ],
      "text/plain": [
       "#          ANO DO EXERCICIO    CODLOG DO IMOVEL    ANO DA CONSTRUCAO CORRIGIDO    QUANTIDADE DE PAVIMENTOS    TESTADA PARA CALCULO    TIPO DE USO DO IMOVEL                                TIPO DE PADRAO DA CONSTRUCAO    FATOR DE OBSOLESCENCIA    area_contruida_total    NUMERO DO CONDOMINIO    AREA CONSTRUIDA    AREA OCUPADA    AREA DO TERRENO    sq      sqlc          fracao_ideal    area_ocupada    ca                  to                   valor_terreno    valor_construcao    qd_setor    qd_fiscal    ds_codigo    ds_nome     ds_cd_sub    ds_subpref    od_id    od_nome        COD_AED        COD_AED_S    sqod       classificacao_abrangente    tipo_de_uso         padrao_de_uso    classe_de_uso    tipo_e_classe_de_uso\n",
       "0          1995                03812-1             1970                           4                           11.0                    loja e residência (predominância comercial)          comercial vertical - Padrão B   1.0                       802                     00-0                    802                257             257                001003  001003000700  1.0             257.0           3.1206225680933852  1.0                  25700.0          162004.0            001         003          9            BOM RETIRO  09           SE            7        Luz            3550308005004  4            001003007  Comercial                   Comercial vertical  B                Baixo            Comercial vertical Baixo\n",
       "1          1995                03812-1             1981                           2                           11.0                    loja                                                 comercial vertical - Padrão C   1.0                       660                     00-0                    660                297             303                001003  001003001000  1.0             297.0           2.1782178217821784  0.9801980198019802   30300.0          197340.0            001         003          9            BOM RETIRO  09           SE            7        Luz            3550308005004  4            001003007  Comercial                   Comercial vertical  C                Médio            Comercial vertical Médio\n",
       "2          1995                03812-1             1924                           4                           10.0                    'outras edificações do tipo (uso comércio), com ...  comercial vertical - Padrão B   0.0                       505                     00-0                    505                206             285                001003  001003001100  1.0             206.0           1.7719298245614035  0.7228070175438597   28500.0          102010.0            001         003          9            BOM RETIRO  09           SE            7        Luz            3550308005004  4            001003007  Comercial                   Comercial vertical  B                Baixo            Comercial vertical Baixo\n",
       "3          1995                06156-5             1970                           4                           12.0                    loja e residência (predominância comercial)          comercial vertical - Padrão B   1.0                       830                     00-0                    830                270             298                001003  001003001400  1.0             270.0           2.785234899328859   0.9060402684563759   11324.0          167660.0            001         003          9            BOM RETIRO  09           SE            7        Luz            3550308005004  4            001003007  Comercial                   Comercial vertical  B                Baixo            Comercial vertical Baixo\n",
       "4          1995                06156-5             1983                           6                           6.0                     loja e residência (predominância comercial)          comercial vertical - Padrão B   1.0                       740                     00-0                    740                156             162                001003  001003001500  1.0             156.0           4.567901234567901   0.9629629629629629   6156.0           149480.0            001         003          9            BOM RETIRO  09           SE            7        Luz            3550308005004  4            001003007  Comercial                   Comercial vertical  B                Baixo            Comercial vertical Baixo\n",
       "...        ...                 ...                 ...                            ...                         ...                     ...                                                  ...                             ...                       ...                     ...                     ...                ...             ...                ...     ...           ...             ...             ...                 ...                  ...              ...                 ...         ...          ...          ...         ...          ...           ...      ...            ...            ...          ...        ...                         ...                 ...              ...              ...\n",
       "4,851,705  2023                06429-7             2016                           3                           20.0                    Escola                                               Comercial vertical - padrão C   0.95                      503                     00-0                    503                239             508                310096  310096001700  1.0             239.0           0.9901574803149606  0.4704724409448819   939292.0         1332950.0           310         096          38           JABAQUARA   15           JABAQUARA     275      Cidade Vargas  3550308005093  93           310096275  Serviços                    Comercial vertical  C                Médio            Comercial vertical Médio\n",
       "4,851,706  2023                05197-7             2002                           3                           13.3                    'Outras edificações de uso comercial, com utiliz...  Comercial vertical - padrão B   0.81                      1161                    00-0                    1161               394             532                310099  310099000400  1.0             394.0           2.1823308270676693  0.7406015037593985   972496.0         2836323.0           310         099          38           JABAQUARA   15           JABAQUARA     275      Cidade Vargas  3550308005093  93           310099275  Comercial                   Comercial vertical  B                Baixo            Comercial vertical Baixo\n",
       "4,851,707  2023                01418-4             1997                           3                           42.0                    Escola                                               Comercial vertical - padrão B   0.75                      2493                    00-0                    2493               1670            2212               310102  310102008800  1.0             1670.0          1.1270343580470163  0.7549728752260397   3968328.0        6090399.0           310         102          38           JABAQUARA   15           JABAQUARA     275      Cidade Vargas  3550308005093  93           310102275  Serviços                    Comercial vertical  B                Baixo            Comercial vertical Baixo\n",
       "4,851,708  2023                02235-7             1974                           3                           20.0                    'Prédio de escritório ou consultório, não em con...  Comercial vertical - padrão B   0.41                      748                     00-0                    748                348             400                310104  310104002800  1.0             348.0           1.87                0.87                 1107200.0        1827364.0           310         104          38           JABAQUARA   15           JABAQUARA     275      Cidade Vargas  3550308005093  93           310104275  Serviços                    Comercial vertical  B                Baixo            Comercial vertical Baixo\n",
       "4,851,709  2023                01041-3             1995                           3                           60.0                    Loja                                                 Comercial vertical - padrão C   0.73                      3225                    00-0                    3225               1121            2383               310109  310109054000  1.0             1121.0          1.3533361309274023  0.47041544271926145  4472891.0        8546250.0           310         109          38           JABAQUARA   15           JABAQUARA     275      Cidade Vargas  3550308005093  93           310109275  Comercial                   Comercial vertical  C                Médio            Comercial vertical Médio"
      ]
     },
     "execution_count": 95,
     "metadata": {},
     "output_type": "execute_result"
    }
   ],
   "source": [
    "df_iptu[df_iptu['tipo_de_uso'] == 'Comercial vertical']"
   ]
  },
  {
   "cell_type": "code",
   "execution_count": null,
   "metadata": {},
   "outputs": [
    {
     "data": {
      "text/plain": [
       "(85961435, 37)"
      ]
     },
     "execution_count": 96,
     "metadata": {},
     "output_type": "execute_result"
    }
   ],
   "source": [
    "df_iptu.shape"
   ]
  },
  {
   "cell_type": "code",
   "execution_count": null,
   "metadata": {},
   "outputs": [],
   "source": [
    "# df_iptu['tipo_e_classe_de_uso'] = df_iptu['tipo_de_uso'] + ' ' + df_iptu['classe_de_uso']"
   ]
  },
  {
   "cell_type": "markdown",
   "metadata": {},
   "source": [
    "## Processando as totalizacoes"
   ]
  },
  {
   "cell_type": "code",
   "execution_count": null,
   "metadata": {},
   "outputs": [],
   "source": [
    "gdf_distritos['area'] = gdf_distritos.area\n",
    "gdf_distritos.to_crs(epsg=4674, inplace=True)"
   ]
  },
  {
   "cell_type": "code",
   "execution_count": null,
   "metadata": {},
   "outputs": [],
   "source": [
    "df_iptu['sq'] = df_iptu.qd_setor + df_iptu.qd_fiscal"
   ]
  },
  {
   "cell_type": "code",
   "execution_count": null,
   "metadata": {},
   "outputs": [],
   "source": [
    "# df_iptu.sq"
   ]
  },
  {
   "cell_type": "code",
   "execution_count": null,
   "metadata": {},
   "outputs": [],
   "source": [
    "# df_iptu.fillna(value='0', column_names=['sq'], inplace=True)\n",
    "# df_iptu['sq'] = df_iptu['sq'].astype('int')\n",
    "# df_iptu.categorize('sq', inplace=True)"
   ]
  },
  {
   "cell_type": "code",
   "execution_count": null,
   "metadata": {},
   "outputs": [
    {
     "name": "stderr",
     "output_type": "stream",
     "text": [
      "/home/fernando/dev/dash-iptu/venv/lib/python3.9/site-packages/vaex/arrow/numpy_dispatch.py:72: RuntimeWarning: invalid value encountered in true_divide\n",
      "  result_data = op['op'](a_data, b_data)\n"
     ]
    },
    {
     "data": {
      "text/html": [
       "<table>\n",
       "<thead>\n",
       "<tr><th>#                                     </th><th>ANO DO EXERCICIO  </th><th>CODLOG DO IMOVEL  </th><th>ANO DA CONSTRUCAO CORRIGIDO  </th><th>QUANTIDADE DE PAVIMENTOS  </th><th>TESTADA PARA CALCULO  </th><th>TIPO DE USO DO IMOVEL    </th><th>TIPO DE PADRAO DA CONSTRUCAO   </th><th>FATOR DE OBSOLESCENCIA  </th><th>area_contruida_total  </th><th>NUMERO DO CONDOMINIO  </th><th>AREA CONSTRUIDA  </th><th>AREA OCUPADA  </th><th>AREA DO TERRENO  </th><th>sq    </th><th>sqlc        </th><th>fracao_ideal  </th><th>area_ocupada  </th><th>ca                </th><th>to                </th><th>valor_terreno  </th><th>valor_construcao  </th><th>qd_setor  </th><th>qd_fiscal  </th><th>ds_codigo  </th><th>ds_nome   </th><th>ds_cd_sub  </th><th>ds_subpref  </th><th>od_id  </th><th>od_nome      </th><th>COD_AED      </th><th>COD_AED_S  </th><th>sqod     </th><th>classificacao_abrangente  </th><th>tipo_de_uso         </th><th>padrao_de_uso  </th><th>classe_de_uso  </th><th>tipo_e_classe_de_uso      </th><th>distrito  </th></tr>\n",
       "</thead>\n",
       "<tbody>\n",
       "<tr><td><i style='opacity: 0.6'>0</i>         </td><td>1995              </td><td>03812-1           </td><td>1924                         </td><td>1                         </td><td>13.0                  </td><td>loja                     </td><td>comercial horizontal - Padrão B</td><td>0.0                     </td><td>135                   </td><td>00-0                  </td><td>135              </td><td>0             </td><td>136              </td><td>001003</td><td>001003000100</td><td>1.0           </td><td>0.0           </td><td>0.9926470588235294</td><td>0.0               </td><td>13600.0        </td><td>17415.0           </td><td>001       </td><td>003        </td><td>9          </td><td>BOM RETIRO</td><td>09         </td><td>SE          </td><td>7      </td><td>Luz          </td><td>3550308005004</td><td>4          </td><td>001003007</td><td>Comercial                 </td><td>Comercial horizontal</td><td>B              </td><td>Baixo          </td><td>Comercial horizontal Baixo</td><td>9         </td></tr>\n",
       "<tr><td><i style='opacity: 0.6'>1</i>         </td><td>1995              </td><td>03812-1           </td><td>1944                         </td><td>1                         </td><td>6.0                   </td><td>loja                     </td><td>comercial horizontal - Padrão A</td><td>0.0                     </td><td>67                    </td><td>00-0                  </td><td>67               </td><td>0             </td><td>90               </td><td>001003</td><td>001003000200</td><td>1.0           </td><td>0.0           </td><td>0.7444444444444445</td><td>0.0               </td><td>9000.0         </td><td>6298.0            </td><td>001       </td><td>003        </td><td>9          </td><td>BOM RETIRO</td><td>09         </td><td>SE          </td><td>7      </td><td>Luz          </td><td>3550308005004</td><td>4          </td><td>001003007</td><td>Comercial                 </td><td>Comercial horizontal</td><td>A              </td><td>Baixo          </td><td>Comercial horizontal Baixo</td><td>9         </td></tr>\n",
       "<tr><td><i style='opacity: 0.6'>2</i>         </td><td>1995              </td><td>03812-1           </td><td>1944                         </td><td>1                         </td><td>8.0                   </td><td>loja                     </td><td>comercial horizontal - Padrão A</td><td>0.0                     </td><td>85                    </td><td>00-0                  </td><td>85               </td><td>0             </td><td>105              </td><td>001003</td><td>001003000300</td><td>1.0           </td><td>0.0           </td><td>0.8095238095238095</td><td>0.0               </td><td>10500.0        </td><td>7990.0            </td><td>001       </td><td>003        </td><td>9          </td><td>BOM RETIRO</td><td>09         </td><td>SE          </td><td>7      </td><td>Luz          </td><td>3550308005004</td><td>4          </td><td>001003007</td><td>Comercial                 </td><td>Comercial horizontal</td><td>A              </td><td>Baixo          </td><td>Comercial horizontal Baixo</td><td>9         </td></tr>\n",
       "<tr><td><i style='opacity: 0.6'>3</i>         </td><td>1995              </td><td>03812-1           </td><td>1944                         </td><td>1                         </td><td>6.0                   </td><td>loja                     </td><td>comercial horizontal - Padrão B</td><td>0.0                     </td><td>103                   </td><td>00-0                  </td><td>103              </td><td>0             </td><td>108              </td><td>001003</td><td>001003000400</td><td>1.0           </td><td>0.0           </td><td>0.9537037037037037</td><td>0.0               </td><td>10800.0        </td><td>13287.0           </td><td>001       </td><td>003        </td><td>9          </td><td>BOM RETIRO</td><td>09         </td><td>SE          </td><td>7      </td><td>Luz          </td><td>3550308005004</td><td>4          </td><td>001003007</td><td>Comercial                 </td><td>Comercial horizontal</td><td>B              </td><td>Baixo          </td><td>Comercial horizontal Baixo</td><td>9         </td></tr>\n",
       "<tr><td><i style='opacity: 0.6'>4</i>         </td><td>1995              </td><td>03812-1           </td><td>1944                         </td><td>1                         </td><td>7.0                   </td><td>loja                     </td><td>comercial horizontal - Padrão A</td><td>0.0                     </td><td>98                    </td><td>00-0                  </td><td>98               </td><td>0             </td><td>120              </td><td>001003</td><td>001003000500</td><td>1.0           </td><td>0.0           </td><td>0.8166666666666667</td><td>0.0               </td><td>12000.0        </td><td>9212.0            </td><td>001       </td><td>003        </td><td>9          </td><td>BOM RETIRO</td><td>09         </td><td>SE          </td><td>7      </td><td>Luz          </td><td>3550308005004</td><td>4          </td><td>001003007</td><td>Comercial                 </td><td>Comercial horizontal</td><td>A              </td><td>Baixo          </td><td>Comercial horizontal Baixo</td><td>9         </td></tr>\n",
       "<tr><td>...                                   </td><td>...               </td><td>...               </td><td>...                          </td><td>...                       </td><td>...                   </td><td>...                      </td><td>...                            </td><td>...                     </td><td>...                   </td><td>...                   </td><td>...              </td><td>...           </td><td>...              </td><td>...   </td><td>...         </td><td>...           </td><td>...           </td><td>...               </td><td>...               </td><td>...            </td><td>...               </td><td>...       </td><td>...        </td><td>...        </td><td>...       </td><td>...        </td><td>...         </td><td>...    </td><td>...          </td><td>...          </td><td>...        </td><td>...      </td><td>...                       </td><td>...                 </td><td>...            </td><td>...            </td><td>...                       </td><td>...       </td></tr>\n",
       "<tr><td><i style='opacity: 0.6'>85,961,430</i></td><td>2023              </td><td>02235-7           </td><td>1978                         </td><td>5                         </td><td>0.0                   </td><td>Apartamento em condomínio</td><td>Residencial vertical - padrão B</td><td>0.2                     </td><td>25215                 </td><td>01-9                  </td><td>84               </td><td>5312          </td><td>18041            </td><td>310118</td><td>310118000001</td><td>0.0033        </td><td>17.5296       </td><td>1.4109276345294306</td><td>0.2944404412172274</td><td>144492.1731    </td><td>177660.0          </td><td>310       </td><td>118        </td><td>38         </td><td>JABAQUARA </td><td>15         </td><td>JABAQUARA   </td><td>275    </td><td>Cidade Vargas</td><td>3550308005093</td><td>93         </td><td>310118275</td><td>Residencial               </td><td>Residencial vertical</td><td>B              </td><td>Baixo          </td><td>Residencial vertical Baixo</td><td>38        </td></tr>\n",
       "<tr><td><i style='opacity: 0.6'>85,961,431</i></td><td>2023              </td><td>02235-7           </td><td>1978                         </td><td>5                         </td><td>0.0                   </td><td>Apartamento em condomínio</td><td>Residencial vertical - padrão B</td><td>0.2                     </td><td>25215                 </td><td>01-9                  </td><td>84               </td><td>5312          </td><td>18041            </td><td>310118</td><td>310118000001</td><td>0.0033        </td><td>17.5296       </td><td>1.4109276345294306</td><td>0.2944404412172274</td><td>144492.1731    </td><td>177660.0          </td><td>310       </td><td>118        </td><td>38         </td><td>JABAQUARA </td><td>15         </td><td>JABAQUARA   </td><td>275    </td><td>Cidade Vargas</td><td>3550308005093</td><td>93         </td><td>310118275</td><td>Residencial               </td><td>Residencial vertical</td><td>B              </td><td>Baixo          </td><td>Residencial vertical Baixo</td><td>38        </td></tr>\n",
       "<tr><td><i style='opacity: 0.6'>85,961,432</i></td><td>2023              </td><td>02235-7           </td><td>1978                         </td><td>5                         </td><td>0.0                   </td><td>Apartamento em condomínio</td><td>Residencial vertical - padrão B</td><td>0.2                     </td><td>25215                 </td><td>01-9                  </td><td>84               </td><td>5312          </td><td>18041            </td><td>310118</td><td>310118000001</td><td>0.0033        </td><td>17.5296       </td><td>1.4109276345294306</td><td>0.2944404412172274</td><td>144492.1731    </td><td>177660.0          </td><td>310       </td><td>118        </td><td>38         </td><td>JABAQUARA </td><td>15         </td><td>JABAQUARA   </td><td>275    </td><td>Cidade Vargas</td><td>3550308005093</td><td>93         </td><td>310118275</td><td>Residencial               </td><td>Residencial vertical</td><td>B              </td><td>Baixo          </td><td>Residencial vertical Baixo</td><td>38        </td></tr>\n",
       "<tr><td><i style='opacity: 0.6'>85,961,433</i></td><td>2023              </td><td>19137-0           </td><td>0                            </td><td>0                         </td><td>0.0                   </td><td>Terreno                  </td><td>TERRENO                        </td><td>0.0                     </td><td>0                     </td><td>00-0                  </td><td>0                </td><td>0             </td><td>18500            </td><td>310119</td><td>310119000100</td><td>1.0           </td><td>0.0           </td><td>0.0               </td><td>0.0               </td><td>41939500.0     </td><td>0.0               </td><td>310       </td><td>119        </td><td>38         </td><td>JABAQUARA </td><td>15         </td><td>JABAQUARA   </td><td>275    </td><td>Cidade Vargas</td><td>3550308005093</td><td>93         </td><td>310119275</td><td>Outros                    </td><td>Terreno             </td><td>               </td><td>               </td><td>Terreno                   </td><td>38        </td></tr>\n",
       "<tr><td><i style='opacity: 0.6'>85,961,434</i></td><td>2023              </td><td>01041-3           </td><td>0                            </td><td>0                         </td><td>500.0                 </td><td>Terreno                  </td><td>TERRENO                        </td><td>0.0                     </td><td>0                     </td><td>00-0                  </td><td>0                </td><td>0             </td><td>18926            </td><td>310120</td><td>310120000100</td><td>1.0           </td><td>0.0           </td><td>0.0               </td><td>0.0               </td><td>11790898.0     </td><td>0.0               </td><td>310       </td><td>120        </td><td>38         </td><td>JABAQUARA </td><td>15         </td><td>JABAQUARA   </td><td>275    </td><td>Cidade Vargas</td><td>3550308005093</td><td>93         </td><td>310120275</td><td>Outros                    </td><td>Terreno             </td><td>               </td><td>               </td><td>Terreno                   </td><td>38        </td></tr>\n",
       "</tbody>\n",
       "</table>"
      ],
      "text/plain": [
       "#           ANO DO EXERCICIO    CODLOG DO IMOVEL    ANO DA CONSTRUCAO CORRIGIDO    QUANTIDADE DE PAVIMENTOS    TESTADA PARA CALCULO    TIPO DE USO DO IMOVEL      TIPO DE PADRAO DA CONSTRUCAO     FATOR DE OBSOLESCENCIA    area_contruida_total    NUMERO DO CONDOMINIO    AREA CONSTRUIDA    AREA OCUPADA    AREA DO TERRENO    sq      sqlc          fracao_ideal    area_ocupada    ca                  to                  valor_terreno    valor_construcao    qd_setor    qd_fiscal    ds_codigo    ds_nome     ds_cd_sub    ds_subpref    od_id    od_nome        COD_AED        COD_AED_S    sqod       classificacao_abrangente    tipo_de_uso           padrao_de_uso    classe_de_uso    tipo_e_classe_de_uso        distrito\n",
       "0           1995                03812-1             1924                           1                           13.0                    loja                       comercial horizontal - Padrão B  0.0                       135                     00-0                    135                0               136                001003  001003000100  1.0             0.0             0.9926470588235294  0.0                 13600.0          17415.0             001         003          9            BOM RETIRO  09           SE            7        Luz            3550308005004  4            001003007  Comercial                   Comercial horizontal  B                Baixo            Comercial horizontal Baixo  9\n",
       "1           1995                03812-1             1944                           1                           6.0                     loja                       comercial horizontal - Padrão A  0.0                       67                      00-0                    67                 0               90                 001003  001003000200  1.0             0.0             0.7444444444444445  0.0                 9000.0           6298.0              001         003          9            BOM RETIRO  09           SE            7        Luz            3550308005004  4            001003007  Comercial                   Comercial horizontal  A                Baixo            Comercial horizontal Baixo  9\n",
       "2           1995                03812-1             1944                           1                           8.0                     loja                       comercial horizontal - Padrão A  0.0                       85                      00-0                    85                 0               105                001003  001003000300  1.0             0.0             0.8095238095238095  0.0                 10500.0          7990.0              001         003          9            BOM RETIRO  09           SE            7        Luz            3550308005004  4            001003007  Comercial                   Comercial horizontal  A                Baixo            Comercial horizontal Baixo  9\n",
       "3           1995                03812-1             1944                           1                           6.0                     loja                       comercial horizontal - Padrão B  0.0                       103                     00-0                    103                0               108                001003  001003000400  1.0             0.0             0.9537037037037037  0.0                 10800.0          13287.0             001         003          9            BOM RETIRO  09           SE            7        Luz            3550308005004  4            001003007  Comercial                   Comercial horizontal  B                Baixo            Comercial horizontal Baixo  9\n",
       "4           1995                03812-1             1944                           1                           7.0                     loja                       comercial horizontal - Padrão A  0.0                       98                      00-0                    98                 0               120                001003  001003000500  1.0             0.0             0.8166666666666667  0.0                 12000.0          9212.0              001         003          9            BOM RETIRO  09           SE            7        Luz            3550308005004  4            001003007  Comercial                   Comercial horizontal  A                Baixo            Comercial horizontal Baixo  9\n",
       "...         ...                 ...                 ...                            ...                         ...                     ...                        ...                              ...                       ...                     ...                     ...                ...             ...                ...     ...           ...             ...             ...                 ...                 ...              ...                 ...         ...          ...          ...         ...          ...           ...      ...            ...            ...          ...        ...                         ...                   ...              ...              ...                         ...\n",
       "85,961,430  2023                02235-7             1978                           5                           0.0                     Apartamento em condomínio  Residencial vertical - padrão B  0.2                       25215                   01-9                    84                 5312            18041              310118  310118000001  0.0033          17.5296         1.4109276345294306  0.2944404412172274  144492.1731      177660.0            310         118          38           JABAQUARA   15           JABAQUARA     275      Cidade Vargas  3550308005093  93           310118275  Residencial                 Residencial vertical  B                Baixo            Residencial vertical Baixo  38\n",
       "85,961,431  2023                02235-7             1978                           5                           0.0                     Apartamento em condomínio  Residencial vertical - padrão B  0.2                       25215                   01-9                    84                 5312            18041              310118  310118000001  0.0033          17.5296         1.4109276345294306  0.2944404412172274  144492.1731      177660.0            310         118          38           JABAQUARA   15           JABAQUARA     275      Cidade Vargas  3550308005093  93           310118275  Residencial                 Residencial vertical  B                Baixo            Residencial vertical Baixo  38\n",
       "85,961,432  2023                02235-7             1978                           5                           0.0                     Apartamento em condomínio  Residencial vertical - padrão B  0.2                       25215                   01-9                    84                 5312            18041              310118  310118000001  0.0033          17.5296         1.4109276345294306  0.2944404412172274  144492.1731      177660.0            310         118          38           JABAQUARA   15           JABAQUARA     275      Cidade Vargas  3550308005093  93           310118275  Residencial                 Residencial vertical  B                Baixo            Residencial vertical Baixo  38\n",
       "85,961,433  2023                19137-0             0                              0                           0.0                     Terreno                    TERRENO                          0.0                       0                       00-0                    0                  0               18500              310119  310119000100  1.0             0.0             0.0                 0.0                 41939500.0       0.0                 310         119          38           JABAQUARA   15           JABAQUARA     275      Cidade Vargas  3550308005093  93           310119275  Outros                      Terreno                                                 Terreno                     38\n",
       "85,961,434  2023                01041-3             0                              0                           500.0                   Terreno                    TERRENO                          0.0                       0                       00-0                    0                  0               18926              310120  310120000100  1.0             0.0             0.0                 0.0                 11790898.0       0.0                 310         120          38           JABAQUARA   15           JABAQUARA     275      Cidade Vargas  3550308005093  93           310120275  Outros                      Terreno                                                 Terreno                     38"
      ]
     },
     "execution_count": 102,
     "metadata": {},
     "output_type": "execute_result"
    }
   ],
   "source": [
    "# df_iptu.head(1)\n",
    "df_iptu.fillna(value='0', column_names=['ds_codigo'], inplace=True)\n",
    "df_iptu['distrito'] = df_iptu['ds_codigo'].astype('int')\n",
    "df_iptu.categorize('distrito', inplace=True)\n",
    "# df_iptu.head(1)"
   ]
  },
  {
   "cell_type": "code",
   "execution_count": null,
   "metadata": {},
   "outputs": [
    {
     "data": {
      "text/html": [
       "<table>\n",
       "<thead>\n",
       "<tr><th>#                                     </th><th>ANO DO EXERCICIO  </th><th>CODLOG DO IMOVEL  </th><th>ANO DA CONSTRUCAO CORRIGIDO  </th><th>QUANTIDADE DE PAVIMENTOS  </th><th>TESTADA PARA CALCULO  </th><th>TIPO DE USO DO IMOVEL    </th><th>TIPO DE PADRAO DA CONSTRUCAO   </th><th>FATOR DE OBSOLESCENCIA  </th><th>area_contruida_total  </th><th>NUMERO DO CONDOMINIO  </th><th>AREA CONSTRUIDA  </th><th>AREA OCUPADA  </th><th>AREA DO TERRENO  </th><th>sq    </th><th>sqlc        </th><th>fracao_ideal  </th><th>area_ocupada  </th><th>ca                </th><th>to                </th><th>valor_terreno  </th><th>valor_construcao  </th><th>qd_setor  </th><th>qd_fiscal  </th><th>ds_codigo  </th><th>ds_nome   </th><th>ds_cd_sub  </th><th>ds_subpref  </th><th>od_id  </th><th>od_nome      </th><th>COD_AED      </th><th>COD_AED_S  </th><th>sqod     </th><th>classificacao_abrangente  </th><th>tipo_de_uso         </th><th>padrao_de_uso  </th><th>classe_de_uso  </th><th>tipo_e_classe_de_uso      </th><th>distrito  </th><th>ano  </th></tr>\n",
       "</thead>\n",
       "<tbody>\n",
       "<tr><td><i style='opacity: 0.6'>0</i>         </td><td>1995              </td><td>03812-1           </td><td>1924                         </td><td>1                         </td><td>13.0                  </td><td>loja                     </td><td>comercial horizontal - Padrão B</td><td>0.0                     </td><td>135                   </td><td>00-0                  </td><td>135              </td><td>0             </td><td>136              </td><td>001003</td><td>001003000100</td><td>1.0           </td><td>0.0           </td><td>0.9926470588235294</td><td>0.0               </td><td>13600.0        </td><td>17415.0           </td><td>001       </td><td>003        </td><td>9          </td><td>BOM RETIRO</td><td>09         </td><td>SE          </td><td>7      </td><td>Luz          </td><td>3550308005004</td><td>4          </td><td>001003007</td><td>Comercial                 </td><td>Comercial horizontal</td><td>B              </td><td>Baixo          </td><td>Comercial horizontal Baixo</td><td>9         </td><td>1995 </td></tr>\n",
       "<tr><td><i style='opacity: 0.6'>1</i>         </td><td>1995              </td><td>03812-1           </td><td>1944                         </td><td>1                         </td><td>6.0                   </td><td>loja                     </td><td>comercial horizontal - Padrão A</td><td>0.0                     </td><td>67                    </td><td>00-0                  </td><td>67               </td><td>0             </td><td>90               </td><td>001003</td><td>001003000200</td><td>1.0           </td><td>0.0           </td><td>0.7444444444444445</td><td>0.0               </td><td>9000.0         </td><td>6298.0            </td><td>001       </td><td>003        </td><td>9          </td><td>BOM RETIRO</td><td>09         </td><td>SE          </td><td>7      </td><td>Luz          </td><td>3550308005004</td><td>4          </td><td>001003007</td><td>Comercial                 </td><td>Comercial horizontal</td><td>A              </td><td>Baixo          </td><td>Comercial horizontal Baixo</td><td>9         </td><td>1995 </td></tr>\n",
       "<tr><td><i style='opacity: 0.6'>2</i>         </td><td>1995              </td><td>03812-1           </td><td>1944                         </td><td>1                         </td><td>8.0                   </td><td>loja                     </td><td>comercial horizontal - Padrão A</td><td>0.0                     </td><td>85                    </td><td>00-0                  </td><td>85               </td><td>0             </td><td>105              </td><td>001003</td><td>001003000300</td><td>1.0           </td><td>0.0           </td><td>0.8095238095238095</td><td>0.0               </td><td>10500.0        </td><td>7990.0            </td><td>001       </td><td>003        </td><td>9          </td><td>BOM RETIRO</td><td>09         </td><td>SE          </td><td>7      </td><td>Luz          </td><td>3550308005004</td><td>4          </td><td>001003007</td><td>Comercial                 </td><td>Comercial horizontal</td><td>A              </td><td>Baixo          </td><td>Comercial horizontal Baixo</td><td>9         </td><td>1995 </td></tr>\n",
       "<tr><td><i style='opacity: 0.6'>3</i>         </td><td>1995              </td><td>03812-1           </td><td>1944                         </td><td>1                         </td><td>6.0                   </td><td>loja                     </td><td>comercial horizontal - Padrão B</td><td>0.0                     </td><td>103                   </td><td>00-0                  </td><td>103              </td><td>0             </td><td>108              </td><td>001003</td><td>001003000400</td><td>1.0           </td><td>0.0           </td><td>0.9537037037037037</td><td>0.0               </td><td>10800.0        </td><td>13287.0           </td><td>001       </td><td>003        </td><td>9          </td><td>BOM RETIRO</td><td>09         </td><td>SE          </td><td>7      </td><td>Luz          </td><td>3550308005004</td><td>4          </td><td>001003007</td><td>Comercial                 </td><td>Comercial horizontal</td><td>B              </td><td>Baixo          </td><td>Comercial horizontal Baixo</td><td>9         </td><td>1995 </td></tr>\n",
       "<tr><td><i style='opacity: 0.6'>4</i>         </td><td>1995              </td><td>03812-1           </td><td>1944                         </td><td>1                         </td><td>7.0                   </td><td>loja                     </td><td>comercial horizontal - Padrão A</td><td>0.0                     </td><td>98                    </td><td>00-0                  </td><td>98               </td><td>0             </td><td>120              </td><td>001003</td><td>001003000500</td><td>1.0           </td><td>0.0           </td><td>0.8166666666666667</td><td>0.0               </td><td>12000.0        </td><td>9212.0            </td><td>001       </td><td>003        </td><td>9          </td><td>BOM RETIRO</td><td>09         </td><td>SE          </td><td>7      </td><td>Luz          </td><td>3550308005004</td><td>4          </td><td>001003007</td><td>Comercial                 </td><td>Comercial horizontal</td><td>A              </td><td>Baixo          </td><td>Comercial horizontal Baixo</td><td>9         </td><td>1995 </td></tr>\n",
       "<tr><td>...                                   </td><td>...               </td><td>...               </td><td>...                          </td><td>...                       </td><td>...                   </td><td>...                      </td><td>...                            </td><td>...                     </td><td>...                   </td><td>...                   </td><td>...              </td><td>...           </td><td>...              </td><td>...   </td><td>...         </td><td>...           </td><td>...           </td><td>...               </td><td>...               </td><td>...            </td><td>...               </td><td>...       </td><td>...        </td><td>...        </td><td>...       </td><td>...        </td><td>...         </td><td>...    </td><td>...          </td><td>...          </td><td>...        </td><td>...      </td><td>...                       </td><td>...                 </td><td>...            </td><td>...            </td><td>...                       </td><td>...       </td><td>...  </td></tr>\n",
       "<tr><td><i style='opacity: 0.6'>85,961,430</i></td><td>2023              </td><td>02235-7           </td><td>1978                         </td><td>5                         </td><td>0.0                   </td><td>Apartamento em condomínio</td><td>Residencial vertical - padrão B</td><td>0.2                     </td><td>25215                 </td><td>01-9                  </td><td>84               </td><td>5312          </td><td>18041            </td><td>310118</td><td>310118000001</td><td>0.0033        </td><td>17.5296       </td><td>1.4109276345294306</td><td>0.2944404412172274</td><td>144492.1731    </td><td>177660.0          </td><td>310       </td><td>118        </td><td>38         </td><td>JABAQUARA </td><td>15         </td><td>JABAQUARA   </td><td>275    </td><td>Cidade Vargas</td><td>3550308005093</td><td>93         </td><td>310118275</td><td>Residencial               </td><td>Residencial vertical</td><td>B              </td><td>Baixo          </td><td>Residencial vertical Baixo</td><td>38        </td><td>2023 </td></tr>\n",
       "<tr><td><i style='opacity: 0.6'>85,961,431</i></td><td>2023              </td><td>02235-7           </td><td>1978                         </td><td>5                         </td><td>0.0                   </td><td>Apartamento em condomínio</td><td>Residencial vertical - padrão B</td><td>0.2                     </td><td>25215                 </td><td>01-9                  </td><td>84               </td><td>5312          </td><td>18041            </td><td>310118</td><td>310118000001</td><td>0.0033        </td><td>17.5296       </td><td>1.4109276345294306</td><td>0.2944404412172274</td><td>144492.1731    </td><td>177660.0          </td><td>310       </td><td>118        </td><td>38         </td><td>JABAQUARA </td><td>15         </td><td>JABAQUARA   </td><td>275    </td><td>Cidade Vargas</td><td>3550308005093</td><td>93         </td><td>310118275</td><td>Residencial               </td><td>Residencial vertical</td><td>B              </td><td>Baixo          </td><td>Residencial vertical Baixo</td><td>38        </td><td>2023 </td></tr>\n",
       "<tr><td><i style='opacity: 0.6'>85,961,432</i></td><td>2023              </td><td>02235-7           </td><td>1978                         </td><td>5                         </td><td>0.0                   </td><td>Apartamento em condomínio</td><td>Residencial vertical - padrão B</td><td>0.2                     </td><td>25215                 </td><td>01-9                  </td><td>84               </td><td>5312          </td><td>18041            </td><td>310118</td><td>310118000001</td><td>0.0033        </td><td>17.5296       </td><td>1.4109276345294306</td><td>0.2944404412172274</td><td>144492.1731    </td><td>177660.0          </td><td>310       </td><td>118        </td><td>38         </td><td>JABAQUARA </td><td>15         </td><td>JABAQUARA   </td><td>275    </td><td>Cidade Vargas</td><td>3550308005093</td><td>93         </td><td>310118275</td><td>Residencial               </td><td>Residencial vertical</td><td>B              </td><td>Baixo          </td><td>Residencial vertical Baixo</td><td>38        </td><td>2023 </td></tr>\n",
       "<tr><td><i style='opacity: 0.6'>85,961,433</i></td><td>2023              </td><td>19137-0           </td><td>0                            </td><td>0                         </td><td>0.0                   </td><td>Terreno                  </td><td>TERRENO                        </td><td>0.0                     </td><td>0                     </td><td>00-0                  </td><td>0                </td><td>0             </td><td>18500            </td><td>310119</td><td>310119000100</td><td>1.0           </td><td>0.0           </td><td>0.0               </td><td>0.0               </td><td>41939500.0     </td><td>0.0               </td><td>310       </td><td>119        </td><td>38         </td><td>JABAQUARA </td><td>15         </td><td>JABAQUARA   </td><td>275    </td><td>Cidade Vargas</td><td>3550308005093</td><td>93         </td><td>310119275</td><td>Outros                    </td><td>Terreno             </td><td>               </td><td>               </td><td>Terreno                   </td><td>38        </td><td>2023 </td></tr>\n",
       "<tr><td><i style='opacity: 0.6'>85,961,434</i></td><td>2023              </td><td>01041-3           </td><td>0                            </td><td>0                         </td><td>500.0                 </td><td>Terreno                  </td><td>TERRENO                        </td><td>0.0                     </td><td>0                     </td><td>00-0                  </td><td>0                </td><td>0             </td><td>18926            </td><td>310120</td><td>310120000100</td><td>1.0           </td><td>0.0           </td><td>0.0               </td><td>0.0               </td><td>11790898.0     </td><td>0.0               </td><td>310       </td><td>120        </td><td>38         </td><td>JABAQUARA </td><td>15         </td><td>JABAQUARA   </td><td>275    </td><td>Cidade Vargas</td><td>3550308005093</td><td>93         </td><td>310120275</td><td>Outros                    </td><td>Terreno             </td><td>               </td><td>               </td><td>Terreno                   </td><td>38        </td><td>2023 </td></tr>\n",
       "</tbody>\n",
       "</table>"
      ],
      "text/plain": [
       "#           ANO DO EXERCICIO    CODLOG DO IMOVEL    ANO DA CONSTRUCAO CORRIGIDO    QUANTIDADE DE PAVIMENTOS    TESTADA PARA CALCULO    TIPO DE USO DO IMOVEL      TIPO DE PADRAO DA CONSTRUCAO     FATOR DE OBSOLESCENCIA    area_contruida_total    NUMERO DO CONDOMINIO    AREA CONSTRUIDA    AREA OCUPADA    AREA DO TERRENO    sq      sqlc          fracao_ideal    area_ocupada    ca                  to                  valor_terreno    valor_construcao    qd_setor    qd_fiscal    ds_codigo    ds_nome     ds_cd_sub    ds_subpref    od_id    od_nome        COD_AED        COD_AED_S    sqod       classificacao_abrangente    tipo_de_uso           padrao_de_uso    classe_de_uso    tipo_e_classe_de_uso        distrito    ano\n",
       "0           1995                03812-1             1924                           1                           13.0                    loja                       comercial horizontal - Padrão B  0.0                       135                     00-0                    135                0               136                001003  001003000100  1.0             0.0             0.9926470588235294  0.0                 13600.0          17415.0             001         003          9            BOM RETIRO  09           SE            7        Luz            3550308005004  4            001003007  Comercial                   Comercial horizontal  B                Baixo            Comercial horizontal Baixo  9           1995\n",
       "1           1995                03812-1             1944                           1                           6.0                     loja                       comercial horizontal - Padrão A  0.0                       67                      00-0                    67                 0               90                 001003  001003000200  1.0             0.0             0.7444444444444445  0.0                 9000.0           6298.0              001         003          9            BOM RETIRO  09           SE            7        Luz            3550308005004  4            001003007  Comercial                   Comercial horizontal  A                Baixo            Comercial horizontal Baixo  9           1995\n",
       "2           1995                03812-1             1944                           1                           8.0                     loja                       comercial horizontal - Padrão A  0.0                       85                      00-0                    85                 0               105                001003  001003000300  1.0             0.0             0.8095238095238095  0.0                 10500.0          7990.0              001         003          9            BOM RETIRO  09           SE            7        Luz            3550308005004  4            001003007  Comercial                   Comercial horizontal  A                Baixo            Comercial horizontal Baixo  9           1995\n",
       "3           1995                03812-1             1944                           1                           6.0                     loja                       comercial horizontal - Padrão B  0.0                       103                     00-0                    103                0               108                001003  001003000400  1.0             0.0             0.9537037037037037  0.0                 10800.0          13287.0             001         003          9            BOM RETIRO  09           SE            7        Luz            3550308005004  4            001003007  Comercial                   Comercial horizontal  B                Baixo            Comercial horizontal Baixo  9           1995\n",
       "4           1995                03812-1             1944                           1                           7.0                     loja                       comercial horizontal - Padrão A  0.0                       98                      00-0                    98                 0               120                001003  001003000500  1.0             0.0             0.8166666666666667  0.0                 12000.0          9212.0              001         003          9            BOM RETIRO  09           SE            7        Luz            3550308005004  4            001003007  Comercial                   Comercial horizontal  A                Baixo            Comercial horizontal Baixo  9           1995\n",
       "...         ...                 ...                 ...                            ...                         ...                     ...                        ...                              ...                       ...                     ...                     ...                ...             ...                ...     ...           ...             ...             ...                 ...                 ...              ...                 ...         ...          ...          ...         ...          ...           ...      ...            ...            ...          ...        ...                         ...                   ...              ...              ...                         ...         ...\n",
       "85,961,430  2023                02235-7             1978                           5                           0.0                     Apartamento em condomínio  Residencial vertical - padrão B  0.2                       25215                   01-9                    84                 5312            18041              310118  310118000001  0.0033          17.5296         1.4109276345294306  0.2944404412172274  144492.1731      177660.0            310         118          38           JABAQUARA   15           JABAQUARA     275      Cidade Vargas  3550308005093  93           310118275  Residencial                 Residencial vertical  B                Baixo            Residencial vertical Baixo  38          2023\n",
       "85,961,431  2023                02235-7             1978                           5                           0.0                     Apartamento em condomínio  Residencial vertical - padrão B  0.2                       25215                   01-9                    84                 5312            18041              310118  310118000001  0.0033          17.5296         1.4109276345294306  0.2944404412172274  144492.1731      177660.0            310         118          38           JABAQUARA   15           JABAQUARA     275      Cidade Vargas  3550308005093  93           310118275  Residencial                 Residencial vertical  B                Baixo            Residencial vertical Baixo  38          2023\n",
       "85,961,432  2023                02235-7             1978                           5                           0.0                     Apartamento em condomínio  Residencial vertical - padrão B  0.2                       25215                   01-9                    84                 5312            18041              310118  310118000001  0.0033          17.5296         1.4109276345294306  0.2944404412172274  144492.1731      177660.0            310         118          38           JABAQUARA   15           JABAQUARA     275      Cidade Vargas  3550308005093  93           310118275  Residencial                 Residencial vertical  B                Baixo            Residencial vertical Baixo  38          2023\n",
       "85,961,433  2023                19137-0             0                              0                           0.0                     Terreno                    TERRENO                          0.0                       0                       00-0                    0                  0               18500              310119  310119000100  1.0             0.0             0.0                 0.0                 41939500.0       0.0                 310         119          38           JABAQUARA   15           JABAQUARA     275      Cidade Vargas  3550308005093  93           310119275  Outros                      Terreno                                                 Terreno                     38          2023\n",
       "85,961,434  2023                01041-3             0                              0                           500.0                   Terreno                    TERRENO                          0.0                       0                       00-0                    0                  0               18926              310120  310120000100  1.0             0.0             0.0                 0.0                 11790898.0       0.0                 310         120          38           JABAQUARA   15           JABAQUARA     275      Cidade Vargas  3550308005093  93           310120275  Outros                      Terreno                                                 Terreno                     38          2023"
      ]
     },
     "execution_count": 103,
     "metadata": {},
     "output_type": "execute_result"
    }
   ],
   "source": [
    "# df_iptu['distrito'] = df_iptu['ds_codigo'].astype('int')\n",
    "df_iptu['ano'] = df_iptu['ANO DO EXERCICIO'].astype('int')\n",
    "df_iptu.categorize('ano', inplace=True)"
   ]
  },
  {
   "cell_type": "code",
   "execution_count": null,
   "metadata": {},
   "outputs": [
    {
     "data": {
      "text/html": [
       "<table>\n",
       "<thead>\n",
       "<tr><th>#                                     </th><th>ANO DO EXERCICIO  </th><th>CODLOG DO IMOVEL  </th><th>ANO DA CONSTRUCAO CORRIGIDO  </th><th>QUANTIDADE DE PAVIMENTOS  </th><th>TESTADA PARA CALCULO  </th><th>TIPO DE USO DO IMOVEL    </th><th>TIPO DE PADRAO DA CONSTRUCAO   </th><th>FATOR DE OBSOLESCENCIA  </th><th>area_contruida_total  </th><th>NUMERO DO CONDOMINIO  </th><th>AREA CONSTRUIDA  </th><th>AREA OCUPADA  </th><th>AREA DO TERRENO  </th><th>sq    </th><th>sqlc        </th><th>fracao_ideal  </th><th>area_ocupada  </th><th>ca                </th><th>to                </th><th>valor_terreno  </th><th>valor_construcao  </th><th>qd_setor  </th><th>qd_fiscal  </th><th>ds_codigo  </th><th>ds_nome   </th><th>ds_cd_sub  </th><th>ds_subpref  </th><th>od_id  </th><th>od_nome      </th><th>COD_AED      </th><th>COD_AED_S  </th><th>sqod     </th><th>classificacao_abrangente  </th><th>tipo_de_uso         </th><th>padrao_de_uso  </th><th>classe_de_uso  </th><th>tipo_e_classe_de_uso      </th><th>distrito  </th><th>ano  </th><th>od  </th></tr>\n",
       "</thead>\n",
       "<tbody>\n",
       "<tr><td><i style='opacity: 0.6'>0</i>         </td><td>1995              </td><td>03812-1           </td><td>1924                         </td><td>1                         </td><td>13.0                  </td><td>loja                     </td><td>comercial horizontal - Padrão B</td><td>0.0                     </td><td>135                   </td><td>00-0                  </td><td>135              </td><td>0             </td><td>136              </td><td>001003</td><td>001003000100</td><td>1.0           </td><td>0.0           </td><td>0.9926470588235294</td><td>0.0               </td><td>13600.0        </td><td>17415.0           </td><td>001       </td><td>003        </td><td>9          </td><td>BOM RETIRO</td><td>09         </td><td>SE          </td><td>7      </td><td>Luz          </td><td>3550308005004</td><td>4          </td><td>001003007</td><td>Comercial                 </td><td>Comercial horizontal</td><td>B              </td><td>Baixo          </td><td>Comercial horizontal Baixo</td><td>9         </td><td>1995 </td><td>7   </td></tr>\n",
       "<tr><td><i style='opacity: 0.6'>1</i>         </td><td>1995              </td><td>03812-1           </td><td>1944                         </td><td>1                         </td><td>6.0                   </td><td>loja                     </td><td>comercial horizontal - Padrão A</td><td>0.0                     </td><td>67                    </td><td>00-0                  </td><td>67               </td><td>0             </td><td>90               </td><td>001003</td><td>001003000200</td><td>1.0           </td><td>0.0           </td><td>0.7444444444444445</td><td>0.0               </td><td>9000.0         </td><td>6298.0            </td><td>001       </td><td>003        </td><td>9          </td><td>BOM RETIRO</td><td>09         </td><td>SE          </td><td>7      </td><td>Luz          </td><td>3550308005004</td><td>4          </td><td>001003007</td><td>Comercial                 </td><td>Comercial horizontal</td><td>A              </td><td>Baixo          </td><td>Comercial horizontal Baixo</td><td>9         </td><td>1995 </td><td>7   </td></tr>\n",
       "<tr><td><i style='opacity: 0.6'>2</i>         </td><td>1995              </td><td>03812-1           </td><td>1944                         </td><td>1                         </td><td>8.0                   </td><td>loja                     </td><td>comercial horizontal - Padrão A</td><td>0.0                     </td><td>85                    </td><td>00-0                  </td><td>85               </td><td>0             </td><td>105              </td><td>001003</td><td>001003000300</td><td>1.0           </td><td>0.0           </td><td>0.8095238095238095</td><td>0.0               </td><td>10500.0        </td><td>7990.0            </td><td>001       </td><td>003        </td><td>9          </td><td>BOM RETIRO</td><td>09         </td><td>SE          </td><td>7      </td><td>Luz          </td><td>3550308005004</td><td>4          </td><td>001003007</td><td>Comercial                 </td><td>Comercial horizontal</td><td>A              </td><td>Baixo          </td><td>Comercial horizontal Baixo</td><td>9         </td><td>1995 </td><td>7   </td></tr>\n",
       "<tr><td><i style='opacity: 0.6'>3</i>         </td><td>1995              </td><td>03812-1           </td><td>1944                         </td><td>1                         </td><td>6.0                   </td><td>loja                     </td><td>comercial horizontal - Padrão B</td><td>0.0                     </td><td>103                   </td><td>00-0                  </td><td>103              </td><td>0             </td><td>108              </td><td>001003</td><td>001003000400</td><td>1.0           </td><td>0.0           </td><td>0.9537037037037037</td><td>0.0               </td><td>10800.0        </td><td>13287.0           </td><td>001       </td><td>003        </td><td>9          </td><td>BOM RETIRO</td><td>09         </td><td>SE          </td><td>7      </td><td>Luz          </td><td>3550308005004</td><td>4          </td><td>001003007</td><td>Comercial                 </td><td>Comercial horizontal</td><td>B              </td><td>Baixo          </td><td>Comercial horizontal Baixo</td><td>9         </td><td>1995 </td><td>7   </td></tr>\n",
       "<tr><td><i style='opacity: 0.6'>4</i>         </td><td>1995              </td><td>03812-1           </td><td>1944                         </td><td>1                         </td><td>7.0                   </td><td>loja                     </td><td>comercial horizontal - Padrão A</td><td>0.0                     </td><td>98                    </td><td>00-0                  </td><td>98               </td><td>0             </td><td>120              </td><td>001003</td><td>001003000500</td><td>1.0           </td><td>0.0           </td><td>0.8166666666666667</td><td>0.0               </td><td>12000.0        </td><td>9212.0            </td><td>001       </td><td>003        </td><td>9          </td><td>BOM RETIRO</td><td>09         </td><td>SE          </td><td>7      </td><td>Luz          </td><td>3550308005004</td><td>4          </td><td>001003007</td><td>Comercial                 </td><td>Comercial horizontal</td><td>A              </td><td>Baixo          </td><td>Comercial horizontal Baixo</td><td>9         </td><td>1995 </td><td>7   </td></tr>\n",
       "<tr><td>...                                   </td><td>...               </td><td>...               </td><td>...                          </td><td>...                       </td><td>...                   </td><td>...                      </td><td>...                            </td><td>...                     </td><td>...                   </td><td>...                   </td><td>...              </td><td>...           </td><td>...              </td><td>...   </td><td>...         </td><td>...           </td><td>...           </td><td>...               </td><td>...               </td><td>...            </td><td>...               </td><td>...       </td><td>...        </td><td>...        </td><td>...       </td><td>...        </td><td>...         </td><td>...    </td><td>...          </td><td>...          </td><td>...        </td><td>...      </td><td>...                       </td><td>...                 </td><td>...            </td><td>...            </td><td>...                       </td><td>...       </td><td>...  </td><td>... </td></tr>\n",
       "<tr><td><i style='opacity: 0.6'>85,961,430</i></td><td>2023              </td><td>02235-7           </td><td>1978                         </td><td>5                         </td><td>0.0                   </td><td>Apartamento em condomínio</td><td>Residencial vertical - padrão B</td><td>0.2                     </td><td>25215                 </td><td>01-9                  </td><td>84               </td><td>5312          </td><td>18041            </td><td>310118</td><td>310118000001</td><td>0.0033        </td><td>17.5296       </td><td>1.4109276345294306</td><td>0.2944404412172274</td><td>144492.1731    </td><td>177660.0          </td><td>310       </td><td>118        </td><td>38         </td><td>JABAQUARA </td><td>15         </td><td>JABAQUARA   </td><td>275    </td><td>Cidade Vargas</td><td>3550308005093</td><td>93         </td><td>310118275</td><td>Residencial               </td><td>Residencial vertical</td><td>B              </td><td>Baixo          </td><td>Residencial vertical Baixo</td><td>38        </td><td>2023 </td><td>275 </td></tr>\n",
       "<tr><td><i style='opacity: 0.6'>85,961,431</i></td><td>2023              </td><td>02235-7           </td><td>1978                         </td><td>5                         </td><td>0.0                   </td><td>Apartamento em condomínio</td><td>Residencial vertical - padrão B</td><td>0.2                     </td><td>25215                 </td><td>01-9                  </td><td>84               </td><td>5312          </td><td>18041            </td><td>310118</td><td>310118000001</td><td>0.0033        </td><td>17.5296       </td><td>1.4109276345294306</td><td>0.2944404412172274</td><td>144492.1731    </td><td>177660.0          </td><td>310       </td><td>118        </td><td>38         </td><td>JABAQUARA </td><td>15         </td><td>JABAQUARA   </td><td>275    </td><td>Cidade Vargas</td><td>3550308005093</td><td>93         </td><td>310118275</td><td>Residencial               </td><td>Residencial vertical</td><td>B              </td><td>Baixo          </td><td>Residencial vertical Baixo</td><td>38        </td><td>2023 </td><td>275 </td></tr>\n",
       "<tr><td><i style='opacity: 0.6'>85,961,432</i></td><td>2023              </td><td>02235-7           </td><td>1978                         </td><td>5                         </td><td>0.0                   </td><td>Apartamento em condomínio</td><td>Residencial vertical - padrão B</td><td>0.2                     </td><td>25215                 </td><td>01-9                  </td><td>84               </td><td>5312          </td><td>18041            </td><td>310118</td><td>310118000001</td><td>0.0033        </td><td>17.5296       </td><td>1.4109276345294306</td><td>0.2944404412172274</td><td>144492.1731    </td><td>177660.0          </td><td>310       </td><td>118        </td><td>38         </td><td>JABAQUARA </td><td>15         </td><td>JABAQUARA   </td><td>275    </td><td>Cidade Vargas</td><td>3550308005093</td><td>93         </td><td>310118275</td><td>Residencial               </td><td>Residencial vertical</td><td>B              </td><td>Baixo          </td><td>Residencial vertical Baixo</td><td>38        </td><td>2023 </td><td>275 </td></tr>\n",
       "<tr><td><i style='opacity: 0.6'>85,961,433</i></td><td>2023              </td><td>19137-0           </td><td>0                            </td><td>0                         </td><td>0.0                   </td><td>Terreno                  </td><td>TERRENO                        </td><td>0.0                     </td><td>0                     </td><td>00-0                  </td><td>0                </td><td>0             </td><td>18500            </td><td>310119</td><td>310119000100</td><td>1.0           </td><td>0.0           </td><td>0.0               </td><td>0.0               </td><td>41939500.0     </td><td>0.0               </td><td>310       </td><td>119        </td><td>38         </td><td>JABAQUARA </td><td>15         </td><td>JABAQUARA   </td><td>275    </td><td>Cidade Vargas</td><td>3550308005093</td><td>93         </td><td>310119275</td><td>Outros                    </td><td>Terreno             </td><td>               </td><td>               </td><td>Terreno                   </td><td>38        </td><td>2023 </td><td>275 </td></tr>\n",
       "<tr><td><i style='opacity: 0.6'>85,961,434</i></td><td>2023              </td><td>01041-3           </td><td>0                            </td><td>0                         </td><td>500.0                 </td><td>Terreno                  </td><td>TERRENO                        </td><td>0.0                     </td><td>0                     </td><td>00-0                  </td><td>0                </td><td>0             </td><td>18926            </td><td>310120</td><td>310120000100</td><td>1.0           </td><td>0.0           </td><td>0.0               </td><td>0.0               </td><td>11790898.0     </td><td>0.0               </td><td>310       </td><td>120        </td><td>38         </td><td>JABAQUARA </td><td>15         </td><td>JABAQUARA   </td><td>275    </td><td>Cidade Vargas</td><td>3550308005093</td><td>93         </td><td>310120275</td><td>Outros                    </td><td>Terreno             </td><td>               </td><td>               </td><td>Terreno                   </td><td>38        </td><td>2023 </td><td>275 </td></tr>\n",
       "</tbody>\n",
       "</table>"
      ],
      "text/plain": [
       "#           ANO DO EXERCICIO    CODLOG DO IMOVEL    ANO DA CONSTRUCAO CORRIGIDO    QUANTIDADE DE PAVIMENTOS    TESTADA PARA CALCULO    TIPO DE USO DO IMOVEL      TIPO DE PADRAO DA CONSTRUCAO     FATOR DE OBSOLESCENCIA    area_contruida_total    NUMERO DO CONDOMINIO    AREA CONSTRUIDA    AREA OCUPADA    AREA DO TERRENO    sq      sqlc          fracao_ideal    area_ocupada    ca                  to                  valor_terreno    valor_construcao    qd_setor    qd_fiscal    ds_codigo    ds_nome     ds_cd_sub    ds_subpref    od_id    od_nome        COD_AED        COD_AED_S    sqod       classificacao_abrangente    tipo_de_uso           padrao_de_uso    classe_de_uso    tipo_e_classe_de_uso        distrito    ano    od\n",
       "0           1995                03812-1             1924                           1                           13.0                    loja                       comercial horizontal - Padrão B  0.0                       135                     00-0                    135                0               136                001003  001003000100  1.0             0.0             0.9926470588235294  0.0                 13600.0          17415.0             001         003          9            BOM RETIRO  09           SE            7        Luz            3550308005004  4            001003007  Comercial                   Comercial horizontal  B                Baixo            Comercial horizontal Baixo  9           1995   7\n",
       "1           1995                03812-1             1944                           1                           6.0                     loja                       comercial horizontal - Padrão A  0.0                       67                      00-0                    67                 0               90                 001003  001003000200  1.0             0.0             0.7444444444444445  0.0                 9000.0           6298.0              001         003          9            BOM RETIRO  09           SE            7        Luz            3550308005004  4            001003007  Comercial                   Comercial horizontal  A                Baixo            Comercial horizontal Baixo  9           1995   7\n",
       "2           1995                03812-1             1944                           1                           8.0                     loja                       comercial horizontal - Padrão A  0.0                       85                      00-0                    85                 0               105                001003  001003000300  1.0             0.0             0.8095238095238095  0.0                 10500.0          7990.0              001         003          9            BOM RETIRO  09           SE            7        Luz            3550308005004  4            001003007  Comercial                   Comercial horizontal  A                Baixo            Comercial horizontal Baixo  9           1995   7\n",
       "3           1995                03812-1             1944                           1                           6.0                     loja                       comercial horizontal - Padrão B  0.0                       103                     00-0                    103                0               108                001003  001003000400  1.0             0.0             0.9537037037037037  0.0                 10800.0          13287.0             001         003          9            BOM RETIRO  09           SE            7        Luz            3550308005004  4            001003007  Comercial                   Comercial horizontal  B                Baixo            Comercial horizontal Baixo  9           1995   7\n",
       "4           1995                03812-1             1944                           1                           7.0                     loja                       comercial horizontal - Padrão A  0.0                       98                      00-0                    98                 0               120                001003  001003000500  1.0             0.0             0.8166666666666667  0.0                 12000.0          9212.0              001         003          9            BOM RETIRO  09           SE            7        Luz            3550308005004  4            001003007  Comercial                   Comercial horizontal  A                Baixo            Comercial horizontal Baixo  9           1995   7\n",
       "...         ...                 ...                 ...                            ...                         ...                     ...                        ...                              ...                       ...                     ...                     ...                ...             ...                ...     ...           ...             ...             ...                 ...                 ...              ...                 ...         ...          ...          ...         ...          ...           ...      ...            ...            ...          ...        ...                         ...                   ...              ...              ...                         ...         ...    ...\n",
       "85,961,430  2023                02235-7             1978                           5                           0.0                     Apartamento em condomínio  Residencial vertical - padrão B  0.2                       25215                   01-9                    84                 5312            18041              310118  310118000001  0.0033          17.5296         1.4109276345294306  0.2944404412172274  144492.1731      177660.0            310         118          38           JABAQUARA   15           JABAQUARA     275      Cidade Vargas  3550308005093  93           310118275  Residencial                 Residencial vertical  B                Baixo            Residencial vertical Baixo  38          2023   275\n",
       "85,961,431  2023                02235-7             1978                           5                           0.0                     Apartamento em condomínio  Residencial vertical - padrão B  0.2                       25215                   01-9                    84                 5312            18041              310118  310118000001  0.0033          17.5296         1.4109276345294306  0.2944404412172274  144492.1731      177660.0            310         118          38           JABAQUARA   15           JABAQUARA     275      Cidade Vargas  3550308005093  93           310118275  Residencial                 Residencial vertical  B                Baixo            Residencial vertical Baixo  38          2023   275\n",
       "85,961,432  2023                02235-7             1978                           5                           0.0                     Apartamento em condomínio  Residencial vertical - padrão B  0.2                       25215                   01-9                    84                 5312            18041              310118  310118000001  0.0033          17.5296         1.4109276345294306  0.2944404412172274  144492.1731      177660.0            310         118          38           JABAQUARA   15           JABAQUARA     275      Cidade Vargas  3550308005093  93           310118275  Residencial                 Residencial vertical  B                Baixo            Residencial vertical Baixo  38          2023   275\n",
       "85,961,433  2023                19137-0             0                              0                           0.0                     Terreno                    TERRENO                          0.0                       0                       00-0                    0                  0               18500              310119  310119000100  1.0             0.0             0.0                 0.0                 41939500.0       0.0                 310         119          38           JABAQUARA   15           JABAQUARA     275      Cidade Vargas  3550308005093  93           310119275  Outros                      Terreno                                                 Terreno                     38          2023   275\n",
       "85,961,434  2023                01041-3             0                              0                           500.0                   Terreno                    TERRENO                          0.0                       0                       00-0                    0                  0               18926              310120  310120000100  1.0             0.0             0.0                 0.0                 11790898.0       0.0                 310         120          38           JABAQUARA   15           JABAQUARA     275      Cidade Vargas  3550308005093  93           310120275  Outros                      Terreno                                                 Terreno                     38          2023   275"
      ]
     },
     "execution_count": 104,
     "metadata": {},
     "output_type": "execute_result"
    }
   ],
   "source": [
    "df_iptu.fillna(value='0', column_names=['od_id'], inplace=True)\n",
    "df_iptu['od'] = df_iptu['od_id'].astype('int')\n",
    "df_iptu.categorize('od', inplace=True)"
   ]
  },
  {
   "cell_type": "code",
   "execution_count": null,
   "metadata": {},
   "outputs": [
    {
     "data": {
      "text/plain": [
       "(85961435, 40)"
      ]
     },
     "execution_count": 105,
     "metadata": {},
     "output_type": "execute_result"
    }
   ],
   "source": [
    "df_iptu.shape"
   ]
  },
  {
   "cell_type": "code",
   "execution_count": null,
   "metadata": {},
   "outputs": [
    {
     "data": {
      "text/html": [
       "<table>\n",
       "<thead>\n",
       "<tr><th>#                                     </th><th>ANO DO EXERCICIO  </th><th>CODLOG DO IMOVEL  </th><th>ANO DA CONSTRUCAO CORRIGIDO  </th><th>QUANTIDADE DE PAVIMENTOS  </th><th>TESTADA PARA CALCULO  </th><th>TIPO DE USO DO IMOVEL    </th><th>TIPO DE PADRAO DA CONSTRUCAO   </th><th>FATOR DE OBSOLESCENCIA  </th><th>area_contruida_total  </th><th>NUMERO DO CONDOMINIO  </th><th>AREA CONSTRUIDA  </th><th>AREA OCUPADA  </th><th>AREA DO TERRENO  </th><th>sq    </th><th>sqlc        </th><th>fracao_ideal  </th><th>area_ocupada  </th><th>ca                </th><th>to                </th><th>valor_terreno  </th><th>valor_construcao  </th><th>qd_setor  </th><th>qd_fiscal  </th><th>ds_codigo  </th><th>ds_nome   </th><th>ds_cd_sub  </th><th>ds_subpref  </th><th>od_id  </th><th>od_nome      </th><th>COD_AED      </th><th>COD_AED_S  </th><th>sqod     </th><th>classificacao_abrangente  </th><th>tipo_de_uso         </th><th>padrao_de_uso  </th><th>classe_de_uso  </th><th>tipo_e_classe_de_uso      </th><th>distrito  </th><th>ano  </th><th>od  </th><th>subprefeitura  </th></tr>\n",
       "</thead>\n",
       "<tbody>\n",
       "<tr><td><i style='opacity: 0.6'>0</i>         </td><td>1995              </td><td>03812-1           </td><td>1924                         </td><td>1                         </td><td>13.0                  </td><td>loja                     </td><td>comercial horizontal - Padrão B</td><td>0.0                     </td><td>135                   </td><td>00-0                  </td><td>135              </td><td>0             </td><td>136              </td><td>001003</td><td>001003000100</td><td>1.0           </td><td>0.0           </td><td>0.9926470588235294</td><td>0.0               </td><td>13600.0        </td><td>17415.0           </td><td>001       </td><td>003        </td><td>9          </td><td>BOM RETIRO</td><td>09         </td><td>SE          </td><td>7      </td><td>Luz          </td><td>3550308005004</td><td>4          </td><td>001003007</td><td>Comercial                 </td><td>Comercial horizontal</td><td>B              </td><td>Baixo          </td><td>Comercial horizontal Baixo</td><td>9         </td><td>1995 </td><td>7   </td><td>9              </td></tr>\n",
       "<tr><td><i style='opacity: 0.6'>1</i>         </td><td>1995              </td><td>03812-1           </td><td>1944                         </td><td>1                         </td><td>6.0                   </td><td>loja                     </td><td>comercial horizontal - Padrão A</td><td>0.0                     </td><td>67                    </td><td>00-0                  </td><td>67               </td><td>0             </td><td>90               </td><td>001003</td><td>001003000200</td><td>1.0           </td><td>0.0           </td><td>0.7444444444444445</td><td>0.0               </td><td>9000.0         </td><td>6298.0            </td><td>001       </td><td>003        </td><td>9          </td><td>BOM RETIRO</td><td>09         </td><td>SE          </td><td>7      </td><td>Luz          </td><td>3550308005004</td><td>4          </td><td>001003007</td><td>Comercial                 </td><td>Comercial horizontal</td><td>A              </td><td>Baixo          </td><td>Comercial horizontal Baixo</td><td>9         </td><td>1995 </td><td>7   </td><td>9              </td></tr>\n",
       "<tr><td><i style='opacity: 0.6'>2</i>         </td><td>1995              </td><td>03812-1           </td><td>1944                         </td><td>1                         </td><td>8.0                   </td><td>loja                     </td><td>comercial horizontal - Padrão A</td><td>0.0                     </td><td>85                    </td><td>00-0                  </td><td>85               </td><td>0             </td><td>105              </td><td>001003</td><td>001003000300</td><td>1.0           </td><td>0.0           </td><td>0.8095238095238095</td><td>0.0               </td><td>10500.0        </td><td>7990.0            </td><td>001       </td><td>003        </td><td>9          </td><td>BOM RETIRO</td><td>09         </td><td>SE          </td><td>7      </td><td>Luz          </td><td>3550308005004</td><td>4          </td><td>001003007</td><td>Comercial                 </td><td>Comercial horizontal</td><td>A              </td><td>Baixo          </td><td>Comercial horizontal Baixo</td><td>9         </td><td>1995 </td><td>7   </td><td>9              </td></tr>\n",
       "<tr><td><i style='opacity: 0.6'>3</i>         </td><td>1995              </td><td>03812-1           </td><td>1944                         </td><td>1                         </td><td>6.0                   </td><td>loja                     </td><td>comercial horizontal - Padrão B</td><td>0.0                     </td><td>103                   </td><td>00-0                  </td><td>103              </td><td>0             </td><td>108              </td><td>001003</td><td>001003000400</td><td>1.0           </td><td>0.0           </td><td>0.9537037037037037</td><td>0.0               </td><td>10800.0        </td><td>13287.0           </td><td>001       </td><td>003        </td><td>9          </td><td>BOM RETIRO</td><td>09         </td><td>SE          </td><td>7      </td><td>Luz          </td><td>3550308005004</td><td>4          </td><td>001003007</td><td>Comercial                 </td><td>Comercial horizontal</td><td>B              </td><td>Baixo          </td><td>Comercial horizontal Baixo</td><td>9         </td><td>1995 </td><td>7   </td><td>9              </td></tr>\n",
       "<tr><td><i style='opacity: 0.6'>4</i>         </td><td>1995              </td><td>03812-1           </td><td>1944                         </td><td>1                         </td><td>7.0                   </td><td>loja                     </td><td>comercial horizontal - Padrão A</td><td>0.0                     </td><td>98                    </td><td>00-0                  </td><td>98               </td><td>0             </td><td>120              </td><td>001003</td><td>001003000500</td><td>1.0           </td><td>0.0           </td><td>0.8166666666666667</td><td>0.0               </td><td>12000.0        </td><td>9212.0            </td><td>001       </td><td>003        </td><td>9          </td><td>BOM RETIRO</td><td>09         </td><td>SE          </td><td>7      </td><td>Luz          </td><td>3550308005004</td><td>4          </td><td>001003007</td><td>Comercial                 </td><td>Comercial horizontal</td><td>A              </td><td>Baixo          </td><td>Comercial horizontal Baixo</td><td>9         </td><td>1995 </td><td>7   </td><td>9              </td></tr>\n",
       "<tr><td>...                                   </td><td>...               </td><td>...               </td><td>...                          </td><td>...                       </td><td>...                   </td><td>...                      </td><td>...                            </td><td>...                     </td><td>...                   </td><td>...                   </td><td>...              </td><td>...           </td><td>...              </td><td>...   </td><td>...         </td><td>...           </td><td>...           </td><td>...               </td><td>...               </td><td>...            </td><td>...               </td><td>...       </td><td>...        </td><td>...        </td><td>...       </td><td>...        </td><td>...         </td><td>...    </td><td>...          </td><td>...          </td><td>...        </td><td>...      </td><td>...                       </td><td>...                 </td><td>...            </td><td>...            </td><td>...                       </td><td>...       </td><td>...  </td><td>... </td><td>...            </td></tr>\n",
       "<tr><td><i style='opacity: 0.6'>85,961,430</i></td><td>2023              </td><td>02235-7           </td><td>1978                         </td><td>5                         </td><td>0.0                   </td><td>Apartamento em condomínio</td><td>Residencial vertical - padrão B</td><td>0.2                     </td><td>25215                 </td><td>01-9                  </td><td>84               </td><td>5312          </td><td>18041            </td><td>310118</td><td>310118000001</td><td>0.0033        </td><td>17.5296       </td><td>1.4109276345294306</td><td>0.2944404412172274</td><td>144492.1731    </td><td>177660.0          </td><td>310       </td><td>118        </td><td>38         </td><td>JABAQUARA </td><td>15         </td><td>JABAQUARA   </td><td>275    </td><td>Cidade Vargas</td><td>3550308005093</td><td>93         </td><td>310118275</td><td>Residencial               </td><td>Residencial vertical</td><td>B              </td><td>Baixo          </td><td>Residencial vertical Baixo</td><td>38        </td><td>2023 </td><td>275 </td><td>15             </td></tr>\n",
       "<tr><td><i style='opacity: 0.6'>85,961,431</i></td><td>2023              </td><td>02235-7           </td><td>1978                         </td><td>5                         </td><td>0.0                   </td><td>Apartamento em condomínio</td><td>Residencial vertical - padrão B</td><td>0.2                     </td><td>25215                 </td><td>01-9                  </td><td>84               </td><td>5312          </td><td>18041            </td><td>310118</td><td>310118000001</td><td>0.0033        </td><td>17.5296       </td><td>1.4109276345294306</td><td>0.2944404412172274</td><td>144492.1731    </td><td>177660.0          </td><td>310       </td><td>118        </td><td>38         </td><td>JABAQUARA </td><td>15         </td><td>JABAQUARA   </td><td>275    </td><td>Cidade Vargas</td><td>3550308005093</td><td>93         </td><td>310118275</td><td>Residencial               </td><td>Residencial vertical</td><td>B              </td><td>Baixo          </td><td>Residencial vertical Baixo</td><td>38        </td><td>2023 </td><td>275 </td><td>15             </td></tr>\n",
       "<tr><td><i style='opacity: 0.6'>85,961,432</i></td><td>2023              </td><td>02235-7           </td><td>1978                         </td><td>5                         </td><td>0.0                   </td><td>Apartamento em condomínio</td><td>Residencial vertical - padrão B</td><td>0.2                     </td><td>25215                 </td><td>01-9                  </td><td>84               </td><td>5312          </td><td>18041            </td><td>310118</td><td>310118000001</td><td>0.0033        </td><td>17.5296       </td><td>1.4109276345294306</td><td>0.2944404412172274</td><td>144492.1731    </td><td>177660.0          </td><td>310       </td><td>118        </td><td>38         </td><td>JABAQUARA </td><td>15         </td><td>JABAQUARA   </td><td>275    </td><td>Cidade Vargas</td><td>3550308005093</td><td>93         </td><td>310118275</td><td>Residencial               </td><td>Residencial vertical</td><td>B              </td><td>Baixo          </td><td>Residencial vertical Baixo</td><td>38        </td><td>2023 </td><td>275 </td><td>15             </td></tr>\n",
       "<tr><td><i style='opacity: 0.6'>85,961,433</i></td><td>2023              </td><td>19137-0           </td><td>0                            </td><td>0                         </td><td>0.0                   </td><td>Terreno                  </td><td>TERRENO                        </td><td>0.0                     </td><td>0                     </td><td>00-0                  </td><td>0                </td><td>0             </td><td>18500            </td><td>310119</td><td>310119000100</td><td>1.0           </td><td>0.0           </td><td>0.0               </td><td>0.0               </td><td>41939500.0     </td><td>0.0               </td><td>310       </td><td>119        </td><td>38         </td><td>JABAQUARA </td><td>15         </td><td>JABAQUARA   </td><td>275    </td><td>Cidade Vargas</td><td>3550308005093</td><td>93         </td><td>310119275</td><td>Outros                    </td><td>Terreno             </td><td>               </td><td>               </td><td>Terreno                   </td><td>38        </td><td>2023 </td><td>275 </td><td>15             </td></tr>\n",
       "<tr><td><i style='opacity: 0.6'>85,961,434</i></td><td>2023              </td><td>01041-3           </td><td>0                            </td><td>0                         </td><td>500.0                 </td><td>Terreno                  </td><td>TERRENO                        </td><td>0.0                     </td><td>0                     </td><td>00-0                  </td><td>0                </td><td>0             </td><td>18926            </td><td>310120</td><td>310120000100</td><td>1.0           </td><td>0.0           </td><td>0.0               </td><td>0.0               </td><td>11790898.0     </td><td>0.0               </td><td>310       </td><td>120        </td><td>38         </td><td>JABAQUARA </td><td>15         </td><td>JABAQUARA   </td><td>275    </td><td>Cidade Vargas</td><td>3550308005093</td><td>93         </td><td>310120275</td><td>Outros                    </td><td>Terreno             </td><td>               </td><td>               </td><td>Terreno                   </td><td>38        </td><td>2023 </td><td>275 </td><td>15             </td></tr>\n",
       "</tbody>\n",
       "</table>"
      ],
      "text/plain": [
       "#           ANO DO EXERCICIO    CODLOG DO IMOVEL    ANO DA CONSTRUCAO CORRIGIDO    QUANTIDADE DE PAVIMENTOS    TESTADA PARA CALCULO    TIPO DE USO DO IMOVEL      TIPO DE PADRAO DA CONSTRUCAO     FATOR DE OBSOLESCENCIA    area_contruida_total    NUMERO DO CONDOMINIO    AREA CONSTRUIDA    AREA OCUPADA    AREA DO TERRENO    sq      sqlc          fracao_ideal    area_ocupada    ca                  to                  valor_terreno    valor_construcao    qd_setor    qd_fiscal    ds_codigo    ds_nome     ds_cd_sub    ds_subpref    od_id    od_nome        COD_AED        COD_AED_S    sqod       classificacao_abrangente    tipo_de_uso           padrao_de_uso    classe_de_uso    tipo_e_classe_de_uso        distrito    ano    od    subprefeitura\n",
       "0           1995                03812-1             1924                           1                           13.0                    loja                       comercial horizontal - Padrão B  0.0                       135                     00-0                    135                0               136                001003  001003000100  1.0             0.0             0.9926470588235294  0.0                 13600.0          17415.0             001         003          9            BOM RETIRO  09           SE            7        Luz            3550308005004  4            001003007  Comercial                   Comercial horizontal  B                Baixo            Comercial horizontal Baixo  9           1995   7     9\n",
       "1           1995                03812-1             1944                           1                           6.0                     loja                       comercial horizontal - Padrão A  0.0                       67                      00-0                    67                 0               90                 001003  001003000200  1.0             0.0             0.7444444444444445  0.0                 9000.0           6298.0              001         003          9            BOM RETIRO  09           SE            7        Luz            3550308005004  4            001003007  Comercial                   Comercial horizontal  A                Baixo            Comercial horizontal Baixo  9           1995   7     9\n",
       "2           1995                03812-1             1944                           1                           8.0                     loja                       comercial horizontal - Padrão A  0.0                       85                      00-0                    85                 0               105                001003  001003000300  1.0             0.0             0.8095238095238095  0.0                 10500.0          7990.0              001         003          9            BOM RETIRO  09           SE            7        Luz            3550308005004  4            001003007  Comercial                   Comercial horizontal  A                Baixo            Comercial horizontal Baixo  9           1995   7     9\n",
       "3           1995                03812-1             1944                           1                           6.0                     loja                       comercial horizontal - Padrão B  0.0                       103                     00-0                    103                0               108                001003  001003000400  1.0             0.0             0.9537037037037037  0.0                 10800.0          13287.0             001         003          9            BOM RETIRO  09           SE            7        Luz            3550308005004  4            001003007  Comercial                   Comercial horizontal  B                Baixo            Comercial horizontal Baixo  9           1995   7     9\n",
       "4           1995                03812-1             1944                           1                           7.0                     loja                       comercial horizontal - Padrão A  0.0                       98                      00-0                    98                 0               120                001003  001003000500  1.0             0.0             0.8166666666666667  0.0                 12000.0          9212.0              001         003          9            BOM RETIRO  09           SE            7        Luz            3550308005004  4            001003007  Comercial                   Comercial horizontal  A                Baixo            Comercial horizontal Baixo  9           1995   7     9\n",
       "...         ...                 ...                 ...                            ...                         ...                     ...                        ...                              ...                       ...                     ...                     ...                ...             ...                ...     ...           ...             ...             ...                 ...                 ...              ...                 ...         ...          ...          ...         ...          ...           ...      ...            ...            ...          ...        ...                         ...                   ...              ...              ...                         ...         ...    ...   ...\n",
       "85,961,430  2023                02235-7             1978                           5                           0.0                     Apartamento em condomínio  Residencial vertical - padrão B  0.2                       25215                   01-9                    84                 5312            18041              310118  310118000001  0.0033          17.5296         1.4109276345294306  0.2944404412172274  144492.1731      177660.0            310         118          38           JABAQUARA   15           JABAQUARA     275      Cidade Vargas  3550308005093  93           310118275  Residencial                 Residencial vertical  B                Baixo            Residencial vertical Baixo  38          2023   275   15\n",
       "85,961,431  2023                02235-7             1978                           5                           0.0                     Apartamento em condomínio  Residencial vertical - padrão B  0.2                       25215                   01-9                    84                 5312            18041              310118  310118000001  0.0033          17.5296         1.4109276345294306  0.2944404412172274  144492.1731      177660.0            310         118          38           JABAQUARA   15           JABAQUARA     275      Cidade Vargas  3550308005093  93           310118275  Residencial                 Residencial vertical  B                Baixo            Residencial vertical Baixo  38          2023   275   15\n",
       "85,961,432  2023                02235-7             1978                           5                           0.0                     Apartamento em condomínio  Residencial vertical - padrão B  0.2                       25215                   01-9                    84                 5312            18041              310118  310118000001  0.0033          17.5296         1.4109276345294306  0.2944404412172274  144492.1731      177660.0            310         118          38           JABAQUARA   15           JABAQUARA     275      Cidade Vargas  3550308005093  93           310118275  Residencial                 Residencial vertical  B                Baixo            Residencial vertical Baixo  38          2023   275   15\n",
       "85,961,433  2023                19137-0             0                              0                           0.0                     Terreno                    TERRENO                          0.0                       0                       00-0                    0                  0               18500              310119  310119000100  1.0             0.0             0.0                 0.0                 41939500.0       0.0                 310         119          38           JABAQUARA   15           JABAQUARA     275      Cidade Vargas  3550308005093  93           310119275  Outros                      Terreno                                                 Terreno                     38          2023   275   15\n",
       "85,961,434  2023                01041-3             0                              0                           500.0                   Terreno                    TERRENO                          0.0                       0                       00-0                    0                  0               18926              310120  310120000100  1.0             0.0             0.0                 0.0                 11790898.0       0.0                 310         120          38           JABAQUARA   15           JABAQUARA     275      Cidade Vargas  3550308005093  93           310120275  Outros                      Terreno                                                 Terreno                     38          2023   275   15"
      ]
     },
     "execution_count": 106,
     "metadata": {},
     "output_type": "execute_result"
    }
   ],
   "source": [
    "df_iptu.fillna(value='0', column_names=['ds_cd_sub'], inplace=True)\n",
    "df_iptu['subprefeitura'] = df_iptu['ds_cd_sub'].astype('int')\n",
    "df_iptu.categorize('subprefeitura', inplace=True)"
   ]
  },
  {
   "cell_type": "code",
   "execution_count": null,
   "metadata": {},
   "outputs": [
    {
     "data": {
      "text/html": [
       "<table>\n",
       "<thead>\n",
       "<tr><th>#                                     </th><th>ANO DO EXERCICIO  </th><th>CODLOG DO IMOVEL  </th><th>ANO DA CONSTRUCAO CORRIGIDO  </th><th>QUANTIDADE DE PAVIMENTOS  </th><th>TESTADA PARA CALCULO  </th><th>TIPO DE USO DO IMOVEL    </th><th>TIPO DE PADRAO DA CONSTRUCAO   </th><th>FATOR DE OBSOLESCENCIA  </th><th>area_contruida_total  </th><th>NUMERO DO CONDOMINIO  </th><th>AREA CONSTRUIDA  </th><th>AREA OCUPADA  </th><th>AREA DO TERRENO  </th><th>sq    </th><th>sqlc        </th><th>fracao_ideal  </th><th>area_ocupada  </th><th>ca                </th><th>to                </th><th>valor_terreno  </th><th>valor_construcao  </th><th>qd_setor  </th><th>qd_fiscal  </th><th>ds_codigo  </th><th>ds_nome   </th><th>ds_cd_sub  </th><th>ds_subpref  </th><th>od_id  </th><th>od_nome      </th><th>COD_AED      </th><th>COD_AED_S  </th><th>sqod     </th><th>classificacao_abrangente  </th><th>tipo_de_uso         </th><th>padrao_de_uso  </th><th>classe_de_uso  </th><th>tipo_e_classe_de_uso      </th><th>distrito  </th><th>ano  </th><th>od  </th><th>subprefeitura  </th><th>censo  </th></tr>\n",
       "</thead>\n",
       "<tbody>\n",
       "<tr><td><i style='opacity: 0.6'>0</i>         </td><td>1995              </td><td>03812-1           </td><td>1924                         </td><td>1                         </td><td>13.0                  </td><td>loja                     </td><td>comercial horizontal - Padrão B</td><td>0.0                     </td><td>135                   </td><td>00-0                  </td><td>135              </td><td>0             </td><td>136              </td><td>001003</td><td>001003000100</td><td>1.0           </td><td>0.0           </td><td>0.9926470588235294</td><td>0.0               </td><td>13600.0        </td><td>17415.0           </td><td>001       </td><td>003        </td><td>9          </td><td>BOM RETIRO</td><td>09         </td><td>SE          </td><td>7      </td><td>Luz          </td><td>3550308005004</td><td>4          </td><td>001003007</td><td>Comercial                 </td><td>Comercial horizontal</td><td>B              </td><td>Baixo          </td><td>Comercial horizontal Baixo</td><td>9         </td><td>1995 </td><td>7   </td><td>9              </td><td>4      </td></tr>\n",
       "<tr><td><i style='opacity: 0.6'>1</i>         </td><td>1995              </td><td>03812-1           </td><td>1944                         </td><td>1                         </td><td>6.0                   </td><td>loja                     </td><td>comercial horizontal - Padrão A</td><td>0.0                     </td><td>67                    </td><td>00-0                  </td><td>67               </td><td>0             </td><td>90               </td><td>001003</td><td>001003000200</td><td>1.0           </td><td>0.0           </td><td>0.7444444444444445</td><td>0.0               </td><td>9000.0         </td><td>6298.0            </td><td>001       </td><td>003        </td><td>9          </td><td>BOM RETIRO</td><td>09         </td><td>SE          </td><td>7      </td><td>Luz          </td><td>3550308005004</td><td>4          </td><td>001003007</td><td>Comercial                 </td><td>Comercial horizontal</td><td>A              </td><td>Baixo          </td><td>Comercial horizontal Baixo</td><td>9         </td><td>1995 </td><td>7   </td><td>9              </td><td>4      </td></tr>\n",
       "<tr><td><i style='opacity: 0.6'>2</i>         </td><td>1995              </td><td>03812-1           </td><td>1944                         </td><td>1                         </td><td>8.0                   </td><td>loja                     </td><td>comercial horizontal - Padrão A</td><td>0.0                     </td><td>85                    </td><td>00-0                  </td><td>85               </td><td>0             </td><td>105              </td><td>001003</td><td>001003000300</td><td>1.0           </td><td>0.0           </td><td>0.8095238095238095</td><td>0.0               </td><td>10500.0        </td><td>7990.0            </td><td>001       </td><td>003        </td><td>9          </td><td>BOM RETIRO</td><td>09         </td><td>SE          </td><td>7      </td><td>Luz          </td><td>3550308005004</td><td>4          </td><td>001003007</td><td>Comercial                 </td><td>Comercial horizontal</td><td>A              </td><td>Baixo          </td><td>Comercial horizontal Baixo</td><td>9         </td><td>1995 </td><td>7   </td><td>9              </td><td>4      </td></tr>\n",
       "<tr><td><i style='opacity: 0.6'>3</i>         </td><td>1995              </td><td>03812-1           </td><td>1944                         </td><td>1                         </td><td>6.0                   </td><td>loja                     </td><td>comercial horizontal - Padrão B</td><td>0.0                     </td><td>103                   </td><td>00-0                  </td><td>103              </td><td>0             </td><td>108              </td><td>001003</td><td>001003000400</td><td>1.0           </td><td>0.0           </td><td>0.9537037037037037</td><td>0.0               </td><td>10800.0        </td><td>13287.0           </td><td>001       </td><td>003        </td><td>9          </td><td>BOM RETIRO</td><td>09         </td><td>SE          </td><td>7      </td><td>Luz          </td><td>3550308005004</td><td>4          </td><td>001003007</td><td>Comercial                 </td><td>Comercial horizontal</td><td>B              </td><td>Baixo          </td><td>Comercial horizontal Baixo</td><td>9         </td><td>1995 </td><td>7   </td><td>9              </td><td>4      </td></tr>\n",
       "<tr><td><i style='opacity: 0.6'>4</i>         </td><td>1995              </td><td>03812-1           </td><td>1944                         </td><td>1                         </td><td>7.0                   </td><td>loja                     </td><td>comercial horizontal - Padrão A</td><td>0.0                     </td><td>98                    </td><td>00-0                  </td><td>98               </td><td>0             </td><td>120              </td><td>001003</td><td>001003000500</td><td>1.0           </td><td>0.0           </td><td>0.8166666666666667</td><td>0.0               </td><td>12000.0        </td><td>9212.0            </td><td>001       </td><td>003        </td><td>9          </td><td>BOM RETIRO</td><td>09         </td><td>SE          </td><td>7      </td><td>Luz          </td><td>3550308005004</td><td>4          </td><td>001003007</td><td>Comercial                 </td><td>Comercial horizontal</td><td>A              </td><td>Baixo          </td><td>Comercial horizontal Baixo</td><td>9         </td><td>1995 </td><td>7   </td><td>9              </td><td>4      </td></tr>\n",
       "<tr><td>...                                   </td><td>...               </td><td>...               </td><td>...                          </td><td>...                       </td><td>...                   </td><td>...                      </td><td>...                            </td><td>...                     </td><td>...                   </td><td>...                   </td><td>...              </td><td>...           </td><td>...              </td><td>...   </td><td>...         </td><td>...           </td><td>...           </td><td>...               </td><td>...               </td><td>...            </td><td>...               </td><td>...       </td><td>...        </td><td>...        </td><td>...       </td><td>...        </td><td>...         </td><td>...    </td><td>...          </td><td>...          </td><td>...        </td><td>...      </td><td>...                       </td><td>...                 </td><td>...            </td><td>...            </td><td>...                       </td><td>...       </td><td>...  </td><td>... </td><td>...            </td><td>...    </td></tr>\n",
       "<tr><td><i style='opacity: 0.6'>85,961,430</i></td><td>2023              </td><td>02235-7           </td><td>1978                         </td><td>5                         </td><td>0.0                   </td><td>Apartamento em condomínio</td><td>Residencial vertical - padrão B</td><td>0.2                     </td><td>25215                 </td><td>01-9                  </td><td>84               </td><td>5312          </td><td>18041            </td><td>310118</td><td>310118000001</td><td>0.0033        </td><td>17.5296       </td><td>1.4109276345294306</td><td>0.2944404412172274</td><td>144492.1731    </td><td>177660.0          </td><td>310       </td><td>118        </td><td>38         </td><td>JABAQUARA </td><td>15         </td><td>JABAQUARA   </td><td>275    </td><td>Cidade Vargas</td><td>3550308005093</td><td>93         </td><td>310118275</td><td>Residencial               </td><td>Residencial vertical</td><td>B              </td><td>Baixo          </td><td>Residencial vertical Baixo</td><td>38        </td><td>2023 </td><td>275 </td><td>15             </td><td>93     </td></tr>\n",
       "<tr><td><i style='opacity: 0.6'>85,961,431</i></td><td>2023              </td><td>02235-7           </td><td>1978                         </td><td>5                         </td><td>0.0                   </td><td>Apartamento em condomínio</td><td>Residencial vertical - padrão B</td><td>0.2                     </td><td>25215                 </td><td>01-9                  </td><td>84               </td><td>5312          </td><td>18041            </td><td>310118</td><td>310118000001</td><td>0.0033        </td><td>17.5296       </td><td>1.4109276345294306</td><td>0.2944404412172274</td><td>144492.1731    </td><td>177660.0          </td><td>310       </td><td>118        </td><td>38         </td><td>JABAQUARA </td><td>15         </td><td>JABAQUARA   </td><td>275    </td><td>Cidade Vargas</td><td>3550308005093</td><td>93         </td><td>310118275</td><td>Residencial               </td><td>Residencial vertical</td><td>B              </td><td>Baixo          </td><td>Residencial vertical Baixo</td><td>38        </td><td>2023 </td><td>275 </td><td>15             </td><td>93     </td></tr>\n",
       "<tr><td><i style='opacity: 0.6'>85,961,432</i></td><td>2023              </td><td>02235-7           </td><td>1978                         </td><td>5                         </td><td>0.0                   </td><td>Apartamento em condomínio</td><td>Residencial vertical - padrão B</td><td>0.2                     </td><td>25215                 </td><td>01-9                  </td><td>84               </td><td>5312          </td><td>18041            </td><td>310118</td><td>310118000001</td><td>0.0033        </td><td>17.5296       </td><td>1.4109276345294306</td><td>0.2944404412172274</td><td>144492.1731    </td><td>177660.0          </td><td>310       </td><td>118        </td><td>38         </td><td>JABAQUARA </td><td>15         </td><td>JABAQUARA   </td><td>275    </td><td>Cidade Vargas</td><td>3550308005093</td><td>93         </td><td>310118275</td><td>Residencial               </td><td>Residencial vertical</td><td>B              </td><td>Baixo          </td><td>Residencial vertical Baixo</td><td>38        </td><td>2023 </td><td>275 </td><td>15             </td><td>93     </td></tr>\n",
       "<tr><td><i style='opacity: 0.6'>85,961,433</i></td><td>2023              </td><td>19137-0           </td><td>0                            </td><td>0                         </td><td>0.0                   </td><td>Terreno                  </td><td>TERRENO                        </td><td>0.0                     </td><td>0                     </td><td>00-0                  </td><td>0                </td><td>0             </td><td>18500            </td><td>310119</td><td>310119000100</td><td>1.0           </td><td>0.0           </td><td>0.0               </td><td>0.0               </td><td>41939500.0     </td><td>0.0               </td><td>310       </td><td>119        </td><td>38         </td><td>JABAQUARA </td><td>15         </td><td>JABAQUARA   </td><td>275    </td><td>Cidade Vargas</td><td>3550308005093</td><td>93         </td><td>310119275</td><td>Outros                    </td><td>Terreno             </td><td>               </td><td>               </td><td>Terreno                   </td><td>38        </td><td>2023 </td><td>275 </td><td>15             </td><td>93     </td></tr>\n",
       "<tr><td><i style='opacity: 0.6'>85,961,434</i></td><td>2023              </td><td>01041-3           </td><td>0                            </td><td>0                         </td><td>500.0                 </td><td>Terreno                  </td><td>TERRENO                        </td><td>0.0                     </td><td>0                     </td><td>00-0                  </td><td>0                </td><td>0             </td><td>18926            </td><td>310120</td><td>310120000100</td><td>1.0           </td><td>0.0           </td><td>0.0               </td><td>0.0               </td><td>11790898.0     </td><td>0.0               </td><td>310       </td><td>120        </td><td>38         </td><td>JABAQUARA </td><td>15         </td><td>JABAQUARA   </td><td>275    </td><td>Cidade Vargas</td><td>3550308005093</td><td>93         </td><td>310120275</td><td>Outros                    </td><td>Terreno             </td><td>               </td><td>               </td><td>Terreno                   </td><td>38        </td><td>2023 </td><td>275 </td><td>15             </td><td>93     </td></tr>\n",
       "</tbody>\n",
       "</table>"
      ],
      "text/plain": [
       "#           ANO DO EXERCICIO    CODLOG DO IMOVEL    ANO DA CONSTRUCAO CORRIGIDO    QUANTIDADE DE PAVIMENTOS    TESTADA PARA CALCULO    TIPO DE USO DO IMOVEL      TIPO DE PADRAO DA CONSTRUCAO     FATOR DE OBSOLESCENCIA    area_contruida_total    NUMERO DO CONDOMINIO    AREA CONSTRUIDA    AREA OCUPADA    AREA DO TERRENO    sq      sqlc          fracao_ideal    area_ocupada    ca                  to                  valor_terreno    valor_construcao    qd_setor    qd_fiscal    ds_codigo    ds_nome     ds_cd_sub    ds_subpref    od_id    od_nome        COD_AED        COD_AED_S    sqod       classificacao_abrangente    tipo_de_uso           padrao_de_uso    classe_de_uso    tipo_e_classe_de_uso        distrito    ano    od    subprefeitura    censo\n",
       "0           1995                03812-1             1924                           1                           13.0                    loja                       comercial horizontal - Padrão B  0.0                       135                     00-0                    135                0               136                001003  001003000100  1.0             0.0             0.9926470588235294  0.0                 13600.0          17415.0             001         003          9            BOM RETIRO  09           SE            7        Luz            3550308005004  4            001003007  Comercial                   Comercial horizontal  B                Baixo            Comercial horizontal Baixo  9           1995   7     9                4\n",
       "1           1995                03812-1             1944                           1                           6.0                     loja                       comercial horizontal - Padrão A  0.0                       67                      00-0                    67                 0               90                 001003  001003000200  1.0             0.0             0.7444444444444445  0.0                 9000.0           6298.0              001         003          9            BOM RETIRO  09           SE            7        Luz            3550308005004  4            001003007  Comercial                   Comercial horizontal  A                Baixo            Comercial horizontal Baixo  9           1995   7     9                4\n",
       "2           1995                03812-1             1944                           1                           8.0                     loja                       comercial horizontal - Padrão A  0.0                       85                      00-0                    85                 0               105                001003  001003000300  1.0             0.0             0.8095238095238095  0.0                 10500.0          7990.0              001         003          9            BOM RETIRO  09           SE            7        Luz            3550308005004  4            001003007  Comercial                   Comercial horizontal  A                Baixo            Comercial horizontal Baixo  9           1995   7     9                4\n",
       "3           1995                03812-1             1944                           1                           6.0                     loja                       comercial horizontal - Padrão B  0.0                       103                     00-0                    103                0               108                001003  001003000400  1.0             0.0             0.9537037037037037  0.0                 10800.0          13287.0             001         003          9            BOM RETIRO  09           SE            7        Luz            3550308005004  4            001003007  Comercial                   Comercial horizontal  B                Baixo            Comercial horizontal Baixo  9           1995   7     9                4\n",
       "4           1995                03812-1             1944                           1                           7.0                     loja                       comercial horizontal - Padrão A  0.0                       98                      00-0                    98                 0               120                001003  001003000500  1.0             0.0             0.8166666666666667  0.0                 12000.0          9212.0              001         003          9            BOM RETIRO  09           SE            7        Luz            3550308005004  4            001003007  Comercial                   Comercial horizontal  A                Baixo            Comercial horizontal Baixo  9           1995   7     9                4\n",
       "...         ...                 ...                 ...                            ...                         ...                     ...                        ...                              ...                       ...                     ...                     ...                ...             ...                ...     ...           ...             ...             ...                 ...                 ...              ...                 ...         ...          ...          ...         ...          ...           ...      ...            ...            ...          ...        ...                         ...                   ...              ...              ...                         ...         ...    ...   ...              ...\n",
       "85,961,430  2023                02235-7             1978                           5                           0.0                     Apartamento em condomínio  Residencial vertical - padrão B  0.2                       25215                   01-9                    84                 5312            18041              310118  310118000001  0.0033          17.5296         1.4109276345294306  0.2944404412172274  144492.1731      177660.0            310         118          38           JABAQUARA   15           JABAQUARA     275      Cidade Vargas  3550308005093  93           310118275  Residencial                 Residencial vertical  B                Baixo            Residencial vertical Baixo  38          2023   275   15               93\n",
       "85,961,431  2023                02235-7             1978                           5                           0.0                     Apartamento em condomínio  Residencial vertical - padrão B  0.2                       25215                   01-9                    84                 5312            18041              310118  310118000001  0.0033          17.5296         1.4109276345294306  0.2944404412172274  144492.1731      177660.0            310         118          38           JABAQUARA   15           JABAQUARA     275      Cidade Vargas  3550308005093  93           310118275  Residencial                 Residencial vertical  B                Baixo            Residencial vertical Baixo  38          2023   275   15               93\n",
       "85,961,432  2023                02235-7             1978                           5                           0.0                     Apartamento em condomínio  Residencial vertical - padrão B  0.2                       25215                   01-9                    84                 5312            18041              310118  310118000001  0.0033          17.5296         1.4109276345294306  0.2944404412172274  144492.1731      177660.0            310         118          38           JABAQUARA   15           JABAQUARA     275      Cidade Vargas  3550308005093  93           310118275  Residencial                 Residencial vertical  B                Baixo            Residencial vertical Baixo  38          2023   275   15               93\n",
       "85,961,433  2023                19137-0             0                              0                           0.0                     Terreno                    TERRENO                          0.0                       0                       00-0                    0                  0               18500              310119  310119000100  1.0             0.0             0.0                 0.0                 41939500.0       0.0                 310         119          38           JABAQUARA   15           JABAQUARA     275      Cidade Vargas  3550308005093  93           310119275  Outros                      Terreno                                                 Terreno                     38          2023   275   15               93\n",
       "85,961,434  2023                01041-3             0                              0                           500.0                   Terreno                    TERRENO                          0.0                       0                       00-0                    0                  0               18926              310120  310120000100  1.0             0.0             0.0                 0.0                 11790898.0       0.0                 310         120          38           JABAQUARA   15           JABAQUARA     275      Cidade Vargas  3550308005093  93           310120275  Outros                      Terreno                                                 Terreno                     38          2023   275   15               93"
      ]
     },
     "execution_count": 107,
     "metadata": {},
     "output_type": "execute_result"
    }
   ],
   "source": [
    "df_iptu.fillna(value='0', column_names=['COD_AED_S'], inplace=True)\n",
    "df_iptu['censo'] = df_iptu['COD_AED_S'].astype('int')\n",
    "df_iptu.categorize('censo', inplace=True)"
   ]
  },
  {
   "cell_type": "code",
   "execution_count": null,
   "metadata": {},
   "outputs": [
    {
     "data": {
      "text/html": [
       "<table>\n",
       "<thead>\n",
       "<tr><th>#                                     </th><th>ANO DO EXERCICIO  </th><th>CODLOG DO IMOVEL  </th><th>ANO DA CONSTRUCAO CORRIGIDO  </th><th>QUANTIDADE DE PAVIMENTOS  </th><th>TESTADA PARA CALCULO  </th><th>TIPO DE USO DO IMOVEL    </th><th>FATOR DE OBSOLESCENCIA  </th><th>area_contruida_total  </th><th>NUMERO DO CONDOMINIO  </th><th>AREA CONSTRUIDA  </th><th>AREA OCUPADA  </th><th>AREA DO TERRENO  </th><th>sq    </th><th>sqlc        </th><th>fracao_ideal  </th><th>area_ocupada  </th><th>ca                </th><th>to                </th><th>valor_terreno  </th><th>valor_construcao  </th><th>qd_setor  </th><th>qd_fiscal  </th><th>ds_codigo  </th><th>ds_nome   </th><th>ds_cd_sub  </th><th>ds_subpref  </th><th>od_id  </th><th>od_nome      </th><th>COD_AED      </th><th>COD_AED_S  </th><th>sqod     </th><th>classificacao_abrangente  </th><th>tipo_de_uso         </th><th>padrao_de_uso  </th><th>classe_de_uso  </th><th>tipo_e_classe_de_uso      </th><th>distrito  </th><th>ano  </th><th>od  </th><th>subprefeitura  </th><th>censo  </th></tr>\n",
       "</thead>\n",
       "<tbody>\n",
       "<tr><td><i style='opacity: 0.6'>0</i>         </td><td>1995              </td><td>03812-1           </td><td>1924                         </td><td>1                         </td><td>13.0                  </td><td>loja                     </td><td>0.0                     </td><td>135                   </td><td>00-0                  </td><td>135              </td><td>0             </td><td>136              </td><td>001003</td><td>001003000100</td><td>1.0           </td><td>0.0           </td><td>0.9926470588235294</td><td>0.0               </td><td>13600.0        </td><td>17415.0           </td><td>001       </td><td>003        </td><td>9          </td><td>BOM RETIRO</td><td>09         </td><td>SE          </td><td>7      </td><td>Luz          </td><td>3550308005004</td><td>4          </td><td>001003007</td><td>Comercial                 </td><td>Comercial horizontal</td><td>B              </td><td>Baixo          </td><td>Comercial horizontal Baixo</td><td>9         </td><td>1995 </td><td>7   </td><td>9              </td><td>4      </td></tr>\n",
       "<tr><td><i style='opacity: 0.6'>1</i>         </td><td>1995              </td><td>03812-1           </td><td>1944                         </td><td>1                         </td><td>6.0                   </td><td>loja                     </td><td>0.0                     </td><td>67                    </td><td>00-0                  </td><td>67               </td><td>0             </td><td>90               </td><td>001003</td><td>001003000200</td><td>1.0           </td><td>0.0           </td><td>0.7444444444444445</td><td>0.0               </td><td>9000.0         </td><td>6298.0            </td><td>001       </td><td>003        </td><td>9          </td><td>BOM RETIRO</td><td>09         </td><td>SE          </td><td>7      </td><td>Luz          </td><td>3550308005004</td><td>4          </td><td>001003007</td><td>Comercial                 </td><td>Comercial horizontal</td><td>A              </td><td>Baixo          </td><td>Comercial horizontal Baixo</td><td>9         </td><td>1995 </td><td>7   </td><td>9              </td><td>4      </td></tr>\n",
       "<tr><td><i style='opacity: 0.6'>2</i>         </td><td>1995              </td><td>03812-1           </td><td>1944                         </td><td>1                         </td><td>8.0                   </td><td>loja                     </td><td>0.0                     </td><td>85                    </td><td>00-0                  </td><td>85               </td><td>0             </td><td>105              </td><td>001003</td><td>001003000300</td><td>1.0           </td><td>0.0           </td><td>0.8095238095238095</td><td>0.0               </td><td>10500.0        </td><td>7990.0            </td><td>001       </td><td>003        </td><td>9          </td><td>BOM RETIRO</td><td>09         </td><td>SE          </td><td>7      </td><td>Luz          </td><td>3550308005004</td><td>4          </td><td>001003007</td><td>Comercial                 </td><td>Comercial horizontal</td><td>A              </td><td>Baixo          </td><td>Comercial horizontal Baixo</td><td>9         </td><td>1995 </td><td>7   </td><td>9              </td><td>4      </td></tr>\n",
       "<tr><td><i style='opacity: 0.6'>3</i>         </td><td>1995              </td><td>03812-1           </td><td>1944                         </td><td>1                         </td><td>6.0                   </td><td>loja                     </td><td>0.0                     </td><td>103                   </td><td>00-0                  </td><td>103              </td><td>0             </td><td>108              </td><td>001003</td><td>001003000400</td><td>1.0           </td><td>0.0           </td><td>0.9537037037037037</td><td>0.0               </td><td>10800.0        </td><td>13287.0           </td><td>001       </td><td>003        </td><td>9          </td><td>BOM RETIRO</td><td>09         </td><td>SE          </td><td>7      </td><td>Luz          </td><td>3550308005004</td><td>4          </td><td>001003007</td><td>Comercial                 </td><td>Comercial horizontal</td><td>B              </td><td>Baixo          </td><td>Comercial horizontal Baixo</td><td>9         </td><td>1995 </td><td>7   </td><td>9              </td><td>4      </td></tr>\n",
       "<tr><td><i style='opacity: 0.6'>4</i>         </td><td>1995              </td><td>03812-1           </td><td>1944                         </td><td>1                         </td><td>7.0                   </td><td>loja                     </td><td>0.0                     </td><td>98                    </td><td>00-0                  </td><td>98               </td><td>0             </td><td>120              </td><td>001003</td><td>001003000500</td><td>1.0           </td><td>0.0           </td><td>0.8166666666666667</td><td>0.0               </td><td>12000.0        </td><td>9212.0            </td><td>001       </td><td>003        </td><td>9          </td><td>BOM RETIRO</td><td>09         </td><td>SE          </td><td>7      </td><td>Luz          </td><td>3550308005004</td><td>4          </td><td>001003007</td><td>Comercial                 </td><td>Comercial horizontal</td><td>A              </td><td>Baixo          </td><td>Comercial horizontal Baixo</td><td>9         </td><td>1995 </td><td>7   </td><td>9              </td><td>4      </td></tr>\n",
       "<tr><td>...                                   </td><td>...               </td><td>...               </td><td>...                          </td><td>...                       </td><td>...                   </td><td>...                      </td><td>...                     </td><td>...                   </td><td>...                   </td><td>...              </td><td>...           </td><td>...              </td><td>...   </td><td>...         </td><td>...           </td><td>...           </td><td>...               </td><td>...               </td><td>...            </td><td>...               </td><td>...       </td><td>...        </td><td>...        </td><td>...       </td><td>...        </td><td>...         </td><td>...    </td><td>...          </td><td>...          </td><td>...        </td><td>...      </td><td>...                       </td><td>...                 </td><td>...            </td><td>...            </td><td>...                       </td><td>...       </td><td>...  </td><td>... </td><td>...            </td><td>...    </td></tr>\n",
       "<tr><td><i style='opacity: 0.6'>85,961,430</i></td><td>2023              </td><td>02235-7           </td><td>1978                         </td><td>5                         </td><td>0.0                   </td><td>Apartamento em condomínio</td><td>0.2                     </td><td>25215                 </td><td>01-9                  </td><td>84               </td><td>5312          </td><td>18041            </td><td>310118</td><td>310118000001</td><td>0.0033        </td><td>17.5296       </td><td>1.4109276345294306</td><td>0.2944404412172274</td><td>144492.1731    </td><td>177660.0          </td><td>310       </td><td>118        </td><td>38         </td><td>JABAQUARA </td><td>15         </td><td>JABAQUARA   </td><td>275    </td><td>Cidade Vargas</td><td>3550308005093</td><td>93         </td><td>310118275</td><td>Residencial               </td><td>Residencial vertical</td><td>B              </td><td>Baixo          </td><td>Residencial vertical Baixo</td><td>38        </td><td>2023 </td><td>275 </td><td>15             </td><td>93     </td></tr>\n",
       "<tr><td><i style='opacity: 0.6'>85,961,431</i></td><td>2023              </td><td>02235-7           </td><td>1978                         </td><td>5                         </td><td>0.0                   </td><td>Apartamento em condomínio</td><td>0.2                     </td><td>25215                 </td><td>01-9                  </td><td>84               </td><td>5312          </td><td>18041            </td><td>310118</td><td>310118000001</td><td>0.0033        </td><td>17.5296       </td><td>1.4109276345294306</td><td>0.2944404412172274</td><td>144492.1731    </td><td>177660.0          </td><td>310       </td><td>118        </td><td>38         </td><td>JABAQUARA </td><td>15         </td><td>JABAQUARA   </td><td>275    </td><td>Cidade Vargas</td><td>3550308005093</td><td>93         </td><td>310118275</td><td>Residencial               </td><td>Residencial vertical</td><td>B              </td><td>Baixo          </td><td>Residencial vertical Baixo</td><td>38        </td><td>2023 </td><td>275 </td><td>15             </td><td>93     </td></tr>\n",
       "<tr><td><i style='opacity: 0.6'>85,961,432</i></td><td>2023              </td><td>02235-7           </td><td>1978                         </td><td>5                         </td><td>0.0                   </td><td>Apartamento em condomínio</td><td>0.2                     </td><td>25215                 </td><td>01-9                  </td><td>84               </td><td>5312          </td><td>18041            </td><td>310118</td><td>310118000001</td><td>0.0033        </td><td>17.5296       </td><td>1.4109276345294306</td><td>0.2944404412172274</td><td>144492.1731    </td><td>177660.0          </td><td>310       </td><td>118        </td><td>38         </td><td>JABAQUARA </td><td>15         </td><td>JABAQUARA   </td><td>275    </td><td>Cidade Vargas</td><td>3550308005093</td><td>93         </td><td>310118275</td><td>Residencial               </td><td>Residencial vertical</td><td>B              </td><td>Baixo          </td><td>Residencial vertical Baixo</td><td>38        </td><td>2023 </td><td>275 </td><td>15             </td><td>93     </td></tr>\n",
       "<tr><td><i style='opacity: 0.6'>85,961,433</i></td><td>2023              </td><td>19137-0           </td><td>0                            </td><td>0                         </td><td>0.0                   </td><td>Terreno                  </td><td>0.0                     </td><td>0                     </td><td>00-0                  </td><td>0                </td><td>0             </td><td>18500            </td><td>310119</td><td>310119000100</td><td>1.0           </td><td>0.0           </td><td>0.0               </td><td>0.0               </td><td>41939500.0     </td><td>0.0               </td><td>310       </td><td>119        </td><td>38         </td><td>JABAQUARA </td><td>15         </td><td>JABAQUARA   </td><td>275    </td><td>Cidade Vargas</td><td>3550308005093</td><td>93         </td><td>310119275</td><td>Outros                    </td><td>Terreno             </td><td>               </td><td>               </td><td>Terreno                   </td><td>38        </td><td>2023 </td><td>275 </td><td>15             </td><td>93     </td></tr>\n",
       "<tr><td><i style='opacity: 0.6'>85,961,434</i></td><td>2023              </td><td>01041-3           </td><td>0                            </td><td>0                         </td><td>500.0                 </td><td>Terreno                  </td><td>0.0                     </td><td>0                     </td><td>00-0                  </td><td>0                </td><td>0             </td><td>18926            </td><td>310120</td><td>310120000100</td><td>1.0           </td><td>0.0           </td><td>0.0               </td><td>0.0               </td><td>11790898.0     </td><td>0.0               </td><td>310       </td><td>120        </td><td>38         </td><td>JABAQUARA </td><td>15         </td><td>JABAQUARA   </td><td>275    </td><td>Cidade Vargas</td><td>3550308005093</td><td>93         </td><td>310120275</td><td>Outros                    </td><td>Terreno             </td><td>               </td><td>               </td><td>Terreno                   </td><td>38        </td><td>2023 </td><td>275 </td><td>15             </td><td>93     </td></tr>\n",
       "</tbody>\n",
       "</table>"
      ],
      "text/plain": [
       "#           ANO DO EXERCICIO    CODLOG DO IMOVEL    ANO DA CONSTRUCAO CORRIGIDO    QUANTIDADE DE PAVIMENTOS    TESTADA PARA CALCULO    TIPO DE USO DO IMOVEL      FATOR DE OBSOLESCENCIA    area_contruida_total    NUMERO DO CONDOMINIO    AREA CONSTRUIDA    AREA OCUPADA    AREA DO TERRENO    sq      sqlc          fracao_ideal    area_ocupada    ca                  to                  valor_terreno    valor_construcao    qd_setor    qd_fiscal    ds_codigo    ds_nome     ds_cd_sub    ds_subpref    od_id    od_nome        COD_AED        COD_AED_S    sqod       classificacao_abrangente    tipo_de_uso           padrao_de_uso    classe_de_uso    tipo_e_classe_de_uso        distrito    ano    od    subprefeitura    censo\n",
       "0           1995                03812-1             1924                           1                           13.0                    loja                       0.0                       135                     00-0                    135                0               136                001003  001003000100  1.0             0.0             0.9926470588235294  0.0                 13600.0          17415.0             001         003          9            BOM RETIRO  09           SE            7        Luz            3550308005004  4            001003007  Comercial                   Comercial horizontal  B                Baixo            Comercial horizontal Baixo  9           1995   7     9                4\n",
       "1           1995                03812-1             1944                           1                           6.0                     loja                       0.0                       67                      00-0                    67                 0               90                 001003  001003000200  1.0             0.0             0.7444444444444445  0.0                 9000.0           6298.0              001         003          9            BOM RETIRO  09           SE            7        Luz            3550308005004  4            001003007  Comercial                   Comercial horizontal  A                Baixo            Comercial horizontal Baixo  9           1995   7     9                4\n",
       "2           1995                03812-1             1944                           1                           8.0                     loja                       0.0                       85                      00-0                    85                 0               105                001003  001003000300  1.0             0.0             0.8095238095238095  0.0                 10500.0          7990.0              001         003          9            BOM RETIRO  09           SE            7        Luz            3550308005004  4            001003007  Comercial                   Comercial horizontal  A                Baixo            Comercial horizontal Baixo  9           1995   7     9                4\n",
       "3           1995                03812-1             1944                           1                           6.0                     loja                       0.0                       103                     00-0                    103                0               108                001003  001003000400  1.0             0.0             0.9537037037037037  0.0                 10800.0          13287.0             001         003          9            BOM RETIRO  09           SE            7        Luz            3550308005004  4            001003007  Comercial                   Comercial horizontal  B                Baixo            Comercial horizontal Baixo  9           1995   7     9                4\n",
       "4           1995                03812-1             1944                           1                           7.0                     loja                       0.0                       98                      00-0                    98                 0               120                001003  001003000500  1.0             0.0             0.8166666666666667  0.0                 12000.0          9212.0              001         003          9            BOM RETIRO  09           SE            7        Luz            3550308005004  4            001003007  Comercial                   Comercial horizontal  A                Baixo            Comercial horizontal Baixo  9           1995   7     9                4\n",
       "...         ...                 ...                 ...                            ...                         ...                     ...                        ...                       ...                     ...                     ...                ...             ...                ...     ...           ...             ...             ...                 ...                 ...              ...                 ...         ...          ...          ...         ...          ...           ...      ...            ...            ...          ...        ...                         ...                   ...              ...              ...                         ...         ...    ...   ...              ...\n",
       "85,961,430  2023                02235-7             1978                           5                           0.0                     Apartamento em condomínio  0.2                       25215                   01-9                    84                 5312            18041              310118  310118000001  0.0033          17.5296         1.4109276345294306  0.2944404412172274  144492.1731      177660.0            310         118          38           JABAQUARA   15           JABAQUARA     275      Cidade Vargas  3550308005093  93           310118275  Residencial                 Residencial vertical  B                Baixo            Residencial vertical Baixo  38          2023   275   15               93\n",
       "85,961,431  2023                02235-7             1978                           5                           0.0                     Apartamento em condomínio  0.2                       25215                   01-9                    84                 5312            18041              310118  310118000001  0.0033          17.5296         1.4109276345294306  0.2944404412172274  144492.1731      177660.0            310         118          38           JABAQUARA   15           JABAQUARA     275      Cidade Vargas  3550308005093  93           310118275  Residencial                 Residencial vertical  B                Baixo            Residencial vertical Baixo  38          2023   275   15               93\n",
       "85,961,432  2023                02235-7             1978                           5                           0.0                     Apartamento em condomínio  0.2                       25215                   01-9                    84                 5312            18041              310118  310118000001  0.0033          17.5296         1.4109276345294306  0.2944404412172274  144492.1731      177660.0            310         118          38           JABAQUARA   15           JABAQUARA     275      Cidade Vargas  3550308005093  93           310118275  Residencial                 Residencial vertical  B                Baixo            Residencial vertical Baixo  38          2023   275   15               93\n",
       "85,961,433  2023                19137-0             0                              0                           0.0                     Terreno                    0.0                       0                       00-0                    0                  0               18500              310119  310119000100  1.0             0.0             0.0                 0.0                 41939500.0       0.0                 310         119          38           JABAQUARA   15           JABAQUARA     275      Cidade Vargas  3550308005093  93           310119275  Outros                      Terreno                                                 Terreno                     38          2023   275   15               93\n",
       "85,961,434  2023                01041-3             0                              0                           500.0                   Terreno                    0.0                       0                       00-0                    0                  0               18926              310120  310120000100  1.0             0.0             0.0                 0.0                 11790898.0       0.0                 310         120          38           JABAQUARA   15           JABAQUARA     275      Cidade Vargas  3550308005093  93           310120275  Outros                      Terreno                                                 Terreno                     38          2023   275   15               93"
      ]
     },
     "execution_count": 108,
     "metadata": {},
     "output_type": "execute_result"
    }
   ],
   "source": [
    "# seila = df_iptu['classe_de_uso'] == 'Residencial vertical Baixo'\n",
    "# df_iptu[seila]\n",
    "df_iptu.drop(columns=['TIPO DE PADRAO DA CONSTRUCAO'], inplace=True)"
   ]
  },
  {
   "cell_type": "code",
   "execution_count": null,
   "metadata": {},
   "outputs": [],
   "source": [
    "padroes_usos = df_padroes_usos['tipo_e_classe_de_uso'].unique()"
   ]
  },
  {
   "cell_type": "code",
   "execution_count": null,
   "metadata": {},
   "outputs": [],
   "source": [
    "# for p in padroes_usos:\n",
    "#     print(p)\n",
    "\n",
    "padroes = [\n",
    "    'Residencial vertical Baixo',\n",
    "    'Residencial vertical Médio',\n",
    "    'Residencial vertical Alto',\n",
    "    'Residencial horizontal Baixo',\n",
    "    'Residencial horizontal Médio',\n",
    "    'Residencial horizontal Alto',\n",
    "    'Comercial vertical Baixo',\n",
    "    'Comercial vertical Médio',\n",
    "    'Comercial vertical Alto',\n",
    "    'Comercial horizontal Baixo',\n",
    "    'Comercial horizontal Alto',\n",
    "    'Comercial horizontal Médio',\n",
    "    'Terreno',\n",
    "    'Outros Usos',\n",
    "]"
   ]
  },
  {
   "cell_type": "code",
   "execution_count": null,
   "metadata": {},
   "outputs": [],
   "source": [
    "df = df_iptu"
   ]
  },
  {
   "cell_type": "code",
   "execution_count": null,
   "metadata": {},
   "outputs": [],
   "source": [
    "agg = {\n",
    "    'Quantidade de Unidades': 'count', \n",
    "    'Quantidade de Unidades Condominiais': vaex.agg.count('sqlc',\n",
    "                                                    selection=df['NUMERO DO CONDOMINIO'] != '00-0'),\n",
    "    'Tamanho Médio da Unidade Condominial': vaex.agg.mean('AREA CONSTRUIDA', \n",
    "                                                    selection=df['NUMERO DO CONDOMINIO'] != '00-0'),\n",
    "    'Tamanho médio dos Terrenos': vaex.agg.mean('AREA DO TERRENO'),\n",
    "    'Área Total dos terrenos-lotes': vaex.agg.sum('area_terreno_proporcional'),\n",
    "    'Área Total Ocupada': vaex.agg.sum('area_ocupada_proporcional'),\n",
    "    'Área Total Construída':vaex.agg.sum('AREA CONSTRUIDA'),\n",
    "    'Valor Total dos Terrenos': vaex.agg.sum('valor_terreno'),\n",
    "    'Valor Total das Construções': vaex.agg.sum('valor_construcao'),\n",
    "    'CA médio': vaex.agg.mean('ca'),\n",
    "    'TO médio': vaex.agg.mean('to'),\n",
    "    'CA médio em lotes condominiais': vaex.agg.mean('ca',\n",
    "                                                    selection=df['NUMERO DO CONDOMINIO'] != '00-0'),\n",
    "    'TO médio em lotes condominiais': vaex.agg.mean('to',\n",
    "                                                    selection=df['NUMERO DO CONDOMINIO'] != '00-0'),\n",
    "    'CA médio em lotes não condominiais': vaex.agg.mean('ca',\n",
    "                                                    selection=df['NUMERO DO CONDOMINIO'] == '00-0'),\n",
    "    'TO médio em lotes não condominiais': vaex.agg.mean('to',\n",
    "                                                    selection=df['NUMERO DO CONDOMINIO'] == '00-0'),\n",
    "    'Comprimento Médio da Testada': vaex.agg.mean('TESTADA PARA CALCULO'),\n",
    "    'Número médio de Pavimentos': vaex.agg.mean('QUANTIDADE DE PAVIMENTOS'),\n",
    "    'Fator de obsolecência médio': vaex.agg.mean('FATOR DE OBSOLESCENCIA'),\n",
    "}"
   ]
  },
  {
   "cell_type": "code",
   "execution_count": null,
   "metadata": {},
   "outputs": [
    {
     "data": {
      "text/html": [
       "<table>\n",
       "<thead>\n",
       "<tr><th>#                                     </th><th>ANO DO EXERCICIO  </th><th>CODLOG DO IMOVEL  </th><th>ANO DA CONSTRUCAO CORRIGIDO  </th><th>QUANTIDADE DE PAVIMENTOS  </th><th>TESTADA PARA CALCULO  </th><th>TIPO DE USO DO IMOVEL    </th><th>FATOR DE OBSOLESCENCIA  </th><th>area_contruida_total  </th><th>NUMERO DO CONDOMINIO  </th><th>AREA CONSTRUIDA  </th><th>AREA OCUPADA  </th><th>AREA DO TERRENO  </th><th>sq    </th><th>sqlc        </th><th>fracao_ideal  </th><th>area_ocupada  </th><th>ca                </th><th>to                </th><th>valor_terreno  </th><th>valor_construcao  </th><th>qd_setor  </th><th>qd_fiscal  </th><th>ds_codigo  </th><th>ds_nome   </th><th>ds_cd_sub  </th><th>ds_subpref  </th><th>od_id  </th><th>od_nome      </th><th>COD_AED      </th><th>COD_AED_S  </th><th>sqod     </th><th>classificacao_abrangente  </th><th>tipo_de_uso         </th><th>padrao_de_uso  </th><th>classe_de_uso  </th><th>tipo_e_classe_de_uso      </th><th>distrito  </th><th>ano  </th><th>od  </th><th>subprefeitura  </th><th>censo  </th></tr>\n",
       "</thead>\n",
       "<tbody>\n",
       "<tr><td><i style='opacity: 0.6'>0</i>         </td><td>1995              </td><td>03812-1           </td><td>1924                         </td><td>1                         </td><td>13.0                  </td><td>loja                     </td><td>0.0                     </td><td>135                   </td><td>00-0                  </td><td>135              </td><td>0             </td><td>136              </td><td>001003</td><td>001003000100</td><td>1.0           </td><td>0.0           </td><td>0.9926470588235294</td><td>0.0               </td><td>13600.0        </td><td>17415.0           </td><td>001       </td><td>003        </td><td>9          </td><td>BOM RETIRO</td><td>09         </td><td>SE          </td><td>7      </td><td>Luz          </td><td>3550308005004</td><td>4          </td><td>001003007</td><td>Comercial                 </td><td>Comercial horizontal</td><td>B              </td><td>Baixo          </td><td>Comercial horizontal Baixo</td><td>9         </td><td>1995 </td><td>7   </td><td>9              </td><td>4      </td></tr>\n",
       "<tr><td><i style='opacity: 0.6'>1</i>         </td><td>1995              </td><td>03812-1           </td><td>1944                         </td><td>1                         </td><td>6.0                   </td><td>loja                     </td><td>0.0                     </td><td>67                    </td><td>00-0                  </td><td>67               </td><td>0             </td><td>90               </td><td>001003</td><td>001003000200</td><td>1.0           </td><td>0.0           </td><td>0.7444444444444445</td><td>0.0               </td><td>9000.0         </td><td>6298.0            </td><td>001       </td><td>003        </td><td>9          </td><td>BOM RETIRO</td><td>09         </td><td>SE          </td><td>7      </td><td>Luz          </td><td>3550308005004</td><td>4          </td><td>001003007</td><td>Comercial                 </td><td>Comercial horizontal</td><td>A              </td><td>Baixo          </td><td>Comercial horizontal Baixo</td><td>9         </td><td>1995 </td><td>7   </td><td>9              </td><td>4      </td></tr>\n",
       "<tr><td><i style='opacity: 0.6'>2</i>         </td><td>1995              </td><td>03812-1           </td><td>1944                         </td><td>1                         </td><td>8.0                   </td><td>loja                     </td><td>0.0                     </td><td>85                    </td><td>00-0                  </td><td>85               </td><td>0             </td><td>105              </td><td>001003</td><td>001003000300</td><td>1.0           </td><td>0.0           </td><td>0.8095238095238095</td><td>0.0               </td><td>10500.0        </td><td>7990.0            </td><td>001       </td><td>003        </td><td>9          </td><td>BOM RETIRO</td><td>09         </td><td>SE          </td><td>7      </td><td>Luz          </td><td>3550308005004</td><td>4          </td><td>001003007</td><td>Comercial                 </td><td>Comercial horizontal</td><td>A              </td><td>Baixo          </td><td>Comercial horizontal Baixo</td><td>9         </td><td>1995 </td><td>7   </td><td>9              </td><td>4      </td></tr>\n",
       "<tr><td><i style='opacity: 0.6'>3</i>         </td><td>1995              </td><td>03812-1           </td><td>1944                         </td><td>1                         </td><td>6.0                   </td><td>loja                     </td><td>0.0                     </td><td>103                   </td><td>00-0                  </td><td>103              </td><td>0             </td><td>108              </td><td>001003</td><td>001003000400</td><td>1.0           </td><td>0.0           </td><td>0.9537037037037037</td><td>0.0               </td><td>10800.0        </td><td>13287.0           </td><td>001       </td><td>003        </td><td>9          </td><td>BOM RETIRO</td><td>09         </td><td>SE          </td><td>7      </td><td>Luz          </td><td>3550308005004</td><td>4          </td><td>001003007</td><td>Comercial                 </td><td>Comercial horizontal</td><td>B              </td><td>Baixo          </td><td>Comercial horizontal Baixo</td><td>9         </td><td>1995 </td><td>7   </td><td>9              </td><td>4      </td></tr>\n",
       "<tr><td><i style='opacity: 0.6'>4</i>         </td><td>1995              </td><td>03812-1           </td><td>1944                         </td><td>1                         </td><td>7.0                   </td><td>loja                     </td><td>0.0                     </td><td>98                    </td><td>00-0                  </td><td>98               </td><td>0             </td><td>120              </td><td>001003</td><td>001003000500</td><td>1.0           </td><td>0.0           </td><td>0.8166666666666667</td><td>0.0               </td><td>12000.0        </td><td>9212.0            </td><td>001       </td><td>003        </td><td>9          </td><td>BOM RETIRO</td><td>09         </td><td>SE          </td><td>7      </td><td>Luz          </td><td>3550308005004</td><td>4          </td><td>001003007</td><td>Comercial                 </td><td>Comercial horizontal</td><td>A              </td><td>Baixo          </td><td>Comercial horizontal Baixo</td><td>9         </td><td>1995 </td><td>7   </td><td>9              </td><td>4      </td></tr>\n",
       "<tr><td>...                                   </td><td>...               </td><td>...               </td><td>...                          </td><td>...                       </td><td>...                   </td><td>...                      </td><td>...                     </td><td>...                   </td><td>...                   </td><td>...              </td><td>...           </td><td>...              </td><td>...   </td><td>...         </td><td>...           </td><td>...           </td><td>...               </td><td>...               </td><td>...            </td><td>...               </td><td>...       </td><td>...        </td><td>...        </td><td>...       </td><td>...        </td><td>...         </td><td>...    </td><td>...          </td><td>...          </td><td>...        </td><td>...      </td><td>...                       </td><td>...                 </td><td>...            </td><td>...            </td><td>...                       </td><td>...       </td><td>...  </td><td>... </td><td>...            </td><td>...    </td></tr>\n",
       "<tr><td><i style='opacity: 0.6'>85,961,430</i></td><td>2023              </td><td>02235-7           </td><td>1978                         </td><td>5                         </td><td>0.0                   </td><td>Apartamento em condomínio</td><td>0.2                     </td><td>25215                 </td><td>01-9                  </td><td>84               </td><td>5312          </td><td>18041            </td><td>310118</td><td>310118000001</td><td>0.0033        </td><td>17.5296       </td><td>1.4109276345294306</td><td>0.2944404412172274</td><td>144492.1731    </td><td>177660.0          </td><td>310       </td><td>118        </td><td>38         </td><td>JABAQUARA </td><td>15         </td><td>JABAQUARA   </td><td>275    </td><td>Cidade Vargas</td><td>3550308005093</td><td>93         </td><td>310118275</td><td>Residencial               </td><td>Residencial vertical</td><td>B              </td><td>Baixo          </td><td>Residencial vertical Baixo</td><td>38        </td><td>2023 </td><td>275 </td><td>15             </td><td>93     </td></tr>\n",
       "<tr><td><i style='opacity: 0.6'>85,961,431</i></td><td>2023              </td><td>02235-7           </td><td>1978                         </td><td>5                         </td><td>0.0                   </td><td>Apartamento em condomínio</td><td>0.2                     </td><td>25215                 </td><td>01-9                  </td><td>84               </td><td>5312          </td><td>18041            </td><td>310118</td><td>310118000001</td><td>0.0033        </td><td>17.5296       </td><td>1.4109276345294306</td><td>0.2944404412172274</td><td>144492.1731    </td><td>177660.0          </td><td>310       </td><td>118        </td><td>38         </td><td>JABAQUARA </td><td>15         </td><td>JABAQUARA   </td><td>275    </td><td>Cidade Vargas</td><td>3550308005093</td><td>93         </td><td>310118275</td><td>Residencial               </td><td>Residencial vertical</td><td>B              </td><td>Baixo          </td><td>Residencial vertical Baixo</td><td>38        </td><td>2023 </td><td>275 </td><td>15             </td><td>93     </td></tr>\n",
       "<tr><td><i style='opacity: 0.6'>85,961,432</i></td><td>2023              </td><td>02235-7           </td><td>1978                         </td><td>5                         </td><td>0.0                   </td><td>Apartamento em condomínio</td><td>0.2                     </td><td>25215                 </td><td>01-9                  </td><td>84               </td><td>5312          </td><td>18041            </td><td>310118</td><td>310118000001</td><td>0.0033        </td><td>17.5296       </td><td>1.4109276345294306</td><td>0.2944404412172274</td><td>144492.1731    </td><td>177660.0          </td><td>310       </td><td>118        </td><td>38         </td><td>JABAQUARA </td><td>15         </td><td>JABAQUARA   </td><td>275    </td><td>Cidade Vargas</td><td>3550308005093</td><td>93         </td><td>310118275</td><td>Residencial               </td><td>Residencial vertical</td><td>B              </td><td>Baixo          </td><td>Residencial vertical Baixo</td><td>38        </td><td>2023 </td><td>275 </td><td>15             </td><td>93     </td></tr>\n",
       "<tr><td><i style='opacity: 0.6'>85,961,433</i></td><td>2023              </td><td>19137-0           </td><td>0                            </td><td>0                         </td><td>0.0                   </td><td>Terreno                  </td><td>0.0                     </td><td>0                     </td><td>00-0                  </td><td>0                </td><td>0             </td><td>18500            </td><td>310119</td><td>310119000100</td><td>1.0           </td><td>0.0           </td><td>0.0               </td><td>0.0               </td><td>41939500.0     </td><td>0.0               </td><td>310       </td><td>119        </td><td>38         </td><td>JABAQUARA </td><td>15         </td><td>JABAQUARA   </td><td>275    </td><td>Cidade Vargas</td><td>3550308005093</td><td>93         </td><td>310119275</td><td>Outros                    </td><td>Terreno             </td><td>               </td><td>               </td><td>Terreno                   </td><td>38        </td><td>2023 </td><td>275 </td><td>15             </td><td>93     </td></tr>\n",
       "<tr><td><i style='opacity: 0.6'>85,961,434</i></td><td>2023              </td><td>01041-3           </td><td>0                            </td><td>0                         </td><td>500.0                 </td><td>Terreno                  </td><td>0.0                     </td><td>0                     </td><td>00-0                  </td><td>0                </td><td>0             </td><td>18926            </td><td>310120</td><td>310120000100</td><td>1.0           </td><td>0.0           </td><td>0.0               </td><td>0.0               </td><td>11790898.0     </td><td>0.0               </td><td>310       </td><td>120        </td><td>38         </td><td>JABAQUARA </td><td>15         </td><td>JABAQUARA   </td><td>275    </td><td>Cidade Vargas</td><td>3550308005093</td><td>93         </td><td>310120275</td><td>Outros                    </td><td>Terreno             </td><td>               </td><td>               </td><td>Terreno                   </td><td>38        </td><td>2023 </td><td>275 </td><td>15             </td><td>93     </td></tr>\n",
       "</tbody>\n",
       "</table>"
      ],
      "text/plain": [
       "#           ANO DO EXERCICIO    CODLOG DO IMOVEL    ANO DA CONSTRUCAO CORRIGIDO    QUANTIDADE DE PAVIMENTOS    TESTADA PARA CALCULO    TIPO DE USO DO IMOVEL      FATOR DE OBSOLESCENCIA    area_contruida_total    NUMERO DO CONDOMINIO    AREA CONSTRUIDA    AREA OCUPADA    AREA DO TERRENO    sq      sqlc          fracao_ideal    area_ocupada    ca                  to                  valor_terreno    valor_construcao    qd_setor    qd_fiscal    ds_codigo    ds_nome     ds_cd_sub    ds_subpref    od_id    od_nome        COD_AED        COD_AED_S    sqod       classificacao_abrangente    tipo_de_uso           padrao_de_uso    classe_de_uso    tipo_e_classe_de_uso        distrito    ano    od    subprefeitura    censo\n",
       "0           1995                03812-1             1924                           1                           13.0                    loja                       0.0                       135                     00-0                    135                0               136                001003  001003000100  1.0             0.0             0.9926470588235294  0.0                 13600.0          17415.0             001         003          9            BOM RETIRO  09           SE            7        Luz            3550308005004  4            001003007  Comercial                   Comercial horizontal  B                Baixo            Comercial horizontal Baixo  9           1995   7     9                4\n",
       "1           1995                03812-1             1944                           1                           6.0                     loja                       0.0                       67                      00-0                    67                 0               90                 001003  001003000200  1.0             0.0             0.7444444444444445  0.0                 9000.0           6298.0              001         003          9            BOM RETIRO  09           SE            7        Luz            3550308005004  4            001003007  Comercial                   Comercial horizontal  A                Baixo            Comercial horizontal Baixo  9           1995   7     9                4\n",
       "2           1995                03812-1             1944                           1                           8.0                     loja                       0.0                       85                      00-0                    85                 0               105                001003  001003000300  1.0             0.0             0.8095238095238095  0.0                 10500.0          7990.0              001         003          9            BOM RETIRO  09           SE            7        Luz            3550308005004  4            001003007  Comercial                   Comercial horizontal  A                Baixo            Comercial horizontal Baixo  9           1995   7     9                4\n",
       "3           1995                03812-1             1944                           1                           6.0                     loja                       0.0                       103                     00-0                    103                0               108                001003  001003000400  1.0             0.0             0.9537037037037037  0.0                 10800.0          13287.0             001         003          9            BOM RETIRO  09           SE            7        Luz            3550308005004  4            001003007  Comercial                   Comercial horizontal  B                Baixo            Comercial horizontal Baixo  9           1995   7     9                4\n",
       "4           1995                03812-1             1944                           1                           7.0                     loja                       0.0                       98                      00-0                    98                 0               120                001003  001003000500  1.0             0.0             0.8166666666666667  0.0                 12000.0          9212.0              001         003          9            BOM RETIRO  09           SE            7        Luz            3550308005004  4            001003007  Comercial                   Comercial horizontal  A                Baixo            Comercial horizontal Baixo  9           1995   7     9                4\n",
       "...         ...                 ...                 ...                            ...                         ...                     ...                        ...                       ...                     ...                     ...                ...             ...                ...     ...           ...             ...             ...                 ...                 ...              ...                 ...         ...          ...          ...         ...          ...           ...      ...            ...            ...          ...        ...                         ...                   ...              ...              ...                         ...         ...    ...   ...              ...\n",
       "85,961,430  2023                02235-7             1978                           5                           0.0                     Apartamento em condomínio  0.2                       25215                   01-9                    84                 5312            18041              310118  310118000001  0.0033          17.5296         1.4109276345294306  0.2944404412172274  144492.1731      177660.0            310         118          38           JABAQUARA   15           JABAQUARA     275      Cidade Vargas  3550308005093  93           310118275  Residencial                 Residencial vertical  B                Baixo            Residencial vertical Baixo  38          2023   275   15               93\n",
       "85,961,431  2023                02235-7             1978                           5                           0.0                     Apartamento em condomínio  0.2                       25215                   01-9                    84                 5312            18041              310118  310118000001  0.0033          17.5296         1.4109276345294306  0.2944404412172274  144492.1731      177660.0            310         118          38           JABAQUARA   15           JABAQUARA     275      Cidade Vargas  3550308005093  93           310118275  Residencial                 Residencial vertical  B                Baixo            Residencial vertical Baixo  38          2023   275   15               93\n",
       "85,961,432  2023                02235-7             1978                           5                           0.0                     Apartamento em condomínio  0.2                       25215                   01-9                    84                 5312            18041              310118  310118000001  0.0033          17.5296         1.4109276345294306  0.2944404412172274  144492.1731      177660.0            310         118          38           JABAQUARA   15           JABAQUARA     275      Cidade Vargas  3550308005093  93           310118275  Residencial                 Residencial vertical  B                Baixo            Residencial vertical Baixo  38          2023   275   15               93\n",
       "85,961,433  2023                19137-0             0                              0                           0.0                     Terreno                    0.0                       0                       00-0                    0                  0               18500              310119  310119000100  1.0             0.0             0.0                 0.0                 41939500.0       0.0                 310         119          38           JABAQUARA   15           JABAQUARA     275      Cidade Vargas  3550308005093  93           310119275  Outros                      Terreno                                                 Terreno                     38          2023   275   15               93\n",
       "85,961,434  2023                01041-3             0                              0                           500.0                   Terreno                    0.0                       0                       00-0                    0                  0               18926              310120  310120000100  1.0             0.0             0.0                 0.0                 11790898.0       0.0                 310         120          38           JABAQUARA   15           JABAQUARA     275      Cidade Vargas  3550308005093  93           310120275  Outros                      Terreno                                                 Terreno                     38          2023   275   15               93"
      ]
     },
     "execution_count": 113,
     "metadata": {},
     "output_type": "execute_result"
    }
   ],
   "source": [
    "# df_iptu['tipo_e_classe_de_uso'].isna().value_counts()\n",
    "df_iptu.fillna(value='Outros Usos', column_names=['tipo_e_classe_de_uso'], inplace=True)"
   ]
  },
  {
   "cell_type": "code",
   "execution_count": null,
   "metadata": {},
   "outputs": [
    {
     "data": {
      "text/html": [
       "<table>\n",
       "<thead>\n",
       "<tr><th>#                            </th><th style=\"text-align: right;\">  ANO DO EXERCICIO</th><th>CODLOG DO IMOVEL  </th><th style=\"text-align: right;\">  ANO DA CONSTRUCAO CORRIGIDO</th><th style=\"text-align: right;\">  QUANTIDADE DE PAVIMENTOS</th><th style=\"text-align: right;\">  TESTADA PARA CALCULO</th><th>TIPO DE USO DO IMOVEL  </th><th style=\"text-align: right;\">  FATOR DE OBSOLESCENCIA</th><th style=\"text-align: right;\">  area_contruida_total</th><th>NUMERO DO CONDOMINIO  </th><th style=\"text-align: right;\">  AREA CONSTRUIDA</th><th style=\"text-align: right;\">  AREA OCUPADA</th><th style=\"text-align: right;\">  AREA DO TERRENO</th><th style=\"text-align: right;\">    sq</th><th style=\"text-align: right;\">        sqlc</th><th style=\"text-align: right;\">  fracao_ideal</th><th style=\"text-align: right;\">  area_ocupada</th><th style=\"text-align: right;\">      ca</th><th style=\"text-align: right;\">  to</th><th style=\"text-align: right;\">  valor_terreno</th><th style=\"text-align: right;\">  valor_construcao</th><th style=\"text-align: right;\">  qd_setor</th><th style=\"text-align: right;\">  qd_fiscal</th><th style=\"text-align: right;\">  ds_codigo</th><th>ds_nome   </th><th style=\"text-align: right;\">  ds_cd_sub</th><th>ds_subpref  </th><th style=\"text-align: right;\">  od_id</th><th>od_nome  </th><th style=\"text-align: right;\">      COD_AED</th><th style=\"text-align: right;\">  COD_AED_S</th><th style=\"text-align: right;\">     sqod</th><th>classificacao_abrangente  </th><th>tipo_de_uso         </th><th>padrao_de_uso  </th><th>classe_de_uso  </th><th>tipo_e_classe_de_uso      </th><th style=\"text-align: right;\">  distrito</th><th style=\"text-align: right;\">  ano</th><th style=\"text-align: right;\">  od</th><th style=\"text-align: right;\">  subprefeitura</th><th style=\"text-align: right;\">  censo</th></tr>\n",
       "</thead>\n",
       "<tbody>\n",
       "<tr><td><i style='opacity: 0.6'>0</i></td><td style=\"text-align: right;\">              1995</td><td>03812-1           </td><td style=\"text-align: right;\">                         1924</td><td style=\"text-align: right;\">                         1</td><td style=\"text-align: right;\">                    13</td><td>loja                   </td><td style=\"text-align: right;\">                       0</td><td style=\"text-align: right;\">                   135</td><td>00-0                  </td><td style=\"text-align: right;\">              135</td><td style=\"text-align: right;\">             0</td><td style=\"text-align: right;\">              136</td><td style=\"text-align: right;\">001003</td><td style=\"text-align: right;\">001003000100</td><td style=\"text-align: right;\">             1</td><td style=\"text-align: right;\">             0</td><td style=\"text-align: right;\">0.992647</td><td style=\"text-align: right;\">   0</td><td style=\"text-align: right;\">          13600</td><td style=\"text-align: right;\">             17415</td><td style=\"text-align: right;\">       001</td><td style=\"text-align: right;\">        003</td><td style=\"text-align: right;\">          9</td><td>BOM RETIRO</td><td style=\"text-align: right;\">         09</td><td>SE          </td><td style=\"text-align: right;\">      7</td><td>Luz      </td><td style=\"text-align: right;\">3550308005004</td><td style=\"text-align: right;\">          4</td><td style=\"text-align: right;\">001003007</td><td>Comercial                 </td><td>Comercial horizontal</td><td>B              </td><td>Baixo          </td><td>Comercial horizontal Baixo</td><td style=\"text-align: right;\">         9</td><td style=\"text-align: right;\"> 1995</td><td style=\"text-align: right;\">   7</td><td style=\"text-align: right;\">              9</td><td style=\"text-align: right;\">      4</td></tr>\n",
       "<tr><td><i style='opacity: 0.6'>1</i></td><td style=\"text-align: right;\">              1995</td><td>03812-1           </td><td style=\"text-align: right;\">                         1944</td><td style=\"text-align: right;\">                         1</td><td style=\"text-align: right;\">                     6</td><td>loja                   </td><td style=\"text-align: right;\">                       0</td><td style=\"text-align: right;\">                    67</td><td>00-0                  </td><td style=\"text-align: right;\">               67</td><td style=\"text-align: right;\">             0</td><td style=\"text-align: right;\">               90</td><td style=\"text-align: right;\">001003</td><td style=\"text-align: right;\">001003000200</td><td style=\"text-align: right;\">             1</td><td style=\"text-align: right;\">             0</td><td style=\"text-align: right;\">0.744444</td><td style=\"text-align: right;\">   0</td><td style=\"text-align: right;\">           9000</td><td style=\"text-align: right;\">              6298</td><td style=\"text-align: right;\">       001</td><td style=\"text-align: right;\">        003</td><td style=\"text-align: right;\">          9</td><td>BOM RETIRO</td><td style=\"text-align: right;\">         09</td><td>SE          </td><td style=\"text-align: right;\">      7</td><td>Luz      </td><td style=\"text-align: right;\">3550308005004</td><td style=\"text-align: right;\">          4</td><td style=\"text-align: right;\">001003007</td><td>Comercial                 </td><td>Comercial horizontal</td><td>A              </td><td>Baixo          </td><td>Comercial horizontal Baixo</td><td style=\"text-align: right;\">         9</td><td style=\"text-align: right;\"> 1995</td><td style=\"text-align: right;\">   7</td><td style=\"text-align: right;\">              9</td><td style=\"text-align: right;\">      4</td></tr>\n",
       "<tr><td><i style='opacity: 0.6'>2</i></td><td style=\"text-align: right;\">              1995</td><td>03812-1           </td><td style=\"text-align: right;\">                         1944</td><td style=\"text-align: right;\">                         1</td><td style=\"text-align: right;\">                     8</td><td>loja                   </td><td style=\"text-align: right;\">                       0</td><td style=\"text-align: right;\">                    85</td><td>00-0                  </td><td style=\"text-align: right;\">               85</td><td style=\"text-align: right;\">             0</td><td style=\"text-align: right;\">              105</td><td style=\"text-align: right;\">001003</td><td style=\"text-align: right;\">001003000300</td><td style=\"text-align: right;\">             1</td><td style=\"text-align: right;\">             0</td><td style=\"text-align: right;\">0.809524</td><td style=\"text-align: right;\">   0</td><td style=\"text-align: right;\">          10500</td><td style=\"text-align: right;\">              7990</td><td style=\"text-align: right;\">       001</td><td style=\"text-align: right;\">        003</td><td style=\"text-align: right;\">          9</td><td>BOM RETIRO</td><td style=\"text-align: right;\">         09</td><td>SE          </td><td style=\"text-align: right;\">      7</td><td>Luz      </td><td style=\"text-align: right;\">3550308005004</td><td style=\"text-align: right;\">          4</td><td style=\"text-align: right;\">001003007</td><td>Comercial                 </td><td>Comercial horizontal</td><td>A              </td><td>Baixo          </td><td>Comercial horizontal Baixo</td><td style=\"text-align: right;\">         9</td><td style=\"text-align: right;\"> 1995</td><td style=\"text-align: right;\">   7</td><td style=\"text-align: right;\">              9</td><td style=\"text-align: right;\">      4</td></tr>\n",
       "</tbody>\n",
       "</table>"
      ],
      "text/plain": [
       "  #    ANO DO EXERCICIO  CODLOG DO IMOVEL      ANO DA CONSTRUCAO CORRIGIDO    QUANTIDADE DE PAVIMENTOS    TESTADA PARA CALCULO  TIPO DE USO DO IMOVEL      FATOR DE OBSOLESCENCIA    area_contruida_total  NUMERO DO CONDOMINIO      AREA CONSTRUIDA    AREA OCUPADA    AREA DO TERRENO      sq          sqlc    fracao_ideal    area_ocupada        ca    to    valor_terreno    valor_construcao    qd_setor    qd_fiscal    ds_codigo  ds_nome       ds_cd_sub  ds_subpref      od_id  od_nome          COD_AED    COD_AED_S       sqod  classificacao_abrangente    tipo_de_uso           padrao_de_uso    classe_de_uso    tipo_e_classe_de_uso          distrito    ano    od    subprefeitura    censo\n",
       "  0                1995  03812-1                                      1924                           1                      13  loja                                            0                     135  00-0                                  135               0                136  001003  001003000100               1               0  0.992647     0            13600               17415         001          003            9  BOM RETIRO           09  SE                  7  Luz        3550308005004            4  001003007  Comercial                   Comercial horizontal  B                Baixo            Comercial horizontal Baixo           9   1995     7                9        4\n",
       "  1                1995  03812-1                                      1944                           1                       6  loja                                            0                      67  00-0                                   67               0                 90  001003  001003000200               1               0  0.744444     0             9000                6298         001          003            9  BOM RETIRO           09  SE                  7  Luz        3550308005004            4  001003007  Comercial                   Comercial horizontal  A                Baixo            Comercial horizontal Baixo           9   1995     7                9        4\n",
       "  2                1995  03812-1                                      1944                           1                       8  loja                                            0                      85  00-0                                   85               0                105  001003  001003000300               1               0  0.809524     0            10500                7990         001          003            9  BOM RETIRO           09  SE                  7  Luz        3550308005004            4  001003007  Comercial                   Comercial horizontal  A                Baixo            Comercial horizontal Baixo           9   1995     7                9        4"
      ]
     },
     "execution_count": 114,
     "metadata": {},
     "output_type": "execute_result"
    }
   ],
   "source": [
    "df_iptu.head(3)"
   ]
  },
  {
   "cell_type": "code",
   "execution_count": null,
   "metadata": {},
   "outputs": [],
   "source": [
    "agg_padroes_m2 = {}\n",
    "agg_padroes_qt = {}\n",
    "\n",
    "for p in padroes:\n",
    "    agg_padroes_m2[f\"{p} (m2)\"] = vaex.agg.sum('AREA CONSTRUIDA', selection=df['tipo_e_classe_de_uso'] == p)\n",
    "    agg_padroes_qt[f\"{p} (qt)\"] = vaex.agg.count('AREA CONSTRUIDA', selection=df['tipo_e_classe_de_uso'] == p)"
   ]
  },
  {
   "cell_type": "code",
   "execution_count": null,
   "metadata": {},
   "outputs": [],
   "source": [
    "agg.update(agg_padroes_m2)\n",
    "agg.update(agg_padroes_qt)"
   ]
  },
  {
   "cell_type": "code",
   "execution_count": null,
   "metadata": {},
   "outputs": [],
   "source": [
    "agg['Terreno (m2)'] = vaex.agg.sum('AREA DO TERRENO', selection=df['tipo_e_classe_de_uso'] == p)\n",
    "agg['Terreno (qt)'] = vaex.agg.count('AREA DO TERRENO', selection=df['tipo_e_classe_de_uso'] == p)"
   ]
  },
  {
   "cell_type": "code",
   "execution_count": null,
   "metadata": {},
   "outputs": [
    {
     "data": {
      "text/plain": [
       "['Quantidade de Unidades',\n",
       " 'Quantidade de Unidades Condominiais',\n",
       " 'Tamanho Médio da Unidade Condominial',\n",
       " 'Tamanho médio dos Terrenos',\n",
       " 'Área Total dos terrenos-lotes',\n",
       " 'Área Total Ocupada',\n",
       " 'Área Total Construída',\n",
       " 'Valor Total dos Terrenos',\n",
       " 'Valor Total das Construções',\n",
       " 'CA médio',\n",
       " 'TO médio',\n",
       " 'CA médio em lotes condominiais',\n",
       " 'TO médio em lotes condominiais',\n",
       " 'CA médio em lotes não condominiais',\n",
       " 'TO médio em lotes não condominiais',\n",
       " 'Comprimento Médio da Testada',\n",
       " 'Número médio de Pavimentos',\n",
       " 'Fator de obsolecência médio',\n",
       " 'Residencial vertical Baixo (m2)',\n",
       " 'Residencial vertical Médio (m2)',\n",
       " 'Residencial vertical Alto (m2)',\n",
       " 'Residencial horizontal Baixo (m2)',\n",
       " 'Residencial horizontal Médio (m2)',\n",
       " 'Residencial horizontal Alto (m2)',\n",
       " 'Comercial vertical Baixo (m2)',\n",
       " 'Comercial vertical Médio (m2)',\n",
       " 'Comercial vertical Alto (m2)',\n",
       " 'Comercial horizontal Baixo (m2)',\n",
       " 'Comercial horizontal Alto (m2)',\n",
       " 'Comercial horizontal Médio (m2)',\n",
       " 'Terreno (m2)',\n",
       " 'Outros Usos (m2)',\n",
       " 'Residencial vertical Baixo (qt)',\n",
       " 'Residencial vertical Médio (qt)',\n",
       " 'Residencial vertical Alto (qt)',\n",
       " 'Residencial horizontal Baixo (qt)',\n",
       " 'Residencial horizontal Médio (qt)',\n",
       " 'Residencial horizontal Alto (qt)',\n",
       " 'Comercial vertical Baixo (qt)',\n",
       " 'Comercial vertical Médio (qt)',\n",
       " 'Comercial vertical Alto (qt)',\n",
       " 'Comercial horizontal Baixo (qt)',\n",
       " 'Comercial horizontal Alto (qt)',\n",
       " 'Comercial horizontal Médio (qt)',\n",
       " 'Terreno (qt)',\n",
       " 'Outros Usos (qt)']"
      ]
     },
     "execution_count": 118,
     "metadata": {},
     "output_type": "execute_result"
    }
   ],
   "source": [
    "list(agg.keys())"
   ]
  },
  {
   "cell_type": "code",
   "execution_count": null,
   "metadata": {},
   "outputs": [],
   "source": [
    "# df_iptu_grouped_distrito = \\\n",
    "def agrupamento(df, campo):\n",
    "    return df.groupby([campo, 'ano'],agg=agg)"
   ]
  },
  {
   "cell_type": "code",
   "execution_count": null,
   "metadata": {},
   "outputs": [],
   "source": [
    "# campos = ['distrito', 'subprefeitura', 'od', 'censo', 'sq']\n",
    "campos = ['distrito', 'subprefeitura', 'od', 'censo', 'sq']"
   ]
  },
  {
   "cell_type": "code",
   "execution_count": null,
   "metadata": {},
   "outputs": [
    {
     "name": "stdout",
     "output_type": "stream",
     "text": [
      "distrito\n",
      "subprefeitura\n",
      "od\n",
      "censo\n",
      "sq\n"
     ]
    }
   ],
   "source": [
    "dfs = []\n",
    "\n",
    "for campo in campos:\n",
    "    print(campo)\n",
    "    df = agrupamento(df_iptu, campo)\n",
    "    # for u in ['Residencial', 'Comercial', 'Serviços', 'Industrial', 'Outros']:\n",
    "    #     df[f'Percentual de Uso {u}'] = df[u] / df['Área Total Construída']\n",
    "    df.export_hdf5(f'data/IPTU-1995-{exercicio_fim}-agrupados-por-{campo}.hdf5')\n",
    "    dfs.append(df)"
   ]
  },
  {
   "cell_type": "code",
   "execution_count": null,
   "metadata": {},
   "outputs": [
    {
     "name": "stdout",
     "output_type": "stream",
     "text": [
      "63 pirituba\n"
     ]
    },
    {
     "name": "stderr",
     "output_type": "stream",
     "text": [
      "/home/fernando/dev/dash-iptu/venv/lib/python3.9/site-packages/vaex/arrow/numpy_dispatch.py:72: RuntimeWarning: invalid value encountered in true_divide\n",
      "  result_data = op['op'](a_data, b_data)\n"
     ]
    },
    {
     "name": "stdout",
     "output_type": "stream",
     "text": [
      "95 sao-domingos\n",
      "42 jaragua\n",
      "11 brasilandia\n",
      "29 freguesia-do-o\n",
      "21 casa-verde\n",
      "13 cachoeirinha\n",
      "50 limao\n"
     ]
    },
    {
     "ename": "KeyboardInterrupt",
     "evalue": "",
     "output_type": "error",
     "traceback": [
      "\u001b[0;31m---------------------------------------------------------------------------\u001b[0m",
      "\u001b[0;31mKeyboardInterrupt\u001b[0m                         Traceback (most recent call last)",
      "\u001b[1;32m/home/fernando/dev/dash-iptu/14 - Preparando dados do IPTU recorrente.ipynb Cell 91\u001b[0m in \u001b[0;36m<cell line: 1>\u001b[0;34m()\u001b[0m\n\u001b[1;32m      <a href='vscode-notebook-cell:/home/fernando/dev/dash-iptu/14%20-%20Preparando%20dados%20do%20IPTU%20recorrente.ipynb#Y155sZmlsZQ%3D%3D?line=1'>2</a>\u001b[0m \u001b[39mprint\u001b[39m(dist\u001b[39m.\u001b[39mds_codigo, dist\u001b[39m.\u001b[39mds_nome\u001b[39m.\u001b[39mlower()\u001b[39m.\u001b[39mreplace(\u001b[39m'\u001b[39m\u001b[39m \u001b[39m\u001b[39m'\u001b[39m, \u001b[39m'\u001b[39m\u001b[39m-\u001b[39m\u001b[39m'\u001b[39m))\n\u001b[1;32m      <a href='vscode-notebook-cell:/home/fernando/dev/dash-iptu/14%20-%20Preparando%20dados%20do%20IPTU%20recorrente.ipynb#Y155sZmlsZQ%3D%3D?line=2'>3</a>\u001b[0m df_iptu_distrito \u001b[39m=\u001b[39m df_iptu[df_iptu\u001b[39m.\u001b[39mdistrito \u001b[39m==\u001b[39m \u001b[39mint\u001b[39m(dist\u001b[39m.\u001b[39mds_codigo)]\n\u001b[0;32m----> <a href='vscode-notebook-cell:/home/fernando/dev/dash-iptu/14%20-%20Preparando%20dados%20do%20IPTU%20recorrente.ipynb#Y155sZmlsZQ%3D%3D?line=3'>4</a>\u001b[0m df \u001b[39m=\u001b[39m agrupamento(df_iptu_distrito, \u001b[39m'\u001b[39;49m\u001b[39msqlc\u001b[39;49m\u001b[39m'\u001b[39;49m)\n\u001b[1;32m      <a href='vscode-notebook-cell:/home/fernando/dev/dash-iptu/14%20-%20Preparando%20dados%20do%20IPTU%20recorrente.ipynb#Y155sZmlsZQ%3D%3D?line=4'>5</a>\u001b[0m \u001b[39m# for u in ['Residencial', 'Comercial', 'Serviços', 'Industrial', 'Outros']:\u001b[39;00m\n\u001b[1;32m      <a href='vscode-notebook-cell:/home/fernando/dev/dash-iptu/14%20-%20Preparando%20dados%20do%20IPTU%20recorrente.ipynb#Y155sZmlsZQ%3D%3D?line=5'>6</a>\u001b[0m \u001b[39m#     df[f'Percentual de Uso {u}'] = df[u] / df['Área Total Construída']\u001b[39;00m\n\u001b[1;32m      <a href='vscode-notebook-cell:/home/fernando/dev/dash-iptu/14%20-%20Preparando%20dados%20do%20IPTU%20recorrente.ipynb#Y155sZmlsZQ%3D%3D?line=6'>7</a>\u001b[0m df\u001b[39m.\u001b[39mexport_hdf5(\u001b[39mf\u001b[39m\u001b[39m\"\u001b[39m\u001b[39mdata/por_distritos/IPTU-1995-\u001b[39m\u001b[39m{\u001b[39;00mexercicio_fim\u001b[39m}\u001b[39;00m\u001b[39m-agrupados-por-sqlc-\u001b[39m\u001b[39m{\u001b[39;00mdist\u001b[39m.\u001b[39mds_codigo\u001b[39m}\u001b[39;00m\u001b[39m-\u001b[39m\u001b[39m{\u001b[39;00mdist\u001b[39m.\u001b[39mds_nome\u001b[39m.\u001b[39mlower()\u001b[39m.\u001b[39mreplace(\u001b[39m'\u001b[39m\u001b[39m \u001b[39m\u001b[39m'\u001b[39m, \u001b[39m'\u001b[39m\u001b[39m-\u001b[39m\u001b[39m'\u001b[39m)\u001b[39m}\u001b[39;00m\u001b[39m.hdf5\u001b[39m\u001b[39m\"\u001b[39m)\n",
      "\u001b[1;32m/home/fernando/dev/dash-iptu/14 - Preparando dados do IPTU recorrente.ipynb Cell 91\u001b[0m in \u001b[0;36magrupamento\u001b[0;34m(df, campo)\u001b[0m\n\u001b[1;32m      <a href='vscode-notebook-cell:/home/fernando/dev/dash-iptu/14%20-%20Preparando%20dados%20do%20IPTU%20recorrente.ipynb#Y155sZmlsZQ%3D%3D?line=1'>2</a>\u001b[0m \u001b[39mdef\u001b[39;00m \u001b[39magrupamento\u001b[39m(df, campo):\n\u001b[0;32m----> <a href='vscode-notebook-cell:/home/fernando/dev/dash-iptu/14%20-%20Preparando%20dados%20do%20IPTU%20recorrente.ipynb#Y155sZmlsZQ%3D%3D?line=2'>3</a>\u001b[0m     \u001b[39mreturn\u001b[39;00m df\u001b[39m.\u001b[39;49mgroupby([campo, \u001b[39m'\u001b[39;49m\u001b[39mano\u001b[39;49m\u001b[39m'\u001b[39;49m],agg\u001b[39m=\u001b[39;49magg)\n",
      "File \u001b[0;32m~/dev/dash-iptu/venv/lib/python3.9/site-packages/vaex/dataframe.py:7092\u001b[0m, in \u001b[0;36mDataFrameLocal.groupby\u001b[0;34m(self, by, agg, sort, ascending, assume_sparse, row_limit, copy, progress, delay)\u001b[0m\n\u001b[1;32m   7090\u001b[0m     \u001b[39melse\u001b[39;00m:\n\u001b[1;32m   7091\u001b[0m         \u001b[39mreturn\u001b[39;00m groupby\u001b[39m.\u001b[39magg(agg, delay\u001b[39m=\u001b[39mdelay, progress\u001b[39m=\u001b[39mprogressbar_agg)\n\u001b[0;32m-> 7092\u001b[0m \u001b[39mreturn\u001b[39;00m \u001b[39mself\u001b[39;49m\u001b[39m.\u001b[39;49m_delay(delay, progressbar\u001b[39m.\u001b[39;49mexit_on(\u001b[39mnext\u001b[39;49m(groupby\u001b[39m.\u001b[39;49m_promise_by)))\n",
      "File \u001b[0;32m~/dev/dash-iptu/venv/lib/python3.9/site-packages/vaex/dataframe.py:1775\u001b[0m, in \u001b[0;36mDataFrame._delay\u001b[0;34m(self, delay, task, progressbar)\u001b[0m\n\u001b[1;32m   1773\u001b[0m     \u001b[39mreturn\u001b[39;00m task\n\u001b[1;32m   1774\u001b[0m \u001b[39melse\u001b[39;00m:\n\u001b[0;32m-> 1775\u001b[0m     \u001b[39mself\u001b[39;49m\u001b[39m.\u001b[39;49mexecute()\n\u001b[1;32m   1776\u001b[0m     \u001b[39mreturn\u001b[39;00m task\u001b[39m.\u001b[39mget()\n",
      "File \u001b[0;32m~/dev/dash-iptu/venv/lib/python3.9/site-packages/vaex/dataframe.py:417\u001b[0m, in \u001b[0;36mDataFrame.execute\u001b[0;34m(self)\u001b[0m\n\u001b[1;32m    415\u001b[0m         \u001b[39mprint\u001b[39m(\u001b[39mrepr\u001b[39m(task))\n\u001b[1;32m    416\u001b[0m \u001b[39mif\u001b[39;00m \u001b[39mself\u001b[39m\u001b[39m.\u001b[39mexecutor\u001b[39m.\u001b[39mtasks:\n\u001b[0;32m--> 417\u001b[0m     \u001b[39mself\u001b[39;49m\u001b[39m.\u001b[39;49mexecutor\u001b[39m.\u001b[39;49mexecute()\n",
      "File \u001b[0;32m~/dev/dash-iptu/venv/lib/python3.9/site-packages/vaex/execution.py:308\u001b[0m, in \u001b[0;36mExecutorLocal.execute\u001b[0;34m(self)\u001b[0m\n\u001b[1;32m    307\u001b[0m \u001b[39mdef\u001b[39;00m \u001b[39mexecute\u001b[39m(\u001b[39mself\u001b[39m):\n\u001b[0;32m--> 308\u001b[0m     \u001b[39mfor\u001b[39;00m _ \u001b[39min\u001b[39;00m \u001b[39mself\u001b[39m\u001b[39m.\u001b[39mexecute_generator():\n\u001b[1;32m    309\u001b[0m         \u001b[39mpass\u001b[39;00m\n",
      "File \u001b[0;32m~/dev/dash-iptu/venv/lib/python3.9/site-packages/vaex/execution.py:432\u001b[0m, in \u001b[0;36mExecutorLocal.execute_generator\u001b[0;34m(self, use_async)\u001b[0m\n\u001b[1;32m    430\u001b[0m         logger\u001b[39m.\u001b[39mdebug(\u001b[39m\"\u001b[39m\u001b[39mPass cancelled because of the global progress event: \u001b[39m\u001b[39m%r\u001b[39;00m\u001b[39m\"\u001b[39m, \u001b[39mself\u001b[39m\u001b[39m.\u001b[39msignal_progress\u001b[39m.\u001b[39mcallbacks)\n\u001b[1;32m    431\u001b[0m     \u001b[39mreturn\u001b[39;00m ok_tasks \u001b[39mand\u001b[39;00m ok_executor \u001b[39mand\u001b[39;00m \u001b[39mnot\u001b[39;00m all_stopped\n\u001b[0;32m--> 432\u001b[0m \u001b[39myield from\u001b[39;00m \u001b[39mself\u001b[39m\u001b[39m.\u001b[39mthread_pool\u001b[39m.\u001b[39mmap(\u001b[39mself\u001b[39m\u001b[39m.\u001b[39mprocess_part, dataset\u001b[39m.\u001b[39mchunk_iterator(run\u001b[39m.\u001b[39mdataset_deps, chunk_size),\n\u001b[1;32m    433\u001b[0m                                     dataset\u001b[39m.\u001b[39mrow_count,\n\u001b[1;32m    434\u001b[0m                                     progress\u001b[39m=\u001b[39mprogress,\n\u001b[1;32m    435\u001b[0m                                     cancel\u001b[39m=\u001b[39m\u001b[39mlambda\u001b[39;00m: \u001b[39mself\u001b[39m\u001b[39m.\u001b[39m_cancel(run), unpack\u001b[39m=\u001b[39m\u001b[39mTrue\u001b[39;00m, run\u001b[39m=\u001b[39mrun, use_async\u001b[39m=\u001b[39muse_async)\n\u001b[1;32m    436\u001b[0m duration_wallclock \u001b[39m=\u001b[39m time\u001b[39m.\u001b[39mtime() \u001b[39m-\u001b[39m t0\n\u001b[1;32m    437\u001b[0m logger\u001b[39m.\u001b[39mdebug(\u001b[39m\"\u001b[39m\u001b[39mexecuting took \u001b[39m\u001b[39m%r\u001b[39;00m\u001b[39m seconds\u001b[39m\u001b[39m\"\u001b[39m, duration_wallclock)\n",
      "File \u001b[0;32m~/dev/dash-iptu/venv/lib/python3.9/site-packages/vaex/multithreading.py:106\u001b[0m, in \u001b[0;36mThreadPoolIndex.map\u001b[0;34m(self, callable, iterator, count, on_error, progress, cancel, unpack, use_async, **kwargs_extra)\u001b[0m\n\u001b[1;32m    104\u001b[0m         iterator \u001b[39m=\u001b[39m (loop\u001b[39m.\u001b[39mrun_in_executor(\u001b[39mself\u001b[39m, \u001b[39mlambda\u001b[39;00m value\u001b[39m=\u001b[39mvalue: wrapped(value)) \u001b[39mfor\u001b[39;00m value \u001b[39min\u001b[39;00m cancellable_iter())\n\u001b[1;32m    105\u001b[0m     \u001b[39melse\u001b[39;00m:\n\u001b[0;32m--> 106\u001b[0m         iterator \u001b[39m=\u001b[39m \u001b[39msuper\u001b[39;49m(ThreadPoolIndex, \u001b[39mself\u001b[39;49m)\u001b[39m.\u001b[39;49mmap(wrapped, cancellable_iter())\n\u001b[1;32m    107\u001b[0m total \u001b[39m=\u001b[39m \u001b[39m0\u001b[39m\n\u001b[1;32m    108\u001b[0m iterator \u001b[39m=\u001b[39m \u001b[39miter\u001b[39m(buffer(iterator, \u001b[39mself\u001b[39m\u001b[39m.\u001b[39m_max_workers \u001b[39m+\u001b[39m \u001b[39m3\u001b[39m))\n",
      "File \u001b[0;32m~/miniconda3/lib/python3.9/concurrent/futures/_base.py:598\u001b[0m, in \u001b[0;36mExecutor.map\u001b[0;34m(self, fn, timeout, chunksize, *iterables)\u001b[0m\n\u001b[1;32m    595\u001b[0m \u001b[39mif\u001b[39;00m timeout \u001b[39mis\u001b[39;00m \u001b[39mnot\u001b[39;00m \u001b[39mNone\u001b[39;00m:\n\u001b[1;32m    596\u001b[0m     end_time \u001b[39m=\u001b[39m timeout \u001b[39m+\u001b[39m time\u001b[39m.\u001b[39mmonotonic()\n\u001b[0;32m--> 598\u001b[0m fs \u001b[39m=\u001b[39m [\u001b[39mself\u001b[39m\u001b[39m.\u001b[39msubmit(fn, \u001b[39m*\u001b[39margs) \u001b[39mfor\u001b[39;00m args \u001b[39min\u001b[39;00m \u001b[39mzip\u001b[39m(\u001b[39m*\u001b[39miterables)]\n\u001b[1;32m    600\u001b[0m \u001b[39m# Yield must be hidden in closure so that the futures are submitted\u001b[39;00m\n\u001b[1;32m    601\u001b[0m \u001b[39m# before the first iterator value is required.\u001b[39;00m\n\u001b[1;32m    602\u001b[0m \u001b[39mdef\u001b[39;00m \u001b[39mresult_iterator\u001b[39m():\n",
      "File \u001b[0;32m~/miniconda3/lib/python3.9/concurrent/futures/_base.py:598\u001b[0m, in \u001b[0;36m<listcomp>\u001b[0;34m(.0)\u001b[0m\n\u001b[1;32m    595\u001b[0m \u001b[39mif\u001b[39;00m timeout \u001b[39mis\u001b[39;00m \u001b[39mnot\u001b[39;00m \u001b[39mNone\u001b[39;00m:\n\u001b[1;32m    596\u001b[0m     end_time \u001b[39m=\u001b[39m timeout \u001b[39m+\u001b[39m time\u001b[39m.\u001b[39mmonotonic()\n\u001b[0;32m--> 598\u001b[0m fs \u001b[39m=\u001b[39m [\u001b[39mself\u001b[39m\u001b[39m.\u001b[39msubmit(fn, \u001b[39m*\u001b[39margs) \u001b[39mfor\u001b[39;00m args \u001b[39min\u001b[39;00m \u001b[39mzip\u001b[39m(\u001b[39m*\u001b[39miterables)]\n\u001b[1;32m    600\u001b[0m \u001b[39m# Yield must be hidden in closure so that the futures are submitted\u001b[39;00m\n\u001b[1;32m    601\u001b[0m \u001b[39m# before the first iterator value is required.\u001b[39;00m\n\u001b[1;32m    602\u001b[0m \u001b[39mdef\u001b[39;00m \u001b[39mresult_iterator\u001b[39m():\n",
      "File \u001b[0;32m~/dev/dash-iptu/venv/lib/python3.9/site-packages/vaex/multithreading.py:92\u001b[0m, in \u001b[0;36mThreadPoolIndex.map.<locals>.cancellable_iter\u001b[0;34m()\u001b[0m\n\u001b[1;32m     91\u001b[0m \u001b[39mdef\u001b[39;00m \u001b[39mcancellable_iter\u001b[39m():\n\u001b[0;32m---> 92\u001b[0m     \u001b[39mfor\u001b[39;00m value \u001b[39min\u001b[39;00m chunk_iterator:\n\u001b[1;32m     93\u001b[0m         \u001b[39myield\u001b[39;00m value\n\u001b[1;32m     94\u001b[0m         \u001b[39mif\u001b[39;00m cancelled:\n",
      "File \u001b[0;32m~/dev/dash-iptu/venv/lib/python3.9/site-packages/vaex/dataset.py:649\u001b[0m, in \u001b[0;36mDatasetRenamed.chunk_iterator\u001b[0;34m(self, columns, chunk_size, reverse)\u001b[0m\n\u001b[1;32m    647\u001b[0m         \u001b[39mraise\u001b[39;00m \u001b[39mKeyError\u001b[39;00m(\u001b[39mf\u001b[39m\u001b[39m'\u001b[39m\u001b[39mOops, you tried to get column \u001b[39m\u001b[39m{\u001b[39;00mname\u001b[39m}\u001b[39;00m\u001b[39m, but you renamed it to \u001b[39m\u001b[39m{\u001b[39;00mrename\u001b[39m}\u001b[39;00m\u001b[39m'\u001b[39m)\n\u001b[1;32m    648\u001b[0m columns \u001b[39m=\u001b[39m [\u001b[39mself\u001b[39m\u001b[39m.\u001b[39mreverse\u001b[39m.\u001b[39mget(name, name) \u001b[39mfor\u001b[39;00m name \u001b[39min\u001b[39;00m columns]\n\u001b[0;32m--> 649\u001b[0m \u001b[39mfor\u001b[39;00m i1, i2, chunks \u001b[39min\u001b[39;00m \u001b[39mself\u001b[39m\u001b[39m.\u001b[39moriginal\u001b[39m.\u001b[39mchunk_iterator(columns, chunk_size, reverse\u001b[39m=\u001b[39mreverse):\n\u001b[1;32m    650\u001b[0m     \u001b[39myield\u001b[39;00m i1, i2, {\u001b[39mself\u001b[39m\u001b[39m.\u001b[39mrenaming\u001b[39m.\u001b[39mget(name, name): ar \u001b[39mfor\u001b[39;00m name, ar \u001b[39min\u001b[39;00m chunks\u001b[39m.\u001b[39mitems()}\n",
      "File \u001b[0;32m~/dev/dash-iptu/venv/lib/python3.9/site-packages/vaex/join.py:65\u001b[0m, in \u001b[0;36mDatasetJoin.chunk_iterator\u001b[0;34m(self, *args, **kwargs)\u001b[0m\n\u001b[1;32m     64\u001b[0m \u001b[39mdef\u001b[39;00m \u001b[39mchunk_iterator\u001b[39m(\u001b[39mself\u001b[39m, \u001b[39m*\u001b[39margs, \u001b[39m*\u001b[39m\u001b[39m*\u001b[39mkwargs):\n\u001b[0;32m---> 65\u001b[0m     \u001b[39myield from\u001b[39;00m \u001b[39mself\u001b[39m\u001b[39m.\u001b[39moriginal\u001b[39m.\u001b[39mchunk_iterator(\u001b[39m*\u001b[39margs, \u001b[39m*\u001b[39m\u001b[39m*\u001b[39mkwargs)\n",
      "File \u001b[0;32m~/dev/dash-iptu/venv/lib/python3.9/site-packages/vaex/dataset.py:1236\u001b[0m, in \u001b[0;36mDatasetMerged.chunk_iterator\u001b[0;34m(self, columns, chunk_size, reverse)\u001b[0m\n\u001b[1;32m   1234\u001b[0m     \u001b[39myield from\u001b[39;00m \u001b[39mself\u001b[39m\u001b[39m.\u001b[39mright\u001b[39m.\u001b[39mchunk_iterator(columns, chunk_size, reverse\u001b[39m=\u001b[39mreverse)\n\u001b[1;32m   1235\u001b[0m \u001b[39melif\u001b[39;00m \u001b[39mnot\u001b[39;00m columns_right:\n\u001b[0;32m-> 1236\u001b[0m     \u001b[39myield from\u001b[39;00m \u001b[39mself\u001b[39m\u001b[39m.\u001b[39mleft\u001b[39m.\u001b[39mchunk_iterator(columns, chunk_size, reverse\u001b[39m=\u001b[39mreverse)\n\u001b[1;32m   1237\u001b[0m \u001b[39melse\u001b[39;00m:\n\u001b[1;32m   1238\u001b[0m     \u001b[39mfor\u001b[39;00m (i1, i2, ichunks), (j1, j2, jchunks) \u001b[39min\u001b[39;00m \u001b[39mzip\u001b[39m(\n\u001b[1;32m   1239\u001b[0m         \u001b[39mself\u001b[39m\u001b[39m.\u001b[39mleft\u001b[39m.\u001b[39mchunk_iterator(columns_left, chunk_size, reverse\u001b[39m=\u001b[39mreverse),\n\u001b[1;32m   1240\u001b[0m         \u001b[39mself\u001b[39m\u001b[39m.\u001b[39mright\u001b[39m.\u001b[39mchunk_iterator(columns_right, chunk_size, reverse\u001b[39m=\u001b[39mreverse)):\n\u001b[1;32m   1241\u001b[0m         \u001b[39m# TODO: if one of the datasets does not respect the chunk_size (e.g. parquet)\u001b[39;00m\n\u001b[1;32m   1242\u001b[0m         \u001b[39m# this might fail\u001b[39;00m\n",
      "File \u001b[0;32m~/dev/dash-iptu/venv/lib/python3.9/site-packages/vaex/dataset.py:649\u001b[0m, in \u001b[0;36mDatasetRenamed.chunk_iterator\u001b[0;34m(self, columns, chunk_size, reverse)\u001b[0m\n\u001b[1;32m    647\u001b[0m         \u001b[39mraise\u001b[39;00m \u001b[39mKeyError\u001b[39;00m(\u001b[39mf\u001b[39m\u001b[39m'\u001b[39m\u001b[39mOops, you tried to get column \u001b[39m\u001b[39m{\u001b[39;00mname\u001b[39m}\u001b[39;00m\u001b[39m, but you renamed it to \u001b[39m\u001b[39m{\u001b[39;00mrename\u001b[39m}\u001b[39;00m\u001b[39m'\u001b[39m)\n\u001b[1;32m    648\u001b[0m columns \u001b[39m=\u001b[39m [\u001b[39mself\u001b[39m\u001b[39m.\u001b[39mreverse\u001b[39m.\u001b[39mget(name, name) \u001b[39mfor\u001b[39;00m name \u001b[39min\u001b[39;00m columns]\n\u001b[0;32m--> 649\u001b[0m \u001b[39mfor\u001b[39;00m i1, i2, chunks \u001b[39min\u001b[39;00m \u001b[39mself\u001b[39m\u001b[39m.\u001b[39moriginal\u001b[39m.\u001b[39mchunk_iterator(columns, chunk_size, reverse\u001b[39m=\u001b[39mreverse):\n\u001b[1;32m    650\u001b[0m     \u001b[39myield\u001b[39;00m i1, i2, {\u001b[39mself\u001b[39m\u001b[39m.\u001b[39mrenaming\u001b[39m.\u001b[39mget(name, name): ar \u001b[39mfor\u001b[39;00m name, ar \u001b[39min\u001b[39;00m chunks\u001b[39m.\u001b[39mitems()}\n",
      "File \u001b[0;32m~/dev/dash-iptu/venv/lib/python3.9/site-packages/vaex/join.py:65\u001b[0m, in \u001b[0;36mDatasetJoin.chunk_iterator\u001b[0;34m(self, *args, **kwargs)\u001b[0m\n\u001b[1;32m     64\u001b[0m \u001b[39mdef\u001b[39;00m \u001b[39mchunk_iterator\u001b[39m(\u001b[39mself\u001b[39m, \u001b[39m*\u001b[39margs, \u001b[39m*\u001b[39m\u001b[39m*\u001b[39mkwargs):\n\u001b[0;32m---> 65\u001b[0m     \u001b[39myield from\u001b[39;00m \u001b[39mself\u001b[39m\u001b[39m.\u001b[39moriginal\u001b[39m.\u001b[39mchunk_iterator(\u001b[39m*\u001b[39margs, \u001b[39m*\u001b[39m\u001b[39m*\u001b[39mkwargs)\n",
      "File \u001b[0;32m~/dev/dash-iptu/venv/lib/python3.9/site-packages/vaex/dataset.py:1236\u001b[0m, in \u001b[0;36mDatasetMerged.chunk_iterator\u001b[0;34m(self, columns, chunk_size, reverse)\u001b[0m\n\u001b[1;32m   1234\u001b[0m     \u001b[39myield from\u001b[39;00m \u001b[39mself\u001b[39m\u001b[39m.\u001b[39mright\u001b[39m.\u001b[39mchunk_iterator(columns, chunk_size, reverse\u001b[39m=\u001b[39mreverse)\n\u001b[1;32m   1235\u001b[0m \u001b[39melif\u001b[39;00m \u001b[39mnot\u001b[39;00m columns_right:\n\u001b[0;32m-> 1236\u001b[0m     \u001b[39myield from\u001b[39;00m \u001b[39mself\u001b[39m\u001b[39m.\u001b[39mleft\u001b[39m.\u001b[39mchunk_iterator(columns, chunk_size, reverse\u001b[39m=\u001b[39mreverse)\n\u001b[1;32m   1237\u001b[0m \u001b[39melse\u001b[39;00m:\n\u001b[1;32m   1238\u001b[0m     \u001b[39mfor\u001b[39;00m (i1, i2, ichunks), (j1, j2, jchunks) \u001b[39min\u001b[39;00m \u001b[39mzip\u001b[39m(\n\u001b[1;32m   1239\u001b[0m         \u001b[39mself\u001b[39m\u001b[39m.\u001b[39mleft\u001b[39m.\u001b[39mchunk_iterator(columns_left, chunk_size, reverse\u001b[39m=\u001b[39mreverse),\n\u001b[1;32m   1240\u001b[0m         \u001b[39mself\u001b[39m\u001b[39m.\u001b[39mright\u001b[39m.\u001b[39mchunk_iterator(columns_right, chunk_size, reverse\u001b[39m=\u001b[39mreverse)):\n\u001b[1;32m   1241\u001b[0m         \u001b[39m# TODO: if one of the datasets does not respect the chunk_size (e.g. parquet)\u001b[39;00m\n\u001b[1;32m   1242\u001b[0m         \u001b[39m# this might fail\u001b[39;00m\n",
      "File \u001b[0;32m~/dev/dash-iptu/venv/lib/python3.9/site-packages/vaex/join.py:65\u001b[0m, in \u001b[0;36mDatasetJoin.chunk_iterator\u001b[0;34m(self, *args, **kwargs)\u001b[0m\n\u001b[1;32m     64\u001b[0m \u001b[39mdef\u001b[39;00m \u001b[39mchunk_iterator\u001b[39m(\u001b[39mself\u001b[39m, \u001b[39m*\u001b[39margs, \u001b[39m*\u001b[39m\u001b[39m*\u001b[39mkwargs):\n\u001b[0;32m---> 65\u001b[0m     \u001b[39myield from\u001b[39;00m \u001b[39mself\u001b[39m\u001b[39m.\u001b[39moriginal\u001b[39m.\u001b[39mchunk_iterator(\u001b[39m*\u001b[39margs, \u001b[39m*\u001b[39m\u001b[39m*\u001b[39mkwargs)\n",
      "File \u001b[0;32m~/dev/dash-iptu/venv/lib/python3.9/site-packages/vaex/dataset.py:1238\u001b[0m, in \u001b[0;36mDatasetMerged.chunk_iterator\u001b[0;34m(self, columns, chunk_size, reverse)\u001b[0m\n\u001b[1;32m   1236\u001b[0m     \u001b[39myield from\u001b[39;00m \u001b[39mself\u001b[39m\u001b[39m.\u001b[39mleft\u001b[39m.\u001b[39mchunk_iterator(columns, chunk_size, reverse\u001b[39m=\u001b[39mreverse)\n\u001b[1;32m   1237\u001b[0m \u001b[39melse\u001b[39;00m:\n\u001b[0;32m-> 1238\u001b[0m     \u001b[39mfor\u001b[39;00m (i1, i2, ichunks), (j1, j2, jchunks) \u001b[39min\u001b[39;00m \u001b[39mzip\u001b[39m(\n\u001b[1;32m   1239\u001b[0m         \u001b[39mself\u001b[39m\u001b[39m.\u001b[39mleft\u001b[39m.\u001b[39mchunk_iterator(columns_left, chunk_size, reverse\u001b[39m=\u001b[39mreverse),\n\u001b[1;32m   1240\u001b[0m         \u001b[39mself\u001b[39m\u001b[39m.\u001b[39mright\u001b[39m.\u001b[39mchunk_iterator(columns_right, chunk_size, reverse\u001b[39m=\u001b[39mreverse)):\n\u001b[1;32m   1241\u001b[0m         \u001b[39m# TODO: if one of the datasets does not respect the chunk_size (e.g. parquet)\u001b[39;00m\n\u001b[1;32m   1242\u001b[0m         \u001b[39m# this might fail\u001b[39;00m\n\u001b[1;32m   1243\u001b[0m         \u001b[39massert\u001b[39;00m i1 \u001b[39m==\u001b[39m j1\n\u001b[1;32m   1244\u001b[0m         \u001b[39massert\u001b[39;00m i2 \u001b[39m==\u001b[39m j2\n",
      "File \u001b[0;32m~/dev/dash-iptu/venv/lib/python3.9/site-packages/vaex/dataset.py:913\u001b[0m, in \u001b[0;36mDatasetTake.chunk_iterator\u001b[0;34m(self, columns, chunk_size, reverse)\u001b[0m\n\u001b[1;32m    910\u001b[0m \u001b[39mdef\u001b[39;00m \u001b[39mchunk_iterator\u001b[39m(\u001b[39mself\u001b[39m, columns, chunk_size\u001b[39m=\u001b[39m\u001b[39mNone\u001b[39;00m, reverse\u001b[39m=\u001b[39m\u001b[39mFalse\u001b[39;00m):\n\u001b[1;32m    911\u001b[0m     \u001b[39m# TODO: we may be able to do this slightly more efficient by first\u001b[39;00m\n\u001b[1;32m    912\u001b[0m     \u001b[39m# materializing the columns\u001b[39;00m\n\u001b[0;32m--> 913\u001b[0m     \u001b[39myield from\u001b[39;00m \u001b[39mself\u001b[39m\u001b[39m.\u001b[39m_default_chunk_iterator(\u001b[39mself\u001b[39m\u001b[39m.\u001b[39m_columns, columns, chunk_size, reverse\u001b[39m=\u001b[39mreverse)\n",
      "File \u001b[0;32m~/dev/dash-iptu/venv/lib/python3.9/site-packages/vaex/dataset.py:508\u001b[0m, in \u001b[0;36mDataset._default_chunk_iterator\u001b[0;34m(self, array_map, columns, chunk_size, reverse)\u001b[0m\n\u001b[1;32m    506\u001b[0m \u001b[39mdef\u001b[39;00m \u001b[39m_default_chunk_iterator\u001b[39m(\u001b[39mself\u001b[39m, array_map, columns, chunk_size, reverse\u001b[39m=\u001b[39m\u001b[39mFalse\u001b[39;00m):\n\u001b[1;32m    507\u001b[0m     \u001b[39mfor\u001b[39;00m i1, i2, reader \u001b[39min\u001b[39;00m \u001b[39mself\u001b[39m\u001b[39m.\u001b[39m_default_lazy_chunk_iterator(array_map, columns, chunk_size, reverse):\n\u001b[0;32m--> 508\u001b[0m         \u001b[39myield\u001b[39;00m i1, i2, reader()\n",
      "File \u001b[0;32m~/dev/dash-iptu/venv/lib/python3.9/site-packages/vaex/dataset.py:499\u001b[0m, in \u001b[0;36mDataset._default_lazy_chunk_iterator.<locals>.reader\u001b[0;34m(i1, i2)\u001b[0m\n\u001b[1;32m    498\u001b[0m \u001b[39mdef\u001b[39;00m \u001b[39mreader\u001b[39m(i1\u001b[39m=\u001b[39mi1, i2\u001b[39m=\u001b[39mi2):\n\u001b[0;32m--> 499\u001b[0m     chunks \u001b[39m=\u001b[39m {k: array_map[k][i1:i2] \u001b[39mfor\u001b[39;00m k \u001b[39min\u001b[39;00m columns}\n\u001b[1;32m    500\u001b[0m     length \u001b[39m=\u001b[39m i2 \u001b[39m-\u001b[39m i1\n\u001b[1;32m    501\u001b[0m     \u001b[39mfor\u001b[39;00m name, chunk \u001b[39min\u001b[39;00m chunks\u001b[39m.\u001b[39mitems():\n",
      "File \u001b[0;32m~/dev/dash-iptu/venv/lib/python3.9/site-packages/vaex/dataset.py:499\u001b[0m, in \u001b[0;36m<dictcomp>\u001b[0;34m(.0)\u001b[0m\n\u001b[1;32m    498\u001b[0m \u001b[39mdef\u001b[39;00m \u001b[39mreader\u001b[39m(i1\u001b[39m=\u001b[39mi1, i2\u001b[39m=\u001b[39mi2):\n\u001b[0;32m--> 499\u001b[0m     chunks \u001b[39m=\u001b[39m {k: array_map[k][i1:i2] \u001b[39mfor\u001b[39;00m k \u001b[39min\u001b[39;00m columns}\n\u001b[1;32m    500\u001b[0m     length \u001b[39m=\u001b[39m i2 \u001b[39m-\u001b[39m i1\n\u001b[1;32m    501\u001b[0m     \u001b[39mfor\u001b[39;00m name, chunk \u001b[39min\u001b[39;00m chunks\u001b[39m.\u001b[39mitems():\n",
      "File \u001b[0;32m~/dev/dash-iptu/venv/lib/python3.9/site-packages/vaex/column.py:362\u001b[0m, in \u001b[0;36mColumnIndexed.__getitem__\u001b[0;34m(self, slice)\u001b[0m\n\u001b[1;32m    357\u001b[0m \u001b[39mif\u001b[39;00m \u001b[39misinstance\u001b[39m(ar_unfiltered, Column):\n\u001b[1;32m    358\u001b[0m     \u001b[39m# TODO: this is a workaround, since we do not require yet\u001b[39;00m\n\u001b[1;32m    359\u001b[0m     \u001b[39m# that Column classes know how to deal with indices, we get\u001b[39;00m\n\u001b[1;32m    360\u001b[0m     \u001b[39m# the minimal slice, and get those (not the most efficient)\u001b[39;00m\n\u001b[1;32m    361\u001b[0m     \u001b[39mif\u001b[39;00m \u001b[39mself\u001b[39m\u001b[39m.\u001b[39mmasked:\n\u001b[0;32m--> 362\u001b[0m         unmasked_indices \u001b[39m=\u001b[39m indices[\u001b[39m~\u001b[39;49mmask]\n\u001b[1;32m    363\u001b[0m         \u001b[39mif\u001b[39;00m \u001b[39mlen\u001b[39m(unmasked_indices) \u001b[39m>\u001b[39m \u001b[39m0\u001b[39m:\n\u001b[1;32m    364\u001b[0m             i1, i2 \u001b[39m=\u001b[39m np\u001b[39m.\u001b[39mmin(unmasked_indices), np\u001b[39m.\u001b[39mmax(unmasked_indices)\n",
      "\u001b[0;31mKeyboardInterrupt\u001b[0m: "
     ]
    }
   ],
   "source": [
    "for i, dist in gdf_distritos.iterrows():\n",
    "    print(dist.ds_codigo, dist.ds_nome.lower().replace(' ', '-'))\n",
    "    df_iptu_distrito = df_iptu[df_iptu.distrito == int(dist.ds_codigo)]\n",
    "    df = agrupamento(df_iptu_distrito, 'sqlc')\n",
    "    # for u in ['Residencial', 'Comercial', 'Serviços', 'Industrial', 'Outros']:\n",
    "    #     df[f'Percentual de Uso {u}'] = df[u] / df['Área Total Construída']\n",
    "    df.export_hdf5(f\"data/por_distritos/IPTU-1995-{exercicio_fim}-agrupados-por-sqlc-{dist.ds_codigo}-{dist.ds_nome.lower().replace(' ', '-')}.hdf5\")\n",
    "    # break    "
   ]
  },
  {
   "cell_type": "code",
   "execution_count": null,
   "metadata": {},
   "outputs": [],
   "source": [
    "# dfs[0]"
   ]
  },
  {
   "cell_type": "code",
   "execution_count": null,
   "metadata": {},
   "outputs": [],
   "source": [
    "# df_iptu_distrito = vaex.open('data/IPTU-1995-2022-agrupados-por-distrito.hdf5')\n",
    "# df_iptu_subprefeitura = vaex.open('data/IPTU-1995-2022-agrupados-por-subprefeitura.hdf5')\n",
    "# df_iptu_od = vaex.open('data/IPTU-1995-2022-agrupados-por-od.hdf5')\n",
    "\n",
    "# df_iptu_distrito, df_iptu_subprefeitura, df_iptu_od, df_iptu_censo, df_iptu_sq, df_iptu_sqlc = dfs"
   ]
  },
  {
   "cell_type": "code",
   "execution_count": null,
   "metadata": {},
   "outputs": [],
   "source": [
    "# f\"{format(df_iptu_distrito['Quantidade de Unidades'].sum(), ',d').replace(',', '.')} seila\""
   ]
  },
  {
   "cell_type": "code",
   "execution_count": null,
   "metadata": {},
   "outputs": [],
   "source": [
    "# df_iptu_sqlc.shape"
   ]
  },
  {
   "cell_type": "code",
   "execution_count": null,
   "metadata": {},
   "outputs": [],
   "source": [
    "# df_iptu_subprefeitura[\"CA médio\"].max()"
   ]
  },
  {
   "cell_type": "code",
   "execution_count": null,
   "metadata": {},
   "outputs": [],
   "source": [
    "# df_iptu_od[\"CA médio\"].max()"
   ]
  },
  {
   "cell_type": "code",
   "execution_count": null,
   "metadata": {},
   "outputs": [],
   "source": [
    "# df_iptu.sqlc"
   ]
  },
  {
   "cell_type": "code",
   "execution_count": null,
   "metadata": {},
   "outputs": [],
   "source": []
  },
  {
   "cell_type": "code",
   "execution_count": null,
   "metadata": {},
   "outputs": [],
   "source": []
  },
  {
   "cell_type": "code",
   "execution_count": null,
   "metadata": {},
   "outputs": [],
   "source": []
  }
 ],
 "metadata": {
  "kernelspec": {
   "display_name": "Python 3 (ipykernel)",
   "language": "python",
   "name": "python3"
  },
  "language_info": {
   "codemirror_mode": {
    "name": "ipython",
    "version": 3
   },
   "file_extension": ".py",
   "mimetype": "text/x-python",
   "name": "python",
   "nbconvert_exporter": "python",
   "pygments_lexer": "ipython3",
   "version": "3.9.12"
  },
  "vscode": {
   "interpreter": {
    "hash": "c1fb877d92570f95ca9cf21ba8296078ed0d1ac0c428c438ea8488773b3aa6c6"
   }
  }
 },
 "nbformat": 4,
 "nbformat_minor": 2
}
