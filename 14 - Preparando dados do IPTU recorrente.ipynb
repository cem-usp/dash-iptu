{
 "cells": [
  {
   "attachments": {},
   "cell_type": "markdown",
   "metadata": {},
   "source": [
    "# Preparando os dados do IPTU recorrente\n",
    "\n",
    "Esse processamento é realizado recorrente a cada ano, LER NO README"
   ]
  },
  {
   "cell_type": "code",
   "execution_count": 1,
   "metadata": {},
   "outputs": [
    {
     "name": "stderr",
     "output_type": "stream",
     "text": [
      "/home/fernando/miniconda3/envs/dash/lib/python3.9/site-packages/geopandas/_compat.py:111: UserWarning: The Shapely GEOS version (3.10.2-CAPI-1.16.0) is incompatible with the GEOS version PyGEOS was compiled with (3.10.1-CAPI-1.16.0). Conversions between both will be slow.\n",
      "  warnings.warn(\n"
     ]
    }
   ],
   "source": [
    "import vaex\n",
    "import geopandas as gpd\n",
    "from shapely.validation import make_valid\n",
    "from difflib import SequenceMatcher\n",
    "import numpy as np\n",
    "import pandas as pd\n",
    "# import pygeos"
   ]
  },
  {
   "cell_type": "code",
   "execution_count": 2,
   "metadata": {},
   "outputs": [],
   "source": [
    "gdf_distritos = gpd.read_file('data/SIRGAS_GPKG_distrito.gpkg')\n",
    "\n",
    "gdf_quadras = gpd.read_file('zip://data/SIRGAS_SHP_quadraMDSF.zip!SIRGAS_SHP_quadraMDSF/SIRGAS_SHP_quadraMDSF.shp')\n",
    "gdf_quadras = gdf_quadras.set_crs(epsg=31983)\n",
    "gdf_quadras = gdf_quadras[gdf_quadras.qd_tipo == 'F']\n",
    "gdf_quadras = gdf_quadras.dissolve(['qd_setor', 'qd_fiscal']).reset_index()\n",
    "gdf_quadras_centroid = gdf_quadras.copy()\n",
    "gdf_quadras_centroid.geometry = gdf_quadras_centroid.representative_point()"
   ]
  },
  {
   "cell_type": "code",
   "execution_count": 3,
   "metadata": {},
   "outputs": [
    {
     "data": {
      "text/plain": [
       "((45655, 10), (45655, 10))"
      ]
     },
     "execution_count": 3,
     "metadata": {},
     "output_type": "execute_result"
    }
   ],
   "source": [
    "gdf_quadras.shape, gdf_quadras_centroid.shape"
   ]
  },
  {
   "cell_type": "code",
   "execution_count": 4,
   "metadata": {},
   "outputs": [],
   "source": [
    "gdf_quadras_distritos = gdf_quadras_centroid.sjoin(gdf_distritos, how='left', predicate='intersects')\n",
    "gdf_quadras_distritos.drop('index_right', axis=1, inplace=True)"
   ]
  },
  {
   "cell_type": "code",
   "execution_count": 5,
   "metadata": {},
   "outputs": [
    {
     "data": {
      "text/plain": [
       "((45655, 10), (45655, 15))"
      ]
     },
     "execution_count": 5,
     "metadata": {},
     "output_type": "execute_result"
    }
   ],
   "source": [
    "gdf_quadras.shape, gdf_quadras_distritos.shape"
   ]
  },
  {
   "cell_type": "code",
   "execution_count": 6,
   "metadata": {},
   "outputs": [],
   "source": [
    "gdf_quadras_distritos['sq'] = gdf_quadras_distritos.qd_setor + gdf_quadras_distritos.qd_fiscal"
   ]
  },
  {
   "cell_type": "code",
   "execution_count": 7,
   "metadata": {},
   "outputs": [
    {
     "name": "stderr",
     "output_type": "stream",
     "text": [
      "/home/fernando/miniconda3/envs/dash/lib/python3.9/site-packages/geopandas/io/file.py:362: FutureWarning: pandas.Int64Index is deprecated and will be removed from pandas in a future version. Use pandas.Index with the appropriate dtype instead.\n",
      "  pd.Int64Index,\n"
     ]
    }
   ],
   "source": [
    "gpd.GeoDataFrame(gdf_quadras_distritos[['sq', 'ds_codigo', 'ds_nome']], geometry=gdf_quadras.geometry,\n",
    "                crs='EPSG:31983').to_file('data/quadras.gpkg')"
   ]
  },
  {
   "cell_type": "code",
   "execution_count": 8,
   "metadata": {},
   "outputs": [
    {
     "name": "stderr",
     "output_type": "stream",
     "text": [
      "/home/fernando/miniconda3/envs/dash/lib/python3.9/site-packages/geopandas/geodataframe.py:1351: SettingWithCopyWarning: \n",
      "A value is trying to be set on a copy of a slice from a DataFrame.\n",
      "Try using .loc[row_indexer,col_indexer] = value instead\n",
      "\n",
      "See the caveats in the documentation: https://pandas.pydata.org/pandas-docs/stable/user_guide/indexing.html#returning-a-view-versus-a-copy\n",
      "  super().__setitem__(key, value)\n"
     ]
    }
   ],
   "source": [
    "gdf_od = gpd.read_file('zip://data/SIRGAS_SHP_origemdestino_2017.zip!SIRGAS_SHP_origemdestino_2017')\n",
    "gdf_od_sp = gdf_od[gdf_od.od_municip == '36']\n",
    "gdf_od_sp.set_crs(epsg=31983, inplace=True)\n",
    "gdf_quadras_distritos_od = gdf_quadras_distritos.sjoin(gdf_od_sp, how='left', predicate='intersects')\n",
    "\n",
    "df_quadras_distritos_od = gdf_quadras_distritos_od.loc[:, ['qd_setor', 'qd_fiscal', 'ds_codigo', 'ds_nome', 'ds_cd_sub', 'ds_subpref', 'od_id', 'od_nome']]\n",
    "df_quadras_distritos_od.loc[:, ['sq']] = df_quadras_distritos_od.qd_setor + df_quadras_distritos_od.qd_fiscal\n",
    "# df_quadras_distritos_od.drop_duplicates(keep='first', inplace=True, ignore_index=True)"
   ]
  },
  {
   "cell_type": "code",
   "execution_count": 9,
   "metadata": {},
   "outputs": [
    {
     "data": {
      "text/html": [
       "<div>\n",
       "<style scoped>\n",
       "    .dataframe tbody tr th:only-of-type {\n",
       "        vertical-align: middle;\n",
       "    }\n",
       "\n",
       "    .dataframe tbody tr th {\n",
       "        vertical-align: top;\n",
       "    }\n",
       "\n",
       "    .dataframe thead th {\n",
       "        text-align: right;\n",
       "    }\n",
       "</style>\n",
       "<table border=\"1\" class=\"dataframe\">\n",
       "  <thead>\n",
       "    <tr style=\"text-align: right;\">\n",
       "      <th></th>\n",
       "      <th>ds_codigo</th>\n",
       "      <th>ds_subpref</th>\n",
       "      <th>ds_cd_sub</th>\n",
       "      <th>ds_sigla</th>\n",
       "      <th>ds_nome</th>\n",
       "      <th>geometry</th>\n",
       "    </tr>\n",
       "  </thead>\n",
       "  <tbody>\n",
       "    <tr>\n",
       "      <th>38</th>\n",
       "      <td>1</td>\n",
       "      <td>MOOCA</td>\n",
       "      <td>25</td>\n",
       "      <td>ARA</td>\n",
       "      <td>AGUA RASA</td>\n",
       "      <td>POLYGON ((341093.380 7391912.491, 341093.329 7...</td>\n",
       "    </tr>\n",
       "    <tr>\n",
       "      <th>55</th>\n",
       "      <td>2</td>\n",
       "      <td>PINHEIROS</td>\n",
       "      <td>11</td>\n",
       "      <td>API</td>\n",
       "      <td>ALTO DE PINHEIROS</td>\n",
       "      <td>POLYGON ((326739.457 7395585.840, 326741.473 7...</td>\n",
       "    </tr>\n",
       "    <tr>\n",
       "      <th>70</th>\n",
       "      <td>3</td>\n",
       "      <td>PERUS</td>\n",
       "      <td>01</td>\n",
       "      <td>ANH</td>\n",
       "      <td>ANHANGUERA</td>\n",
       "      <td>POLYGON ((318695.858 7403032.323, 318677.730 7...</td>\n",
       "    </tr>\n",
       "    <tr>\n",
       "      <th>43</th>\n",
       "      <td>4</td>\n",
       "      <td>ARICANDUVA-FORMOSA-CARRAO</td>\n",
       "      <td>26</td>\n",
       "      <td>ARI</td>\n",
       "      <td>ARICANDUVA</td>\n",
       "      <td>POLYGON ((344068.781 7390960.855, 344068.149 7...</td>\n",
       "    </tr>\n",
       "    <tr>\n",
       "      <th>11</th>\n",
       "      <td>5</td>\n",
       "      <td>PENHA</td>\n",
       "      <td>21</td>\n",
       "      <td>AAL</td>\n",
       "      <td>ARTUR ALVIM</td>\n",
       "      <td>POLYGON ((349416.226 7397718.808, 349416.884 7...</td>\n",
       "    </tr>\n",
       "    <tr>\n",
       "      <th>...</th>\n",
       "      <td>...</td>\n",
       "      <td>...</td>\n",
       "      <td>...</td>\n",
       "      <td>...</td>\n",
       "      <td>...</td>\n",
       "      <td>...</td>\n",
       "    </tr>\n",
       "    <tr>\n",
       "      <th>77</th>\n",
       "      <td>90</td>\n",
       "      <td>VILA MARIANA</td>\n",
       "      <td>12</td>\n",
       "      <td>VMN</td>\n",
       "      <td>VILA MARIANA</td>\n",
       "      <td>POLYGON ((332359.740 7389124.109, 332309.630 7...</td>\n",
       "    </tr>\n",
       "    <tr>\n",
       "      <th>14</th>\n",
       "      <td>91</td>\n",
       "      <td>PENHA</td>\n",
       "      <td>21</td>\n",
       "      <td>VMT</td>\n",
       "      <td>VILA MATILDE</td>\n",
       "      <td>POLYGON ((341949.933 7396395.900, 341934.334 7...</td>\n",
       "    </tr>\n",
       "    <tr>\n",
       "      <th>10</th>\n",
       "      <td>92</td>\n",
       "      <td>VILA MARIA-VILA GUILHERME</td>\n",
       "      <td>07</td>\n",
       "      <td>VMD</td>\n",
       "      <td>VILA MEDEIROS</td>\n",
       "      <td>POLYGON ((340579.417 7401672.553, 340579.493 7...</td>\n",
       "    </tr>\n",
       "    <tr>\n",
       "      <th>47</th>\n",
       "      <td>93</td>\n",
       "      <td>VILA PRUDENTE</td>\n",
       "      <td>29</td>\n",
       "      <td>VPR</td>\n",
       "      <td>VILA PRUDENTE</td>\n",
       "      <td>POLYGON ((341731.295 7388459.495, 341723.755 7...</td>\n",
       "    </tr>\n",
       "    <tr>\n",
       "      <th>51</th>\n",
       "      <td>94</td>\n",
       "      <td>BUTANTA</td>\n",
       "      <td>10</td>\n",
       "      <td>VSO</td>\n",
       "      <td>VILA SONIA</td>\n",
       "      <td>POLYGON ((320805.525 7390280.495, 320824.353 7...</td>\n",
       "    </tr>\n",
       "  </tbody>\n",
       "</table>\n",
       "<p>96 rows × 6 columns</p>\n",
       "</div>"
      ],
      "text/plain": [
       "   ds_codigo                 ds_subpref ds_cd_sub ds_sigla            ds_nome  \\\n",
       "38         1                      MOOCA        25      ARA          AGUA RASA   \n",
       "55         2                  PINHEIROS        11      API  ALTO DE PINHEIROS   \n",
       "70         3                      PERUS        01      ANH         ANHANGUERA   \n",
       "43         4  ARICANDUVA-FORMOSA-CARRAO        26      ARI         ARICANDUVA   \n",
       "11         5                      PENHA        21      AAL        ARTUR ALVIM   \n",
       "..       ...                        ...       ...      ...                ...   \n",
       "77        90               VILA MARIANA        12      VMN       VILA MARIANA   \n",
       "14        91                      PENHA        21      VMT       VILA MATILDE   \n",
       "10        92  VILA MARIA-VILA GUILHERME        07      VMD      VILA MEDEIROS   \n",
       "47        93              VILA PRUDENTE        29      VPR      VILA PRUDENTE   \n",
       "51        94                    BUTANTA        10      VSO         VILA SONIA   \n",
       "\n",
       "                                             geometry  \n",
       "38  POLYGON ((341093.380 7391912.491, 341093.329 7...  \n",
       "55  POLYGON ((326739.457 7395585.840, 326741.473 7...  \n",
       "70  POLYGON ((318695.858 7403032.323, 318677.730 7...  \n",
       "43  POLYGON ((344068.781 7390960.855, 344068.149 7...  \n",
       "11  POLYGON ((349416.226 7397718.808, 349416.884 7...  \n",
       "..                                                ...  \n",
       "77  POLYGON ((332359.740 7389124.109, 332309.630 7...  \n",
       "14  POLYGON ((341949.933 7396395.900, 341934.334 7...  \n",
       "10  POLYGON ((340579.417 7401672.553, 340579.493 7...  \n",
       "47  POLYGON ((341731.295 7388459.495, 341723.755 7...  \n",
       "51  POLYGON ((320805.525 7390280.495, 320824.353 7...  \n",
       "\n",
       "[96 rows x 6 columns]"
      ]
     },
     "execution_count": 9,
     "metadata": {},
     "output_type": "execute_result"
    }
   ],
   "source": [
    "gdf_distritos.sort_values('ds_nome')"
   ]
  },
  {
   "cell_type": "code",
   "execution_count": 10,
   "metadata": {},
   "outputs": [
    {
     "data": {
      "text/plain": [
       "((45655, 10), (45655, 9))"
      ]
     },
     "execution_count": 10,
     "metadata": {},
     "output_type": "execute_result"
    }
   ],
   "source": [
    "gdf_quadras.shape, df_quadras_distritos_od.shape"
   ]
  },
  {
   "cell_type": "code",
   "execution_count": 11,
   "metadata": {},
   "outputs": [],
   "source": [
    "gdf_ponderacao_censo = gpd.read_file('data/areas-ponderacao-censo.gpkg', layer='areas-ponderacao-censo-2010')\n",
    "df_quadras_censo =  gdf_quadras_centroid.sjoin(gdf_ponderacao_censo, how='left', predicate='intersects')"
   ]
  },
  {
   "cell_type": "code",
   "execution_count": 12,
   "metadata": {},
   "outputs": [
    {
     "data": {
      "text/plain": [
       "((45655, 9), (45655, 2))"
      ]
     },
     "execution_count": 12,
     "metadata": {},
     "output_type": "execute_result"
    }
   ],
   "source": [
    "df_quadras_distritos_od.shape, df_quadras_censo[['COD_AED', 'COD_AED_S']].shape"
   ]
  },
  {
   "cell_type": "code",
   "execution_count": 13,
   "metadata": {},
   "outputs": [],
   "source": [
    "df_quadras_distritos_od = pd.concat(\n",
    "    [df_quadras_distritos_od,\n",
    "    df_quadras_censo[['COD_AED', 'COD_AED_S']]],\n",
    "    axis=1\n",
    ")"
   ]
  },
  {
   "cell_type": "code",
   "execution_count": 14,
   "metadata": {},
   "outputs": [
    {
     "data": {
      "text/plain": [
       "Index(['qd_setor', 'qd_fiscal', 'ds_codigo', 'ds_nome', 'ds_cd_sub',\n",
       "       'ds_subpref', 'od_id', 'od_nome', 'sq', 'COD_AED', 'COD_AED_S'],\n",
       "      dtype='object')"
      ]
     },
     "execution_count": 14,
     "metadata": {},
     "output_type": "execute_result"
    }
   ],
   "source": [
    "df_quadras_distritos_od.columns"
   ]
  },
  {
   "cell_type": "code",
   "execution_count": 15,
   "metadata": {},
   "outputs": [
    {
     "name": "stderr",
     "output_type": "stream",
     "text": [
      "/home/fernando/miniconda3/envs/dash/lib/python3.9/site-packages/geopandas/io/file.py:362: FutureWarning: pandas.Int64Index is deprecated and will be removed from pandas in a future version. Use pandas.Index with the appropriate dtype instead.\n",
      "  pd.Int64Index,\n"
     ]
    }
   ],
   "source": [
    "gdf_od_sp = gdf_od_sp.to_file('data/OD-sp.gpkg', driver='GPKG')"
   ]
  },
  {
   "cell_type": "code",
   "execution_count": 16,
   "metadata": {},
   "outputs": [
    {
     "data": {
      "text/html": [
       "<div>\n",
       "<style scoped>\n",
       "    .dataframe tbody tr th:only-of-type {\n",
       "        vertical-align: middle;\n",
       "    }\n",
       "\n",
       "    .dataframe tbody tr th {\n",
       "        vertical-align: top;\n",
       "    }\n",
       "\n",
       "    .dataframe thead th {\n",
       "        text-align: right;\n",
       "    }\n",
       "</style>\n",
       "<table border=\"1\" class=\"dataframe\">\n",
       "  <thead>\n",
       "    <tr style=\"text-align: right;\">\n",
       "      <th></th>\n",
       "      <th>qd_setor</th>\n",
       "      <th>qd_fiscal</th>\n",
       "      <th>ds_codigo</th>\n",
       "      <th>ds_nome</th>\n",
       "      <th>ds_cd_sub</th>\n",
       "      <th>ds_subpref</th>\n",
       "      <th>od_id</th>\n",
       "      <th>od_nome</th>\n",
       "      <th>sq</th>\n",
       "      <th>COD_AED</th>\n",
       "      <th>COD_AED_S</th>\n",
       "    </tr>\n",
       "  </thead>\n",
       "  <tbody>\n",
       "    <tr>\n",
       "      <th>0</th>\n",
       "      <td>001</td>\n",
       "      <td>003</td>\n",
       "      <td>9</td>\n",
       "      <td>BOM RETIRO</td>\n",
       "      <td>09</td>\n",
       "      <td>SE</td>\n",
       "      <td>7</td>\n",
       "      <td>Luz</td>\n",
       "      <td>001003</td>\n",
       "      <td>3550308005004</td>\n",
       "      <td>4</td>\n",
       "    </tr>\n",
       "    <tr>\n",
       "      <th>1</th>\n",
       "      <td>001</td>\n",
       "      <td>004</td>\n",
       "      <td>9</td>\n",
       "      <td>BOM RETIRO</td>\n",
       "      <td>09</td>\n",
       "      <td>SE</td>\n",
       "      <td>7</td>\n",
       "      <td>Luz</td>\n",
       "      <td>001004</td>\n",
       "      <td>3550308005004</td>\n",
       "      <td>4</td>\n",
       "    </tr>\n",
       "    <tr>\n",
       "      <th>2</th>\n",
       "      <td>001</td>\n",
       "      <td>005</td>\n",
       "      <td>9</td>\n",
       "      <td>BOM RETIRO</td>\n",
       "      <td>09</td>\n",
       "      <td>SE</td>\n",
       "      <td>7</td>\n",
       "      <td>Luz</td>\n",
       "      <td>001005</td>\n",
       "      <td>3550308005004</td>\n",
       "      <td>4</td>\n",
       "    </tr>\n",
       "    <tr>\n",
       "      <th>3</th>\n",
       "      <td>001</td>\n",
       "      <td>006</td>\n",
       "      <td>9</td>\n",
       "      <td>BOM RETIRO</td>\n",
       "      <td>09</td>\n",
       "      <td>SE</td>\n",
       "      <td>7</td>\n",
       "      <td>Luz</td>\n",
       "      <td>001006</td>\n",
       "      <td>3550308005004</td>\n",
       "      <td>4</td>\n",
       "    </tr>\n",
       "    <tr>\n",
       "      <th>4</th>\n",
       "      <td>001</td>\n",
       "      <td>007</td>\n",
       "      <td>9</td>\n",
       "      <td>BOM RETIRO</td>\n",
       "      <td>09</td>\n",
       "      <td>SE</td>\n",
       "      <td>7</td>\n",
       "      <td>Luz</td>\n",
       "      <td>001007</td>\n",
       "      <td>3550308005004</td>\n",
       "      <td>4</td>\n",
       "    </tr>\n",
       "    <tr>\n",
       "      <th>...</th>\n",
       "      <td>...</td>\n",
       "      <td>...</td>\n",
       "      <td>...</td>\n",
       "      <td>...</td>\n",
       "      <td>...</td>\n",
       "      <td>...</td>\n",
       "      <td>...</td>\n",
       "      <td>...</td>\n",
       "      <td>...</td>\n",
       "      <td>...</td>\n",
       "      <td>...</td>\n",
       "    </tr>\n",
       "    <tr>\n",
       "      <th>45650</th>\n",
       "      <td>310</td>\n",
       "      <td>116</td>\n",
       "      <td>38</td>\n",
       "      <td>JABAQUARA</td>\n",
       "      <td>15</td>\n",
       "      <td>JABAQUARA</td>\n",
       "      <td>274</td>\n",
       "      <td>Jabaquara</td>\n",
       "      <td>310116</td>\n",
       "      <td>3550308005095</td>\n",
       "      <td>95</td>\n",
       "    </tr>\n",
       "    <tr>\n",
       "      <th>45651</th>\n",
       "      <td>310</td>\n",
       "      <td>117</td>\n",
       "      <td>38</td>\n",
       "      <td>JABAQUARA</td>\n",
       "      <td>15</td>\n",
       "      <td>JABAQUARA</td>\n",
       "      <td>275</td>\n",
       "      <td>Cidade Vargas</td>\n",
       "      <td>310117</td>\n",
       "      <td>3550308005093</td>\n",
       "      <td>93</td>\n",
       "    </tr>\n",
       "    <tr>\n",
       "      <th>45652</th>\n",
       "      <td>310</td>\n",
       "      <td>118</td>\n",
       "      <td>38</td>\n",
       "      <td>JABAQUARA</td>\n",
       "      <td>15</td>\n",
       "      <td>JABAQUARA</td>\n",
       "      <td>275</td>\n",
       "      <td>Cidade Vargas</td>\n",
       "      <td>310118</td>\n",
       "      <td>3550308005093</td>\n",
       "      <td>93</td>\n",
       "    </tr>\n",
       "    <tr>\n",
       "      <th>45653</th>\n",
       "      <td>310</td>\n",
       "      <td>119</td>\n",
       "      <td>38</td>\n",
       "      <td>JABAQUARA</td>\n",
       "      <td>15</td>\n",
       "      <td>JABAQUARA</td>\n",
       "      <td>275</td>\n",
       "      <td>Cidade Vargas</td>\n",
       "      <td>310119</td>\n",
       "      <td>3550308005093</td>\n",
       "      <td>93</td>\n",
       "    </tr>\n",
       "    <tr>\n",
       "      <th>45654</th>\n",
       "      <td>310</td>\n",
       "      <td>120</td>\n",
       "      <td>38</td>\n",
       "      <td>JABAQUARA</td>\n",
       "      <td>15</td>\n",
       "      <td>JABAQUARA</td>\n",
       "      <td>275</td>\n",
       "      <td>Cidade Vargas</td>\n",
       "      <td>310120</td>\n",
       "      <td>3550308005093</td>\n",
       "      <td>93</td>\n",
       "    </tr>\n",
       "  </tbody>\n",
       "</table>\n",
       "<p>45655 rows × 11 columns</p>\n",
       "</div>"
      ],
      "text/plain": [
       "      qd_setor qd_fiscal ds_codigo     ds_nome ds_cd_sub ds_subpref od_id  \\\n",
       "0          001       003         9  BOM RETIRO        09         SE     7   \n",
       "1          001       004         9  BOM RETIRO        09         SE     7   \n",
       "2          001       005         9  BOM RETIRO        09         SE     7   \n",
       "3          001       006         9  BOM RETIRO        09         SE     7   \n",
       "4          001       007         9  BOM RETIRO        09         SE     7   \n",
       "...        ...       ...       ...         ...       ...        ...   ...   \n",
       "45650      310       116        38   JABAQUARA        15  JABAQUARA   274   \n",
       "45651      310       117        38   JABAQUARA        15  JABAQUARA   275   \n",
       "45652      310       118        38   JABAQUARA        15  JABAQUARA   275   \n",
       "45653      310       119        38   JABAQUARA        15  JABAQUARA   275   \n",
       "45654      310       120        38   JABAQUARA        15  JABAQUARA   275   \n",
       "\n",
       "             od_nome      sq        COD_AED COD_AED_S  \n",
       "0                Luz  001003  3550308005004         4  \n",
       "1                Luz  001004  3550308005004         4  \n",
       "2                Luz  001005  3550308005004         4  \n",
       "3                Luz  001006  3550308005004         4  \n",
       "4                Luz  001007  3550308005004         4  \n",
       "...              ...     ...            ...       ...  \n",
       "45650      Jabaquara  310116  3550308005095        95  \n",
       "45651  Cidade Vargas  310117  3550308005093        93  \n",
       "45652  Cidade Vargas  310118  3550308005093        93  \n",
       "45653  Cidade Vargas  310119  3550308005093        93  \n",
       "45654  Cidade Vargas  310120  3550308005093        93  \n",
       "\n",
       "[45655 rows x 11 columns]"
      ]
     },
     "execution_count": 16,
     "metadata": {},
     "output_type": "execute_result"
    }
   ],
   "source": [
    "df_quadras_distritos_od"
   ]
  },
  {
   "cell_type": "code",
   "execution_count": 17,
   "metadata": {},
   "outputs": [
    {
     "data": {
      "text/html": [
       "<div>\n",
       "<style scoped>\n",
       "    .dataframe tbody tr th:only-of-type {\n",
       "        vertical-align: middle;\n",
       "    }\n",
       "\n",
       "    .dataframe tbody tr th {\n",
       "        vertical-align: top;\n",
       "    }\n",
       "\n",
       "    .dataframe thead th {\n",
       "        text-align: right;\n",
       "    }\n",
       "</style>\n",
       "<table border=\"1\" class=\"dataframe\">\n",
       "  <thead>\n",
       "    <tr style=\"text-align: right;\">\n",
       "      <th></th>\n",
       "      <th>qd_setor</th>\n",
       "      <th>qd_fiscal</th>\n",
       "      <th>geometry</th>\n",
       "      <th>qd_id_orig</th>\n",
       "      <th>qd_tipo</th>\n",
       "      <th>qd_subqua</th>\n",
       "      <th>qd_area</th>\n",
       "      <th>qd_situac</th>\n",
       "      <th>qd_id</th>\n",
       "      <th>qd_tx_tipo</th>\n",
       "      <th>ds_codigo</th>\n",
       "      <th>ds_subpref</th>\n",
       "      <th>ds_cd_sub</th>\n",
       "      <th>ds_sigla</th>\n",
       "      <th>ds_nome</th>\n",
       "      <th>sq</th>\n",
       "    </tr>\n",
       "  </thead>\n",
       "  <tbody>\n",
       "    <tr>\n",
       "      <th>27467</th>\n",
       "      <td>133</td>\n",
       "      <td>127</td>\n",
       "      <td>POINT (357031.736 7402052.859)</td>\n",
       "      <td>10122413</td>\n",
       "      <td>F</td>\n",
       "      <td>001</td>\n",
       "      <td>65776.7480405944</td>\n",
       "      <td>1</td>\n",
       "      <td>179963</td>\n",
       "      <td>FISCAL</td>\n",
       "      <td>NaN</td>\n",
       "      <td>NaN</td>\n",
       "      <td>NaN</td>\n",
       "      <td>NaN</td>\n",
       "      <td>NaN</td>\n",
       "      <td>133127</td>\n",
       "    </tr>\n",
       "    <tr>\n",
       "      <th>33243</th>\n",
       "      <td>156</td>\n",
       "      <td>135</td>\n",
       "      <td>POINT (343167.543 7387776.019)</td>\n",
       "      <td>8985852</td>\n",
       "      <td>F</td>\n",
       "      <td>001</td>\n",
       "      <td>2484.92461758186</td>\n",
       "      <td>1</td>\n",
       "      <td>148338</td>\n",
       "      <td>FISCAL</td>\n",
       "      <td>NaN</td>\n",
       "      <td>NaN</td>\n",
       "      <td>NaN</td>\n",
       "      <td>NaN</td>\n",
       "      <td>NaN</td>\n",
       "      <td>156135</td>\n",
       "    </tr>\n",
       "    <tr>\n",
       "      <th>37127</th>\n",
       "      <td>173</td>\n",
       "      <td>160</td>\n",
       "      <td>POINT (333525.605 7378933.173)</td>\n",
       "      <td>9704470</td>\n",
       "      <td>F</td>\n",
       "      <td>001</td>\n",
       "      <td>1348.82739798853</td>\n",
       "      <td>1</td>\n",
       "      <td>182464</td>\n",
       "      <td>FISCAL</td>\n",
       "      <td>NaN</td>\n",
       "      <td>NaN</td>\n",
       "      <td>NaN</td>\n",
       "      <td>NaN</td>\n",
       "      <td>NaN</td>\n",
       "      <td>173160</td>\n",
       "    </tr>\n",
       "    <tr>\n",
       "      <th>37132</th>\n",
       "      <td>173</td>\n",
       "      <td>165</td>\n",
       "      <td>POINT (333590.700 7378465.176)</td>\n",
       "      <td>9704234</td>\n",
       "      <td>F</td>\n",
       "      <td>001</td>\n",
       "      <td>2641.57734002054</td>\n",
       "      <td>1</td>\n",
       "      <td>186397</td>\n",
       "      <td>FISCAL</td>\n",
       "      <td>NaN</td>\n",
       "      <td>NaN</td>\n",
       "      <td>NaN</td>\n",
       "      <td>NaN</td>\n",
       "      <td>NaN</td>\n",
       "      <td>173165</td>\n",
       "    </tr>\n",
       "  </tbody>\n",
       "</table>\n",
       "</div>"
      ],
      "text/plain": [
       "      qd_setor qd_fiscal                        geometry qd_id_orig qd_tipo  \\\n",
       "27467      133       127  POINT (357031.736 7402052.859)   10122413       F   \n",
       "33243      156       135  POINT (343167.543 7387776.019)    8985852       F   \n",
       "37127      173       160  POINT (333525.605 7378933.173)    9704470       F   \n",
       "37132      173       165  POINT (333590.700 7378465.176)    9704234       F   \n",
       "\n",
       "      qd_subqua           qd_area qd_situac   qd_id qd_tx_tipo ds_codigo  \\\n",
       "27467       001  65776.7480405944         1  179963     FISCAL       NaN   \n",
       "33243       001  2484.92461758186         1  148338     FISCAL       NaN   \n",
       "37127       001  1348.82739798853         1  182464     FISCAL       NaN   \n",
       "37132       001  2641.57734002054         1  186397     FISCAL       NaN   \n",
       "\n",
       "      ds_subpref ds_cd_sub ds_sigla ds_nome      sq  \n",
       "27467        NaN       NaN      NaN     NaN  133127  \n",
       "33243        NaN       NaN      NaN     NaN  156135  \n",
       "37127        NaN       NaN      NaN     NaN  173160  \n",
       "37132        NaN       NaN      NaN     NaN  173165  "
      ]
     },
     "execution_count": 17,
     "metadata": {},
     "output_type": "execute_result"
    }
   ],
   "source": [
    "## TODO\n",
    "# Verificar essa inconsistencia\n",
    "gdf_quadras_distritos[gdf_quadras_distritos.ds_codigo.isna()]"
   ]
  },
  {
   "cell_type": "code",
   "execution_count": 18,
   "metadata": {},
   "outputs": [],
   "source": [
    "exercicio_inicio = 1995\n",
    "exercicio_fim = 2023"
   ]
  },
  {
   "cell_type": "code",
   "execution_count": 19,
   "metadata": {},
   "outputs": [
    {
     "name": "stdout",
     "output_type": "stream",
     "text": [
      "Processando 1995\n",
      "Processando 1996\n",
      "Processando 1997\n",
      "Processando 1998\n",
      "Processando 1999\n",
      "Processando 2000\n",
      "Processando 2001\n",
      "Processando 2002\n",
      "Processando 2003\n",
      "Processando 2004\n",
      "Processando 2005\n",
      "Processando 2006\n",
      "Processando 2007\n",
      "Processando 2008\n",
      "Processando 2009\n",
      "Processando 2010\n",
      "Processando 2011\n",
      "Processando 2012\n",
      "Processando 2013\n",
      "Processando 2014\n",
      "Processando 2015\n",
      "Processando 2016\n",
      "Processando 2017\n",
      "Processando 2018\n",
      "Processando 2019\n",
      "Processando 2020\n",
      "Processando 2021\n",
      "Processando 2022\n",
      "Processando 2023\n"
     ]
    }
   ],
   "source": [
    "dfs = []\n",
    "\n",
    "for i in range(exercicio_inicio,exercicio_fim + 1):\n",
    "\n",
    "    print(f'Processando {i}')\n",
    "    \n",
    "    df = vaex.open(f'data/IPTU_{i}/IPTU_{i}.hdf5')\n",
    "    #df = vaex.open(f'data//IPTU-HDF5/IPTU_{i}/IPTU_{i}.hdf5')\n",
    "\n",
    "    df.setor = df['NUMERO DO CONTRIBUINTE'].str.slice(0,3)\n",
    "    df.quadra = df['NUMERO DO CONTRIBUINTE'].str.slice(3,6)\n",
    "    df.fillna(value='00-0', column_names=['NUMERO DO CONDOMINIO'], inplace=True)\n",
    "    df.fillna(value=1., column_names=['FRACAO IDEAL'], inplace=True)\n",
    "    df.fillna(value=0., column_names=['AREA CONSTRUIDA', 'AREA OCUPADA', 'AREA DO TERRENO'], inplace=True)\n",
    "    df.sqlc = df.func.where(df['NUMERO DO CONDOMINIO'] == '00-0',\n",
    "                                    df['NUMERO DO CONTRIBUINTE'].str.slice(0, 10) + '00',\n",
    "                                    df['NUMERO DO CONTRIBUINTE'].str.slice(0, 6) + '0000' + df['NUMERO DO CONDOMINIO'].str.slice(0, 2))\n",
    "    df['sq'] = df.setor + df.quadra\n",
    "    df['sqlc'] = df.sqlc\n",
    "    df_sqlc_ac = df.groupby('sqlc', agg={'area_contruida_total': vaex.agg.sum('AREA CONSTRUIDA')})\n",
    "    df = df.join(df_sqlc_ac, on='sqlc')\n",
    "    df['fracao_ideal'] = df.func.where(df['FRACAO IDEAL'] == 0.,  \n",
    "                                                df['AREA CONSTRUIDA'] / df['area_contruida_total'],\n",
    "                                                df['FRACAO IDEAL'])\n",
    "    df['ca'] = (df['AREA CONSTRUIDA'] / df['fracao_ideal']) / df['AREA DO TERRENO']\n",
    "    df['to'] = df['AREA OCUPADA'] / df['AREA DO TERRENO']\n",
    "\n",
    "    df['valor_terreno'] = df['fracao_ideal'] * df['VALOR DO M2 DO TERRENO'] * df['AREA DO TERRENO']\n",
    "    df['valor_construcao'] = df['VALOR DO M2 DE CONSTRUCAO'] * df['AREA CONSTRUIDA']\n",
    "\n",
    "    dfs.append(df)\n",
    "    # break\n"
   ]
  },
  {
   "cell_type": "code",
   "execution_count": 20,
   "metadata": {},
   "outputs": [],
   "source": [
    "df_iptu = vaex.concat(dfs)"
   ]
  },
  {
   "cell_type": "code",
   "execution_count": 21,
   "metadata": {},
   "outputs": [
    {
     "data": {
      "text/plain": [
       "(85961435, 37)"
      ]
     },
     "execution_count": 21,
     "metadata": {},
     "output_type": "execute_result"
    }
   ],
   "source": [
    "df_iptu.shape"
   ]
  },
  {
   "cell_type": "code",
   "execution_count": 24,
   "metadata": {},
   "outputs": [],
   "source": [
    "columns_to_drop = [\n",
    "    'NUMERO DO CONTRIBUINTE',\n",
    "    'NUMERO DA NL',\n",
    "    'DATA DO CADASTRAMENTO',\n",
    "    'NOME DE LOGRADOURO DO IMOVEL', \n",
    "    'NUMERO DO IMOVEL', \n",
    "    'COMPLEMENTO DO IMOVEL',\n",
    "    'BAIRRO DO IMOVEL', \n",
    "    'REFERENCIA DO IMOVEL',\n",
    "    'CEP DO IMOVEL',\n",
    "    'QUANTIDADE DE ESQUINAS FRENTES',\n",
    "    'VALOR DO M2 DO TERRENO',\n",
    "    'VALOR DO M2 DE CONSTRUCAO' , \n",
    "    'TIPO DE TERRENO', \n",
    "    'ANO DE INICIO DA VIDA DO CONTRIBUINTE',\n",
    "    'MES DE INICIO DA VIDA DO CONTRIBUINTE', \n",
    "    'FASE DO CONTRIBUINTE', \n",
    "    'FRACAO IDEAL'\n",
    "]"
   ]
  },
  {
   "cell_type": "code",
   "execution_count": 25,
   "metadata": {},
   "outputs": [
    {
     "data": {
      "text/html": [
       "<table>\n",
       "<thead>\n",
       "<tr><th>#                                     </th><th>ANO DO EXERCICIO  </th><th>CODLOG DO IMOVEL  </th><th>ANO DA CONSTRUCAO CORRIGIDO  </th><th>QUANTIDADE DE PAVIMENTOS  </th><th>TESTADA PARA CALCULO  </th><th>TIPO DE USO DO IMOVEL    </th><th>TIPO DE PADRAO DA CONSTRUCAO   </th><th>FATOR DE OBSOLESCENCIA  </th><th>area_contruida_total  </th><th>NUMERO DO CONDOMINIO  </th><th>AREA CONSTRUIDA  </th><th>AREA OCUPADA  </th><th>AREA DO TERRENO  </th><th>sq    </th><th>sqlc        </th><th>fracao_ideal  </th><th>ca                </th><th>to                </th><th>valor_terreno  </th><th>valor_construcao  </th></tr>\n",
       "</thead>\n",
       "<tbody>\n",
       "<tr><td><i style='opacity: 0.6'>0</i>         </td><td>1995              </td><td>03812-1           </td><td>1924                         </td><td>1                         </td><td>13.0                  </td><td>loja                     </td><td>comercial horizontal - Padrão B</td><td>0.0                     </td><td>135                   </td><td>00-0                  </td><td>135              </td><td>0             </td><td>136              </td><td>001003</td><td>001003000100</td><td>1.0           </td><td>0.9926470588235294</td><td>0.0               </td><td>13600.0        </td><td>17415.0           </td></tr>\n",
       "<tr><td><i style='opacity: 0.6'>1</i>         </td><td>1995              </td><td>03812-1           </td><td>1944                         </td><td>1                         </td><td>6.0                   </td><td>loja                     </td><td>comercial horizontal - Padrão A</td><td>0.0                     </td><td>67                    </td><td>00-0                  </td><td>67               </td><td>0             </td><td>90               </td><td>001003</td><td>001003000200</td><td>1.0           </td><td>0.7444444444444445</td><td>0.0               </td><td>9000.0         </td><td>6298.0            </td></tr>\n",
       "<tr><td><i style='opacity: 0.6'>2</i>         </td><td>1995              </td><td>03812-1           </td><td>1944                         </td><td>1                         </td><td>8.0                   </td><td>loja                     </td><td>comercial horizontal - Padrão A</td><td>0.0                     </td><td>85                    </td><td>00-0                  </td><td>85               </td><td>0             </td><td>105              </td><td>001003</td><td>001003000300</td><td>1.0           </td><td>0.8095238095238095</td><td>0.0               </td><td>10500.0        </td><td>7990.0            </td></tr>\n",
       "<tr><td><i style='opacity: 0.6'>3</i>         </td><td>1995              </td><td>03812-1           </td><td>1944                         </td><td>1                         </td><td>6.0                   </td><td>loja                     </td><td>comercial horizontal - Padrão B</td><td>0.0                     </td><td>103                   </td><td>00-0                  </td><td>103              </td><td>0             </td><td>108              </td><td>001003</td><td>001003000400</td><td>1.0           </td><td>0.9537037037037037</td><td>0.0               </td><td>10800.0        </td><td>13287.0           </td></tr>\n",
       "<tr><td><i style='opacity: 0.6'>4</i>         </td><td>1995              </td><td>03812-1           </td><td>1944                         </td><td>1                         </td><td>7.0                   </td><td>loja                     </td><td>comercial horizontal - Padrão A</td><td>0.0                     </td><td>98                    </td><td>00-0                  </td><td>98               </td><td>0             </td><td>120              </td><td>001003</td><td>001003000500</td><td>1.0           </td><td>0.8166666666666667</td><td>0.0               </td><td>12000.0        </td><td>9212.0            </td></tr>\n",
       "<tr><td>...                                   </td><td>...               </td><td>...               </td><td>...                          </td><td>...                       </td><td>...                   </td><td>...                      </td><td>...                            </td><td>...                     </td><td>...                   </td><td>...                   </td><td>...              </td><td>...           </td><td>...              </td><td>...   </td><td>...         </td><td>...           </td><td>...               </td><td>...               </td><td>...            </td><td>...               </td></tr>\n",
       "<tr><td><i style='opacity: 0.6'>85,961,430</i></td><td>2023              </td><td>02235-7           </td><td>1978                         </td><td>5                         </td><td>0.0                   </td><td>Apartamento em condomínio</td><td>Residencial vertical - padrão B</td><td>0.2                     </td><td>25215                 </td><td>01-9                  </td><td>84               </td><td>5312          </td><td>18041            </td><td>310118</td><td>310118000001</td><td>0.0033        </td><td>1.4109276345294306</td><td>0.2944404412172274</td><td>144492.1731    </td><td>177660.0          </td></tr>\n",
       "<tr><td><i style='opacity: 0.6'>85,961,431</i></td><td>2023              </td><td>02235-7           </td><td>1978                         </td><td>5                         </td><td>0.0                   </td><td>Apartamento em condomínio</td><td>Residencial vertical - padrão B</td><td>0.2                     </td><td>25215                 </td><td>01-9                  </td><td>84               </td><td>5312          </td><td>18041            </td><td>310118</td><td>310118000001</td><td>0.0033        </td><td>1.4109276345294306</td><td>0.2944404412172274</td><td>144492.1731    </td><td>177660.0          </td></tr>\n",
       "<tr><td><i style='opacity: 0.6'>85,961,432</i></td><td>2023              </td><td>02235-7           </td><td>1978                         </td><td>5                         </td><td>0.0                   </td><td>Apartamento em condomínio</td><td>Residencial vertical - padrão B</td><td>0.2                     </td><td>25215                 </td><td>01-9                  </td><td>84               </td><td>5312          </td><td>18041            </td><td>310118</td><td>310118000001</td><td>0.0033        </td><td>1.4109276345294306</td><td>0.2944404412172274</td><td>144492.1731    </td><td>177660.0          </td></tr>\n",
       "<tr><td><i style='opacity: 0.6'>85,961,433</i></td><td>2023              </td><td>19137-0           </td><td>0                            </td><td>0                         </td><td>0.0                   </td><td>Terreno                  </td><td>TERRENO                        </td><td>0.0                     </td><td>0                     </td><td>00-0                  </td><td>0                </td><td>0             </td><td>18500            </td><td>310119</td><td>310119000100</td><td>1.0           </td><td>0.0               </td><td>0.0               </td><td>41939500.0     </td><td>0.0               </td></tr>\n",
       "<tr><td><i style='opacity: 0.6'>85,961,434</i></td><td>2023              </td><td>01041-3           </td><td>0                            </td><td>0                         </td><td>500.0                 </td><td>Terreno                  </td><td>TERRENO                        </td><td>0.0                     </td><td>0                     </td><td>00-0                  </td><td>0                </td><td>0             </td><td>18926            </td><td>310120</td><td>310120000100</td><td>1.0           </td><td>0.0               </td><td>0.0               </td><td>11790898.0     </td><td>0.0               </td></tr>\n",
       "</tbody>\n",
       "</table>"
      ],
      "text/plain": [
       "#           ANO DO EXERCICIO    CODLOG DO IMOVEL    ANO DA CONSTRUCAO CORRIGIDO    QUANTIDADE DE PAVIMENTOS    TESTADA PARA CALCULO    TIPO DE USO DO IMOVEL      TIPO DE PADRAO DA CONSTRUCAO     FATOR DE OBSOLESCENCIA    area_contruida_total    NUMERO DO CONDOMINIO    AREA CONSTRUIDA    AREA OCUPADA    AREA DO TERRENO    sq      sqlc          fracao_ideal    ca                  to                  valor_terreno    valor_construcao\n",
       "0           1995                03812-1             1924                           1                           13.0                    loja                       comercial horizontal - Padrão B  0.0                       135                     00-0                    135                0               136                001003  001003000100  1.0             0.9926470588235294  0.0                 13600.0          17415.0\n",
       "1           1995                03812-1             1944                           1                           6.0                     loja                       comercial horizontal - Padrão A  0.0                       67                      00-0                    67                 0               90                 001003  001003000200  1.0             0.7444444444444445  0.0                 9000.0           6298.0\n",
       "2           1995                03812-1             1944                           1                           8.0                     loja                       comercial horizontal - Padrão A  0.0                       85                      00-0                    85                 0               105                001003  001003000300  1.0             0.8095238095238095  0.0                 10500.0          7990.0\n",
       "3           1995                03812-1             1944                           1                           6.0                     loja                       comercial horizontal - Padrão B  0.0                       103                     00-0                    103                0               108                001003  001003000400  1.0             0.9537037037037037  0.0                 10800.0          13287.0\n",
       "4           1995                03812-1             1944                           1                           7.0                     loja                       comercial horizontal - Padrão A  0.0                       98                      00-0                    98                 0               120                001003  001003000500  1.0             0.8166666666666667  0.0                 12000.0          9212.0\n",
       "...         ...                 ...                 ...                            ...                         ...                     ...                        ...                              ...                       ...                     ...                     ...                ...             ...                ...     ...           ...             ...                 ...                 ...              ...\n",
       "85,961,430  2023                02235-7             1978                           5                           0.0                     Apartamento em condomínio  Residencial vertical - padrão B  0.2                       25215                   01-9                    84                 5312            18041              310118  310118000001  0.0033          1.4109276345294306  0.2944404412172274  144492.1731      177660.0\n",
       "85,961,431  2023                02235-7             1978                           5                           0.0                     Apartamento em condomínio  Residencial vertical - padrão B  0.2                       25215                   01-9                    84                 5312            18041              310118  310118000001  0.0033          1.4109276345294306  0.2944404412172274  144492.1731      177660.0\n",
       "85,961,432  2023                02235-7             1978                           5                           0.0                     Apartamento em condomínio  Residencial vertical - padrão B  0.2                       25215                   01-9                    84                 5312            18041              310118  310118000001  0.0033          1.4109276345294306  0.2944404412172274  144492.1731      177660.0\n",
       "85,961,433  2023                19137-0             0                              0                           0.0                     Terreno                    TERRENO                          0.0                       0                       00-0                    0                  0               18500              310119  310119000100  1.0             0.0                 0.0                 41939500.0       0.0\n",
       "85,961,434  2023                01041-3             0                              0                           500.0                   Terreno                    TERRENO                          0.0                       0                       00-0                    0                  0               18926              310120  310120000100  1.0             0.0                 0.0                 11790898.0       0.0"
      ]
     },
     "execution_count": 25,
     "metadata": {},
     "output_type": "execute_result"
    }
   ],
   "source": [
    "df_iptu.drop(columns=columns_to_drop, inplace=True)"
   ]
  },
  {
   "cell_type": "code",
   "execution_count": 26,
   "metadata": {},
   "outputs": [
    {
     "data": {
      "text/plain": [
       "(85961435, 20)"
      ]
     },
     "execution_count": 26,
     "metadata": {},
     "output_type": "execute_result"
    }
   ],
   "source": [
    "df_iptu.shape"
   ]
  },
  {
   "cell_type": "code",
   "execution_count": 27,
   "metadata": {},
   "outputs": [
    {
     "data": {
      "text/html": [
       "<table>\n",
       "<thead>\n",
       "<tr><th>#                                </th><th>ca                </th><th>AREA CONSTRUIDA  </th><th>fracao_ideal        </th><th>AREA DO TERRENO  </th><th>area_contruida_total  </th><th>ANO DO EXERCICIO  </th></tr>\n",
       "</thead>\n",
       "<tbody>\n",
       "<tr><td><i style='opacity: 0.6'>0</i>    </td><td>62.370370370370374</td><td>99               </td><td>0.01175771971496437 </td><td>135              </td><td>8420                  </td><td>1995              </td></tr>\n",
       "<tr><td><i style='opacity: 0.6'>1</i>    </td><td>62.370370370370374</td><td>95               </td><td>0.011282660332541567</td><td>135              </td><td>8420                  </td><td>1995              </td></tr>\n",
       "<tr><td><i style='opacity: 0.6'>2</i>    </td><td>62.370370370370374</td><td>106              </td><td>0.012589073634204275</td><td>135              </td><td>8420                  </td><td>1995              </td></tr>\n",
       "<tr><td><i style='opacity: 0.6'>3</i>    </td><td>62.370370370370374</td><td>95               </td><td>0.011282660332541567</td><td>135              </td><td>8420                  </td><td>1995              </td></tr>\n",
       "<tr><td><i style='opacity: 0.6'>4</i>    </td><td>62.370370370370374</td><td>106              </td><td>0.012589073634204275</td><td>135              </td><td>8420                  </td><td>1995              </td></tr>\n",
       "<tr><td>...                              </td><td>...               </td><td>...              </td><td>...                 </td><td>...              </td><td>...                   </td><td>...               </td></tr>\n",
       "<tr><td><i style='opacity: 0.6'>2,418</i></td><td>62.398263700488336</td><td>23               </td><td>0.0001              </td><td>3686             </td><td>31879                 </td><td>2023              </td></tr>\n",
       "<tr><td><i style='opacity: 0.6'>2,419</i></td><td>62.398263700488336</td><td>23               </td><td>0.0001              </td><td>3686             </td><td>31879                 </td><td>2023              </td></tr>\n",
       "<tr><td><i style='opacity: 0.6'>2,420</i></td><td>62.398263700488336</td><td>23               </td><td>0.0001              </td><td>3686             </td><td>31879                 </td><td>2023              </td></tr>\n",
       "<tr><td><i style='opacity: 0.6'>2,421</i></td><td>62.398263700488336</td><td>23               </td><td>0.0001              </td><td>3686             </td><td>31879                 </td><td>2023              </td></tr>\n",
       "<tr><td><i style='opacity: 0.6'>2,422</i></td><td>77.14285714285714 </td><td>216              </td><td>0.0028              </td><td>1000             </td><td>7248                  </td><td>2023              </td></tr>\n",
       "</tbody>\n",
       "</table>"
      ],
      "text/plain": [
       "#      ca                  AREA CONSTRUIDA    fracao_ideal          AREA DO TERRENO    area_contruida_total    ANO DO EXERCICIO\n",
       "0      62.370370370370374  99                 0.01175771971496437   135                8420                    1995\n",
       "1      62.370370370370374  95                 0.011282660332541567  135                8420                    1995\n",
       "2      62.370370370370374  106                0.012589073634204275  135                8420                    1995\n",
       "3      62.370370370370374  95                 0.011282660332541567  135                8420                    1995\n",
       "4      62.370370370370374  106                0.012589073634204275  135                8420                    1995\n",
       "...    ...                 ...                ...                   ...                ...                     ...\n",
       "2,418  62.398263700488336  23                 0.0001                3686               31879                   2023\n",
       "2,419  62.398263700488336  23                 0.0001                3686               31879                   2023\n",
       "2,420  62.398263700488336  23                 0.0001                3686               31879                   2023\n",
       "2,421  62.398263700488336  23                 0.0001                3686               31879                   2023\n",
       "2,422  77.14285714285714   216                0.0028                1000               7248                    2023"
      ]
     },
     "execution_count": 27,
     "metadata": {},
     "output_type": "execute_result"
    }
   ],
   "source": [
    "## Parece que para alguns lotes condominiais o terreno está proporcional à fracao ideal\n",
    "df_iptu[df_iptu.ca > 60]['ca', 'AREA CONSTRUIDA', 'fracao_ideal', 'AREA DO TERRENO', 'area_contruida_total', 'ANO DO EXERCICIO']"
   ]
  },
  {
   "cell_type": "code",
   "execution_count": 28,
   "metadata": {},
   "outputs": [
    {
     "data": {
      "text/plain": [
       "(46131796, 20)"
      ]
     },
     "execution_count": 28,
     "metadata": {},
     "output_type": "execute_result"
    }
   ],
   "source": [
    "df_iptu[df_iptu['NUMERO DO CONDOMINIO'] == '00-0'].shape"
   ]
  },
  {
   "cell_type": "code",
   "execution_count": 29,
   "metadata": {},
   "outputs": [
    {
     "data": {
      "text/plain": [
       "(85961435, 20)"
      ]
     },
     "execution_count": 29,
     "metadata": {},
     "output_type": "execute_result"
    }
   ],
   "source": [
    "df_iptu.shape"
   ]
  },
  {
   "cell_type": "code",
   "execution_count": 30,
   "metadata": {},
   "outputs": [],
   "source": [
    "df_quadras_distritos_od['sqod'] = df_quadras_distritos_od.sq + df_quadras_distritos_od.od_id.str.pad(width=3, side='left', fillchar='0')"
   ]
  },
  {
   "cell_type": "code",
   "execution_count": 31,
   "metadata": {},
   "outputs": [
    {
     "data": {
      "text/plain": [
       "(45655, 12)"
      ]
     },
     "execution_count": 31,
     "metadata": {},
     "output_type": "execute_result"
    }
   ],
   "source": [
    "df_quadras_distritos_od.shape"
   ]
  },
  {
   "cell_type": "code",
   "execution_count": 32,
   "metadata": {},
   "outputs": [
    {
     "data": {
      "text/html": [
       "<div>\n",
       "<style scoped>\n",
       "    .dataframe tbody tr th:only-of-type {\n",
       "        vertical-align: middle;\n",
       "    }\n",
       "\n",
       "    .dataframe tbody tr th {\n",
       "        vertical-align: top;\n",
       "    }\n",
       "\n",
       "    .dataframe thead th {\n",
       "        text-align: right;\n",
       "    }\n",
       "</style>\n",
       "<table border=\"1\" class=\"dataframe\">\n",
       "  <thead>\n",
       "    <tr style=\"text-align: right;\">\n",
       "      <th></th>\n",
       "      <th>qd_setor</th>\n",
       "      <th>qd_fiscal</th>\n",
       "      <th>ds_codigo</th>\n",
       "      <th>ds_nome</th>\n",
       "      <th>ds_cd_sub</th>\n",
       "      <th>ds_subpref</th>\n",
       "      <th>od_id</th>\n",
       "      <th>od_nome</th>\n",
       "      <th>sq</th>\n",
       "      <th>COD_AED</th>\n",
       "      <th>COD_AED_S</th>\n",
       "      <th>sqod</th>\n",
       "    </tr>\n",
       "  </thead>\n",
       "  <tbody>\n",
       "    <tr>\n",
       "      <th>0</th>\n",
       "      <td>001</td>\n",
       "      <td>003</td>\n",
       "      <td>9</td>\n",
       "      <td>BOM RETIRO</td>\n",
       "      <td>09</td>\n",
       "      <td>SE</td>\n",
       "      <td>7</td>\n",
       "      <td>Luz</td>\n",
       "      <td>001003</td>\n",
       "      <td>3550308005004</td>\n",
       "      <td>4</td>\n",
       "      <td>001003007</td>\n",
       "    </tr>\n",
       "    <tr>\n",
       "      <th>1</th>\n",
       "      <td>001</td>\n",
       "      <td>004</td>\n",
       "      <td>9</td>\n",
       "      <td>BOM RETIRO</td>\n",
       "      <td>09</td>\n",
       "      <td>SE</td>\n",
       "      <td>7</td>\n",
       "      <td>Luz</td>\n",
       "      <td>001004</td>\n",
       "      <td>3550308005004</td>\n",
       "      <td>4</td>\n",
       "      <td>001004007</td>\n",
       "    </tr>\n",
       "    <tr>\n",
       "      <th>2</th>\n",
       "      <td>001</td>\n",
       "      <td>005</td>\n",
       "      <td>9</td>\n",
       "      <td>BOM RETIRO</td>\n",
       "      <td>09</td>\n",
       "      <td>SE</td>\n",
       "      <td>7</td>\n",
       "      <td>Luz</td>\n",
       "      <td>001005</td>\n",
       "      <td>3550308005004</td>\n",
       "      <td>4</td>\n",
       "      <td>001005007</td>\n",
       "    </tr>\n",
       "    <tr>\n",
       "      <th>3</th>\n",
       "      <td>001</td>\n",
       "      <td>006</td>\n",
       "      <td>9</td>\n",
       "      <td>BOM RETIRO</td>\n",
       "      <td>09</td>\n",
       "      <td>SE</td>\n",
       "      <td>7</td>\n",
       "      <td>Luz</td>\n",
       "      <td>001006</td>\n",
       "      <td>3550308005004</td>\n",
       "      <td>4</td>\n",
       "      <td>001006007</td>\n",
       "    </tr>\n",
       "    <tr>\n",
       "      <th>4</th>\n",
       "      <td>001</td>\n",
       "      <td>007</td>\n",
       "      <td>9</td>\n",
       "      <td>BOM RETIRO</td>\n",
       "      <td>09</td>\n",
       "      <td>SE</td>\n",
       "      <td>7</td>\n",
       "      <td>Luz</td>\n",
       "      <td>001007</td>\n",
       "      <td>3550308005004</td>\n",
       "      <td>4</td>\n",
       "      <td>001007007</td>\n",
       "    </tr>\n",
       "    <tr>\n",
       "      <th>...</th>\n",
       "      <td>...</td>\n",
       "      <td>...</td>\n",
       "      <td>...</td>\n",
       "      <td>...</td>\n",
       "      <td>...</td>\n",
       "      <td>...</td>\n",
       "      <td>...</td>\n",
       "      <td>...</td>\n",
       "      <td>...</td>\n",
       "      <td>...</td>\n",
       "      <td>...</td>\n",
       "      <td>...</td>\n",
       "    </tr>\n",
       "    <tr>\n",
       "      <th>45650</th>\n",
       "      <td>310</td>\n",
       "      <td>116</td>\n",
       "      <td>38</td>\n",
       "      <td>JABAQUARA</td>\n",
       "      <td>15</td>\n",
       "      <td>JABAQUARA</td>\n",
       "      <td>274</td>\n",
       "      <td>Jabaquara</td>\n",
       "      <td>310116</td>\n",
       "      <td>3550308005095</td>\n",
       "      <td>95</td>\n",
       "      <td>310116274</td>\n",
       "    </tr>\n",
       "    <tr>\n",
       "      <th>45651</th>\n",
       "      <td>310</td>\n",
       "      <td>117</td>\n",
       "      <td>38</td>\n",
       "      <td>JABAQUARA</td>\n",
       "      <td>15</td>\n",
       "      <td>JABAQUARA</td>\n",
       "      <td>275</td>\n",
       "      <td>Cidade Vargas</td>\n",
       "      <td>310117</td>\n",
       "      <td>3550308005093</td>\n",
       "      <td>93</td>\n",
       "      <td>310117275</td>\n",
       "    </tr>\n",
       "    <tr>\n",
       "      <th>45652</th>\n",
       "      <td>310</td>\n",
       "      <td>118</td>\n",
       "      <td>38</td>\n",
       "      <td>JABAQUARA</td>\n",
       "      <td>15</td>\n",
       "      <td>JABAQUARA</td>\n",
       "      <td>275</td>\n",
       "      <td>Cidade Vargas</td>\n",
       "      <td>310118</td>\n",
       "      <td>3550308005093</td>\n",
       "      <td>93</td>\n",
       "      <td>310118275</td>\n",
       "    </tr>\n",
       "    <tr>\n",
       "      <th>45653</th>\n",
       "      <td>310</td>\n",
       "      <td>119</td>\n",
       "      <td>38</td>\n",
       "      <td>JABAQUARA</td>\n",
       "      <td>15</td>\n",
       "      <td>JABAQUARA</td>\n",
       "      <td>275</td>\n",
       "      <td>Cidade Vargas</td>\n",
       "      <td>310119</td>\n",
       "      <td>3550308005093</td>\n",
       "      <td>93</td>\n",
       "      <td>310119275</td>\n",
       "    </tr>\n",
       "    <tr>\n",
       "      <th>45654</th>\n",
       "      <td>310</td>\n",
       "      <td>120</td>\n",
       "      <td>38</td>\n",
       "      <td>JABAQUARA</td>\n",
       "      <td>15</td>\n",
       "      <td>JABAQUARA</td>\n",
       "      <td>275</td>\n",
       "      <td>Cidade Vargas</td>\n",
       "      <td>310120</td>\n",
       "      <td>3550308005093</td>\n",
       "      <td>93</td>\n",
       "      <td>310120275</td>\n",
       "    </tr>\n",
       "  </tbody>\n",
       "</table>\n",
       "<p>45655 rows × 12 columns</p>\n",
       "</div>"
      ],
      "text/plain": [
       "      qd_setor qd_fiscal ds_codigo     ds_nome ds_cd_sub ds_subpref od_id  \\\n",
       "0          001       003         9  BOM RETIRO        09         SE     7   \n",
       "1          001       004         9  BOM RETIRO        09         SE     7   \n",
       "2          001       005         9  BOM RETIRO        09         SE     7   \n",
       "3          001       006         9  BOM RETIRO        09         SE     7   \n",
       "4          001       007         9  BOM RETIRO        09         SE     7   \n",
       "...        ...       ...       ...         ...       ...        ...   ...   \n",
       "45650      310       116        38   JABAQUARA        15  JABAQUARA   274   \n",
       "45651      310       117        38   JABAQUARA        15  JABAQUARA   275   \n",
       "45652      310       118        38   JABAQUARA        15  JABAQUARA   275   \n",
       "45653      310       119        38   JABAQUARA        15  JABAQUARA   275   \n",
       "45654      310       120        38   JABAQUARA        15  JABAQUARA   275   \n",
       "\n",
       "             od_nome      sq        COD_AED COD_AED_S       sqod  \n",
       "0                Luz  001003  3550308005004         4  001003007  \n",
       "1                Luz  001004  3550308005004         4  001004007  \n",
       "2                Luz  001005  3550308005004         4  001005007  \n",
       "3                Luz  001006  3550308005004         4  001006007  \n",
       "4                Luz  001007  3550308005004         4  001007007  \n",
       "...              ...     ...            ...       ...        ...  \n",
       "45650      Jabaquara  310116  3550308005095        95  310116274  \n",
       "45651  Cidade Vargas  310117  3550308005093        93  310117275  \n",
       "45652  Cidade Vargas  310118  3550308005093        93  310118275  \n",
       "45653  Cidade Vargas  310119  3550308005093        93  310119275  \n",
       "45654  Cidade Vargas  310120  3550308005093        93  310120275  \n",
       "\n",
       "[45655 rows x 12 columns]"
      ]
     },
     "execution_count": 32,
     "metadata": {},
     "output_type": "execute_result"
    }
   ],
   "source": [
    "df_quadras_distritos_od"
   ]
  },
  {
   "cell_type": "code",
   "execution_count": 33,
   "metadata": {},
   "outputs": [],
   "source": [
    "df_quadras_distritos_od = df_quadras_distritos_od.drop_duplicates(subset=['sq'])"
   ]
  },
  {
   "cell_type": "code",
   "execution_count": 34,
   "metadata": {},
   "outputs": [
    {
     "data": {
      "text/plain": [
       "((45655, 12), (85961435, 20))"
      ]
     },
     "execution_count": 34,
     "metadata": {},
     "output_type": "execute_result"
    }
   ],
   "source": [
    "df_quadras_distritos_od.shape, df_iptu.shape"
   ]
  },
  {
   "cell_type": "code",
   "execution_count": 35,
   "metadata": {},
   "outputs": [],
   "source": [
    "df_iptu = df_iptu.join(vaex.from_pandas(df_quadras_distritos_od), on='sq', how='left',  \n",
    "            allow_duplication=False, inplace=False)"
   ]
  },
  {
   "cell_type": "code",
   "execution_count": 36,
   "metadata": {},
   "outputs": [
    {
     "data": {
      "text/plain": [
       "((45655, 12), (85961435, 31))"
      ]
     },
     "execution_count": 36,
     "metadata": {},
     "output_type": "execute_result"
    }
   ],
   "source": [
    "df_quadras_distritos_od.shape, df_iptu.shape"
   ]
  },
  {
   "cell_type": "code",
   "execution_count": 37,
   "metadata": {},
   "outputs": [
    {
     "data": {
      "text/html": [
       "<div>\n",
       "<style scoped>\n",
       "    .dataframe tbody tr th:only-of-type {\n",
       "        vertical-align: middle;\n",
       "    }\n",
       "\n",
       "    .dataframe tbody tr th {\n",
       "        vertical-align: top;\n",
       "    }\n",
       "\n",
       "    .dataframe thead th {\n",
       "        text-align: right;\n",
       "    }\n",
       "</style>\n",
       "<table border=\"1\" class=\"dataframe\">\n",
       "  <thead>\n",
       "    <tr style=\"text-align: right;\">\n",
       "      <th></th>\n",
       "      <th>TIPO DE USO DO IMOVEL</th>\n",
       "      <th>count</th>\n",
       "    </tr>\n",
       "  </thead>\n",
       "  <tbody>\n",
       "    <tr>\n",
       "      <th>0</th>\n",
       "      <td>Residência e outro uso (predominância residenc...</td>\n",
       "      <td>85643</td>\n",
       "    </tr>\n",
       "    <tr>\n",
       "      <th>1</th>\n",
       "      <td>Outras edificações de uso comercial, com utili...</td>\n",
       "      <td>22163</td>\n",
       "    </tr>\n",
       "    <tr>\n",
       "      <th>2</th>\n",
       "      <td>Posto de serviço</td>\n",
       "      <td>2279</td>\n",
       "    </tr>\n",
       "    <tr>\n",
       "      <th>3</th>\n",
       "      <td>Prédio de apartamento, não em condomínio, de u...</td>\n",
       "      <td>2209</td>\n",
       "    </tr>\n",
       "    <tr>\n",
       "      <th>4</th>\n",
       "      <td>Estação radioemissora, de televisão ou empresa...</td>\n",
       "      <td>495</td>\n",
       "    </tr>\n",
       "    <tr>\n",
       "      <th>5</th>\n",
       "      <td>Flat de uso comercial (semelhante a hotel)</td>\n",
       "      <td>24619</td>\n",
       "    </tr>\n",
       "    <tr>\n",
       "      <th>6</th>\n",
       "      <td>Apartamento em condomínio</td>\n",
       "      <td>1439450</td>\n",
       "    </tr>\n",
       "    <tr>\n",
       "      <th>7</th>\n",
       "      <td>Garagem (unidade autônoma) em edifício em cond...</td>\n",
       "      <td>200254</td>\n",
       "    </tr>\n",
       "    <tr>\n",
       "      <th>8</th>\n",
       "      <td>Clube esportivo</td>\n",
       "      <td>573</td>\n",
       "    </tr>\n",
       "    <tr>\n",
       "      <th>9</th>\n",
       "      <td>Outras edificações de uso especial, com utiliz...</td>\n",
       "      <td>1263</td>\n",
       "    </tr>\n",
       "    <tr>\n",
       "      <th>10</th>\n",
       "      <td>Outras edificações de uso de serviço, com util...</td>\n",
       "      <td>4927</td>\n",
       "    </tr>\n",
       "    <tr>\n",
       "      <th>11</th>\n",
       "      <td>Outras edificações de uso coletivo, com utiliz...</td>\n",
       "      <td>3033</td>\n",
       "    </tr>\n",
       "    <tr>\n",
       "      <th>12</th>\n",
       "      <td>Cinema, teatro, casa de diversão, clube ou con...</td>\n",
       "      <td>558</td>\n",
       "    </tr>\n",
       "    <tr>\n",
       "      <th>13</th>\n",
       "      <td>Loja e residência (predominância comercial)</td>\n",
       "      <td>44321</td>\n",
       "    </tr>\n",
       "    <tr>\n",
       "      <th>14</th>\n",
       "      <td>Garagem (unidade autônoma) em edifício em cond...</td>\n",
       "      <td>38376</td>\n",
       "    </tr>\n",
       "    <tr>\n",
       "      <th>15</th>\n",
       "      <td>Oficina</td>\n",
       "      <td>9921</td>\n",
       "    </tr>\n",
       "    <tr>\n",
       "      <th>16</th>\n",
       "      <td>Cortiço</td>\n",
       "      <td>1722</td>\n",
       "    </tr>\n",
       "    <tr>\n",
       "      <th>17</th>\n",
       "      <td>Hospital, ambulatório, casa de saúde e assemel...</td>\n",
       "      <td>1352</td>\n",
       "    </tr>\n",
       "    <tr>\n",
       "      <th>18</th>\n",
       "      <td>Escola</td>\n",
       "      <td>7029</td>\n",
       "    </tr>\n",
       "    <tr>\n",
       "      <th>19</th>\n",
       "      <td>Loja</td>\n",
       "      <td>54341</td>\n",
       "    </tr>\n",
       "    <tr>\n",
       "      <th>20</th>\n",
       "      <td>Residência coletiva, exclusive cortiço (mais d...</td>\n",
       "      <td>204980</td>\n",
       "    </tr>\n",
       "    <tr>\n",
       "      <th>21</th>\n",
       "      <td>Residência</td>\n",
       "      <td>1085600</td>\n",
       "    </tr>\n",
       "    <tr>\n",
       "      <th>22</th>\n",
       "      <td>Garagem (exclusive em prédio em condomínio)</td>\n",
       "      <td>2711</td>\n",
       "    </tr>\n",
       "    <tr>\n",
       "      <th>23</th>\n",
       "      <td>Prédio de apartamento, não em condomínio, de u...</td>\n",
       "      <td>2735</td>\n",
       "    </tr>\n",
       "    <tr>\n",
       "      <th>24</th>\n",
       "      <td>Prédio de escritório, não em condomínio, de us...</td>\n",
       "      <td>312</td>\n",
       "    </tr>\n",
       "    <tr>\n",
       "      <th>25</th>\n",
       "      <td>Flat residencial em condomínio</td>\n",
       "      <td>5184</td>\n",
       "    </tr>\n",
       "    <tr>\n",
       "      <th>26</th>\n",
       "      <td>Indústria</td>\n",
       "      <td>13270</td>\n",
       "    </tr>\n",
       "    <tr>\n",
       "      <th>27</th>\n",
       "      <td>Templo</td>\n",
       "      <td>5974</td>\n",
       "    </tr>\n",
       "    <tr>\n",
       "      <th>28</th>\n",
       "      <td>Escritório/consultório em condomínio (unidade ...</td>\n",
       "      <td>139963</td>\n",
       "    </tr>\n",
       "    <tr>\n",
       "      <th>29</th>\n",
       "      <td>Hotel, pensão ou hospedaria</td>\n",
       "      <td>3936</td>\n",
       "    </tr>\n",
       "    <tr>\n",
       "      <th>30</th>\n",
       "      <td>Loja em edifício em condomínio (unidade autônoma)</td>\n",
       "      <td>23752</td>\n",
       "    </tr>\n",
       "    <tr>\n",
       "      <th>31</th>\n",
       "      <td>Terreno</td>\n",
       "      <td>103197</td>\n",
       "    </tr>\n",
       "    <tr>\n",
       "      <th>32</th>\n",
       "      <td>Asilo, orfanato, creche, seminário ou convento</td>\n",
       "      <td>989</td>\n",
       "    </tr>\n",
       "    <tr>\n",
       "      <th>33</th>\n",
       "      <td>Garagem (unidade autônoma) de prédio de garagens</td>\n",
       "      <td>9568</td>\n",
       "    </tr>\n",
       "    <tr>\n",
       "      <th>34</th>\n",
       "      <td>Prédio de escritório ou consultório, não em co...</td>\n",
       "      <td>24185</td>\n",
       "    </tr>\n",
       "    <tr>\n",
       "      <th>35</th>\n",
       "      <td>Armazéns gerais e depósitos</td>\n",
       "      <td>9177</td>\n",
       "    </tr>\n",
       "  </tbody>\n",
       "</table>\n",
       "</div>"
      ],
      "text/plain": [
       "                                TIPO DE USO DO IMOVEL    count\n",
       "0   Residência e outro uso (predominância residenc...    85643\n",
       "1   Outras edificações de uso comercial, com utili...    22163\n",
       "2                                    Posto de serviço     2279\n",
       "3   Prédio de apartamento, não em condomínio, de u...     2209\n",
       "4   Estação radioemissora, de televisão ou empresa...      495\n",
       "5          Flat de uso comercial (semelhante a hotel)    24619\n",
       "6                           Apartamento em condomínio  1439450\n",
       "7   Garagem (unidade autônoma) em edifício em cond...   200254\n",
       "8                                     Clube esportivo      573\n",
       "9   Outras edificações de uso especial, com utiliz...     1263\n",
       "10  Outras edificações de uso de serviço, com util...     4927\n",
       "11  Outras edificações de uso coletivo, com utiliz...     3033\n",
       "12  Cinema, teatro, casa de diversão, clube ou con...      558\n",
       "13        Loja e residência (predominância comercial)    44321\n",
       "14  Garagem (unidade autônoma) em edifício em cond...    38376\n",
       "15                                            Oficina     9921\n",
       "16                                            Cortiço     1722\n",
       "17  Hospital, ambulatório, casa de saúde e assemel...     1352\n",
       "18                                             Escola     7029\n",
       "19                                               Loja    54341\n",
       "20  Residência coletiva, exclusive cortiço (mais d...   204980\n",
       "21                                         Residência  1085600\n",
       "22        Garagem (exclusive em prédio em condomínio)     2711\n",
       "23  Prédio de apartamento, não em condomínio, de u...     2735\n",
       "24  Prédio de escritório, não em condomínio, de us...      312\n",
       "25                     Flat residencial em condomínio     5184\n",
       "26                                          Indústria    13270\n",
       "27                                             Templo     5974\n",
       "28  Escritório/consultório em condomínio (unidade ...   139963\n",
       "29                        Hotel, pensão ou hospedaria     3936\n",
       "30  Loja em edifício em condomínio (unidade autônoma)    23752\n",
       "31                                            Terreno   103197\n",
       "32     Asilo, orfanato, creche, seminário ou convento      989\n",
       "33   Garagem (unidade autônoma) de prédio de garagens     9568\n",
       "34  Prédio de escritório ou consultório, não em co...    24185\n",
       "35                        Armazéns gerais e depósitos     9177"
      ]
     },
     "execution_count": 37,
     "metadata": {},
     "output_type": "execute_result"
    }
   ],
   "source": [
    "df_usos_2022 = df_iptu[df_iptu['ANO DO EXERCICIO'] == 2022].groupby('TIPO DE USO DO IMOVEL').agg('count').to_pandas_df()\n",
    "df_usos_2022"
   ]
  },
  {
   "cell_type": "code",
   "execution_count": 38,
   "metadata": {},
   "outputs": [],
   "source": [
    "df_usos = df_iptu.groupby('TIPO DE USO DO IMOVEL').agg('count').to_pandas_df()"
   ]
  },
  {
   "cell_type": "code",
   "execution_count": 39,
   "metadata": {},
   "outputs": [],
   "source": [
    "df_usos.fillna('', inplace=True)"
   ]
  },
  {
   "cell_type": "code",
   "execution_count": 40,
   "metadata": {},
   "outputs": [],
   "source": [
    "results, ratios = [], []\n",
    "\n",
    "for i, row in df_usos.iterrows():\n",
    "\n",
    "    similaridade = df_usos_2022['TIPO DE USO DO IMOVEL'].apply(lambda x: SequenceMatcher(None, row['TIPO DE USO DO IMOVEL'], x).ratio())\n",
    "    \n",
    "    results.append(df_usos_2022.iloc[similaridade.idxmax()]['TIPO DE USO DO IMOVEL'])\n",
    "\n",
    "    ratios.append(similaridade.max())\n",
    "\n",
    "df_usos['titulo_padronizado'] = results # Os títulos costumam variar, portanto esse campo será referência para os agrupamentos\n",
    "df_usos['relacao_de_assertividade_com_titulo_padronizado'] = ratios"
   ]
  },
  {
   "cell_type": "code",
   "execution_count": 41,
   "metadata": {},
   "outputs": [
    {
     "data": {
      "text/html": [
       "<div>\n",
       "<style scoped>\n",
       "    .dataframe tbody tr th:only-of-type {\n",
       "        vertical-align: middle;\n",
       "    }\n",
       "\n",
       "    .dataframe tbody tr th {\n",
       "        vertical-align: top;\n",
       "    }\n",
       "\n",
       "    .dataframe thead th {\n",
       "        text-align: right;\n",
       "    }\n",
       "</style>\n",
       "<table border=\"1\" class=\"dataframe\">\n",
       "  <thead>\n",
       "    <tr style=\"text-align: right;\">\n",
       "      <th></th>\n",
       "      <th>TIPO DE USO DO IMOVEL</th>\n",
       "      <th>count</th>\n",
       "      <th>titulo_padronizado</th>\n",
       "      <th>relacao_de_assertividade_com_titulo_padronizado</th>\n",
       "    </tr>\n",
       "  </thead>\n",
       "  <tbody>\n",
       "    <tr>\n",
       "      <th>0</th>\n",
       "      <td></td>\n",
       "      <td>26</td>\n",
       "      <td>Residência e outro uso (predominância residenc...</td>\n",
       "      <td>0.000000</td>\n",
       "    </tr>\n",
       "    <tr>\n",
       "      <th>1</th>\n",
       "      <td>Outras edificações de uso comercial, com utili...</td>\n",
       "      <td>169979</td>\n",
       "      <td>Outras edificações de uso comercial, com utili...</td>\n",
       "      <td>1.000000</td>\n",
       "    </tr>\n",
       "    <tr>\n",
       "      <th>2</th>\n",
       "      <td>Residência e outro uso (predominância residenc...</td>\n",
       "      <td>681590</td>\n",
       "      <td>Residência e outro uso (predominância residenc...</td>\n",
       "      <td>1.000000</td>\n",
       "    </tr>\n",
       "    <tr>\n",
       "      <th>3</th>\n",
       "      <td>outras edificações do tipo (uso especial), com...</td>\n",
       "      <td>24600</td>\n",
       "      <td>Outras edificações de uso especial, com utiliz...</td>\n",
       "      <td>0.912000</td>\n",
       "    </tr>\n",
       "    <tr>\n",
       "      <th>4</th>\n",
       "      <td>Garagem (unidade autônoma) em edifício em cond...</td>\n",
       "      <td>178032</td>\n",
       "      <td>Garagem (unidade autônoma) em edifício em cond...</td>\n",
       "      <td>0.895706</td>\n",
       "    </tr>\n",
       "    <tr>\n",
       "      <th>...</th>\n",
       "      <td>...</td>\n",
       "      <td>...</td>\n",
       "      <td>...</td>\n",
       "      <td>...</td>\n",
       "    </tr>\n",
       "    <tr>\n",
       "      <th>73</th>\n",
       "      <td>asilo, orfanato, creche, seminário ou convento</td>\n",
       "      <td>11795</td>\n",
       "      <td>Asilo, orfanato, creche, seminário ou convento</td>\n",
       "      <td>0.978261</td>\n",
       "    </tr>\n",
       "    <tr>\n",
       "      <th>74</th>\n",
       "      <td>cortiço (habitação coletiva subnormal)</td>\n",
       "      <td>41620</td>\n",
       "      <td>Residência e outro uso (predominância residenc...</td>\n",
       "      <td>0.363636</td>\n",
       "    </tr>\n",
       "    <tr>\n",
       "      <th>75</th>\n",
       "      <td>escola</td>\n",
       "      <td>135829</td>\n",
       "      <td>Escola</td>\n",
       "      <td>0.833333</td>\n",
       "    </tr>\n",
       "    <tr>\n",
       "      <th>76</th>\n",
       "      <td>Prédio de escritório ou consultório, não em co...</td>\n",
       "      <td>197966</td>\n",
       "      <td>Prédio de escritório ou consultório, não em co...</td>\n",
       "      <td>1.000000</td>\n",
       "    </tr>\n",
       "    <tr>\n",
       "      <th>77</th>\n",
       "      <td>Armazéns gerais e depósitos</td>\n",
       "      <td>69754</td>\n",
       "      <td>Armazéns gerais e depósitos</td>\n",
       "      <td>1.000000</td>\n",
       "    </tr>\n",
       "  </tbody>\n",
       "</table>\n",
       "<p>78 rows × 4 columns</p>\n",
       "</div>"
      ],
      "text/plain": [
       "                                TIPO DE USO DO IMOVEL   count  \\\n",
       "0                                                          26   \n",
       "1   Outras edificações de uso comercial, com utili...  169979   \n",
       "2   Residência e outro uso (predominância residenc...  681590   \n",
       "3   outras edificações do tipo (uso especial), com...   24600   \n",
       "4   Garagem (unidade autônoma) em edifício em cond...  178032   \n",
       "..                                                ...     ...   \n",
       "73     asilo, orfanato, creche, seminário ou convento   11795   \n",
       "74             cortiço (habitação coletiva subnormal)   41620   \n",
       "75                                             escola  135829   \n",
       "76  Prédio de escritório ou consultório, não em co...  197966   \n",
       "77                        Armazéns gerais e depósitos   69754   \n",
       "\n",
       "                                   titulo_padronizado  \\\n",
       "0   Residência e outro uso (predominância residenc...   \n",
       "1   Outras edificações de uso comercial, com utili...   \n",
       "2   Residência e outro uso (predominância residenc...   \n",
       "3   Outras edificações de uso especial, com utiliz...   \n",
       "4   Garagem (unidade autônoma) em edifício em cond...   \n",
       "..                                                ...   \n",
       "73     Asilo, orfanato, creche, seminário ou convento   \n",
       "74  Residência e outro uso (predominância residenc...   \n",
       "75                                             Escola   \n",
       "76  Prédio de escritório ou consultório, não em co...   \n",
       "77                        Armazéns gerais e depósitos   \n",
       "\n",
       "    relacao_de_assertividade_com_titulo_padronizado  \n",
       "0                                          0.000000  \n",
       "1                                          1.000000  \n",
       "2                                          1.000000  \n",
       "3                                          0.912000  \n",
       "4                                          0.895706  \n",
       "..                                              ...  \n",
       "73                                         0.978261  \n",
       "74                                         0.363636  \n",
       "75                                         0.833333  \n",
       "76                                         1.000000  \n",
       "77                                         1.000000  \n",
       "\n",
       "[78 rows x 4 columns]"
      ]
     },
     "execution_count": 41,
     "metadata": {},
     "output_type": "execute_result"
    }
   ],
   "source": [
    "df_usos"
   ]
  },
  {
   "cell_type": "code",
   "execution_count": 42,
   "metadata": {},
   "outputs": [],
   "source": [
    "residencial = ['residencial', 'residência', 'apartamento', 'cortiço']\n",
    "comercial = ['comércio', 'comercial', 'posto', 'loja']\n",
    "servicos =  ['hotel', 'radioemissora', 'flat', 'serviço', 'clube', 'oficina', 'hospital', 'templo', 'escritórios', 'consultórios', 'escritório', 'consultório', 'asilo', 'creche', 'prédio de garagens', 'escola']\n",
    "industrial = ['Indústria', 'armazéns']"
   ]
  },
  {
   "cell_type": "code",
   "execution_count": 43,
   "metadata": {},
   "outputs": [],
   "source": [
    "class_residencial = df_usos.loc[:, 'titulo_padronizado'].str.contains(r'\\b(?:{})\\b'.format('|'.join(residencial)), case=False)\n",
    "class_comercial = df_usos.loc[:, 'titulo_padronizado'].str.contains(r'\\b(?:{})\\b'.format('|'.join(comercial)), case=False)\n",
    "class_servicos = df_usos.loc[:, 'titulo_padronizado'].str.contains(r'\\b(?:{})\\b'.format('|'.join(servicos)), case=False)\n",
    "class_industrial = df_usos.loc[:, 'titulo_padronizado'].str.contains(r'\\b(?:{})\\b'.format('|'.join(industrial)), case=False)\n",
    "\n",
    "df_usos.loc[class_residencial, ['classificacao_abrangente']] = 'Residencial'\n",
    "df_usos.loc[class_comercial, ['classificacao_abrangente']] = 'Comercial'\n",
    "df_usos.loc[class_servicos, ['classificacao_abrangente']] = 'Serviços'\n",
    "df_usos.loc[class_industrial, ['classificacao_abrangente']] = 'Industrial'\n",
    "\n",
    "df_usos.loc[df_usos.classificacao_abrangente.isna(), ['classificacao_abrangente']] = 'Outros'"
   ]
  },
  {
   "cell_type": "code",
   "execution_count": 44,
   "metadata": {},
   "outputs": [
    {
     "data": {
      "text/plain": [
       "False    85961409\n",
       "True           26\n",
       "dtype: int64"
      ]
     },
     "execution_count": 44,
     "metadata": {},
     "output_type": "execute_result"
    }
   ],
   "source": [
    "df_iptu['TIPO DE USO DO IMOVEL'].isna().value_counts()"
   ]
  },
  {
   "cell_type": "code",
   "execution_count": 45,
   "metadata": {},
   "outputs": [],
   "source": [
    "# df_iptu['TIPO DE USO DO IMOVEL']\n",
    "df_usos = vaex.from_pandas(df_usos.loc[df_usos['TIPO DE USO DO IMOVEL'] != '', ['TIPO DE USO DO IMOVEL', 'classificacao_abrangente']])\n",
    "df_iptu = df_iptu.join(df_usos, on='TIPO DE USO DO IMOVEL')"
   ]
  },
  {
   "cell_type": "code",
   "execution_count": 46,
   "metadata": {},
   "outputs": [
    {
     "data": {
      "text/html": [
       "<table>\n",
       "<thead>\n",
       "<tr><th>#                                     </th><th>classificacao_abrangente  </th></tr>\n",
       "</thead>\n",
       "<tbody>\n",
       "<tr><td><i style='opacity: 0.6'>0</i>         </td><td>Comercial                 </td></tr>\n",
       "<tr><td><i style='opacity: 0.6'>1</i>         </td><td>Comercial                 </td></tr>\n",
       "<tr><td><i style='opacity: 0.6'>2</i>         </td><td>Comercial                 </td></tr>\n",
       "<tr><td><i style='opacity: 0.6'>3</i>         </td><td>Comercial                 </td></tr>\n",
       "<tr><td><i style='opacity: 0.6'>4</i>         </td><td>Comercial                 </td></tr>\n",
       "<tr><td>...                                   </td><td>...                       </td></tr>\n",
       "<tr><td><i style='opacity: 0.6'>85,961,430</i></td><td>Residencial               </td></tr>\n",
       "<tr><td><i style='opacity: 0.6'>85,961,431</i></td><td>Residencial               </td></tr>\n",
       "<tr><td><i style='opacity: 0.6'>85,961,432</i></td><td>Residencial               </td></tr>\n",
       "<tr><td><i style='opacity: 0.6'>85,961,433</i></td><td>Outros                    </td></tr>\n",
       "<tr><td><i style='opacity: 0.6'>85,961,434</i></td><td>Outros                    </td></tr>\n",
       "</tbody>\n",
       "</table>"
      ],
      "text/plain": [
       "#           classificacao_abrangente\n",
       "0           Comercial\n",
       "1           Comercial\n",
       "2           Comercial\n",
       "3           Comercial\n",
       "4           Comercial\n",
       "...         ...\n",
       "85,961,430  Residencial\n",
       "85,961,431  Residencial\n",
       "85,961,432  Residencial\n",
       "85,961,433  Outros\n",
       "85,961,434  Outros"
      ]
     },
     "execution_count": 46,
     "metadata": {},
     "output_type": "execute_result"
    }
   ],
   "source": [
    "df_iptu[['classificacao_abrangente']]"
   ]
  },
  {
   "cell_type": "code",
   "execution_count": 47,
   "metadata": {},
   "outputs": [
    {
     "data": {
      "text/plain": [
       "(85961435, 32)"
      ]
     },
     "execution_count": 47,
     "metadata": {},
     "output_type": "execute_result"
    }
   ],
   "source": [
    "df_iptu.shape"
   ]
  },
  {
   "cell_type": "code",
   "execution_count": 48,
   "metadata": {},
   "outputs": [
    {
     "data": {
      "text/html": [
       "<div>\n",
       "<style scoped>\n",
       "    .dataframe tbody tr th:only-of-type {\n",
       "        vertical-align: middle;\n",
       "    }\n",
       "\n",
       "    .dataframe tbody tr th {\n",
       "        vertical-align: top;\n",
       "    }\n",
       "\n",
       "    .dataframe thead th {\n",
       "        text-align: right;\n",
       "    }\n",
       "</style>\n",
       "<table border=\"1\" class=\"dataframe\">\n",
       "  <thead>\n",
       "    <tr style=\"text-align: right;\">\n",
       "      <th></th>\n",
       "      <th>TIPO DE PADRAO DA CONSTRUCAO</th>\n",
       "      <th>count</th>\n",
       "    </tr>\n",
       "  </thead>\n",
       "  <tbody>\n",
       "    <tr>\n",
       "      <th>0</th>\n",
       "      <td>Residencial horizontal - padrão A</td>\n",
       "      <td>285433</td>\n",
       "    </tr>\n",
       "    <tr>\n",
       "      <th>1</th>\n",
       "      <td>Oficina,Posto de serviço,Armazém,D</td>\n",
       "      <td>21814</td>\n",
       "    </tr>\n",
       "    <tr>\n",
       "      <th>2</th>\n",
       "      <td>Residencial vertical - padrão E</td>\n",
       "      <td>56532</td>\n",
       "    </tr>\n",
       "    <tr>\n",
       "      <th>3</th>\n",
       "      <td>Residencial horizontal - padrão F</td>\n",
       "      <td>2022</td>\n",
       "    </tr>\n",
       "    <tr>\n",
       "      <th>4</th>\n",
       "      <td>Barracão,Telheiro,Oficina - padrão</td>\n",
       "      <td>4067</td>\n",
       "    </tr>\n",
       "    <tr>\n",
       "      <th>5</th>\n",
       "      <td>Residencial horizontal - padrão B</td>\n",
       "      <td>395050</td>\n",
       "    </tr>\n",
       "    <tr>\n",
       "      <th>6</th>\n",
       "      <td>Residencial horizontal - padrão E</td>\n",
       "      <td>8779</td>\n",
       "    </tr>\n",
       "    <tr>\n",
       "      <th>7</th>\n",
       "      <td>Comercial vertical - padrão B</td>\n",
       "      <td>54602</td>\n",
       "    </tr>\n",
       "    <tr>\n",
       "      <th>8</th>\n",
       "      <td>Residencial horizontal - padrão D</td>\n",
       "      <td>47294</td>\n",
       "    </tr>\n",
       "    <tr>\n",
       "      <th>9</th>\n",
       "      <td>Terreno</td>\n",
       "      <td>103197</td>\n",
       "    </tr>\n",
       "    <tr>\n",
       "      <th>10</th>\n",
       "      <td>Residencial vertical - padrão F</td>\n",
       "      <td>8925</td>\n",
       "    </tr>\n",
       "    <tr>\n",
       "      <th>11</th>\n",
       "      <td>Comercial horizontal - padrão D</td>\n",
       "      <td>2343</td>\n",
       "    </tr>\n",
       "    <tr>\n",
       "      <th>12</th>\n",
       "      <td>Barracão,Telheiro,Oficina,Posto de</td>\n",
       "      <td>15355</td>\n",
       "    </tr>\n",
       "    <tr>\n",
       "      <th>13</th>\n",
       "      <td>Residencial vertical - padrão C</td>\n",
       "      <td>1079048</td>\n",
       "    </tr>\n",
       "    <tr>\n",
       "      <th>14</th>\n",
       "      <td>Comercial horizontal - padrão C</td>\n",
       "      <td>21436</td>\n",
       "    </tr>\n",
       "    <tr>\n",
       "      <th>15</th>\n",
       "      <td>Edifício de garagens - padrão A</td>\n",
       "      <td>9605</td>\n",
       "    </tr>\n",
       "    <tr>\n",
       "      <th>16</th>\n",
       "      <td>Residencial horizontal - padrão C</td>\n",
       "      <td>655758</td>\n",
       "    </tr>\n",
       "    <tr>\n",
       "      <th>17</th>\n",
       "      <td>Comercial vertical - padrão D</td>\n",
       "      <td>42395</td>\n",
       "    </tr>\n",
       "    <tr>\n",
       "      <th>18</th>\n",
       "      <td>Comercial vertical - padrão C</td>\n",
       "      <td>119353</td>\n",
       "    </tr>\n",
       "    <tr>\n",
       "      <th>19</th>\n",
       "      <td>Indústria - padrão E</td>\n",
       "      <td>124</td>\n",
       "    </tr>\n",
       "    <tr>\n",
       "      <th>20</th>\n",
       "      <td>Templo,Clube,Ginásio ou Estádio es</td>\n",
       "      <td>9491</td>\n",
       "    </tr>\n",
       "    <tr>\n",
       "      <th>21</th>\n",
       "      <td>Comercial horizontal - padrão E</td>\n",
       "      <td>208</td>\n",
       "    </tr>\n",
       "    <tr>\n",
       "      <th>22</th>\n",
       "      <td>Comercial horizontal - padrão B</td>\n",
       "      <td>91133</td>\n",
       "    </tr>\n",
       "    <tr>\n",
       "      <th>23</th>\n",
       "      <td>Comercial vertical - padrão E</td>\n",
       "      <td>19650</td>\n",
       "    </tr>\n",
       "    <tr>\n",
       "      <th>24</th>\n",
       "      <td>Comercial horizontal - padrão A</td>\n",
       "      <td>11399</td>\n",
       "    </tr>\n",
       "    <tr>\n",
       "      <th>25</th>\n",
       "      <td>Residencial vertical - padrão A</td>\n",
       "      <td>84210</td>\n",
       "    </tr>\n",
       "    <tr>\n",
       "      <th>26</th>\n",
       "      <td>Residencial vertical - padrão D</td>\n",
       "      <td>264636</td>\n",
       "    </tr>\n",
       "    <tr>\n",
       "      <th>27</th>\n",
       "      <td>Comercial vertical - padrão A</td>\n",
       "      <td>1891</td>\n",
       "    </tr>\n",
       "    <tr>\n",
       "      <th>28</th>\n",
       "      <td>Residencial vertical - padrão B</td>\n",
       "      <td>164311</td>\n",
       "    </tr>\n",
       "  </tbody>\n",
       "</table>\n",
       "</div>"
      ],
      "text/plain": [
       "          TIPO DE PADRAO DA CONSTRUCAO    count\n",
       "0    Residencial horizontal - padrão A   285433\n",
       "1   Oficina,Posto de serviço,Armazém,D    21814\n",
       "2      Residencial vertical - padrão E    56532\n",
       "3    Residencial horizontal - padrão F     2022\n",
       "4   Barracão,Telheiro,Oficina - padrão     4067\n",
       "5    Residencial horizontal - padrão B   395050\n",
       "6    Residencial horizontal - padrão E     8779\n",
       "7        Comercial vertical - padrão B    54602\n",
       "8    Residencial horizontal - padrão D    47294\n",
       "9                              Terreno   103197\n",
       "10     Residencial vertical - padrão F     8925\n",
       "11     Comercial horizontal - padrão D     2343\n",
       "12  Barracão,Telheiro,Oficina,Posto de    15355\n",
       "13     Residencial vertical - padrão C  1079048\n",
       "14     Comercial horizontal - padrão C    21436\n",
       "15     Edifício de garagens - padrão A     9605\n",
       "16   Residencial horizontal - padrão C   655758\n",
       "17       Comercial vertical - padrão D    42395\n",
       "18       Comercial vertical - padrão C   119353\n",
       "19                Indústria - padrão E      124\n",
       "20  Templo,Clube,Ginásio ou Estádio es     9491\n",
       "21     Comercial horizontal - padrão E      208\n",
       "22     Comercial horizontal - padrão B    91133\n",
       "23       Comercial vertical - padrão E    19650\n",
       "24     Comercial horizontal - padrão A    11399\n",
       "25     Residencial vertical - padrão A    84210\n",
       "26     Residencial vertical - padrão D   264636\n",
       "27       Comercial vertical - padrão A     1891\n",
       "28     Residencial vertical - padrão B   164311"
      ]
     },
     "execution_count": 48,
     "metadata": {},
     "output_type": "execute_result"
    }
   ],
   "source": [
    "df_padroes_usos_2022 = df_iptu[df_iptu['ANO DO EXERCICIO'] == 2022].groupby('TIPO DE PADRAO DA CONSTRUCAO').agg('count').to_pandas_df()\n",
    "df_padroes_usos_2022.loc[df_padroes_usos_2022['TIPO DE PADRAO DA CONSTRUCAO'] == 'TERRENO', 'TIPO DE PADRAO DA CONSTRUCAO'] = 'Terreno'\n",
    "df_padroes_usos_2022['TIPO DE PADRAO DA CONSTRUCAO'] = df_padroes_usos_2022['TIPO DE PADRAO DA CONSTRUCAO'].str.replace('/', ',')\n",
    "df_padroes_usos_2022"
   ]
  },
  {
   "cell_type": "code",
   "execution_count": 49,
   "metadata": {},
   "outputs": [
    {
     "data": {
      "text/html": [
       "<div>\n",
       "<style scoped>\n",
       "    .dataframe tbody tr th:only-of-type {\n",
       "        vertical-align: middle;\n",
       "    }\n",
       "\n",
       "    .dataframe tbody tr th {\n",
       "        vertical-align: top;\n",
       "    }\n",
       "\n",
       "    .dataframe thead th {\n",
       "        text-align: right;\n",
       "    }\n",
       "</style>\n",
       "<table border=\"1\" class=\"dataframe\">\n",
       "  <thead>\n",
       "    <tr style=\"text-align: right;\">\n",
       "      <th></th>\n",
       "      <th>TIPO DE PADRAO DA CONSTRUCAO</th>\n",
       "      <th>count</th>\n",
       "    </tr>\n",
       "  </thead>\n",
       "  <tbody>\n",
       "    <tr>\n",
       "      <th>0</th>\n",
       "      <td></td>\n",
       "      <td>26</td>\n",
       "    </tr>\n",
       "    <tr>\n",
       "      <th>1</th>\n",
       "      <td>Residencial horizontal - padrão A</td>\n",
       "      <td>2295383</td>\n",
       "    </tr>\n",
       "    <tr>\n",
       "      <th>2</th>\n",
       "      <td>Oficina,Posto de serviço,Armazém,D</td>\n",
       "      <td>152824</td>\n",
       "    </tr>\n",
       "    <tr>\n",
       "      <th>3</th>\n",
       "      <td>Residencial vertical - padrão E</td>\n",
       "      <td>444552</td>\n",
       "    </tr>\n",
       "    <tr>\n",
       "      <th>4</th>\n",
       "      <td>residência horizontal - Padrão E</td>\n",
       "      <td>181857</td>\n",
       "    </tr>\n",
       "    <tr>\n",
       "      <th>...</th>\n",
       "      <td>...</td>\n",
       "      <td>...</td>\n",
       "    </tr>\n",
       "    <tr>\n",
       "      <th>62</th>\n",
       "      <td>Barracão,Telheiro,Oficina,Posto de serviço,Arm...</td>\n",
       "      <td>308795</td>\n",
       "    </tr>\n",
       "    <tr>\n",
       "      <th>63</th>\n",
       "      <td>comercial vertical - Padrão D</td>\n",
       "      <td>451006</td>\n",
       "    </tr>\n",
       "    <tr>\n",
       "      <th>64</th>\n",
       "      <td>Comercial vertical - padrão A</td>\n",
       "      <td>15085</td>\n",
       "    </tr>\n",
       "    <tr>\n",
       "      <th>65</th>\n",
       "      <td>comercial vertical - Padrão C</td>\n",
       "      <td>1282807</td>\n",
       "    </tr>\n",
       "    <tr>\n",
       "      <th>66</th>\n",
       "      <td>Residencial vertical - padrão B</td>\n",
       "      <td>1225386</td>\n",
       "    </tr>\n",
       "  </tbody>\n",
       "</table>\n",
       "<p>67 rows × 2 columns</p>\n",
       "</div>"
      ],
      "text/plain": [
       "                         TIPO DE PADRAO DA CONSTRUCAO    count\n",
       "0                                                           26\n",
       "1                   Residencial horizontal - padrão A  2295383\n",
       "2                  Oficina,Posto de serviço,Armazém,D   152824\n",
       "3                     Residencial vertical - padrão E   444552\n",
       "4                    residência horizontal - Padrão E   181857\n",
       "..                                                ...      ...\n",
       "62  Barracão,Telheiro,Oficina,Posto de serviço,Arm...   308795\n",
       "63                      comercial vertical - Padrão D   451006\n",
       "64                      Comercial vertical - padrão A    15085\n",
       "65                      comercial vertical - Padrão C  1282807\n",
       "66                    Residencial vertical - padrão B  1225386\n",
       "\n",
       "[67 rows x 2 columns]"
      ]
     },
     "execution_count": 49,
     "metadata": {},
     "output_type": "execute_result"
    }
   ],
   "source": [
    "df_padroes_usos = df_iptu.groupby('TIPO DE PADRAO DA CONSTRUCAO').agg('count').to_pandas_df()\n",
    "df_padroes_usos.fillna('', inplace=True)\n",
    "df_padroes_usos['TIPO DE PADRAO DA CONSTRUCAO'] = df_padroes_usos['TIPO DE PADRAO DA CONSTRUCAO'].str.replace('/', ',')\n",
    "df_padroes_usos"
   ]
  },
  {
   "cell_type": "code",
   "execution_count": 50,
   "metadata": {},
   "outputs": [],
   "source": [
    "results, ratios = [], []\n",
    "\n",
    "for i, row in df_padroes_usos.iterrows():\n",
    "\n",
    "    similaridade = df_padroes_usos_2022['TIPO DE PADRAO DA CONSTRUCAO'].apply(lambda x: SequenceMatcher(None, row['TIPO DE PADRAO DA CONSTRUCAO'], x).ratio())\n",
    "    \n",
    "    results.append(df_padroes_usos_2022.iloc[similaridade.idxmax()]['TIPO DE PADRAO DA CONSTRUCAO'])\n",
    "\n",
    "    ratios.append(similaridade.max())\n",
    "\n",
    "df_padroes_usos['titulo_padronizado'] = results # Os títulos costumam variar, portanto esse campo será referência para os agrupamentos\n",
    "df_padroes_usos['relacao_de_assertividade_com_titulo_padronizado'] = ratios"
   ]
  },
  {
   "cell_type": "code",
   "execution_count": 51,
   "metadata": {},
   "outputs": [],
   "source": [
    "# df_padroes_usos\n",
    "df_padroes_usos['tipo_de_uso'] = df_padroes_usos['titulo_padronizado'].str.split(\"-\").apply(lambda x: x[0] if x[0][-1] != ' ' else x[0][:-1])\n",
    "df_padroes_usos['padrao_de_uso'] = df_padroes_usos['titulo_padronizado'].str.split(\"-\").apply(lambda x: x[-1][-1] if x[-1][-3] == 'o' else '')\n",
    "\n",
    "df_padroes_usos.loc[(df_padroes_usos.padrao_de_uso == 'A') |\n",
    "                    (df_padroes_usos.padrao_de_uso == 'B'),\n",
    "                    'classe_de_uso'] = 'Baixo'\n",
    "\n",
    "df_padroes_usos.loc[df_padroes_usos.padrao_de_uso == 'C',\n",
    "                    'classe_de_uso'] = 'Médio'\n",
    "\n",
    "df_padroes_usos.loc[(df_padroes_usos.padrao_de_uso == 'D') |\n",
    "                    (df_padroes_usos.padrao_de_uso == 'E') |\n",
    "                    (df_padroes_usos.padrao_de_uso == 'F'),\n",
    "                    'classe_de_uso'] = 'Alto'\n",
    "\n",
    "df_padroes_usos.fillna('', inplace=True)\n"
   ]
  },
  {
   "cell_type": "code",
   "execution_count": 52,
   "metadata": {},
   "outputs": [
    {
     "data": {
      "text/html": [
       "<div>\n",
       "<style scoped>\n",
       "    .dataframe tbody tr th:only-of-type {\n",
       "        vertical-align: middle;\n",
       "    }\n",
       "\n",
       "    .dataframe tbody tr th {\n",
       "        vertical-align: top;\n",
       "    }\n",
       "\n",
       "    .dataframe thead th {\n",
       "        text-align: right;\n",
       "    }\n",
       "</style>\n",
       "<table border=\"1\" class=\"dataframe\">\n",
       "  <thead>\n",
       "    <tr style=\"text-align: right;\">\n",
       "      <th></th>\n",
       "      <th>TIPO DE PADRAO DA CONSTRUCAO</th>\n",
       "      <th>count</th>\n",
       "      <th>titulo_padronizado</th>\n",
       "      <th>relacao_de_assertividade_com_titulo_padronizado</th>\n",
       "      <th>tipo_de_uso</th>\n",
       "      <th>padrao_de_uso</th>\n",
       "      <th>classe_de_uso</th>\n",
       "    </tr>\n",
       "  </thead>\n",
       "  <tbody>\n",
       "    <tr>\n",
       "      <th>0</th>\n",
       "      <td></td>\n",
       "      <td>26</td>\n",
       "      <td>Residencial horizontal - padrão A</td>\n",
       "      <td>0.000000</td>\n",
       "      <td>Residencial horizontal</td>\n",
       "      <td>A</td>\n",
       "      <td>Baixo</td>\n",
       "    </tr>\n",
       "    <tr>\n",
       "      <th>1</th>\n",
       "      <td>Residencial horizontal - padrão A</td>\n",
       "      <td>2295383</td>\n",
       "      <td>Residencial horizontal - padrão A</td>\n",
       "      <td>1.000000</td>\n",
       "      <td>Residencial horizontal</td>\n",
       "      <td>A</td>\n",
       "      <td>Baixo</td>\n",
       "    </tr>\n",
       "    <tr>\n",
       "      <th>2</th>\n",
       "      <td>Oficina,Posto de serviço,Armazém,D</td>\n",
       "      <td>152824</td>\n",
       "      <td>Oficina,Posto de serviço,Armazém,D</td>\n",
       "      <td>1.000000</td>\n",
       "      <td>Oficina,Posto de serviço,Armazém,D</td>\n",
       "      <td></td>\n",
       "      <td></td>\n",
       "    </tr>\n",
       "    <tr>\n",
       "      <th>3</th>\n",
       "      <td>Residencial vertical - padrão E</td>\n",
       "      <td>444552</td>\n",
       "      <td>Residencial vertical - padrão E</td>\n",
       "      <td>1.000000</td>\n",
       "      <td>Residencial vertical</td>\n",
       "      <td>E</td>\n",
       "      <td>Alto</td>\n",
       "    </tr>\n",
       "    <tr>\n",
       "      <th>4</th>\n",
       "      <td>residência horizontal - Padrão E</td>\n",
       "      <td>181857</td>\n",
       "      <td>Residencial horizontal - padrão E</td>\n",
       "      <td>0.892308</td>\n",
       "      <td>Residencial horizontal</td>\n",
       "      <td>E</td>\n",
       "      <td>Alto</td>\n",
       "    </tr>\n",
       "    <tr>\n",
       "      <th>...</th>\n",
       "      <td>...</td>\n",
       "      <td>...</td>\n",
       "      <td>...</td>\n",
       "      <td>...</td>\n",
       "      <td>...</td>\n",
       "      <td>...</td>\n",
       "      <td>...</td>\n",
       "    </tr>\n",
       "    <tr>\n",
       "      <th>62</th>\n",
       "      <td>Barracão,Telheiro,Oficina,Posto de serviço,Arm...</td>\n",
       "      <td>308795</td>\n",
       "      <td>Oficina,Posto de serviço,Armazém,D</td>\n",
       "      <td>0.596491</td>\n",
       "      <td>Oficina,Posto de serviço,Armazém,D</td>\n",
       "      <td></td>\n",
       "      <td></td>\n",
       "    </tr>\n",
       "    <tr>\n",
       "      <th>63</th>\n",
       "      <td>comercial vertical - Padrão D</td>\n",
       "      <td>451006</td>\n",
       "      <td>Comercial vertical - padrão D</td>\n",
       "      <td>0.931034</td>\n",
       "      <td>Comercial vertical</td>\n",
       "      <td>D</td>\n",
       "      <td>Alto</td>\n",
       "    </tr>\n",
       "    <tr>\n",
       "      <th>64</th>\n",
       "      <td>Comercial vertical - padrão A</td>\n",
       "      <td>15085</td>\n",
       "      <td>Comercial vertical - padrão A</td>\n",
       "      <td>1.000000</td>\n",
       "      <td>Comercial vertical</td>\n",
       "      <td>A</td>\n",
       "      <td>Baixo</td>\n",
       "    </tr>\n",
       "    <tr>\n",
       "      <th>65</th>\n",
       "      <td>comercial vertical - Padrão C</td>\n",
       "      <td>1282807</td>\n",
       "      <td>Comercial vertical - padrão C</td>\n",
       "      <td>0.931034</td>\n",
       "      <td>Comercial vertical</td>\n",
       "      <td>C</td>\n",
       "      <td>Médio</td>\n",
       "    </tr>\n",
       "    <tr>\n",
       "      <th>66</th>\n",
       "      <td>Residencial vertical - padrão B</td>\n",
       "      <td>1225386</td>\n",
       "      <td>Residencial vertical - padrão B</td>\n",
       "      <td>1.000000</td>\n",
       "      <td>Residencial vertical</td>\n",
       "      <td>B</td>\n",
       "      <td>Baixo</td>\n",
       "    </tr>\n",
       "  </tbody>\n",
       "</table>\n",
       "<p>67 rows × 7 columns</p>\n",
       "</div>"
      ],
      "text/plain": [
       "                         TIPO DE PADRAO DA CONSTRUCAO    count  \\\n",
       "0                                                           26   \n",
       "1                   Residencial horizontal - padrão A  2295383   \n",
       "2                  Oficina,Posto de serviço,Armazém,D   152824   \n",
       "3                     Residencial vertical - padrão E   444552   \n",
       "4                    residência horizontal - Padrão E   181857   \n",
       "..                                                ...      ...   \n",
       "62  Barracão,Telheiro,Oficina,Posto de serviço,Arm...   308795   \n",
       "63                      comercial vertical - Padrão D   451006   \n",
       "64                      Comercial vertical - padrão A    15085   \n",
       "65                      comercial vertical - Padrão C  1282807   \n",
       "66                    Residencial vertical - padrão B  1225386   \n",
       "\n",
       "                    titulo_padronizado  \\\n",
       "0    Residencial horizontal - padrão A   \n",
       "1    Residencial horizontal - padrão A   \n",
       "2   Oficina,Posto de serviço,Armazém,D   \n",
       "3      Residencial vertical - padrão E   \n",
       "4    Residencial horizontal - padrão E   \n",
       "..                                 ...   \n",
       "62  Oficina,Posto de serviço,Armazém,D   \n",
       "63       Comercial vertical - padrão D   \n",
       "64       Comercial vertical - padrão A   \n",
       "65       Comercial vertical - padrão C   \n",
       "66     Residencial vertical - padrão B   \n",
       "\n",
       "    relacao_de_assertividade_com_titulo_padronizado  \\\n",
       "0                                          0.000000   \n",
       "1                                          1.000000   \n",
       "2                                          1.000000   \n",
       "3                                          1.000000   \n",
       "4                                          0.892308   \n",
       "..                                              ...   \n",
       "62                                         0.596491   \n",
       "63                                         0.931034   \n",
       "64                                         1.000000   \n",
       "65                                         0.931034   \n",
       "66                                         1.000000   \n",
       "\n",
       "                           tipo_de_uso padrao_de_uso classe_de_uso  \n",
       "0               Residencial horizontal             A         Baixo  \n",
       "1               Residencial horizontal             A         Baixo  \n",
       "2   Oficina,Posto de serviço,Armazém,D                              \n",
       "3                 Residencial vertical             E          Alto  \n",
       "4               Residencial horizontal             E          Alto  \n",
       "..                                 ...           ...           ...  \n",
       "62  Oficina,Posto de serviço,Armazém,D                              \n",
       "63                  Comercial vertical             D          Alto  \n",
       "64                  Comercial vertical             A         Baixo  \n",
       "65                  Comercial vertical             C         Médio  \n",
       "66                Residencial vertical             B         Baixo  \n",
       "\n",
       "[67 rows x 7 columns]"
      ]
     },
     "execution_count": 52,
     "metadata": {},
     "output_type": "execute_result"
    }
   ],
   "source": [
    "df_padroes_usos"
   ]
  },
  {
   "cell_type": "code",
   "execution_count": 53,
   "metadata": {},
   "outputs": [],
   "source": [
    "outros_tipos = df_padroes_usos.tipo_de_uso.str.contains('Residencial') | df_padroes_usos.tipo_de_uso.str.contains('Comercial') | df_padroes_usos.tipo_de_uso.str.contains('Terreno')"
   ]
  },
  {
   "cell_type": "code",
   "execution_count": 54,
   "metadata": {},
   "outputs": [],
   "source": [
    "df_padroes_usos.loc[~outros_tipos, 'tipo_de_uso'] = 'Outros Usos'\n",
    "df_padroes_usos.loc[~outros_tipos, 'classe_de_uso'] = ''"
   ]
  },
  {
   "cell_type": "code",
   "execution_count": 55,
   "metadata": {},
   "outputs": [],
   "source": [
    "df_padroes_usos.rename(columns={'titulo_padronizado':'padrao_construcao'}, inplace=True)"
   ]
  },
  {
   "cell_type": "code",
   "execution_count": 56,
   "metadata": {},
   "outputs": [
    {
     "data": {
      "text/html": [
       "<div>\n",
       "<style scoped>\n",
       "    .dataframe tbody tr th:only-of-type {\n",
       "        vertical-align: middle;\n",
       "    }\n",
       "\n",
       "    .dataframe tbody tr th {\n",
       "        vertical-align: top;\n",
       "    }\n",
       "\n",
       "    .dataframe thead th {\n",
       "        text-align: right;\n",
       "    }\n",
       "</style>\n",
       "<table border=\"1\" class=\"dataframe\">\n",
       "  <thead>\n",
       "    <tr style=\"text-align: right;\">\n",
       "      <th></th>\n",
       "      <th>tipo_de_uso</th>\n",
       "      <th>padrao_de_uso</th>\n",
       "      <th>classe_de_uso</th>\n",
       "    </tr>\n",
       "  </thead>\n",
       "  <tbody>\n",
       "    <tr>\n",
       "      <th>0</th>\n",
       "      <td>Residencial horizontal</td>\n",
       "      <td>A</td>\n",
       "      <td>Baixo</td>\n",
       "    </tr>\n",
       "    <tr>\n",
       "      <th>1</th>\n",
       "      <td>Residencial horizontal</td>\n",
       "      <td>A</td>\n",
       "      <td>Baixo</td>\n",
       "    </tr>\n",
       "    <tr>\n",
       "      <th>2</th>\n",
       "      <td>Outros Usos</td>\n",
       "      <td></td>\n",
       "      <td></td>\n",
       "    </tr>\n",
       "    <tr>\n",
       "      <th>3</th>\n",
       "      <td>Residencial vertical</td>\n",
       "      <td>E</td>\n",
       "      <td>Alto</td>\n",
       "    </tr>\n",
       "    <tr>\n",
       "      <th>4</th>\n",
       "      <td>Residencial horizontal</td>\n",
       "      <td>E</td>\n",
       "      <td>Alto</td>\n",
       "    </tr>\n",
       "    <tr>\n",
       "      <th>...</th>\n",
       "      <td>...</td>\n",
       "      <td>...</td>\n",
       "      <td>...</td>\n",
       "    </tr>\n",
       "    <tr>\n",
       "      <th>62</th>\n",
       "      <td>Outros Usos</td>\n",
       "      <td></td>\n",
       "      <td></td>\n",
       "    </tr>\n",
       "    <tr>\n",
       "      <th>63</th>\n",
       "      <td>Comercial vertical</td>\n",
       "      <td>D</td>\n",
       "      <td>Alto</td>\n",
       "    </tr>\n",
       "    <tr>\n",
       "      <th>64</th>\n",
       "      <td>Comercial vertical</td>\n",
       "      <td>A</td>\n",
       "      <td>Baixo</td>\n",
       "    </tr>\n",
       "    <tr>\n",
       "      <th>65</th>\n",
       "      <td>Comercial vertical</td>\n",
       "      <td>C</td>\n",
       "      <td>Médio</td>\n",
       "    </tr>\n",
       "    <tr>\n",
       "      <th>66</th>\n",
       "      <td>Residencial vertical</td>\n",
       "      <td>B</td>\n",
       "      <td>Baixo</td>\n",
       "    </tr>\n",
       "  </tbody>\n",
       "</table>\n",
       "<p>67 rows × 3 columns</p>\n",
       "</div>"
      ],
      "text/plain": [
       "               tipo_de_uso padrao_de_uso classe_de_uso\n",
       "0   Residencial horizontal             A         Baixo\n",
       "1   Residencial horizontal             A         Baixo\n",
       "2              Outros Usos                            \n",
       "3     Residencial vertical             E          Alto\n",
       "4   Residencial horizontal             E          Alto\n",
       "..                     ...           ...           ...\n",
       "62             Outros Usos                            \n",
       "63      Comercial vertical             D          Alto\n",
       "64      Comercial vertical             A         Baixo\n",
       "65      Comercial vertical             C         Médio\n",
       "66    Residencial vertical             B         Baixo\n",
       "\n",
       "[67 rows x 3 columns]"
      ]
     },
     "execution_count": 56,
     "metadata": {},
     "output_type": "execute_result"
    }
   ],
   "source": [
    "df_padroes_usos[['tipo_de_uso', 'padrao_de_uso', 'classe_de_uso']]"
   ]
  },
  {
   "cell_type": "code",
   "execution_count": 57,
   "metadata": {},
   "outputs": [],
   "source": [
    "df_padroes_usos['tipo_e_classe_de_uso'] = (df_padroes_usos['tipo_de_uso'] + ' ' + df_padroes_usos['classe_de_uso']).str.rstrip()"
   ]
  },
  {
   "cell_type": "code",
   "execution_count": 58,
   "metadata": {},
   "outputs": [],
   "source": [
    "# df_iptu = df_iptu[~df_iptu['TIPO DE PADRAO DA CONSTRUCAO'].isna()] "
   ]
  },
  {
   "cell_type": "code",
   "execution_count": 59,
   "metadata": {},
   "outputs": [
    {
     "name": "stderr",
     "output_type": "stream",
     "text": [
      "/home/fernando/miniconda3/envs/dash/lib/python3.9/site-packages/vaex/arrow/numpy_dispatch.py:72: RuntimeWarning: invalid value encountered in true_divide\n",
      "  result_data = op['op'](a_data, b_data)\n"
     ]
    },
    {
     "data": {
      "text/html": [
       "<table>\n",
       "<thead>\n",
       "<tr><th>#                                     </th><th>ANO DO EXERCICIO  </th><th>CODLOG DO IMOVEL  </th><th>ANO DA CONSTRUCAO CORRIGIDO  </th><th>QUANTIDADE DE PAVIMENTOS  </th><th>TESTADA PARA CALCULO  </th><th>TIPO DE USO DO IMOVEL    </th><th>TIPO DE PADRAO DA CONSTRUCAO   </th><th>FATOR DE OBSOLESCENCIA  </th><th>area_contruida_total  </th><th>NUMERO DO CONDOMINIO  </th><th>AREA CONSTRUIDA  </th><th>AREA OCUPADA  </th><th>AREA DO TERRENO  </th><th>sq    </th><th>sqlc        </th><th>fracao_ideal  </th><th>ca                </th><th>to                </th><th>valor_terreno  </th><th>valor_construcao  </th><th>qd_setor  </th><th>qd_fiscal  </th><th>ds_codigo  </th><th>ds_nome   </th><th>ds_cd_sub  </th><th>ds_subpref  </th><th>od_id  </th><th>od_nome      </th><th>COD_AED      </th><th>COD_AED_S  </th><th>sqod     </th><th>classificacao_abrangente  </th></tr>\n",
       "</thead>\n",
       "<tbody>\n",
       "<tr><td><i style='opacity: 0.6'>0</i>         </td><td>1995              </td><td>03812-1           </td><td>1924                         </td><td>1                         </td><td>13.0                  </td><td>loja                     </td><td>comercial horizontal - Padrão B</td><td>0.0                     </td><td>135                   </td><td>00-0                  </td><td>135              </td><td>0             </td><td>136              </td><td>001003</td><td>001003000100</td><td>1.0           </td><td>0.9926470588235294</td><td>0.0               </td><td>13600.0        </td><td>17415.0           </td><td>001       </td><td>003        </td><td>9          </td><td>BOM RETIRO</td><td>09         </td><td>SE          </td><td>7      </td><td>Luz          </td><td>3550308005004</td><td>4          </td><td>001003007</td><td>Comercial                 </td></tr>\n",
       "<tr><td><i style='opacity: 0.6'>1</i>         </td><td>1995              </td><td>03812-1           </td><td>1944                         </td><td>1                         </td><td>6.0                   </td><td>loja                     </td><td>comercial horizontal - Padrão A</td><td>0.0                     </td><td>67                    </td><td>00-0                  </td><td>67               </td><td>0             </td><td>90               </td><td>001003</td><td>001003000200</td><td>1.0           </td><td>0.7444444444444445</td><td>0.0               </td><td>9000.0         </td><td>6298.0            </td><td>001       </td><td>003        </td><td>9          </td><td>BOM RETIRO</td><td>09         </td><td>SE          </td><td>7      </td><td>Luz          </td><td>3550308005004</td><td>4          </td><td>001003007</td><td>Comercial                 </td></tr>\n",
       "<tr><td><i style='opacity: 0.6'>2</i>         </td><td>1995              </td><td>03812-1           </td><td>1944                         </td><td>1                         </td><td>8.0                   </td><td>loja                     </td><td>comercial horizontal - Padrão A</td><td>0.0                     </td><td>85                    </td><td>00-0                  </td><td>85               </td><td>0             </td><td>105              </td><td>001003</td><td>001003000300</td><td>1.0           </td><td>0.8095238095238095</td><td>0.0               </td><td>10500.0        </td><td>7990.0            </td><td>001       </td><td>003        </td><td>9          </td><td>BOM RETIRO</td><td>09         </td><td>SE          </td><td>7      </td><td>Luz          </td><td>3550308005004</td><td>4          </td><td>001003007</td><td>Comercial                 </td></tr>\n",
       "<tr><td><i style='opacity: 0.6'>3</i>         </td><td>1995              </td><td>03812-1           </td><td>1944                         </td><td>1                         </td><td>6.0                   </td><td>loja                     </td><td>comercial horizontal - Padrão B</td><td>0.0                     </td><td>103                   </td><td>00-0                  </td><td>103              </td><td>0             </td><td>108              </td><td>001003</td><td>001003000400</td><td>1.0           </td><td>0.9537037037037037</td><td>0.0               </td><td>10800.0        </td><td>13287.0           </td><td>001       </td><td>003        </td><td>9          </td><td>BOM RETIRO</td><td>09         </td><td>SE          </td><td>7      </td><td>Luz          </td><td>3550308005004</td><td>4          </td><td>001003007</td><td>Comercial                 </td></tr>\n",
       "<tr><td><i style='opacity: 0.6'>4</i>         </td><td>1995              </td><td>03812-1           </td><td>1944                         </td><td>1                         </td><td>7.0                   </td><td>loja                     </td><td>comercial horizontal - Padrão A</td><td>0.0                     </td><td>98                    </td><td>00-0                  </td><td>98               </td><td>0             </td><td>120              </td><td>001003</td><td>001003000500</td><td>1.0           </td><td>0.8166666666666667</td><td>0.0               </td><td>12000.0        </td><td>9212.0            </td><td>001       </td><td>003        </td><td>9          </td><td>BOM RETIRO</td><td>09         </td><td>SE          </td><td>7      </td><td>Luz          </td><td>3550308005004</td><td>4          </td><td>001003007</td><td>Comercial                 </td></tr>\n",
       "<tr><td>...                                   </td><td>...               </td><td>...               </td><td>...                          </td><td>...                       </td><td>...                   </td><td>...                      </td><td>...                            </td><td>...                     </td><td>...                   </td><td>...                   </td><td>...              </td><td>...           </td><td>...              </td><td>...   </td><td>...         </td><td>...           </td><td>...               </td><td>...               </td><td>...            </td><td>...               </td><td>...       </td><td>...        </td><td>...        </td><td>...       </td><td>...        </td><td>...         </td><td>...    </td><td>...          </td><td>...          </td><td>...        </td><td>...      </td><td>...                       </td></tr>\n",
       "<tr><td><i style='opacity: 0.6'>85,961,430</i></td><td>2023              </td><td>02235-7           </td><td>1978                         </td><td>5                         </td><td>0.0                   </td><td>Apartamento em condomínio</td><td>Residencial vertical - padrão B</td><td>0.2                     </td><td>25215                 </td><td>01-9                  </td><td>84               </td><td>5312          </td><td>18041            </td><td>310118</td><td>310118000001</td><td>0.0033        </td><td>1.4109276345294306</td><td>0.2944404412172274</td><td>144492.1731    </td><td>177660.0          </td><td>310       </td><td>118        </td><td>38         </td><td>JABAQUARA </td><td>15         </td><td>JABAQUARA   </td><td>275    </td><td>Cidade Vargas</td><td>3550308005093</td><td>93         </td><td>310118275</td><td>Residencial               </td></tr>\n",
       "<tr><td><i style='opacity: 0.6'>85,961,431</i></td><td>2023              </td><td>02235-7           </td><td>1978                         </td><td>5                         </td><td>0.0                   </td><td>Apartamento em condomínio</td><td>Residencial vertical - padrão B</td><td>0.2                     </td><td>25215                 </td><td>01-9                  </td><td>84               </td><td>5312          </td><td>18041            </td><td>310118</td><td>310118000001</td><td>0.0033        </td><td>1.4109276345294306</td><td>0.2944404412172274</td><td>144492.1731    </td><td>177660.0          </td><td>310       </td><td>118        </td><td>38         </td><td>JABAQUARA </td><td>15         </td><td>JABAQUARA   </td><td>275    </td><td>Cidade Vargas</td><td>3550308005093</td><td>93         </td><td>310118275</td><td>Residencial               </td></tr>\n",
       "<tr><td><i style='opacity: 0.6'>85,961,432</i></td><td>2023              </td><td>02235-7           </td><td>1978                         </td><td>5                         </td><td>0.0                   </td><td>Apartamento em condomínio</td><td>Residencial vertical - padrão B</td><td>0.2                     </td><td>25215                 </td><td>01-9                  </td><td>84               </td><td>5312          </td><td>18041            </td><td>310118</td><td>310118000001</td><td>0.0033        </td><td>1.4109276345294306</td><td>0.2944404412172274</td><td>144492.1731    </td><td>177660.0          </td><td>310       </td><td>118        </td><td>38         </td><td>JABAQUARA </td><td>15         </td><td>JABAQUARA   </td><td>275    </td><td>Cidade Vargas</td><td>3550308005093</td><td>93         </td><td>310118275</td><td>Residencial               </td></tr>\n",
       "<tr><td><i style='opacity: 0.6'>85,961,433</i></td><td>2023              </td><td>19137-0           </td><td>0                            </td><td>0                         </td><td>0.0                   </td><td>Terreno                  </td><td>TERRENO                        </td><td>0.0                     </td><td>0                     </td><td>00-0                  </td><td>0                </td><td>0             </td><td>18500            </td><td>310119</td><td>310119000100</td><td>1.0           </td><td>0.0               </td><td>0.0               </td><td>41939500.0     </td><td>0.0               </td><td>310       </td><td>119        </td><td>38         </td><td>JABAQUARA </td><td>15         </td><td>JABAQUARA   </td><td>275    </td><td>Cidade Vargas</td><td>3550308005093</td><td>93         </td><td>310119275</td><td>Outros                    </td></tr>\n",
       "<tr><td><i style='opacity: 0.6'>85,961,434</i></td><td>2023              </td><td>01041-3           </td><td>0                            </td><td>0                         </td><td>500.0                 </td><td>Terreno                  </td><td>TERRENO                        </td><td>0.0                     </td><td>0                     </td><td>00-0                  </td><td>0                </td><td>0             </td><td>18926            </td><td>310120</td><td>310120000100</td><td>1.0           </td><td>0.0               </td><td>0.0               </td><td>11790898.0     </td><td>0.0               </td><td>310       </td><td>120        </td><td>38         </td><td>JABAQUARA </td><td>15         </td><td>JABAQUARA   </td><td>275    </td><td>Cidade Vargas</td><td>3550308005093</td><td>93         </td><td>310120275</td><td>Outros                    </td></tr>\n",
       "</tbody>\n",
       "</table>"
      ],
      "text/plain": [
       "#           ANO DO EXERCICIO    CODLOG DO IMOVEL    ANO DA CONSTRUCAO CORRIGIDO    QUANTIDADE DE PAVIMENTOS    TESTADA PARA CALCULO    TIPO DE USO DO IMOVEL      TIPO DE PADRAO DA CONSTRUCAO     FATOR DE OBSOLESCENCIA    area_contruida_total    NUMERO DO CONDOMINIO    AREA CONSTRUIDA    AREA OCUPADA    AREA DO TERRENO    sq      sqlc          fracao_ideal    ca                  to                  valor_terreno    valor_construcao    qd_setor    qd_fiscal    ds_codigo    ds_nome     ds_cd_sub    ds_subpref    od_id    od_nome        COD_AED        COD_AED_S    sqod       classificacao_abrangente\n",
       "0           1995                03812-1             1924                           1                           13.0                    loja                       comercial horizontal - Padrão B  0.0                       135                     00-0                    135                0               136                001003  001003000100  1.0             0.9926470588235294  0.0                 13600.0          17415.0             001         003          9            BOM RETIRO  09           SE            7        Luz            3550308005004  4            001003007  Comercial\n",
       "1           1995                03812-1             1944                           1                           6.0                     loja                       comercial horizontal - Padrão A  0.0                       67                      00-0                    67                 0               90                 001003  001003000200  1.0             0.7444444444444445  0.0                 9000.0           6298.0              001         003          9            BOM RETIRO  09           SE            7        Luz            3550308005004  4            001003007  Comercial\n",
       "2           1995                03812-1             1944                           1                           8.0                     loja                       comercial horizontal - Padrão A  0.0                       85                      00-0                    85                 0               105                001003  001003000300  1.0             0.8095238095238095  0.0                 10500.0          7990.0              001         003          9            BOM RETIRO  09           SE            7        Luz            3550308005004  4            001003007  Comercial\n",
       "3           1995                03812-1             1944                           1                           6.0                     loja                       comercial horizontal - Padrão B  0.0                       103                     00-0                    103                0               108                001003  001003000400  1.0             0.9537037037037037  0.0                 10800.0          13287.0             001         003          9            BOM RETIRO  09           SE            7        Luz            3550308005004  4            001003007  Comercial\n",
       "4           1995                03812-1             1944                           1                           7.0                     loja                       comercial horizontal - Padrão A  0.0                       98                      00-0                    98                 0               120                001003  001003000500  1.0             0.8166666666666667  0.0                 12000.0          9212.0              001         003          9            BOM RETIRO  09           SE            7        Luz            3550308005004  4            001003007  Comercial\n",
       "...         ...                 ...                 ...                            ...                         ...                     ...                        ...                              ...                       ...                     ...                     ...                ...             ...                ...     ...           ...             ...                 ...                 ...              ...                 ...         ...          ...          ...         ...          ...           ...      ...            ...            ...          ...        ...\n",
       "85,961,430  2023                02235-7             1978                           5                           0.0                     Apartamento em condomínio  Residencial vertical - padrão B  0.2                       25215                   01-9                    84                 5312            18041              310118  310118000001  0.0033          1.4109276345294306  0.2944404412172274  144492.1731      177660.0            310         118          38           JABAQUARA   15           JABAQUARA     275      Cidade Vargas  3550308005093  93           310118275  Residencial\n",
       "85,961,431  2023                02235-7             1978                           5                           0.0                     Apartamento em condomínio  Residencial vertical - padrão B  0.2                       25215                   01-9                    84                 5312            18041              310118  310118000001  0.0033          1.4109276345294306  0.2944404412172274  144492.1731      177660.0            310         118          38           JABAQUARA   15           JABAQUARA     275      Cidade Vargas  3550308005093  93           310118275  Residencial\n",
       "85,961,432  2023                02235-7             1978                           5                           0.0                     Apartamento em condomínio  Residencial vertical - padrão B  0.2                       25215                   01-9                    84                 5312            18041              310118  310118000001  0.0033          1.4109276345294306  0.2944404412172274  144492.1731      177660.0            310         118          38           JABAQUARA   15           JABAQUARA     275      Cidade Vargas  3550308005093  93           310118275  Residencial\n",
       "85,961,433  2023                19137-0             0                              0                           0.0                     Terreno                    TERRENO                          0.0                       0                       00-0                    0                  0               18500              310119  310119000100  1.0             0.0                 0.0                 41939500.0       0.0                 310         119          38           JABAQUARA   15           JABAQUARA     275      Cidade Vargas  3550308005093  93           310119275  Outros\n",
       "85,961,434  2023                01041-3             0                              0                           500.0                   Terreno                    TERRENO                          0.0                       0                       00-0                    0                  0               18926              310120  310120000100  1.0             0.0                 0.0                 11790898.0       0.0                 310         120          38           JABAQUARA   15           JABAQUARA     275      Cidade Vargas  3550308005093  93           310120275  Outros"
      ]
     },
     "execution_count": 59,
     "metadata": {},
     "output_type": "execute_result"
    }
   ],
   "source": [
    "df_iptu.fillna(value='Terreno', column_names=['TIPO DE PADRAO DA CONSTRUCAO'], inplace=True)"
   ]
  },
  {
   "cell_type": "code",
   "execution_count": 60,
   "metadata": {},
   "outputs": [],
   "source": [
    "df_padroes_usos = vaex.from_pandas(df_padroes_usos.loc[df_padroes_usos['TIPO DE PADRAO DA CONSTRUCAO'] != '', ['TIPO DE PADRAO DA CONSTRUCAO',  'tipo_de_uso', 'padrao_de_uso', 'classe_de_uso', 'tipo_e_classe_de_uso']])\n",
    "df_iptu = df_iptu.join(df_padroes_usos, on='TIPO DE PADRAO DA CONSTRUCAO')"
   ]
  },
  {
   "cell_type": "code",
   "execution_count": 61,
   "metadata": {},
   "outputs": [
    {
     "name": "stderr",
     "output_type": "stream",
     "text": [
      "/home/fernando/miniconda3/envs/dash/lib/python3.9/site-packages/vaex/arrow/numpy_dispatch.py:72: RuntimeWarning: invalid value encountered in true_divide\n",
      "  result_data = op['op'](a_data, b_data)\n"
     ]
    },
    {
     "data": {
      "text/html": [
       "<table>\n",
       "<thead>\n",
       "<tr><th>#                                     </th><th>ANO DO EXERCICIO  </th><th>CODLOG DO IMOVEL  </th><th>ANO DA CONSTRUCAO CORRIGIDO  </th><th>QUANTIDADE DE PAVIMENTOS  </th><th>TESTADA PARA CALCULO  </th><th>TIPO DE USO DO IMOVEL    </th><th>TIPO DE PADRAO DA CONSTRUCAO   </th><th>FATOR DE OBSOLESCENCIA  </th><th>area_contruida_total  </th><th>NUMERO DO CONDOMINIO  </th><th>AREA CONSTRUIDA  </th><th>AREA OCUPADA  </th><th>AREA DO TERRENO  </th><th>sq    </th><th>sqlc        </th><th>fracao_ideal  </th><th>ca                </th><th>to                </th><th>valor_terreno  </th><th>valor_construcao  </th><th>qd_setor  </th><th>qd_fiscal  </th><th>ds_codigo  </th><th>ds_nome   </th><th>ds_cd_sub  </th><th>ds_subpref  </th><th>od_id  </th><th>od_nome      </th><th>COD_AED      </th><th>COD_AED_S  </th><th>sqod     </th><th>classificacao_abrangente  </th><th>tipo_de_uso         </th><th>padrao_de_uso  </th><th>classe_de_uso  </th><th>tipo_e_classe_de_uso      </th></tr>\n",
       "</thead>\n",
       "<tbody>\n",
       "<tr><td><i style='opacity: 0.6'>0</i>         </td><td>1995              </td><td>03812-1           </td><td>1924                         </td><td>1                         </td><td>13.0                  </td><td>loja                     </td><td>comercial horizontal - Padrão B</td><td>0.0                     </td><td>135                   </td><td>00-0                  </td><td>135              </td><td>0             </td><td>136              </td><td>001003</td><td>001003000100</td><td>1.0           </td><td>0.9926470588235294</td><td>0.0               </td><td>13600.0        </td><td>17415.0           </td><td>001       </td><td>003        </td><td>9          </td><td>BOM RETIRO</td><td>09         </td><td>SE          </td><td>7      </td><td>Luz          </td><td>3550308005004</td><td>4          </td><td>001003007</td><td>Comercial                 </td><td>Comercial horizontal</td><td>B              </td><td>Baixo          </td><td>Comercial horizontal Baixo</td></tr>\n",
       "<tr><td><i style='opacity: 0.6'>1</i>         </td><td>1995              </td><td>03812-1           </td><td>1944                         </td><td>1                         </td><td>6.0                   </td><td>loja                     </td><td>comercial horizontal - Padrão A</td><td>0.0                     </td><td>67                    </td><td>00-0                  </td><td>67               </td><td>0             </td><td>90               </td><td>001003</td><td>001003000200</td><td>1.0           </td><td>0.7444444444444445</td><td>0.0               </td><td>9000.0         </td><td>6298.0            </td><td>001       </td><td>003        </td><td>9          </td><td>BOM RETIRO</td><td>09         </td><td>SE          </td><td>7      </td><td>Luz          </td><td>3550308005004</td><td>4          </td><td>001003007</td><td>Comercial                 </td><td>Comercial horizontal</td><td>A              </td><td>Baixo          </td><td>Comercial horizontal Baixo</td></tr>\n",
       "<tr><td><i style='opacity: 0.6'>2</i>         </td><td>1995              </td><td>03812-1           </td><td>1944                         </td><td>1                         </td><td>8.0                   </td><td>loja                     </td><td>comercial horizontal - Padrão A</td><td>0.0                     </td><td>85                    </td><td>00-0                  </td><td>85               </td><td>0             </td><td>105              </td><td>001003</td><td>001003000300</td><td>1.0           </td><td>0.8095238095238095</td><td>0.0               </td><td>10500.0        </td><td>7990.0            </td><td>001       </td><td>003        </td><td>9          </td><td>BOM RETIRO</td><td>09         </td><td>SE          </td><td>7      </td><td>Luz          </td><td>3550308005004</td><td>4          </td><td>001003007</td><td>Comercial                 </td><td>Comercial horizontal</td><td>A              </td><td>Baixo          </td><td>Comercial horizontal Baixo</td></tr>\n",
       "<tr><td><i style='opacity: 0.6'>3</i>         </td><td>1995              </td><td>03812-1           </td><td>1944                         </td><td>1                         </td><td>6.0                   </td><td>loja                     </td><td>comercial horizontal - Padrão B</td><td>0.0                     </td><td>103                   </td><td>00-0                  </td><td>103              </td><td>0             </td><td>108              </td><td>001003</td><td>001003000400</td><td>1.0           </td><td>0.9537037037037037</td><td>0.0               </td><td>10800.0        </td><td>13287.0           </td><td>001       </td><td>003        </td><td>9          </td><td>BOM RETIRO</td><td>09         </td><td>SE          </td><td>7      </td><td>Luz          </td><td>3550308005004</td><td>4          </td><td>001003007</td><td>Comercial                 </td><td>Comercial horizontal</td><td>B              </td><td>Baixo          </td><td>Comercial horizontal Baixo</td></tr>\n",
       "<tr><td><i style='opacity: 0.6'>4</i>         </td><td>1995              </td><td>03812-1           </td><td>1944                         </td><td>1                         </td><td>7.0                   </td><td>loja                     </td><td>comercial horizontal - Padrão A</td><td>0.0                     </td><td>98                    </td><td>00-0                  </td><td>98               </td><td>0             </td><td>120              </td><td>001003</td><td>001003000500</td><td>1.0           </td><td>0.8166666666666667</td><td>0.0               </td><td>12000.0        </td><td>9212.0            </td><td>001       </td><td>003        </td><td>9          </td><td>BOM RETIRO</td><td>09         </td><td>SE          </td><td>7      </td><td>Luz          </td><td>3550308005004</td><td>4          </td><td>001003007</td><td>Comercial                 </td><td>Comercial horizontal</td><td>A              </td><td>Baixo          </td><td>Comercial horizontal Baixo</td></tr>\n",
       "<tr><td>...                                   </td><td>...               </td><td>...               </td><td>...                          </td><td>...                       </td><td>...                   </td><td>...                      </td><td>...                            </td><td>...                     </td><td>...                   </td><td>...                   </td><td>...              </td><td>...           </td><td>...              </td><td>...   </td><td>...         </td><td>...           </td><td>...               </td><td>...               </td><td>...            </td><td>...               </td><td>...       </td><td>...        </td><td>...        </td><td>...       </td><td>...        </td><td>...         </td><td>...    </td><td>...          </td><td>...          </td><td>...        </td><td>...      </td><td>...                       </td><td>...                 </td><td>...            </td><td>...            </td><td>...                       </td></tr>\n",
       "<tr><td><i style='opacity: 0.6'>85,961,430</i></td><td>2023              </td><td>02235-7           </td><td>1978                         </td><td>5                         </td><td>0.0                   </td><td>Apartamento em condomínio</td><td>Residencial vertical - padrão B</td><td>0.2                     </td><td>25215                 </td><td>01-9                  </td><td>84               </td><td>5312          </td><td>18041            </td><td>310118</td><td>310118000001</td><td>0.0033        </td><td>1.4109276345294306</td><td>0.2944404412172274</td><td>144492.1731    </td><td>177660.0          </td><td>310       </td><td>118        </td><td>38         </td><td>JABAQUARA </td><td>15         </td><td>JABAQUARA   </td><td>275    </td><td>Cidade Vargas</td><td>3550308005093</td><td>93         </td><td>310118275</td><td>Residencial               </td><td>Residencial vertical</td><td>B              </td><td>Baixo          </td><td>Residencial vertical Baixo</td></tr>\n",
       "<tr><td><i style='opacity: 0.6'>85,961,431</i></td><td>2023              </td><td>02235-7           </td><td>1978                         </td><td>5                         </td><td>0.0                   </td><td>Apartamento em condomínio</td><td>Residencial vertical - padrão B</td><td>0.2                     </td><td>25215                 </td><td>01-9                  </td><td>84               </td><td>5312          </td><td>18041            </td><td>310118</td><td>310118000001</td><td>0.0033        </td><td>1.4109276345294306</td><td>0.2944404412172274</td><td>144492.1731    </td><td>177660.0          </td><td>310       </td><td>118        </td><td>38         </td><td>JABAQUARA </td><td>15         </td><td>JABAQUARA   </td><td>275    </td><td>Cidade Vargas</td><td>3550308005093</td><td>93         </td><td>310118275</td><td>Residencial               </td><td>Residencial vertical</td><td>B              </td><td>Baixo          </td><td>Residencial vertical Baixo</td></tr>\n",
       "<tr><td><i style='opacity: 0.6'>85,961,432</i></td><td>2023              </td><td>02235-7           </td><td>1978                         </td><td>5                         </td><td>0.0                   </td><td>Apartamento em condomínio</td><td>Residencial vertical - padrão B</td><td>0.2                     </td><td>25215                 </td><td>01-9                  </td><td>84               </td><td>5312          </td><td>18041            </td><td>310118</td><td>310118000001</td><td>0.0033        </td><td>1.4109276345294306</td><td>0.2944404412172274</td><td>144492.1731    </td><td>177660.0          </td><td>310       </td><td>118        </td><td>38         </td><td>JABAQUARA </td><td>15         </td><td>JABAQUARA   </td><td>275    </td><td>Cidade Vargas</td><td>3550308005093</td><td>93         </td><td>310118275</td><td>Residencial               </td><td>Residencial vertical</td><td>B              </td><td>Baixo          </td><td>Residencial vertical Baixo</td></tr>\n",
       "<tr><td><i style='opacity: 0.6'>85,961,433</i></td><td>2023              </td><td>19137-0           </td><td>0                            </td><td>0                         </td><td>0.0                   </td><td>Terreno                  </td><td>TERRENO                        </td><td>0.0                     </td><td>0                     </td><td>00-0                  </td><td>0                </td><td>0             </td><td>18500            </td><td>310119</td><td>310119000100</td><td>1.0           </td><td>0.0               </td><td>0.0               </td><td>41939500.0     </td><td>0.0               </td><td>310       </td><td>119        </td><td>38         </td><td>JABAQUARA </td><td>15         </td><td>JABAQUARA   </td><td>275    </td><td>Cidade Vargas</td><td>3550308005093</td><td>93         </td><td>310119275</td><td>Outros                    </td><td>Terreno             </td><td>               </td><td>               </td><td>Terreno                   </td></tr>\n",
       "<tr><td><i style='opacity: 0.6'>85,961,434</i></td><td>2023              </td><td>01041-3           </td><td>0                            </td><td>0                         </td><td>500.0                 </td><td>Terreno                  </td><td>TERRENO                        </td><td>0.0                     </td><td>0                     </td><td>00-0                  </td><td>0                </td><td>0             </td><td>18926            </td><td>310120</td><td>310120000100</td><td>1.0           </td><td>0.0               </td><td>0.0               </td><td>11790898.0     </td><td>0.0               </td><td>310       </td><td>120        </td><td>38         </td><td>JABAQUARA </td><td>15         </td><td>JABAQUARA   </td><td>275    </td><td>Cidade Vargas</td><td>3550308005093</td><td>93         </td><td>310120275</td><td>Outros                    </td><td>Terreno             </td><td>               </td><td>               </td><td>Terreno                   </td></tr>\n",
       "</tbody>\n",
       "</table>"
      ],
      "text/plain": [
       "#           ANO DO EXERCICIO    CODLOG DO IMOVEL    ANO DA CONSTRUCAO CORRIGIDO    QUANTIDADE DE PAVIMENTOS    TESTADA PARA CALCULO    TIPO DE USO DO IMOVEL      TIPO DE PADRAO DA CONSTRUCAO     FATOR DE OBSOLESCENCIA    area_contruida_total    NUMERO DO CONDOMINIO    AREA CONSTRUIDA    AREA OCUPADA    AREA DO TERRENO    sq      sqlc          fracao_ideal    ca                  to                  valor_terreno    valor_construcao    qd_setor    qd_fiscal    ds_codigo    ds_nome     ds_cd_sub    ds_subpref    od_id    od_nome        COD_AED        COD_AED_S    sqod       classificacao_abrangente    tipo_de_uso           padrao_de_uso    classe_de_uso    tipo_e_classe_de_uso\n",
       "0           1995                03812-1             1924                           1                           13.0                    loja                       comercial horizontal - Padrão B  0.0                       135                     00-0                    135                0               136                001003  001003000100  1.0             0.9926470588235294  0.0                 13600.0          17415.0             001         003          9            BOM RETIRO  09           SE            7        Luz            3550308005004  4            001003007  Comercial                   Comercial horizontal  B                Baixo            Comercial horizontal Baixo\n",
       "1           1995                03812-1             1944                           1                           6.0                     loja                       comercial horizontal - Padrão A  0.0                       67                      00-0                    67                 0               90                 001003  001003000200  1.0             0.7444444444444445  0.0                 9000.0           6298.0              001         003          9            BOM RETIRO  09           SE            7        Luz            3550308005004  4            001003007  Comercial                   Comercial horizontal  A                Baixo            Comercial horizontal Baixo\n",
       "2           1995                03812-1             1944                           1                           8.0                     loja                       comercial horizontal - Padrão A  0.0                       85                      00-0                    85                 0               105                001003  001003000300  1.0             0.8095238095238095  0.0                 10500.0          7990.0              001         003          9            BOM RETIRO  09           SE            7        Luz            3550308005004  4            001003007  Comercial                   Comercial horizontal  A                Baixo            Comercial horizontal Baixo\n",
       "3           1995                03812-1             1944                           1                           6.0                     loja                       comercial horizontal - Padrão B  0.0                       103                     00-0                    103                0               108                001003  001003000400  1.0             0.9537037037037037  0.0                 10800.0          13287.0             001         003          9            BOM RETIRO  09           SE            7        Luz            3550308005004  4            001003007  Comercial                   Comercial horizontal  B                Baixo            Comercial horizontal Baixo\n",
       "4           1995                03812-1             1944                           1                           7.0                     loja                       comercial horizontal - Padrão A  0.0                       98                      00-0                    98                 0               120                001003  001003000500  1.0             0.8166666666666667  0.0                 12000.0          9212.0              001         003          9            BOM RETIRO  09           SE            7        Luz            3550308005004  4            001003007  Comercial                   Comercial horizontal  A                Baixo            Comercial horizontal Baixo\n",
       "...         ...                 ...                 ...                            ...                         ...                     ...                        ...                              ...                       ...                     ...                     ...                ...             ...                ...     ...           ...             ...                 ...                 ...              ...                 ...         ...          ...          ...         ...          ...           ...      ...            ...            ...          ...        ...                         ...                   ...              ...              ...\n",
       "85,961,430  2023                02235-7             1978                           5                           0.0                     Apartamento em condomínio  Residencial vertical - padrão B  0.2                       25215                   01-9                    84                 5312            18041              310118  310118000001  0.0033          1.4109276345294306  0.2944404412172274  144492.1731      177660.0            310         118          38           JABAQUARA   15           JABAQUARA     275      Cidade Vargas  3550308005093  93           310118275  Residencial                 Residencial vertical  B                Baixo            Residencial vertical Baixo\n",
       "85,961,431  2023                02235-7             1978                           5                           0.0                     Apartamento em condomínio  Residencial vertical - padrão B  0.2                       25215                   01-9                    84                 5312            18041              310118  310118000001  0.0033          1.4109276345294306  0.2944404412172274  144492.1731      177660.0            310         118          38           JABAQUARA   15           JABAQUARA     275      Cidade Vargas  3550308005093  93           310118275  Residencial                 Residencial vertical  B                Baixo            Residencial vertical Baixo\n",
       "85,961,432  2023                02235-7             1978                           5                           0.0                     Apartamento em condomínio  Residencial vertical - padrão B  0.2                       25215                   01-9                    84                 5312            18041              310118  310118000001  0.0033          1.4109276345294306  0.2944404412172274  144492.1731      177660.0            310         118          38           JABAQUARA   15           JABAQUARA     275      Cidade Vargas  3550308005093  93           310118275  Residencial                 Residencial vertical  B                Baixo            Residencial vertical Baixo\n",
       "85,961,433  2023                19137-0             0                              0                           0.0                     Terreno                    TERRENO                          0.0                       0                       00-0                    0                  0               18500              310119  310119000100  1.0             0.0                 0.0                 41939500.0       0.0                 310         119          38           JABAQUARA   15           JABAQUARA     275      Cidade Vargas  3550308005093  93           310119275  Outros                      Terreno                                                 Terreno\n",
       "85,961,434  2023                01041-3             0                              0                           500.0                   Terreno                    TERRENO                          0.0                       0                       00-0                    0                  0               18926              310120  310120000100  1.0             0.0                 0.0                 11790898.0       0.0                 310         120          38           JABAQUARA   15           JABAQUARA     275      Cidade Vargas  3550308005093  93           310120275  Outros                      Terreno                                                 Terreno"
      ]
     },
     "execution_count": 61,
     "metadata": {},
     "output_type": "execute_result"
    }
   ],
   "source": [
    "df_iptu.fillna(value='', column_names=['tipo_de_uso', 'padrao_de_uso', 'classe_de_uso', 'tipo_e_classe_de_uso'], inplace=True)"
   ]
  },
  {
   "cell_type": "code",
   "execution_count": 62,
   "metadata": {},
   "outputs": [
    {
     "data": {
      "text/html": [
       "<table>\n",
       "<thead>\n",
       "<tr><th>#                            </th><th style=\"text-align: right;\">  ANO DO EXERCICIO</th><th>CODLOG DO IMOVEL  </th><th style=\"text-align: right;\">  ANO DA CONSTRUCAO CORRIGIDO</th><th style=\"text-align: right;\">  QUANTIDADE DE PAVIMENTOS</th><th style=\"text-align: right;\">  TESTADA PARA CALCULO</th><th>TIPO DE USO DO IMOVEL  </th><th>TIPO DE PADRAO DA CONSTRUCAO   </th><th style=\"text-align: right;\">  FATOR DE OBSOLESCENCIA</th><th style=\"text-align: right;\">  area_contruida_total</th><th>NUMERO DO CONDOMINIO  </th><th style=\"text-align: right;\">  AREA CONSTRUIDA</th><th style=\"text-align: right;\">  AREA OCUPADA</th><th style=\"text-align: right;\">  AREA DO TERRENO</th><th style=\"text-align: right;\">    sq</th><th style=\"text-align: right;\">        sqlc</th><th style=\"text-align: right;\">  fracao_ideal</th><th style=\"text-align: right;\">      ca</th><th style=\"text-align: right;\">  to</th><th style=\"text-align: right;\">  valor_terreno</th><th style=\"text-align: right;\">  valor_construcao</th><th style=\"text-align: right;\">  qd_setor</th><th style=\"text-align: right;\">  qd_fiscal</th><th style=\"text-align: right;\">  ds_codigo</th><th>ds_nome   </th><th style=\"text-align: right;\">  ds_cd_sub</th><th>ds_subpref  </th><th style=\"text-align: right;\">  od_id</th><th>od_nome  </th><th style=\"text-align: right;\">      COD_AED</th><th style=\"text-align: right;\">  COD_AED_S</th><th style=\"text-align: right;\">     sqod</th><th>classificacao_abrangente  </th><th>tipo_de_uso         </th><th>padrao_de_uso  </th><th>classe_de_uso  </th><th>tipo_e_classe_de_uso      </th></tr>\n",
       "</thead>\n",
       "<tbody>\n",
       "<tr><td><i style='opacity: 0.6'>0</i></td><td style=\"text-align: right;\">              1995</td><td>03812-1           </td><td style=\"text-align: right;\">                         1924</td><td style=\"text-align: right;\">                         1</td><td style=\"text-align: right;\">                    13</td><td>loja                   </td><td>comercial horizontal - Padrão B</td><td style=\"text-align: right;\">                       0</td><td style=\"text-align: right;\">                   135</td><td>00-0                  </td><td style=\"text-align: right;\">              135</td><td style=\"text-align: right;\">             0</td><td style=\"text-align: right;\">              136</td><td style=\"text-align: right;\">001003</td><td style=\"text-align: right;\">001003000100</td><td style=\"text-align: right;\">             1</td><td style=\"text-align: right;\">0.992647</td><td style=\"text-align: right;\">   0</td><td style=\"text-align: right;\">          13600</td><td style=\"text-align: right;\">             17415</td><td style=\"text-align: right;\">       001</td><td style=\"text-align: right;\">        003</td><td style=\"text-align: right;\">          9</td><td>BOM RETIRO</td><td style=\"text-align: right;\">         09</td><td>SE          </td><td style=\"text-align: right;\">      7</td><td>Luz      </td><td style=\"text-align: right;\">3550308005004</td><td style=\"text-align: right;\">          4</td><td style=\"text-align: right;\">001003007</td><td>Comercial                 </td><td>Comercial horizontal</td><td>B              </td><td>Baixo          </td><td>Comercial horizontal Baixo</td></tr>\n",
       "<tr><td><i style='opacity: 0.6'>1</i></td><td style=\"text-align: right;\">              1995</td><td>03812-1           </td><td style=\"text-align: right;\">                         1944</td><td style=\"text-align: right;\">                         1</td><td style=\"text-align: right;\">                     6</td><td>loja                   </td><td>comercial horizontal - Padrão A</td><td style=\"text-align: right;\">                       0</td><td style=\"text-align: right;\">                    67</td><td>00-0                  </td><td style=\"text-align: right;\">               67</td><td style=\"text-align: right;\">             0</td><td style=\"text-align: right;\">               90</td><td style=\"text-align: right;\">001003</td><td style=\"text-align: right;\">001003000200</td><td style=\"text-align: right;\">             1</td><td style=\"text-align: right;\">0.744444</td><td style=\"text-align: right;\">   0</td><td style=\"text-align: right;\">           9000</td><td style=\"text-align: right;\">              6298</td><td style=\"text-align: right;\">       001</td><td style=\"text-align: right;\">        003</td><td style=\"text-align: right;\">          9</td><td>BOM RETIRO</td><td style=\"text-align: right;\">         09</td><td>SE          </td><td style=\"text-align: right;\">      7</td><td>Luz      </td><td style=\"text-align: right;\">3550308005004</td><td style=\"text-align: right;\">          4</td><td style=\"text-align: right;\">001003007</td><td>Comercial                 </td><td>Comercial horizontal</td><td>A              </td><td>Baixo          </td><td>Comercial horizontal Baixo</td></tr>\n",
       "<tr><td><i style='opacity: 0.6'>2</i></td><td style=\"text-align: right;\">              1995</td><td>03812-1           </td><td style=\"text-align: right;\">                         1944</td><td style=\"text-align: right;\">                         1</td><td style=\"text-align: right;\">                     8</td><td>loja                   </td><td>comercial horizontal - Padrão A</td><td style=\"text-align: right;\">                       0</td><td style=\"text-align: right;\">                    85</td><td>00-0                  </td><td style=\"text-align: right;\">               85</td><td style=\"text-align: right;\">             0</td><td style=\"text-align: right;\">              105</td><td style=\"text-align: right;\">001003</td><td style=\"text-align: right;\">001003000300</td><td style=\"text-align: right;\">             1</td><td style=\"text-align: right;\">0.809524</td><td style=\"text-align: right;\">   0</td><td style=\"text-align: right;\">          10500</td><td style=\"text-align: right;\">              7990</td><td style=\"text-align: right;\">       001</td><td style=\"text-align: right;\">        003</td><td style=\"text-align: right;\">          9</td><td>BOM RETIRO</td><td style=\"text-align: right;\">         09</td><td>SE          </td><td style=\"text-align: right;\">      7</td><td>Luz      </td><td style=\"text-align: right;\">3550308005004</td><td style=\"text-align: right;\">          4</td><td style=\"text-align: right;\">001003007</td><td>Comercial                 </td><td>Comercial horizontal</td><td>A              </td><td>Baixo          </td><td>Comercial horizontal Baixo</td></tr>\n",
       "</tbody>\n",
       "</table>"
      ],
      "text/plain": [
       "  #    ANO DO EXERCICIO  CODLOG DO IMOVEL      ANO DA CONSTRUCAO CORRIGIDO    QUANTIDADE DE PAVIMENTOS    TESTADA PARA CALCULO  TIPO DE USO DO IMOVEL    TIPO DE PADRAO DA CONSTRUCAO       FATOR DE OBSOLESCENCIA    area_contruida_total  NUMERO DO CONDOMINIO      AREA CONSTRUIDA    AREA OCUPADA    AREA DO TERRENO      sq          sqlc    fracao_ideal        ca    to    valor_terreno    valor_construcao    qd_setor    qd_fiscal    ds_codigo  ds_nome       ds_cd_sub  ds_subpref      od_id  od_nome          COD_AED    COD_AED_S       sqod  classificacao_abrangente    tipo_de_uso           padrao_de_uso    classe_de_uso    tipo_e_classe_de_uso\n",
       "  0                1995  03812-1                                      1924                           1                      13  loja                     comercial horizontal - Padrão B                         0                     135  00-0                                  135               0                136  001003  001003000100               1  0.992647     0            13600               17415         001          003            9  BOM RETIRO           09  SE                  7  Luz        3550308005004            4  001003007  Comercial                   Comercial horizontal  B                Baixo            Comercial horizontal Baixo\n",
       "  1                1995  03812-1                                      1944                           1                       6  loja                     comercial horizontal - Padrão A                         0                      67  00-0                                   67               0                 90  001003  001003000200               1  0.744444     0             9000                6298         001          003            9  BOM RETIRO           09  SE                  7  Luz        3550308005004            4  001003007  Comercial                   Comercial horizontal  A                Baixo            Comercial horizontal Baixo\n",
       "  2                1995  03812-1                                      1944                           1                       8  loja                     comercial horizontal - Padrão A                         0                      85  00-0                                   85               0                105  001003  001003000300               1  0.809524     0            10500                7990         001          003            9  BOM RETIRO           09  SE                  7  Luz        3550308005004            4  001003007  Comercial                   Comercial horizontal  A                Baixo            Comercial horizontal Baixo"
      ]
     },
     "execution_count": 62,
     "metadata": {},
     "output_type": "execute_result"
    }
   ],
   "source": [
    "df_iptu.head(3)"
   ]
  },
  {
   "cell_type": "code",
   "execution_count": 63,
   "metadata": {},
   "outputs": [
    {
     "data": {
      "text/html": [
       "<table>\n",
       "<thead>\n",
       "<tr><th>#                                    </th><th>ANO DO EXERCICIO  </th><th>CODLOG DO IMOVEL  </th><th>ANO DA CONSTRUCAO CORRIGIDO  </th><th>QUANTIDADE DE PAVIMENTOS  </th><th>TESTADA PARA CALCULO  </th><th>TIPO DE USO DO IMOVEL                              </th><th>TIPO DE PADRAO DA CONSTRUCAO  </th><th>FATOR DE OBSOLESCENCIA  </th><th>area_contruida_total  </th><th>NUMERO DO CONDOMINIO  </th><th>AREA CONSTRUIDA  </th><th>AREA OCUPADA  </th><th>AREA DO TERRENO  </th><th>sq    </th><th>sqlc        </th><th>fracao_ideal  </th><th>ca                </th><th>to                 </th><th>valor_terreno  </th><th>valor_construcao  </th><th>qd_setor  </th><th>qd_fiscal  </th><th>ds_codigo  </th><th>ds_nome   </th><th>ds_cd_sub  </th><th>ds_subpref  </th><th>od_id  </th><th>od_nome      </th><th>COD_AED      </th><th>COD_AED_S  </th><th>sqod     </th><th>classificacao_abrangente  </th><th>tipo_de_uso       </th><th>padrao_de_uso  </th><th>classe_de_uso  </th><th>tipo_e_classe_de_uso    </th></tr>\n",
       "</thead>\n",
       "<tbody>\n",
       "<tr><td><i style='opacity: 0.6'>0</i>        </td><td>1995              </td><td>03812-1           </td><td>1970                         </td><td>4                         </td><td>11.0                  </td><td>loja e residência (predominância comercial)        </td><td>comercial vertical - Padrão B </td><td>1.0                     </td><td>802                   </td><td>00-0                  </td><td>802              </td><td>257           </td><td>257              </td><td>001003</td><td>001003000700</td><td>1.0           </td><td>3.1206225680933852</td><td>1.0                </td><td>25700.0        </td><td>162004.0          </td><td>001       </td><td>003        </td><td>9          </td><td>BOM RETIRO</td><td>09         </td><td>SE          </td><td>7      </td><td>Luz          </td><td>3550308005004</td><td>4          </td><td>001003007</td><td>Comercial                 </td><td>Comercial vertical</td><td>B              </td><td>Baixo          </td><td>Comercial vertical Baixo</td></tr>\n",
       "<tr><td><i style='opacity: 0.6'>1</i>        </td><td>1995              </td><td>03812-1           </td><td>1981                         </td><td>2                         </td><td>11.0                  </td><td>loja                                               </td><td>comercial vertical - Padrão C </td><td>1.0                     </td><td>660                   </td><td>00-0                  </td><td>660              </td><td>297           </td><td>303              </td><td>001003</td><td>001003001000</td><td>1.0           </td><td>2.1782178217821784</td><td>0.9801980198019802 </td><td>30300.0        </td><td>197340.0          </td><td>001       </td><td>003        </td><td>9          </td><td>BOM RETIRO</td><td>09         </td><td>SE          </td><td>7      </td><td>Luz          </td><td>3550308005004</td><td>4          </td><td>001003007</td><td>Comercial                 </td><td>Comercial vertical</td><td>C              </td><td>Médio          </td><td>Comercial vertical Médio</td></tr>\n",
       "<tr><td><i style='opacity: 0.6'>2</i>        </td><td>1995              </td><td>03812-1           </td><td>1924                         </td><td>4                         </td><td>10.0                  </td><td>&#x27;outras edificações do tipo (uso comércio), com ...</td><td>comercial vertical - Padrão B </td><td>0.0                     </td><td>505                   </td><td>00-0                  </td><td>505              </td><td>206           </td><td>285              </td><td>001003</td><td>001003001100</td><td>1.0           </td><td>1.7719298245614035</td><td>0.7228070175438597 </td><td>28500.0        </td><td>102010.0          </td><td>001       </td><td>003        </td><td>9          </td><td>BOM RETIRO</td><td>09         </td><td>SE          </td><td>7      </td><td>Luz          </td><td>3550308005004</td><td>4          </td><td>001003007</td><td>Comercial                 </td><td>Comercial vertical</td><td>B              </td><td>Baixo          </td><td>Comercial vertical Baixo</td></tr>\n",
       "<tr><td><i style='opacity: 0.6'>3</i>        </td><td>1995              </td><td>06156-5           </td><td>1970                         </td><td>4                         </td><td>12.0                  </td><td>loja e residência (predominância comercial)        </td><td>comercial vertical - Padrão B </td><td>1.0                     </td><td>830                   </td><td>00-0                  </td><td>830              </td><td>270           </td><td>298              </td><td>001003</td><td>001003001400</td><td>1.0           </td><td>2.785234899328859 </td><td>0.9060402684563759 </td><td>11324.0        </td><td>167660.0          </td><td>001       </td><td>003        </td><td>9          </td><td>BOM RETIRO</td><td>09         </td><td>SE          </td><td>7      </td><td>Luz          </td><td>3550308005004</td><td>4          </td><td>001003007</td><td>Comercial                 </td><td>Comercial vertical</td><td>B              </td><td>Baixo          </td><td>Comercial vertical Baixo</td></tr>\n",
       "<tr><td><i style='opacity: 0.6'>4</i>        </td><td>1995              </td><td>06156-5           </td><td>1983                         </td><td>6                         </td><td>6.0                   </td><td>loja e residência (predominância comercial)        </td><td>comercial vertical - Padrão B </td><td>1.0                     </td><td>740                   </td><td>00-0                  </td><td>740              </td><td>156           </td><td>162              </td><td>001003</td><td>001003001500</td><td>1.0           </td><td>4.567901234567901 </td><td>0.9629629629629629 </td><td>6156.0         </td><td>149480.0          </td><td>001       </td><td>003        </td><td>9          </td><td>BOM RETIRO</td><td>09         </td><td>SE          </td><td>7      </td><td>Luz          </td><td>3550308005004</td><td>4          </td><td>001003007</td><td>Comercial                 </td><td>Comercial vertical</td><td>B              </td><td>Baixo          </td><td>Comercial vertical Baixo</td></tr>\n",
       "<tr><td>...                                  </td><td>...               </td><td>...               </td><td>...                          </td><td>...                       </td><td>...                   </td><td>...                                                </td><td>...                           </td><td>...                     </td><td>...                   </td><td>...                   </td><td>...              </td><td>...           </td><td>...              </td><td>...   </td><td>...         </td><td>...           </td><td>...               </td><td>...                </td><td>...            </td><td>...               </td><td>...       </td><td>...        </td><td>...        </td><td>...       </td><td>...        </td><td>...         </td><td>...    </td><td>...          </td><td>...          </td><td>...        </td><td>...      </td><td>...                       </td><td>...               </td><td>...            </td><td>...            </td><td>...                     </td></tr>\n",
       "<tr><td><i style='opacity: 0.6'>4,851,705</i></td><td>2023              </td><td>06429-7           </td><td>2016                         </td><td>3                         </td><td>20.0                  </td><td>Escola                                             </td><td>Comercial vertical - padrão C </td><td>0.95                    </td><td>503                   </td><td>00-0                  </td><td>503              </td><td>239           </td><td>508              </td><td>310096</td><td>310096001700</td><td>1.0           </td><td>0.9901574803149606</td><td>0.4704724409448819 </td><td>939292.0       </td><td>1332950.0         </td><td>310       </td><td>096        </td><td>38         </td><td>JABAQUARA </td><td>15         </td><td>JABAQUARA   </td><td>275    </td><td>Cidade Vargas</td><td>3550308005093</td><td>93         </td><td>310096275</td><td>Serviços                  </td><td>Comercial vertical</td><td>C              </td><td>Médio          </td><td>Comercial vertical Médio</td></tr>\n",
       "<tr><td><i style='opacity: 0.6'>4,851,706</i></td><td>2023              </td><td>05197-7           </td><td>2002                         </td><td>3                         </td><td>13.3                  </td><td>&#x27;Outras edificações de uso comercial, com utiliz...</td><td>Comercial vertical - padrão B </td><td>0.81                    </td><td>1161                  </td><td>00-0                  </td><td>1161             </td><td>394           </td><td>532              </td><td>310099</td><td>310099000400</td><td>1.0           </td><td>2.1823308270676693</td><td>0.7406015037593985 </td><td>972496.0       </td><td>2836323.0         </td><td>310       </td><td>099        </td><td>38         </td><td>JABAQUARA </td><td>15         </td><td>JABAQUARA   </td><td>275    </td><td>Cidade Vargas</td><td>3550308005093</td><td>93         </td><td>310099275</td><td>Comercial                 </td><td>Comercial vertical</td><td>B              </td><td>Baixo          </td><td>Comercial vertical Baixo</td></tr>\n",
       "<tr><td><i style='opacity: 0.6'>4,851,707</i></td><td>2023              </td><td>01418-4           </td><td>1997                         </td><td>3                         </td><td>42.0                  </td><td>Escola                                             </td><td>Comercial vertical - padrão B </td><td>0.75                    </td><td>2493                  </td><td>00-0                  </td><td>2493             </td><td>1670          </td><td>2212             </td><td>310102</td><td>310102008800</td><td>1.0           </td><td>1.1270343580470163</td><td>0.7549728752260397 </td><td>3968328.0      </td><td>6090399.0         </td><td>310       </td><td>102        </td><td>38         </td><td>JABAQUARA </td><td>15         </td><td>JABAQUARA   </td><td>275    </td><td>Cidade Vargas</td><td>3550308005093</td><td>93         </td><td>310102275</td><td>Serviços                  </td><td>Comercial vertical</td><td>B              </td><td>Baixo          </td><td>Comercial vertical Baixo</td></tr>\n",
       "<tr><td><i style='opacity: 0.6'>4,851,708</i></td><td>2023              </td><td>02235-7           </td><td>1974                         </td><td>3                         </td><td>20.0                  </td><td>&#x27;Prédio de escritório ou consultório, não em con...</td><td>Comercial vertical - padrão B </td><td>0.41                    </td><td>748                   </td><td>00-0                  </td><td>748              </td><td>348           </td><td>400              </td><td>310104</td><td>310104002800</td><td>1.0           </td><td>1.87              </td><td>0.87               </td><td>1107200.0      </td><td>1827364.0         </td><td>310       </td><td>104        </td><td>38         </td><td>JABAQUARA </td><td>15         </td><td>JABAQUARA   </td><td>275    </td><td>Cidade Vargas</td><td>3550308005093</td><td>93         </td><td>310104275</td><td>Serviços                  </td><td>Comercial vertical</td><td>B              </td><td>Baixo          </td><td>Comercial vertical Baixo</td></tr>\n",
       "<tr><td><i style='opacity: 0.6'>4,851,709</i></td><td>2023              </td><td>01041-3           </td><td>1995                         </td><td>3                         </td><td>60.0                  </td><td>Loja                                               </td><td>Comercial vertical - padrão C </td><td>0.73                    </td><td>3225                  </td><td>00-0                  </td><td>3225             </td><td>1121          </td><td>2383             </td><td>310109</td><td>310109054000</td><td>1.0           </td><td>1.3533361309274023</td><td>0.47041544271926145</td><td>4472891.0      </td><td>8546250.0         </td><td>310       </td><td>109        </td><td>38         </td><td>JABAQUARA </td><td>15         </td><td>JABAQUARA   </td><td>275    </td><td>Cidade Vargas</td><td>3550308005093</td><td>93         </td><td>310109275</td><td>Comercial                 </td><td>Comercial vertical</td><td>C              </td><td>Médio          </td><td>Comercial vertical Médio</td></tr>\n",
       "</tbody>\n",
       "</table>"
      ],
      "text/plain": [
       "#          ANO DO EXERCICIO    CODLOG DO IMOVEL    ANO DA CONSTRUCAO CORRIGIDO    QUANTIDADE DE PAVIMENTOS    TESTADA PARA CALCULO    TIPO DE USO DO IMOVEL                                TIPO DE PADRAO DA CONSTRUCAO    FATOR DE OBSOLESCENCIA    area_contruida_total    NUMERO DO CONDOMINIO    AREA CONSTRUIDA    AREA OCUPADA    AREA DO TERRENO    sq      sqlc          fracao_ideal    ca                  to                   valor_terreno    valor_construcao    qd_setor    qd_fiscal    ds_codigo    ds_nome     ds_cd_sub    ds_subpref    od_id    od_nome        COD_AED        COD_AED_S    sqod       classificacao_abrangente    tipo_de_uso         padrao_de_uso    classe_de_uso    tipo_e_classe_de_uso\n",
       "0          1995                03812-1             1970                           4                           11.0                    loja e residência (predominância comercial)          comercial vertical - Padrão B   1.0                       802                     00-0                    802                257             257                001003  001003000700  1.0             3.1206225680933852  1.0                  25700.0          162004.0            001         003          9            BOM RETIRO  09           SE            7        Luz            3550308005004  4            001003007  Comercial                   Comercial vertical  B                Baixo            Comercial vertical Baixo\n",
       "1          1995                03812-1             1981                           2                           11.0                    loja                                                 comercial vertical - Padrão C   1.0                       660                     00-0                    660                297             303                001003  001003001000  1.0             2.1782178217821784  0.9801980198019802   30300.0          197340.0            001         003          9            BOM RETIRO  09           SE            7        Luz            3550308005004  4            001003007  Comercial                   Comercial vertical  C                Médio            Comercial vertical Médio\n",
       "2          1995                03812-1             1924                           4                           10.0                    'outras edificações do tipo (uso comércio), com ...  comercial vertical - Padrão B   0.0                       505                     00-0                    505                206             285                001003  001003001100  1.0             1.7719298245614035  0.7228070175438597   28500.0          102010.0            001         003          9            BOM RETIRO  09           SE            7        Luz            3550308005004  4            001003007  Comercial                   Comercial vertical  B                Baixo            Comercial vertical Baixo\n",
       "3          1995                06156-5             1970                           4                           12.0                    loja e residência (predominância comercial)          comercial vertical - Padrão B   1.0                       830                     00-0                    830                270             298                001003  001003001400  1.0             2.785234899328859   0.9060402684563759   11324.0          167660.0            001         003          9            BOM RETIRO  09           SE            7        Luz            3550308005004  4            001003007  Comercial                   Comercial vertical  B                Baixo            Comercial vertical Baixo\n",
       "4          1995                06156-5             1983                           6                           6.0                     loja e residência (predominância comercial)          comercial vertical - Padrão B   1.0                       740                     00-0                    740                156             162                001003  001003001500  1.0             4.567901234567901   0.9629629629629629   6156.0           149480.0            001         003          9            BOM RETIRO  09           SE            7        Luz            3550308005004  4            001003007  Comercial                   Comercial vertical  B                Baixo            Comercial vertical Baixo\n",
       "...        ...                 ...                 ...                            ...                         ...                     ...                                                  ...                             ...                       ...                     ...                     ...                ...             ...                ...     ...           ...             ...                 ...                  ...              ...                 ...         ...          ...          ...         ...          ...           ...      ...            ...            ...          ...        ...                         ...                 ...              ...              ...\n",
       "4,851,705  2023                06429-7             2016                           3                           20.0                    Escola                                               Comercial vertical - padrão C   0.95                      503                     00-0                    503                239             508                310096  310096001700  1.0             0.9901574803149606  0.4704724409448819   939292.0         1332950.0           310         096          38           JABAQUARA   15           JABAQUARA     275      Cidade Vargas  3550308005093  93           310096275  Serviços                    Comercial vertical  C                Médio            Comercial vertical Médio\n",
       "4,851,706  2023                05197-7             2002                           3                           13.3                    'Outras edificações de uso comercial, com utiliz...  Comercial vertical - padrão B   0.81                      1161                    00-0                    1161               394             532                310099  310099000400  1.0             2.1823308270676693  0.7406015037593985   972496.0         2836323.0           310         099          38           JABAQUARA   15           JABAQUARA     275      Cidade Vargas  3550308005093  93           310099275  Comercial                   Comercial vertical  B                Baixo            Comercial vertical Baixo\n",
       "4,851,707  2023                01418-4             1997                           3                           42.0                    Escola                                               Comercial vertical - padrão B   0.75                      2493                    00-0                    2493               1670            2212               310102  310102008800  1.0             1.1270343580470163  0.7549728752260397   3968328.0        6090399.0           310         102          38           JABAQUARA   15           JABAQUARA     275      Cidade Vargas  3550308005093  93           310102275  Serviços                    Comercial vertical  B                Baixo            Comercial vertical Baixo\n",
       "4,851,708  2023                02235-7             1974                           3                           20.0                    'Prédio de escritório ou consultório, não em con...  Comercial vertical - padrão B   0.41                      748                     00-0                    748                348             400                310104  310104002800  1.0             1.87                0.87                 1107200.0        1827364.0           310         104          38           JABAQUARA   15           JABAQUARA     275      Cidade Vargas  3550308005093  93           310104275  Serviços                    Comercial vertical  B                Baixo            Comercial vertical Baixo\n",
       "4,851,709  2023                01041-3             1995                           3                           60.0                    Loja                                                 Comercial vertical - padrão C   0.73                      3225                    00-0                    3225               1121            2383               310109  310109054000  1.0             1.3533361309274023  0.47041544271926145  4472891.0        8546250.0           310         109          38           JABAQUARA   15           JABAQUARA     275      Cidade Vargas  3550308005093  93           310109275  Comercial                   Comercial vertical  C                Médio            Comercial vertical Médio"
      ]
     },
     "execution_count": 63,
     "metadata": {},
     "output_type": "execute_result"
    }
   ],
   "source": [
    "df_iptu[df_iptu['tipo_de_uso'] == 'Comercial vertical']"
   ]
  },
  {
   "cell_type": "code",
   "execution_count": 64,
   "metadata": {},
   "outputs": [
    {
     "data": {
      "text/plain": [
       "(85961435, 36)"
      ]
     },
     "execution_count": 64,
     "metadata": {},
     "output_type": "execute_result"
    }
   ],
   "source": [
    "df_iptu.shape"
   ]
  },
  {
   "cell_type": "code",
   "execution_count": 65,
   "metadata": {},
   "outputs": [],
   "source": [
    "# df_iptu['tipo_e_classe_de_uso'] = df_iptu['tipo_de_uso'] + ' ' + df_iptu['classe_de_uso']"
   ]
  },
  {
   "cell_type": "markdown",
   "metadata": {},
   "source": [
    "## Processando as totalizacoes"
   ]
  },
  {
   "cell_type": "code",
   "execution_count": 66,
   "metadata": {},
   "outputs": [],
   "source": [
    "gdf_distritos['area'] = gdf_distritos.area\n",
    "gdf_distritos.to_crs(epsg=4674, inplace=True)"
   ]
  },
  {
   "cell_type": "code",
   "execution_count": 67,
   "metadata": {},
   "outputs": [],
   "source": [
    "df_iptu['sq'] = df_iptu.qd_setor + df_iptu.qd_fiscal"
   ]
  },
  {
   "cell_type": "code",
   "execution_count": 68,
   "metadata": {},
   "outputs": [],
   "source": [
    "# df_iptu.sq"
   ]
  },
  {
   "cell_type": "code",
   "execution_count": 69,
   "metadata": {},
   "outputs": [],
   "source": [
    "# df_iptu.fillna(value='0', column_names=['sq'], inplace=True)\n",
    "# df_iptu['sq'] = df_iptu['sq'].astype('int')\n",
    "# df_iptu.categorize('sq', inplace=True)"
   ]
  },
  {
   "cell_type": "code",
   "execution_count": 70,
   "metadata": {},
   "outputs": [
    {
     "name": "stderr",
     "output_type": "stream",
     "text": [
      "/home/fernando/miniconda3/envs/dash/lib/python3.9/site-packages/vaex/arrow/numpy_dispatch.py:72: RuntimeWarning: invalid value encountered in true_divide\n",
      "  result_data = op['op'](a_data, b_data)\n"
     ]
    },
    {
     "data": {
      "text/html": [
       "<table>\n",
       "<thead>\n",
       "<tr><th>#                                     </th><th>ANO DO EXERCICIO  </th><th>CODLOG DO IMOVEL  </th><th>ANO DA CONSTRUCAO CORRIGIDO  </th><th>QUANTIDADE DE PAVIMENTOS  </th><th>TESTADA PARA CALCULO  </th><th>TIPO DE USO DO IMOVEL    </th><th>TIPO DE PADRAO DA CONSTRUCAO   </th><th>FATOR DE OBSOLESCENCIA  </th><th>area_contruida_total  </th><th>NUMERO DO CONDOMINIO  </th><th>AREA CONSTRUIDA  </th><th>AREA OCUPADA  </th><th>AREA DO TERRENO  </th><th>sq    </th><th>sqlc        </th><th>fracao_ideal  </th><th>ca                </th><th>to                </th><th>valor_terreno  </th><th>valor_construcao  </th><th>qd_setor  </th><th>qd_fiscal  </th><th>ds_codigo  </th><th>ds_nome   </th><th>ds_cd_sub  </th><th>ds_subpref  </th><th>od_id  </th><th>od_nome      </th><th>COD_AED      </th><th>COD_AED_S  </th><th>sqod     </th><th>classificacao_abrangente  </th><th>tipo_de_uso         </th><th>padrao_de_uso  </th><th>classe_de_uso  </th><th>tipo_e_classe_de_uso      </th><th>distrito  </th></tr>\n",
       "</thead>\n",
       "<tbody>\n",
       "<tr><td><i style='opacity: 0.6'>0</i>         </td><td>1995              </td><td>03812-1           </td><td>1924                         </td><td>1                         </td><td>13.0                  </td><td>loja                     </td><td>comercial horizontal - Padrão B</td><td>0.0                     </td><td>135                   </td><td>00-0                  </td><td>135              </td><td>0             </td><td>136              </td><td>001003</td><td>001003000100</td><td>1.0           </td><td>0.9926470588235294</td><td>0.0               </td><td>13600.0        </td><td>17415.0           </td><td>001       </td><td>003        </td><td>9          </td><td>BOM RETIRO</td><td>09         </td><td>SE          </td><td>7      </td><td>Luz          </td><td>3550308005004</td><td>4          </td><td>001003007</td><td>Comercial                 </td><td>Comercial horizontal</td><td>B              </td><td>Baixo          </td><td>Comercial horizontal Baixo</td><td>9         </td></tr>\n",
       "<tr><td><i style='opacity: 0.6'>1</i>         </td><td>1995              </td><td>03812-1           </td><td>1944                         </td><td>1                         </td><td>6.0                   </td><td>loja                     </td><td>comercial horizontal - Padrão A</td><td>0.0                     </td><td>67                    </td><td>00-0                  </td><td>67               </td><td>0             </td><td>90               </td><td>001003</td><td>001003000200</td><td>1.0           </td><td>0.7444444444444445</td><td>0.0               </td><td>9000.0         </td><td>6298.0            </td><td>001       </td><td>003        </td><td>9          </td><td>BOM RETIRO</td><td>09         </td><td>SE          </td><td>7      </td><td>Luz          </td><td>3550308005004</td><td>4          </td><td>001003007</td><td>Comercial                 </td><td>Comercial horizontal</td><td>A              </td><td>Baixo          </td><td>Comercial horizontal Baixo</td><td>9         </td></tr>\n",
       "<tr><td><i style='opacity: 0.6'>2</i>         </td><td>1995              </td><td>03812-1           </td><td>1944                         </td><td>1                         </td><td>8.0                   </td><td>loja                     </td><td>comercial horizontal - Padrão A</td><td>0.0                     </td><td>85                    </td><td>00-0                  </td><td>85               </td><td>0             </td><td>105              </td><td>001003</td><td>001003000300</td><td>1.0           </td><td>0.8095238095238095</td><td>0.0               </td><td>10500.0        </td><td>7990.0            </td><td>001       </td><td>003        </td><td>9          </td><td>BOM RETIRO</td><td>09         </td><td>SE          </td><td>7      </td><td>Luz          </td><td>3550308005004</td><td>4          </td><td>001003007</td><td>Comercial                 </td><td>Comercial horizontal</td><td>A              </td><td>Baixo          </td><td>Comercial horizontal Baixo</td><td>9         </td></tr>\n",
       "<tr><td><i style='opacity: 0.6'>3</i>         </td><td>1995              </td><td>03812-1           </td><td>1944                         </td><td>1                         </td><td>6.0                   </td><td>loja                     </td><td>comercial horizontal - Padrão B</td><td>0.0                     </td><td>103                   </td><td>00-0                  </td><td>103              </td><td>0             </td><td>108              </td><td>001003</td><td>001003000400</td><td>1.0           </td><td>0.9537037037037037</td><td>0.0               </td><td>10800.0        </td><td>13287.0           </td><td>001       </td><td>003        </td><td>9          </td><td>BOM RETIRO</td><td>09         </td><td>SE          </td><td>7      </td><td>Luz          </td><td>3550308005004</td><td>4          </td><td>001003007</td><td>Comercial                 </td><td>Comercial horizontal</td><td>B              </td><td>Baixo          </td><td>Comercial horizontal Baixo</td><td>9         </td></tr>\n",
       "<tr><td><i style='opacity: 0.6'>4</i>         </td><td>1995              </td><td>03812-1           </td><td>1944                         </td><td>1                         </td><td>7.0                   </td><td>loja                     </td><td>comercial horizontal - Padrão A</td><td>0.0                     </td><td>98                    </td><td>00-0                  </td><td>98               </td><td>0             </td><td>120              </td><td>001003</td><td>001003000500</td><td>1.0           </td><td>0.8166666666666667</td><td>0.0               </td><td>12000.0        </td><td>9212.0            </td><td>001       </td><td>003        </td><td>9          </td><td>BOM RETIRO</td><td>09         </td><td>SE          </td><td>7      </td><td>Luz          </td><td>3550308005004</td><td>4          </td><td>001003007</td><td>Comercial                 </td><td>Comercial horizontal</td><td>A              </td><td>Baixo          </td><td>Comercial horizontal Baixo</td><td>9         </td></tr>\n",
       "<tr><td>...                                   </td><td>...               </td><td>...               </td><td>...                          </td><td>...                       </td><td>...                   </td><td>...                      </td><td>...                            </td><td>...                     </td><td>...                   </td><td>...                   </td><td>...              </td><td>...           </td><td>...              </td><td>...   </td><td>...         </td><td>...           </td><td>...               </td><td>...               </td><td>...            </td><td>...               </td><td>...       </td><td>...        </td><td>...        </td><td>...       </td><td>...        </td><td>...         </td><td>...    </td><td>...          </td><td>...          </td><td>...        </td><td>...      </td><td>...                       </td><td>...                 </td><td>...            </td><td>...            </td><td>...                       </td><td>...       </td></tr>\n",
       "<tr><td><i style='opacity: 0.6'>85,961,430</i></td><td>2023              </td><td>02235-7           </td><td>1978                         </td><td>5                         </td><td>0.0                   </td><td>Apartamento em condomínio</td><td>Residencial vertical - padrão B</td><td>0.2                     </td><td>25215                 </td><td>01-9                  </td><td>84               </td><td>5312          </td><td>18041            </td><td>310118</td><td>310118000001</td><td>0.0033        </td><td>1.4109276345294306</td><td>0.2944404412172274</td><td>144492.1731    </td><td>177660.0          </td><td>310       </td><td>118        </td><td>38         </td><td>JABAQUARA </td><td>15         </td><td>JABAQUARA   </td><td>275    </td><td>Cidade Vargas</td><td>3550308005093</td><td>93         </td><td>310118275</td><td>Residencial               </td><td>Residencial vertical</td><td>B              </td><td>Baixo          </td><td>Residencial vertical Baixo</td><td>38        </td></tr>\n",
       "<tr><td><i style='opacity: 0.6'>85,961,431</i></td><td>2023              </td><td>02235-7           </td><td>1978                         </td><td>5                         </td><td>0.0                   </td><td>Apartamento em condomínio</td><td>Residencial vertical - padrão B</td><td>0.2                     </td><td>25215                 </td><td>01-9                  </td><td>84               </td><td>5312          </td><td>18041            </td><td>310118</td><td>310118000001</td><td>0.0033        </td><td>1.4109276345294306</td><td>0.2944404412172274</td><td>144492.1731    </td><td>177660.0          </td><td>310       </td><td>118        </td><td>38         </td><td>JABAQUARA </td><td>15         </td><td>JABAQUARA   </td><td>275    </td><td>Cidade Vargas</td><td>3550308005093</td><td>93         </td><td>310118275</td><td>Residencial               </td><td>Residencial vertical</td><td>B              </td><td>Baixo          </td><td>Residencial vertical Baixo</td><td>38        </td></tr>\n",
       "<tr><td><i style='opacity: 0.6'>85,961,432</i></td><td>2023              </td><td>02235-7           </td><td>1978                         </td><td>5                         </td><td>0.0                   </td><td>Apartamento em condomínio</td><td>Residencial vertical - padrão B</td><td>0.2                     </td><td>25215                 </td><td>01-9                  </td><td>84               </td><td>5312          </td><td>18041            </td><td>310118</td><td>310118000001</td><td>0.0033        </td><td>1.4109276345294306</td><td>0.2944404412172274</td><td>144492.1731    </td><td>177660.0          </td><td>310       </td><td>118        </td><td>38         </td><td>JABAQUARA </td><td>15         </td><td>JABAQUARA   </td><td>275    </td><td>Cidade Vargas</td><td>3550308005093</td><td>93         </td><td>310118275</td><td>Residencial               </td><td>Residencial vertical</td><td>B              </td><td>Baixo          </td><td>Residencial vertical Baixo</td><td>38        </td></tr>\n",
       "<tr><td><i style='opacity: 0.6'>85,961,433</i></td><td>2023              </td><td>19137-0           </td><td>0                            </td><td>0                         </td><td>0.0                   </td><td>Terreno                  </td><td>TERRENO                        </td><td>0.0                     </td><td>0                     </td><td>00-0                  </td><td>0                </td><td>0             </td><td>18500            </td><td>310119</td><td>310119000100</td><td>1.0           </td><td>0.0               </td><td>0.0               </td><td>41939500.0     </td><td>0.0               </td><td>310       </td><td>119        </td><td>38         </td><td>JABAQUARA </td><td>15         </td><td>JABAQUARA   </td><td>275    </td><td>Cidade Vargas</td><td>3550308005093</td><td>93         </td><td>310119275</td><td>Outros                    </td><td>Terreno             </td><td>               </td><td>               </td><td>Terreno                   </td><td>38        </td></tr>\n",
       "<tr><td><i style='opacity: 0.6'>85,961,434</i></td><td>2023              </td><td>01041-3           </td><td>0                            </td><td>0                         </td><td>500.0                 </td><td>Terreno                  </td><td>TERRENO                        </td><td>0.0                     </td><td>0                     </td><td>00-0                  </td><td>0                </td><td>0             </td><td>18926            </td><td>310120</td><td>310120000100</td><td>1.0           </td><td>0.0               </td><td>0.0               </td><td>11790898.0     </td><td>0.0               </td><td>310       </td><td>120        </td><td>38         </td><td>JABAQUARA </td><td>15         </td><td>JABAQUARA   </td><td>275    </td><td>Cidade Vargas</td><td>3550308005093</td><td>93         </td><td>310120275</td><td>Outros                    </td><td>Terreno             </td><td>               </td><td>               </td><td>Terreno                   </td><td>38        </td></tr>\n",
       "</tbody>\n",
       "</table>"
      ],
      "text/plain": [
       "#           ANO DO EXERCICIO    CODLOG DO IMOVEL    ANO DA CONSTRUCAO CORRIGIDO    QUANTIDADE DE PAVIMENTOS    TESTADA PARA CALCULO    TIPO DE USO DO IMOVEL      TIPO DE PADRAO DA CONSTRUCAO     FATOR DE OBSOLESCENCIA    area_contruida_total    NUMERO DO CONDOMINIO    AREA CONSTRUIDA    AREA OCUPADA    AREA DO TERRENO    sq      sqlc          fracao_ideal    ca                  to                  valor_terreno    valor_construcao    qd_setor    qd_fiscal    ds_codigo    ds_nome     ds_cd_sub    ds_subpref    od_id    od_nome        COD_AED        COD_AED_S    sqod       classificacao_abrangente    tipo_de_uso           padrao_de_uso    classe_de_uso    tipo_e_classe_de_uso        distrito\n",
       "0           1995                03812-1             1924                           1                           13.0                    loja                       comercial horizontal - Padrão B  0.0                       135                     00-0                    135                0               136                001003  001003000100  1.0             0.9926470588235294  0.0                 13600.0          17415.0             001         003          9            BOM RETIRO  09           SE            7        Luz            3550308005004  4            001003007  Comercial                   Comercial horizontal  B                Baixo            Comercial horizontal Baixo  9\n",
       "1           1995                03812-1             1944                           1                           6.0                     loja                       comercial horizontal - Padrão A  0.0                       67                      00-0                    67                 0               90                 001003  001003000200  1.0             0.7444444444444445  0.0                 9000.0           6298.0              001         003          9            BOM RETIRO  09           SE            7        Luz            3550308005004  4            001003007  Comercial                   Comercial horizontal  A                Baixo            Comercial horizontal Baixo  9\n",
       "2           1995                03812-1             1944                           1                           8.0                     loja                       comercial horizontal - Padrão A  0.0                       85                      00-0                    85                 0               105                001003  001003000300  1.0             0.8095238095238095  0.0                 10500.0          7990.0              001         003          9            BOM RETIRO  09           SE            7        Luz            3550308005004  4            001003007  Comercial                   Comercial horizontal  A                Baixo            Comercial horizontal Baixo  9\n",
       "3           1995                03812-1             1944                           1                           6.0                     loja                       comercial horizontal - Padrão B  0.0                       103                     00-0                    103                0               108                001003  001003000400  1.0             0.9537037037037037  0.0                 10800.0          13287.0             001         003          9            BOM RETIRO  09           SE            7        Luz            3550308005004  4            001003007  Comercial                   Comercial horizontal  B                Baixo            Comercial horizontal Baixo  9\n",
       "4           1995                03812-1             1944                           1                           7.0                     loja                       comercial horizontal - Padrão A  0.0                       98                      00-0                    98                 0               120                001003  001003000500  1.0             0.8166666666666667  0.0                 12000.0          9212.0              001         003          9            BOM RETIRO  09           SE            7        Luz            3550308005004  4            001003007  Comercial                   Comercial horizontal  A                Baixo            Comercial horizontal Baixo  9\n",
       "...         ...                 ...                 ...                            ...                         ...                     ...                        ...                              ...                       ...                     ...                     ...                ...             ...                ...     ...           ...             ...                 ...                 ...              ...                 ...         ...          ...          ...         ...          ...           ...      ...            ...            ...          ...        ...                         ...                   ...              ...              ...                         ...\n",
       "85,961,430  2023                02235-7             1978                           5                           0.0                     Apartamento em condomínio  Residencial vertical - padrão B  0.2                       25215                   01-9                    84                 5312            18041              310118  310118000001  0.0033          1.4109276345294306  0.2944404412172274  144492.1731      177660.0            310         118          38           JABAQUARA   15           JABAQUARA     275      Cidade Vargas  3550308005093  93           310118275  Residencial                 Residencial vertical  B                Baixo            Residencial vertical Baixo  38\n",
       "85,961,431  2023                02235-7             1978                           5                           0.0                     Apartamento em condomínio  Residencial vertical - padrão B  0.2                       25215                   01-9                    84                 5312            18041              310118  310118000001  0.0033          1.4109276345294306  0.2944404412172274  144492.1731      177660.0            310         118          38           JABAQUARA   15           JABAQUARA     275      Cidade Vargas  3550308005093  93           310118275  Residencial                 Residencial vertical  B                Baixo            Residencial vertical Baixo  38\n",
       "85,961,432  2023                02235-7             1978                           5                           0.0                     Apartamento em condomínio  Residencial vertical - padrão B  0.2                       25215                   01-9                    84                 5312            18041              310118  310118000001  0.0033          1.4109276345294306  0.2944404412172274  144492.1731      177660.0            310         118          38           JABAQUARA   15           JABAQUARA     275      Cidade Vargas  3550308005093  93           310118275  Residencial                 Residencial vertical  B                Baixo            Residencial vertical Baixo  38\n",
       "85,961,433  2023                19137-0             0                              0                           0.0                     Terreno                    TERRENO                          0.0                       0                       00-0                    0                  0               18500              310119  310119000100  1.0             0.0                 0.0                 41939500.0       0.0                 310         119          38           JABAQUARA   15           JABAQUARA     275      Cidade Vargas  3550308005093  93           310119275  Outros                      Terreno                                                 Terreno                     38\n",
       "85,961,434  2023                01041-3             0                              0                           500.0                   Terreno                    TERRENO                          0.0                       0                       00-0                    0                  0               18926              310120  310120000100  1.0             0.0                 0.0                 11790898.0       0.0                 310         120          38           JABAQUARA   15           JABAQUARA     275      Cidade Vargas  3550308005093  93           310120275  Outros                      Terreno                                                 Terreno                     38"
      ]
     },
     "execution_count": 70,
     "metadata": {},
     "output_type": "execute_result"
    }
   ],
   "source": [
    "# df_iptu.head(1)\n",
    "df_iptu.fillna(value='0', column_names=['ds_codigo'], inplace=True)\n",
    "df_iptu['distrito'] = df_iptu['ds_codigo'].astype('int')\n",
    "df_iptu.categorize('distrito', inplace=True)\n",
    "# df_iptu.head(1)"
   ]
  },
  {
   "cell_type": "code",
   "execution_count": 71,
   "metadata": {},
   "outputs": [
    {
     "data": {
      "text/html": [
       "<table>\n",
       "<thead>\n",
       "<tr><th>#                                     </th><th>ANO DO EXERCICIO  </th><th>CODLOG DO IMOVEL  </th><th>ANO DA CONSTRUCAO CORRIGIDO  </th><th>QUANTIDADE DE PAVIMENTOS  </th><th>TESTADA PARA CALCULO  </th><th>TIPO DE USO DO IMOVEL    </th><th>TIPO DE PADRAO DA CONSTRUCAO   </th><th>FATOR DE OBSOLESCENCIA  </th><th>area_contruida_total  </th><th>NUMERO DO CONDOMINIO  </th><th>AREA CONSTRUIDA  </th><th>AREA OCUPADA  </th><th>AREA DO TERRENO  </th><th>sq    </th><th>sqlc        </th><th>fracao_ideal  </th><th>ca                </th><th>to                </th><th>valor_terreno  </th><th>valor_construcao  </th><th>qd_setor  </th><th>qd_fiscal  </th><th>ds_codigo  </th><th>ds_nome   </th><th>ds_cd_sub  </th><th>ds_subpref  </th><th>od_id  </th><th>od_nome      </th><th>COD_AED      </th><th>COD_AED_S  </th><th>sqod     </th><th>classificacao_abrangente  </th><th>tipo_de_uso         </th><th>padrao_de_uso  </th><th>classe_de_uso  </th><th>tipo_e_classe_de_uso      </th><th>distrito  </th><th>ano  </th></tr>\n",
       "</thead>\n",
       "<tbody>\n",
       "<tr><td><i style='opacity: 0.6'>0</i>         </td><td>1995              </td><td>03812-1           </td><td>1924                         </td><td>1                         </td><td>13.0                  </td><td>loja                     </td><td>comercial horizontal - Padrão B</td><td>0.0                     </td><td>135                   </td><td>00-0                  </td><td>135              </td><td>0             </td><td>136              </td><td>001003</td><td>001003000100</td><td>1.0           </td><td>0.9926470588235294</td><td>0.0               </td><td>13600.0        </td><td>17415.0           </td><td>001       </td><td>003        </td><td>9          </td><td>BOM RETIRO</td><td>09         </td><td>SE          </td><td>7      </td><td>Luz          </td><td>3550308005004</td><td>4          </td><td>001003007</td><td>Comercial                 </td><td>Comercial horizontal</td><td>B              </td><td>Baixo          </td><td>Comercial horizontal Baixo</td><td>9         </td><td>1995 </td></tr>\n",
       "<tr><td><i style='opacity: 0.6'>1</i>         </td><td>1995              </td><td>03812-1           </td><td>1944                         </td><td>1                         </td><td>6.0                   </td><td>loja                     </td><td>comercial horizontal - Padrão A</td><td>0.0                     </td><td>67                    </td><td>00-0                  </td><td>67               </td><td>0             </td><td>90               </td><td>001003</td><td>001003000200</td><td>1.0           </td><td>0.7444444444444445</td><td>0.0               </td><td>9000.0         </td><td>6298.0            </td><td>001       </td><td>003        </td><td>9          </td><td>BOM RETIRO</td><td>09         </td><td>SE          </td><td>7      </td><td>Luz          </td><td>3550308005004</td><td>4          </td><td>001003007</td><td>Comercial                 </td><td>Comercial horizontal</td><td>A              </td><td>Baixo          </td><td>Comercial horizontal Baixo</td><td>9         </td><td>1995 </td></tr>\n",
       "<tr><td><i style='opacity: 0.6'>2</i>         </td><td>1995              </td><td>03812-1           </td><td>1944                         </td><td>1                         </td><td>8.0                   </td><td>loja                     </td><td>comercial horizontal - Padrão A</td><td>0.0                     </td><td>85                    </td><td>00-0                  </td><td>85               </td><td>0             </td><td>105              </td><td>001003</td><td>001003000300</td><td>1.0           </td><td>0.8095238095238095</td><td>0.0               </td><td>10500.0        </td><td>7990.0            </td><td>001       </td><td>003        </td><td>9          </td><td>BOM RETIRO</td><td>09         </td><td>SE          </td><td>7      </td><td>Luz          </td><td>3550308005004</td><td>4          </td><td>001003007</td><td>Comercial                 </td><td>Comercial horizontal</td><td>A              </td><td>Baixo          </td><td>Comercial horizontal Baixo</td><td>9         </td><td>1995 </td></tr>\n",
       "<tr><td><i style='opacity: 0.6'>3</i>         </td><td>1995              </td><td>03812-1           </td><td>1944                         </td><td>1                         </td><td>6.0                   </td><td>loja                     </td><td>comercial horizontal - Padrão B</td><td>0.0                     </td><td>103                   </td><td>00-0                  </td><td>103              </td><td>0             </td><td>108              </td><td>001003</td><td>001003000400</td><td>1.0           </td><td>0.9537037037037037</td><td>0.0               </td><td>10800.0        </td><td>13287.0           </td><td>001       </td><td>003        </td><td>9          </td><td>BOM RETIRO</td><td>09         </td><td>SE          </td><td>7      </td><td>Luz          </td><td>3550308005004</td><td>4          </td><td>001003007</td><td>Comercial                 </td><td>Comercial horizontal</td><td>B              </td><td>Baixo          </td><td>Comercial horizontal Baixo</td><td>9         </td><td>1995 </td></tr>\n",
       "<tr><td><i style='opacity: 0.6'>4</i>         </td><td>1995              </td><td>03812-1           </td><td>1944                         </td><td>1                         </td><td>7.0                   </td><td>loja                     </td><td>comercial horizontal - Padrão A</td><td>0.0                     </td><td>98                    </td><td>00-0                  </td><td>98               </td><td>0             </td><td>120              </td><td>001003</td><td>001003000500</td><td>1.0           </td><td>0.8166666666666667</td><td>0.0               </td><td>12000.0        </td><td>9212.0            </td><td>001       </td><td>003        </td><td>9          </td><td>BOM RETIRO</td><td>09         </td><td>SE          </td><td>7      </td><td>Luz          </td><td>3550308005004</td><td>4          </td><td>001003007</td><td>Comercial                 </td><td>Comercial horizontal</td><td>A              </td><td>Baixo          </td><td>Comercial horizontal Baixo</td><td>9         </td><td>1995 </td></tr>\n",
       "<tr><td>...                                   </td><td>...               </td><td>...               </td><td>...                          </td><td>...                       </td><td>...                   </td><td>...                      </td><td>...                            </td><td>...                     </td><td>...                   </td><td>...                   </td><td>...              </td><td>...           </td><td>...              </td><td>...   </td><td>...         </td><td>...           </td><td>...               </td><td>...               </td><td>...            </td><td>...               </td><td>...       </td><td>...        </td><td>...        </td><td>...       </td><td>...        </td><td>...         </td><td>...    </td><td>...          </td><td>...          </td><td>...        </td><td>...      </td><td>...                       </td><td>...                 </td><td>...            </td><td>...            </td><td>...                       </td><td>...       </td><td>...  </td></tr>\n",
       "<tr><td><i style='opacity: 0.6'>85,961,430</i></td><td>2023              </td><td>02235-7           </td><td>1978                         </td><td>5                         </td><td>0.0                   </td><td>Apartamento em condomínio</td><td>Residencial vertical - padrão B</td><td>0.2                     </td><td>25215                 </td><td>01-9                  </td><td>84               </td><td>5312          </td><td>18041            </td><td>310118</td><td>310118000001</td><td>0.0033        </td><td>1.4109276345294306</td><td>0.2944404412172274</td><td>144492.1731    </td><td>177660.0          </td><td>310       </td><td>118        </td><td>38         </td><td>JABAQUARA </td><td>15         </td><td>JABAQUARA   </td><td>275    </td><td>Cidade Vargas</td><td>3550308005093</td><td>93         </td><td>310118275</td><td>Residencial               </td><td>Residencial vertical</td><td>B              </td><td>Baixo          </td><td>Residencial vertical Baixo</td><td>38        </td><td>2023 </td></tr>\n",
       "<tr><td><i style='opacity: 0.6'>85,961,431</i></td><td>2023              </td><td>02235-7           </td><td>1978                         </td><td>5                         </td><td>0.0                   </td><td>Apartamento em condomínio</td><td>Residencial vertical - padrão B</td><td>0.2                     </td><td>25215                 </td><td>01-9                  </td><td>84               </td><td>5312          </td><td>18041            </td><td>310118</td><td>310118000001</td><td>0.0033        </td><td>1.4109276345294306</td><td>0.2944404412172274</td><td>144492.1731    </td><td>177660.0          </td><td>310       </td><td>118        </td><td>38         </td><td>JABAQUARA </td><td>15         </td><td>JABAQUARA   </td><td>275    </td><td>Cidade Vargas</td><td>3550308005093</td><td>93         </td><td>310118275</td><td>Residencial               </td><td>Residencial vertical</td><td>B              </td><td>Baixo          </td><td>Residencial vertical Baixo</td><td>38        </td><td>2023 </td></tr>\n",
       "<tr><td><i style='opacity: 0.6'>85,961,432</i></td><td>2023              </td><td>02235-7           </td><td>1978                         </td><td>5                         </td><td>0.0                   </td><td>Apartamento em condomínio</td><td>Residencial vertical - padrão B</td><td>0.2                     </td><td>25215                 </td><td>01-9                  </td><td>84               </td><td>5312          </td><td>18041            </td><td>310118</td><td>310118000001</td><td>0.0033        </td><td>1.4109276345294306</td><td>0.2944404412172274</td><td>144492.1731    </td><td>177660.0          </td><td>310       </td><td>118        </td><td>38         </td><td>JABAQUARA </td><td>15         </td><td>JABAQUARA   </td><td>275    </td><td>Cidade Vargas</td><td>3550308005093</td><td>93         </td><td>310118275</td><td>Residencial               </td><td>Residencial vertical</td><td>B              </td><td>Baixo          </td><td>Residencial vertical Baixo</td><td>38        </td><td>2023 </td></tr>\n",
       "<tr><td><i style='opacity: 0.6'>85,961,433</i></td><td>2023              </td><td>19137-0           </td><td>0                            </td><td>0                         </td><td>0.0                   </td><td>Terreno                  </td><td>TERRENO                        </td><td>0.0                     </td><td>0                     </td><td>00-0                  </td><td>0                </td><td>0             </td><td>18500            </td><td>310119</td><td>310119000100</td><td>1.0           </td><td>0.0               </td><td>0.0               </td><td>41939500.0     </td><td>0.0               </td><td>310       </td><td>119        </td><td>38         </td><td>JABAQUARA </td><td>15         </td><td>JABAQUARA   </td><td>275    </td><td>Cidade Vargas</td><td>3550308005093</td><td>93         </td><td>310119275</td><td>Outros                    </td><td>Terreno             </td><td>               </td><td>               </td><td>Terreno                   </td><td>38        </td><td>2023 </td></tr>\n",
       "<tr><td><i style='opacity: 0.6'>85,961,434</i></td><td>2023              </td><td>01041-3           </td><td>0                            </td><td>0                         </td><td>500.0                 </td><td>Terreno                  </td><td>TERRENO                        </td><td>0.0                     </td><td>0                     </td><td>00-0                  </td><td>0                </td><td>0             </td><td>18926            </td><td>310120</td><td>310120000100</td><td>1.0           </td><td>0.0               </td><td>0.0               </td><td>11790898.0     </td><td>0.0               </td><td>310       </td><td>120        </td><td>38         </td><td>JABAQUARA </td><td>15         </td><td>JABAQUARA   </td><td>275    </td><td>Cidade Vargas</td><td>3550308005093</td><td>93         </td><td>310120275</td><td>Outros                    </td><td>Terreno             </td><td>               </td><td>               </td><td>Terreno                   </td><td>38        </td><td>2023 </td></tr>\n",
       "</tbody>\n",
       "</table>"
      ],
      "text/plain": [
       "#           ANO DO EXERCICIO    CODLOG DO IMOVEL    ANO DA CONSTRUCAO CORRIGIDO    QUANTIDADE DE PAVIMENTOS    TESTADA PARA CALCULO    TIPO DE USO DO IMOVEL      TIPO DE PADRAO DA CONSTRUCAO     FATOR DE OBSOLESCENCIA    area_contruida_total    NUMERO DO CONDOMINIO    AREA CONSTRUIDA    AREA OCUPADA    AREA DO TERRENO    sq      sqlc          fracao_ideal    ca                  to                  valor_terreno    valor_construcao    qd_setor    qd_fiscal    ds_codigo    ds_nome     ds_cd_sub    ds_subpref    od_id    od_nome        COD_AED        COD_AED_S    sqod       classificacao_abrangente    tipo_de_uso           padrao_de_uso    classe_de_uso    tipo_e_classe_de_uso        distrito    ano\n",
       "0           1995                03812-1             1924                           1                           13.0                    loja                       comercial horizontal - Padrão B  0.0                       135                     00-0                    135                0               136                001003  001003000100  1.0             0.9926470588235294  0.0                 13600.0          17415.0             001         003          9            BOM RETIRO  09           SE            7        Luz            3550308005004  4            001003007  Comercial                   Comercial horizontal  B                Baixo            Comercial horizontal Baixo  9           1995\n",
       "1           1995                03812-1             1944                           1                           6.0                     loja                       comercial horizontal - Padrão A  0.0                       67                      00-0                    67                 0               90                 001003  001003000200  1.0             0.7444444444444445  0.0                 9000.0           6298.0              001         003          9            BOM RETIRO  09           SE            7        Luz            3550308005004  4            001003007  Comercial                   Comercial horizontal  A                Baixo            Comercial horizontal Baixo  9           1995\n",
       "2           1995                03812-1             1944                           1                           8.0                     loja                       comercial horizontal - Padrão A  0.0                       85                      00-0                    85                 0               105                001003  001003000300  1.0             0.8095238095238095  0.0                 10500.0          7990.0              001         003          9            BOM RETIRO  09           SE            7        Luz            3550308005004  4            001003007  Comercial                   Comercial horizontal  A                Baixo            Comercial horizontal Baixo  9           1995\n",
       "3           1995                03812-1             1944                           1                           6.0                     loja                       comercial horizontal - Padrão B  0.0                       103                     00-0                    103                0               108                001003  001003000400  1.0             0.9537037037037037  0.0                 10800.0          13287.0             001         003          9            BOM RETIRO  09           SE            7        Luz            3550308005004  4            001003007  Comercial                   Comercial horizontal  B                Baixo            Comercial horizontal Baixo  9           1995\n",
       "4           1995                03812-1             1944                           1                           7.0                     loja                       comercial horizontal - Padrão A  0.0                       98                      00-0                    98                 0               120                001003  001003000500  1.0             0.8166666666666667  0.0                 12000.0          9212.0              001         003          9            BOM RETIRO  09           SE            7        Luz            3550308005004  4            001003007  Comercial                   Comercial horizontal  A                Baixo            Comercial horizontal Baixo  9           1995\n",
       "...         ...                 ...                 ...                            ...                         ...                     ...                        ...                              ...                       ...                     ...                     ...                ...             ...                ...     ...           ...             ...                 ...                 ...              ...                 ...         ...          ...          ...         ...          ...           ...      ...            ...            ...          ...        ...                         ...                   ...              ...              ...                         ...         ...\n",
       "85,961,430  2023                02235-7             1978                           5                           0.0                     Apartamento em condomínio  Residencial vertical - padrão B  0.2                       25215                   01-9                    84                 5312            18041              310118  310118000001  0.0033          1.4109276345294306  0.2944404412172274  144492.1731      177660.0            310         118          38           JABAQUARA   15           JABAQUARA     275      Cidade Vargas  3550308005093  93           310118275  Residencial                 Residencial vertical  B                Baixo            Residencial vertical Baixo  38          2023\n",
       "85,961,431  2023                02235-7             1978                           5                           0.0                     Apartamento em condomínio  Residencial vertical - padrão B  0.2                       25215                   01-9                    84                 5312            18041              310118  310118000001  0.0033          1.4109276345294306  0.2944404412172274  144492.1731      177660.0            310         118          38           JABAQUARA   15           JABAQUARA     275      Cidade Vargas  3550308005093  93           310118275  Residencial                 Residencial vertical  B                Baixo            Residencial vertical Baixo  38          2023\n",
       "85,961,432  2023                02235-7             1978                           5                           0.0                     Apartamento em condomínio  Residencial vertical - padrão B  0.2                       25215                   01-9                    84                 5312            18041              310118  310118000001  0.0033          1.4109276345294306  0.2944404412172274  144492.1731      177660.0            310         118          38           JABAQUARA   15           JABAQUARA     275      Cidade Vargas  3550308005093  93           310118275  Residencial                 Residencial vertical  B                Baixo            Residencial vertical Baixo  38          2023\n",
       "85,961,433  2023                19137-0             0                              0                           0.0                     Terreno                    TERRENO                          0.0                       0                       00-0                    0                  0               18500              310119  310119000100  1.0             0.0                 0.0                 41939500.0       0.0                 310         119          38           JABAQUARA   15           JABAQUARA     275      Cidade Vargas  3550308005093  93           310119275  Outros                      Terreno                                                 Terreno                     38          2023\n",
       "85,961,434  2023                01041-3             0                              0                           500.0                   Terreno                    TERRENO                          0.0                       0                       00-0                    0                  0               18926              310120  310120000100  1.0             0.0                 0.0                 11790898.0       0.0                 310         120          38           JABAQUARA   15           JABAQUARA     275      Cidade Vargas  3550308005093  93           310120275  Outros                      Terreno                                                 Terreno                     38          2023"
      ]
     },
     "execution_count": 71,
     "metadata": {},
     "output_type": "execute_result"
    }
   ],
   "source": [
    "# df_iptu['distrito'] = df_iptu['ds_codigo'].astype('int')\n",
    "df_iptu['ano'] = df_iptu['ANO DO EXERCICIO'].astype('int')\n",
    "df_iptu.categorize('ano', inplace=True)"
   ]
  },
  {
   "cell_type": "code",
   "execution_count": 72,
   "metadata": {},
   "outputs": [
    {
     "data": {
      "text/html": [
       "<table>\n",
       "<thead>\n",
       "<tr><th>#                                     </th><th>ANO DO EXERCICIO  </th><th>CODLOG DO IMOVEL  </th><th>ANO DA CONSTRUCAO CORRIGIDO  </th><th>QUANTIDADE DE PAVIMENTOS  </th><th>TESTADA PARA CALCULO  </th><th>TIPO DE USO DO IMOVEL    </th><th>TIPO DE PADRAO DA CONSTRUCAO   </th><th>FATOR DE OBSOLESCENCIA  </th><th>area_contruida_total  </th><th>NUMERO DO CONDOMINIO  </th><th>AREA CONSTRUIDA  </th><th>AREA OCUPADA  </th><th>AREA DO TERRENO  </th><th>sq    </th><th>sqlc        </th><th>fracao_ideal  </th><th>ca                </th><th>to                </th><th>valor_terreno  </th><th>valor_construcao  </th><th>qd_setor  </th><th>qd_fiscal  </th><th>ds_codigo  </th><th>ds_nome   </th><th>ds_cd_sub  </th><th>ds_subpref  </th><th>od_id  </th><th>od_nome      </th><th>COD_AED      </th><th>COD_AED_S  </th><th>sqod     </th><th>classificacao_abrangente  </th><th>tipo_de_uso         </th><th>padrao_de_uso  </th><th>classe_de_uso  </th><th>tipo_e_classe_de_uso      </th><th>distrito  </th><th>ano  </th><th>od  </th></tr>\n",
       "</thead>\n",
       "<tbody>\n",
       "<tr><td><i style='opacity: 0.6'>0</i>         </td><td>1995              </td><td>03812-1           </td><td>1924                         </td><td>1                         </td><td>13.0                  </td><td>loja                     </td><td>comercial horizontal - Padrão B</td><td>0.0                     </td><td>135                   </td><td>00-0                  </td><td>135              </td><td>0             </td><td>136              </td><td>001003</td><td>001003000100</td><td>1.0           </td><td>0.9926470588235294</td><td>0.0               </td><td>13600.0        </td><td>17415.0           </td><td>001       </td><td>003        </td><td>9          </td><td>BOM RETIRO</td><td>09         </td><td>SE          </td><td>7      </td><td>Luz          </td><td>3550308005004</td><td>4          </td><td>001003007</td><td>Comercial                 </td><td>Comercial horizontal</td><td>B              </td><td>Baixo          </td><td>Comercial horizontal Baixo</td><td>9         </td><td>1995 </td><td>7   </td></tr>\n",
       "<tr><td><i style='opacity: 0.6'>1</i>         </td><td>1995              </td><td>03812-1           </td><td>1944                         </td><td>1                         </td><td>6.0                   </td><td>loja                     </td><td>comercial horizontal - Padrão A</td><td>0.0                     </td><td>67                    </td><td>00-0                  </td><td>67               </td><td>0             </td><td>90               </td><td>001003</td><td>001003000200</td><td>1.0           </td><td>0.7444444444444445</td><td>0.0               </td><td>9000.0         </td><td>6298.0            </td><td>001       </td><td>003        </td><td>9          </td><td>BOM RETIRO</td><td>09         </td><td>SE          </td><td>7      </td><td>Luz          </td><td>3550308005004</td><td>4          </td><td>001003007</td><td>Comercial                 </td><td>Comercial horizontal</td><td>A              </td><td>Baixo          </td><td>Comercial horizontal Baixo</td><td>9         </td><td>1995 </td><td>7   </td></tr>\n",
       "<tr><td><i style='opacity: 0.6'>2</i>         </td><td>1995              </td><td>03812-1           </td><td>1944                         </td><td>1                         </td><td>8.0                   </td><td>loja                     </td><td>comercial horizontal - Padrão A</td><td>0.0                     </td><td>85                    </td><td>00-0                  </td><td>85               </td><td>0             </td><td>105              </td><td>001003</td><td>001003000300</td><td>1.0           </td><td>0.8095238095238095</td><td>0.0               </td><td>10500.0        </td><td>7990.0            </td><td>001       </td><td>003        </td><td>9          </td><td>BOM RETIRO</td><td>09         </td><td>SE          </td><td>7      </td><td>Luz          </td><td>3550308005004</td><td>4          </td><td>001003007</td><td>Comercial                 </td><td>Comercial horizontal</td><td>A              </td><td>Baixo          </td><td>Comercial horizontal Baixo</td><td>9         </td><td>1995 </td><td>7   </td></tr>\n",
       "<tr><td><i style='opacity: 0.6'>3</i>         </td><td>1995              </td><td>03812-1           </td><td>1944                         </td><td>1                         </td><td>6.0                   </td><td>loja                     </td><td>comercial horizontal - Padrão B</td><td>0.0                     </td><td>103                   </td><td>00-0                  </td><td>103              </td><td>0             </td><td>108              </td><td>001003</td><td>001003000400</td><td>1.0           </td><td>0.9537037037037037</td><td>0.0               </td><td>10800.0        </td><td>13287.0           </td><td>001       </td><td>003        </td><td>9          </td><td>BOM RETIRO</td><td>09         </td><td>SE          </td><td>7      </td><td>Luz          </td><td>3550308005004</td><td>4          </td><td>001003007</td><td>Comercial                 </td><td>Comercial horizontal</td><td>B              </td><td>Baixo          </td><td>Comercial horizontal Baixo</td><td>9         </td><td>1995 </td><td>7   </td></tr>\n",
       "<tr><td><i style='opacity: 0.6'>4</i>         </td><td>1995              </td><td>03812-1           </td><td>1944                         </td><td>1                         </td><td>7.0                   </td><td>loja                     </td><td>comercial horizontal - Padrão A</td><td>0.0                     </td><td>98                    </td><td>00-0                  </td><td>98               </td><td>0             </td><td>120              </td><td>001003</td><td>001003000500</td><td>1.0           </td><td>0.8166666666666667</td><td>0.0               </td><td>12000.0        </td><td>9212.0            </td><td>001       </td><td>003        </td><td>9          </td><td>BOM RETIRO</td><td>09         </td><td>SE          </td><td>7      </td><td>Luz          </td><td>3550308005004</td><td>4          </td><td>001003007</td><td>Comercial                 </td><td>Comercial horizontal</td><td>A              </td><td>Baixo          </td><td>Comercial horizontal Baixo</td><td>9         </td><td>1995 </td><td>7   </td></tr>\n",
       "<tr><td>...                                   </td><td>...               </td><td>...               </td><td>...                          </td><td>...                       </td><td>...                   </td><td>...                      </td><td>...                            </td><td>...                     </td><td>...                   </td><td>...                   </td><td>...              </td><td>...           </td><td>...              </td><td>...   </td><td>...         </td><td>...           </td><td>...               </td><td>...               </td><td>...            </td><td>...               </td><td>...       </td><td>...        </td><td>...        </td><td>...       </td><td>...        </td><td>...         </td><td>...    </td><td>...          </td><td>...          </td><td>...        </td><td>...      </td><td>...                       </td><td>...                 </td><td>...            </td><td>...            </td><td>...                       </td><td>...       </td><td>...  </td><td>... </td></tr>\n",
       "<tr><td><i style='opacity: 0.6'>85,961,430</i></td><td>2023              </td><td>02235-7           </td><td>1978                         </td><td>5                         </td><td>0.0                   </td><td>Apartamento em condomínio</td><td>Residencial vertical - padrão B</td><td>0.2                     </td><td>25215                 </td><td>01-9                  </td><td>84               </td><td>5312          </td><td>18041            </td><td>310118</td><td>310118000001</td><td>0.0033        </td><td>1.4109276345294306</td><td>0.2944404412172274</td><td>144492.1731    </td><td>177660.0          </td><td>310       </td><td>118        </td><td>38         </td><td>JABAQUARA </td><td>15         </td><td>JABAQUARA   </td><td>275    </td><td>Cidade Vargas</td><td>3550308005093</td><td>93         </td><td>310118275</td><td>Residencial               </td><td>Residencial vertical</td><td>B              </td><td>Baixo          </td><td>Residencial vertical Baixo</td><td>38        </td><td>2023 </td><td>275 </td></tr>\n",
       "<tr><td><i style='opacity: 0.6'>85,961,431</i></td><td>2023              </td><td>02235-7           </td><td>1978                         </td><td>5                         </td><td>0.0                   </td><td>Apartamento em condomínio</td><td>Residencial vertical - padrão B</td><td>0.2                     </td><td>25215                 </td><td>01-9                  </td><td>84               </td><td>5312          </td><td>18041            </td><td>310118</td><td>310118000001</td><td>0.0033        </td><td>1.4109276345294306</td><td>0.2944404412172274</td><td>144492.1731    </td><td>177660.0          </td><td>310       </td><td>118        </td><td>38         </td><td>JABAQUARA </td><td>15         </td><td>JABAQUARA   </td><td>275    </td><td>Cidade Vargas</td><td>3550308005093</td><td>93         </td><td>310118275</td><td>Residencial               </td><td>Residencial vertical</td><td>B              </td><td>Baixo          </td><td>Residencial vertical Baixo</td><td>38        </td><td>2023 </td><td>275 </td></tr>\n",
       "<tr><td><i style='opacity: 0.6'>85,961,432</i></td><td>2023              </td><td>02235-7           </td><td>1978                         </td><td>5                         </td><td>0.0                   </td><td>Apartamento em condomínio</td><td>Residencial vertical - padrão B</td><td>0.2                     </td><td>25215                 </td><td>01-9                  </td><td>84               </td><td>5312          </td><td>18041            </td><td>310118</td><td>310118000001</td><td>0.0033        </td><td>1.4109276345294306</td><td>0.2944404412172274</td><td>144492.1731    </td><td>177660.0          </td><td>310       </td><td>118        </td><td>38         </td><td>JABAQUARA </td><td>15         </td><td>JABAQUARA   </td><td>275    </td><td>Cidade Vargas</td><td>3550308005093</td><td>93         </td><td>310118275</td><td>Residencial               </td><td>Residencial vertical</td><td>B              </td><td>Baixo          </td><td>Residencial vertical Baixo</td><td>38        </td><td>2023 </td><td>275 </td></tr>\n",
       "<tr><td><i style='opacity: 0.6'>85,961,433</i></td><td>2023              </td><td>19137-0           </td><td>0                            </td><td>0                         </td><td>0.0                   </td><td>Terreno                  </td><td>TERRENO                        </td><td>0.0                     </td><td>0                     </td><td>00-0                  </td><td>0                </td><td>0             </td><td>18500            </td><td>310119</td><td>310119000100</td><td>1.0           </td><td>0.0               </td><td>0.0               </td><td>41939500.0     </td><td>0.0               </td><td>310       </td><td>119        </td><td>38         </td><td>JABAQUARA </td><td>15         </td><td>JABAQUARA   </td><td>275    </td><td>Cidade Vargas</td><td>3550308005093</td><td>93         </td><td>310119275</td><td>Outros                    </td><td>Terreno             </td><td>               </td><td>               </td><td>Terreno                   </td><td>38        </td><td>2023 </td><td>275 </td></tr>\n",
       "<tr><td><i style='opacity: 0.6'>85,961,434</i></td><td>2023              </td><td>01041-3           </td><td>0                            </td><td>0                         </td><td>500.0                 </td><td>Terreno                  </td><td>TERRENO                        </td><td>0.0                     </td><td>0                     </td><td>00-0                  </td><td>0                </td><td>0             </td><td>18926            </td><td>310120</td><td>310120000100</td><td>1.0           </td><td>0.0               </td><td>0.0               </td><td>11790898.0     </td><td>0.0               </td><td>310       </td><td>120        </td><td>38         </td><td>JABAQUARA </td><td>15         </td><td>JABAQUARA   </td><td>275    </td><td>Cidade Vargas</td><td>3550308005093</td><td>93         </td><td>310120275</td><td>Outros                    </td><td>Terreno             </td><td>               </td><td>               </td><td>Terreno                   </td><td>38        </td><td>2023 </td><td>275 </td></tr>\n",
       "</tbody>\n",
       "</table>"
      ],
      "text/plain": [
       "#           ANO DO EXERCICIO    CODLOG DO IMOVEL    ANO DA CONSTRUCAO CORRIGIDO    QUANTIDADE DE PAVIMENTOS    TESTADA PARA CALCULO    TIPO DE USO DO IMOVEL      TIPO DE PADRAO DA CONSTRUCAO     FATOR DE OBSOLESCENCIA    area_contruida_total    NUMERO DO CONDOMINIO    AREA CONSTRUIDA    AREA OCUPADA    AREA DO TERRENO    sq      sqlc          fracao_ideal    ca                  to                  valor_terreno    valor_construcao    qd_setor    qd_fiscal    ds_codigo    ds_nome     ds_cd_sub    ds_subpref    od_id    od_nome        COD_AED        COD_AED_S    sqod       classificacao_abrangente    tipo_de_uso           padrao_de_uso    classe_de_uso    tipo_e_classe_de_uso        distrito    ano    od\n",
       "0           1995                03812-1             1924                           1                           13.0                    loja                       comercial horizontal - Padrão B  0.0                       135                     00-0                    135                0               136                001003  001003000100  1.0             0.9926470588235294  0.0                 13600.0          17415.0             001         003          9            BOM RETIRO  09           SE            7        Luz            3550308005004  4            001003007  Comercial                   Comercial horizontal  B                Baixo            Comercial horizontal Baixo  9           1995   7\n",
       "1           1995                03812-1             1944                           1                           6.0                     loja                       comercial horizontal - Padrão A  0.0                       67                      00-0                    67                 0               90                 001003  001003000200  1.0             0.7444444444444445  0.0                 9000.0           6298.0              001         003          9            BOM RETIRO  09           SE            7        Luz            3550308005004  4            001003007  Comercial                   Comercial horizontal  A                Baixo            Comercial horizontal Baixo  9           1995   7\n",
       "2           1995                03812-1             1944                           1                           8.0                     loja                       comercial horizontal - Padrão A  0.0                       85                      00-0                    85                 0               105                001003  001003000300  1.0             0.8095238095238095  0.0                 10500.0          7990.0              001         003          9            BOM RETIRO  09           SE            7        Luz            3550308005004  4            001003007  Comercial                   Comercial horizontal  A                Baixo            Comercial horizontal Baixo  9           1995   7\n",
       "3           1995                03812-1             1944                           1                           6.0                     loja                       comercial horizontal - Padrão B  0.0                       103                     00-0                    103                0               108                001003  001003000400  1.0             0.9537037037037037  0.0                 10800.0          13287.0             001         003          9            BOM RETIRO  09           SE            7        Luz            3550308005004  4            001003007  Comercial                   Comercial horizontal  B                Baixo            Comercial horizontal Baixo  9           1995   7\n",
       "4           1995                03812-1             1944                           1                           7.0                     loja                       comercial horizontal - Padrão A  0.0                       98                      00-0                    98                 0               120                001003  001003000500  1.0             0.8166666666666667  0.0                 12000.0          9212.0              001         003          9            BOM RETIRO  09           SE            7        Luz            3550308005004  4            001003007  Comercial                   Comercial horizontal  A                Baixo            Comercial horizontal Baixo  9           1995   7\n",
       "...         ...                 ...                 ...                            ...                         ...                     ...                        ...                              ...                       ...                     ...                     ...                ...             ...                ...     ...           ...             ...                 ...                 ...              ...                 ...         ...          ...          ...         ...          ...           ...      ...            ...            ...          ...        ...                         ...                   ...              ...              ...                         ...         ...    ...\n",
       "85,961,430  2023                02235-7             1978                           5                           0.0                     Apartamento em condomínio  Residencial vertical - padrão B  0.2                       25215                   01-9                    84                 5312            18041              310118  310118000001  0.0033          1.4109276345294306  0.2944404412172274  144492.1731      177660.0            310         118          38           JABAQUARA   15           JABAQUARA     275      Cidade Vargas  3550308005093  93           310118275  Residencial                 Residencial vertical  B                Baixo            Residencial vertical Baixo  38          2023   275\n",
       "85,961,431  2023                02235-7             1978                           5                           0.0                     Apartamento em condomínio  Residencial vertical - padrão B  0.2                       25215                   01-9                    84                 5312            18041              310118  310118000001  0.0033          1.4109276345294306  0.2944404412172274  144492.1731      177660.0            310         118          38           JABAQUARA   15           JABAQUARA     275      Cidade Vargas  3550308005093  93           310118275  Residencial                 Residencial vertical  B                Baixo            Residencial vertical Baixo  38          2023   275\n",
       "85,961,432  2023                02235-7             1978                           5                           0.0                     Apartamento em condomínio  Residencial vertical - padrão B  0.2                       25215                   01-9                    84                 5312            18041              310118  310118000001  0.0033          1.4109276345294306  0.2944404412172274  144492.1731      177660.0            310         118          38           JABAQUARA   15           JABAQUARA     275      Cidade Vargas  3550308005093  93           310118275  Residencial                 Residencial vertical  B                Baixo            Residencial vertical Baixo  38          2023   275\n",
       "85,961,433  2023                19137-0             0                              0                           0.0                     Terreno                    TERRENO                          0.0                       0                       00-0                    0                  0               18500              310119  310119000100  1.0             0.0                 0.0                 41939500.0       0.0                 310         119          38           JABAQUARA   15           JABAQUARA     275      Cidade Vargas  3550308005093  93           310119275  Outros                      Terreno                                                 Terreno                     38          2023   275\n",
       "85,961,434  2023                01041-3             0                              0                           500.0                   Terreno                    TERRENO                          0.0                       0                       00-0                    0                  0               18926              310120  310120000100  1.0             0.0                 0.0                 11790898.0       0.0                 310         120          38           JABAQUARA   15           JABAQUARA     275      Cidade Vargas  3550308005093  93           310120275  Outros                      Terreno                                                 Terreno                     38          2023   275"
      ]
     },
     "execution_count": 72,
     "metadata": {},
     "output_type": "execute_result"
    }
   ],
   "source": [
    "df_iptu.fillna(value='0', column_names=['od_id'], inplace=True)\n",
    "df_iptu['od'] = df_iptu['od_id'].astype('int')\n",
    "df_iptu.categorize('od', inplace=True)"
   ]
  },
  {
   "cell_type": "code",
   "execution_count": 73,
   "metadata": {},
   "outputs": [
    {
     "data": {
      "text/plain": [
       "(85961435, 39)"
      ]
     },
     "execution_count": 73,
     "metadata": {},
     "output_type": "execute_result"
    }
   ],
   "source": [
    "df_iptu.shape"
   ]
  },
  {
   "cell_type": "code",
   "execution_count": 74,
   "metadata": {},
   "outputs": [
    {
     "data": {
      "text/html": [
       "<table>\n",
       "<thead>\n",
       "<tr><th>#                                     </th><th>ANO DO EXERCICIO  </th><th>CODLOG DO IMOVEL  </th><th>ANO DA CONSTRUCAO CORRIGIDO  </th><th>QUANTIDADE DE PAVIMENTOS  </th><th>TESTADA PARA CALCULO  </th><th>TIPO DE USO DO IMOVEL    </th><th>TIPO DE PADRAO DA CONSTRUCAO   </th><th>FATOR DE OBSOLESCENCIA  </th><th>area_contruida_total  </th><th>NUMERO DO CONDOMINIO  </th><th>AREA CONSTRUIDA  </th><th>AREA OCUPADA  </th><th>AREA DO TERRENO  </th><th>sq    </th><th>sqlc        </th><th>fracao_ideal  </th><th>ca                </th><th>to                </th><th>valor_terreno  </th><th>valor_construcao  </th><th>qd_setor  </th><th>qd_fiscal  </th><th>ds_codigo  </th><th>ds_nome   </th><th>ds_cd_sub  </th><th>ds_subpref  </th><th>od_id  </th><th>od_nome      </th><th>COD_AED      </th><th>COD_AED_S  </th><th>sqod     </th><th>classificacao_abrangente  </th><th>tipo_de_uso         </th><th>padrao_de_uso  </th><th>classe_de_uso  </th><th>tipo_e_classe_de_uso      </th><th>distrito  </th><th>ano  </th><th>od  </th><th>subprefeitura  </th></tr>\n",
       "</thead>\n",
       "<tbody>\n",
       "<tr><td><i style='opacity: 0.6'>0</i>         </td><td>1995              </td><td>03812-1           </td><td>1924                         </td><td>1                         </td><td>13.0                  </td><td>loja                     </td><td>comercial horizontal - Padrão B</td><td>0.0                     </td><td>135                   </td><td>00-0                  </td><td>135              </td><td>0             </td><td>136              </td><td>001003</td><td>001003000100</td><td>1.0           </td><td>0.9926470588235294</td><td>0.0               </td><td>13600.0        </td><td>17415.0           </td><td>001       </td><td>003        </td><td>9          </td><td>BOM RETIRO</td><td>09         </td><td>SE          </td><td>7      </td><td>Luz          </td><td>3550308005004</td><td>4          </td><td>001003007</td><td>Comercial                 </td><td>Comercial horizontal</td><td>B              </td><td>Baixo          </td><td>Comercial horizontal Baixo</td><td>9         </td><td>1995 </td><td>7   </td><td>9              </td></tr>\n",
       "<tr><td><i style='opacity: 0.6'>1</i>         </td><td>1995              </td><td>03812-1           </td><td>1944                         </td><td>1                         </td><td>6.0                   </td><td>loja                     </td><td>comercial horizontal - Padrão A</td><td>0.0                     </td><td>67                    </td><td>00-0                  </td><td>67               </td><td>0             </td><td>90               </td><td>001003</td><td>001003000200</td><td>1.0           </td><td>0.7444444444444445</td><td>0.0               </td><td>9000.0         </td><td>6298.0            </td><td>001       </td><td>003        </td><td>9          </td><td>BOM RETIRO</td><td>09         </td><td>SE          </td><td>7      </td><td>Luz          </td><td>3550308005004</td><td>4          </td><td>001003007</td><td>Comercial                 </td><td>Comercial horizontal</td><td>A              </td><td>Baixo          </td><td>Comercial horizontal Baixo</td><td>9         </td><td>1995 </td><td>7   </td><td>9              </td></tr>\n",
       "<tr><td><i style='opacity: 0.6'>2</i>         </td><td>1995              </td><td>03812-1           </td><td>1944                         </td><td>1                         </td><td>8.0                   </td><td>loja                     </td><td>comercial horizontal - Padrão A</td><td>0.0                     </td><td>85                    </td><td>00-0                  </td><td>85               </td><td>0             </td><td>105              </td><td>001003</td><td>001003000300</td><td>1.0           </td><td>0.8095238095238095</td><td>0.0               </td><td>10500.0        </td><td>7990.0            </td><td>001       </td><td>003        </td><td>9          </td><td>BOM RETIRO</td><td>09         </td><td>SE          </td><td>7      </td><td>Luz          </td><td>3550308005004</td><td>4          </td><td>001003007</td><td>Comercial                 </td><td>Comercial horizontal</td><td>A              </td><td>Baixo          </td><td>Comercial horizontal Baixo</td><td>9         </td><td>1995 </td><td>7   </td><td>9              </td></tr>\n",
       "<tr><td><i style='opacity: 0.6'>3</i>         </td><td>1995              </td><td>03812-1           </td><td>1944                         </td><td>1                         </td><td>6.0                   </td><td>loja                     </td><td>comercial horizontal - Padrão B</td><td>0.0                     </td><td>103                   </td><td>00-0                  </td><td>103              </td><td>0             </td><td>108              </td><td>001003</td><td>001003000400</td><td>1.0           </td><td>0.9537037037037037</td><td>0.0               </td><td>10800.0        </td><td>13287.0           </td><td>001       </td><td>003        </td><td>9          </td><td>BOM RETIRO</td><td>09         </td><td>SE          </td><td>7      </td><td>Luz          </td><td>3550308005004</td><td>4          </td><td>001003007</td><td>Comercial                 </td><td>Comercial horizontal</td><td>B              </td><td>Baixo          </td><td>Comercial horizontal Baixo</td><td>9         </td><td>1995 </td><td>7   </td><td>9              </td></tr>\n",
       "<tr><td><i style='opacity: 0.6'>4</i>         </td><td>1995              </td><td>03812-1           </td><td>1944                         </td><td>1                         </td><td>7.0                   </td><td>loja                     </td><td>comercial horizontal - Padrão A</td><td>0.0                     </td><td>98                    </td><td>00-0                  </td><td>98               </td><td>0             </td><td>120              </td><td>001003</td><td>001003000500</td><td>1.0           </td><td>0.8166666666666667</td><td>0.0               </td><td>12000.0        </td><td>9212.0            </td><td>001       </td><td>003        </td><td>9          </td><td>BOM RETIRO</td><td>09         </td><td>SE          </td><td>7      </td><td>Luz          </td><td>3550308005004</td><td>4          </td><td>001003007</td><td>Comercial                 </td><td>Comercial horizontal</td><td>A              </td><td>Baixo          </td><td>Comercial horizontal Baixo</td><td>9         </td><td>1995 </td><td>7   </td><td>9              </td></tr>\n",
       "<tr><td>...                                   </td><td>...               </td><td>...               </td><td>...                          </td><td>...                       </td><td>...                   </td><td>...                      </td><td>...                            </td><td>...                     </td><td>...                   </td><td>...                   </td><td>...              </td><td>...           </td><td>...              </td><td>...   </td><td>...         </td><td>...           </td><td>...               </td><td>...               </td><td>...            </td><td>...               </td><td>...       </td><td>...        </td><td>...        </td><td>...       </td><td>...        </td><td>...         </td><td>...    </td><td>...          </td><td>...          </td><td>...        </td><td>...      </td><td>...                       </td><td>...                 </td><td>...            </td><td>...            </td><td>...                       </td><td>...       </td><td>...  </td><td>... </td><td>...            </td></tr>\n",
       "<tr><td><i style='opacity: 0.6'>85,961,430</i></td><td>2023              </td><td>02235-7           </td><td>1978                         </td><td>5                         </td><td>0.0                   </td><td>Apartamento em condomínio</td><td>Residencial vertical - padrão B</td><td>0.2                     </td><td>25215                 </td><td>01-9                  </td><td>84               </td><td>5312          </td><td>18041            </td><td>310118</td><td>310118000001</td><td>0.0033        </td><td>1.4109276345294306</td><td>0.2944404412172274</td><td>144492.1731    </td><td>177660.0          </td><td>310       </td><td>118        </td><td>38         </td><td>JABAQUARA </td><td>15         </td><td>JABAQUARA   </td><td>275    </td><td>Cidade Vargas</td><td>3550308005093</td><td>93         </td><td>310118275</td><td>Residencial               </td><td>Residencial vertical</td><td>B              </td><td>Baixo          </td><td>Residencial vertical Baixo</td><td>38        </td><td>2023 </td><td>275 </td><td>15             </td></tr>\n",
       "<tr><td><i style='opacity: 0.6'>85,961,431</i></td><td>2023              </td><td>02235-7           </td><td>1978                         </td><td>5                         </td><td>0.0                   </td><td>Apartamento em condomínio</td><td>Residencial vertical - padrão B</td><td>0.2                     </td><td>25215                 </td><td>01-9                  </td><td>84               </td><td>5312          </td><td>18041            </td><td>310118</td><td>310118000001</td><td>0.0033        </td><td>1.4109276345294306</td><td>0.2944404412172274</td><td>144492.1731    </td><td>177660.0          </td><td>310       </td><td>118        </td><td>38         </td><td>JABAQUARA </td><td>15         </td><td>JABAQUARA   </td><td>275    </td><td>Cidade Vargas</td><td>3550308005093</td><td>93         </td><td>310118275</td><td>Residencial               </td><td>Residencial vertical</td><td>B              </td><td>Baixo          </td><td>Residencial vertical Baixo</td><td>38        </td><td>2023 </td><td>275 </td><td>15             </td></tr>\n",
       "<tr><td><i style='opacity: 0.6'>85,961,432</i></td><td>2023              </td><td>02235-7           </td><td>1978                         </td><td>5                         </td><td>0.0                   </td><td>Apartamento em condomínio</td><td>Residencial vertical - padrão B</td><td>0.2                     </td><td>25215                 </td><td>01-9                  </td><td>84               </td><td>5312          </td><td>18041            </td><td>310118</td><td>310118000001</td><td>0.0033        </td><td>1.4109276345294306</td><td>0.2944404412172274</td><td>144492.1731    </td><td>177660.0          </td><td>310       </td><td>118        </td><td>38         </td><td>JABAQUARA </td><td>15         </td><td>JABAQUARA   </td><td>275    </td><td>Cidade Vargas</td><td>3550308005093</td><td>93         </td><td>310118275</td><td>Residencial               </td><td>Residencial vertical</td><td>B              </td><td>Baixo          </td><td>Residencial vertical Baixo</td><td>38        </td><td>2023 </td><td>275 </td><td>15             </td></tr>\n",
       "<tr><td><i style='opacity: 0.6'>85,961,433</i></td><td>2023              </td><td>19137-0           </td><td>0                            </td><td>0                         </td><td>0.0                   </td><td>Terreno                  </td><td>TERRENO                        </td><td>0.0                     </td><td>0                     </td><td>00-0                  </td><td>0                </td><td>0             </td><td>18500            </td><td>310119</td><td>310119000100</td><td>1.0           </td><td>0.0               </td><td>0.0               </td><td>41939500.0     </td><td>0.0               </td><td>310       </td><td>119        </td><td>38         </td><td>JABAQUARA </td><td>15         </td><td>JABAQUARA   </td><td>275    </td><td>Cidade Vargas</td><td>3550308005093</td><td>93         </td><td>310119275</td><td>Outros                    </td><td>Terreno             </td><td>               </td><td>               </td><td>Terreno                   </td><td>38        </td><td>2023 </td><td>275 </td><td>15             </td></tr>\n",
       "<tr><td><i style='opacity: 0.6'>85,961,434</i></td><td>2023              </td><td>01041-3           </td><td>0                            </td><td>0                         </td><td>500.0                 </td><td>Terreno                  </td><td>TERRENO                        </td><td>0.0                     </td><td>0                     </td><td>00-0                  </td><td>0                </td><td>0             </td><td>18926            </td><td>310120</td><td>310120000100</td><td>1.0           </td><td>0.0               </td><td>0.0               </td><td>11790898.0     </td><td>0.0               </td><td>310       </td><td>120        </td><td>38         </td><td>JABAQUARA </td><td>15         </td><td>JABAQUARA   </td><td>275    </td><td>Cidade Vargas</td><td>3550308005093</td><td>93         </td><td>310120275</td><td>Outros                    </td><td>Terreno             </td><td>               </td><td>               </td><td>Terreno                   </td><td>38        </td><td>2023 </td><td>275 </td><td>15             </td></tr>\n",
       "</tbody>\n",
       "</table>"
      ],
      "text/plain": [
       "#           ANO DO EXERCICIO    CODLOG DO IMOVEL    ANO DA CONSTRUCAO CORRIGIDO    QUANTIDADE DE PAVIMENTOS    TESTADA PARA CALCULO    TIPO DE USO DO IMOVEL      TIPO DE PADRAO DA CONSTRUCAO     FATOR DE OBSOLESCENCIA    area_contruida_total    NUMERO DO CONDOMINIO    AREA CONSTRUIDA    AREA OCUPADA    AREA DO TERRENO    sq      sqlc          fracao_ideal    ca                  to                  valor_terreno    valor_construcao    qd_setor    qd_fiscal    ds_codigo    ds_nome     ds_cd_sub    ds_subpref    od_id    od_nome        COD_AED        COD_AED_S    sqod       classificacao_abrangente    tipo_de_uso           padrao_de_uso    classe_de_uso    tipo_e_classe_de_uso        distrito    ano    od    subprefeitura\n",
       "0           1995                03812-1             1924                           1                           13.0                    loja                       comercial horizontal - Padrão B  0.0                       135                     00-0                    135                0               136                001003  001003000100  1.0             0.9926470588235294  0.0                 13600.0          17415.0             001         003          9            BOM RETIRO  09           SE            7        Luz            3550308005004  4            001003007  Comercial                   Comercial horizontal  B                Baixo            Comercial horizontal Baixo  9           1995   7     9\n",
       "1           1995                03812-1             1944                           1                           6.0                     loja                       comercial horizontal - Padrão A  0.0                       67                      00-0                    67                 0               90                 001003  001003000200  1.0             0.7444444444444445  0.0                 9000.0           6298.0              001         003          9            BOM RETIRO  09           SE            7        Luz            3550308005004  4            001003007  Comercial                   Comercial horizontal  A                Baixo            Comercial horizontal Baixo  9           1995   7     9\n",
       "2           1995                03812-1             1944                           1                           8.0                     loja                       comercial horizontal - Padrão A  0.0                       85                      00-0                    85                 0               105                001003  001003000300  1.0             0.8095238095238095  0.0                 10500.0          7990.0              001         003          9            BOM RETIRO  09           SE            7        Luz            3550308005004  4            001003007  Comercial                   Comercial horizontal  A                Baixo            Comercial horizontal Baixo  9           1995   7     9\n",
       "3           1995                03812-1             1944                           1                           6.0                     loja                       comercial horizontal - Padrão B  0.0                       103                     00-0                    103                0               108                001003  001003000400  1.0             0.9537037037037037  0.0                 10800.0          13287.0             001         003          9            BOM RETIRO  09           SE            7        Luz            3550308005004  4            001003007  Comercial                   Comercial horizontal  B                Baixo            Comercial horizontal Baixo  9           1995   7     9\n",
       "4           1995                03812-1             1944                           1                           7.0                     loja                       comercial horizontal - Padrão A  0.0                       98                      00-0                    98                 0               120                001003  001003000500  1.0             0.8166666666666667  0.0                 12000.0          9212.0              001         003          9            BOM RETIRO  09           SE            7        Luz            3550308005004  4            001003007  Comercial                   Comercial horizontal  A                Baixo            Comercial horizontal Baixo  9           1995   7     9\n",
       "...         ...                 ...                 ...                            ...                         ...                     ...                        ...                              ...                       ...                     ...                     ...                ...             ...                ...     ...           ...             ...                 ...                 ...              ...                 ...         ...          ...          ...         ...          ...           ...      ...            ...            ...          ...        ...                         ...                   ...              ...              ...                         ...         ...    ...   ...\n",
       "85,961,430  2023                02235-7             1978                           5                           0.0                     Apartamento em condomínio  Residencial vertical - padrão B  0.2                       25215                   01-9                    84                 5312            18041              310118  310118000001  0.0033          1.4109276345294306  0.2944404412172274  144492.1731      177660.0            310         118          38           JABAQUARA   15           JABAQUARA     275      Cidade Vargas  3550308005093  93           310118275  Residencial                 Residencial vertical  B                Baixo            Residencial vertical Baixo  38          2023   275   15\n",
       "85,961,431  2023                02235-7             1978                           5                           0.0                     Apartamento em condomínio  Residencial vertical - padrão B  0.2                       25215                   01-9                    84                 5312            18041              310118  310118000001  0.0033          1.4109276345294306  0.2944404412172274  144492.1731      177660.0            310         118          38           JABAQUARA   15           JABAQUARA     275      Cidade Vargas  3550308005093  93           310118275  Residencial                 Residencial vertical  B                Baixo            Residencial vertical Baixo  38          2023   275   15\n",
       "85,961,432  2023                02235-7             1978                           5                           0.0                     Apartamento em condomínio  Residencial vertical - padrão B  0.2                       25215                   01-9                    84                 5312            18041              310118  310118000001  0.0033          1.4109276345294306  0.2944404412172274  144492.1731      177660.0            310         118          38           JABAQUARA   15           JABAQUARA     275      Cidade Vargas  3550308005093  93           310118275  Residencial                 Residencial vertical  B                Baixo            Residencial vertical Baixo  38          2023   275   15\n",
       "85,961,433  2023                19137-0             0                              0                           0.0                     Terreno                    TERRENO                          0.0                       0                       00-0                    0                  0               18500              310119  310119000100  1.0             0.0                 0.0                 41939500.0       0.0                 310         119          38           JABAQUARA   15           JABAQUARA     275      Cidade Vargas  3550308005093  93           310119275  Outros                      Terreno                                                 Terreno                     38          2023   275   15\n",
       "85,961,434  2023                01041-3             0                              0                           500.0                   Terreno                    TERRENO                          0.0                       0                       00-0                    0                  0               18926              310120  310120000100  1.0             0.0                 0.0                 11790898.0       0.0                 310         120          38           JABAQUARA   15           JABAQUARA     275      Cidade Vargas  3550308005093  93           310120275  Outros                      Terreno                                                 Terreno                     38          2023   275   15"
      ]
     },
     "execution_count": 74,
     "metadata": {},
     "output_type": "execute_result"
    }
   ],
   "source": [
    "df_iptu.fillna(value='0', column_names=['ds_cd_sub'], inplace=True)\n",
    "df_iptu['subprefeitura'] = df_iptu['ds_cd_sub'].astype('int')\n",
    "df_iptu.categorize('subprefeitura', inplace=True)"
   ]
  },
  {
   "cell_type": "code",
   "execution_count": 75,
   "metadata": {},
   "outputs": [
    {
     "data": {
      "text/html": [
       "<table>\n",
       "<thead>\n",
       "<tr><th>#                                     </th><th>ANO DO EXERCICIO  </th><th>CODLOG DO IMOVEL  </th><th>ANO DA CONSTRUCAO CORRIGIDO  </th><th>QUANTIDADE DE PAVIMENTOS  </th><th>TESTADA PARA CALCULO  </th><th>TIPO DE USO DO IMOVEL    </th><th>TIPO DE PADRAO DA CONSTRUCAO   </th><th>FATOR DE OBSOLESCENCIA  </th><th>area_contruida_total  </th><th>NUMERO DO CONDOMINIO  </th><th>AREA CONSTRUIDA  </th><th>AREA OCUPADA  </th><th>AREA DO TERRENO  </th><th>sq    </th><th>sqlc        </th><th>fracao_ideal  </th><th>ca                </th><th>to                </th><th>valor_terreno  </th><th>valor_construcao  </th><th>qd_setor  </th><th>qd_fiscal  </th><th>ds_codigo  </th><th>ds_nome   </th><th>ds_cd_sub  </th><th>ds_subpref  </th><th>od_id  </th><th>od_nome      </th><th>COD_AED      </th><th>COD_AED_S  </th><th>sqod     </th><th>classificacao_abrangente  </th><th>tipo_de_uso         </th><th>padrao_de_uso  </th><th>classe_de_uso  </th><th>tipo_e_classe_de_uso      </th><th>distrito  </th><th>ano  </th><th>od  </th><th>subprefeitura  </th><th>censo  </th></tr>\n",
       "</thead>\n",
       "<tbody>\n",
       "<tr><td><i style='opacity: 0.6'>0</i>         </td><td>1995              </td><td>03812-1           </td><td>1924                         </td><td>1                         </td><td>13.0                  </td><td>loja                     </td><td>comercial horizontal - Padrão B</td><td>0.0                     </td><td>135                   </td><td>00-0                  </td><td>135              </td><td>0             </td><td>136              </td><td>001003</td><td>001003000100</td><td>1.0           </td><td>0.9926470588235294</td><td>0.0               </td><td>13600.0        </td><td>17415.0           </td><td>001       </td><td>003        </td><td>9          </td><td>BOM RETIRO</td><td>09         </td><td>SE          </td><td>7      </td><td>Luz          </td><td>3550308005004</td><td>4          </td><td>001003007</td><td>Comercial                 </td><td>Comercial horizontal</td><td>B              </td><td>Baixo          </td><td>Comercial horizontal Baixo</td><td>9         </td><td>1995 </td><td>7   </td><td>9              </td><td>4      </td></tr>\n",
       "<tr><td><i style='opacity: 0.6'>1</i>         </td><td>1995              </td><td>03812-1           </td><td>1944                         </td><td>1                         </td><td>6.0                   </td><td>loja                     </td><td>comercial horizontal - Padrão A</td><td>0.0                     </td><td>67                    </td><td>00-0                  </td><td>67               </td><td>0             </td><td>90               </td><td>001003</td><td>001003000200</td><td>1.0           </td><td>0.7444444444444445</td><td>0.0               </td><td>9000.0         </td><td>6298.0            </td><td>001       </td><td>003        </td><td>9          </td><td>BOM RETIRO</td><td>09         </td><td>SE          </td><td>7      </td><td>Luz          </td><td>3550308005004</td><td>4          </td><td>001003007</td><td>Comercial                 </td><td>Comercial horizontal</td><td>A              </td><td>Baixo          </td><td>Comercial horizontal Baixo</td><td>9         </td><td>1995 </td><td>7   </td><td>9              </td><td>4      </td></tr>\n",
       "<tr><td><i style='opacity: 0.6'>2</i>         </td><td>1995              </td><td>03812-1           </td><td>1944                         </td><td>1                         </td><td>8.0                   </td><td>loja                     </td><td>comercial horizontal - Padrão A</td><td>0.0                     </td><td>85                    </td><td>00-0                  </td><td>85               </td><td>0             </td><td>105              </td><td>001003</td><td>001003000300</td><td>1.0           </td><td>0.8095238095238095</td><td>0.0               </td><td>10500.0        </td><td>7990.0            </td><td>001       </td><td>003        </td><td>9          </td><td>BOM RETIRO</td><td>09         </td><td>SE          </td><td>7      </td><td>Luz          </td><td>3550308005004</td><td>4          </td><td>001003007</td><td>Comercial                 </td><td>Comercial horizontal</td><td>A              </td><td>Baixo          </td><td>Comercial horizontal Baixo</td><td>9         </td><td>1995 </td><td>7   </td><td>9              </td><td>4      </td></tr>\n",
       "<tr><td><i style='opacity: 0.6'>3</i>         </td><td>1995              </td><td>03812-1           </td><td>1944                         </td><td>1                         </td><td>6.0                   </td><td>loja                     </td><td>comercial horizontal - Padrão B</td><td>0.0                     </td><td>103                   </td><td>00-0                  </td><td>103              </td><td>0             </td><td>108              </td><td>001003</td><td>001003000400</td><td>1.0           </td><td>0.9537037037037037</td><td>0.0               </td><td>10800.0        </td><td>13287.0           </td><td>001       </td><td>003        </td><td>9          </td><td>BOM RETIRO</td><td>09         </td><td>SE          </td><td>7      </td><td>Luz          </td><td>3550308005004</td><td>4          </td><td>001003007</td><td>Comercial                 </td><td>Comercial horizontal</td><td>B              </td><td>Baixo          </td><td>Comercial horizontal Baixo</td><td>9         </td><td>1995 </td><td>7   </td><td>9              </td><td>4      </td></tr>\n",
       "<tr><td><i style='opacity: 0.6'>4</i>         </td><td>1995              </td><td>03812-1           </td><td>1944                         </td><td>1                         </td><td>7.0                   </td><td>loja                     </td><td>comercial horizontal - Padrão A</td><td>0.0                     </td><td>98                    </td><td>00-0                  </td><td>98               </td><td>0             </td><td>120              </td><td>001003</td><td>001003000500</td><td>1.0           </td><td>0.8166666666666667</td><td>0.0               </td><td>12000.0        </td><td>9212.0            </td><td>001       </td><td>003        </td><td>9          </td><td>BOM RETIRO</td><td>09         </td><td>SE          </td><td>7      </td><td>Luz          </td><td>3550308005004</td><td>4          </td><td>001003007</td><td>Comercial                 </td><td>Comercial horizontal</td><td>A              </td><td>Baixo          </td><td>Comercial horizontal Baixo</td><td>9         </td><td>1995 </td><td>7   </td><td>9              </td><td>4      </td></tr>\n",
       "<tr><td>...                                   </td><td>...               </td><td>...               </td><td>...                          </td><td>...                       </td><td>...                   </td><td>...                      </td><td>...                            </td><td>...                     </td><td>...                   </td><td>...                   </td><td>...              </td><td>...           </td><td>...              </td><td>...   </td><td>...         </td><td>...           </td><td>...               </td><td>...               </td><td>...            </td><td>...               </td><td>...       </td><td>...        </td><td>...        </td><td>...       </td><td>...        </td><td>...         </td><td>...    </td><td>...          </td><td>...          </td><td>...        </td><td>...      </td><td>...                       </td><td>...                 </td><td>...            </td><td>...            </td><td>...                       </td><td>...       </td><td>...  </td><td>... </td><td>...            </td><td>...    </td></tr>\n",
       "<tr><td><i style='opacity: 0.6'>85,961,430</i></td><td>2023              </td><td>02235-7           </td><td>1978                         </td><td>5                         </td><td>0.0                   </td><td>Apartamento em condomínio</td><td>Residencial vertical - padrão B</td><td>0.2                     </td><td>25215                 </td><td>01-9                  </td><td>84               </td><td>5312          </td><td>18041            </td><td>310118</td><td>310118000001</td><td>0.0033        </td><td>1.4109276345294306</td><td>0.2944404412172274</td><td>144492.1731    </td><td>177660.0          </td><td>310       </td><td>118        </td><td>38         </td><td>JABAQUARA </td><td>15         </td><td>JABAQUARA   </td><td>275    </td><td>Cidade Vargas</td><td>3550308005093</td><td>93         </td><td>310118275</td><td>Residencial               </td><td>Residencial vertical</td><td>B              </td><td>Baixo          </td><td>Residencial vertical Baixo</td><td>38        </td><td>2023 </td><td>275 </td><td>15             </td><td>93     </td></tr>\n",
       "<tr><td><i style='opacity: 0.6'>85,961,431</i></td><td>2023              </td><td>02235-7           </td><td>1978                         </td><td>5                         </td><td>0.0                   </td><td>Apartamento em condomínio</td><td>Residencial vertical - padrão B</td><td>0.2                     </td><td>25215                 </td><td>01-9                  </td><td>84               </td><td>5312          </td><td>18041            </td><td>310118</td><td>310118000001</td><td>0.0033        </td><td>1.4109276345294306</td><td>0.2944404412172274</td><td>144492.1731    </td><td>177660.0          </td><td>310       </td><td>118        </td><td>38         </td><td>JABAQUARA </td><td>15         </td><td>JABAQUARA   </td><td>275    </td><td>Cidade Vargas</td><td>3550308005093</td><td>93         </td><td>310118275</td><td>Residencial               </td><td>Residencial vertical</td><td>B              </td><td>Baixo          </td><td>Residencial vertical Baixo</td><td>38        </td><td>2023 </td><td>275 </td><td>15             </td><td>93     </td></tr>\n",
       "<tr><td><i style='opacity: 0.6'>85,961,432</i></td><td>2023              </td><td>02235-7           </td><td>1978                         </td><td>5                         </td><td>0.0                   </td><td>Apartamento em condomínio</td><td>Residencial vertical - padrão B</td><td>0.2                     </td><td>25215                 </td><td>01-9                  </td><td>84               </td><td>5312          </td><td>18041            </td><td>310118</td><td>310118000001</td><td>0.0033        </td><td>1.4109276345294306</td><td>0.2944404412172274</td><td>144492.1731    </td><td>177660.0          </td><td>310       </td><td>118        </td><td>38         </td><td>JABAQUARA </td><td>15         </td><td>JABAQUARA   </td><td>275    </td><td>Cidade Vargas</td><td>3550308005093</td><td>93         </td><td>310118275</td><td>Residencial               </td><td>Residencial vertical</td><td>B              </td><td>Baixo          </td><td>Residencial vertical Baixo</td><td>38        </td><td>2023 </td><td>275 </td><td>15             </td><td>93     </td></tr>\n",
       "<tr><td><i style='opacity: 0.6'>85,961,433</i></td><td>2023              </td><td>19137-0           </td><td>0                            </td><td>0                         </td><td>0.0                   </td><td>Terreno                  </td><td>TERRENO                        </td><td>0.0                     </td><td>0                     </td><td>00-0                  </td><td>0                </td><td>0             </td><td>18500            </td><td>310119</td><td>310119000100</td><td>1.0           </td><td>0.0               </td><td>0.0               </td><td>41939500.0     </td><td>0.0               </td><td>310       </td><td>119        </td><td>38         </td><td>JABAQUARA </td><td>15         </td><td>JABAQUARA   </td><td>275    </td><td>Cidade Vargas</td><td>3550308005093</td><td>93         </td><td>310119275</td><td>Outros                    </td><td>Terreno             </td><td>               </td><td>               </td><td>Terreno                   </td><td>38        </td><td>2023 </td><td>275 </td><td>15             </td><td>93     </td></tr>\n",
       "<tr><td><i style='opacity: 0.6'>85,961,434</i></td><td>2023              </td><td>01041-3           </td><td>0                            </td><td>0                         </td><td>500.0                 </td><td>Terreno                  </td><td>TERRENO                        </td><td>0.0                     </td><td>0                     </td><td>00-0                  </td><td>0                </td><td>0             </td><td>18926            </td><td>310120</td><td>310120000100</td><td>1.0           </td><td>0.0               </td><td>0.0               </td><td>11790898.0     </td><td>0.0               </td><td>310       </td><td>120        </td><td>38         </td><td>JABAQUARA </td><td>15         </td><td>JABAQUARA   </td><td>275    </td><td>Cidade Vargas</td><td>3550308005093</td><td>93         </td><td>310120275</td><td>Outros                    </td><td>Terreno             </td><td>               </td><td>               </td><td>Terreno                   </td><td>38        </td><td>2023 </td><td>275 </td><td>15             </td><td>93     </td></tr>\n",
       "</tbody>\n",
       "</table>"
      ],
      "text/plain": [
       "#           ANO DO EXERCICIO    CODLOG DO IMOVEL    ANO DA CONSTRUCAO CORRIGIDO    QUANTIDADE DE PAVIMENTOS    TESTADA PARA CALCULO    TIPO DE USO DO IMOVEL      TIPO DE PADRAO DA CONSTRUCAO     FATOR DE OBSOLESCENCIA    area_contruida_total    NUMERO DO CONDOMINIO    AREA CONSTRUIDA    AREA OCUPADA    AREA DO TERRENO    sq      sqlc          fracao_ideal    ca                  to                  valor_terreno    valor_construcao    qd_setor    qd_fiscal    ds_codigo    ds_nome     ds_cd_sub    ds_subpref    od_id    od_nome        COD_AED        COD_AED_S    sqod       classificacao_abrangente    tipo_de_uso           padrao_de_uso    classe_de_uso    tipo_e_classe_de_uso        distrito    ano    od    subprefeitura    censo\n",
       "0           1995                03812-1             1924                           1                           13.0                    loja                       comercial horizontal - Padrão B  0.0                       135                     00-0                    135                0               136                001003  001003000100  1.0             0.9926470588235294  0.0                 13600.0          17415.0             001         003          9            BOM RETIRO  09           SE            7        Luz            3550308005004  4            001003007  Comercial                   Comercial horizontal  B                Baixo            Comercial horizontal Baixo  9           1995   7     9                4\n",
       "1           1995                03812-1             1944                           1                           6.0                     loja                       comercial horizontal - Padrão A  0.0                       67                      00-0                    67                 0               90                 001003  001003000200  1.0             0.7444444444444445  0.0                 9000.0           6298.0              001         003          9            BOM RETIRO  09           SE            7        Luz            3550308005004  4            001003007  Comercial                   Comercial horizontal  A                Baixo            Comercial horizontal Baixo  9           1995   7     9                4\n",
       "2           1995                03812-1             1944                           1                           8.0                     loja                       comercial horizontal - Padrão A  0.0                       85                      00-0                    85                 0               105                001003  001003000300  1.0             0.8095238095238095  0.0                 10500.0          7990.0              001         003          9            BOM RETIRO  09           SE            7        Luz            3550308005004  4            001003007  Comercial                   Comercial horizontal  A                Baixo            Comercial horizontal Baixo  9           1995   7     9                4\n",
       "3           1995                03812-1             1944                           1                           6.0                     loja                       comercial horizontal - Padrão B  0.0                       103                     00-0                    103                0               108                001003  001003000400  1.0             0.9537037037037037  0.0                 10800.0          13287.0             001         003          9            BOM RETIRO  09           SE            7        Luz            3550308005004  4            001003007  Comercial                   Comercial horizontal  B                Baixo            Comercial horizontal Baixo  9           1995   7     9                4\n",
       "4           1995                03812-1             1944                           1                           7.0                     loja                       comercial horizontal - Padrão A  0.0                       98                      00-0                    98                 0               120                001003  001003000500  1.0             0.8166666666666667  0.0                 12000.0          9212.0              001         003          9            BOM RETIRO  09           SE            7        Luz            3550308005004  4            001003007  Comercial                   Comercial horizontal  A                Baixo            Comercial horizontal Baixo  9           1995   7     9                4\n",
       "...         ...                 ...                 ...                            ...                         ...                     ...                        ...                              ...                       ...                     ...                     ...                ...             ...                ...     ...           ...             ...                 ...                 ...              ...                 ...         ...          ...          ...         ...          ...           ...      ...            ...            ...          ...        ...                         ...                   ...              ...              ...                         ...         ...    ...   ...              ...\n",
       "85,961,430  2023                02235-7             1978                           5                           0.0                     Apartamento em condomínio  Residencial vertical - padrão B  0.2                       25215                   01-9                    84                 5312            18041              310118  310118000001  0.0033          1.4109276345294306  0.2944404412172274  144492.1731      177660.0            310         118          38           JABAQUARA   15           JABAQUARA     275      Cidade Vargas  3550308005093  93           310118275  Residencial                 Residencial vertical  B                Baixo            Residencial vertical Baixo  38          2023   275   15               93\n",
       "85,961,431  2023                02235-7             1978                           5                           0.0                     Apartamento em condomínio  Residencial vertical - padrão B  0.2                       25215                   01-9                    84                 5312            18041              310118  310118000001  0.0033          1.4109276345294306  0.2944404412172274  144492.1731      177660.0            310         118          38           JABAQUARA   15           JABAQUARA     275      Cidade Vargas  3550308005093  93           310118275  Residencial                 Residencial vertical  B                Baixo            Residencial vertical Baixo  38          2023   275   15               93\n",
       "85,961,432  2023                02235-7             1978                           5                           0.0                     Apartamento em condomínio  Residencial vertical - padrão B  0.2                       25215                   01-9                    84                 5312            18041              310118  310118000001  0.0033          1.4109276345294306  0.2944404412172274  144492.1731      177660.0            310         118          38           JABAQUARA   15           JABAQUARA     275      Cidade Vargas  3550308005093  93           310118275  Residencial                 Residencial vertical  B                Baixo            Residencial vertical Baixo  38          2023   275   15               93\n",
       "85,961,433  2023                19137-0             0                              0                           0.0                     Terreno                    TERRENO                          0.0                       0                       00-0                    0                  0               18500              310119  310119000100  1.0             0.0                 0.0                 41939500.0       0.0                 310         119          38           JABAQUARA   15           JABAQUARA     275      Cidade Vargas  3550308005093  93           310119275  Outros                      Terreno                                                 Terreno                     38          2023   275   15               93\n",
       "85,961,434  2023                01041-3             0                              0                           500.0                   Terreno                    TERRENO                          0.0                       0                       00-0                    0                  0               18926              310120  310120000100  1.0             0.0                 0.0                 11790898.0       0.0                 310         120          38           JABAQUARA   15           JABAQUARA     275      Cidade Vargas  3550308005093  93           310120275  Outros                      Terreno                                                 Terreno                     38          2023   275   15               93"
      ]
     },
     "execution_count": 75,
     "metadata": {},
     "output_type": "execute_result"
    }
   ],
   "source": [
    "df_iptu.fillna(value='0', column_names=['COD_AED_S'], inplace=True)\n",
    "df_iptu['censo'] = df_iptu['COD_AED_S'].astype('int')\n",
    "df_iptu.categorize('censo', inplace=True)"
   ]
  },
  {
   "cell_type": "code",
   "execution_count": 76,
   "metadata": {},
   "outputs": [
    {
     "data": {
      "text/html": [
       "<table>\n",
       "<thead>\n",
       "<tr><th>#                                     </th><th>ANO DO EXERCICIO  </th><th>CODLOG DO IMOVEL  </th><th>ANO DA CONSTRUCAO CORRIGIDO  </th><th>QUANTIDADE DE PAVIMENTOS  </th><th>TESTADA PARA CALCULO  </th><th>TIPO DE USO DO IMOVEL    </th><th>FATOR DE OBSOLESCENCIA  </th><th>area_contruida_total  </th><th>NUMERO DO CONDOMINIO  </th><th>AREA CONSTRUIDA  </th><th>AREA OCUPADA  </th><th>AREA DO TERRENO  </th><th>sq    </th><th>sqlc        </th><th>fracao_ideal  </th><th>ca                </th><th>to                </th><th>valor_terreno  </th><th>valor_construcao  </th><th>qd_setor  </th><th>qd_fiscal  </th><th>ds_codigo  </th><th>ds_nome   </th><th>ds_cd_sub  </th><th>ds_subpref  </th><th>od_id  </th><th>od_nome      </th><th>COD_AED      </th><th>COD_AED_S  </th><th>sqod     </th><th>classificacao_abrangente  </th><th>tipo_de_uso         </th><th>padrao_de_uso  </th><th>classe_de_uso  </th><th>tipo_e_classe_de_uso      </th><th>distrito  </th><th>ano  </th><th>od  </th><th>subprefeitura  </th><th>censo  </th></tr>\n",
       "</thead>\n",
       "<tbody>\n",
       "<tr><td><i style='opacity: 0.6'>0</i>         </td><td>1995              </td><td>03812-1           </td><td>1924                         </td><td>1                         </td><td>13.0                  </td><td>loja                     </td><td>0.0                     </td><td>135                   </td><td>00-0                  </td><td>135              </td><td>0             </td><td>136              </td><td>001003</td><td>001003000100</td><td>1.0           </td><td>0.9926470588235294</td><td>0.0               </td><td>13600.0        </td><td>17415.0           </td><td>001       </td><td>003        </td><td>9          </td><td>BOM RETIRO</td><td>09         </td><td>SE          </td><td>7      </td><td>Luz          </td><td>3550308005004</td><td>4          </td><td>001003007</td><td>Comercial                 </td><td>Comercial horizontal</td><td>B              </td><td>Baixo          </td><td>Comercial horizontal Baixo</td><td>9         </td><td>1995 </td><td>7   </td><td>9              </td><td>4      </td></tr>\n",
       "<tr><td><i style='opacity: 0.6'>1</i>         </td><td>1995              </td><td>03812-1           </td><td>1944                         </td><td>1                         </td><td>6.0                   </td><td>loja                     </td><td>0.0                     </td><td>67                    </td><td>00-0                  </td><td>67               </td><td>0             </td><td>90               </td><td>001003</td><td>001003000200</td><td>1.0           </td><td>0.7444444444444445</td><td>0.0               </td><td>9000.0         </td><td>6298.0            </td><td>001       </td><td>003        </td><td>9          </td><td>BOM RETIRO</td><td>09         </td><td>SE          </td><td>7      </td><td>Luz          </td><td>3550308005004</td><td>4          </td><td>001003007</td><td>Comercial                 </td><td>Comercial horizontal</td><td>A              </td><td>Baixo          </td><td>Comercial horizontal Baixo</td><td>9         </td><td>1995 </td><td>7   </td><td>9              </td><td>4      </td></tr>\n",
       "<tr><td><i style='opacity: 0.6'>2</i>         </td><td>1995              </td><td>03812-1           </td><td>1944                         </td><td>1                         </td><td>8.0                   </td><td>loja                     </td><td>0.0                     </td><td>85                    </td><td>00-0                  </td><td>85               </td><td>0             </td><td>105              </td><td>001003</td><td>001003000300</td><td>1.0           </td><td>0.8095238095238095</td><td>0.0               </td><td>10500.0        </td><td>7990.0            </td><td>001       </td><td>003        </td><td>9          </td><td>BOM RETIRO</td><td>09         </td><td>SE          </td><td>7      </td><td>Luz          </td><td>3550308005004</td><td>4          </td><td>001003007</td><td>Comercial                 </td><td>Comercial horizontal</td><td>A              </td><td>Baixo          </td><td>Comercial horizontal Baixo</td><td>9         </td><td>1995 </td><td>7   </td><td>9              </td><td>4      </td></tr>\n",
       "<tr><td><i style='opacity: 0.6'>3</i>         </td><td>1995              </td><td>03812-1           </td><td>1944                         </td><td>1                         </td><td>6.0                   </td><td>loja                     </td><td>0.0                     </td><td>103                   </td><td>00-0                  </td><td>103              </td><td>0             </td><td>108              </td><td>001003</td><td>001003000400</td><td>1.0           </td><td>0.9537037037037037</td><td>0.0               </td><td>10800.0        </td><td>13287.0           </td><td>001       </td><td>003        </td><td>9          </td><td>BOM RETIRO</td><td>09         </td><td>SE          </td><td>7      </td><td>Luz          </td><td>3550308005004</td><td>4          </td><td>001003007</td><td>Comercial                 </td><td>Comercial horizontal</td><td>B              </td><td>Baixo          </td><td>Comercial horizontal Baixo</td><td>9         </td><td>1995 </td><td>7   </td><td>9              </td><td>4      </td></tr>\n",
       "<tr><td><i style='opacity: 0.6'>4</i>         </td><td>1995              </td><td>03812-1           </td><td>1944                         </td><td>1                         </td><td>7.0                   </td><td>loja                     </td><td>0.0                     </td><td>98                    </td><td>00-0                  </td><td>98               </td><td>0             </td><td>120              </td><td>001003</td><td>001003000500</td><td>1.0           </td><td>0.8166666666666667</td><td>0.0               </td><td>12000.0        </td><td>9212.0            </td><td>001       </td><td>003        </td><td>9          </td><td>BOM RETIRO</td><td>09         </td><td>SE          </td><td>7      </td><td>Luz          </td><td>3550308005004</td><td>4          </td><td>001003007</td><td>Comercial                 </td><td>Comercial horizontal</td><td>A              </td><td>Baixo          </td><td>Comercial horizontal Baixo</td><td>9         </td><td>1995 </td><td>7   </td><td>9              </td><td>4      </td></tr>\n",
       "<tr><td>...                                   </td><td>...               </td><td>...               </td><td>...                          </td><td>...                       </td><td>...                   </td><td>...                      </td><td>...                     </td><td>...                   </td><td>...                   </td><td>...              </td><td>...           </td><td>...              </td><td>...   </td><td>...         </td><td>...           </td><td>...               </td><td>...               </td><td>...            </td><td>...               </td><td>...       </td><td>...        </td><td>...        </td><td>...       </td><td>...        </td><td>...         </td><td>...    </td><td>...          </td><td>...          </td><td>...        </td><td>...      </td><td>...                       </td><td>...                 </td><td>...            </td><td>...            </td><td>...                       </td><td>...       </td><td>...  </td><td>... </td><td>...            </td><td>...    </td></tr>\n",
       "<tr><td><i style='opacity: 0.6'>85,961,430</i></td><td>2023              </td><td>02235-7           </td><td>1978                         </td><td>5                         </td><td>0.0                   </td><td>Apartamento em condomínio</td><td>0.2                     </td><td>25215                 </td><td>01-9                  </td><td>84               </td><td>5312          </td><td>18041            </td><td>310118</td><td>310118000001</td><td>0.0033        </td><td>1.4109276345294306</td><td>0.2944404412172274</td><td>144492.1731    </td><td>177660.0          </td><td>310       </td><td>118        </td><td>38         </td><td>JABAQUARA </td><td>15         </td><td>JABAQUARA   </td><td>275    </td><td>Cidade Vargas</td><td>3550308005093</td><td>93         </td><td>310118275</td><td>Residencial               </td><td>Residencial vertical</td><td>B              </td><td>Baixo          </td><td>Residencial vertical Baixo</td><td>38        </td><td>2023 </td><td>275 </td><td>15             </td><td>93     </td></tr>\n",
       "<tr><td><i style='opacity: 0.6'>85,961,431</i></td><td>2023              </td><td>02235-7           </td><td>1978                         </td><td>5                         </td><td>0.0                   </td><td>Apartamento em condomínio</td><td>0.2                     </td><td>25215                 </td><td>01-9                  </td><td>84               </td><td>5312          </td><td>18041            </td><td>310118</td><td>310118000001</td><td>0.0033        </td><td>1.4109276345294306</td><td>0.2944404412172274</td><td>144492.1731    </td><td>177660.0          </td><td>310       </td><td>118        </td><td>38         </td><td>JABAQUARA </td><td>15         </td><td>JABAQUARA   </td><td>275    </td><td>Cidade Vargas</td><td>3550308005093</td><td>93         </td><td>310118275</td><td>Residencial               </td><td>Residencial vertical</td><td>B              </td><td>Baixo          </td><td>Residencial vertical Baixo</td><td>38        </td><td>2023 </td><td>275 </td><td>15             </td><td>93     </td></tr>\n",
       "<tr><td><i style='opacity: 0.6'>85,961,432</i></td><td>2023              </td><td>02235-7           </td><td>1978                         </td><td>5                         </td><td>0.0                   </td><td>Apartamento em condomínio</td><td>0.2                     </td><td>25215                 </td><td>01-9                  </td><td>84               </td><td>5312          </td><td>18041            </td><td>310118</td><td>310118000001</td><td>0.0033        </td><td>1.4109276345294306</td><td>0.2944404412172274</td><td>144492.1731    </td><td>177660.0          </td><td>310       </td><td>118        </td><td>38         </td><td>JABAQUARA </td><td>15         </td><td>JABAQUARA   </td><td>275    </td><td>Cidade Vargas</td><td>3550308005093</td><td>93         </td><td>310118275</td><td>Residencial               </td><td>Residencial vertical</td><td>B              </td><td>Baixo          </td><td>Residencial vertical Baixo</td><td>38        </td><td>2023 </td><td>275 </td><td>15             </td><td>93     </td></tr>\n",
       "<tr><td><i style='opacity: 0.6'>85,961,433</i></td><td>2023              </td><td>19137-0           </td><td>0                            </td><td>0                         </td><td>0.0                   </td><td>Terreno                  </td><td>0.0                     </td><td>0                     </td><td>00-0                  </td><td>0                </td><td>0             </td><td>18500            </td><td>310119</td><td>310119000100</td><td>1.0           </td><td>0.0               </td><td>0.0               </td><td>41939500.0     </td><td>0.0               </td><td>310       </td><td>119        </td><td>38         </td><td>JABAQUARA </td><td>15         </td><td>JABAQUARA   </td><td>275    </td><td>Cidade Vargas</td><td>3550308005093</td><td>93         </td><td>310119275</td><td>Outros                    </td><td>Terreno             </td><td>               </td><td>               </td><td>Terreno                   </td><td>38        </td><td>2023 </td><td>275 </td><td>15             </td><td>93     </td></tr>\n",
       "<tr><td><i style='opacity: 0.6'>85,961,434</i></td><td>2023              </td><td>01041-3           </td><td>0                            </td><td>0                         </td><td>500.0                 </td><td>Terreno                  </td><td>0.0                     </td><td>0                     </td><td>00-0                  </td><td>0                </td><td>0             </td><td>18926            </td><td>310120</td><td>310120000100</td><td>1.0           </td><td>0.0               </td><td>0.0               </td><td>11790898.0     </td><td>0.0               </td><td>310       </td><td>120        </td><td>38         </td><td>JABAQUARA </td><td>15         </td><td>JABAQUARA   </td><td>275    </td><td>Cidade Vargas</td><td>3550308005093</td><td>93         </td><td>310120275</td><td>Outros                    </td><td>Terreno             </td><td>               </td><td>               </td><td>Terreno                   </td><td>38        </td><td>2023 </td><td>275 </td><td>15             </td><td>93     </td></tr>\n",
       "</tbody>\n",
       "</table>"
      ],
      "text/plain": [
       "#           ANO DO EXERCICIO    CODLOG DO IMOVEL    ANO DA CONSTRUCAO CORRIGIDO    QUANTIDADE DE PAVIMENTOS    TESTADA PARA CALCULO    TIPO DE USO DO IMOVEL      FATOR DE OBSOLESCENCIA    area_contruida_total    NUMERO DO CONDOMINIO    AREA CONSTRUIDA    AREA OCUPADA    AREA DO TERRENO    sq      sqlc          fracao_ideal    ca                  to                  valor_terreno    valor_construcao    qd_setor    qd_fiscal    ds_codigo    ds_nome     ds_cd_sub    ds_subpref    od_id    od_nome        COD_AED        COD_AED_S    sqod       classificacao_abrangente    tipo_de_uso           padrao_de_uso    classe_de_uso    tipo_e_classe_de_uso        distrito    ano    od    subprefeitura    censo\n",
       "0           1995                03812-1             1924                           1                           13.0                    loja                       0.0                       135                     00-0                    135                0               136                001003  001003000100  1.0             0.9926470588235294  0.0                 13600.0          17415.0             001         003          9            BOM RETIRO  09           SE            7        Luz            3550308005004  4            001003007  Comercial                   Comercial horizontal  B                Baixo            Comercial horizontal Baixo  9           1995   7     9                4\n",
       "1           1995                03812-1             1944                           1                           6.0                     loja                       0.0                       67                      00-0                    67                 0               90                 001003  001003000200  1.0             0.7444444444444445  0.0                 9000.0           6298.0              001         003          9            BOM RETIRO  09           SE            7        Luz            3550308005004  4            001003007  Comercial                   Comercial horizontal  A                Baixo            Comercial horizontal Baixo  9           1995   7     9                4\n",
       "2           1995                03812-1             1944                           1                           8.0                     loja                       0.0                       85                      00-0                    85                 0               105                001003  001003000300  1.0             0.8095238095238095  0.0                 10500.0          7990.0              001         003          9            BOM RETIRO  09           SE            7        Luz            3550308005004  4            001003007  Comercial                   Comercial horizontal  A                Baixo            Comercial horizontal Baixo  9           1995   7     9                4\n",
       "3           1995                03812-1             1944                           1                           6.0                     loja                       0.0                       103                     00-0                    103                0               108                001003  001003000400  1.0             0.9537037037037037  0.0                 10800.0          13287.0             001         003          9            BOM RETIRO  09           SE            7        Luz            3550308005004  4            001003007  Comercial                   Comercial horizontal  B                Baixo            Comercial horizontal Baixo  9           1995   7     9                4\n",
       "4           1995                03812-1             1944                           1                           7.0                     loja                       0.0                       98                      00-0                    98                 0               120                001003  001003000500  1.0             0.8166666666666667  0.0                 12000.0          9212.0              001         003          9            BOM RETIRO  09           SE            7        Luz            3550308005004  4            001003007  Comercial                   Comercial horizontal  A                Baixo            Comercial horizontal Baixo  9           1995   7     9                4\n",
       "...         ...                 ...                 ...                            ...                         ...                     ...                        ...                       ...                     ...                     ...                ...             ...                ...     ...           ...             ...                 ...                 ...              ...                 ...         ...          ...          ...         ...          ...           ...      ...            ...            ...          ...        ...                         ...                   ...              ...              ...                         ...         ...    ...   ...              ...\n",
       "85,961,430  2023                02235-7             1978                           5                           0.0                     Apartamento em condomínio  0.2                       25215                   01-9                    84                 5312            18041              310118  310118000001  0.0033          1.4109276345294306  0.2944404412172274  144492.1731      177660.0            310         118          38           JABAQUARA   15           JABAQUARA     275      Cidade Vargas  3550308005093  93           310118275  Residencial                 Residencial vertical  B                Baixo            Residencial vertical Baixo  38          2023   275   15               93\n",
       "85,961,431  2023                02235-7             1978                           5                           0.0                     Apartamento em condomínio  0.2                       25215                   01-9                    84                 5312            18041              310118  310118000001  0.0033          1.4109276345294306  0.2944404412172274  144492.1731      177660.0            310         118          38           JABAQUARA   15           JABAQUARA     275      Cidade Vargas  3550308005093  93           310118275  Residencial                 Residencial vertical  B                Baixo            Residencial vertical Baixo  38          2023   275   15               93\n",
       "85,961,432  2023                02235-7             1978                           5                           0.0                     Apartamento em condomínio  0.2                       25215                   01-9                    84                 5312            18041              310118  310118000001  0.0033          1.4109276345294306  0.2944404412172274  144492.1731      177660.0            310         118          38           JABAQUARA   15           JABAQUARA     275      Cidade Vargas  3550308005093  93           310118275  Residencial                 Residencial vertical  B                Baixo            Residencial vertical Baixo  38          2023   275   15               93\n",
       "85,961,433  2023                19137-0             0                              0                           0.0                     Terreno                    0.0                       0                       00-0                    0                  0               18500              310119  310119000100  1.0             0.0                 0.0                 41939500.0       0.0                 310         119          38           JABAQUARA   15           JABAQUARA     275      Cidade Vargas  3550308005093  93           310119275  Outros                      Terreno                                                 Terreno                     38          2023   275   15               93\n",
       "85,961,434  2023                01041-3             0                              0                           500.0                   Terreno                    0.0                       0                       00-0                    0                  0               18926              310120  310120000100  1.0             0.0                 0.0                 11790898.0       0.0                 310         120          38           JABAQUARA   15           JABAQUARA     275      Cidade Vargas  3550308005093  93           310120275  Outros                      Terreno                                                 Terreno                     38          2023   275   15               93"
      ]
     },
     "execution_count": 76,
     "metadata": {},
     "output_type": "execute_result"
    }
   ],
   "source": [
    "# seila = df_iptu['classe_de_uso'] == 'Residencial vertical Baixo'\n",
    "# df_iptu[seila]\n",
    "df_iptu.drop(columns=['TIPO DE PADRAO DA CONSTRUCAO'], inplace=True)"
   ]
  },
  {
   "cell_type": "code",
   "execution_count": 77,
   "metadata": {},
   "outputs": [],
   "source": [
    "padroes_usos = df_padroes_usos['tipo_e_classe_de_uso'].unique()"
   ]
  },
  {
   "cell_type": "code",
   "execution_count": 78,
   "metadata": {},
   "outputs": [],
   "source": [
    "# for p in padroes_usos:\n",
    "#     print(p)\n",
    "\n",
    "padroes = [\n",
    "    'Residencial vertical Baixo',\n",
    "    'Residencial vertical Médio',\n",
    "    'Residencial vertical Alto',\n",
    "    'Residencial horizontal Baixo',\n",
    "    'Residencial horizontal Médio',\n",
    "    'Residencial horizontal Alto',\n",
    "    'Comercial vertical Baixo',\n",
    "    'Comercial vertical Médio',\n",
    "    'Comercial vertical Alto',\n",
    "    'Comercial horizontal Baixo',\n",
    "    'Comercial horizontal Alto',\n",
    "    'Comercial horizontal Médio',\n",
    "    'Terreno',\n",
    "    'Outros Usos',\n",
    "]"
   ]
  },
  {
   "cell_type": "code",
   "execution_count": 79,
   "metadata": {},
   "outputs": [],
   "source": [
    "df = df_iptu"
   ]
  },
  {
   "cell_type": "code",
   "execution_count": 80,
   "metadata": {},
   "outputs": [],
   "source": [
    "agg = {\n",
    "    'Quantidade de Unidades': 'count', \n",
    "    'Quantidade de Unidades Condominiais': vaex.agg.count('sqlc',\n",
    "                                                    selection=df['NUMERO DO CONDOMINIO'] != '00-0'),\n",
    "    'Tamanho Médio da Unidade Condominial': vaex.agg.mean('AREA CONSTRUIDA', \n",
    "                                                    selection=df['NUMERO DO CONDOMINIO'] != '00-0'),\n",
    "    'Tamanho médio dos Terrenos': vaex.agg.mean('AREA DO TERRENO'),\n",
    "    'Área Total dos terrenos-lotes': vaex.agg.sum('AREA DO TERRENO'),\n",
    "    'Área Total Ocupada': vaex.agg.sum('AREA OCUPADA'),\n",
    "    'Área Total Construída':vaex.agg.sum('AREA CONSTRUIDA'),\n",
    "    'Valor Total dos Terrenos': vaex.agg.sum('valor_terreno'),\n",
    "    'Valor Total das Construções': vaex.agg.sum('valor_construcao'),\n",
    "    'CA médio': vaex.agg.mean('ca'),\n",
    "    'TO médio': vaex.agg.mean('to'),\n",
    "    'CA médio em lotes condominiais': vaex.agg.mean('ca',\n",
    "                                                    selection=df['NUMERO DO CONDOMINIO'] != '00-0'),\n",
    "    'TO médio em lotes condominiais': vaex.agg.mean('to',\n",
    "                                                    selection=df['NUMERO DO CONDOMINIO'] != '00-0'),\n",
    "    'CA médio em lotes não condominiais': vaex.agg.mean('ca',\n",
    "                                                    selection=df['NUMERO DO CONDOMINIO'] == '00-0'),\n",
    "    'TO médio em lotes não condominiais': vaex.agg.mean('to',\n",
    "                                                    selection=df['NUMERO DO CONDOMINIO'] == '00-0'),\n",
    "    'Comprimento Médio da Testada': vaex.agg.mean('TESTADA PARA CALCULO'),\n",
    "    'Número médio de Pavimentos': vaex.agg.mean('QUANTIDADE DE PAVIMENTOS'),\n",
    "    'Fator de obsolecência médio': vaex.agg.mean('FATOR DE OBSOLESCENCIA'),\n",
    "}"
   ]
  },
  {
   "cell_type": "code",
   "execution_count": 81,
   "metadata": {},
   "outputs": [
    {
     "data": {
      "text/html": [
       "<table>\n",
       "<thead>\n",
       "<tr><th>#                                     </th><th>ANO DO EXERCICIO  </th><th>CODLOG DO IMOVEL  </th><th>ANO DA CONSTRUCAO CORRIGIDO  </th><th>QUANTIDADE DE PAVIMENTOS  </th><th>TESTADA PARA CALCULO  </th><th>TIPO DE USO DO IMOVEL    </th><th>FATOR DE OBSOLESCENCIA  </th><th>area_contruida_total  </th><th>NUMERO DO CONDOMINIO  </th><th>AREA CONSTRUIDA  </th><th>AREA OCUPADA  </th><th>AREA DO TERRENO  </th><th>sq    </th><th>sqlc        </th><th>fracao_ideal  </th><th>ca                </th><th>to                </th><th>valor_terreno  </th><th>valor_construcao  </th><th>qd_setor  </th><th>qd_fiscal  </th><th>ds_codigo  </th><th>ds_nome   </th><th>ds_cd_sub  </th><th>ds_subpref  </th><th>od_id  </th><th>od_nome      </th><th>COD_AED      </th><th>COD_AED_S  </th><th>sqod     </th><th>classificacao_abrangente  </th><th>tipo_de_uso         </th><th>padrao_de_uso  </th><th>classe_de_uso  </th><th>tipo_e_classe_de_uso      </th><th>distrito  </th><th>ano  </th><th>od  </th><th>subprefeitura  </th><th>censo  </th></tr>\n",
       "</thead>\n",
       "<tbody>\n",
       "<tr><td><i style='opacity: 0.6'>0</i>         </td><td>1995              </td><td>03812-1           </td><td>1924                         </td><td>1                         </td><td>13.0                  </td><td>loja                     </td><td>0.0                     </td><td>135                   </td><td>00-0                  </td><td>135              </td><td>0             </td><td>136              </td><td>001003</td><td>001003000100</td><td>1.0           </td><td>0.9926470588235294</td><td>0.0               </td><td>13600.0        </td><td>17415.0           </td><td>001       </td><td>003        </td><td>9          </td><td>BOM RETIRO</td><td>09         </td><td>SE          </td><td>7      </td><td>Luz          </td><td>3550308005004</td><td>4          </td><td>001003007</td><td>Comercial                 </td><td>Comercial horizontal</td><td>B              </td><td>Baixo          </td><td>Comercial horizontal Baixo</td><td>9         </td><td>1995 </td><td>7   </td><td>9              </td><td>4      </td></tr>\n",
       "<tr><td><i style='opacity: 0.6'>1</i>         </td><td>1995              </td><td>03812-1           </td><td>1944                         </td><td>1                         </td><td>6.0                   </td><td>loja                     </td><td>0.0                     </td><td>67                    </td><td>00-0                  </td><td>67               </td><td>0             </td><td>90               </td><td>001003</td><td>001003000200</td><td>1.0           </td><td>0.7444444444444445</td><td>0.0               </td><td>9000.0         </td><td>6298.0            </td><td>001       </td><td>003        </td><td>9          </td><td>BOM RETIRO</td><td>09         </td><td>SE          </td><td>7      </td><td>Luz          </td><td>3550308005004</td><td>4          </td><td>001003007</td><td>Comercial                 </td><td>Comercial horizontal</td><td>A              </td><td>Baixo          </td><td>Comercial horizontal Baixo</td><td>9         </td><td>1995 </td><td>7   </td><td>9              </td><td>4      </td></tr>\n",
       "<tr><td><i style='opacity: 0.6'>2</i>         </td><td>1995              </td><td>03812-1           </td><td>1944                         </td><td>1                         </td><td>8.0                   </td><td>loja                     </td><td>0.0                     </td><td>85                    </td><td>00-0                  </td><td>85               </td><td>0             </td><td>105              </td><td>001003</td><td>001003000300</td><td>1.0           </td><td>0.8095238095238095</td><td>0.0               </td><td>10500.0        </td><td>7990.0            </td><td>001       </td><td>003        </td><td>9          </td><td>BOM RETIRO</td><td>09         </td><td>SE          </td><td>7      </td><td>Luz          </td><td>3550308005004</td><td>4          </td><td>001003007</td><td>Comercial                 </td><td>Comercial horizontal</td><td>A              </td><td>Baixo          </td><td>Comercial horizontal Baixo</td><td>9         </td><td>1995 </td><td>7   </td><td>9              </td><td>4      </td></tr>\n",
       "<tr><td><i style='opacity: 0.6'>3</i>         </td><td>1995              </td><td>03812-1           </td><td>1944                         </td><td>1                         </td><td>6.0                   </td><td>loja                     </td><td>0.0                     </td><td>103                   </td><td>00-0                  </td><td>103              </td><td>0             </td><td>108              </td><td>001003</td><td>001003000400</td><td>1.0           </td><td>0.9537037037037037</td><td>0.0               </td><td>10800.0        </td><td>13287.0           </td><td>001       </td><td>003        </td><td>9          </td><td>BOM RETIRO</td><td>09         </td><td>SE          </td><td>7      </td><td>Luz          </td><td>3550308005004</td><td>4          </td><td>001003007</td><td>Comercial                 </td><td>Comercial horizontal</td><td>B              </td><td>Baixo          </td><td>Comercial horizontal Baixo</td><td>9         </td><td>1995 </td><td>7   </td><td>9              </td><td>4      </td></tr>\n",
       "<tr><td><i style='opacity: 0.6'>4</i>         </td><td>1995              </td><td>03812-1           </td><td>1944                         </td><td>1                         </td><td>7.0                   </td><td>loja                     </td><td>0.0                     </td><td>98                    </td><td>00-0                  </td><td>98               </td><td>0             </td><td>120              </td><td>001003</td><td>001003000500</td><td>1.0           </td><td>0.8166666666666667</td><td>0.0               </td><td>12000.0        </td><td>9212.0            </td><td>001       </td><td>003        </td><td>9          </td><td>BOM RETIRO</td><td>09         </td><td>SE          </td><td>7      </td><td>Luz          </td><td>3550308005004</td><td>4          </td><td>001003007</td><td>Comercial                 </td><td>Comercial horizontal</td><td>A              </td><td>Baixo          </td><td>Comercial horizontal Baixo</td><td>9         </td><td>1995 </td><td>7   </td><td>9              </td><td>4      </td></tr>\n",
       "<tr><td>...                                   </td><td>...               </td><td>...               </td><td>...                          </td><td>...                       </td><td>...                   </td><td>...                      </td><td>...                     </td><td>...                   </td><td>...                   </td><td>...              </td><td>...           </td><td>...              </td><td>...   </td><td>...         </td><td>...           </td><td>...               </td><td>...               </td><td>...            </td><td>...               </td><td>...       </td><td>...        </td><td>...        </td><td>...       </td><td>...        </td><td>...         </td><td>...    </td><td>...          </td><td>...          </td><td>...        </td><td>...      </td><td>...                       </td><td>...                 </td><td>...            </td><td>...            </td><td>...                       </td><td>...       </td><td>...  </td><td>... </td><td>...            </td><td>...    </td></tr>\n",
       "<tr><td><i style='opacity: 0.6'>85,961,430</i></td><td>2023              </td><td>02235-7           </td><td>1978                         </td><td>5                         </td><td>0.0                   </td><td>Apartamento em condomínio</td><td>0.2                     </td><td>25215                 </td><td>01-9                  </td><td>84               </td><td>5312          </td><td>18041            </td><td>310118</td><td>310118000001</td><td>0.0033        </td><td>1.4109276345294306</td><td>0.2944404412172274</td><td>144492.1731    </td><td>177660.0          </td><td>310       </td><td>118        </td><td>38         </td><td>JABAQUARA </td><td>15         </td><td>JABAQUARA   </td><td>275    </td><td>Cidade Vargas</td><td>3550308005093</td><td>93         </td><td>310118275</td><td>Residencial               </td><td>Residencial vertical</td><td>B              </td><td>Baixo          </td><td>Residencial vertical Baixo</td><td>38        </td><td>2023 </td><td>275 </td><td>15             </td><td>93     </td></tr>\n",
       "<tr><td><i style='opacity: 0.6'>85,961,431</i></td><td>2023              </td><td>02235-7           </td><td>1978                         </td><td>5                         </td><td>0.0                   </td><td>Apartamento em condomínio</td><td>0.2                     </td><td>25215                 </td><td>01-9                  </td><td>84               </td><td>5312          </td><td>18041            </td><td>310118</td><td>310118000001</td><td>0.0033        </td><td>1.4109276345294306</td><td>0.2944404412172274</td><td>144492.1731    </td><td>177660.0          </td><td>310       </td><td>118        </td><td>38         </td><td>JABAQUARA </td><td>15         </td><td>JABAQUARA   </td><td>275    </td><td>Cidade Vargas</td><td>3550308005093</td><td>93         </td><td>310118275</td><td>Residencial               </td><td>Residencial vertical</td><td>B              </td><td>Baixo          </td><td>Residencial vertical Baixo</td><td>38        </td><td>2023 </td><td>275 </td><td>15             </td><td>93     </td></tr>\n",
       "<tr><td><i style='opacity: 0.6'>85,961,432</i></td><td>2023              </td><td>02235-7           </td><td>1978                         </td><td>5                         </td><td>0.0                   </td><td>Apartamento em condomínio</td><td>0.2                     </td><td>25215                 </td><td>01-9                  </td><td>84               </td><td>5312          </td><td>18041            </td><td>310118</td><td>310118000001</td><td>0.0033        </td><td>1.4109276345294306</td><td>0.2944404412172274</td><td>144492.1731    </td><td>177660.0          </td><td>310       </td><td>118        </td><td>38         </td><td>JABAQUARA </td><td>15         </td><td>JABAQUARA   </td><td>275    </td><td>Cidade Vargas</td><td>3550308005093</td><td>93         </td><td>310118275</td><td>Residencial               </td><td>Residencial vertical</td><td>B              </td><td>Baixo          </td><td>Residencial vertical Baixo</td><td>38        </td><td>2023 </td><td>275 </td><td>15             </td><td>93     </td></tr>\n",
       "<tr><td><i style='opacity: 0.6'>85,961,433</i></td><td>2023              </td><td>19137-0           </td><td>0                            </td><td>0                         </td><td>0.0                   </td><td>Terreno                  </td><td>0.0                     </td><td>0                     </td><td>00-0                  </td><td>0                </td><td>0             </td><td>18500            </td><td>310119</td><td>310119000100</td><td>1.0           </td><td>0.0               </td><td>0.0               </td><td>41939500.0     </td><td>0.0               </td><td>310       </td><td>119        </td><td>38         </td><td>JABAQUARA </td><td>15         </td><td>JABAQUARA   </td><td>275    </td><td>Cidade Vargas</td><td>3550308005093</td><td>93         </td><td>310119275</td><td>Outros                    </td><td>Terreno             </td><td>               </td><td>               </td><td>Terreno                   </td><td>38        </td><td>2023 </td><td>275 </td><td>15             </td><td>93     </td></tr>\n",
       "<tr><td><i style='opacity: 0.6'>85,961,434</i></td><td>2023              </td><td>01041-3           </td><td>0                            </td><td>0                         </td><td>500.0                 </td><td>Terreno                  </td><td>0.0                     </td><td>0                     </td><td>00-0                  </td><td>0                </td><td>0             </td><td>18926            </td><td>310120</td><td>310120000100</td><td>1.0           </td><td>0.0               </td><td>0.0               </td><td>11790898.0     </td><td>0.0               </td><td>310       </td><td>120        </td><td>38         </td><td>JABAQUARA </td><td>15         </td><td>JABAQUARA   </td><td>275    </td><td>Cidade Vargas</td><td>3550308005093</td><td>93         </td><td>310120275</td><td>Outros                    </td><td>Terreno             </td><td>               </td><td>               </td><td>Terreno                   </td><td>38        </td><td>2023 </td><td>275 </td><td>15             </td><td>93     </td></tr>\n",
       "</tbody>\n",
       "</table>"
      ],
      "text/plain": [
       "#           ANO DO EXERCICIO    CODLOG DO IMOVEL    ANO DA CONSTRUCAO CORRIGIDO    QUANTIDADE DE PAVIMENTOS    TESTADA PARA CALCULO    TIPO DE USO DO IMOVEL      FATOR DE OBSOLESCENCIA    area_contruida_total    NUMERO DO CONDOMINIO    AREA CONSTRUIDA    AREA OCUPADA    AREA DO TERRENO    sq      sqlc          fracao_ideal    ca                  to                  valor_terreno    valor_construcao    qd_setor    qd_fiscal    ds_codigo    ds_nome     ds_cd_sub    ds_subpref    od_id    od_nome        COD_AED        COD_AED_S    sqod       classificacao_abrangente    tipo_de_uso           padrao_de_uso    classe_de_uso    tipo_e_classe_de_uso        distrito    ano    od    subprefeitura    censo\n",
       "0           1995                03812-1             1924                           1                           13.0                    loja                       0.0                       135                     00-0                    135                0               136                001003  001003000100  1.0             0.9926470588235294  0.0                 13600.0          17415.0             001         003          9            BOM RETIRO  09           SE            7        Luz            3550308005004  4            001003007  Comercial                   Comercial horizontal  B                Baixo            Comercial horizontal Baixo  9           1995   7     9                4\n",
       "1           1995                03812-1             1944                           1                           6.0                     loja                       0.0                       67                      00-0                    67                 0               90                 001003  001003000200  1.0             0.7444444444444445  0.0                 9000.0           6298.0              001         003          9            BOM RETIRO  09           SE            7        Luz            3550308005004  4            001003007  Comercial                   Comercial horizontal  A                Baixo            Comercial horizontal Baixo  9           1995   7     9                4\n",
       "2           1995                03812-1             1944                           1                           8.0                     loja                       0.0                       85                      00-0                    85                 0               105                001003  001003000300  1.0             0.8095238095238095  0.0                 10500.0          7990.0              001         003          9            BOM RETIRO  09           SE            7        Luz            3550308005004  4            001003007  Comercial                   Comercial horizontal  A                Baixo            Comercial horizontal Baixo  9           1995   7     9                4\n",
       "3           1995                03812-1             1944                           1                           6.0                     loja                       0.0                       103                     00-0                    103                0               108                001003  001003000400  1.0             0.9537037037037037  0.0                 10800.0          13287.0             001         003          9            BOM RETIRO  09           SE            7        Luz            3550308005004  4            001003007  Comercial                   Comercial horizontal  B                Baixo            Comercial horizontal Baixo  9           1995   7     9                4\n",
       "4           1995                03812-1             1944                           1                           7.0                     loja                       0.0                       98                      00-0                    98                 0               120                001003  001003000500  1.0             0.8166666666666667  0.0                 12000.0          9212.0              001         003          9            BOM RETIRO  09           SE            7        Luz            3550308005004  4            001003007  Comercial                   Comercial horizontal  A                Baixo            Comercial horizontal Baixo  9           1995   7     9                4\n",
       "...         ...                 ...                 ...                            ...                         ...                     ...                        ...                       ...                     ...                     ...                ...             ...                ...     ...           ...             ...                 ...                 ...              ...                 ...         ...          ...          ...         ...          ...           ...      ...            ...            ...          ...        ...                         ...                   ...              ...              ...                         ...         ...    ...   ...              ...\n",
       "85,961,430  2023                02235-7             1978                           5                           0.0                     Apartamento em condomínio  0.2                       25215                   01-9                    84                 5312            18041              310118  310118000001  0.0033          1.4109276345294306  0.2944404412172274  144492.1731      177660.0            310         118          38           JABAQUARA   15           JABAQUARA     275      Cidade Vargas  3550308005093  93           310118275  Residencial                 Residencial vertical  B                Baixo            Residencial vertical Baixo  38          2023   275   15               93\n",
       "85,961,431  2023                02235-7             1978                           5                           0.0                     Apartamento em condomínio  0.2                       25215                   01-9                    84                 5312            18041              310118  310118000001  0.0033          1.4109276345294306  0.2944404412172274  144492.1731      177660.0            310         118          38           JABAQUARA   15           JABAQUARA     275      Cidade Vargas  3550308005093  93           310118275  Residencial                 Residencial vertical  B                Baixo            Residencial vertical Baixo  38          2023   275   15               93\n",
       "85,961,432  2023                02235-7             1978                           5                           0.0                     Apartamento em condomínio  0.2                       25215                   01-9                    84                 5312            18041              310118  310118000001  0.0033          1.4109276345294306  0.2944404412172274  144492.1731      177660.0            310         118          38           JABAQUARA   15           JABAQUARA     275      Cidade Vargas  3550308005093  93           310118275  Residencial                 Residencial vertical  B                Baixo            Residencial vertical Baixo  38          2023   275   15               93\n",
       "85,961,433  2023                19137-0             0                              0                           0.0                     Terreno                    0.0                       0                       00-0                    0                  0               18500              310119  310119000100  1.0             0.0                 0.0                 41939500.0       0.0                 310         119          38           JABAQUARA   15           JABAQUARA     275      Cidade Vargas  3550308005093  93           310119275  Outros                      Terreno                                                 Terreno                     38          2023   275   15               93\n",
       "85,961,434  2023                01041-3             0                              0                           500.0                   Terreno                    0.0                       0                       00-0                    0                  0               18926              310120  310120000100  1.0             0.0                 0.0                 11790898.0       0.0                 310         120          38           JABAQUARA   15           JABAQUARA     275      Cidade Vargas  3550308005093  93           310120275  Outros                      Terreno                                                 Terreno                     38          2023   275   15               93"
      ]
     },
     "execution_count": 81,
     "metadata": {},
     "output_type": "execute_result"
    }
   ],
   "source": [
    "# df_iptu['tipo_e_classe_de_uso'].isna().value_counts()\n",
    "df_iptu.fillna(value='Outros Usos', column_names=['tipo_e_classe_de_uso'], inplace=True)"
   ]
  },
  {
   "cell_type": "code",
   "execution_count": 82,
   "metadata": {},
   "outputs": [
    {
     "data": {
      "text/html": [
       "<table>\n",
       "<thead>\n",
       "<tr><th>#                            </th><th style=\"text-align: right;\">  ANO DO EXERCICIO</th><th>CODLOG DO IMOVEL  </th><th style=\"text-align: right;\">  ANO DA CONSTRUCAO CORRIGIDO</th><th style=\"text-align: right;\">  QUANTIDADE DE PAVIMENTOS</th><th style=\"text-align: right;\">  TESTADA PARA CALCULO</th><th>TIPO DE USO DO IMOVEL  </th><th style=\"text-align: right;\">  FATOR DE OBSOLESCENCIA</th><th style=\"text-align: right;\">  area_contruida_total</th><th>NUMERO DO CONDOMINIO  </th><th style=\"text-align: right;\">  AREA CONSTRUIDA</th><th style=\"text-align: right;\">  AREA OCUPADA</th><th style=\"text-align: right;\">  AREA DO TERRENO</th><th style=\"text-align: right;\">    sq</th><th style=\"text-align: right;\">        sqlc</th><th style=\"text-align: right;\">  fracao_ideal</th><th style=\"text-align: right;\">      ca</th><th style=\"text-align: right;\">  to</th><th style=\"text-align: right;\">  valor_terreno</th><th style=\"text-align: right;\">  valor_construcao</th><th style=\"text-align: right;\">  qd_setor</th><th style=\"text-align: right;\">  qd_fiscal</th><th style=\"text-align: right;\">  ds_codigo</th><th>ds_nome   </th><th style=\"text-align: right;\">  ds_cd_sub</th><th>ds_subpref  </th><th style=\"text-align: right;\">  od_id</th><th>od_nome  </th><th style=\"text-align: right;\">      COD_AED</th><th style=\"text-align: right;\">  COD_AED_S</th><th style=\"text-align: right;\">     sqod</th><th>classificacao_abrangente  </th><th>tipo_de_uso         </th><th>padrao_de_uso  </th><th>classe_de_uso  </th><th>tipo_e_classe_de_uso      </th><th style=\"text-align: right;\">  distrito</th><th style=\"text-align: right;\">  ano</th><th style=\"text-align: right;\">  od</th><th style=\"text-align: right;\">  subprefeitura</th><th style=\"text-align: right;\">  censo</th></tr>\n",
       "</thead>\n",
       "<tbody>\n",
       "<tr><td><i style='opacity: 0.6'>0</i></td><td style=\"text-align: right;\">              1995</td><td>03812-1           </td><td style=\"text-align: right;\">                         1924</td><td style=\"text-align: right;\">                         1</td><td style=\"text-align: right;\">                    13</td><td>loja                   </td><td style=\"text-align: right;\">                       0</td><td style=\"text-align: right;\">                   135</td><td>00-0                  </td><td style=\"text-align: right;\">              135</td><td style=\"text-align: right;\">             0</td><td style=\"text-align: right;\">              136</td><td style=\"text-align: right;\">001003</td><td style=\"text-align: right;\">001003000100</td><td style=\"text-align: right;\">             1</td><td style=\"text-align: right;\">0.992647</td><td style=\"text-align: right;\">   0</td><td style=\"text-align: right;\">          13600</td><td style=\"text-align: right;\">             17415</td><td style=\"text-align: right;\">       001</td><td style=\"text-align: right;\">        003</td><td style=\"text-align: right;\">          9</td><td>BOM RETIRO</td><td style=\"text-align: right;\">         09</td><td>SE          </td><td style=\"text-align: right;\">      7</td><td>Luz      </td><td style=\"text-align: right;\">3550308005004</td><td style=\"text-align: right;\">          4</td><td style=\"text-align: right;\">001003007</td><td>Comercial                 </td><td>Comercial horizontal</td><td>B              </td><td>Baixo          </td><td>Comercial horizontal Baixo</td><td style=\"text-align: right;\">         9</td><td style=\"text-align: right;\"> 1995</td><td style=\"text-align: right;\">   7</td><td style=\"text-align: right;\">              9</td><td style=\"text-align: right;\">      4</td></tr>\n",
       "<tr><td><i style='opacity: 0.6'>1</i></td><td style=\"text-align: right;\">              1995</td><td>03812-1           </td><td style=\"text-align: right;\">                         1944</td><td style=\"text-align: right;\">                         1</td><td style=\"text-align: right;\">                     6</td><td>loja                   </td><td style=\"text-align: right;\">                       0</td><td style=\"text-align: right;\">                    67</td><td>00-0                  </td><td style=\"text-align: right;\">               67</td><td style=\"text-align: right;\">             0</td><td style=\"text-align: right;\">               90</td><td style=\"text-align: right;\">001003</td><td style=\"text-align: right;\">001003000200</td><td style=\"text-align: right;\">             1</td><td style=\"text-align: right;\">0.744444</td><td style=\"text-align: right;\">   0</td><td style=\"text-align: right;\">           9000</td><td style=\"text-align: right;\">              6298</td><td style=\"text-align: right;\">       001</td><td style=\"text-align: right;\">        003</td><td style=\"text-align: right;\">          9</td><td>BOM RETIRO</td><td style=\"text-align: right;\">         09</td><td>SE          </td><td style=\"text-align: right;\">      7</td><td>Luz      </td><td style=\"text-align: right;\">3550308005004</td><td style=\"text-align: right;\">          4</td><td style=\"text-align: right;\">001003007</td><td>Comercial                 </td><td>Comercial horizontal</td><td>A              </td><td>Baixo          </td><td>Comercial horizontal Baixo</td><td style=\"text-align: right;\">         9</td><td style=\"text-align: right;\"> 1995</td><td style=\"text-align: right;\">   7</td><td style=\"text-align: right;\">              9</td><td style=\"text-align: right;\">      4</td></tr>\n",
       "<tr><td><i style='opacity: 0.6'>2</i></td><td style=\"text-align: right;\">              1995</td><td>03812-1           </td><td style=\"text-align: right;\">                         1944</td><td style=\"text-align: right;\">                         1</td><td style=\"text-align: right;\">                     8</td><td>loja                   </td><td style=\"text-align: right;\">                       0</td><td style=\"text-align: right;\">                    85</td><td>00-0                  </td><td style=\"text-align: right;\">               85</td><td style=\"text-align: right;\">             0</td><td style=\"text-align: right;\">              105</td><td style=\"text-align: right;\">001003</td><td style=\"text-align: right;\">001003000300</td><td style=\"text-align: right;\">             1</td><td style=\"text-align: right;\">0.809524</td><td style=\"text-align: right;\">   0</td><td style=\"text-align: right;\">          10500</td><td style=\"text-align: right;\">              7990</td><td style=\"text-align: right;\">       001</td><td style=\"text-align: right;\">        003</td><td style=\"text-align: right;\">          9</td><td>BOM RETIRO</td><td style=\"text-align: right;\">         09</td><td>SE          </td><td style=\"text-align: right;\">      7</td><td>Luz      </td><td style=\"text-align: right;\">3550308005004</td><td style=\"text-align: right;\">          4</td><td style=\"text-align: right;\">001003007</td><td>Comercial                 </td><td>Comercial horizontal</td><td>A              </td><td>Baixo          </td><td>Comercial horizontal Baixo</td><td style=\"text-align: right;\">         9</td><td style=\"text-align: right;\"> 1995</td><td style=\"text-align: right;\">   7</td><td style=\"text-align: right;\">              9</td><td style=\"text-align: right;\">      4</td></tr>\n",
       "</tbody>\n",
       "</table>"
      ],
      "text/plain": [
       "  #    ANO DO EXERCICIO  CODLOG DO IMOVEL      ANO DA CONSTRUCAO CORRIGIDO    QUANTIDADE DE PAVIMENTOS    TESTADA PARA CALCULO  TIPO DE USO DO IMOVEL      FATOR DE OBSOLESCENCIA    area_contruida_total  NUMERO DO CONDOMINIO      AREA CONSTRUIDA    AREA OCUPADA    AREA DO TERRENO      sq          sqlc    fracao_ideal        ca    to    valor_terreno    valor_construcao    qd_setor    qd_fiscal    ds_codigo  ds_nome       ds_cd_sub  ds_subpref      od_id  od_nome          COD_AED    COD_AED_S       sqod  classificacao_abrangente    tipo_de_uso           padrao_de_uso    classe_de_uso    tipo_e_classe_de_uso          distrito    ano    od    subprefeitura    censo\n",
       "  0                1995  03812-1                                      1924                           1                      13  loja                                            0                     135  00-0                                  135               0                136  001003  001003000100               1  0.992647     0            13600               17415         001          003            9  BOM RETIRO           09  SE                  7  Luz        3550308005004            4  001003007  Comercial                   Comercial horizontal  B                Baixo            Comercial horizontal Baixo           9   1995     7                9        4\n",
       "  1                1995  03812-1                                      1944                           1                       6  loja                                            0                      67  00-0                                   67               0                 90  001003  001003000200               1  0.744444     0             9000                6298         001          003            9  BOM RETIRO           09  SE                  7  Luz        3550308005004            4  001003007  Comercial                   Comercial horizontal  A                Baixo            Comercial horizontal Baixo           9   1995     7                9        4\n",
       "  2                1995  03812-1                                      1944                           1                       8  loja                                            0                      85  00-0                                   85               0                105  001003  001003000300               1  0.809524     0            10500                7990         001          003            9  BOM RETIRO           09  SE                  7  Luz        3550308005004            4  001003007  Comercial                   Comercial horizontal  A                Baixo            Comercial horizontal Baixo           9   1995     7                9        4"
      ]
     },
     "execution_count": 82,
     "metadata": {},
     "output_type": "execute_result"
    }
   ],
   "source": [
    "df_iptu.head(3)"
   ]
  },
  {
   "cell_type": "code",
   "execution_count": 83,
   "metadata": {},
   "outputs": [],
   "source": [
    "agg_padroes_m2 = {}\n",
    "agg_padroes_qt = {}\n",
    "\n",
    "for p in padroes:\n",
    "    agg_padroes_m2[f\"{p} (m2)\"] = vaex.agg.sum('AREA CONSTRUIDA', selection=df['tipo_e_classe_de_uso'] == p)\n",
    "    agg_padroes_qt[f\"{p} (qt)\"] = vaex.agg.count('AREA CONSTRUIDA', selection=df['tipo_e_classe_de_uso'] == p)"
   ]
  },
  {
   "cell_type": "code",
   "execution_count": 84,
   "metadata": {},
   "outputs": [],
   "source": [
    "agg.update(agg_padroes_m2)\n",
    "agg.update(agg_padroes_qt)"
   ]
  },
  {
   "cell_type": "code",
   "execution_count": 85,
   "metadata": {},
   "outputs": [],
   "source": [
    "agg['Terreno (m2)'] = vaex.agg.sum('AREA DO TERRENO', selection=df['tipo_e_classe_de_uso'] == p)\n",
    "agg['Terreno (qt)'] = vaex.agg.count('AREA DO TERRENO', selection=df['tipo_e_classe_de_uso'] == p)"
   ]
  },
  {
   "cell_type": "code",
   "execution_count": 86,
   "metadata": {},
   "outputs": [
    {
     "data": {
      "text/plain": [
       "['Quantidade de Unidades',\n",
       " 'Quantidade de Unidades Condominiais',\n",
       " 'Tamanho Médio da Unidade Condominial',\n",
       " 'Tamanho médio dos Terrenos',\n",
       " 'Área Total dos terrenos-lotes',\n",
       " 'Área Total Ocupada',\n",
       " 'Área Total Construída',\n",
       " 'Valor Total dos Terrenos',\n",
       " 'Valor Total das Construções',\n",
       " 'CA médio',\n",
       " 'TO médio',\n",
       " 'CA médio em lotes condominiais',\n",
       " 'TO médio em lotes condominiais',\n",
       " 'CA médio em lotes não condominiais',\n",
       " 'TO médio em lotes não condominiais',\n",
       " 'Comprimento Médio da Testada',\n",
       " 'Número médio de Pavimentos',\n",
       " 'Fator de obsolecência médio',\n",
       " 'Residencial vertical Baixo (m2)',\n",
       " 'Residencial vertical Médio (m2)',\n",
       " 'Residencial vertical Alto (m2)',\n",
       " 'Residencial horizontal Baixo (m2)',\n",
       " 'Residencial horizontal Médio (m2)',\n",
       " 'Residencial horizontal Alto (m2)',\n",
       " 'Comercial vertical Baixo (m2)',\n",
       " 'Comercial vertical Médio (m2)',\n",
       " 'Comercial vertical Alto (m2)',\n",
       " 'Comercial horizontal Baixo (m2)',\n",
       " 'Comercial horizontal Alto (m2)',\n",
       " 'Comercial horizontal Médio (m2)',\n",
       " 'Terreno (m2)',\n",
       " 'Outros Usos (m2)',\n",
       " 'Residencial vertical Baixo (qt)',\n",
       " 'Residencial vertical Médio (qt)',\n",
       " 'Residencial vertical Alto (qt)',\n",
       " 'Residencial horizontal Baixo (qt)',\n",
       " 'Residencial horizontal Médio (qt)',\n",
       " 'Residencial horizontal Alto (qt)',\n",
       " 'Comercial vertical Baixo (qt)',\n",
       " 'Comercial vertical Médio (qt)',\n",
       " 'Comercial vertical Alto (qt)',\n",
       " 'Comercial horizontal Baixo (qt)',\n",
       " 'Comercial horizontal Alto (qt)',\n",
       " 'Comercial horizontal Médio (qt)',\n",
       " 'Terreno (qt)',\n",
       " 'Outros Usos (qt)']"
      ]
     },
     "execution_count": 86,
     "metadata": {},
     "output_type": "execute_result"
    }
   ],
   "source": [
    "list(agg.keys())"
   ]
  },
  {
   "cell_type": "code",
   "execution_count": 87,
   "metadata": {},
   "outputs": [],
   "source": [
    "# df_iptu_grouped_distrito = \\\n",
    "def agrupamento(df, campo):\n",
    "    return df.groupby([campo, 'ano'],agg=agg)"
   ]
  },
  {
   "cell_type": "code",
   "execution_count": 88,
   "metadata": {},
   "outputs": [],
   "source": [
    "# campos = ['distrito', 'subprefeitura', 'od', 'censo', 'sq']\n",
    "campos = ['distrito', 'subprefeitura', 'od', 'censo', 'sq']"
   ]
  },
  {
   "cell_type": "code",
   "execution_count": 89,
   "metadata": {},
   "outputs": [
    {
     "name": "stdout",
     "output_type": "stream",
     "text": [
      "distrito\n",
      "subprefeitura\n",
      "od\n",
      "censo\n",
      "sq\n"
     ]
    }
   ],
   "source": [
    "dfs = []\n",
    "\n",
    "for campo in campos:\n",
    "    print(campo)\n",
    "    df = agrupamento(df_iptu, campo)\n",
    "    # for u in ['Residencial', 'Comercial', 'Serviços', 'Industrial', 'Outros']:\n",
    "    #     df[f'Percentual de Uso {u}'] = df[u] / df['Área Total Construída']\n",
    "    df.export_hdf5(f'data/IPTU-1995-{exercicio_fim}-agrupados-por-{campo}.hdf5')\n",
    "    dfs.append(df)"
   ]
  },
  {
   "cell_type": "code",
   "execution_count": 90,
   "metadata": {},
   "outputs": [
    {
     "name": "stdout",
     "output_type": "stream",
     "text": [
      "63 pirituba\n"
     ]
    },
    {
     "name": "stderr",
     "output_type": "stream",
     "text": [
      "/home/fernando/miniconda3/envs/dash/lib/python3.9/site-packages/vaex/arrow/numpy_dispatch.py:72: RuntimeWarning: invalid value encountered in true_divide\n",
      "  result_data = op['op'](a_data, b_data)\n"
     ]
    },
    {
     "name": "stdout",
     "output_type": "stream",
     "text": [
      "95 sao-domingos\n"
     ]
    },
    {
     "data": {
      "text/html": [
       "<pre style=\"white-space:pre;overflow-x:auto;line-height:normal;font-family:Menlo,'DejaVu Sans Mono',consolas,'Courier New',monospace\"><span style=\"color: #7fbfbf; text-decoration-color: #7fbfbf\">[03/07/23 14:55:31] </span><span style=\"color: #800000; text-decoration-color: #800000; font-weight: bold\">ERROR   </span> nested execute call                             <a href=\"file:///home/fernando/miniconda3/envs/dash/lib/python3.9/site-packages/vaex/execution.py\" target=\"_blank\"><span style=\"color: #7f7f7f; text-decoration-color: #7f7f7f\">execution.py</span></a><span style=\"color: #7f7f7f; text-decoration-color: #7f7f7f\">:</span><a href=\"file:///home/fernando/miniconda3/envs/dash/lib/python3.9/site-packages/vaex/execution.py#334\" target=\"_blank\"><span style=\"color: #7f7f7f; text-decoration-color: #7f7f7f\">334</span></a>\n",
       "</pre>\n"
      ],
      "text/plain": [
       "\u001b[2;36m[03/07/23 14:55:31]\u001b[0m\u001b[2;36m \u001b[0m\u001b[1;31mERROR   \u001b[0m nested execute call                             \u001b]8;id=590195;file:///home/fernando/miniconda3/envs/dash/lib/python3.9/site-packages/vaex/execution.py\u001b\\\u001b[2mexecution.py\u001b[0m\u001b]8;;\u001b\\\u001b[2m:\u001b[0m\u001b]8;id=643650;file:///home/fernando/miniconda3/envs/dash/lib/python3.9/site-packages/vaex/execution.py#334\u001b\\\u001b[2m334\u001b[0m\u001b]8;;\u001b\\\n"
      ]
     },
     "metadata": {},
     "output_type": "display_data"
    },
    {
     "ename": "RuntimeError",
     "evalue": "nested execute call: False True\nlast trace:\n  File \"/home/fernando/miniconda3/envs/dash/lib/python3.9/runpy.py\", line 197, in _run_module_as_main\n    return _run_code(code, main_globals, None,\n  File \"/home/fernando/miniconda3/envs/dash/lib/python3.9/runpy.py\", line 87, in _run_code\n    exec(code, run_globals)\n  File \"/home/fernando/miniconda3/envs/dash/lib/python3.9/site-packages/ipykernel_launcher.py\", line 17, in <module>\n    app.launch_new_instance()\n  File \"/home/fernando/miniconda3/envs/dash/lib/python3.9/site-packages/traitlets/config/application.py\", line 846, in launch_instance\n    app.start()\n  File \"/home/fernando/miniconda3/envs/dash/lib/python3.9/site-packages/ipykernel/kernelapp.py\", line 707, in start\n    self.io_loop.start()\n  File \"/home/fernando/miniconda3/envs/dash/lib/python3.9/site-packages/tornado/platform/asyncio.py\", line 199, in start\n    self.asyncio_loop.run_forever()\n  File \"/home/fernando/miniconda3/envs/dash/lib/python3.9/asyncio/base_events.py\", line 601, in run_forever\n    self._run_once()\n  File \"/home/fernando/miniconda3/envs/dash/lib/python3.9/asyncio/base_events.py\", line 1905, in _run_once\n    handle._run()\n  File \"/home/fernando/miniconda3/envs/dash/lib/python3.9/asyncio/events.py\", line 80, in _run\n    self._context.run(self._callback, *self._args)\n  File \"/home/fernando/miniconda3/envs/dash/lib/python3.9/site-packages/ipykernel/kernelbase.py\", line 502, in dispatch_queue\n    await self.process_one()\n  File \"/home/fernando/miniconda3/envs/dash/lib/python3.9/site-packages/ipykernel/kernelbase.py\", line 491, in process_one\n    await dispatch(*args)\n  File \"/home/fernando/miniconda3/envs/dash/lib/python3.9/site-packages/ipykernel/kernelbase.py\", line 398, in dispatch_shell\n    await result\n  File \"/home/fernando/miniconda3/envs/dash/lib/python3.9/site-packages/ipykernel/kernelbase.py\", line 722, in execute_request\n    reply_content = await reply_content\n  File \"/home/fernando/miniconda3/envs/dash/lib/python3.9/site-packages/ipykernel/ipkernel.py\", line 389, in do_execute\n    res = shell.run_cell(code, store_history=store_history, silent=silent)\n  File \"/home/fernando/miniconda3/envs/dash/lib/python3.9/site-packages/ipykernel/zmqshell.py\", line 528, in run_cell\n    return super().run_cell(*args, **kwargs)\n  File \"/home/fernando/miniconda3/envs/dash/lib/python3.9/site-packages/IPython/core/interactiveshell.py\", line 2863, in run_cell\n    result = self._run_cell(\n  File \"/home/fernando/miniconda3/envs/dash/lib/python3.9/site-packages/IPython/core/interactiveshell.py\", line 2909, in _run_cell\n    return runner(coro)\n  File \"/home/fernando/miniconda3/envs/dash/lib/python3.9/site-packages/IPython/core/async_helpers.py\", line 129, in _pseudo_sync_runner\n    coro.send(None)\n  File \"/home/fernando/miniconda3/envs/dash/lib/python3.9/site-packages/IPython/core/interactiveshell.py\", line 3106, in run_cell_async\n    has_raised = await self.run_ast_nodes(code_ast.body, cell_name,\n  File \"/home/fernando/miniconda3/envs/dash/lib/python3.9/site-packages/IPython/core/interactiveshell.py\", line 3309, in run_ast_nodes\n    if await self.run_code(code, result, async_=asy):\n  File \"/home/fernando/miniconda3/envs/dash/lib/python3.9/site-packages/IPython/core/interactiveshell.py\", line 3369, in run_code\n    exec(code_obj, self.user_global_ns, self.user_ns)\n  File \"/tmp/ipykernel_62129/3394565372.py\", line 4, in <cell line: 1>\n    df = agrupamento(df_iptu_distrito, 'sqlc')\n  File \"/tmp/ipykernel_62129/3805807491.py\", line 3, in agrupamento\n    return df.groupby([campo, 'ano'],agg=agg)\n  File \"/home/fernando/miniconda3/envs/dash/lib/python3.9/site-packages/vaex/dataframe.py\", line 7092, in groupby\n    return self._delay(delay, progressbar.exit_on(next(groupby._promise_by)))\n  File \"/home/fernando/miniconda3/envs/dash/lib/python3.9/site-packages/vaex/dataframe.py\", line 1775, in _delay\n    self.execute()\n  File \"/home/fernando/miniconda3/envs/dash/lib/python3.9/site-packages/vaex/dataframe.py\", line 417, in execute\n    self.executor.execute()\n  File \"/home/fernando/miniconda3/envs/dash/lib/python3.9/site-packages/vaex/execution.py\", line 308, in execute\n    for _ in self.execute_generator():\n  File \"/home/fernando/miniconda3/envs/dash/lib/python3.9/site-packages/vaex/execution.py\", line 455, in execute_generator\n    task.fulfill(task._result)\n  File \"/home/fernando/miniconda3/envs/dash/lib/python3.9/site-packages/aplus/__init__.py\", line 77, in fulfill\n    self._fulfill(x)\n  File \"/home/fernando/miniconda3/envs/dash/lib/python3.9/site-packages/aplus/__init__.py\", line 101, in _fulfill\n    callback(value)\n  File \"/home/fernando/miniconda3/envs/dash/lib/python3.9/site-packages/aplus/__init__.py\", line 404, in handleSuccess\n    ret.fulfill(value)\n  File \"/home/fernando/miniconda3/envs/dash/lib/python3.9/site-packages/aplus/__init__.py\", line 77, in fulfill\n    self._fulfill(x)\n  File \"/home/fernando/miniconda3/envs/dash/lib/python3.9/site-packages/aplus/__init__.py\", line 101, in _fulfill\n    callback(value)\n  File \"/home/fernando/miniconda3/envs/dash/lib/python3.9/site-packages/vaex/promise.py\", line 106, in callAndFulfill\n    ret.fulfill(success(v))\n  File \"/home/fernando/miniconda3/envs/dash/lib/python3.9/site-packages/aplus/__init__.py\", line 77, in fulfill\n    self._fulfill(x)\n  File \"/home/fernando/miniconda3/envs/dash/lib/python3.9/site-packages/aplus/__init__.py\", line 101, in _fulfill\n    callback(value)\n  File \"/home/fernando/miniconda3/envs/dash/lib/python3.9/site-packages/aplus/__init__.py\", line 404, in handleSuccess\n    ret.fulfill(value)\n  File \"/home/fernando/miniconda3/envs/dash/lib/python3.9/site-packages/aplus/__init__.py\", line 77, in fulfill\n    self._fulfill(x)\n  File \"/home/fernando/miniconda3/envs/dash/lib/python3.9/site-packages/aplus/__init__.py\", line 101, in _fulfill\n    callback(value)\n  File \"/home/fernando/miniconda3/envs/dash/lib/python3.9/site-packages/vaex/promise.py\", line 106, in callAndFulfill\n    ret.fulfill(success(v))\n  File \"/home/fernando/miniconda3/envs/dash/lib/python3.9/site-packages/aplus/__init__.py\", line 73, in fulfill\n    _promisify(x).done(self.fulfill, self.reject)\n  File \"/home/fernando/miniconda3/envs/dash/lib/python3.9/site-packages/aplus/__init__.py\", line 233, in done\n    self.addCallback(success)\n  File \"/home/fernando/miniconda3/envs/dash/lib/python3.9/site-packages/aplus/__init__.py\", line 197, in addCallback\n    f(self._value)\n  File \"/home/fernando/miniconda3/envs/dash/lib/python3.9/site-packages/aplus/__init__.py\", line 77, in fulfill\n    self._fulfill(x)\n  File \"/home/fernando/miniconda3/envs/dash/lib/python3.9/site-packages/aplus/__init__.py\", line 101, in _fulfill\n    callback(value)\n  File \"/home/fernando/miniconda3/envs/dash/lib/python3.9/site-packages/vaex/promise.py\", line 106, in callAndFulfill\n    ret.fulfill(success(v))\n  File \"/home/fernando/miniconda3/envs/dash/lib/python3.9/site-packages/aplus/__init__.py\", line 77, in fulfill\n    self._fulfill(x)\n  File \"/home/fernando/miniconda3/envs/dash/lib/python3.9/site-packages/aplus/__init__.py\", line 101, in _fulfill\n    callback(value)\n  File \"/home/fernando/miniconda3/envs/dash/lib/python3.9/site-packages/aplus/__init__.py\", line 404, in handleSuccess\n    ret.fulfill(value)\n  File \"/home/fernando/miniconda3/envs/dash/lib/python3.9/site-packages/aplus/__init__.py\", line 77, in fulfill\n    self._fulfill(x)\n  File \"/home/fernando/miniconda3/envs/dash/lib/python3.9/site-packages/aplus/__init__.py\", line 101, in _fulfill\n    callback(value)\n  File \"/home/fernando/miniconda3/envs/dash/lib/python3.9/site-packages/vaex/promise.py\", line 106, in callAndFulfill\n    ret.fulfill(success(v))\n  File \"/home/fernando/miniconda3/envs/dash/lib/python3.9/site-packages/vaex/delayed.py\", line 82, in call\n    return f(*args_real, **kwargs_real)\n  File \"/home/fernando/miniconda3/envs/dash/lib/python3.9/site-packages/vaex/dataframe.py\", line 7091, in next\n    return groupby.agg(agg, delay=delay, progress=progressbar_agg)\n  File \"/home/fernando/miniconda3/envs/dash/lib/python3.9/site-packages/vaex/groupby.py\", line 960, in agg\n    self.df.execute()\n  File \"/home/fernando/miniconda3/envs/dash/lib/python3.9/site-packages/vaex/dataframe.py\", line 417, in execute\n    self.executor.execute()\n  File \"/home/fernando/miniconda3/envs/dash/lib/python3.9/site-packages/vaex/execution.py\", line 308, in execute\n    for _ in self.execute_generator():\n  File \"/home/fernando/miniconda3/envs/dash/lib/python3.9/site-packages/vaex/execution.py\", line 332, in execute_generator\n    trace = ''.join(traceback.format_stack())\n\ncurrent trace:\n  File \"/home/fernando/miniconda3/envs/dash/lib/python3.9/runpy.py\", line 197, in _run_module_as_main\n    return _run_code(code, main_globals, None,\n  File \"/home/fernando/miniconda3/envs/dash/lib/python3.9/runpy.py\", line 87, in _run_code\n    exec(code, run_globals)\n  File \"/home/fernando/miniconda3/envs/dash/lib/python3.9/site-packages/ipykernel_launcher.py\", line 17, in <module>\n    app.launch_new_instance()\n  File \"/home/fernando/miniconda3/envs/dash/lib/python3.9/site-packages/traitlets/config/application.py\", line 846, in launch_instance\n    app.start()\n  File \"/home/fernando/miniconda3/envs/dash/lib/python3.9/site-packages/ipykernel/kernelapp.py\", line 707, in start\n    self.io_loop.start()\n  File \"/home/fernando/miniconda3/envs/dash/lib/python3.9/site-packages/tornado/platform/asyncio.py\", line 199, in start\n    self.asyncio_loop.run_forever()\n  File \"/home/fernando/miniconda3/envs/dash/lib/python3.9/asyncio/base_events.py\", line 601, in run_forever\n    self._run_once()\n  File \"/home/fernando/miniconda3/envs/dash/lib/python3.9/asyncio/base_events.py\", line 1905, in _run_once\n    handle._run()\n  File \"/home/fernando/miniconda3/envs/dash/lib/python3.9/asyncio/events.py\", line 80, in _run\n    self._context.run(self._callback, *self._args)\n  File \"/home/fernando/miniconda3/envs/dash/lib/python3.9/site-packages/ipykernel/kernelbase.py\", line 502, in dispatch_queue\n    await self.process_one()\n  File \"/home/fernando/miniconda3/envs/dash/lib/python3.9/site-packages/ipykernel/kernelbase.py\", line 491, in process_one\n    await dispatch(*args)\n  File \"/home/fernando/miniconda3/envs/dash/lib/python3.9/site-packages/ipykernel/kernelbase.py\", line 398, in dispatch_shell\n    await result\n  File \"/home/fernando/miniconda3/envs/dash/lib/python3.9/site-packages/ipykernel/kernelbase.py\", line 722, in execute_request\n    reply_content = await reply_content\n  File \"/home/fernando/miniconda3/envs/dash/lib/python3.9/site-packages/ipykernel/ipkernel.py\", line 389, in do_execute\n    res = shell.run_cell(code, store_history=store_history, silent=silent)\n  File \"/home/fernando/miniconda3/envs/dash/lib/python3.9/site-packages/ipykernel/zmqshell.py\", line 528, in run_cell\n    return super().run_cell(*args, **kwargs)\n  File \"/home/fernando/miniconda3/envs/dash/lib/python3.9/site-packages/IPython/core/interactiveshell.py\", line 2863, in run_cell\n    result = self._run_cell(\n  File \"/home/fernando/miniconda3/envs/dash/lib/python3.9/site-packages/IPython/core/interactiveshell.py\", line 2909, in _run_cell\n    return runner(coro)\n  File \"/home/fernando/miniconda3/envs/dash/lib/python3.9/site-packages/IPython/core/async_helpers.py\", line 129, in _pseudo_sync_runner\n    coro.send(None)\n  File \"/home/fernando/miniconda3/envs/dash/lib/python3.9/site-packages/IPython/core/interactiveshell.py\", line 3106, in run_cell_async\n    has_raised = await self.run_ast_nodes(code_ast.body, cell_name,\n  File \"/home/fernando/miniconda3/envs/dash/lib/python3.9/site-packages/IPython/core/interactiveshell.py\", line 3309, in run_ast_nodes\n    if await self.run_code(code, result, async_=asy):\n  File \"/home/fernando/miniconda3/envs/dash/lib/python3.9/site-packages/IPython/core/interactiveshell.py\", line 3369, in run_code\n    exec(code_obj, self.user_global_ns, self.user_ns)\n  File \"/tmp/ipykernel_62129/3394565372.py\", line 4, in <cell line: 1>\n    df = agrupamento(df_iptu_distrito, 'sqlc')\n  File \"/tmp/ipykernel_62129/3805807491.py\", line 3, in agrupamento\n    return df.groupby([campo, 'ano'],agg=agg)\n  File \"/home/fernando/miniconda3/envs/dash/lib/python3.9/site-packages/vaex/dataframe.py\", line 7092, in groupby\n    return self._delay(delay, progressbar.exit_on(next(groupby._promise_by)))\n  File \"/home/fernando/miniconda3/envs/dash/lib/python3.9/site-packages/vaex/dataframe.py\", line 1775, in _delay\n    self.execute()\n  File \"/home/fernando/miniconda3/envs/dash/lib/python3.9/site-packages/vaex/dataframe.py\", line 417, in execute\n    self.executor.execute()\n  File \"/home/fernando/miniconda3/envs/dash/lib/python3.9/site-packages/vaex/execution.py\", line 308, in execute\n    for _ in self.execute_generator():\n  File \"/home/fernando/miniconda3/envs/dash/lib/python3.9/site-packages/vaex/execution.py\", line 455, in execute_generator\n    task.fulfill(task._result)\n  File \"/home/fernando/miniconda3/envs/dash/lib/python3.9/site-packages/aplus/__init__.py\", line 77, in fulfill\n    self._fulfill(x)\n  File \"/home/fernando/miniconda3/envs/dash/lib/python3.9/site-packages/aplus/__init__.py\", line 101, in _fulfill\n    callback(value)\n  File \"/home/fernando/miniconda3/envs/dash/lib/python3.9/site-packages/aplus/__init__.py\", line 404, in handleSuccess\n    ret.fulfill(value)\n  File \"/home/fernando/miniconda3/envs/dash/lib/python3.9/site-packages/aplus/__init__.py\", line 77, in fulfill\n    self._fulfill(x)\n  File \"/home/fernando/miniconda3/envs/dash/lib/python3.9/site-packages/aplus/__init__.py\", line 101, in _fulfill\n    callback(value)\n  File \"/home/fernando/miniconda3/envs/dash/lib/python3.9/site-packages/vaex/promise.py\", line 106, in callAndFulfill\n    ret.fulfill(success(v))\n  File \"/home/fernando/miniconda3/envs/dash/lib/python3.9/site-packages/aplus/__init__.py\", line 77, in fulfill\n    self._fulfill(x)\n  File \"/home/fernando/miniconda3/envs/dash/lib/python3.9/site-packages/aplus/__init__.py\", line 101, in _fulfill\n    callback(value)\n  File \"/home/fernando/miniconda3/envs/dash/lib/python3.9/site-packages/aplus/__init__.py\", line 404, in handleSuccess\n    ret.fulfill(value)\n  File \"/home/fernando/miniconda3/envs/dash/lib/python3.9/site-packages/aplus/__init__.py\", line 77, in fulfill\n    self._fulfill(x)\n  File \"/home/fernando/miniconda3/envs/dash/lib/python3.9/site-packages/aplus/__init__.py\", line 101, in _fulfill\n    callback(value)\n  File \"/home/fernando/miniconda3/envs/dash/lib/python3.9/site-packages/vaex/promise.py\", line 106, in callAndFulfill\n    ret.fulfill(success(v))\n  File \"/home/fernando/miniconda3/envs/dash/lib/python3.9/site-packages/aplus/__init__.py\", line 73, in fulfill\n    _promisify(x).done(self.fulfill, self.reject)\n  File \"/home/fernando/miniconda3/envs/dash/lib/python3.9/site-packages/aplus/__init__.py\", line 233, in done\n    self.addCallback(success)\n  File \"/home/fernando/miniconda3/envs/dash/lib/python3.9/site-packages/aplus/__init__.py\", line 197, in addCallback\n    f(self._value)\n  File \"/home/fernando/miniconda3/envs/dash/lib/python3.9/site-packages/aplus/__init__.py\", line 77, in fulfill\n    self._fulfill(x)\n  File \"/home/fernando/miniconda3/envs/dash/lib/python3.9/site-packages/aplus/__init__.py\", line 101, in _fulfill\n    callback(value)\n  File \"/home/fernando/miniconda3/envs/dash/lib/python3.9/site-packages/vaex/promise.py\", line 106, in callAndFulfill\n    ret.fulfill(success(v))\n  File \"/home/fernando/miniconda3/envs/dash/lib/python3.9/site-packages/aplus/__init__.py\", line 77, in fulfill\n    self._fulfill(x)\n  File \"/home/fernando/miniconda3/envs/dash/lib/python3.9/site-packages/aplus/__init__.py\", line 101, in _fulfill\n    callback(value)\n  File \"/home/fernando/miniconda3/envs/dash/lib/python3.9/site-packages/aplus/__init__.py\", line 404, in handleSuccess\n    ret.fulfill(value)\n  File \"/home/fernando/miniconda3/envs/dash/lib/python3.9/site-packages/aplus/__init__.py\", line 77, in fulfill\n    self._fulfill(x)\n  File \"/home/fernando/miniconda3/envs/dash/lib/python3.9/site-packages/aplus/__init__.py\", line 101, in _fulfill\n    callback(value)\n  File \"/home/fernando/miniconda3/envs/dash/lib/python3.9/site-packages/vaex/promise.py\", line 106, in callAndFulfill\n    ret.fulfill(success(v))\n  File \"/home/fernando/miniconda3/envs/dash/lib/python3.9/site-packages/vaex/delayed.py\", line 82, in call\n    return f(*args_real, **kwargs_real)\n  File \"/home/fernando/miniconda3/envs/dash/lib/python3.9/site-packages/vaex/dataframe.py\", line 7091, in next\n    return groupby.agg(agg, delay=delay, progress=progressbar_agg)\n  File \"/home/fernando/miniconda3/envs/dash/lib/python3.9/site-packages/vaex/groupby.py\", line 960, in agg\n    self.df.execute()\n  File \"/home/fernando/miniconda3/envs/dash/lib/python3.9/site-packages/vaex/dataframe.py\", line 417, in execute\n    self.executor.execute()\n  File \"/home/fernando/miniconda3/envs/dash/lib/python3.9/site-packages/vaex/execution.py\", line 308, in execute\n    for _ in self.execute_generator():\n  File \"/home/fernando/miniconda3/envs/dash/lib/python3.9/site-packages/vaex/execution.py\", line 345, in execute_generator\n    tasks = _merge(tasks)\n  File \"/home/fernando/miniconda3/envs/dash/lib/python3.9/site-packages/vaex/execution.py\", line 137, in _merge\n    tasks_merged.extend(_merge_tasks_for_df(tasks_df, df))\n  File \"/home/fernando/miniconda3/envs/dash/lib/python3.9/site-packages/vaex/execution.py\", line 161, in _merge_tasks_for_df\n    task_merged.add_aggregation_operation(subtask.aggregation_description)\n  File \"/home/fernando/miniconda3/envs/dash/lib/python3.9/site-packages/vaex/tasks.py\", line 492, in add_aggregation_operation\n    self.dtypes = {expr: self.df.data_type(expr).index_type for expr in self.expressions_all}\n  File \"/home/fernando/miniconda3/envs/dash/lib/python3.9/site-packages/vaex/tasks.py\", line 492, in <dictcomp>\n    self.dtypes = {expr: self.df.data_type(expr).index_type for expr in self.expressions_all}\n  File \"/home/fernando/miniconda3/envs/dash/lib/python3.9/site-packages/vaex/dataframe.py\", line 2270, in data_type\n    data = self.evaluate(expression, 0, 1, filtered=True, array_type=array_type, parallel=False)\n  File \"/home/fernando/miniconda3/envs/dash/lib/python3.9/site-packages/vaex/dataframe.py\", line 3090, in evaluate\n    return self._evaluate_implementation(expression, i1=i1, i2=i2, out=out, selection=selection, filtered=filtered, array_type=array_type, parallel=parallel, chunk_size=chunk_size, progress=progress)\n  File \"/home/fernando/miniconda3/envs/dash/lib/python3.9/site-packages/vaex/dataframe.py\", line 6349, in _evaluate_implementation\n    max_stop = (len(self) if (self.filtered and filtered) else self.length_unfiltered())\n  File \"/home/fernando/miniconda3/envs/dash/lib/python3.9/site-packages/vaex/dataframe.py\", line 4309, in __len__\n    self._cached_filtered_length = int(self.count())\n  File \"/home/fernando/miniconda3/envs/dash/lib/python3.9/site-packages/vaex/dataframe.py\", line 962, in count\n    return self._compute_agg('count', expression, binby, limits, shape, selection, delay, edges, progress, array_type=array_type)\n  File \"/home/fernando/miniconda3/envs/dash/lib/python3.9/site-packages/vaex/dataframe.py\", line 936, in _compute_agg\n    return self._delay(delay, progressbar.exit_on(var))\n  File \"/home/fernando/miniconda3/envs/dash/lib/python3.9/site-packages/vaex/dataframe.py\", line 1775, in _delay\n    self.execute()\n  File \"/home/fernando/miniconda3/envs/dash/lib/python3.9/site-packages/vaex/dataframe.py\", line 417, in execute\n    self.executor.execute()\n  File \"/home/fernando/miniconda3/envs/dash/lib/python3.9/site-packages/vaex/execution.py\", line 308, in execute\n    for _ in self.execute_generator():\n  File \"/home/fernando/miniconda3/envs/dash/lib/python3.9/site-packages/vaex/execution.py\", line 332, in execute_generator\n    trace = ''.join(traceback.format_stack())\n",
     "output_type": "error",
     "traceback": [
      "\u001b[0;31m---------------------------------------------------------------------------\u001b[0m",
      "\u001b[0;31mKeyboardInterrupt\u001b[0m                         Traceback (most recent call last)",
      "File \u001b[0;32m~/miniconda3/envs/dash/lib/python3.9/site-packages/vaex/dataframe.py:2268\u001b[0m, in \u001b[0;36mDataFrame.data_type\u001b[0;34m(self, expression, array_type, internal, axis)\u001b[0m\n\u001b[1;32m   2267\u001b[0m \u001b[39mtry\u001b[39;00m:\n\u001b[0;32m-> 2268\u001b[0m     data \u001b[39m=\u001b[39m \u001b[39mself\u001b[39;49m\u001b[39m.\u001b[39;49mevaluate(expression, \u001b[39m0\u001b[39;49m, \u001b[39m1\u001b[39;49m, filtered\u001b[39m=\u001b[39;49m\u001b[39mFalse\u001b[39;49;00m, array_type\u001b[39m=\u001b[39;49marray_type, parallel\u001b[39m=\u001b[39;49m\u001b[39mFalse\u001b[39;49;00m)\n\u001b[1;32m   2269\u001b[0m \u001b[39mexcept\u001b[39;00m:\n",
      "File \u001b[0;32m~/miniconda3/envs/dash/lib/python3.9/site-packages/vaex/dataframe.py:3090\u001b[0m, in \u001b[0;36mDataFrame.evaluate\u001b[0;34m(self, expression, i1, i2, out, selection, filtered, array_type, parallel, chunk_size, progress)\u001b[0m\n\u001b[1;32m   3089\u001b[0m \u001b[39melse\u001b[39;00m:\n\u001b[0;32m-> 3090\u001b[0m     \u001b[39mreturn\u001b[39;00m \u001b[39mself\u001b[39;49m\u001b[39m.\u001b[39;49m_evaluate_implementation(expression, i1\u001b[39m=\u001b[39;49mi1, i2\u001b[39m=\u001b[39;49mi2, out\u001b[39m=\u001b[39;49mout, selection\u001b[39m=\u001b[39;49mselection, filtered\u001b[39m=\u001b[39;49mfiltered, array_type\u001b[39m=\u001b[39;49marray_type, parallel\u001b[39m=\u001b[39;49mparallel, chunk_size\u001b[39m=\u001b[39;49mchunk_size, progress\u001b[39m=\u001b[39;49mprogress)\n",
      "File \u001b[0;32m~/miniconda3/envs/dash/lib/python3.9/site-packages/vaex/dataframe.py:6496\u001b[0m, in \u001b[0;36mDataFrameLocal._evaluate_implementation\u001b[0;34m(self, expression, i1, i2, out, selection, filtered, array_type, parallel, chunk_size, raw, progress)\u001b[0m\n\u001b[1;32m   6495\u001b[0m     deps \u001b[39m|\u001b[39m\u001b[39m=\u001b[39m filter_deps\n\u001b[0;32m-> 6496\u001b[0m columns \u001b[39m=\u001b[39m {k: dataset[k][:] \u001b[39mfor\u001b[39;00m k \u001b[39min\u001b[39;00m deps \u001b[39mif\u001b[39;00m k \u001b[39min\u001b[39;00m dataset}\n\u001b[1;32m   6498\u001b[0m \u001b[39mif\u001b[39;00m \u001b[39mself\u001b[39m\u001b[39m.\u001b[39mfiltered \u001b[39mand\u001b[39;00m filtered:\n",
      "File \u001b[0;32m~/miniconda3/envs/dash/lib/python3.9/site-packages/vaex/dataframe.py:6496\u001b[0m, in \u001b[0;36m<dictcomp>\u001b[0;34m(.0)\u001b[0m\n\u001b[1;32m   6495\u001b[0m     deps \u001b[39m|\u001b[39m\u001b[39m=\u001b[39m filter_deps\n\u001b[0;32m-> 6496\u001b[0m columns \u001b[39m=\u001b[39m {k: dataset[k][:] \u001b[39mfor\u001b[39;00m k \u001b[39min\u001b[39;00m deps \u001b[39mif\u001b[39;00m k \u001b[39min\u001b[39;00m dataset}\n\u001b[1;32m   6498\u001b[0m \u001b[39mif\u001b[39;00m \u001b[39mself\u001b[39m\u001b[39m.\u001b[39mfiltered \u001b[39mand\u001b[39;00m filtered:\n",
      "File \u001b[0;32m~/miniconda3/envs/dash/lib/python3.9/site-packages/vaex/dataset.py:582\u001b[0m, in \u001b[0;36mColumnProxy.__getitem__\u001b[0;34m(self, item)\u001b[0m\n\u001b[1;32m    581\u001b[0m ds \u001b[39m=\u001b[39m \u001b[39mself\u001b[39m\u001b[39m.\u001b[39mds\u001b[39m.\u001b[39m\u001b[39m__getitem__\u001b[39m(item)\n\u001b[0;32m--> 582\u001b[0m \u001b[39mfor\u001b[39;00m chunk_start, chunk_end, chunks \u001b[39min\u001b[39;00m ds\u001b[39m.\u001b[39mchunk_iterator([\u001b[39mself\u001b[39m\u001b[39m.\u001b[39mname]):\n\u001b[1;32m    583\u001b[0m     ar \u001b[39m=\u001b[39m chunks[\u001b[39mself\u001b[39m\u001b[39m.\u001b[39mname]\n",
      "File \u001b[0;32m~/miniconda3/envs/dash/lib/python3.9/site-packages/vaex/dataset.py:649\u001b[0m, in \u001b[0;36mDatasetRenamed.chunk_iterator\u001b[0;34m(self, columns, chunk_size, reverse)\u001b[0m\n\u001b[1;32m    648\u001b[0m columns \u001b[39m=\u001b[39m [\u001b[39mself\u001b[39m\u001b[39m.\u001b[39mreverse\u001b[39m.\u001b[39mget(name, name) \u001b[39mfor\u001b[39;00m name \u001b[39min\u001b[39;00m columns]\n\u001b[0;32m--> 649\u001b[0m \u001b[39mfor\u001b[39;00m i1, i2, chunks \u001b[39min\u001b[39;00m \u001b[39mself\u001b[39m\u001b[39m.\u001b[39moriginal\u001b[39m.\u001b[39mchunk_iterator(columns, chunk_size, reverse\u001b[39m=\u001b[39mreverse):\n\u001b[1;32m    650\u001b[0m     \u001b[39myield\u001b[39;00m i1, i2, {\u001b[39mself\u001b[39m\u001b[39m.\u001b[39mrenaming\u001b[39m.\u001b[39mget(name, name): ar \u001b[39mfor\u001b[39;00m name, ar \u001b[39min\u001b[39;00m chunks\u001b[39m.\u001b[39mitems()}\n",
      "File \u001b[0;32m~/miniconda3/envs/dash/lib/python3.9/site-packages/vaex/join.py:65\u001b[0m, in \u001b[0;36mDatasetJoin.chunk_iterator\u001b[0;34m(self, *args, **kwargs)\u001b[0m\n\u001b[1;32m     64\u001b[0m \u001b[39mdef\u001b[39;00m \u001b[39mchunk_iterator\u001b[39m(\u001b[39mself\u001b[39m, \u001b[39m*\u001b[39margs, \u001b[39m*\u001b[39m\u001b[39m*\u001b[39mkwargs):\n\u001b[0;32m---> 65\u001b[0m     \u001b[39myield from\u001b[39;00m \u001b[39mself\u001b[39m\u001b[39m.\u001b[39moriginal\u001b[39m.\u001b[39mchunk_iterator(\u001b[39m*\u001b[39margs, \u001b[39m*\u001b[39m\u001b[39m*\u001b[39mkwargs)\n",
      "File \u001b[0;32m~/miniconda3/envs/dash/lib/python3.9/site-packages/vaex/dataset.py:1236\u001b[0m, in \u001b[0;36mDatasetMerged.chunk_iterator\u001b[0;34m(self, columns, chunk_size, reverse)\u001b[0m\n\u001b[1;32m   1235\u001b[0m \u001b[39melif\u001b[39;00m \u001b[39mnot\u001b[39;00m columns_right:\n\u001b[0;32m-> 1236\u001b[0m     \u001b[39myield from\u001b[39;00m \u001b[39mself\u001b[39m\u001b[39m.\u001b[39mleft\u001b[39m.\u001b[39mchunk_iterator(columns, chunk_size, reverse\u001b[39m=\u001b[39mreverse)\n\u001b[1;32m   1237\u001b[0m \u001b[39melse\u001b[39;00m:\n",
      "File \u001b[0;32m~/miniconda3/envs/dash/lib/python3.9/site-packages/vaex/join.py:65\u001b[0m, in \u001b[0;36mDatasetJoin.chunk_iterator\u001b[0;34m(self, *args, **kwargs)\u001b[0m\n\u001b[1;32m     64\u001b[0m \u001b[39mdef\u001b[39;00m \u001b[39mchunk_iterator\u001b[39m(\u001b[39mself\u001b[39m, \u001b[39m*\u001b[39margs, \u001b[39m*\u001b[39m\u001b[39m*\u001b[39mkwargs):\n\u001b[0;32m---> 65\u001b[0m     \u001b[39myield from\u001b[39;00m \u001b[39mself\u001b[39m\u001b[39m.\u001b[39moriginal\u001b[39m.\u001b[39mchunk_iterator(\u001b[39m*\u001b[39margs, \u001b[39m*\u001b[39m\u001b[39m*\u001b[39mkwargs)\n",
      "File \u001b[0;32m~/miniconda3/envs/dash/lib/python3.9/site-packages/vaex/dataset.py:1236\u001b[0m, in \u001b[0;36mDatasetMerged.chunk_iterator\u001b[0;34m(self, columns, chunk_size, reverse)\u001b[0m\n\u001b[1;32m   1235\u001b[0m \u001b[39melif\u001b[39;00m \u001b[39mnot\u001b[39;00m columns_right:\n\u001b[0;32m-> 1236\u001b[0m     \u001b[39myield from\u001b[39;00m \u001b[39mself\u001b[39m\u001b[39m.\u001b[39mleft\u001b[39m.\u001b[39mchunk_iterator(columns, chunk_size, reverse\u001b[39m=\u001b[39mreverse)\n\u001b[1;32m   1237\u001b[0m \u001b[39melse\u001b[39;00m:\n",
      "File \u001b[0;32m~/miniconda3/envs/dash/lib/python3.9/site-packages/vaex/dataset.py:1170\u001b[0m, in \u001b[0;36mDatasetDropped.chunk_iterator\u001b[0;34m(self, columns, chunk_size, reverse)\u001b[0m\n\u001b[1;32m   1169\u001b[0m         \u001b[39mraise\u001b[39;00m \u001b[39mKeyError\u001b[39;00m(\u001b[39mf\u001b[39m\u001b[39m'\u001b[39m\u001b[39mOops, you tried to get column \u001b[39m\u001b[39m{\u001b[39;00mcolumn\u001b[39m}\u001b[39;00m\u001b[39m while it is actually dropped\u001b[39m\u001b[39m'\u001b[39m)\n\u001b[0;32m-> 1170\u001b[0m \u001b[39myield from\u001b[39;00m \u001b[39mself\u001b[39m\u001b[39m.\u001b[39moriginal\u001b[39m.\u001b[39mchunk_iterator(columns, chunk_size\u001b[39m=\u001b[39mchunk_size, reverse\u001b[39m=\u001b[39mreverse)\n",
      "File \u001b[0;32m~/miniconda3/envs/dash/lib/python3.9/site-packages/vaex/dataset.py:649\u001b[0m, in \u001b[0;36mDatasetRenamed.chunk_iterator\u001b[0;34m(self, columns, chunk_size, reverse)\u001b[0m\n\u001b[1;32m    648\u001b[0m columns \u001b[39m=\u001b[39m [\u001b[39mself\u001b[39m\u001b[39m.\u001b[39mreverse\u001b[39m.\u001b[39mget(name, name) \u001b[39mfor\u001b[39;00m name \u001b[39min\u001b[39;00m columns]\n\u001b[0;32m--> 649\u001b[0m \u001b[39mfor\u001b[39;00m i1, i2, chunks \u001b[39min\u001b[39;00m \u001b[39mself\u001b[39m\u001b[39m.\u001b[39moriginal\u001b[39m.\u001b[39mchunk_iterator(columns, chunk_size, reverse\u001b[39m=\u001b[39mreverse):\n\u001b[1;32m    650\u001b[0m     \u001b[39myield\u001b[39;00m i1, i2, {\u001b[39mself\u001b[39m\u001b[39m.\u001b[39mrenaming\u001b[39m.\u001b[39mget(name, name): ar \u001b[39mfor\u001b[39;00m name, ar \u001b[39min\u001b[39;00m chunks\u001b[39m.\u001b[39mitems()}\n",
      "File \u001b[0;32m~/miniconda3/envs/dash/lib/python3.9/site-packages/vaex/dataset.py:1170\u001b[0m, in \u001b[0;36mDatasetDropped.chunk_iterator\u001b[0;34m(self, columns, chunk_size, reverse)\u001b[0m\n\u001b[1;32m   1169\u001b[0m         \u001b[39mraise\u001b[39;00m \u001b[39mKeyError\u001b[39;00m(\u001b[39mf\u001b[39m\u001b[39m'\u001b[39m\u001b[39mOops, you tried to get column \u001b[39m\u001b[39m{\u001b[39;00mcolumn\u001b[39m}\u001b[39;00m\u001b[39m while it is actually dropped\u001b[39m\u001b[39m'\u001b[39m)\n\u001b[0;32m-> 1170\u001b[0m \u001b[39myield from\u001b[39;00m \u001b[39mself\u001b[39m\u001b[39m.\u001b[39moriginal\u001b[39m.\u001b[39mchunk_iterator(columns, chunk_size\u001b[39m=\u001b[39mchunk_size, reverse\u001b[39m=\u001b[39mreverse)\n",
      "File \u001b[0;32m~/miniconda3/envs/dash/lib/python3.9/site-packages/vaex/dataset.py:649\u001b[0m, in \u001b[0;36mDatasetRenamed.chunk_iterator\u001b[0;34m(self, columns, chunk_size, reverse)\u001b[0m\n\u001b[1;32m    648\u001b[0m columns \u001b[39m=\u001b[39m [\u001b[39mself\u001b[39m\u001b[39m.\u001b[39mreverse\u001b[39m.\u001b[39mget(name, name) \u001b[39mfor\u001b[39;00m name \u001b[39min\u001b[39;00m columns]\n\u001b[0;32m--> 649\u001b[0m \u001b[39mfor\u001b[39;00m i1, i2, chunks \u001b[39min\u001b[39;00m \u001b[39mself\u001b[39m\u001b[39m.\u001b[39moriginal\u001b[39m.\u001b[39mchunk_iterator(columns, chunk_size, reverse\u001b[39m=\u001b[39mreverse):\n\u001b[1;32m    650\u001b[0m     \u001b[39myield\u001b[39;00m i1, i2, {\u001b[39mself\u001b[39m\u001b[39m.\u001b[39mrenaming\u001b[39m.\u001b[39mget(name, name): ar \u001b[39mfor\u001b[39;00m name, ar \u001b[39min\u001b[39;00m chunks\u001b[39m.\u001b[39mitems()}\n",
      "File \u001b[0;32m~/miniconda3/envs/dash/lib/python3.9/site-packages/vaex/dataset.py:1055\u001b[0m, in \u001b[0;36mDatasetSliced.chunk_iterator\u001b[0;34m(self, columns, chunk_size, reverse)\u001b[0m\n\u001b[1;32m   1054\u001b[0m \u001b[39mdef\u001b[39;00m \u001b[39mchunk_iterator\u001b[39m(\u001b[39mself\u001b[39m, columns, chunk_size\u001b[39m=\u001b[39m\u001b[39mNone\u001b[39;00m, reverse\u001b[39m=\u001b[39m\u001b[39mFalse\u001b[39;00m):\n\u001b[0;32m-> 1055\u001b[0m     \u001b[39myield from\u001b[39;00m \u001b[39mself\u001b[39m\u001b[39m.\u001b[39moriginal\u001b[39m.\u001b[39mchunk_iterator(columns, chunk_size\u001b[39m=\u001b[39mchunk_size, reverse\u001b[39m=\u001b[39mreverse, start\u001b[39m=\u001b[39m\u001b[39mself\u001b[39m\u001b[39m.\u001b[39mstart, end\u001b[39m=\u001b[39m\u001b[39mself\u001b[39m\u001b[39m.\u001b[39mend)\n",
      "File \u001b[0;32m~/miniconda3/envs/dash/lib/python3.9/site-packages/vaex/dataset.py:833\u001b[0m, in \u001b[0;36mDatasetConcatenated.chunk_iterator\u001b[0;34m(self, columns, chunk_size, reverse, start, end)\u001b[0m\n\u001b[1;32m    832\u001b[0m chunk_iterator \u001b[39m=\u001b[39m \u001b[39mself\u001b[39m\u001b[39m.\u001b[39m_chunk_iterator_non_strict(columns, chunk_size, reverse\u001b[39m=\u001b[39mreverse, start\u001b[39m=\u001b[39mstart, end\u001b[39m=\u001b[39m\u001b[39mself\u001b[39m\u001b[39m.\u001b[39mrow_count \u001b[39mif\u001b[39;00m end \u001b[39mis\u001b[39;00m \u001b[39mNone\u001b[39;00m \u001b[39melse\u001b[39;00m end)\n\u001b[0;32m--> 833\u001b[0m \u001b[39myield from\u001b[39;00m _rechunk(chunk_iterator, chunk_size)\n",
      "File \u001b[0;32m~/miniconda3/envs/dash/lib/python3.9/site-packages/vaex/dataset.py:302\u001b[0m, in \u001b[0;36m_rechunk\u001b[0;34m(chunk_iter, chunk_size)\u001b[0m\n\u001b[1;32m    301\u001b[0m         i1 \u001b[39m=\u001b[39m i2\n\u001b[0;32m--> 302\u001b[0m \u001b[39myield from\u001b[39;00m chunk_rechunk(wrapper(), chunk_size)\n",
      "File \u001b[0;32m~/miniconda3/envs/dash/lib/python3.9/site-packages/vaex/dataset.py:277\u001b[0m, in \u001b[0;36mchunk_rechunk\u001b[0;34m(chunk_iter, chunk_size)\u001b[0m\n\u001b[1;32m    276\u001b[0m i1 \u001b[39m=\u001b[39m i2 \u001b[39m=\u001b[39m \u001b[39m0\u001b[39m\n\u001b[0;32m--> 277\u001b[0m \u001b[39mfor\u001b[39;00m _, _, chunks \u001b[39min\u001b[39;00m chunk_iter:\n\u001b[1;32m    278\u001b[0m     chunks_ready_list\u001b[39m.\u001b[39mappend(chunks)\n",
      "File \u001b[0;32m~/miniconda3/envs/dash/lib/python3.9/site-packages/vaex/dataset.py:298\u001b[0m, in \u001b[0;36m_rechunk.<locals>.wrapper\u001b[0;34m()\u001b[0m\n\u001b[1;32m    297\u001b[0m i1 \u001b[39m=\u001b[39m i2 \u001b[39m=\u001b[39m \u001b[39m0\u001b[39m\n\u001b[0;32m--> 298\u001b[0m \u001b[39mfor\u001b[39;00m chunks \u001b[39min\u001b[39;00m chunk_iter:\n\u001b[1;32m    299\u001b[0m     i2 \u001b[39m+\u001b[39m\u001b[39m=\u001b[39m \u001b[39mlen\u001b[39m(\u001b[39mlist\u001b[39m(chunks\u001b[39m.\u001b[39mvalues())[\u001b[39m0\u001b[39m])\n",
      "File \u001b[0;32m~/miniconda3/envs/dash/lib/python3.9/site-packages/vaex/dataset.py:782\u001b[0m, in \u001b[0;36mDatasetConcatenated._chunk_iterator_non_strict\u001b[0;34m(self, columns, chunk_size, reverse, start, end)\u001b[0m\n\u001b[1;32m    781\u001b[0m     \u001b[39mbreak\u001b[39;00m\n\u001b[0;32m--> 782\u001b[0m \u001b[39mfor\u001b[39;00m i1, i2, chunks \u001b[39min\u001b[39;00m dataset\u001b[39m.\u001b[39mchunk_iterator(present, chunk_size\u001b[39m=\u001b[39mchunk_size, reverse\u001b[39m=\u001b[39mreverse):\n\u001b[1;32m    783\u001b[0m     \u001b[39m# chunks = {name: vaex.array_types.to_arrow(ar) for name, ar in chunks.items()}\u001b[39;00m\n\u001b[1;32m    784\u001b[0m     length \u001b[39m=\u001b[39m i2 \u001b[39m-\u001b[39m i1\n",
      "File \u001b[0;32m~/miniconda3/envs/dash/lib/python3.9/site-packages/vaex/join.py:65\u001b[0m, in \u001b[0;36mDatasetJoin.chunk_iterator\u001b[0;34m(self, *args, **kwargs)\u001b[0m\n\u001b[1;32m     64\u001b[0m \u001b[39mdef\u001b[39;00m \u001b[39mchunk_iterator\u001b[39m(\u001b[39mself\u001b[39m, \u001b[39m*\u001b[39margs, \u001b[39m*\u001b[39m\u001b[39m*\u001b[39mkwargs):\n\u001b[0;32m---> 65\u001b[0m     \u001b[39myield from\u001b[39;00m \u001b[39mself\u001b[39m\u001b[39m.\u001b[39moriginal\u001b[39m.\u001b[39mchunk_iterator(\u001b[39m*\u001b[39margs, \u001b[39m*\u001b[39m\u001b[39m*\u001b[39mkwargs)\n",
      "File \u001b[0;32m~/miniconda3/envs/dash/lib/python3.9/site-packages/vaex/dataset.py:1234\u001b[0m, in \u001b[0;36mDatasetMerged.chunk_iterator\u001b[0;34m(self, columns, chunk_size, reverse)\u001b[0m\n\u001b[1;32m   1233\u001b[0m \u001b[39mif\u001b[39;00m \u001b[39mnot\u001b[39;00m columns_left:\n\u001b[0;32m-> 1234\u001b[0m     \u001b[39myield from\u001b[39;00m \u001b[39mself\u001b[39m\u001b[39m.\u001b[39mright\u001b[39m.\u001b[39mchunk_iterator(columns, chunk_size, reverse\u001b[39m=\u001b[39mreverse)\n\u001b[1;32m   1235\u001b[0m \u001b[39melif\u001b[39;00m \u001b[39mnot\u001b[39;00m columns_right:\n",
      "File \u001b[0;32m~/miniconda3/envs/dash/lib/python3.9/site-packages/vaex/dataset.py:913\u001b[0m, in \u001b[0;36mDatasetTake.chunk_iterator\u001b[0;34m(self, columns, chunk_size, reverse)\u001b[0m\n\u001b[1;32m    910\u001b[0m \u001b[39mdef\u001b[39;00m \u001b[39mchunk_iterator\u001b[39m(\u001b[39mself\u001b[39m, columns, chunk_size\u001b[39m=\u001b[39m\u001b[39mNone\u001b[39;00m, reverse\u001b[39m=\u001b[39m\u001b[39mFalse\u001b[39;00m):\n\u001b[1;32m    911\u001b[0m     \u001b[39m# TODO: we may be able to do this slightly more efficient by first\u001b[39;00m\n\u001b[1;32m    912\u001b[0m     \u001b[39m# materializing the columns\u001b[39;00m\n\u001b[0;32m--> 913\u001b[0m     \u001b[39myield from\u001b[39;00m \u001b[39mself\u001b[39m\u001b[39m.\u001b[39m_default_chunk_iterator(\u001b[39mself\u001b[39m\u001b[39m.\u001b[39m_columns, columns, chunk_size, reverse\u001b[39m=\u001b[39mreverse)\n",
      "File \u001b[0;32m~/miniconda3/envs/dash/lib/python3.9/site-packages/vaex/dataset.py:508\u001b[0m, in \u001b[0;36mDataset._default_chunk_iterator\u001b[0;34m(self, array_map, columns, chunk_size, reverse)\u001b[0m\n\u001b[1;32m    507\u001b[0m \u001b[39mfor\u001b[39;00m i1, i2, reader \u001b[39min\u001b[39;00m \u001b[39mself\u001b[39m\u001b[39m.\u001b[39m_default_lazy_chunk_iterator(array_map, columns, chunk_size, reverse):\n\u001b[0;32m--> 508\u001b[0m     \u001b[39myield\u001b[39;00m i1, i2, reader()\n",
      "File \u001b[0;32m~/miniconda3/envs/dash/lib/python3.9/site-packages/vaex/dataset.py:499\u001b[0m, in \u001b[0;36mDataset._default_lazy_chunk_iterator.<locals>.reader\u001b[0;34m(i1, i2)\u001b[0m\n\u001b[1;32m    498\u001b[0m \u001b[39mdef\u001b[39;00m \u001b[39mreader\u001b[39m(i1\u001b[39m=\u001b[39mi1, i2\u001b[39m=\u001b[39mi2):\n\u001b[0;32m--> 499\u001b[0m     chunks \u001b[39m=\u001b[39m {k: array_map[k][i1:i2] \u001b[39mfor\u001b[39;00m k \u001b[39min\u001b[39;00m columns}\n\u001b[1;32m    500\u001b[0m     length \u001b[39m=\u001b[39m i2 \u001b[39m-\u001b[39m i1\n",
      "File \u001b[0;32m~/miniconda3/envs/dash/lib/python3.9/site-packages/vaex/dataset.py:499\u001b[0m, in \u001b[0;36m<dictcomp>\u001b[0;34m(.0)\u001b[0m\n\u001b[1;32m    498\u001b[0m \u001b[39mdef\u001b[39;00m \u001b[39mreader\u001b[39m(i1\u001b[39m=\u001b[39mi1, i2\u001b[39m=\u001b[39mi2):\n\u001b[0;32m--> 499\u001b[0m     chunks \u001b[39m=\u001b[39m {k: array_map[k][i1:i2] \u001b[39mfor\u001b[39;00m k \u001b[39min\u001b[39;00m columns}\n\u001b[1;32m    500\u001b[0m     length \u001b[39m=\u001b[39m i2 \u001b[39m-\u001b[39m i1\n",
      "File \u001b[0;32m~/miniconda3/envs/dash/lib/python3.9/site-packages/vaex/column.py:382\u001b[0m, in \u001b[0;36mColumnIndexed.__getitem__\u001b[0;34m(self, slice)\u001b[0m\n\u001b[1;32m    381\u001b[0m \u001b[39melse\u001b[39;00m:\n\u001b[0;32m--> 382\u001b[0m     ar \u001b[39m=\u001b[39m ar_unfiltered[take_indices]\n\u001b[1;32m    383\u001b[0m \u001b[39massert\u001b[39;00m \u001b[39mnot\u001b[39;00m np\u001b[39m.\u001b[39mma\u001b[39m.\u001b[39misMaskedArray(indices)\n",
      "\u001b[0;31mKeyboardInterrupt\u001b[0m: ",
      "\nDuring handling of the above exception, another exception occurred:\n",
      "\u001b[0;31mRuntimeError\u001b[0m                              Traceback (most recent call last)",
      "\u001b[1;32m/home/fernando/dev/dash-iptu/14 - Preparando dados do IPTU recorrente.ipynb Cell 90\u001b[0m in \u001b[0;36m<cell line: 1>\u001b[0;34m()\u001b[0m\n\u001b[1;32m      <a href='vscode-notebook-cell:/home/fernando/dev/dash-iptu/14%20-%20Preparando%20dados%20do%20IPTU%20recorrente.ipynb#Y155sZmlsZQ%3D%3D?line=1'>2</a>\u001b[0m \u001b[39mprint\u001b[39m(dist\u001b[39m.\u001b[39mds_codigo, dist\u001b[39m.\u001b[39mds_nome\u001b[39m.\u001b[39mlower()\u001b[39m.\u001b[39mreplace(\u001b[39m'\u001b[39m\u001b[39m \u001b[39m\u001b[39m'\u001b[39m, \u001b[39m'\u001b[39m\u001b[39m-\u001b[39m\u001b[39m'\u001b[39m))\n\u001b[1;32m      <a href='vscode-notebook-cell:/home/fernando/dev/dash-iptu/14%20-%20Preparando%20dados%20do%20IPTU%20recorrente.ipynb#Y155sZmlsZQ%3D%3D?line=2'>3</a>\u001b[0m df_iptu_distrito \u001b[39m=\u001b[39m df_iptu[df_iptu\u001b[39m.\u001b[39mdistrito \u001b[39m==\u001b[39m \u001b[39mint\u001b[39m(dist\u001b[39m.\u001b[39mds_codigo)]\n\u001b[0;32m----> <a href='vscode-notebook-cell:/home/fernando/dev/dash-iptu/14%20-%20Preparando%20dados%20do%20IPTU%20recorrente.ipynb#Y155sZmlsZQ%3D%3D?line=3'>4</a>\u001b[0m df \u001b[39m=\u001b[39m agrupamento(df_iptu_distrito, \u001b[39m'\u001b[39;49m\u001b[39msqlc\u001b[39;49m\u001b[39m'\u001b[39;49m)\n\u001b[1;32m      <a href='vscode-notebook-cell:/home/fernando/dev/dash-iptu/14%20-%20Preparando%20dados%20do%20IPTU%20recorrente.ipynb#Y155sZmlsZQ%3D%3D?line=4'>5</a>\u001b[0m \u001b[39m# for u in ['Residencial', 'Comercial', 'Serviços', 'Industrial', 'Outros']:\u001b[39;00m\n\u001b[1;32m      <a href='vscode-notebook-cell:/home/fernando/dev/dash-iptu/14%20-%20Preparando%20dados%20do%20IPTU%20recorrente.ipynb#Y155sZmlsZQ%3D%3D?line=5'>6</a>\u001b[0m \u001b[39m#     df[f'Percentual de Uso {u}'] = df[u] / df['Área Total Construída']\u001b[39;00m\n\u001b[1;32m      <a href='vscode-notebook-cell:/home/fernando/dev/dash-iptu/14%20-%20Preparando%20dados%20do%20IPTU%20recorrente.ipynb#Y155sZmlsZQ%3D%3D?line=6'>7</a>\u001b[0m df\u001b[39m.\u001b[39mexport_hdf5(\u001b[39mf\u001b[39m\u001b[39m\"\u001b[39m\u001b[39mdata/por_distritos/IPTU-1995-\u001b[39m\u001b[39m{\u001b[39;00mexercicio_fim\u001b[39m}\u001b[39;00m\u001b[39m-agrupados-por-sqlc-\u001b[39m\u001b[39m{\u001b[39;00mdist\u001b[39m.\u001b[39mds_codigo\u001b[39m}\u001b[39;00m\u001b[39m-\u001b[39m\u001b[39m{\u001b[39;00mdist\u001b[39m.\u001b[39mds_nome\u001b[39m.\u001b[39mlower()\u001b[39m.\u001b[39mreplace(\u001b[39m'\u001b[39m\u001b[39m \u001b[39m\u001b[39m'\u001b[39m, \u001b[39m'\u001b[39m\u001b[39m-\u001b[39m\u001b[39m'\u001b[39m)\u001b[39m}\u001b[39;00m\u001b[39m.hdf5\u001b[39m\u001b[39m\"\u001b[39m)\n",
      "\u001b[1;32m/home/fernando/dev/dash-iptu/14 - Preparando dados do IPTU recorrente.ipynb Cell 90\u001b[0m in \u001b[0;36magrupamento\u001b[0;34m(df, campo)\u001b[0m\n\u001b[1;32m      <a href='vscode-notebook-cell:/home/fernando/dev/dash-iptu/14%20-%20Preparando%20dados%20do%20IPTU%20recorrente.ipynb#Y155sZmlsZQ%3D%3D?line=1'>2</a>\u001b[0m \u001b[39mdef\u001b[39;00m \u001b[39magrupamento\u001b[39m(df, campo):\n\u001b[0;32m----> <a href='vscode-notebook-cell:/home/fernando/dev/dash-iptu/14%20-%20Preparando%20dados%20do%20IPTU%20recorrente.ipynb#Y155sZmlsZQ%3D%3D?line=2'>3</a>\u001b[0m     \u001b[39mreturn\u001b[39;00m df\u001b[39m.\u001b[39;49mgroupby([campo, \u001b[39m'\u001b[39;49m\u001b[39mano\u001b[39;49m\u001b[39m'\u001b[39;49m],agg\u001b[39m=\u001b[39;49magg)\n",
      "File \u001b[0;32m~/miniconda3/envs/dash/lib/python3.9/site-packages/vaex/dataframe.py:7092\u001b[0m, in \u001b[0;36mDataFrameLocal.groupby\u001b[0;34m(self, by, agg, sort, ascending, assume_sparse, row_limit, copy, progress, delay)\u001b[0m\n\u001b[1;32m   7090\u001b[0m     \u001b[39melse\u001b[39;00m:\n\u001b[1;32m   7091\u001b[0m         \u001b[39mreturn\u001b[39;00m groupby\u001b[39m.\u001b[39magg(agg, delay\u001b[39m=\u001b[39mdelay, progress\u001b[39m=\u001b[39mprogressbar_agg)\n\u001b[0;32m-> 7092\u001b[0m \u001b[39mreturn\u001b[39;00m \u001b[39mself\u001b[39;49m\u001b[39m.\u001b[39;49m_delay(delay, progressbar\u001b[39m.\u001b[39;49mexit_on(\u001b[39mnext\u001b[39;49m(groupby\u001b[39m.\u001b[39;49m_promise_by)))\n",
      "File \u001b[0;32m~/miniconda3/envs/dash/lib/python3.9/site-packages/vaex/dataframe.py:1776\u001b[0m, in \u001b[0;36mDataFrame._delay\u001b[0;34m(self, delay, task, progressbar)\u001b[0m\n\u001b[1;32m   1774\u001b[0m \u001b[39melse\u001b[39;00m:\n\u001b[1;32m   1775\u001b[0m     \u001b[39mself\u001b[39m\u001b[39m.\u001b[39mexecute()\n\u001b[0;32m-> 1776\u001b[0m     \u001b[39mreturn\u001b[39;00m task\u001b[39m.\u001b[39;49mget()\n",
      "File \u001b[0;32m~/miniconda3/envs/dash/lib/python3.9/site-packages/aplus/__init__.py:170\u001b[0m, in \u001b[0;36mPromise.get\u001b[0;34m(self, timeout)\u001b[0m\n\u001b[1;32m    168\u001b[0m     \u001b[39mreturn\u001b[39;00m \u001b[39mself\u001b[39m\u001b[39m.\u001b[39m_value\n\u001b[1;32m    169\u001b[0m \u001b[39melse\u001b[39;00m:\n\u001b[0;32m--> 170\u001b[0m     \u001b[39mraise\u001b[39;00m \u001b[39mself\u001b[39m\u001b[39m.\u001b[39m_reason\n",
      "File \u001b[0;32m~/miniconda3/envs/dash/lib/python3.9/site-packages/vaex/promise.py:121\u001b[0m, in \u001b[0;36mPromise.then.<locals>.callAndReject\u001b[0;34m(r)\u001b[0m\n\u001b[1;32m    119\u001b[0m \u001b[39mtry\u001b[39;00m:\n\u001b[1;32m    120\u001b[0m     \u001b[39mif\u001b[39;00m aplus\u001b[39m.\u001b[39m_isFunction(failure):\n\u001b[0;32m--> 121\u001b[0m         ret\u001b[39m.\u001b[39mfulfill(failure(r))\n\u001b[1;32m    122\u001b[0m     \u001b[39melse\u001b[39;00m:\n\u001b[1;32m    123\u001b[0m         ret\u001b[39m.\u001b[39mreject(r)\n",
      "File \u001b[0;32m~/miniconda3/envs/dash/lib/python3.9/site-packages/vaex/progress.py:91\u001b[0m, in \u001b[0;36mProgressTree.exit_on.<locals>.error\u001b[0;34m(arg)\u001b[0m\n\u001b[1;32m     89\u001b[0m \u001b[39mdef\u001b[39;00m \u001b[39merror\u001b[39m(arg):\n\u001b[1;32m     90\u001b[0m     \u001b[39mself\u001b[39m\u001b[39m.\u001b[39mexit()\n\u001b[0;32m---> 91\u001b[0m     \u001b[39mraise\u001b[39;00m arg\n",
      "File \u001b[0;32m~/miniconda3/envs/dash/lib/python3.9/site-packages/vaex/promise.py:106\u001b[0m, in \u001b[0;36mPromise.then.<locals>.callAndFulfill\u001b[0;34m(v)\u001b[0m\n\u001b[1;32m    104\u001b[0m \u001b[39mtry\u001b[39;00m:\n\u001b[1;32m    105\u001b[0m     \u001b[39mif\u001b[39;00m aplus\u001b[39m.\u001b[39m_isFunction(success):\n\u001b[0;32m--> 106\u001b[0m         ret\u001b[39m.\u001b[39mfulfill(success(v))\n\u001b[1;32m    107\u001b[0m     \u001b[39melse\u001b[39;00m:\n\u001b[1;32m    108\u001b[0m         ret\u001b[39m.\u001b[39mfulfill(v)\n",
      "File \u001b[0;32m~/miniconda3/envs/dash/lib/python3.9/site-packages/vaex/delayed.py:82\u001b[0m, in \u001b[0;36mdelayed.<locals>.wrapped.<locals>.call\u001b[0;34m(_)\u001b[0m\n\u001b[1;32m     80\u001b[0m kwargs_real \u001b[39m=\u001b[39m {key: promise\u001b[39m.\u001b[39mget() \u001b[39mfor\u001b[39;00m key, promise \u001b[39min\u001b[39;00m key_promise}\n\u001b[1;32m     81\u001b[0m args_real \u001b[39m=\u001b[39m \u001b[39mlist\u001b[39m([promise\u001b[39m.\u001b[39mget() \u001b[39mfor\u001b[39;00m promise \u001b[39min\u001b[39;00m arg_promises])\n\u001b[0;32m---> 82\u001b[0m \u001b[39mreturn\u001b[39;00m f(\u001b[39m*\u001b[39;49margs_real, \u001b[39m*\u001b[39;49m\u001b[39m*\u001b[39;49mkwargs_real)\n",
      "File \u001b[0;32m~/miniconda3/envs/dash/lib/python3.9/site-packages/vaex/dataframe.py:7091\u001b[0m, in \u001b[0;36mDataFrameLocal.groupby.<locals>.next\u001b[0;34m(_ignore)\u001b[0m\n\u001b[1;32m   7089\u001b[0m     \u001b[39mreturn\u001b[39;00m groupby\n\u001b[1;32m   7090\u001b[0m \u001b[39melse\u001b[39;00m:\n\u001b[0;32m-> 7091\u001b[0m     \u001b[39mreturn\u001b[39;00m groupby\u001b[39m.\u001b[39;49magg(agg, delay\u001b[39m=\u001b[39;49mdelay, progress\u001b[39m=\u001b[39;49mprogressbar_agg)\n",
      "File \u001b[0;32m~/miniconda3/envs/dash/lib/python3.9/site-packages/vaex/groupby.py:960\u001b[0m, in \u001b[0;36mGroupBy.agg\u001b[0;34m(self, actions, delay, progress)\u001b[0m\n\u001b[1;32m    958\u001b[0m     \u001b[39mreturn\u001b[39;00m result\n\u001b[1;32m    959\u001b[0m \u001b[39melse\u001b[39;00m:\n\u001b[0;32m--> 960\u001b[0m     \u001b[39mself\u001b[39;49m\u001b[39m.\u001b[39;49mdf\u001b[39m.\u001b[39;49mexecute()\n\u001b[1;32m    961\u001b[0m     \u001b[39mreturn\u001b[39;00m result\u001b[39m.\u001b[39mget()\n",
      "File \u001b[0;32m~/miniconda3/envs/dash/lib/python3.9/site-packages/vaex/dataframe.py:417\u001b[0m, in \u001b[0;36mDataFrame.execute\u001b[0;34m(self)\u001b[0m\n\u001b[1;32m    415\u001b[0m         \u001b[39mprint\u001b[39m(\u001b[39mrepr\u001b[39m(task))\n\u001b[1;32m    416\u001b[0m \u001b[39mif\u001b[39;00m \u001b[39mself\u001b[39m\u001b[39m.\u001b[39mexecutor\u001b[39m.\u001b[39mtasks:\n\u001b[0;32m--> 417\u001b[0m     \u001b[39mself\u001b[39;49m\u001b[39m.\u001b[39;49mexecutor\u001b[39m.\u001b[39;49mexecute()\n",
      "File \u001b[0;32m~/miniconda3/envs/dash/lib/python3.9/site-packages/vaex/execution.py:308\u001b[0m, in \u001b[0;36mExecutorLocal.execute\u001b[0;34m(self)\u001b[0m\n\u001b[1;32m    307\u001b[0m \u001b[39mdef\u001b[39;00m \u001b[39mexecute\u001b[39m(\u001b[39mself\u001b[39m):\n\u001b[0;32m--> 308\u001b[0m     \u001b[39mfor\u001b[39;00m _ \u001b[39min\u001b[39;00m \u001b[39mself\u001b[39m\u001b[39m.\u001b[39mexecute_generator():\n\u001b[1;32m    309\u001b[0m         \u001b[39mpass\u001b[39;00m\n",
      "File \u001b[0;32m~/miniconda3/envs/dash/lib/python3.9/site-packages/vaex/execution.py:345\u001b[0m, in \u001b[0;36mExecutorLocal.execute_generator\u001b[0;34m(self, use_async)\u001b[0m\n\u001b[1;32m    343\u001b[0m \u001b[39mif\u001b[39;00m \u001b[39mnot\u001b[39;00m tasks:\n\u001b[1;32m    344\u001b[0m     \u001b[39mbreak\u001b[39;00m\n\u001b[0;32m--> 345\u001b[0m tasks \u001b[39m=\u001b[39m _merge(tasks)\n\u001b[1;32m    346\u001b[0m run \u001b[39m=\u001b[39m Run(tasks)\n\u001b[1;32m    347\u001b[0m \u001b[39mself\u001b[39m\u001b[39m.\u001b[39mpasses \u001b[39m+\u001b[39m\u001b[39m=\u001b[39m \u001b[39m1\u001b[39m\n",
      "File \u001b[0;32m~/miniconda3/envs/dash/lib/python3.9/site-packages/vaex/execution.py:137\u001b[0m, in \u001b[0;36m_merge\u001b[0;34m(tasks)\u001b[0m\n\u001b[1;32m    135\u001b[0m \u001b[39mfor\u001b[39;00m df \u001b[39min\u001b[39;00m dfs:\n\u001b[1;32m    136\u001b[0m     tasks_df \u001b[39m=\u001b[39m [k \u001b[39mfor\u001b[39;00m k \u001b[39min\u001b[39;00m tasks \u001b[39mif\u001b[39;00m k\u001b[39m.\u001b[39mdf \u001b[39m==\u001b[39m df]\n\u001b[0;32m--> 137\u001b[0m     tasks_merged\u001b[39m.\u001b[39mextend(_merge_tasks_for_df(tasks_df, df))\n\u001b[1;32m    138\u001b[0m \u001b[39mreturn\u001b[39;00m tasks_merged\n",
      "File \u001b[0;32m~/miniconda3/envs/dash/lib/python3.9/site-packages/vaex/execution.py:161\u001b[0m, in \u001b[0;36m_merge_tasks_for_df\u001b[0;34m(tasks, df)\u001b[0m\n\u001b[1;32m    159\u001b[0m     \u001b[39mreturn\u001b[39;00m result\n\u001b[1;32m    160\u001b[0m task_merged\u001b[39m.\u001b[39msignal_progress\u001b[39m.\u001b[39mconnect(progress_wrapper)\n\u001b[0;32m--> 161\u001b[0m task_merged\u001b[39m.\u001b[39;49madd_aggregation_operation(subtask\u001b[39m.\u001b[39;49maggregation_description)\n\u001b[1;32m    162\u001b[0m \u001b[39m@vaex\u001b[39m\u001b[39m.\u001b[39mdelayed\n\u001b[1;32m    163\u001b[0m \u001b[39mdef\u001b[39;00m \u001b[39massign\u001b[39m(value, i\u001b[39m=\u001b[39mi, subtask\u001b[39m=\u001b[39msubtask):\n\u001b[1;32m    164\u001b[0m     subtask\u001b[39m.\u001b[39mfulfill(value[i])\n",
      "File \u001b[0;32m~/miniconda3/envs/dash/lib/python3.9/site-packages/vaex/tasks.py:492\u001b[0m, in \u001b[0;36mTaskAggregations.add_aggregation_operation\u001b[0;34m(self, aggregator_descriptor)\u001b[0m\n\u001b[1;32m    490\u001b[0m \u001b[39mself\u001b[39m\u001b[39m.\u001b[39mexpressions_all\u001b[39m.\u001b[39mextend(aggregator_descriptor\u001b[39m.\u001b[39mexpressions)\n\u001b[1;32m    491\u001b[0m \u001b[39m# TODO: optimize/remove?\u001b[39;00m\n\u001b[0;32m--> 492\u001b[0m \u001b[39mself\u001b[39m\u001b[39m.\u001b[39mdtypes \u001b[39m=\u001b[39m {expr: \u001b[39mself\u001b[39m\u001b[39m.\u001b[39mdf\u001b[39m.\u001b[39mdata_type(expr)\u001b[39m.\u001b[39mindex_type \u001b[39mfor\u001b[39;00m expr \u001b[39min\u001b[39;00m \u001b[39mself\u001b[39m\u001b[39m.\u001b[39mexpressions_all}\n\u001b[1;32m    493\u001b[0m \u001b[39mreturn\u001b[39;00m task\n",
      "File \u001b[0;32m~/miniconda3/envs/dash/lib/python3.9/site-packages/vaex/tasks.py:492\u001b[0m, in \u001b[0;36m<dictcomp>\u001b[0;34m(.0)\u001b[0m\n\u001b[1;32m    490\u001b[0m \u001b[39mself\u001b[39m\u001b[39m.\u001b[39mexpressions_all\u001b[39m.\u001b[39mextend(aggregator_descriptor\u001b[39m.\u001b[39mexpressions)\n\u001b[1;32m    491\u001b[0m \u001b[39m# TODO: optimize/remove?\u001b[39;00m\n\u001b[0;32m--> 492\u001b[0m \u001b[39mself\u001b[39m\u001b[39m.\u001b[39mdtypes \u001b[39m=\u001b[39m {expr: \u001b[39mself\u001b[39;49m\u001b[39m.\u001b[39;49mdf\u001b[39m.\u001b[39;49mdata_type(expr)\u001b[39m.\u001b[39mindex_type \u001b[39mfor\u001b[39;00m expr \u001b[39min\u001b[39;00m \u001b[39mself\u001b[39m\u001b[39m.\u001b[39mexpressions_all}\n\u001b[1;32m    493\u001b[0m \u001b[39mreturn\u001b[39;00m task\n",
      "File \u001b[0;32m~/miniconda3/envs/dash/lib/python3.9/site-packages/vaex/dataframe.py:2270\u001b[0m, in \u001b[0;36mDataFrame.data_type\u001b[0;34m(self, expression, array_type, internal, axis)\u001b[0m\n\u001b[1;32m   2268\u001b[0m         data \u001b[39m=\u001b[39m \u001b[39mself\u001b[39m\u001b[39m.\u001b[39mevaluate(expression, \u001b[39m0\u001b[39m, \u001b[39m1\u001b[39m, filtered\u001b[39m=\u001b[39m\u001b[39mFalse\u001b[39;00m, array_type\u001b[39m=\u001b[39marray_type, parallel\u001b[39m=\u001b[39m\u001b[39mFalse\u001b[39;00m)\n\u001b[1;32m   2269\u001b[0m     \u001b[39mexcept\u001b[39;00m:\n\u001b[0;32m-> 2270\u001b[0m         data \u001b[39m=\u001b[39m \u001b[39mself\u001b[39;49m\u001b[39m.\u001b[39;49mevaluate(expression, \u001b[39m0\u001b[39;49m, \u001b[39m1\u001b[39;49m, filtered\u001b[39m=\u001b[39;49m\u001b[39mTrue\u001b[39;49;00m, array_type\u001b[39m=\u001b[39;49marray_type, parallel\u001b[39m=\u001b[39;49m\u001b[39mFalse\u001b[39;49;00m)\n\u001b[1;32m   2271\u001b[0m \u001b[39mif\u001b[39;00m data_type \u001b[39mis\u001b[39;00m \u001b[39mNone\u001b[39;00m:\n\u001b[1;32m   2272\u001b[0m     \u001b[39m# means we have to determine it from the data\u001b[39;00m\n\u001b[1;32m   2273\u001b[0m     \u001b[39mif\u001b[39;00m \u001b[39misinstance\u001b[39m(data, np\u001b[39m.\u001b[39mndarray):\n",
      "File \u001b[0;32m~/miniconda3/envs/dash/lib/python3.9/site-packages/vaex/dataframe.py:3090\u001b[0m, in \u001b[0;36mDataFrame.evaluate\u001b[0;34m(self, expression, i1, i2, out, selection, filtered, array_type, parallel, chunk_size, progress)\u001b[0m\n\u001b[1;32m   3088\u001b[0m     \u001b[39mreturn\u001b[39;00m \u001b[39mself\u001b[39m\u001b[39m.\u001b[39mevaluate_iterator(expression, s1\u001b[39m=\u001b[39mi1, s2\u001b[39m=\u001b[39mi2, out\u001b[39m=\u001b[39mout, selection\u001b[39m=\u001b[39mselection, filtered\u001b[39m=\u001b[39mfiltered, array_type\u001b[39m=\u001b[39marray_type, parallel\u001b[39m=\u001b[39mparallel, chunk_size\u001b[39m=\u001b[39mchunk_size, progress\u001b[39m=\u001b[39mprogress)\n\u001b[1;32m   3089\u001b[0m \u001b[39melse\u001b[39;00m:\n\u001b[0;32m-> 3090\u001b[0m     \u001b[39mreturn\u001b[39;00m \u001b[39mself\u001b[39;49m\u001b[39m.\u001b[39;49m_evaluate_implementation(expression, i1\u001b[39m=\u001b[39;49mi1, i2\u001b[39m=\u001b[39;49mi2, out\u001b[39m=\u001b[39;49mout, selection\u001b[39m=\u001b[39;49mselection, filtered\u001b[39m=\u001b[39;49mfiltered, array_type\u001b[39m=\u001b[39;49marray_type, parallel\u001b[39m=\u001b[39;49mparallel, chunk_size\u001b[39m=\u001b[39;49mchunk_size, progress\u001b[39m=\u001b[39;49mprogress)\n",
      "File \u001b[0;32m~/miniconda3/envs/dash/lib/python3.9/site-packages/vaex/dataframe.py:6349\u001b[0m, in \u001b[0;36mDataFrameLocal._evaluate_implementation\u001b[0;34m(self, expression, i1, i2, out, selection, filtered, array_type, parallel, chunk_size, raw, progress)\u001b[0m\n\u001b[1;32m   6345\u001b[0m selection \u001b[39m=\u001b[39m _normalize_selection(selection)\n\u001b[1;32m   6348\u001b[0m selection \u001b[39m=\u001b[39m _ensure_strings_from_expressions(selection)\n\u001b[0;32m-> 6349\u001b[0m max_stop \u001b[39m=\u001b[39m (\u001b[39mlen\u001b[39;49m(\u001b[39mself\u001b[39;49m) \u001b[39mif\u001b[39;00m (\u001b[39mself\u001b[39m\u001b[39m.\u001b[39mfiltered \u001b[39mand\u001b[39;00m filtered) \u001b[39melse\u001b[39;00m \u001b[39mself\u001b[39m\u001b[39m.\u001b[39mlength_unfiltered())\n\u001b[1;32m   6350\u001b[0m i1 \u001b[39m=\u001b[39m i1 \u001b[39mor\u001b[39;00m \u001b[39m0\u001b[39m\n\u001b[1;32m   6351\u001b[0m i2 \u001b[39m=\u001b[39m i2 \u001b[39mor\u001b[39;00m max_stop\n",
      "File \u001b[0;32m~/miniconda3/envs/dash/lib/python3.9/site-packages/vaex/dataframe.py:4309\u001b[0m, in \u001b[0;36mDataFrame.__len__\u001b[0;34m(self)\u001b[0m\n\u001b[1;32m   4307\u001b[0m \u001b[39melse\u001b[39;00m:\n\u001b[1;32m   4308\u001b[0m     \u001b[39mif\u001b[39;00m \u001b[39mself\u001b[39m\u001b[39m.\u001b[39m_cached_filtered_length \u001b[39mis\u001b[39;00m \u001b[39mNone\u001b[39;00m:\n\u001b[0;32m-> 4309\u001b[0m         \u001b[39mself\u001b[39m\u001b[39m.\u001b[39m_cached_filtered_length \u001b[39m=\u001b[39m \u001b[39mint\u001b[39m(\u001b[39mself\u001b[39;49m\u001b[39m.\u001b[39;49mcount())\n\u001b[1;32m   4310\u001b[0m     \u001b[39mreturn\u001b[39;00m \u001b[39mself\u001b[39m\u001b[39m.\u001b[39m_cached_filtered_length\n",
      "File \u001b[0;32m~/miniconda3/envs/dash/lib/python3.9/site-packages/vaex/dataframe.py:962\u001b[0m, in \u001b[0;36mDataFrame.count\u001b[0;34m(self, expression, binby, limits, shape, selection, delay, edges, progress, array_type)\u001b[0m\n\u001b[1;32m    938\u001b[0m \u001b[39m@docsubst\u001b[39m\n\u001b[1;32m    939\u001b[0m \u001b[39mdef\u001b[39;00m \u001b[39mcount\u001b[39m(\u001b[39mself\u001b[39m, expression\u001b[39m=\u001b[39m\u001b[39mNone\u001b[39;00m, binby\u001b[39m=\u001b[39m[], limits\u001b[39m=\u001b[39m\u001b[39mNone\u001b[39;00m, shape\u001b[39m=\u001b[39mdefault_shape, selection\u001b[39m=\u001b[39m\u001b[39mFalse\u001b[39;00m, delay\u001b[39m=\u001b[39m\u001b[39mFalse\u001b[39;00m, edges\u001b[39m=\u001b[39m\u001b[39mFalse\u001b[39;00m, progress\u001b[39m=\u001b[39m\u001b[39mNone\u001b[39;00m, array_type\u001b[39m=\u001b[39m\u001b[39mNone\u001b[39;00m):\n\u001b[1;32m    940\u001b[0m     \u001b[39m\"\"\"Count the number of non-NaN values (or all, if expression is None or \"*\").\u001b[39;00m\n\u001b[1;32m    941\u001b[0m \n\u001b[1;32m    942\u001b[0m \u001b[39m    Example:\u001b[39;00m\n\u001b[0;32m   (...)\u001b[0m\n\u001b[1;32m    960\u001b[0m \u001b[39m    :return: {return_stat_scalar}\u001b[39;00m\n\u001b[1;32m    961\u001b[0m \u001b[39m    \"\"\"\u001b[39;00m\n\u001b[0;32m--> 962\u001b[0m     \u001b[39mreturn\u001b[39;00m \u001b[39mself\u001b[39;49m\u001b[39m.\u001b[39;49m_compute_agg(\u001b[39m'\u001b[39;49m\u001b[39mcount\u001b[39;49m\u001b[39m'\u001b[39;49m, expression, binby, limits, shape, selection, delay, edges, progress, array_type\u001b[39m=\u001b[39;49marray_type)\n",
      "File \u001b[0;32m~/miniconda3/envs/dash/lib/python3.9/site-packages/vaex/dataframe.py:936\u001b[0m, in \u001b[0;36mDataFrame._compute_agg\u001b[0;34m(self, name, expression, binby, limits, shape, selection, delay, edges, progress, extra_expressions, array_type)\u001b[0m\n\u001b[1;32m    934\u001b[0m stats \u001b[39m=\u001b[39m [compute(expression, binners, selection\u001b[39m=\u001b[39mselection, edges\u001b[39m=\u001b[39medges) \u001b[39mfor\u001b[39;00m expression \u001b[39min\u001b[39;00m expressions]\n\u001b[1;32m    935\u001b[0m var \u001b[39m=\u001b[39m finish(binners, \u001b[39m*\u001b[39mstats)\n\u001b[0;32m--> 936\u001b[0m \u001b[39mreturn\u001b[39;00m \u001b[39mself\u001b[39;49m\u001b[39m.\u001b[39;49m_delay(delay, progressbar\u001b[39m.\u001b[39;49mexit_on(var))\n",
      "File \u001b[0;32m~/miniconda3/envs/dash/lib/python3.9/site-packages/vaex/dataframe.py:1775\u001b[0m, in \u001b[0;36mDataFrame._delay\u001b[0;34m(self, delay, task, progressbar)\u001b[0m\n\u001b[1;32m   1773\u001b[0m     \u001b[39mreturn\u001b[39;00m task\n\u001b[1;32m   1774\u001b[0m \u001b[39melse\u001b[39;00m:\n\u001b[0;32m-> 1775\u001b[0m     \u001b[39mself\u001b[39;49m\u001b[39m.\u001b[39;49mexecute()\n\u001b[1;32m   1776\u001b[0m     \u001b[39mreturn\u001b[39;00m task\u001b[39m.\u001b[39mget()\n",
      "File \u001b[0;32m~/miniconda3/envs/dash/lib/python3.9/site-packages/vaex/dataframe.py:417\u001b[0m, in \u001b[0;36mDataFrame.execute\u001b[0;34m(self)\u001b[0m\n\u001b[1;32m    415\u001b[0m         \u001b[39mprint\u001b[39m(\u001b[39mrepr\u001b[39m(task))\n\u001b[1;32m    416\u001b[0m \u001b[39mif\u001b[39;00m \u001b[39mself\u001b[39m\u001b[39m.\u001b[39mexecutor\u001b[39m.\u001b[39mtasks:\n\u001b[0;32m--> 417\u001b[0m     \u001b[39mself\u001b[39;49m\u001b[39m.\u001b[39;49mexecutor\u001b[39m.\u001b[39;49mexecute()\n",
      "File \u001b[0;32m~/miniconda3/envs/dash/lib/python3.9/site-packages/vaex/execution.py:308\u001b[0m, in \u001b[0;36mExecutorLocal.execute\u001b[0;34m(self)\u001b[0m\n\u001b[1;32m    307\u001b[0m \u001b[39mdef\u001b[39;00m \u001b[39mexecute\u001b[39m(\u001b[39mself\u001b[39m):\n\u001b[0;32m--> 308\u001b[0m     \u001b[39mfor\u001b[39;00m _ \u001b[39min\u001b[39;00m \u001b[39mself\u001b[39m\u001b[39m.\u001b[39mexecute_generator():\n\u001b[1;32m    309\u001b[0m         \u001b[39mpass\u001b[39;00m\n",
      "File \u001b[0;32m~/miniconda3/envs/dash/lib/python3.9/site-packages/vaex/execution.py:335\u001b[0m, in \u001b[0;36mExecutorLocal.execute_generator\u001b[0;34m(self, use_async)\u001b[0m\n\u001b[1;32m    333\u001b[0m \u001b[39mif\u001b[39;00m chunk_executor_thread \u001b[39mor\u001b[39;00m \u001b[39mself\u001b[39m\u001b[39m.\u001b[39mlocal\u001b[39m.\u001b[39mexecuting \u001b[39mand\u001b[39;00m (has_contextvars \u001b[39mis\u001b[39;00m \u001b[39mFalse\u001b[39;00m \u001b[39mor\u001b[39;00m \u001b[39mself\u001b[39m\u001b[39m.\u001b[39misnested\u001b[39m.\u001b[39mget() \u001b[39mis\u001b[39;00m \u001b[39mTrue\u001b[39;00m):\n\u001b[1;32m    334\u001b[0m     logger\u001b[39m.\u001b[39merror(\u001b[39m\"\u001b[39m\u001b[39mnested execute call\u001b[39m\u001b[39m\"\u001b[39m)\n\u001b[0;32m--> 335\u001b[0m     \u001b[39mraise\u001b[39;00m \u001b[39mRuntimeError\u001b[39;00m(\u001b[39m\"\u001b[39m\u001b[39mnested execute call: \u001b[39m\u001b[39m%r\u001b[39;00m\u001b[39m \u001b[39m\u001b[39m%r\u001b[39;00m\u001b[39m\\n\u001b[39;00m\u001b[39mlast trace:\u001b[39m\u001b[39m\\n\u001b[39;00m\u001b[39m%s\u001b[39;00m\u001b[39m\\n\u001b[39;00m\u001b[39mcurrent trace:\u001b[39m\u001b[39m\\n\u001b[39;00m\u001b[39m%s\u001b[39;00m\u001b[39m\"\u001b[39m \u001b[39m%\u001b[39m (chunk_executor_thread, \u001b[39mself\u001b[39m\u001b[39m.\u001b[39mlocal\u001b[39m.\u001b[39mexecuting, \u001b[39mself\u001b[39m\u001b[39m.\u001b[39mlocal\u001b[39m.\u001b[39mlast_trace, trace))\n\u001b[1;32m    336\u001b[0m \u001b[39melse\u001b[39;00m:\n\u001b[1;32m    337\u001b[0m     \u001b[39mself\u001b[39m\u001b[39m.\u001b[39mlocal\u001b[39m.\u001b[39mlast_trace \u001b[39m=\u001b[39m trace\n",
      "\u001b[0;31mRuntimeError\u001b[0m: nested execute call: False True\nlast trace:\n  File \"/home/fernando/miniconda3/envs/dash/lib/python3.9/runpy.py\", line 197, in _run_module_as_main\n    return _run_code(code, main_globals, None,\n  File \"/home/fernando/miniconda3/envs/dash/lib/python3.9/runpy.py\", line 87, in _run_code\n    exec(code, run_globals)\n  File \"/home/fernando/miniconda3/envs/dash/lib/python3.9/site-packages/ipykernel_launcher.py\", line 17, in <module>\n    app.launch_new_instance()\n  File \"/home/fernando/miniconda3/envs/dash/lib/python3.9/site-packages/traitlets/config/application.py\", line 846, in launch_instance\n    app.start()\n  File \"/home/fernando/miniconda3/envs/dash/lib/python3.9/site-packages/ipykernel/kernelapp.py\", line 707, in start\n    self.io_loop.start()\n  File \"/home/fernando/miniconda3/envs/dash/lib/python3.9/site-packages/tornado/platform/asyncio.py\", line 199, in start\n    self.asyncio_loop.run_forever()\n  File \"/home/fernando/miniconda3/envs/dash/lib/python3.9/asyncio/base_events.py\", line 601, in run_forever\n    self._run_once()\n  File \"/home/fernando/miniconda3/envs/dash/lib/python3.9/asyncio/base_events.py\", line 1905, in _run_once\n    handle._run()\n  File \"/home/fernando/miniconda3/envs/dash/lib/python3.9/asyncio/events.py\", line 80, in _run\n    self._context.run(self._callback, *self._args)\n  File \"/home/fernando/miniconda3/envs/dash/lib/python3.9/site-packages/ipykernel/kernelbase.py\", line 502, in dispatch_queue\n    await self.process_one()\n  File \"/home/fernando/miniconda3/envs/dash/lib/python3.9/site-packages/ipykernel/kernelbase.py\", line 491, in process_one\n    await dispatch(*args)\n  File \"/home/fernando/miniconda3/envs/dash/lib/python3.9/site-packages/ipykernel/kernelbase.py\", line 398, in dispatch_shell\n    await result\n  File \"/home/fernando/miniconda3/envs/dash/lib/python3.9/site-packages/ipykernel/kernelbase.py\", line 722, in execute_request\n    reply_content = await reply_content\n  File \"/home/fernando/miniconda3/envs/dash/lib/python3.9/site-packages/ipykernel/ipkernel.py\", line 389, in do_execute\n    res = shell.run_cell(code, store_history=store_history, silent=silent)\n  File \"/home/fernando/miniconda3/envs/dash/lib/python3.9/site-packages/ipykernel/zmqshell.py\", line 528, in run_cell\n    return super().run_cell(*args, **kwargs)\n  File \"/home/fernando/miniconda3/envs/dash/lib/python3.9/site-packages/IPython/core/interactiveshell.py\", line 2863, in run_cell\n    result = self._run_cell(\n  File \"/home/fernando/miniconda3/envs/dash/lib/python3.9/site-packages/IPython/core/interactiveshell.py\", line 2909, in _run_cell\n    return runner(coro)\n  File \"/home/fernando/miniconda3/envs/dash/lib/python3.9/site-packages/IPython/core/async_helpers.py\", line 129, in _pseudo_sync_runner\n    coro.send(None)\n  File \"/home/fernando/miniconda3/envs/dash/lib/python3.9/site-packages/IPython/core/interactiveshell.py\", line 3106, in run_cell_async\n    has_raised = await self.run_ast_nodes(code_ast.body, cell_name,\n  File \"/home/fernando/miniconda3/envs/dash/lib/python3.9/site-packages/IPython/core/interactiveshell.py\", line 3309, in run_ast_nodes\n    if await self.run_code(code, result, async_=asy):\n  File \"/home/fernando/miniconda3/envs/dash/lib/python3.9/site-packages/IPython/core/interactiveshell.py\", line 3369, in run_code\n    exec(code_obj, self.user_global_ns, self.user_ns)\n  File \"/tmp/ipykernel_62129/3394565372.py\", line 4, in <cell line: 1>\n    df = agrupamento(df_iptu_distrito, 'sqlc')\n  File \"/tmp/ipykernel_62129/3805807491.py\", line 3, in agrupamento\n    return df.groupby([campo, 'ano'],agg=agg)\n  File \"/home/fernando/miniconda3/envs/dash/lib/python3.9/site-packages/vaex/dataframe.py\", line 7092, in groupby\n    return self._delay(delay, progressbar.exit_on(next(groupby._promise_by)))\n  File \"/home/fernando/miniconda3/envs/dash/lib/python3.9/site-packages/vaex/dataframe.py\", line 1775, in _delay\n    self.execute()\n  File \"/home/fernando/miniconda3/envs/dash/lib/python3.9/site-packages/vaex/dataframe.py\", line 417, in execute\n    self.executor.execute()\n  File \"/home/fernando/miniconda3/envs/dash/lib/python3.9/site-packages/vaex/execution.py\", line 308, in execute\n    for _ in self.execute_generator():\n  File \"/home/fernando/miniconda3/envs/dash/lib/python3.9/site-packages/vaex/execution.py\", line 455, in execute_generator\n    task.fulfill(task._result)\n  File \"/home/fernando/miniconda3/envs/dash/lib/python3.9/site-packages/aplus/__init__.py\", line 77, in fulfill\n    self._fulfill(x)\n  File \"/home/fernando/miniconda3/envs/dash/lib/python3.9/site-packages/aplus/__init__.py\", line 101, in _fulfill\n    callback(value)\n  File \"/home/fernando/miniconda3/envs/dash/lib/python3.9/site-packages/aplus/__init__.py\", line 404, in handleSuccess\n    ret.fulfill(value)\n  File \"/home/fernando/miniconda3/envs/dash/lib/python3.9/site-packages/aplus/__init__.py\", line 77, in fulfill\n    self._fulfill(x)\n  File \"/home/fernando/miniconda3/envs/dash/lib/python3.9/site-packages/aplus/__init__.py\", line 101, in _fulfill\n    callback(value)\n  File \"/home/fernando/miniconda3/envs/dash/lib/python3.9/site-packages/vaex/promise.py\", line 106, in callAndFulfill\n    ret.fulfill(success(v))\n  File \"/home/fernando/miniconda3/envs/dash/lib/python3.9/site-packages/aplus/__init__.py\", line 77, in fulfill\n    self._fulfill(x)\n  File \"/home/fernando/miniconda3/envs/dash/lib/python3.9/site-packages/aplus/__init__.py\", line 101, in _fulfill\n    callback(value)\n  File \"/home/fernando/miniconda3/envs/dash/lib/python3.9/site-packages/aplus/__init__.py\", line 404, in handleSuccess\n    ret.fulfill(value)\n  File \"/home/fernando/miniconda3/envs/dash/lib/python3.9/site-packages/aplus/__init__.py\", line 77, in fulfill\n    self._fulfill(x)\n  File \"/home/fernando/miniconda3/envs/dash/lib/python3.9/site-packages/aplus/__init__.py\", line 101, in _fulfill\n    callback(value)\n  File \"/home/fernando/miniconda3/envs/dash/lib/python3.9/site-packages/vaex/promise.py\", line 106, in callAndFulfill\n    ret.fulfill(success(v))\n  File \"/home/fernando/miniconda3/envs/dash/lib/python3.9/site-packages/aplus/__init__.py\", line 73, in fulfill\n    _promisify(x).done(self.fulfill, self.reject)\n  File \"/home/fernando/miniconda3/envs/dash/lib/python3.9/site-packages/aplus/__init__.py\", line 233, in done\n    self.addCallback(success)\n  File \"/home/fernando/miniconda3/envs/dash/lib/python3.9/site-packages/aplus/__init__.py\", line 197, in addCallback\n    f(self._value)\n  File \"/home/fernando/miniconda3/envs/dash/lib/python3.9/site-packages/aplus/__init__.py\", line 77, in fulfill\n    self._fulfill(x)\n  File \"/home/fernando/miniconda3/envs/dash/lib/python3.9/site-packages/aplus/__init__.py\", line 101, in _fulfill\n    callback(value)\n  File \"/home/fernando/miniconda3/envs/dash/lib/python3.9/site-packages/vaex/promise.py\", line 106, in callAndFulfill\n    ret.fulfill(success(v))\n  File \"/home/fernando/miniconda3/envs/dash/lib/python3.9/site-packages/aplus/__init__.py\", line 77, in fulfill\n    self._fulfill(x)\n  File \"/home/fernando/miniconda3/envs/dash/lib/python3.9/site-packages/aplus/__init__.py\", line 101, in _fulfill\n    callback(value)\n  File \"/home/fernando/miniconda3/envs/dash/lib/python3.9/site-packages/aplus/__init__.py\", line 404, in handleSuccess\n    ret.fulfill(value)\n  File \"/home/fernando/miniconda3/envs/dash/lib/python3.9/site-packages/aplus/__init__.py\", line 77, in fulfill\n    self._fulfill(x)\n  File \"/home/fernando/miniconda3/envs/dash/lib/python3.9/site-packages/aplus/__init__.py\", line 101, in _fulfill\n    callback(value)\n  File \"/home/fernando/miniconda3/envs/dash/lib/python3.9/site-packages/vaex/promise.py\", line 106, in callAndFulfill\n    ret.fulfill(success(v))\n  File \"/home/fernando/miniconda3/envs/dash/lib/python3.9/site-packages/vaex/delayed.py\", line 82, in call\n    return f(*args_real, **kwargs_real)\n  File \"/home/fernando/miniconda3/envs/dash/lib/python3.9/site-packages/vaex/dataframe.py\", line 7091, in next\n    return groupby.agg(agg, delay=delay, progress=progressbar_agg)\n  File \"/home/fernando/miniconda3/envs/dash/lib/python3.9/site-packages/vaex/groupby.py\", line 960, in agg\n    self.df.execute()\n  File \"/home/fernando/miniconda3/envs/dash/lib/python3.9/site-packages/vaex/dataframe.py\", line 417, in execute\n    self.executor.execute()\n  File \"/home/fernando/miniconda3/envs/dash/lib/python3.9/site-packages/vaex/execution.py\", line 308, in execute\n    for _ in self.execute_generator():\n  File \"/home/fernando/miniconda3/envs/dash/lib/python3.9/site-packages/vaex/execution.py\", line 332, in execute_generator\n    trace = ''.join(traceback.format_stack())\n\ncurrent trace:\n  File \"/home/fernando/miniconda3/envs/dash/lib/python3.9/runpy.py\", line 197, in _run_module_as_main\n    return _run_code(code, main_globals, None,\n  File \"/home/fernando/miniconda3/envs/dash/lib/python3.9/runpy.py\", line 87, in _run_code\n    exec(code, run_globals)\n  File \"/home/fernando/miniconda3/envs/dash/lib/python3.9/site-packages/ipykernel_launcher.py\", line 17, in <module>\n    app.launch_new_instance()\n  File \"/home/fernando/miniconda3/envs/dash/lib/python3.9/site-packages/traitlets/config/application.py\", line 846, in launch_instance\n    app.start()\n  File \"/home/fernando/miniconda3/envs/dash/lib/python3.9/site-packages/ipykernel/kernelapp.py\", line 707, in start\n    self.io_loop.start()\n  File \"/home/fernando/miniconda3/envs/dash/lib/python3.9/site-packages/tornado/platform/asyncio.py\", line 199, in start\n    self.asyncio_loop.run_forever()\n  File \"/home/fernando/miniconda3/envs/dash/lib/python3.9/asyncio/base_events.py\", line 601, in run_forever\n    self._run_once()\n  File \"/home/fernando/miniconda3/envs/dash/lib/python3.9/asyncio/base_events.py\", line 1905, in _run_once\n    handle._run()\n  File \"/home/fernando/miniconda3/envs/dash/lib/python3.9/asyncio/events.py\", line 80, in _run\n    self._context.run(self._callback, *self._args)\n  File \"/home/fernando/miniconda3/envs/dash/lib/python3.9/site-packages/ipykernel/kernelbase.py\", line 502, in dispatch_queue\n    await self.process_one()\n  File \"/home/fernando/miniconda3/envs/dash/lib/python3.9/site-packages/ipykernel/kernelbase.py\", line 491, in process_one\n    await dispatch(*args)\n  File \"/home/fernando/miniconda3/envs/dash/lib/python3.9/site-packages/ipykernel/kernelbase.py\", line 398, in dispatch_shell\n    await result\n  File \"/home/fernando/miniconda3/envs/dash/lib/python3.9/site-packages/ipykernel/kernelbase.py\", line 722, in execute_request\n    reply_content = await reply_content\n  File \"/home/fernando/miniconda3/envs/dash/lib/python3.9/site-packages/ipykernel/ipkernel.py\", line 389, in do_execute\n    res = shell.run_cell(code, store_history=store_history, silent=silent)\n  File \"/home/fernando/miniconda3/envs/dash/lib/python3.9/site-packages/ipykernel/zmqshell.py\", line 528, in run_cell\n    return super().run_cell(*args, **kwargs)\n  File \"/home/fernando/miniconda3/envs/dash/lib/python3.9/site-packages/IPython/core/interactiveshell.py\", line 2863, in run_cell\n    result = self._run_cell(\n  File \"/home/fernando/miniconda3/envs/dash/lib/python3.9/site-packages/IPython/core/interactiveshell.py\", line 2909, in _run_cell\n    return runner(coro)\n  File \"/home/fernando/miniconda3/envs/dash/lib/python3.9/site-packages/IPython/core/async_helpers.py\", line 129, in _pseudo_sync_runner\n    coro.send(None)\n  File \"/home/fernando/miniconda3/envs/dash/lib/python3.9/site-packages/IPython/core/interactiveshell.py\", line 3106, in run_cell_async\n    has_raised = await self.run_ast_nodes(code_ast.body, cell_name,\n  File \"/home/fernando/miniconda3/envs/dash/lib/python3.9/site-packages/IPython/core/interactiveshell.py\", line 3309, in run_ast_nodes\n    if await self.run_code(code, result, async_=asy):\n  File \"/home/fernando/miniconda3/envs/dash/lib/python3.9/site-packages/IPython/core/interactiveshell.py\", line 3369, in run_code\n    exec(code_obj, self.user_global_ns, self.user_ns)\n  File \"/tmp/ipykernel_62129/3394565372.py\", line 4, in <cell line: 1>\n    df = agrupamento(df_iptu_distrito, 'sqlc')\n  File \"/tmp/ipykernel_62129/3805807491.py\", line 3, in agrupamento\n    return df.groupby([campo, 'ano'],agg=agg)\n  File \"/home/fernando/miniconda3/envs/dash/lib/python3.9/site-packages/vaex/dataframe.py\", line 7092, in groupby\n    return self._delay(delay, progressbar.exit_on(next(groupby._promise_by)))\n  File \"/home/fernando/miniconda3/envs/dash/lib/python3.9/site-packages/vaex/dataframe.py\", line 1775, in _delay\n    self.execute()\n  File \"/home/fernando/miniconda3/envs/dash/lib/python3.9/site-packages/vaex/dataframe.py\", line 417, in execute\n    self.executor.execute()\n  File \"/home/fernando/miniconda3/envs/dash/lib/python3.9/site-packages/vaex/execution.py\", line 308, in execute\n    for _ in self.execute_generator():\n  File \"/home/fernando/miniconda3/envs/dash/lib/python3.9/site-packages/vaex/execution.py\", line 455, in execute_generator\n    task.fulfill(task._result)\n  File \"/home/fernando/miniconda3/envs/dash/lib/python3.9/site-packages/aplus/__init__.py\", line 77, in fulfill\n    self._fulfill(x)\n  File \"/home/fernando/miniconda3/envs/dash/lib/python3.9/site-packages/aplus/__init__.py\", line 101, in _fulfill\n    callback(value)\n  File \"/home/fernando/miniconda3/envs/dash/lib/python3.9/site-packages/aplus/__init__.py\", line 404, in handleSuccess\n    ret.fulfill(value)\n  File \"/home/fernando/miniconda3/envs/dash/lib/python3.9/site-packages/aplus/__init__.py\", line 77, in fulfill\n    self._fulfill(x)\n  File \"/home/fernando/miniconda3/envs/dash/lib/python3.9/site-packages/aplus/__init__.py\", line 101, in _fulfill\n    callback(value)\n  File \"/home/fernando/miniconda3/envs/dash/lib/python3.9/site-packages/vaex/promise.py\", line 106, in callAndFulfill\n    ret.fulfill(success(v))\n  File \"/home/fernando/miniconda3/envs/dash/lib/python3.9/site-packages/aplus/__init__.py\", line 77, in fulfill\n    self._fulfill(x)\n  File \"/home/fernando/miniconda3/envs/dash/lib/python3.9/site-packages/aplus/__init__.py\", line 101, in _fulfill\n    callback(value)\n  File \"/home/fernando/miniconda3/envs/dash/lib/python3.9/site-packages/aplus/__init__.py\", line 404, in handleSuccess\n    ret.fulfill(value)\n  File \"/home/fernando/miniconda3/envs/dash/lib/python3.9/site-packages/aplus/__init__.py\", line 77, in fulfill\n    self._fulfill(x)\n  File \"/home/fernando/miniconda3/envs/dash/lib/python3.9/site-packages/aplus/__init__.py\", line 101, in _fulfill\n    callback(value)\n  File \"/home/fernando/miniconda3/envs/dash/lib/python3.9/site-packages/vaex/promise.py\", line 106, in callAndFulfill\n    ret.fulfill(success(v))\n  File \"/home/fernando/miniconda3/envs/dash/lib/python3.9/site-packages/aplus/__init__.py\", line 73, in fulfill\n    _promisify(x).done(self.fulfill, self.reject)\n  File \"/home/fernando/miniconda3/envs/dash/lib/python3.9/site-packages/aplus/__init__.py\", line 233, in done\n    self.addCallback(success)\n  File \"/home/fernando/miniconda3/envs/dash/lib/python3.9/site-packages/aplus/__init__.py\", line 197, in addCallback\n    f(self._value)\n  File \"/home/fernando/miniconda3/envs/dash/lib/python3.9/site-packages/aplus/__init__.py\", line 77, in fulfill\n    self._fulfill(x)\n  File \"/home/fernando/miniconda3/envs/dash/lib/python3.9/site-packages/aplus/__init__.py\", line 101, in _fulfill\n    callback(value)\n  File \"/home/fernando/miniconda3/envs/dash/lib/python3.9/site-packages/vaex/promise.py\", line 106, in callAndFulfill\n    ret.fulfill(success(v))\n  File \"/home/fernando/miniconda3/envs/dash/lib/python3.9/site-packages/aplus/__init__.py\", line 77, in fulfill\n    self._fulfill(x)\n  File \"/home/fernando/miniconda3/envs/dash/lib/python3.9/site-packages/aplus/__init__.py\", line 101, in _fulfill\n    callback(value)\n  File \"/home/fernando/miniconda3/envs/dash/lib/python3.9/site-packages/aplus/__init__.py\", line 404, in handleSuccess\n    ret.fulfill(value)\n  File \"/home/fernando/miniconda3/envs/dash/lib/python3.9/site-packages/aplus/__init__.py\", line 77, in fulfill\n    self._fulfill(x)\n  File \"/home/fernando/miniconda3/envs/dash/lib/python3.9/site-packages/aplus/__init__.py\", line 101, in _fulfill\n    callback(value)\n  File \"/home/fernando/miniconda3/envs/dash/lib/python3.9/site-packages/vaex/promise.py\", line 106, in callAndFulfill\n    ret.fulfill(success(v))\n  File \"/home/fernando/miniconda3/envs/dash/lib/python3.9/site-packages/vaex/delayed.py\", line 82, in call\n    return f(*args_real, **kwargs_real)\n  File \"/home/fernando/miniconda3/envs/dash/lib/python3.9/site-packages/vaex/dataframe.py\", line 7091, in next\n    return groupby.agg(agg, delay=delay, progress=progressbar_agg)\n  File \"/home/fernando/miniconda3/envs/dash/lib/python3.9/site-packages/vaex/groupby.py\", line 960, in agg\n    self.df.execute()\n  File \"/home/fernando/miniconda3/envs/dash/lib/python3.9/site-packages/vaex/dataframe.py\", line 417, in execute\n    self.executor.execute()\n  File \"/home/fernando/miniconda3/envs/dash/lib/python3.9/site-packages/vaex/execution.py\", line 308, in execute\n    for _ in self.execute_generator():\n  File \"/home/fernando/miniconda3/envs/dash/lib/python3.9/site-packages/vaex/execution.py\", line 345, in execute_generator\n    tasks = _merge(tasks)\n  File \"/home/fernando/miniconda3/envs/dash/lib/python3.9/site-packages/vaex/execution.py\", line 137, in _merge\n    tasks_merged.extend(_merge_tasks_for_df(tasks_df, df))\n  File \"/home/fernando/miniconda3/envs/dash/lib/python3.9/site-packages/vaex/execution.py\", line 161, in _merge_tasks_for_df\n    task_merged.add_aggregation_operation(subtask.aggregation_description)\n  File \"/home/fernando/miniconda3/envs/dash/lib/python3.9/site-packages/vaex/tasks.py\", line 492, in add_aggregation_operation\n    self.dtypes = {expr: self.df.data_type(expr).index_type for expr in self.expressions_all}\n  File \"/home/fernando/miniconda3/envs/dash/lib/python3.9/site-packages/vaex/tasks.py\", line 492, in <dictcomp>\n    self.dtypes = {expr: self.df.data_type(expr).index_type for expr in self.expressions_all}\n  File \"/home/fernando/miniconda3/envs/dash/lib/python3.9/site-packages/vaex/dataframe.py\", line 2270, in data_type\n    data = self.evaluate(expression, 0, 1, filtered=True, array_type=array_type, parallel=False)\n  File \"/home/fernando/miniconda3/envs/dash/lib/python3.9/site-packages/vaex/dataframe.py\", line 3090, in evaluate\n    return self._evaluate_implementation(expression, i1=i1, i2=i2, out=out, selection=selection, filtered=filtered, array_type=array_type, parallel=parallel, chunk_size=chunk_size, progress=progress)\n  File \"/home/fernando/miniconda3/envs/dash/lib/python3.9/site-packages/vaex/dataframe.py\", line 6349, in _evaluate_implementation\n    max_stop = (len(self) if (self.filtered and filtered) else self.length_unfiltered())\n  File \"/home/fernando/miniconda3/envs/dash/lib/python3.9/site-packages/vaex/dataframe.py\", line 4309, in __len__\n    self._cached_filtered_length = int(self.count())\n  File \"/home/fernando/miniconda3/envs/dash/lib/python3.9/site-packages/vaex/dataframe.py\", line 962, in count\n    return self._compute_agg('count', expression, binby, limits, shape, selection, delay, edges, progress, array_type=array_type)\n  File \"/home/fernando/miniconda3/envs/dash/lib/python3.9/site-packages/vaex/dataframe.py\", line 936, in _compute_agg\n    return self._delay(delay, progressbar.exit_on(var))\n  File \"/home/fernando/miniconda3/envs/dash/lib/python3.9/site-packages/vaex/dataframe.py\", line 1775, in _delay\n    self.execute()\n  File \"/home/fernando/miniconda3/envs/dash/lib/python3.9/site-packages/vaex/dataframe.py\", line 417, in execute\n    self.executor.execute()\n  File \"/home/fernando/miniconda3/envs/dash/lib/python3.9/site-packages/vaex/execution.py\", line 308, in execute\n    for _ in self.execute_generator():\n  File \"/home/fernando/miniconda3/envs/dash/lib/python3.9/site-packages/vaex/execution.py\", line 332, in execute_generator\n    trace = ''.join(traceback.format_stack())\n"
     ]
    }
   ],
   "source": [
    "for i, dist in gdf_distritos.iterrows():\n",
    "    print(dist.ds_codigo, dist.ds_nome.lower().replace(' ', '-'))\n",
    "    df_iptu_distrito = df_iptu[df_iptu.distrito == int(dist.ds_codigo)]\n",
    "    df = agrupamento(df_iptu_distrito, 'sqlc')\n",
    "    # for u in ['Residencial', 'Comercial', 'Serviços', 'Industrial', 'Outros']:\n",
    "    #     df[f'Percentual de Uso {u}'] = df[u] / df['Área Total Construída']\n",
    "    df.export_hdf5(f\"data/por_distritos/IPTU-1995-{exercicio_fim}-agrupados-por-sqlc-{dist.ds_codigo}-{dist.ds_nome.lower().replace(' ', '-')}.hdf5\")\n",
    "    # break    "
   ]
  },
  {
   "cell_type": "code",
   "execution_count": 89,
   "metadata": {},
   "outputs": [],
   "source": [
    "# dfs[0]"
   ]
  },
  {
   "cell_type": "code",
   "execution_count": 90,
   "metadata": {},
   "outputs": [],
   "source": [
    "# df_iptu_distrito = vaex.open('data/IPTU-1995-2022-agrupados-por-distrito.hdf5')\n",
    "# df_iptu_subprefeitura = vaex.open('data/IPTU-1995-2022-agrupados-por-subprefeitura.hdf5')\n",
    "# df_iptu_od = vaex.open('data/IPTU-1995-2022-agrupados-por-od.hdf5')\n",
    "\n",
    "# df_iptu_distrito, df_iptu_subprefeitura, df_iptu_od, df_iptu_censo, df_iptu_sq, df_iptu_sqlc = dfs"
   ]
  },
  {
   "cell_type": "code",
   "execution_count": 91,
   "metadata": {},
   "outputs": [],
   "source": [
    "# f\"{format(df_iptu_distrito['Quantidade de Unidades'].sum(), ',d').replace(',', '.')} seila\""
   ]
  },
  {
   "cell_type": "code",
   "execution_count": 92,
   "metadata": {},
   "outputs": [],
   "source": [
    "# df_iptu_sqlc.shape"
   ]
  },
  {
   "cell_type": "code",
   "execution_count": 93,
   "metadata": {},
   "outputs": [],
   "source": [
    "# df_iptu_subprefeitura[\"CA médio\"].max()"
   ]
  },
  {
   "cell_type": "code",
   "execution_count": 94,
   "metadata": {},
   "outputs": [],
   "source": [
    "# df_iptu_od[\"CA médio\"].max()"
   ]
  },
  {
   "cell_type": "code",
   "execution_count": 95,
   "metadata": {},
   "outputs": [],
   "source": [
    "# df_iptu.sqlc"
   ]
  },
  {
   "cell_type": "code",
   "execution_count": null,
   "metadata": {},
   "outputs": [],
   "source": []
  },
  {
   "cell_type": "code",
   "execution_count": null,
   "metadata": {},
   "outputs": [],
   "source": []
  },
  {
   "cell_type": "code",
   "execution_count": null,
   "metadata": {},
   "outputs": [],
   "source": []
  }
 ],
 "metadata": {
  "kernelspec": {
   "display_name": "Python 3.9.12 ('dash')",
   "language": "python",
   "name": "python3"
  },
  "language_info": {
   "codemirror_mode": {
    "name": "ipython",
    "version": 3
   },
   "file_extension": ".py",
   "mimetype": "text/x-python",
   "name": "python",
   "nbconvert_exporter": "python",
   "pygments_lexer": "ipython3",
   "version": "3.9.12"
  },
  "vscode": {
   "interpreter": {
    "hash": "ebf3c2fc12fbcaba6e75ea2e49af41058138f51e278d9579f2c5ffa4a897fa04"
   }
  }
 },
 "nbformat": 4,
 "nbformat_minor": 2
}
