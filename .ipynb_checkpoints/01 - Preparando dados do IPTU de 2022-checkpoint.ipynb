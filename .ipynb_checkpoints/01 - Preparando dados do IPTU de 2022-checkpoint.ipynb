{
 "cells": [
  {
   "cell_type": "markdown",
   "metadata": {},
   "source": [
    "# Preparando os dados do IPTU de 2022\n",
    "\n",
    "Para o primeiro experimento vamos preparar os dados do IPTU de 2022, e posteriormente validar com as informações apresentadas no DashBoard"
   ]
  },
  {
   "cell_type": "code",
   "execution_count": 1,
   "metadata": {},
   "outputs": [],
   "source": [
    "import vaex\n",
    "import geopandas as gpd\n",
    "from shapely.validation import make_valid\n",
    "from difflib import SequenceMatcher\n",
    "import numpy as np\n",
    "import pandas as pd\n",
    "# import pygeos"
   ]
  },
  {
   "cell_type": "code",
   "execution_count": 2,
   "metadata": {},
   "outputs": [],
   "source": [
    "gdf_distritos = gpd.read_file('data/SIRGAS_GPKG_distrito.gpkg')\n",
    "\n",
    "gdf_quadras = gpd.read_file('zip://data/SIRGAS_SHP_quadraMDSF.zip!SIRGAS_SHP_quadraMDSF/SIRGAS_SHP_quadraMDSF.shp')\n",
    "gdf_quadras = gdf_quadras.set_crs(epsg=31983)\n",
    "gdf_quadras = gdf_quadras[gdf_quadras.qd_tipo == 'F']\n",
    "gdf_quadras = gdf_quadras.dissolve(['qd_setor', 'qd_fiscal']).reset_index()\n",
    "gdf_quadras_centroid = gdf_quadras.copy()\n",
    "gdf_quadras_centroid.geometry = gdf_quadras_centroid.representative_point()"
   ]
  },
  {
   "cell_type": "code",
   "execution_count": 3,
   "metadata": {},
   "outputs": [
    {
     "data": {
      "text/plain": [
       "((45655, 10), (45655, 10))"
      ]
     },
     "execution_count": 3,
     "metadata": {},
     "output_type": "execute_result"
    }
   ],
   "source": [
    "gdf_quadras.shape, gdf_quadras_centroid.shape"
   ]
  },
  {
   "cell_type": "code",
   "execution_count": 4,
   "metadata": {},
   "outputs": [],
   "source": [
    "gdf_quadras_distritos = gdf_quadras_centroid.sjoin(gdf_distritos, how='left', predicate='intersects')\n",
    "gdf_quadras_distritos.drop('index_right', axis=1, inplace=True)"
   ]
  },
  {
   "cell_type": "code",
   "execution_count": 5,
   "metadata": {},
   "outputs": [
    {
     "data": {
      "text/plain": [
       "((45655, 10), (45655, 15))"
      ]
     },
     "execution_count": 5,
     "metadata": {},
     "output_type": "execute_result"
    }
   ],
   "source": [
    "gdf_quadras.shape, gdf_quadras_distritos.shape"
   ]
  },
  {
   "cell_type": "code",
   "execution_count": 6,
   "metadata": {},
   "outputs": [],
   "source": [
    "gdf_quadras_distritos['sq'] = gdf_quadras_distritos.qd_setor + gdf_quadras_distritos.qd_fiscal"
   ]
  },
  {
   "cell_type": "code",
   "execution_count": 7,
   "metadata": {},
   "outputs": [],
   "source": [
    "gpd.GeoDataFrame(gdf_quadras_distritos[['sq', 'ds_codigo', 'ds_nome']], geometry=gdf_quadras.geometry,\n",
    "                crs='EPSG:31983').to_file('data/quadras.gpkg')"
   ]
  },
  {
   "cell_type": "code",
   "execution_count": 8,
   "metadata": {},
   "outputs": [
    {
     "name": "stderr",
     "output_type": "stream",
     "text": [
      "/home/feromes/miniconda3/envs/vaex_geo_data/lib/python3.10/site-packages/geopandas/geodataframe.py:1456: SettingWithCopyWarning: \n",
      "A value is trying to be set on a copy of a slice from a DataFrame.\n",
      "Try using .loc[row_indexer,col_indexer] = value instead\n",
      "\n",
      "See the caveats in the documentation: https://pandas.pydata.org/pandas-docs/stable/user_guide/indexing.html#returning-a-view-versus-a-copy\n",
      "  super().__setitem__(key, value)\n"
     ]
    }
   ],
   "source": [
    "gdf_od = gpd.read_file('zip://data/SIRGAS_SHP_origemdestino_2017.zip!SIRGAS_SHP_origemdestino_2017')\n",
    "gdf_od_sp = gdf_od[gdf_od.od_municip == '36']\n",
    "gdf_od_sp.set_crs(epsg=31983, inplace=True)\n",
    "gdf_quadras_distritos_od = gdf_quadras_distritos.sjoin(gdf_od_sp, how='left', predicate='intersects')\n",
    "\n",
    "df_quadras_distritos_od = gdf_quadras_distritos_od.loc[:, ['qd_setor', 'qd_fiscal', 'ds_codigo', 'ds_nome', 'ds_cd_sub', 'ds_subpref', 'od_id', 'od_nome']]\n",
    "df_quadras_distritos_od.loc[:, ['sq']] = df_quadras_distritos_od.qd_setor + df_quadras_distritos_od.qd_fiscal\n",
    "# df_quadras_distritos_od.drop_duplicates(keep='first', inplace=True, ignore_index=True)"
   ]
  },
  {
   "cell_type": "code",
   "execution_count": 9,
   "metadata": {},
   "outputs": [
    {
     "data": {
      "text/html": [
       "<div>\n",
       "<style scoped>\n",
       "    .dataframe tbody tr th:only-of-type {\n",
       "        vertical-align: middle;\n",
       "    }\n",
       "\n",
       "    .dataframe tbody tr th {\n",
       "        vertical-align: top;\n",
       "    }\n",
       "\n",
       "    .dataframe thead th {\n",
       "        text-align: right;\n",
       "    }\n",
       "</style>\n",
       "<table border=\"1\" class=\"dataframe\">\n",
       "  <thead>\n",
       "    <tr style=\"text-align: right;\">\n",
       "      <th></th>\n",
       "      <th>ds_codigo</th>\n",
       "      <th>ds_subpref</th>\n",
       "      <th>ds_cd_sub</th>\n",
       "      <th>ds_sigla</th>\n",
       "      <th>ds_nome</th>\n",
       "      <th>geometry</th>\n",
       "    </tr>\n",
       "  </thead>\n",
       "  <tbody>\n",
       "    <tr>\n",
       "      <th>38</th>\n",
       "      <td>1</td>\n",
       "      <td>MOOCA</td>\n",
       "      <td>25</td>\n",
       "      <td>ARA</td>\n",
       "      <td>AGUA RASA</td>\n",
       "      <td>POLYGON ((341093.380 7391912.491, 341093.329 7...</td>\n",
       "    </tr>\n",
       "    <tr>\n",
       "      <th>55</th>\n",
       "      <td>2</td>\n",
       "      <td>PINHEIROS</td>\n",
       "      <td>11</td>\n",
       "      <td>API</td>\n",
       "      <td>ALTO DE PINHEIROS</td>\n",
       "      <td>POLYGON ((326739.457 7395585.840, 326741.473 7...</td>\n",
       "    </tr>\n",
       "    <tr>\n",
       "      <th>70</th>\n",
       "      <td>3</td>\n",
       "      <td>PERUS</td>\n",
       "      <td>01</td>\n",
       "      <td>ANH</td>\n",
       "      <td>ANHANGUERA</td>\n",
       "      <td>POLYGON ((318695.858 7403032.323, 318677.730 7...</td>\n",
       "    </tr>\n",
       "    <tr>\n",
       "      <th>43</th>\n",
       "      <td>4</td>\n",
       "      <td>ARICANDUVA-FORMOSA-CARRAO</td>\n",
       "      <td>26</td>\n",
       "      <td>ARI</td>\n",
       "      <td>ARICANDUVA</td>\n",
       "      <td>POLYGON ((344068.781 7390960.855, 344068.149 7...</td>\n",
       "    </tr>\n",
       "    <tr>\n",
       "      <th>11</th>\n",
       "      <td>5</td>\n",
       "      <td>PENHA</td>\n",
       "      <td>21</td>\n",
       "      <td>AAL</td>\n",
       "      <td>ARTUR ALVIM</td>\n",
       "      <td>POLYGON ((349416.226 7397718.808, 349416.884 7...</td>\n",
       "    </tr>\n",
       "    <tr>\n",
       "      <th>...</th>\n",
       "      <td>...</td>\n",
       "      <td>...</td>\n",
       "      <td>...</td>\n",
       "      <td>...</td>\n",
       "      <td>...</td>\n",
       "      <td>...</td>\n",
       "    </tr>\n",
       "    <tr>\n",
       "      <th>77</th>\n",
       "      <td>90</td>\n",
       "      <td>VILA MARIANA</td>\n",
       "      <td>12</td>\n",
       "      <td>VMN</td>\n",
       "      <td>VILA MARIANA</td>\n",
       "      <td>POLYGON ((332359.740 7389124.109, 332309.630 7...</td>\n",
       "    </tr>\n",
       "    <tr>\n",
       "      <th>14</th>\n",
       "      <td>91</td>\n",
       "      <td>PENHA</td>\n",
       "      <td>21</td>\n",
       "      <td>VMT</td>\n",
       "      <td>VILA MATILDE</td>\n",
       "      <td>POLYGON ((341949.933 7396395.900, 341934.334 7...</td>\n",
       "    </tr>\n",
       "    <tr>\n",
       "      <th>10</th>\n",
       "      <td>92</td>\n",
       "      <td>VILA MARIA-VILA GUILHERME</td>\n",
       "      <td>07</td>\n",
       "      <td>VMD</td>\n",
       "      <td>VILA MEDEIROS</td>\n",
       "      <td>POLYGON ((340579.417 7401672.553, 340579.493 7...</td>\n",
       "    </tr>\n",
       "    <tr>\n",
       "      <th>47</th>\n",
       "      <td>93</td>\n",
       "      <td>VILA PRUDENTE</td>\n",
       "      <td>29</td>\n",
       "      <td>VPR</td>\n",
       "      <td>VILA PRUDENTE</td>\n",
       "      <td>POLYGON ((341731.295 7388459.495, 341723.755 7...</td>\n",
       "    </tr>\n",
       "    <tr>\n",
       "      <th>51</th>\n",
       "      <td>94</td>\n",
       "      <td>BUTANTA</td>\n",
       "      <td>10</td>\n",
       "      <td>VSO</td>\n",
       "      <td>VILA SONIA</td>\n",
       "      <td>POLYGON ((320805.525 7390280.495, 320824.353 7...</td>\n",
       "    </tr>\n",
       "  </tbody>\n",
       "</table>\n",
       "<p>96 rows × 6 columns</p>\n",
       "</div>"
      ],
      "text/plain": [
       "   ds_codigo                 ds_subpref ds_cd_sub ds_sigla            ds_nome  \\\n",
       "38         1                      MOOCA        25      ARA          AGUA RASA   \n",
       "55         2                  PINHEIROS        11      API  ALTO DE PINHEIROS   \n",
       "70         3                      PERUS        01      ANH         ANHANGUERA   \n",
       "43         4  ARICANDUVA-FORMOSA-CARRAO        26      ARI         ARICANDUVA   \n",
       "11         5                      PENHA        21      AAL        ARTUR ALVIM   \n",
       "..       ...                        ...       ...      ...                ...   \n",
       "77        90               VILA MARIANA        12      VMN       VILA MARIANA   \n",
       "14        91                      PENHA        21      VMT       VILA MATILDE   \n",
       "10        92  VILA MARIA-VILA GUILHERME        07      VMD      VILA MEDEIROS   \n",
       "47        93              VILA PRUDENTE        29      VPR      VILA PRUDENTE   \n",
       "51        94                    BUTANTA        10      VSO         VILA SONIA   \n",
       "\n",
       "                                             geometry  \n",
       "38  POLYGON ((341093.380 7391912.491, 341093.329 7...  \n",
       "55  POLYGON ((326739.457 7395585.840, 326741.473 7...  \n",
       "70  POLYGON ((318695.858 7403032.323, 318677.730 7...  \n",
       "43  POLYGON ((344068.781 7390960.855, 344068.149 7...  \n",
       "11  POLYGON ((349416.226 7397718.808, 349416.884 7...  \n",
       "..                                                ...  \n",
       "77  POLYGON ((332359.740 7389124.109, 332309.630 7...  \n",
       "14  POLYGON ((341949.933 7396395.900, 341934.334 7...  \n",
       "10  POLYGON ((340579.417 7401672.553, 340579.493 7...  \n",
       "47  POLYGON ((341731.295 7388459.495, 341723.755 7...  \n",
       "51  POLYGON ((320805.525 7390280.495, 320824.353 7...  \n",
       "\n",
       "[96 rows x 6 columns]"
      ]
     },
     "execution_count": 9,
     "metadata": {},
     "output_type": "execute_result"
    }
   ],
   "source": [
    "gdf_distritos.sort_values('ds_nome')"
   ]
  },
  {
   "cell_type": "code",
   "execution_count": 10,
   "metadata": {},
   "outputs": [
    {
     "data": {
      "text/plain": [
       "((45655, 10), (45655, 9))"
      ]
     },
     "execution_count": 10,
     "metadata": {},
     "output_type": "execute_result"
    }
   ],
   "source": [
    "gdf_quadras.shape, df_quadras_distritos_od.shape"
   ]
  },
  {
   "cell_type": "code",
   "execution_count": 11,
   "metadata": {},
   "outputs": [],
   "source": [
    "gdf_ponderacao_censo = gpd.read_file('data/areas-ponderacao-censo.gpkg', layer='areas-ponderacao-censo-2010')\n",
    "df_quadras_censo =  gdf_quadras_centroid.sjoin(gdf_ponderacao_censo, how='left', predicate='intersects')"
   ]
  },
  {
   "cell_type": "code",
   "execution_count": 12,
   "metadata": {},
   "outputs": [
    {
     "data": {
      "text/plain": [
       "((45655, 9), (45655, 2))"
      ]
     },
     "execution_count": 12,
     "metadata": {},
     "output_type": "execute_result"
    }
   ],
   "source": [
    "df_quadras_distritos_od.shape, df_quadras_censo[['COD_AED', 'COD_AED_S']].shape"
   ]
  },
  {
   "cell_type": "code",
   "execution_count": 13,
   "metadata": {},
   "outputs": [],
   "source": [
    "df_quadras_distritos_od = pd.concat(\n",
    "    [df_quadras_distritos_od,\n",
    "    df_quadras_censo[['COD_AED', 'COD_AED_S']]],\n",
    "    axis=1\n",
    ")"
   ]
  },
  {
   "cell_type": "code",
   "execution_count": 14,
   "metadata": {},
   "outputs": [
    {
     "data": {
      "text/plain": [
       "Index(['qd_setor', 'qd_fiscal', 'ds_codigo', 'ds_nome', 'ds_cd_sub',\n",
       "       'ds_subpref', 'od_id', 'od_nome', 'sq', 'COD_AED', 'COD_AED_S'],\n",
       "      dtype='object')"
      ]
     },
     "execution_count": 14,
     "metadata": {},
     "output_type": "execute_result"
    }
   ],
   "source": [
    "df_quadras_distritos_od.columns"
   ]
  },
  {
   "cell_type": "code",
   "execution_count": 15,
   "metadata": {},
   "outputs": [],
   "source": [
    "gdf_od_sp = gdf_od_sp.to_file('data/OD-sp.gpkg', driver='GPKG')"
   ]
  },
  {
   "cell_type": "code",
   "execution_count": 16,
   "metadata": {},
   "outputs": [
    {
     "data": {
      "text/html": [
       "<div>\n",
       "<style scoped>\n",
       "    .dataframe tbody tr th:only-of-type {\n",
       "        vertical-align: middle;\n",
       "    }\n",
       "\n",
       "    .dataframe tbody tr th {\n",
       "        vertical-align: top;\n",
       "    }\n",
       "\n",
       "    .dataframe thead th {\n",
       "        text-align: right;\n",
       "    }\n",
       "</style>\n",
       "<table border=\"1\" class=\"dataframe\">\n",
       "  <thead>\n",
       "    <tr style=\"text-align: right;\">\n",
       "      <th></th>\n",
       "      <th>qd_setor</th>\n",
       "      <th>qd_fiscal</th>\n",
       "      <th>ds_codigo</th>\n",
       "      <th>ds_nome</th>\n",
       "      <th>ds_cd_sub</th>\n",
       "      <th>ds_subpref</th>\n",
       "      <th>od_id</th>\n",
       "      <th>od_nome</th>\n",
       "      <th>sq</th>\n",
       "      <th>COD_AED</th>\n",
       "      <th>COD_AED_S</th>\n",
       "    </tr>\n",
       "  </thead>\n",
       "  <tbody>\n",
       "    <tr>\n",
       "      <th>0</th>\n",
       "      <td>001</td>\n",
       "      <td>003</td>\n",
       "      <td>9</td>\n",
       "      <td>BOM RETIRO</td>\n",
       "      <td>09</td>\n",
       "      <td>SE</td>\n",
       "      <td>7</td>\n",
       "      <td>Luz</td>\n",
       "      <td>001003</td>\n",
       "      <td>3550308005004</td>\n",
       "      <td>4</td>\n",
       "    </tr>\n",
       "    <tr>\n",
       "      <th>1</th>\n",
       "      <td>001</td>\n",
       "      <td>004</td>\n",
       "      <td>9</td>\n",
       "      <td>BOM RETIRO</td>\n",
       "      <td>09</td>\n",
       "      <td>SE</td>\n",
       "      <td>7</td>\n",
       "      <td>Luz</td>\n",
       "      <td>001004</td>\n",
       "      <td>3550308005004</td>\n",
       "      <td>4</td>\n",
       "    </tr>\n",
       "    <tr>\n",
       "      <th>2</th>\n",
       "      <td>001</td>\n",
       "      <td>005</td>\n",
       "      <td>9</td>\n",
       "      <td>BOM RETIRO</td>\n",
       "      <td>09</td>\n",
       "      <td>SE</td>\n",
       "      <td>7</td>\n",
       "      <td>Luz</td>\n",
       "      <td>001005</td>\n",
       "      <td>3550308005004</td>\n",
       "      <td>4</td>\n",
       "    </tr>\n",
       "    <tr>\n",
       "      <th>3</th>\n",
       "      <td>001</td>\n",
       "      <td>006</td>\n",
       "      <td>9</td>\n",
       "      <td>BOM RETIRO</td>\n",
       "      <td>09</td>\n",
       "      <td>SE</td>\n",
       "      <td>7</td>\n",
       "      <td>Luz</td>\n",
       "      <td>001006</td>\n",
       "      <td>3550308005004</td>\n",
       "      <td>4</td>\n",
       "    </tr>\n",
       "    <tr>\n",
       "      <th>4</th>\n",
       "      <td>001</td>\n",
       "      <td>007</td>\n",
       "      <td>9</td>\n",
       "      <td>BOM RETIRO</td>\n",
       "      <td>09</td>\n",
       "      <td>SE</td>\n",
       "      <td>7</td>\n",
       "      <td>Luz</td>\n",
       "      <td>001007</td>\n",
       "      <td>3550308005004</td>\n",
       "      <td>4</td>\n",
       "    </tr>\n",
       "    <tr>\n",
       "      <th>...</th>\n",
       "      <td>...</td>\n",
       "      <td>...</td>\n",
       "      <td>...</td>\n",
       "      <td>...</td>\n",
       "      <td>...</td>\n",
       "      <td>...</td>\n",
       "      <td>...</td>\n",
       "      <td>...</td>\n",
       "      <td>...</td>\n",
       "      <td>...</td>\n",
       "      <td>...</td>\n",
       "    </tr>\n",
       "    <tr>\n",
       "      <th>45650</th>\n",
       "      <td>310</td>\n",
       "      <td>116</td>\n",
       "      <td>38</td>\n",
       "      <td>JABAQUARA</td>\n",
       "      <td>15</td>\n",
       "      <td>JABAQUARA</td>\n",
       "      <td>274</td>\n",
       "      <td>Jabaquara</td>\n",
       "      <td>310116</td>\n",
       "      <td>3550308005095</td>\n",
       "      <td>95</td>\n",
       "    </tr>\n",
       "    <tr>\n",
       "      <th>45651</th>\n",
       "      <td>310</td>\n",
       "      <td>117</td>\n",
       "      <td>38</td>\n",
       "      <td>JABAQUARA</td>\n",
       "      <td>15</td>\n",
       "      <td>JABAQUARA</td>\n",
       "      <td>275</td>\n",
       "      <td>Cidade Vargas</td>\n",
       "      <td>310117</td>\n",
       "      <td>3550308005093</td>\n",
       "      <td>93</td>\n",
       "    </tr>\n",
       "    <tr>\n",
       "      <th>45652</th>\n",
       "      <td>310</td>\n",
       "      <td>118</td>\n",
       "      <td>38</td>\n",
       "      <td>JABAQUARA</td>\n",
       "      <td>15</td>\n",
       "      <td>JABAQUARA</td>\n",
       "      <td>275</td>\n",
       "      <td>Cidade Vargas</td>\n",
       "      <td>310118</td>\n",
       "      <td>3550308005093</td>\n",
       "      <td>93</td>\n",
       "    </tr>\n",
       "    <tr>\n",
       "      <th>45653</th>\n",
       "      <td>310</td>\n",
       "      <td>119</td>\n",
       "      <td>38</td>\n",
       "      <td>JABAQUARA</td>\n",
       "      <td>15</td>\n",
       "      <td>JABAQUARA</td>\n",
       "      <td>275</td>\n",
       "      <td>Cidade Vargas</td>\n",
       "      <td>310119</td>\n",
       "      <td>3550308005093</td>\n",
       "      <td>93</td>\n",
       "    </tr>\n",
       "    <tr>\n",
       "      <th>45654</th>\n",
       "      <td>310</td>\n",
       "      <td>120</td>\n",
       "      <td>38</td>\n",
       "      <td>JABAQUARA</td>\n",
       "      <td>15</td>\n",
       "      <td>JABAQUARA</td>\n",
       "      <td>275</td>\n",
       "      <td>Cidade Vargas</td>\n",
       "      <td>310120</td>\n",
       "      <td>3550308005093</td>\n",
       "      <td>93</td>\n",
       "    </tr>\n",
       "  </tbody>\n",
       "</table>\n",
       "<p>45655 rows × 11 columns</p>\n",
       "</div>"
      ],
      "text/plain": [
       "      qd_setor qd_fiscal ds_codigo     ds_nome ds_cd_sub ds_subpref od_id  \\\n",
       "0          001       003         9  BOM RETIRO        09         SE     7   \n",
       "1          001       004         9  BOM RETIRO        09         SE     7   \n",
       "2          001       005         9  BOM RETIRO        09         SE     7   \n",
       "3          001       006         9  BOM RETIRO        09         SE     7   \n",
       "4          001       007         9  BOM RETIRO        09         SE     7   \n",
       "...        ...       ...       ...         ...       ...        ...   ...   \n",
       "45650      310       116        38   JABAQUARA        15  JABAQUARA   274   \n",
       "45651      310       117        38   JABAQUARA        15  JABAQUARA   275   \n",
       "45652      310       118        38   JABAQUARA        15  JABAQUARA   275   \n",
       "45653      310       119        38   JABAQUARA        15  JABAQUARA   275   \n",
       "45654      310       120        38   JABAQUARA        15  JABAQUARA   275   \n",
       "\n",
       "             od_nome      sq        COD_AED COD_AED_S  \n",
       "0                Luz  001003  3550308005004         4  \n",
       "1                Luz  001004  3550308005004         4  \n",
       "2                Luz  001005  3550308005004         4  \n",
       "3                Luz  001006  3550308005004         4  \n",
       "4                Luz  001007  3550308005004         4  \n",
       "...              ...     ...            ...       ...  \n",
       "45650      Jabaquara  310116  3550308005095        95  \n",
       "45651  Cidade Vargas  310117  3550308005093        93  \n",
       "45652  Cidade Vargas  310118  3550308005093        93  \n",
       "45653  Cidade Vargas  310119  3550308005093        93  \n",
       "45654  Cidade Vargas  310120  3550308005093        93  \n",
       "\n",
       "[45655 rows x 11 columns]"
      ]
     },
     "execution_count": 16,
     "metadata": {},
     "output_type": "execute_result"
    }
   ],
   "source": [
    "df_quadras_distritos_od"
   ]
  },
  {
   "cell_type": "code",
   "execution_count": 17,
   "metadata": {},
   "outputs": [
    {
     "data": {
      "text/html": [
       "<div>\n",
       "<style scoped>\n",
       "    .dataframe tbody tr th:only-of-type {\n",
       "        vertical-align: middle;\n",
       "    }\n",
       "\n",
       "    .dataframe tbody tr th {\n",
       "        vertical-align: top;\n",
       "    }\n",
       "\n",
       "    .dataframe thead th {\n",
       "        text-align: right;\n",
       "    }\n",
       "</style>\n",
       "<table border=\"1\" class=\"dataframe\">\n",
       "  <thead>\n",
       "    <tr style=\"text-align: right;\">\n",
       "      <th></th>\n",
       "      <th>qd_setor</th>\n",
       "      <th>qd_fiscal</th>\n",
       "      <th>geometry</th>\n",
       "      <th>qd_id_orig</th>\n",
       "      <th>qd_tipo</th>\n",
       "      <th>qd_subqua</th>\n",
       "      <th>qd_area</th>\n",
       "      <th>qd_situac</th>\n",
       "      <th>qd_id</th>\n",
       "      <th>qd_tx_tipo</th>\n",
       "      <th>ds_codigo</th>\n",
       "      <th>ds_subpref</th>\n",
       "      <th>ds_cd_sub</th>\n",
       "      <th>ds_sigla</th>\n",
       "      <th>ds_nome</th>\n",
       "      <th>sq</th>\n",
       "    </tr>\n",
       "  </thead>\n",
       "  <tbody>\n",
       "    <tr>\n",
       "      <th>27467</th>\n",
       "      <td>133</td>\n",
       "      <td>127</td>\n",
       "      <td>POINT (357031.736 7402052.859)</td>\n",
       "      <td>10122413</td>\n",
       "      <td>F</td>\n",
       "      <td>001</td>\n",
       "      <td>65776.7480405944</td>\n",
       "      <td>1</td>\n",
       "      <td>179963</td>\n",
       "      <td>FISCAL</td>\n",
       "      <td>NaN</td>\n",
       "      <td>NaN</td>\n",
       "      <td>NaN</td>\n",
       "      <td>NaN</td>\n",
       "      <td>NaN</td>\n",
       "      <td>133127</td>\n",
       "    </tr>\n",
       "    <tr>\n",
       "      <th>33243</th>\n",
       "      <td>156</td>\n",
       "      <td>135</td>\n",
       "      <td>POINT (343167.543 7387776.019)</td>\n",
       "      <td>8985852</td>\n",
       "      <td>F</td>\n",
       "      <td>001</td>\n",
       "      <td>2484.92461758186</td>\n",
       "      <td>1</td>\n",
       "      <td>148338</td>\n",
       "      <td>FISCAL</td>\n",
       "      <td>NaN</td>\n",
       "      <td>NaN</td>\n",
       "      <td>NaN</td>\n",
       "      <td>NaN</td>\n",
       "      <td>NaN</td>\n",
       "      <td>156135</td>\n",
       "    </tr>\n",
       "    <tr>\n",
       "      <th>37127</th>\n",
       "      <td>173</td>\n",
       "      <td>160</td>\n",
       "      <td>POINT (333525.605 7378933.173)</td>\n",
       "      <td>9704470</td>\n",
       "      <td>F</td>\n",
       "      <td>001</td>\n",
       "      <td>1348.82739798853</td>\n",
       "      <td>1</td>\n",
       "      <td>182464</td>\n",
       "      <td>FISCAL</td>\n",
       "      <td>NaN</td>\n",
       "      <td>NaN</td>\n",
       "      <td>NaN</td>\n",
       "      <td>NaN</td>\n",
       "      <td>NaN</td>\n",
       "      <td>173160</td>\n",
       "    </tr>\n",
       "    <tr>\n",
       "      <th>37132</th>\n",
       "      <td>173</td>\n",
       "      <td>165</td>\n",
       "      <td>POINT (333590.700 7378465.176)</td>\n",
       "      <td>9704234</td>\n",
       "      <td>F</td>\n",
       "      <td>001</td>\n",
       "      <td>2641.57734002054</td>\n",
       "      <td>1</td>\n",
       "      <td>186397</td>\n",
       "      <td>FISCAL</td>\n",
       "      <td>NaN</td>\n",
       "      <td>NaN</td>\n",
       "      <td>NaN</td>\n",
       "      <td>NaN</td>\n",
       "      <td>NaN</td>\n",
       "      <td>173165</td>\n",
       "    </tr>\n",
       "  </tbody>\n",
       "</table>\n",
       "</div>"
      ],
      "text/plain": [
       "      qd_setor qd_fiscal                        geometry qd_id_orig qd_tipo  \\\n",
       "27467      133       127  POINT (357031.736 7402052.859)   10122413       F   \n",
       "33243      156       135  POINT (343167.543 7387776.019)    8985852       F   \n",
       "37127      173       160  POINT (333525.605 7378933.173)    9704470       F   \n",
       "37132      173       165  POINT (333590.700 7378465.176)    9704234       F   \n",
       "\n",
       "      qd_subqua           qd_area qd_situac   qd_id qd_tx_tipo ds_codigo  \\\n",
       "27467       001  65776.7480405944         1  179963     FISCAL       NaN   \n",
       "33243       001  2484.92461758186         1  148338     FISCAL       NaN   \n",
       "37127       001  1348.82739798853         1  182464     FISCAL       NaN   \n",
       "37132       001  2641.57734002054         1  186397     FISCAL       NaN   \n",
       "\n",
       "      ds_subpref ds_cd_sub ds_sigla ds_nome      sq  \n",
       "27467        NaN       NaN      NaN     NaN  133127  \n",
       "33243        NaN       NaN      NaN     NaN  156135  \n",
       "37127        NaN       NaN      NaN     NaN  173160  \n",
       "37132        NaN       NaN      NaN     NaN  173165  "
      ]
     },
     "execution_count": 17,
     "metadata": {},
     "output_type": "execute_result"
    }
   ],
   "source": [
    "## TODO\n",
    "# Verificar essa inconsistencia\n",
    "gdf_quadras_distritos[gdf_quadras_distritos.ds_codigo.isna()]"
   ]
  },
  {
   "cell_type": "code",
   "execution_count": null,
   "metadata": {},
   "outputs": [
    {
     "name": "stdout",
     "output_type": "stream",
     "text": [
      "Processando 1995\n",
      "Processando 1996\n",
      "Processando 1997\n",
      "Processando 1998\n",
      "Processando 1999\n",
      "Processando 2000\n",
      "Processando 2001\n",
      "Processando 2002\n",
      "Processando 2003\n",
      "Processando 2004\n",
      "Processando 2005\n",
      "Processando 2006\n",
      "Processando 2007\n",
      "Processando 2008\n",
      "Processando 2009\n",
      "Processando 2010\n",
      "Processando 2011\n",
      "Processando 2012\n",
      "Processando 2013\n",
      "Processando 2014\n",
      "Processando 2015\n",
      "Processando 2016\n",
      "Processando 2017\n",
      "Processando 2018\n",
      "Processando 2019\n",
      "Processando 2020\n",
      "Processando 2021\n",
      "Processando 2022\n"
     ]
    }
   ],
   "source": [
    "dfs = []\n",
    "\n",
    "for i in range(1995,2023):\n",
    "\n",
    "    print(f'Processando {i}')\n",
    "    \n",
    "    # df = vaex.open(f'data/IPTU_{i}/IPTU_{i}.hdf5')\n",
    "    df = vaex.open(f'data//IPTU-HDF5/IPTU_{i}/IPTU_{i}.hdf5')\n",
    "\n",
    "    df.setor = df['NUMERO DO CONTRIBUINTE'].str.slice(0,3)\n",
    "    df.quadra = df['NUMERO DO CONTRIBUINTE'].str.slice(3,6)\n",
    "    df.fillna(value='00-0', column_names=['NUMERO DO CONDOMINIO'], inplace=True)\n",
    "    df.fillna(value=1., column_names=['FRACAO IDEAL'], inplace=True)\n",
    "    df.fillna(value=0., column_names=['AREA CONSTRUIDA', 'AREA OCUPADA', 'AREA DO TERRENO'], inplace=True)\n",
    "    df.sqlc = df.func.where(df['NUMERO DO CONDOMINIO'] == '00-0',\n",
    "                                    df['NUMERO DO CONTRIBUINTE'].str.slice(0, 10) + '00',\n",
    "                                    df['NUMERO DO CONTRIBUINTE'].str.slice(0, 6) + '0000' + df['NUMERO DO CONDOMINIO'].str.slice(0, 2))\n",
    "    df['sq'] = df.setor + df.quadra\n",
    "    df['sqlc'] = df.sqlc\n",
    "    df_sqlc_ac = df.groupby('sqlc', agg={'area_contruida_total': vaex.agg.sum('AREA CONSTRUIDA')})\n",
    "    df = df.join(df_sqlc_ac, on='sqlc')\n",
    "    df['fracao_ideal'] = df.func.where(df['FRACAO IDEAL'] == 0.,  \n",
    "                                                df['AREA CONSTRUIDA'] / df['area_contruida_total'],\n",
    "                                                df['FRACAO IDEAL'])\n",
    "    df['ca'] = (df['AREA CONSTRUIDA'] / df['fracao_ideal']) / df['AREA DO TERRENO']\n",
    "    df['to'] = df['AREA OCUPADA'] / df['AREA DO TERRENO']\n",
    "\n",
    "    df['valor_terreno'] = df['fracao_ideal'] * df['VALOR DO M2 DO TERRENO'] * df['AREA DO TERRENO']\n",
    "    df['valor_construcao'] = df['VALOR DO M2 DE CONSTRUCAO'] * df['AREA CONSTRUIDA']\n",
    "\n",
    "    dfs.append(df)\n",
    "    # break\n"
   ]
  },
  {
   "cell_type": "code",
   "execution_count": null,
   "metadata": {},
   "outputs": [],
   "source": [
    "df_iptu = vaex.concat(dfs)"
   ]
  },
  {
   "cell_type": "code",
   "execution_count": null,
   "metadata": {},
   "outputs": [],
   "source": [
    "df_iptu.shape"
   ]
  },
  {
   "cell_type": "code",
   "execution_count": null,
   "metadata": {},
   "outputs": [],
   "source": [
    "columns_to_drop = [\n",
    "    'NUMERO DO CONTRIBUINTE',\n",
    "    'NUMERO DA NL',\n",
    "    'DATA DO CADASTRAMENTO',\n",
    "    'NOME DE LOGRADOURO DO IMOVEL', \n",
    "    'NUMERO DO IMOVEL', \n",
    "    'COMPLEMENTO DO IMOVEL',\n",
    "    'BAIRRO DO IMOVEL', \n",
    "    'REFERENCIA DO IMOVEL',\n",
    "    'CEP DO IMOVEL',\n",
    "    'QUANTIDADE DE ESQUINAS FRENTES',\n",
    "    'VALOR DO M2 DO TERRENO',\n",
    "    'VALOR DO M2 DE CONSTRUCAO' , \n",
    "    'TIPO DE TERRENO', \n",
    "    'ANO DE INICIO DA VIDA DO CONTRIBUINTE',\n",
    "    'MES DE INICIO DA VIDA DO CONTRIBUINTE', \n",
    "    'FASE DO CONTRIBUINTE', \n",
    "    'FRACAO IDEAL'\n",
    "]"
   ]
  },
  {
   "cell_type": "code",
   "execution_count": null,
   "metadata": {},
   "outputs": [],
   "source": [
    "df_iptu.drop(columns=columns_to_drop, inplace=True)"
   ]
  },
  {
   "cell_type": "code",
   "execution_count": null,
   "metadata": {},
   "outputs": [],
   "source": [
    "df_iptu.shape"
   ]
  },
  {
   "cell_type": "code",
   "execution_count": null,
   "metadata": {},
   "outputs": [],
   "source": [
    "## Parece que para alguns lotes condominiais o terreno está proporcional à fracao ideal\n",
    "df_iptu[df_iptu.ca > 60]['ca', 'AREA CONSTRUIDA', 'fracao_ideal', 'AREA DO TERRENO', 'area_contruida_total', 'ANO DO EXERCICIO']"
   ]
  },
  {
   "cell_type": "code",
   "execution_count": null,
   "metadata": {},
   "outputs": [],
   "source": [
    "df_iptu[df_iptu['NUMERO DO CONDOMINIO'] == '00-0'].shape"
   ]
  },
  {
   "cell_type": "code",
   "execution_count": null,
   "metadata": {},
   "outputs": [],
   "source": [
    "df_iptu.shape"
   ]
  },
  {
   "cell_type": "code",
   "execution_count": null,
   "metadata": {},
   "outputs": [],
   "source": [
    "df_quadras_distritos_od['sqod'] = df_quadras_distritos_od.sq + df_quadras_distritos_od.od_id.str.pad(width=3, side='left', fillchar='0')"
   ]
  },
  {
   "cell_type": "code",
   "execution_count": null,
   "metadata": {},
   "outputs": [],
   "source": [
    "df_quadras_distritos_od.shape"
   ]
  },
  {
   "cell_type": "code",
   "execution_count": null,
   "metadata": {},
   "outputs": [],
   "source": [
    "df_quadras_distritos_od"
   ]
  },
  {
   "cell_type": "code",
   "execution_count": null,
   "metadata": {},
   "outputs": [],
   "source": [
    "df_quadras_distritos_od = df_quadras_distritos_od.drop_duplicates(subset=['sq'])"
   ]
  },
  {
   "cell_type": "code",
   "execution_count": null,
   "metadata": {},
   "outputs": [],
   "source": [
    "df_quadras_distritos_od.shape, df_iptu.shape"
   ]
  },
  {
   "cell_type": "code",
   "execution_count": null,
   "metadata": {},
   "outputs": [],
   "source": [
    "df_iptu = df_iptu.join(vaex.from_pandas(df_quadras_distritos_od), on='sq', how='left',  \n",
    "            allow_duplication=False, inplace=False)"
   ]
  },
  {
   "cell_type": "code",
   "execution_count": null,
   "metadata": {},
   "outputs": [],
   "source": [
    "df_quadras_distritos_od.shape, df_iptu.shape"
   ]
  },
  {
   "cell_type": "markdown",
   "metadata": {},
   "source": [
    "## Adicionando informações de Uso"
   ]
  },
  {
   "cell_type": "code",
   "execution_count": null,
   "metadata": {},
   "outputs": [],
   "source": [
    "df_usos_2022 = df_iptu[df_iptu['ANO DO EXERCICIO'] == 2022].groupby('TIPO DE USO DO IMOVEL').agg('count').to_pandas_df()\n",
    "df_usos_2022"
   ]
  },
  {
   "cell_type": "code",
   "execution_count": null,
   "metadata": {},
   "outputs": [],
   "source": [
    "df_usos = df_iptu.groupby('TIPO DE USO DO IMOVEL').agg('count').to_pandas_df()"
   ]
  },
  {
   "cell_type": "code",
   "execution_count": null,
   "metadata": {},
   "outputs": [],
   "source": [
    "df_usos.fillna('', inplace=True)"
   ]
  },
  {
   "cell_type": "code",
   "execution_count": null,
   "metadata": {},
   "outputs": [],
   "source": [
    "results, ratios = [], []\n",
    "\n",
    "for i, row in df_usos.iterrows():\n",
    "\n",
    "    similaridade = df_usos_2022['TIPO DE USO DO IMOVEL'].apply(lambda x: SequenceMatcher(None, row['TIPO DE USO DO IMOVEL'], x).ratio())\n",
    "    \n",
    "    results.append(df_usos_2022.iloc[similaridade.idxmax()]['TIPO DE USO DO IMOVEL'])\n",
    "\n",
    "    ratios.append(similaridade.max())\n",
    "\n",
    "df_usos['titulo_padronizado'] = results # Os títulos costumam variar, portanto esse campo será referência para os agrupamentos\n",
    "df_usos['relacao_de_assertividade_com_titulo_padronizado'] = ratios"
   ]
  },
  {
   "cell_type": "code",
   "execution_count": null,
   "metadata": {},
   "outputs": [],
   "source": [
    "df_usos"
   ]
  },
  {
   "cell_type": "code",
   "execution_count": null,
   "metadata": {},
   "outputs": [],
   "source": [
    "residencial = ['residencial', 'residência', 'apartamento', 'cortiço']\n",
    "comercial = ['comércio', 'comercial', 'posto', 'loja']\n",
    "servicos =  ['hotel', 'radioemissora', 'flat', 'serviço', 'clube', 'oficina', 'hospital', 'templo', 'escritórios', 'consultórios', 'escritório', 'consultório', 'asilo', 'creche', 'prédio de garagens', 'escola']\n",
    "industrial = ['Indústria', 'armazéns']"
   ]
  },
  {
   "cell_type": "code",
   "execution_count": null,
   "metadata": {},
   "outputs": [],
   "source": [
    "class_residencial = df_usos.loc[:, 'titulo_padronizado'].str.contains(r'\\b(?:{})\\b'.format('|'.join(residencial)), case=False)\n",
    "class_comercial = df_usos.loc[:, 'titulo_padronizado'].str.contains(r'\\b(?:{})\\b'.format('|'.join(comercial)), case=False)\n",
    "class_servicos = df_usos.loc[:, 'titulo_padronizado'].str.contains(r'\\b(?:{})\\b'.format('|'.join(servicos)), case=False)\n",
    "class_industrial = df_usos.loc[:, 'titulo_padronizado'].str.contains(r'\\b(?:{})\\b'.format('|'.join(industrial)), case=False)\n",
    "\n",
    "df_usos.loc[class_residencial, ['classificacao_abrangente']] = 'Residencial'\n",
    "df_usos.loc[class_comercial, ['classificacao_abrangente']] = 'Comercial'\n",
    "df_usos.loc[class_servicos, ['classificacao_abrangente']] = 'Serviços'\n",
    "df_usos.loc[class_industrial, ['classificacao_abrangente']] = 'Industrial'\n",
    "\n",
    "df_usos.loc[df_usos.classificacao_abrangente.isna(), ['classificacao_abrangente']] = 'Outros'"
   ]
  },
  {
   "cell_type": "code",
   "execution_count": null,
   "metadata": {},
   "outputs": [],
   "source": [
    "df_iptu['TIPO DE USO DO IMOVEL'].isna().value_counts()"
   ]
  },
  {
   "cell_type": "code",
   "execution_count": null,
   "metadata": {},
   "outputs": [],
   "source": [
    "# df_iptu['TIPO DE USO DO IMOVEL']\n",
    "df_usos = vaex.from_pandas(df_usos.loc[df_usos['TIPO DE USO DO IMOVEL'] != '', ['TIPO DE USO DO IMOVEL', 'classificacao_abrangente']])\n",
    "df_iptu = df_iptu.join(df_usos, on='TIPO DE USO DO IMOVEL')"
   ]
  },
  {
   "cell_type": "code",
   "execution_count": null,
   "metadata": {},
   "outputs": [],
   "source": [
    "df_iptu[['classificacao_abrangente']]"
   ]
  },
  {
   "cell_type": "code",
   "execution_count": null,
   "metadata": {},
   "outputs": [],
   "source": [
    "df_iptu.shape"
   ]
  },
  {
   "cell_type": "code",
   "execution_count": null,
   "metadata": {},
   "outputs": [],
   "source": [
    "df_padroes_usos_2022 = df_iptu[df_iptu['ANO DO EXERCICIO'] == 2022].groupby('TIPO DE PADRAO DA CONSTRUCAO').agg('count').to_pandas_df()\n",
    "df_padroes_usos_2022.loc[df_padroes_usos_2022['TIPO DE PADRAO DA CONSTRUCAO'] == 'TERRENO', 'TIPO DE PADRAO DA CONSTRUCAO'] = 'Terreno'\n",
    "df_padroes_usos_2022['TIPO DE PADRAO DA CONSTRUCAO'] = df_padroes_usos_2022['TIPO DE PADRAO DA CONSTRUCAO'].str.replace('/', ',')\n",
    "df_padroes_usos_2022"
   ]
  },
  {
   "cell_type": "code",
   "execution_count": null,
   "metadata": {},
   "outputs": [],
   "source": [
    "df_padroes_usos = df_iptu.groupby('TIPO DE PADRAO DA CONSTRUCAO').agg('count').to_pandas_df()\n",
    "df_padroes_usos.fillna('', inplace=True)\n",
    "df_padroes_usos['TIPO DE PADRAO DA CONSTRUCAO'] = df_padroes_usos['TIPO DE PADRAO DA CONSTRUCAO'].str.replace('/', ',')\n",
    "df_padroes_usos"
   ]
  },
  {
   "cell_type": "code",
   "execution_count": null,
   "metadata": {},
   "outputs": [],
   "source": [
    "results, ratios = [], []\n",
    "\n",
    "for i, row in df_padroes_usos.iterrows():\n",
    "\n",
    "    similaridade = df_padroes_usos_2022['TIPO DE PADRAO DA CONSTRUCAO'].apply(lambda x: SequenceMatcher(None, row['TIPO DE PADRAO DA CONSTRUCAO'], x).ratio())\n",
    "    \n",
    "    results.append(df_padroes_usos_2022.iloc[similaridade.idxmax()]['TIPO DE PADRAO DA CONSTRUCAO'])\n",
    "\n",
    "    ratios.append(similaridade.max())\n",
    "\n",
    "df_padroes_usos['titulo_padronizado'] = results # Os títulos costumam variar, portanto esse campo será referência para os agrupamentos\n",
    "df_padroes_usos['relacao_de_assertividade_com_titulo_padronizado'] = ratios"
   ]
  },
  {
   "cell_type": "code",
   "execution_count": null,
   "metadata": {},
   "outputs": [],
   "source": [
    "# df_padroes_usos\n",
    "df_padroes_usos['tipo_de_uso'] = df_padroes_usos['titulo_padronizado'].str.split(\"-\").apply(lambda x: x[0] if x[0][-1] != ' ' else x[0][:-1])\n",
    "df_padroes_usos['padrao_de_uso'] = df_padroes_usos['titulo_padronizado'].str.split(\"-\").apply(lambda x: x[-1][-1] if x[-1][-3] == 'o' else '')\n",
    "\n",
    "df_padroes_usos.loc[(df_padroes_usos.padrao_de_uso == 'A') |\n",
    "                    (df_padroes_usos.padrao_de_uso == 'B'),\n",
    "                    'classe_de_uso'] = 'Baixo'\n",
    "\n",
    "df_padroes_usos.loc[df_padroes_usos.padrao_de_uso == 'C',\n",
    "                    'classe_de_uso'] = 'Médio'\n",
    "\n",
    "df_padroes_usos.loc[(df_padroes_usos.padrao_de_uso == 'D') |\n",
    "                    (df_padroes_usos.padrao_de_uso == 'E') |\n",
    "                    (df_padroes_usos.padrao_de_uso == 'F'),\n",
    "                    'classe_de_uso'] = 'Alto'\n",
    "\n",
    "df_padroes_usos.fillna('', inplace=True)\n"
   ]
  },
  {
   "cell_type": "code",
   "execution_count": null,
   "metadata": {},
   "outputs": [],
   "source": [
    "df_padroes_usos"
   ]
  },
  {
   "cell_type": "code",
   "execution_count": null,
   "metadata": {},
   "outputs": [],
   "source": [
    "outros_tipos = df_padroes_usos.tipo_de_uso.str.contains('Residencial') | df_padroes_usos.tipo_de_uso.str.contains('Comercial') | df_padroes_usos.tipo_de_uso.str.contains('Terreno')"
   ]
  },
  {
   "cell_type": "code",
   "execution_count": null,
   "metadata": {},
   "outputs": [],
   "source": [
    "df_padroes_usos.loc[~outros_tipos, 'tipo_de_uso'] = 'Outros Usos'\n",
    "df_padroes_usos.loc[~outros_tipos, 'classe_de_uso'] = ''"
   ]
  },
  {
   "cell_type": "code",
   "execution_count": null,
   "metadata": {},
   "outputs": [],
   "source": [
    "df_padroes_usos.rename(columns={'titulo_padronizado':'padrao_construcao'}, inplace=True)"
   ]
  },
  {
   "cell_type": "code",
   "execution_count": null,
   "metadata": {},
   "outputs": [],
   "source": [
    "df_padroes_usos[['tipo_de_uso', 'padrao_de_uso', 'classe_de_uso']]"
   ]
  },
  {
   "cell_type": "code",
   "execution_count": null,
   "metadata": {},
   "outputs": [],
   "source": [
    "df_padroes_usos['tipo_e_classe_de_uso'] = (df_padroes_usos['tipo_de_uso'] + ' ' + df_padroes_usos['classe_de_uso']).str.rstrip()"
   ]
  },
  {
   "cell_type": "code",
   "execution_count": null,
   "metadata": {},
   "outputs": [],
   "source": [
    "# df_iptu = df_iptu[~df_iptu['TIPO DE PADRAO DA CONSTRUCAO'].isna()] "
   ]
  },
  {
   "cell_type": "code",
   "execution_count": null,
   "metadata": {},
   "outputs": [],
   "source": [
    "df_iptu.fillna(value='Terreno', column_names=['TIPO DE PADRAO DA CONSTRUCAO'], inplace=True)"
   ]
  },
  {
   "cell_type": "code",
   "execution_count": null,
   "metadata": {},
   "outputs": [],
   "source": [
    "df_padroes_usos = vaex.from_pandas(df_padroes_usos.loc[df_padroes_usos['TIPO DE PADRAO DA CONSTRUCAO'] != '', ['TIPO DE PADRAO DA CONSTRUCAO',  'tipo_de_uso', 'padrao_de_uso', 'classe_de_uso', 'tipo_e_classe_de_uso']])\n",
    "df_iptu = df_iptu.join(df_padroes_usos, on='TIPO DE PADRAO DA CONSTRUCAO')"
   ]
  },
  {
   "cell_type": "code",
   "execution_count": null,
   "metadata": {},
   "outputs": [],
   "source": [
    "df_iptu.fillna(value='', column_names=['tipo_de_uso', 'padrao_de_uso', 'classe_de_uso', 'tipo_e_classe_de_uso'], inplace=True)"
   ]
  },
  {
   "cell_type": "code",
   "execution_count": null,
   "metadata": {},
   "outputs": [],
   "source": [
    "df_iptu.head(3)"
   ]
  },
  {
   "cell_type": "code",
   "execution_count": null,
   "metadata": {},
   "outputs": [],
   "source": [
    "df_iptu[df_iptu['tipo_de_uso'] == 'Comercial vertical']"
   ]
  },
  {
   "cell_type": "code",
   "execution_count": null,
   "metadata": {},
   "outputs": [],
   "source": [
    "df_iptu.shape"
   ]
  },
  {
   "cell_type": "code",
   "execution_count": null,
   "metadata": {},
   "outputs": [],
   "source": [
    "# df_iptu['tipo_e_classe_de_uso'] = df_iptu['tipo_de_uso'] + ' ' + df_iptu['classe_de_uso']"
   ]
  },
  {
   "cell_type": "markdown",
   "metadata": {},
   "source": [
    "## Processando as totalizacoes"
   ]
  },
  {
   "cell_type": "code",
   "execution_count": null,
   "metadata": {},
   "outputs": [],
   "source": [
    "gdf_distritos['area'] = gdf_distritos.area\n",
    "gdf_distritos.to_crs(epsg=4674, inplace=True)"
   ]
  },
  {
   "cell_type": "code",
   "execution_count": null,
   "metadata": {},
   "outputs": [],
   "source": [
    "df_iptu['sq'] = df_iptu.qd_setor + df_iptu.qd_fiscal"
   ]
  },
  {
   "cell_type": "code",
   "execution_count": null,
   "metadata": {},
   "outputs": [],
   "source": [
    "# df_iptu.sq"
   ]
  },
  {
   "cell_type": "code",
   "execution_count": null,
   "metadata": {},
   "outputs": [],
   "source": [
    "# df_iptu.fillna(value='0', column_names=['sq'], inplace=True)\n",
    "# df_iptu['sq'] = df_iptu['sq'].astype('int')\n",
    "# df_iptu.categorize('sq', inplace=True)"
   ]
  },
  {
   "cell_type": "code",
   "execution_count": null,
   "metadata": {},
   "outputs": [],
   "source": [
    "# df_iptu.head(1)\n",
    "df_iptu.fillna(value='0', column_names=['ds_codigo'], inplace=True)\n",
    "df_iptu['distrito'] = df_iptu['ds_codigo'].astype('int')\n",
    "df_iptu.categorize('distrito', inplace=True)\n",
    "# df_iptu.head(1)"
   ]
  },
  {
   "cell_type": "code",
   "execution_count": null,
   "metadata": {},
   "outputs": [],
   "source": [
    "# df_iptu['distrito'] = df_iptu['ds_codigo'].astype('int')\n",
    "df_iptu['ano'] = df_iptu['ANO DO EXERCICIO'].astype('int')\n",
    "df_iptu.categorize('ano', inplace=True)"
   ]
  },
  {
   "cell_type": "code",
   "execution_count": null,
   "metadata": {},
   "outputs": [],
   "source": [
    "df_iptu.fillna(value='0', column_names=['od_id'], inplace=True)\n",
    "df_iptu['od'] = df_iptu['od_id'].astype('int')\n",
    "df_iptu.categorize('od', inplace=True)"
   ]
  },
  {
   "cell_type": "code",
   "execution_count": null,
   "metadata": {},
   "outputs": [],
   "source": [
    "df_iptu.shape"
   ]
  },
  {
   "cell_type": "code",
   "execution_count": null,
   "metadata": {},
   "outputs": [],
   "source": [
    "df_iptu.fillna(value='0', column_names=['ds_cd_sub'], inplace=True)\n",
    "df_iptu['subprefeitura'] = df_iptu['ds_cd_sub'].astype('int')\n",
    "df_iptu.categorize('subprefeitura', inplace=True)"
   ]
  },
  {
   "cell_type": "code",
   "execution_count": null,
   "metadata": {},
   "outputs": [],
   "source": [
    "df_iptu.fillna(value='0', column_names=['COD_AED_S'], inplace=True)\n",
    "df_iptu['censo'] = df_iptu['COD_AED_S'].astype('int')\n",
    "df_iptu.categorize('censo', inplace=True)"
   ]
  },
  {
   "cell_type": "code",
   "execution_count": null,
   "metadata": {},
   "outputs": [],
   "source": [
    "# seila = df_iptu['classe_de_uso'] == 'Residencial vertical Baixo'\n",
    "# df_iptu[seila]\n",
    "df_iptu.drop(columns=['TIPO DE PADRAO DA CONSTRUCAO'], inplace=True)"
   ]
  },
  {
   "cell_type": "code",
   "execution_count": null,
   "metadata": {},
   "outputs": [],
   "source": [
    "padroes_usos = df_padroes_usos['tipo_e_classe_de_uso'].unique()"
   ]
  },
  {
   "cell_type": "code",
   "execution_count": null,
   "metadata": {},
   "outputs": [],
   "source": [
    "# for p in padroes_usos:\n",
    "#     print(p)\n",
    "\n",
    "padroes = [\n",
    "    'Residencial vertical Baixo',\n",
    "    'Residencial vertical Médio',\n",
    "    'Residencial vertical Alto',\n",
    "    'Residencial horizontal Baixo',\n",
    "    'Residencial horizontal Médio',\n",
    "    'Residencial horizontal Alto',\n",
    "    'Comercial vertical Baixo',\n",
    "    'Comercial vertical Médio',\n",
    "    'Comercial vertical Alto',\n",
    "    'Comercial horizontal Baixo',\n",
    "    'Comercial horizontal Alto',\n",
    "    'Comercial horizontal Médio',\n",
    "    'Terreno',\n",
    "    'Outros Usos',\n",
    "]"
   ]
  },
  {
   "cell_type": "code",
   "execution_count": null,
   "metadata": {},
   "outputs": [],
   "source": [
    "df = df_iptu"
   ]
  },
  {
   "cell_type": "code",
   "execution_count": null,
   "metadata": {},
   "outputs": [],
   "source": [
    "agg = {\n",
    "    'Quantidade de Unidades': 'count', \n",
    "    'Quantidade de Unidades Condominiais': vaex.agg.count('sqlc',\n",
    "                                                    selection=df['NUMERO DO CONDOMINIO'] != '00-0'),\n",
    "    'Tamanho Médio da Unidade Condominial': vaex.agg.mean('AREA CONSTRUIDA', \n",
    "                                                    selection=df['NUMERO DO CONDOMINIO'] != '00-0'),\n",
    "    'Tamanho médio dos Terrenos': vaex.agg.mean('AREA DO TERRENO'),\n",
    "    'Área Total dos terrenos-lotes': vaex.agg.sum('AREA DO TERRENO'),\n",
    "    'Área Total Ocupada': vaex.agg.sum('AREA OCUPADA'),\n",
    "    'Área Total Construída':vaex.agg.sum('AREA CONSTRUIDA'),\n",
    "    'Valor Total dos Terrenos': vaex.agg.sum('valor_terreno'),\n",
    "    'Valor Total das Construções': vaex.agg.sum('valor_construcao'),\n",
    "    'CA médio': vaex.agg.mean('ca'),\n",
    "    'TO médio': vaex.agg.mean('to'),\n",
    "    'CA médio em lotes condominiais': vaex.agg.mean('ca',\n",
    "                                                    selection=df['NUMERO DO CONDOMINIO'] != '00-0'),\n",
    "    'TO médio em lotes condominiais': vaex.agg.mean('to',\n",
    "                                                    selection=df['NUMERO DO CONDOMINIO'] != '00-0'),\n",
    "    'CA médio em lotes não condominiais': vaex.agg.mean('ca',\n",
    "                                                    selection=df['NUMERO DO CONDOMINIO'] == '00-0'),\n",
    "    'TO médio em lotes não condominiais': vaex.agg.mean('to',\n",
    "                                                    selection=df['NUMERO DO CONDOMINIO'] == '00-0'),\n",
    "    'Comprimento Médio da Testada': vaex.agg.mean('TESTADA PARA CALCULO'),\n",
    "    'Número médio de Pavimentos': vaex.agg.mean('QUANTIDADE DE PAVIMENTOS'),\n",
    "    'Fator de obsolecência médio': vaex.agg.mean('FATOR DE OBSOLESCENCIA'),\n",
    "}"
   ]
  },
  {
   "cell_type": "code",
   "execution_count": null,
   "metadata": {},
   "outputs": [],
   "source": [
    "# df_iptu['tipo_e_classe_de_uso'].isna().value_counts()\n",
    "df_iptu.fillna(value='Outros Usos', column_names=['tipo_e_classe_de_uso'], inplace=True)"
   ]
  },
  {
   "cell_type": "code",
   "execution_count": null,
   "metadata": {},
   "outputs": [],
   "source": [
    "df_iptu.head(3)"
   ]
  },
  {
   "cell_type": "code",
   "execution_count": null,
   "metadata": {},
   "outputs": [],
   "source": [
    "agg_padroes_m2 = {}\n",
    "agg_padroes_qt = {}\n",
    "\n",
    "for p in padroes:\n",
    "    agg_padroes_m2[f\"{p} (m2)\"] = vaex.agg.sum('AREA CONSTRUIDA', selection=df['tipo_e_classe_de_uso'] == p)\n",
    "    agg_padroes_qt[f\"{p} (qt)\"] = vaex.agg.count('AREA CONSTRUIDA', selection=df['tipo_e_classe_de_uso'] == p)"
   ]
  },
  {
   "cell_type": "code",
   "execution_count": null,
   "metadata": {},
   "outputs": [],
   "source": [
    "agg.update(agg_padroes_m2)\n",
    "agg.update(agg_padroes_qt)"
   ]
  },
  {
   "cell_type": "code",
   "execution_count": null,
   "metadata": {},
   "outputs": [],
   "source": [
    "agg['Terreno (m2)'] = vaex.agg.sum('AREA DO TERRENO', selection=df['tipo_e_classe_de_uso'] == p)\n",
    "agg['Terreno (qt)'] = vaex.agg.count('AREA DO TERRENO', selection=df['tipo_e_classe_de_uso'] == p)"
   ]
  },
  {
   "cell_type": "code",
   "execution_count": null,
   "metadata": {},
   "outputs": [],
   "source": [
    "list(agg.keys())"
   ]
  },
  {
   "cell_type": "code",
   "execution_count": null,
   "metadata": {},
   "outputs": [],
   "source": [
    "# df_iptu_grouped_distrito = \\\n",
    "def agrupamento(df, campo):\n",
    "    return df.groupby([campo, 'ano'],agg=agg)"
   ]
  },
  {
   "cell_type": "code",
   "execution_count": null,
   "metadata": {},
   "outputs": [],
   "source": [
    "# campos = ['distrito', 'subprefeitura', 'od', 'censo', 'sq']\n",
    "campos = ['distrito', 'subprefeitura', 'od', 'censo', 'sq']"
   ]
  },
  {
   "cell_type": "code",
   "execution_count": null,
   "metadata": {},
   "outputs": [],
   "source": [
    "dfs = []\n",
    "\n",
    "for campo in campos:\n",
    "    print(campo)\n",
    "    df = agrupamento(df_iptu, campo)\n",
    "    # for u in ['Residencial', 'Comercial', 'Serviços', 'Industrial', 'Outros']:\n",
    "    #     df[f'Percentual de Uso {u}'] = df[u] / df['Área Total Construída']\n",
    "    df.export_hdf5(f'data/IPTU-1995-2022-agrupados-por-{campo}.hdf5')\n",
    "    dfs.append(df)"
   ]
  },
  {
   "cell_type": "code",
   "execution_count": null,
   "metadata": {},
   "outputs": [],
   "source": [
    "# for i, dist in gdf_distritos.iterrows():\n",
    "#     print(dist.ds_codigo, dist.ds_nome.lower().replace(' ', '-'))\n",
    "#     df_iptu_distrito = df_iptu[df_iptu.distrito == int(dist.ds_codigo)]\n",
    "#     df = agrupamento(df_iptu_distrito, 'sqlc')\n",
    "#     for u in ['Residencial', 'Comercial', 'Serviços', 'Industrial', 'Outros']:\n",
    "#         df[f'Percentual de Uso {u}'] = df[u] / df['Área Total Construída']\n",
    "#     df.export_hdf5(f\"data/por_distritos/IPTU-1995-2022-agrupados-por-sqlc-{dist.ds_codigo}-{dist.ds_nome.lower().replace(' ', '-')}.hdf5\")\n",
    "#     # break    "
   ]
  },
  {
   "cell_type": "code",
   "execution_count": 102,
   "metadata": {},
   "outputs": [
    {
     "data": {
      "text/html": [
       "<table>\n",
       "<thead>\n",
       "<tr><th>#                                </th><th>distrito  </th><th>ano  </th><th>Quantidade de Unidades  </th><th>Quantidade de Unidades Condominiais  </th><th>Tamanho Médio da Unidade Condominial  </th><th>Tamanho médio dos Terrenos  </th><th>Área Total dos terrenos-lotes  </th><th>Área Total Ocupada  </th><th>Área Total Construída  </th><th>Valor Total dos Terrenos  </th><th>Valor Total das Construções  </th><th>CA médio          </th><th>TO médio           </th><th>CA médio em lotes condominiais  </th><th>TO médio em lotes condominiais  </th><th>CA médio em lotes não condominiais  </th><th>TO médio em lotes não condominiais  </th><th>Comprimento Médio da Testada  </th><th>Número médio de Pavimentos  </th><th>Fator de obsolecência médio  </th></tr>\n",
       "</thead>\n",
       "<tbody>\n",
       "<tr><td><i style='opacity: 0.6'>0</i>    </td><td>0         </td><td>1995 </td><td>10912                   </td><td>1923                                 </td><td>91.49141965678628                     </td><td>3730.6820931085044          </td><td>40709203                       </td><td>6330766             </td><td>1474148                </td><td>403508190.57777524        </td><td>342587818.0                  </td><td>0.5707595655441189</td><td>0.24455748209426265</td><td>1.7500919321624053              </td><td>0.24412733431471892             </td><td>0.3213535327327567                  </td><td>0.24464950280625053                 </td><td>48.34549120234604             </td><td>1.6637646627565983          </td><td>0.6513929618768328           </td></tr>\n",
       "<tr><td><i style='opacity: 0.6'>1</i>    </td><td>0         </td><td>1996 </td><td>11179                   </td><td>2100                                 </td><td>93.53904761904762                     </td><td>3995.613561141426           </td><td>44666964                       </td><td>7943388             </td><td>1578791                </td><td>625570366.1666627         </td><td>476590870.0                  </td><td>0.6076953108929819</td><td>0.26897854370771995</td><td>1.7490463618827914              </td><td>0.25562280800901827             </td><td>0.34658878672667376                 </td><td>0.2720677655347149                  </td><td>47.67546292154933             </td><td>1.7459522318633152          </td><td>0.675284014670364            </td></tr>\n",
       "<tr><td><i style='opacity: 0.6'>2</i>    </td><td>0         </td><td>1997 </td><td>10317                   </td><td>2100                                 </td><td>93.54                                 </td><td>4285.8205873800525          </td><td>44216811                       </td><td>8028760             </td><td>1728144                </td><td>668074640.2555504         </td><td>584468408.0                  </td><td>0.6828669415181395</td><td>0.306726648074299  </td><td>1.7490600027904148              </td><td>0.25562280800901577             </td><td>0.4133667603982093                  </td><td>0.31978714024140564                 </td><td>50.33546573616361             </td><td>1.933023165648929           </td><td>0.7295725501599302           </td></tr>\n",
       "<tr><td><i style='opacity: 0.6'>3</i>    </td><td>0         </td><td>1998 </td><td>10301                   </td><td>2117                                 </td><td>95.93103448275862                     </td><td>4094.1958062324047          </td><td>42174311                       </td><td>8054073             </td><td>1753029                </td><td>605675740.799998          </td><td>623670460.0                  </td><td>0.6958907594303442</td><td>0.31032130080948217</td><td>1.7772406242050165              </td><td>0.25947965834813735             </td><td>0.41907893554191694                 </td><td>0.3234727862799904                  </td><td>50.5297543927774              </td><td>1.957382778371032           </td><td>0.734880108727308            </td></tr>\n",
       "<tr><td><i style='opacity: 0.6'>4</i>    </td><td>0         </td><td>1999 </td><td>10351                   </td><td>2232                                 </td><td>95.99417562724014                     </td><td>4217.388658100666           </td><td>43654190                       </td><td>8787774             </td><td>1809696                </td><td>609712731.844445          </td><td>647722993.0                  </td><td>0.7137974981137403</td><td>0.31964847223499193</td><td>1.743794717411117               </td><td>0.2742871372307171              </td><td>0.4335580773195567                  </td><td>0.33211878874312845                 </td><td>50.88957588638779             </td><td>1.9767172253888514          </td><td>0.7425369529514056           </td></tr>\n",
       "<tr><td>...                              </td><td>...       </td><td>...  </td><td>...                     </td><td>...                                  </td><td>...                                   </td><td>...                         </td><td>...                            </td><td>...                 </td><td>...                    </td><td>...                       </td><td>...                          </td><td>...               </td><td>...                </td><td>...                             </td><td>...                             </td><td>...                                 </td><td>...                                 </td><td>...                           </td><td>...                         </td><td>...                          </td></tr>\n",
       "<tr><td><i style='opacity: 0.6'>2,711</i></td><td>96        </td><td>2018 </td><td>26075                   </td><td>5980                                 </td><td>64.00234113712375                     </td><td>2581.7282070949186          </td><td>67318563                       </td><td>16440323            </td><td>2587707                </td><td>1799507442.954893         </td><td>1953839708.0                 </td><td>0.7589980713770961</td><td>0.37406251155768555</td><td>1.5742614129138586              </td><td>0.26877648344094                </td><td>0.5163867361002142                  </td><td>0.40539420840457385                 </td><td>34.445599232981785            </td><td>2.170316395014382           </td><td>0.7076126558005753           </td></tr>\n",
       "<tr><td><i style='opacity: 0.6'>2,712</i></td><td>96        </td><td>2019 </td><td>26150                   </td><td>5980                                 </td><td>64.00234113712375                     </td><td>2571.682638623327           </td><td>67249501                       </td><td>16464363            </td><td>2625663                </td><td>1842252253.5361295        </td><td>2057240156.0                 </td><td>0.764183364339965 </td><td>0.3772573172237717 </td><td>1.574261412913811               </td><td>0.2687764834409361              </td><td>0.5240114887587943                  </td><td>0.40941970621838947                 </td><td>34.34669216061185             </td><td>2.1737667304015296          </td><td>0.7035181644359465           </td></tr>\n",
       "<tr><td><i style='opacity: 0.6'>2,713</i></td><td>96        </td><td>2020 </td><td>26820                   </td><td>6527                                 </td><td>64.18124712731729                     </td><td>2631.619649515287           </td><td>70580039                       </td><td>17682504            </td><td>2711063                </td><td>1928467784.591637         </td><td>2199811922.0                 </td><td>0.8042789406924671</td><td>0.3784871040173368 </td><td>1.6563464593448145              </td><td>0.2749135133815406              </td><td>0.53022164535691                    </td><td>0.4118003068991058                  </td><td>34.83456375838926             </td><td>2.2585756897837435          </td><td>0.6990678598061149           </td></tr>\n",
       "<tr><td><i style='opacity: 0.6'>2,714</i></td><td>96        </td><td>2021 </td><td>26662                   </td><td>6546                                 </td><td>64.13290559120074                     </td><td>2643.3273197809617          </td><td>70476393                       </td><td>17674362            </td><td>2703063                </td><td>1891702204.1111307        </td><td>2194178695.0                 </td><td>0.8101383276516214</td><td>0.379756519865763  </td><td>1.6568096339320415              </td><td>0.27564942747446225             </td><td>0.5346208107043696                  </td><td>0.41363428019553466                 </td><td>34.94572515949673             </td><td>2.271134948616008           </td><td>0.5613888673505004           </td></tr>\n",
       "<tr><td><i style='opacity: 0.6'>2,715</i></td><td>96        </td><td>2022 </td><td>26979                   </td><td>6742                                 </td><td>64.36991990507268                     </td><td>2649.5385299677528          </td><td>71481900                       </td><td>18128588            </td><td>2776679                </td><td>3001404228.7335067        </td><td>3769925962.0                 </td><td>0.8270093523556329</td><td>0.38226016490648834</td><td>1.688645798453685               </td><td>0.28088620220194244             </td><td>0.5399533203551506                  </td><td>0.41603311823721195                 </td><td>34.83262367876904             </td><td>2.366321954112458           </td><td>0.5518099248863282           </td></tr>\n",
       "</tbody>\n",
       "</table>"
      ],
      "text/plain": [
       "#      distrito    ano    Quantidade de Unidades    Quantidade de Unidades Condominiais    Tamanho Médio da Unidade Condominial    Tamanho médio dos Terrenos    Área Total dos terrenos-lotes    Área Total Ocupada    Área Total Construída    Valor Total dos Terrenos    Valor Total das Construções    CA médio            TO médio             CA médio em lotes condominiais    TO médio em lotes condominiais    CA médio em lotes não condominiais    TO médio em lotes não condominiais    Comprimento Médio da Testada    Número médio de Pavimentos    Fator de obsolecência médio\n",
       "0      0           1995   10912                     1923                                   91.49141965678628                       3730.6820931085044            40709203                         6330766               1474148                  403508190.57777524          342587818.0                    0.5707595655441189  0.24455748209426265  1.7500919321624053                0.24412733431471892               0.3213535327327567                    0.24464950280625053                   48.34549120234604               1.6637646627565983            0.6513929618768328\n",
       "1      0           1996   11179                     2100                                   93.53904761904762                       3995.613561141426             44666964                         7943388               1578791                  625570366.1666627           476590870.0                    0.6076953108929819  0.26897854370771995  1.7490463618827914                0.25562280800901827               0.34658878672667376                   0.2720677655347149                    47.67546292154933               1.7459522318633152            0.675284014670364\n",
       "2      0           1997   10317                     2100                                   93.54                                   4285.8205873800525            44216811                         8028760               1728144                  668074640.2555504           584468408.0                    0.6828669415181395  0.306726648074299    1.7490600027904148                0.25562280800901577               0.4133667603982093                    0.31978714024140564                   50.33546573616361               1.933023165648929             0.7295725501599302\n",
       "3      0           1998   10301                     2117                                   95.93103448275862                       4094.1958062324047            42174311                         8054073               1753029                  605675740.799998            623670460.0                    0.6958907594303442  0.31032130080948217  1.7772406242050165                0.25947965834813735               0.41907893554191694                   0.3234727862799904                    50.5297543927774                1.957382778371032             0.734880108727308\n",
       "4      0           1999   10351                     2232                                   95.99417562724014                       4217.388658100666             43654190                         8787774               1809696                  609712731.844445            647722993.0                    0.7137974981137403  0.31964847223499193  1.743794717411117                 0.2742871372307171                0.4335580773195567                    0.33211878874312845                   50.88957588638779               1.9767172253888514            0.7425369529514056\n",
       "...    ...         ...    ...                       ...                                    ...                                     ...                           ...                              ...                   ...                      ...                         ...                            ...                 ...                  ...                               ...                               ...                                   ...                                   ...                             ...                           ...\n",
       "2,711  96          2018   26075                     5980                                   64.00234113712375                       2581.7282070949186            67318563                         16440323              2587707                  1799507442.954893           1953839708.0                   0.7589980713770961  0.37406251155768555  1.5742614129138586                0.26877648344094                  0.5163867361002142                    0.40539420840457385                   34.445599232981785              2.170316395014382             0.7076126558005753\n",
       "2,712  96          2019   26150                     5980                                   64.00234113712375                       2571.682638623327             67249501                         16464363              2625663                  1842252253.5361295          2057240156.0                   0.764183364339965   0.3772573172237717   1.574261412913811                 0.2687764834409361                0.5240114887587943                    0.40941970621838947                   34.34669216061185               2.1737667304015296            0.7035181644359465\n",
       "2,713  96          2020   26820                     6527                                   64.18124712731729                       2631.619649515287             70580039                         17682504              2711063                  1928467784.591637           2199811922.0                   0.8042789406924671  0.3784871040173368   1.6563464593448145                0.2749135133815406                0.53022164535691                      0.4118003068991058                    34.83456375838926               2.2585756897837435            0.6990678598061149\n",
       "2,714  96          2021   26662                     6546                                   64.13290559120074                       2643.3273197809617            70476393                         17674362              2703063                  1891702204.1111307          2194178695.0                   0.8101383276516214  0.379756519865763    1.6568096339320415                0.27564942747446225               0.5346208107043696                    0.41363428019553466                   34.94572515949673               2.271134948616008             0.5613888673505004\n",
       "2,715  96          2022   26979                     6742                                   64.36991990507268                       2649.5385299677528            71481900                         18128588              2776679                  3001404228.7335067          3769925962.0                   0.8270093523556329  0.38226016490648834  1.688645798453685                 0.28088620220194244               0.5399533203551506                    0.41603311823721195                   34.83262367876904               2.366321954112458             0.5518099248863282"
      ]
     },
     "execution_count": 102,
     "metadata": {},
     "output_type": "execute_result"
    }
   ],
   "source": [
    "dfs[0]"
   ]
  },
  {
   "cell_type": "code",
   "execution_count": null,
   "metadata": {},
   "outputs": [],
   "source": [
    "# df_iptu_distrito = vaex.open('data/IPTU-1995-2022-agrupados-por-distrito.hdf5')\n",
    "# df_iptu_subprefeitura = vaex.open('data/IPTU-1995-2022-agrupados-por-subprefeitura.hdf5')\n",
    "# df_iptu_od = vaex.open('data/IPTU-1995-2022-agrupados-por-od.hdf5')\n",
    "\n",
    "df_iptu_distrito, df_iptu_subprefeitura, df_iptu_od, df_iptu_censo, df_iptu_sq, df_iptu_sqlc = dfs"
   ]
  },
  {
   "cell_type": "code",
   "execution_count": null,
   "metadata": {},
   "outputs": [],
   "source": [
    "f\"{format(df_iptu_distrito['Quantidade de Unidades'].sum(), ',d').replace(',', '.')} seila\""
   ]
  },
  {
   "cell_type": "code",
   "execution_count": null,
   "metadata": {},
   "outputs": [],
   "source": [
    "df_iptu_sqlc.shape"
   ]
  },
  {
   "cell_type": "code",
   "execution_count": null,
   "metadata": {},
   "outputs": [],
   "source": [
    "df_iptu_subprefeitura[\"CA médio\"].max()"
   ]
  },
  {
   "cell_type": "code",
   "execution_count": null,
   "metadata": {},
   "outputs": [],
   "source": [
    "df_iptu_od[\"CA médio\"].max()"
   ]
  },
  {
   "cell_type": "code",
   "execution_count": null,
   "metadata": {},
   "outputs": [],
   "source": [
    "df_iptu.sqlc"
   ]
  },
  {
   "cell_type": "code",
   "execution_count": null,
   "metadata": {},
   "outputs": [],
   "source": []
  },
  {
   "cell_type": "code",
   "execution_count": null,
   "metadata": {},
   "outputs": [],
   "source": []
  },
  {
   "cell_type": "code",
   "execution_count": null,
   "metadata": {},
   "outputs": [],
   "source": []
  }
 ],
 "metadata": {
  "kernelspec": {
   "display_name": "Python 3 (ipykernel)",
   "language": "python",
   "name": "python3"
  },
  "language_info": {
   "codemirror_mode": {
    "name": "ipython",
    "version": 3
   },
   "file_extension": ".py",
   "mimetype": "text/x-python",
   "name": "python",
   "nbconvert_exporter": "python",
   "pygments_lexer": "ipython3",
   "version": "3.10.5"
  },
  "vscode": {
   "interpreter": {
    "hash": "0341034113fb58718766baf12f0d6826e2b308651dc1d9c42fe847e4b46dc5f2"
   }
  }
 },
 "nbformat": 4,
 "nbformat_minor": 2
}
