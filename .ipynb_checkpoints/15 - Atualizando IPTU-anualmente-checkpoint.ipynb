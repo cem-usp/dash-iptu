{
 "cells": [
  {
   "cell_type": "code",
   "execution_count": 1,
   "metadata": {},
   "outputs": [],
   "source": [
    "import geopandas as gpd\n",
    "import vaex\n",
    "import pandas as pd\n",
    "import glob\n",
    "import os"
   ]
  },
  {
   "cell_type": "code",
   "execution_count": 2,
   "metadata": {},
   "outputs": [],
   "source": [
    "ano = 2023"
   ]
  },
  {
   "cell_type": "code",
   "execution_count": 3,
   "metadata": {},
   "outputs": [],
   "source": [
    "\n",
    "## Carregando Quadras Fiscais para espacializar o lcto do IPTU\n",
    "gdf_quadras = gpd.read_file('zip://data/SIRGAS_SHP_quadraMDSF.zip!SIRGAS_SHP_quadraMDSF/SIRGAS_SHP_quadraMDSF.shp')\n",
    "gdf_quadras = gdf_quadras.set_crs(epsg=31983)\n",
    "gdf_quadras = gdf_quadras[gdf_quadras.qd_tipo == 'F']\n",
    "gdf_quadras = gdf_quadras.dissolve(['qd_setor', 'qd_fiscal']).reset_index()"
   ]
  },
  {
   "cell_type": "code",
   "execution_count": 4,
   "metadata": {},
   "outputs": [],
   "source": [
    "## Relacionando a quadra ao distrito para agregação espacial\n",
    "\n",
    "gdf_distritos = gpd.read_file('data/SIRGAS_GPKG_distrito.gpkg')\n",
    "gdf_quadras_distritos = gdf_quadras.sjoin(gdf_distritos, how='left', predicate='intersects')\n",
    "gdf_quadras_distritos.drop('index_right', axis=1, inplace=True)\n",
    "\n",
    "df_quadras_distritos = gdf_quadras_distritos.loc[:, ['qd_setor', 'qd_fiscal', 'ds_codigo', 'ds_nome', 'ds_cd_sub', 'ds_subpref']]\n",
    "df_quadras_distritos.loc[:, ['sq']] = df_quadras_distritos.qd_setor + df_quadras_distritos.qd_fiscal\n",
    "df_quadras_distritos.drop_duplicates(keep='first', inplace=True, ignore_index=True)"
   ]
  },
  {
   "cell_type": "code",
   "execution_count": 5,
   "metadata": {},
   "outputs": [
    {
     "data": {
      "text/html": [
       "<div>\n",
       "<style scoped>\n",
       "    .dataframe tbody tr th:only-of-type {\n",
       "        vertical-align: middle;\n",
       "    }\n",
       "\n",
       "    .dataframe tbody tr th {\n",
       "        vertical-align: top;\n",
       "    }\n",
       "\n",
       "    .dataframe thead th {\n",
       "        text-align: right;\n",
       "    }\n",
       "</style>\n",
       "<table border=\"1\" class=\"dataframe\">\n",
       "  <thead>\n",
       "    <tr style=\"text-align: right;\">\n",
       "      <th></th>\n",
       "      <th>qd_setor</th>\n",
       "      <th>qd_fiscal</th>\n",
       "      <th>ds_codigo</th>\n",
       "      <th>ds_nome</th>\n",
       "      <th>ds_cd_sub</th>\n",
       "      <th>ds_subpref</th>\n",
       "      <th>sq</th>\n",
       "    </tr>\n",
       "  </thead>\n",
       "  <tbody>\n",
       "    <tr>\n",
       "      <th>0</th>\n",
       "      <td>001</td>\n",
       "      <td>003</td>\n",
       "      <td>9</td>\n",
       "      <td>BOM RETIRO</td>\n",
       "      <td>09</td>\n",
       "      <td>SE</td>\n",
       "      <td>001003</td>\n",
       "    </tr>\n",
       "    <tr>\n",
       "      <th>1</th>\n",
       "      <td>001</td>\n",
       "      <td>004</td>\n",
       "      <td>9</td>\n",
       "      <td>BOM RETIRO</td>\n",
       "      <td>09</td>\n",
       "      <td>SE</td>\n",
       "      <td>001004</td>\n",
       "    </tr>\n",
       "    <tr>\n",
       "      <th>2</th>\n",
       "      <td>001</td>\n",
       "      <td>005</td>\n",
       "      <td>9</td>\n",
       "      <td>BOM RETIRO</td>\n",
       "      <td>09</td>\n",
       "      <td>SE</td>\n",
       "      <td>001005</td>\n",
       "    </tr>\n",
       "    <tr>\n",
       "      <th>3</th>\n",
       "      <td>001</td>\n",
       "      <td>006</td>\n",
       "      <td>9</td>\n",
       "      <td>BOM RETIRO</td>\n",
       "      <td>09</td>\n",
       "      <td>SE</td>\n",
       "      <td>001006</td>\n",
       "    </tr>\n",
       "    <tr>\n",
       "      <th>4</th>\n",
       "      <td>001</td>\n",
       "      <td>007</td>\n",
       "      <td>9</td>\n",
       "      <td>BOM RETIRO</td>\n",
       "      <td>09</td>\n",
       "      <td>SE</td>\n",
       "      <td>001007</td>\n",
       "    </tr>\n",
       "    <tr>\n",
       "      <th>...</th>\n",
       "      <td>...</td>\n",
       "      <td>...</td>\n",
       "      <td>...</td>\n",
       "      <td>...</td>\n",
       "      <td>...</td>\n",
       "      <td>...</td>\n",
       "      <td>...</td>\n",
       "    </tr>\n",
       "    <tr>\n",
       "      <th>46011</th>\n",
       "      <td>310</td>\n",
       "      <td>116</td>\n",
       "      <td>38</td>\n",
       "      <td>JABAQUARA</td>\n",
       "      <td>15</td>\n",
       "      <td>JABAQUARA</td>\n",
       "      <td>310116</td>\n",
       "    </tr>\n",
       "    <tr>\n",
       "      <th>46012</th>\n",
       "      <td>310</td>\n",
       "      <td>117</td>\n",
       "      <td>38</td>\n",
       "      <td>JABAQUARA</td>\n",
       "      <td>15</td>\n",
       "      <td>JABAQUARA</td>\n",
       "      <td>310117</td>\n",
       "    </tr>\n",
       "    <tr>\n",
       "      <th>46013</th>\n",
       "      <td>310</td>\n",
       "      <td>118</td>\n",
       "      <td>38</td>\n",
       "      <td>JABAQUARA</td>\n",
       "      <td>15</td>\n",
       "      <td>JABAQUARA</td>\n",
       "      <td>310118</td>\n",
       "    </tr>\n",
       "    <tr>\n",
       "      <th>46014</th>\n",
       "      <td>310</td>\n",
       "      <td>119</td>\n",
       "      <td>38</td>\n",
       "      <td>JABAQUARA</td>\n",
       "      <td>15</td>\n",
       "      <td>JABAQUARA</td>\n",
       "      <td>310119</td>\n",
       "    </tr>\n",
       "    <tr>\n",
       "      <th>46015</th>\n",
       "      <td>310</td>\n",
       "      <td>120</td>\n",
       "      <td>38</td>\n",
       "      <td>JABAQUARA</td>\n",
       "      <td>15</td>\n",
       "      <td>JABAQUARA</td>\n",
       "      <td>310120</td>\n",
       "    </tr>\n",
       "  </tbody>\n",
       "</table>\n",
       "<p>46016 rows × 7 columns</p>\n",
       "</div>"
      ],
      "text/plain": [
       "      qd_setor qd_fiscal ds_codigo     ds_nome ds_cd_sub ds_subpref      sq\n",
       "0          001       003         9  BOM RETIRO        09         SE  001003\n",
       "1          001       004         9  BOM RETIRO        09         SE  001004\n",
       "2          001       005         9  BOM RETIRO        09         SE  001005\n",
       "3          001       006         9  BOM RETIRO        09         SE  001006\n",
       "4          001       007         9  BOM RETIRO        09         SE  001007\n",
       "...        ...       ...       ...         ...       ...        ...     ...\n",
       "46011      310       116        38   JABAQUARA        15  JABAQUARA  310116\n",
       "46012      310       117        38   JABAQUARA        15  JABAQUARA  310117\n",
       "46013      310       118        38   JABAQUARA        15  JABAQUARA  310118\n",
       "46014      310       119        38   JABAQUARA        15  JABAQUARA  310119\n",
       "46015      310       120        38   JABAQUARA        15  JABAQUARA  310120\n",
       "\n",
       "[46016 rows x 7 columns]"
      ]
     },
     "execution_count": 5,
     "metadata": {},
     "output_type": "execute_result"
    }
   ],
   "source": [
    "df_quadras_distritos"
   ]
  },
  {
   "cell_type": "code",
   "execution_count": 6,
   "metadata": {},
   "outputs": [
    {
     "name": "stdout",
     "output_type": "stream",
     "text": [
      "Processando 2023\n"
     ]
    },
    {
     "name": "stderr",
     "output_type": "stream",
     "text": [
      "/tmp/ipykernel_302760/3111706170.py:23: FutureWarning: Passing a set as an indexer is deprecated and will raise in a future version. Use a list instead.\n",
      "  df_ano.loc[:, {ano}] = True\n"
     ]
    }
   ],
   "source": [
    "dfs = []\n",
    "p = 0\n",
    "\n",
    "for i in range(1995,2023):\n",
    "\n",
    "    print(f'Processando {i}')\n",
    "\n",
    "    df = vaex.open(f'data/IPTU-HDF5/IPTU_{i}/IPTU_{i}.hdf5')\n",
    "\n",
    "    df.setor = df['NUMERO DO CONTRIBUINTE'].str.slice(0,3)\n",
    "    df.quadra = df['NUMERO DO CONTRIBUINTE'].str.slice(3,6)\n",
    "    df.fillna(value='00-0', column_names=['NUMERO DO CONDOMINIO'], inplace=True)\n",
    "    df.fillna(value=1., column_names=['FRACAO IDEAL'], inplace=True)\n",
    "    df.fillna(value=0., column_names=['AREA CONSTRUIDA', 'AREA OCUPADA', 'AREA DO TERRENO'], inplace=True)\n",
    "    df.sqlc = df.func.where(df['NUMERO DO CONDOMINIO'] == '00-0',\n",
    "                                    df['NUMERO DO CONTRIBUINTE'].str.slice(0, 10) + '00',\n",
    "                                    df['NUMERO DO CONTRIBUINTE'].str.slice(0, 6) + '0000' + df['NUMERO DO CONDOMINIO'].str.slice(0, 2))\n",
    "    df['sq'] = df.setor + df.quadra\n",
    "    df['sqlc'] = df.sqlc\n",
    "\n",
    "    df_ano = df.groupby('sqlc', agg={'exercicio': vaex.agg.first('ANO DO EXERCICIO')})\n",
    "    df_ano = df_ano.to_pandas_df()\n",
    "    df_ano.loc[:, {i}] = True\n",
    "    df_ano.drop('exercicio', axis=1, inplace=True)\n",
    "    df_ano.set_index('sqlc', inplace=True)\n",
    "\n",
    "    dfs.append(df_ano)\n",
    "\n",
    "    # if p > 1:\n",
    "    #     break\n",
    "\n",
    "    # p =+ 1"
   ]
  },
  {
   "cell_type": "code",
   "execution_count": 7,
   "metadata": {},
   "outputs": [],
   "source": [
    "df_iptus = pd.concat(dfs, axis=1)"
   ]
  },
  {
   "cell_type": "code",
   "execution_count": 12,
   "metadata": {},
   "outputs": [],
   "source": [
    "df_iptus.to_pickle('data/lote_sqlc_por_exercicio.pkl')"
   ]
  },
  {
   "cell_type": "markdown",
   "metadata": {},
   "source": [
    "## Relacionando aos lotes\n",
    "\n",
    "Reiniciar o Notebook aqui"
   ]
  },
  {
   "cell_type": "code",
   "execution_count": 13,
   "metadata": {},
   "outputs": [],
   "source": [
    "import geopandas as gpd\n",
    "import pandas as pd\n",
    "import glob\n",
    "import os\n",
    "import warnings\n",
    "warnings.filterwarnings('ignore')"
   ]
  },
  {
   "cell_type": "code",
   "execution_count": 14,
   "metadata": {},
   "outputs": [],
   "source": [
    "## Carregando Quadras Fiscais para espacializar o lcto do IPTU\n",
    "\n",
    "gdf_quadras = gpd.read_file('zip://data/SIRGAS_SHP_quadraMDSF.zip!SIRGAS_SHP_quadraMDSF/SIRGAS_SHP_quadraMDSF.shp')\n",
    "gdf_quadras = gdf_quadras.set_crs(epsg=31983)\n",
    "gdf_quadras = gdf_quadras[gdf_quadras.qd_tipo == 'F']\n",
    "gdf_quadras.loc[:, 'sq'] = gdf_quadras.qd_setor + gdf_quadras.qd_fiscal\n",
    "gdf_quadras = gdf_quadras.dissolve(by='sq').reset_index()\n",
    "gdf_quadras.geometry = gdf_quadras.buffer(-0.05)\n"
   ]
  },
  {
   "cell_type": "code",
   "execution_count": 15,
   "metadata": {},
   "outputs": [],
   "source": [
    "df_iptus = pd.read_pickle('data/lote_sqlc_por_exercicio.pkl')"
   ]
  },
  {
   "cell_type": "code",
   "execution_count": 16,
   "metadata": {},
   "outputs": [
    {
     "data": {
      "text/html": [
       "<div>\n",
       "<style scoped>\n",
       "    .dataframe tbody tr th:only-of-type {\n",
       "        vertical-align: middle;\n",
       "    }\n",
       "\n",
       "    .dataframe tbody tr th {\n",
       "        vertical-align: top;\n",
       "    }\n",
       "\n",
       "    .dataframe thead th {\n",
       "        text-align: right;\n",
       "    }\n",
       "</style>\n",
       "<table border=\"1\" class=\"dataframe\">\n",
       "  <thead>\n",
       "    <tr style=\"text-align: right;\">\n",
       "      <th></th>\n",
       "      <th>2023</th>\n",
       "    </tr>\n",
       "    <tr>\n",
       "      <th>sqlc</th>\n",
       "      <th></th>\n",
       "    </tr>\n",
       "  </thead>\n",
       "  <tbody>\n",
       "    <tr>\n",
       "      <th>029049060800</th>\n",
       "      <td>True</td>\n",
       "    </tr>\n",
       "    <tr>\n",
       "      <th>029057000800</th>\n",
       "      <td>True</td>\n",
       "    </tr>\n",
       "    <tr>\n",
       "      <th>029063000800</th>\n",
       "      <td>True</td>\n",
       "    </tr>\n",
       "    <tr>\n",
       "      <th>029067000900</th>\n",
       "      <td>True</td>\n",
       "    </tr>\n",
       "    <tr>\n",
       "      <th>029070005500</th>\n",
       "      <td>True</td>\n",
       "    </tr>\n",
       "    <tr>\n",
       "      <th>...</th>\n",
       "      <td>...</td>\n",
       "    </tr>\n",
       "    <tr>\n",
       "      <th>310102009500</th>\n",
       "      <td>True</td>\n",
       "    </tr>\n",
       "    <tr>\n",
       "      <th>310107001300</th>\n",
       "      <td>True</td>\n",
       "    </tr>\n",
       "    <tr>\n",
       "      <th>310107001900</th>\n",
       "      <td>True</td>\n",
       "    </tr>\n",
       "    <tr>\n",
       "      <th>310111000200</th>\n",
       "      <td>True</td>\n",
       "    </tr>\n",
       "    <tr>\n",
       "      <th>310117008300</th>\n",
       "      <td>True</td>\n",
       "    </tr>\n",
       "  </tbody>\n",
       "</table>\n",
       "<p>1663582 rows × 1 columns</p>\n",
       "</div>"
      ],
      "text/plain": [
       "              2023\n",
       "sqlc              \n",
       "029049060800  True\n",
       "029057000800  True\n",
       "029063000800  True\n",
       "029067000900  True\n",
       "029070005500  True\n",
       "...            ...\n",
       "310102009500  True\n",
       "310107001300  True\n",
       "310107001900  True\n",
       "310111000200  True\n",
       "310117008300  True\n",
       "\n",
       "[1663582 rows x 1 columns]"
      ]
     },
     "execution_count": 16,
     "metadata": {},
     "output_type": "execute_result"
    }
   ],
   "source": [
    "df_iptus"
   ]
  },
  {
   "cell_type": "code",
   "execution_count": 18,
   "metadata": {},
   "outputs": [
    {
     "name": "stdout",
     "output_type": "stream",
     "text": [
      "SIRGAS_SHP_LOTES_34_IPIRANGA.zip\n"
     ]
    },
    {
     "ename": "NameError",
     "evalue": "name 'y' is not defined",
     "output_type": "error",
     "traceback": [
      "\u001b[0;31m---------------------------------------------------------------------------\u001b[0m",
      "\u001b[0;31mNameError\u001b[0m                                 Traceback (most recent call last)",
      "\u001b[1;32m/home/fernando/dev/dash-iptu/15 - Atualizando IPTU-anualmente.ipynb Cell 14\u001b[0m in \u001b[0;36m<cell line: 1>\u001b[0;34m()\u001b[0m\n\u001b[1;32m     <a href='vscode-notebook-cell:/home/fernando/dev/dash-iptu/15%20-%20Atualizando%20IPTU-anualmente.ipynb#X16sZmlsZQ%3D%3D?line=9'>10</a>\u001b[0m gdf_lote_iptu \u001b[39m=\u001b[39m gdf_lote\u001b[39m.\u001b[39mjoin(df_iptus, on\u001b[39m=\u001b[39m\u001b[39m'\u001b[39m\u001b[39msqlc\u001b[39m\u001b[39m'\u001b[39m, how\u001b[39m=\u001b[39m\u001b[39m'\u001b[39m\u001b[39mleft\u001b[39m\u001b[39m'\u001b[39m)\n\u001b[1;32m     <a href='vscode-notebook-cell:/home/fernando/dev/dash-iptu/15%20-%20Atualizando%20IPTU-anualmente.ipynb#X16sZmlsZQ%3D%3D?line=10'>11</a>\u001b[0m gdf_lote_iptu\u001b[39m.\u001b[39mfillna(\u001b[39mFalse\u001b[39;00m, inplace\u001b[39m=\u001b[39m\u001b[39mTrue\u001b[39;00m)\n\u001b[0;32m---> <a href='vscode-notebook-cell:/home/fernando/dev/dash-iptu/15%20-%20Atualizando%20IPTU-anualmente.ipynb#X16sZmlsZQ%3D%3D?line=12'>13</a>\u001b[0m quadras \u001b[39m=\u001b[39m gdf_quadras[gdf_quadras\u001b[39m.\u001b[39msq\u001b[39m.\u001b[39misin(gdf_lote_iptu\u001b[39m.\u001b[39mloc[gdf_lote_iptu[y], \u001b[39m'\u001b[39m\u001b[39msq\u001b[39m\u001b[39m'\u001b[39m])]\n\u001b[1;32m     <a href='vscode-notebook-cell:/home/fernando/dev/dash-iptu/15%20-%20Atualizando%20IPTU-anualmente.ipynb#X16sZmlsZQ%3D%3D?line=13'>14</a>\u001b[0m quadras\u001b[39m.\u001b[39mset_index(\u001b[39m'\u001b[39m\u001b[39msq\u001b[39m\u001b[39m'\u001b[39m, inplace\u001b[39m=\u001b[39m\u001b[39mTrue\u001b[39;00m)\n\u001b[1;32m     <a href='vscode-notebook-cell:/home/fernando/dev/dash-iptu/15%20-%20Atualizando%20IPTU-anualmente.ipynb#X16sZmlsZQ%3D%3D?line=14'>15</a>\u001b[0m quadras\u001b[39m.\u001b[39mset_crs(epsg\u001b[39m=\u001b[39m\u001b[39m31983\u001b[39m)\n",
      "\u001b[0;31mNameError\u001b[0m: name 'y' is not defined"
     ]
    }
   ],
   "source": [
    "for f in glob.glob(f'data/lotes/{ano}/SIRGAS_SHP_LOTES*.zip'):\n",
    "    print(os.path.basename(f))\n",
    "    gdf_lote = gpd.read_file(f'zip://{f}!{os.path.basename(f)[:-4]}')\n",
    "    gdf_lote.loc[:, 'sq'] = gdf_lote.lo_setor + gdf_lote.lo_quadra  \n",
    "    gdf_lote.loc[:, 'sqlc'] = gdf_lote.lo_setor + gdf_lote.lo_quadra + gdf_lote.lo_lote + gdf_lote.lo_condomi\n",
    "    \n",
    "    # Garantir que o lote é fiscal\n",
    "    gdf_lote = gdf_lote.loc[gdf_lote.lo_tp_lote == 'F', :]\n",
    "    \n",
    "    gdf_lote_iptu = gdf_lote.join(df_iptus, on='sqlc', how='left')\n",
    "    gdf_lote_iptu.fillna(False, inplace=True)\n",
    "    \n",
    "    quadras = gdf_quadras[gdf_quadras.sq.isin(gdf_lote_iptu.loc[gdf_lote_iptu[y], 'sq'])]\n",
    "    quadras.set_index('sq', inplace=True)\n",
    "    quadras.set_crs(epsg=31983)\n",
    "\n",
    "    \n",
    "    os.makedirs(f'lotes_agregados_por_ano/{ano}', exist_ok=True)\n",
    "    lotes = gdf_lote[gdf_lote.sqlc.isin(gdf_lote_iptu.loc[gdf_lote_iptu[ano], 'sqlc'])].set_crs(epsg=31983)\n",
    "    lotes_dissolved = lotes.dissolve(by='sq')\n",
    "    lotes_dissolved.geometry = lotes_dissolved.buffer(0.05)\n",
    "    lotes_diff_quadras = quadras.difference(lotes_dissolved)\n",
    "    \n",
    "    lotes = lotes.loc[:, ['sq', 'sqlc', 'geometry']].reset_index(drop=True)\n",
    "    lotes.loc[:, 'agregado'] = False\n",
    "\n",
    "    lotes_diff_quadras = gpd.GeoDataFrame(pd.Series(lotes_diff_quadras.index + '000000', lotes_diff_quadras.index, name='sqlc'), geometry=lotes_diff_quadras).reset_index()\n",
    "    lotes_diff_quadras.loc[:, 'agregado'] = True\n",
    "    \n",
    "    pd.concat([lotes, lotes_diff_quadras]).to_file(\n",
    "        f'lotes_agregados_por_ano/{ano}/{os.path.basename(f)[:-4]}_IPTU_{ano}.gpkg', driver='GPKG',\n",
    "        ignore_index=True\n",
    "    )\n",
    "\n",
    "        # print(y)\n",
    "\n",
    "    # break"
   ]
  },
  {
   "cell_type": "markdown",
   "metadata": {},
   "source": [
    "## Alternativa para arquivo único \n",
    "\n",
    "Ainda em desenvolvimento"
   ]
  },
  {
   "cell_type": "code",
   "execution_count": 266,
   "metadata": {},
   "outputs": [],
   "source": [
    "# df_iptus[range(1995, 2023)]"
   ]
  },
  {
   "cell_type": "code",
   "execution_count": 199,
   "metadata": {},
   "outputs": [],
   "source": [
    "import numpy as np"
   ]
  },
  {
   "cell_type": "code",
   "execution_count": 211,
   "metadata": {},
   "outputs": [],
   "source": [
    "df_iptus.fillna(False, inplace=True)"
   ]
  },
  {
   "cell_type": "code",
   "execution_count": 189,
   "metadata": {},
   "outputs": [
    {
     "name": "stdout",
     "output_type": "stream",
     "text": [
      "SIRGAS_SHP_LOTES_92_VILA_MEDEIROS.zip\n",
      "1995\n"
     ]
    }
   ],
   "source": []
  },
  {
   "cell_type": "code",
   "execution_count": 287,
   "metadata": {},
   "outputs": [],
   "source": [
    "# Adicionar coluna 1994 e 2023 FALSE\n",
    "df_iptus.loc[:, 1994] = False\n",
    "df_iptus.loc[:, 2023] = False\n",
    "df_iptus.loc[:, 'data_de_inicio'] = None\n",
    "df_iptus.loc[:, 'data_de_termino'] = None\n",
    "\n",
    "for w in list(range(1994, 2023)):\n",
    "    # print(w, w+1)\n",
    "\n",
    "    inicio = df_iptus[w]\n",
    "    termino = df_iptus[w+1]\n",
    "\n",
    "    df_iptus.loc[~inicio & termino, 'data_de_inicio'] = pd.to_datetime(f'{w+1}-01-01 00:00:00')\n",
    "    df_iptus.loc[inicio & ~termino, 'data_de_termino'] = pd.to_datetime(f'{w}-12-31 23:59:59')\n",
    "    \n",
    "    # IF TRUE, TRUE\n",
    "    # Não muda nada\n",
    "\n",
    "    # IF TRUE, FALSE\n",
    "    # Data de termino\n",
    "\n",
    "    # IF FALSE, FALSE\n",
    "    # Não muda nada\n",
    "\n",
    "    # IF FALSE, TRUE\n",
    "    # DAta de inicio\n",
    "\n",
    "    df_iptus_date = df_iptus.drop(range(1994, 2024), axis=1)\n",
    "    df_iptus_date.data_de_inicio = pd.to_datetime(df_iptus_date.data_de_inicio)\n",
    "    df_iptus_date.data_de_termino = pd.to_datetime(df_iptus_date.data_de_termino)\n"
   ]
  },
  {
   "cell_type": "code",
   "execution_count": 302,
   "metadata": {},
   "outputs": [
    {
     "name": "stdout",
     "output_type": "stream",
     "text": [
      "SIRGAS_SHP_LOTES_92_VILA_MEDEIROS.zip\n",
      "1995\n",
      "1996\n",
      "1997\n",
      "1998\n",
      "1999\n",
      "2000\n",
      "2001\n",
      "2002\n",
      "2003\n",
      "2004\n",
      "2005\n",
      "2006\n",
      "2007\n",
      "2008\n",
      "2009\n",
      "2010\n",
      "2011\n",
      "2012\n",
      "2013\n",
      "2014\n",
      "2015\n",
      "2016\n",
      "2017\n",
      "2018\n",
      "2019\n",
      "2020\n",
      "2021\n",
      "2022\n"
     ]
    }
   ],
   "source": [
    "lotes_diffs = []\n",
    "\n",
    "for f in glob.glob('data/lotes/SIRGAS_SHP_LOTES*.zip'):\n",
    "    print(os.path.basename(f))\n",
    "    gdf_lote = gpd.read_file(f'zip://{f}!{os.path.basename(f)[:-4]}')\n",
    "    gdf_lote.loc[:, 'sq'] = gdf_lote.lo_setor + gdf_lote.lo_quadra  \n",
    "    gdf_lote.loc[:, 'sqlc'] = gdf_lote.lo_setor + gdf_lote.lo_quadra + gdf_lote.lo_lote + gdf_lote.lo_condomi\n",
    "    \n",
    "    # Garantir que o lote é fiscal\n",
    "    gdf_lote = gdf_lote.loc[gdf_lote.lo_tp_lote == 'F', :]\n",
    "    \n",
    "    gdf_lote_iptu = gdf_lote.join(df_iptus_date, on='sqlc', how='left')\n",
    "    gdf_lote_iptu = gdf_lote_iptu.loc[:, ['sq', 'sqlc', 'data_de_inicio', 'data_de_termino', 'geometry']].reset_index(drop=True)\n",
    "    gdf_lote_iptu.loc[:, 'agregado'] = False\n",
    "\n",
    "    lotes_diffs.append(gdf_lote_iptu)\n",
    "    # gdf_lote_iptu.fillna(False, inplace=True)\n",
    "    \n",
    "    quadras = gdf_quadras[gdf_quadras.sq.isin(gdf_lote_iptu.loc[:, 'sq'])]\n",
    "    quadras.set_index('sq', inplace=True)\n",
    "    quadras.set_crs(epsg=31983)\n",
    "\n",
    "    for y in range(1995, 2023):\n",
    "        inicio = pd.to_datetime(f'{y}-01-01 00:00:00')\n",
    "        termino = pd.to_datetime(f'{y}-12-31 23:59:59')\n",
    "        periodo = (gdf_lote_iptu.data_de_inicio <= inicio) & (gdf_lote_iptu.data_de_termino >= termino)\n",
    "        lotes = gdf_lote_iptu[periodo]\n",
    "\n",
    "        # lotes = gdf_lote[gdf_lote.sqlc.isin(gdf_lote_iptu.loc[gdf_lote_iptu[y], 'sqlc'])].set_crs(epsg=31983)\n",
    "        lotes_dissolved = lotes.dissolve(by='sq')\n",
    "        lotes_dissolved.geometry = lotes_dissolved.buffer(0.05)\n",
    "        lotes_diff_quadras = quadras.difference(lotes_dissolved)\n",
    "        \n",
    "        # lotes = lotes.loc[:, ['sq', 'sqlc', 'data_de_inicio', 'geometry']].reset_index(drop=True)\n",
    "        # lotes.loc[:, 'agregado'] = False\n",
    "\n",
    "        lotes_diff_quadras = gpd.GeoDataFrame(pd.Series(lotes_diff_quadras.index + '000000', lotes_diff_quadras.index, name='sqlc'), geometry=lotes_diff_quadras).reset_index()\n",
    "        lotes_diff_quadras.loc[:, 'data_de_inicio'] = inicio\n",
    "        lotes_diff_quadras.loc[:, 'data_de_termino'] = termino\n",
    "        lotes_diff_quadras.loc[:, 'agregado'] = True\n",
    "\n",
    "        lotes_diffs.append(lotes_diff_quadras)\n",
    "        \n",
    "        print(y)\n",
    "        # break\n",
    "\n",
    "    pd.concat(lotes_diffs).to_file(\n",
    "        f'lotes_agregados_por_ano/atributo_de_data/{os.path.basename(f)[:-4]}_atributo_de_data.gpkg', driver='GPKG',\n",
    "        ignore_index=True\n",
    "    )\n",
    "\n",
    "\n",
    "    break"
   ]
  },
  {
   "cell_type": "code",
   "execution_count": null,
   "metadata": {},
   "outputs": [],
   "source": []
  }
 ],
 "metadata": {
  "kernelspec": {
   "display_name": "Python 3 (ipykernel)",
   "language": "python",
   "name": "python3"
  },
  "language_info": {
   "codemirror_mode": {
    "name": "ipython",
    "version": 3
   },
   "file_extension": ".py",
   "mimetype": "text/x-python",
   "name": "python",
   "nbconvert_exporter": "python",
   "pygments_lexer": "ipython3",
   "version": "3.10.6"
  },
  "vscode": {
   "interpreter": {
    "hash": "66377ee36ba471295a52b63e00c09c7d3241bd901d4537acec8d938c05575fda"
   }
  }
 },
 "nbformat": 4,
 "nbformat_minor": 2
}
