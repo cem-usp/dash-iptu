{
 "cells": [
  {
   "cell_type": "code",
   "execution_count": 1,
   "metadata": {},
   "outputs": [],
   "source": [
    "import geopandas as gpd\n",
    "import vaex\n",
    "import pandas as pd\n",
    "import glob\n",
    "import os"
   ]
  },
  {
   "cell_type": "code",
   "execution_count": 2,
   "metadata": {},
   "outputs": [],
   "source": [
    "ano = 2023"
   ]
  },
  {
   "cell_type": "code",
   "execution_count": 3,
   "metadata": {},
   "outputs": [],
   "source": [
    "\n",
    "## Carregando Quadras Fiscais para espacializar o lcto do IPTU\n",
    "gdf_quadras = gpd.read_file('zip://data/SIRGAS_SHP_quadraMDSF.zip!SIRGAS_SHP_quadraMDSF/SIRGAS_SHP_quadraMDSF.shp')\n",
    "gdf_quadras = gdf_quadras.set_crs(epsg=31983)\n",
    "gdf_quadras = gdf_quadras[gdf_quadras.qd_tipo == 'F']\n",
    "gdf_quadras = gdf_quadras.dissolve(['qd_setor', 'qd_fiscal']).reset_index()"
   ]
  },
  {
   "cell_type": "code",
   "execution_count": 4,
   "metadata": {},
   "outputs": [],
   "source": [
    "## Relacionando a quadra ao distrito para agregação espacial\n",
    "\n",
    "gdf_distritos = gpd.read_file('data/SIRGAS_GPKG_distrito.gpkg')\n",
    "gdf_quadras_distritos = gdf_quadras.sjoin(gdf_distritos, how='left', predicate='intersects')\n",
    "gdf_quadras_distritos.drop('index_right', axis=1, inplace=True)\n",
    "\n",
    "df_quadras_distritos = gdf_quadras_distritos.loc[:, ['qd_setor', 'qd_fiscal', 'ds_codigo', 'ds_nome', 'ds_cd_sub', 'ds_subpref']]\n",
    "df_quadras_distritos.loc[:, ['sq']] = df_quadras_distritos.qd_setor + df_quadras_distritos.qd_fiscal\n",
    "df_quadras_distritos.drop_duplicates(keep='first', inplace=True, ignore_index=True)"
   ]
  },
  {
   "cell_type": "code",
   "execution_count": 5,
   "metadata": {},
   "outputs": [
    {
     "data": {
      "text/html": [
       "<div>\n",
       "<style scoped>\n",
       "    .dataframe tbody tr th:only-of-type {\n",
       "        vertical-align: middle;\n",
       "    }\n",
       "\n",
       "    .dataframe tbody tr th {\n",
       "        vertical-align: top;\n",
       "    }\n",
       "\n",
       "    .dataframe thead th {\n",
       "        text-align: right;\n",
       "    }\n",
       "</style>\n",
       "<table border=\"1\" class=\"dataframe\">\n",
       "  <thead>\n",
       "    <tr style=\"text-align: right;\">\n",
       "      <th></th>\n",
       "      <th>qd_setor</th>\n",
       "      <th>qd_fiscal</th>\n",
       "      <th>ds_codigo</th>\n",
       "      <th>ds_nome</th>\n",
       "      <th>ds_cd_sub</th>\n",
       "      <th>ds_subpref</th>\n",
       "      <th>sq</th>\n",
       "    </tr>\n",
       "  </thead>\n",
       "  <tbody>\n",
       "    <tr>\n",
       "      <th>0</th>\n",
       "      <td>001</td>\n",
       "      <td>003</td>\n",
       "      <td>9</td>\n",
       "      <td>BOM RETIRO</td>\n",
       "      <td>09</td>\n",
       "      <td>SE</td>\n",
       "      <td>001003</td>\n",
       "    </tr>\n",
       "    <tr>\n",
       "      <th>1</th>\n",
       "      <td>001</td>\n",
       "      <td>004</td>\n",
       "      <td>9</td>\n",
       "      <td>BOM RETIRO</td>\n",
       "      <td>09</td>\n",
       "      <td>SE</td>\n",
       "      <td>001004</td>\n",
       "    </tr>\n",
       "    <tr>\n",
       "      <th>2</th>\n",
       "      <td>001</td>\n",
       "      <td>005</td>\n",
       "      <td>9</td>\n",
       "      <td>BOM RETIRO</td>\n",
       "      <td>09</td>\n",
       "      <td>SE</td>\n",
       "      <td>001005</td>\n",
       "    </tr>\n",
       "    <tr>\n",
       "      <th>3</th>\n",
       "      <td>001</td>\n",
       "      <td>006</td>\n",
       "      <td>9</td>\n",
       "      <td>BOM RETIRO</td>\n",
       "      <td>09</td>\n",
       "      <td>SE</td>\n",
       "      <td>001006</td>\n",
       "    </tr>\n",
       "    <tr>\n",
       "      <th>4</th>\n",
       "      <td>001</td>\n",
       "      <td>007</td>\n",
       "      <td>9</td>\n",
       "      <td>BOM RETIRO</td>\n",
       "      <td>09</td>\n",
       "      <td>SE</td>\n",
       "      <td>001007</td>\n",
       "    </tr>\n",
       "    <tr>\n",
       "      <th>...</th>\n",
       "      <td>...</td>\n",
       "      <td>...</td>\n",
       "      <td>...</td>\n",
       "      <td>...</td>\n",
       "      <td>...</td>\n",
       "      <td>...</td>\n",
       "      <td>...</td>\n",
       "    </tr>\n",
       "    <tr>\n",
       "      <th>46011</th>\n",
       "      <td>310</td>\n",
       "      <td>116</td>\n",
       "      <td>38</td>\n",
       "      <td>JABAQUARA</td>\n",
       "      <td>15</td>\n",
       "      <td>JABAQUARA</td>\n",
       "      <td>310116</td>\n",
       "    </tr>\n",
       "    <tr>\n",
       "      <th>46012</th>\n",
       "      <td>310</td>\n",
       "      <td>117</td>\n",
       "      <td>38</td>\n",
       "      <td>JABAQUARA</td>\n",
       "      <td>15</td>\n",
       "      <td>JABAQUARA</td>\n",
       "      <td>310117</td>\n",
       "    </tr>\n",
       "    <tr>\n",
       "      <th>46013</th>\n",
       "      <td>310</td>\n",
       "      <td>118</td>\n",
       "      <td>38</td>\n",
       "      <td>JABAQUARA</td>\n",
       "      <td>15</td>\n",
       "      <td>JABAQUARA</td>\n",
       "      <td>310118</td>\n",
       "    </tr>\n",
       "    <tr>\n",
       "      <th>46014</th>\n",
       "      <td>310</td>\n",
       "      <td>119</td>\n",
       "      <td>38</td>\n",
       "      <td>JABAQUARA</td>\n",
       "      <td>15</td>\n",
       "      <td>JABAQUARA</td>\n",
       "      <td>310119</td>\n",
       "    </tr>\n",
       "    <tr>\n",
       "      <th>46015</th>\n",
       "      <td>310</td>\n",
       "      <td>120</td>\n",
       "      <td>38</td>\n",
       "      <td>JABAQUARA</td>\n",
       "      <td>15</td>\n",
       "      <td>JABAQUARA</td>\n",
       "      <td>310120</td>\n",
       "    </tr>\n",
       "  </tbody>\n",
       "</table>\n",
       "<p>46016 rows × 7 columns</p>\n",
       "</div>"
      ],
      "text/plain": [
       "      qd_setor qd_fiscal ds_codigo     ds_nome ds_cd_sub ds_subpref      sq\n",
       "0          001       003         9  BOM RETIRO        09         SE  001003\n",
       "1          001       004         9  BOM RETIRO        09         SE  001004\n",
       "2          001       005         9  BOM RETIRO        09         SE  001005\n",
       "3          001       006         9  BOM RETIRO        09         SE  001006\n",
       "4          001       007         9  BOM RETIRO        09         SE  001007\n",
       "...        ...       ...       ...         ...       ...        ...     ...\n",
       "46011      310       116        38   JABAQUARA        15  JABAQUARA  310116\n",
       "46012      310       117        38   JABAQUARA        15  JABAQUARA  310117\n",
       "46013      310       118        38   JABAQUARA        15  JABAQUARA  310118\n",
       "46014      310       119        38   JABAQUARA        15  JABAQUARA  310119\n",
       "46015      310       120        38   JABAQUARA        15  JABAQUARA  310120\n",
       "\n",
       "[46016 rows x 7 columns]"
      ]
     },
     "execution_count": 5,
     "metadata": {},
     "output_type": "execute_result"
    }
   ],
   "source": [
    "df_quadras_distritos"
   ]
  },
  {
   "cell_type": "code",
   "execution_count": 6,
   "metadata": {},
   "outputs": [
    {
     "name": "stdout",
     "output_type": "stream",
     "text": [
      "Processando 1995\n"
     ]
    },
    {
     "name": "stderr",
     "output_type": "stream",
     "text": [
      "/tmp/ipykernel_302930/3078357877.py:23: FutureWarning: Passing a set as an indexer is deprecated and will raise in a future version. Use a list instead.\n",
      "  df_ano.loc[:, {i}] = True\n"
     ]
    },
    {
     "name": "stdout",
     "output_type": "stream",
     "text": [
      "Processando 1996\n"
     ]
    },
    {
     "name": "stderr",
     "output_type": "stream",
     "text": [
      "/tmp/ipykernel_302930/3078357877.py:23: FutureWarning: Passing a set as an indexer is deprecated and will raise in a future version. Use a list instead.\n",
      "  df_ano.loc[:, {i}] = True\n"
     ]
    },
    {
     "name": "stdout",
     "output_type": "stream",
     "text": [
      "Processando 1997\n"
     ]
    },
    {
     "name": "stderr",
     "output_type": "stream",
     "text": [
      "/tmp/ipykernel_302930/3078357877.py:23: FutureWarning: Passing a set as an indexer is deprecated and will raise in a future version. Use a list instead.\n",
      "  df_ano.loc[:, {i}] = True\n"
     ]
    },
    {
     "name": "stdout",
     "output_type": "stream",
     "text": [
      "Processando 1998\n"
     ]
    },
    {
     "name": "stderr",
     "output_type": "stream",
     "text": [
      "/tmp/ipykernel_302930/3078357877.py:23: FutureWarning: Passing a set as an indexer is deprecated and will raise in a future version. Use a list instead.\n",
      "  df_ano.loc[:, {i}] = True\n"
     ]
    },
    {
     "name": "stdout",
     "output_type": "stream",
     "text": [
      "Processando 1999\n"
     ]
    },
    {
     "name": "stderr",
     "output_type": "stream",
     "text": [
      "/tmp/ipykernel_302930/3078357877.py:23: FutureWarning: Passing a set as an indexer is deprecated and will raise in a future version. Use a list instead.\n",
      "  df_ano.loc[:, {i}] = True\n"
     ]
    },
    {
     "name": "stdout",
     "output_type": "stream",
     "text": [
      "Processando 2000\n"
     ]
    },
    {
     "name": "stderr",
     "output_type": "stream",
     "text": [
      "/tmp/ipykernel_302930/3078357877.py:23: FutureWarning: Passing a set as an indexer is deprecated and will raise in a future version. Use a list instead.\n",
      "  df_ano.loc[:, {i}] = True\n"
     ]
    },
    {
     "name": "stdout",
     "output_type": "stream",
     "text": [
      "Processando 2001\n"
     ]
    },
    {
     "name": "stderr",
     "output_type": "stream",
     "text": [
      "/tmp/ipykernel_302930/3078357877.py:23: FutureWarning: Passing a set as an indexer is deprecated and will raise in a future version. Use a list instead.\n",
      "  df_ano.loc[:, {i}] = True\n"
     ]
    },
    {
     "name": "stdout",
     "output_type": "stream",
     "text": [
      "Processando 2002\n"
     ]
    },
    {
     "name": "stderr",
     "output_type": "stream",
     "text": [
      "/tmp/ipykernel_302930/3078357877.py:23: FutureWarning: Passing a set as an indexer is deprecated and will raise in a future version. Use a list instead.\n",
      "  df_ano.loc[:, {i}] = True\n"
     ]
    },
    {
     "name": "stdout",
     "output_type": "stream",
     "text": [
      "Processando 2003\n"
     ]
    },
    {
     "name": "stderr",
     "output_type": "stream",
     "text": [
      "/tmp/ipykernel_302930/3078357877.py:23: FutureWarning: Passing a set as an indexer is deprecated and will raise in a future version. Use a list instead.\n",
      "  df_ano.loc[:, {i}] = True\n"
     ]
    },
    {
     "name": "stdout",
     "output_type": "stream",
     "text": [
      "Processando 2004\n"
     ]
    },
    {
     "name": "stderr",
     "output_type": "stream",
     "text": [
      "/tmp/ipykernel_302930/3078357877.py:23: FutureWarning: Passing a set as an indexer is deprecated and will raise in a future version. Use a list instead.\n",
      "  df_ano.loc[:, {i}] = True\n"
     ]
    },
    {
     "name": "stdout",
     "output_type": "stream",
     "text": [
      "Processando 2005\n"
     ]
    },
    {
     "name": "stderr",
     "output_type": "stream",
     "text": [
      "/tmp/ipykernel_302930/3078357877.py:23: FutureWarning: Passing a set as an indexer is deprecated and will raise in a future version. Use a list instead.\n",
      "  df_ano.loc[:, {i}] = True\n"
     ]
    },
    {
     "name": "stdout",
     "output_type": "stream",
     "text": [
      "Processando 2006\n"
     ]
    },
    {
     "name": "stderr",
     "output_type": "stream",
     "text": [
      "/tmp/ipykernel_302930/3078357877.py:23: FutureWarning: Passing a set as an indexer is deprecated and will raise in a future version. Use a list instead.\n",
      "  df_ano.loc[:, {i}] = True\n"
     ]
    },
    {
     "name": "stdout",
     "output_type": "stream",
     "text": [
      "Processando 2007\n"
     ]
    },
    {
     "name": "stderr",
     "output_type": "stream",
     "text": [
      "/tmp/ipykernel_302930/3078357877.py:23: FutureWarning: Passing a set as an indexer is deprecated and will raise in a future version. Use a list instead.\n",
      "  df_ano.loc[:, {i}] = True\n"
     ]
    },
    {
     "name": "stdout",
     "output_type": "stream",
     "text": [
      "Processando 2008\n"
     ]
    },
    {
     "name": "stderr",
     "output_type": "stream",
     "text": [
      "/tmp/ipykernel_302930/3078357877.py:23: FutureWarning: Passing a set as an indexer is deprecated and will raise in a future version. Use a list instead.\n",
      "  df_ano.loc[:, {i}] = True\n"
     ]
    },
    {
     "name": "stdout",
     "output_type": "stream",
     "text": [
      "Processando 2009\n"
     ]
    },
    {
     "name": "stderr",
     "output_type": "stream",
     "text": [
      "/tmp/ipykernel_302930/3078357877.py:23: FutureWarning: Passing a set as an indexer is deprecated and will raise in a future version. Use a list instead.\n",
      "  df_ano.loc[:, {i}] = True\n"
     ]
    },
    {
     "name": "stdout",
     "output_type": "stream",
     "text": [
      "Processando 2010\n"
     ]
    },
    {
     "name": "stderr",
     "output_type": "stream",
     "text": [
      "/tmp/ipykernel_302930/3078357877.py:23: FutureWarning: Passing a set as an indexer is deprecated and will raise in a future version. Use a list instead.\n",
      "  df_ano.loc[:, {i}] = True\n"
     ]
    },
    {
     "name": "stdout",
     "output_type": "stream",
     "text": [
      "Processando 2011\n"
     ]
    },
    {
     "name": "stderr",
     "output_type": "stream",
     "text": [
      "/tmp/ipykernel_302930/3078357877.py:23: FutureWarning: Passing a set as an indexer is deprecated and will raise in a future version. Use a list instead.\n",
      "  df_ano.loc[:, {i}] = True\n"
     ]
    },
    {
     "name": "stdout",
     "output_type": "stream",
     "text": [
      "Processando 2012\n"
     ]
    },
    {
     "name": "stderr",
     "output_type": "stream",
     "text": [
      "/tmp/ipykernel_302930/3078357877.py:23: FutureWarning: Passing a set as an indexer is deprecated and will raise in a future version. Use a list instead.\n",
      "  df_ano.loc[:, {i}] = True\n"
     ]
    },
    {
     "name": "stdout",
     "output_type": "stream",
     "text": [
      "Processando 2013\n"
     ]
    },
    {
     "name": "stderr",
     "output_type": "stream",
     "text": [
      "/tmp/ipykernel_302930/3078357877.py:23: FutureWarning: Passing a set as an indexer is deprecated and will raise in a future version. Use a list instead.\n",
      "  df_ano.loc[:, {i}] = True\n"
     ]
    },
    {
     "name": "stdout",
     "output_type": "stream",
     "text": [
      "Processando 2014\n"
     ]
    },
    {
     "name": "stderr",
     "output_type": "stream",
     "text": [
      "/tmp/ipykernel_302930/3078357877.py:23: FutureWarning: Passing a set as an indexer is deprecated and will raise in a future version. Use a list instead.\n",
      "  df_ano.loc[:, {i}] = True\n"
     ]
    },
    {
     "name": "stdout",
     "output_type": "stream",
     "text": [
      "Processando 2015\n"
     ]
    },
    {
     "name": "stderr",
     "output_type": "stream",
     "text": [
      "/tmp/ipykernel_302930/3078357877.py:23: FutureWarning: Passing a set as an indexer is deprecated and will raise in a future version. Use a list instead.\n",
      "  df_ano.loc[:, {i}] = True\n"
     ]
    },
    {
     "name": "stdout",
     "output_type": "stream",
     "text": [
      "Processando 2016\n"
     ]
    },
    {
     "name": "stderr",
     "output_type": "stream",
     "text": [
      "/tmp/ipykernel_302930/3078357877.py:23: FutureWarning: Passing a set as an indexer is deprecated and will raise in a future version. Use a list instead.\n",
      "  df_ano.loc[:, {i}] = True\n"
     ]
    },
    {
     "name": "stdout",
     "output_type": "stream",
     "text": [
      "Processando 2017\n"
     ]
    },
    {
     "name": "stderr",
     "output_type": "stream",
     "text": [
      "/tmp/ipykernel_302930/3078357877.py:23: FutureWarning: Passing a set as an indexer is deprecated and will raise in a future version. Use a list instead.\n",
      "  df_ano.loc[:, {i}] = True\n"
     ]
    },
    {
     "name": "stdout",
     "output_type": "stream",
     "text": [
      "Processando 2018\n"
     ]
    },
    {
     "name": "stderr",
     "output_type": "stream",
     "text": [
      "/tmp/ipykernel_302930/3078357877.py:23: FutureWarning: Passing a set as an indexer is deprecated and will raise in a future version. Use a list instead.\n",
      "  df_ano.loc[:, {i}] = True\n"
     ]
    },
    {
     "name": "stdout",
     "output_type": "stream",
     "text": [
      "Processando 2019\n"
     ]
    },
    {
     "name": "stderr",
     "output_type": "stream",
     "text": [
      "/tmp/ipykernel_302930/3078357877.py:23: FutureWarning: Passing a set as an indexer is deprecated and will raise in a future version. Use a list instead.\n",
      "  df_ano.loc[:, {i}] = True\n"
     ]
    },
    {
     "name": "stdout",
     "output_type": "stream",
     "text": [
      "Processando 2020\n"
     ]
    },
    {
     "name": "stderr",
     "output_type": "stream",
     "text": [
      "/tmp/ipykernel_302930/3078357877.py:23: FutureWarning: Passing a set as an indexer is deprecated and will raise in a future version. Use a list instead.\n",
      "  df_ano.loc[:, {i}] = True\n"
     ]
    },
    {
     "name": "stdout",
     "output_type": "stream",
     "text": [
      "Processando 2021\n"
     ]
    },
    {
     "name": "stderr",
     "output_type": "stream",
     "text": [
      "/tmp/ipykernel_302930/3078357877.py:23: FutureWarning: Passing a set as an indexer is deprecated and will raise in a future version. Use a list instead.\n",
      "  df_ano.loc[:, {i}] = True\n"
     ]
    },
    {
     "name": "stdout",
     "output_type": "stream",
     "text": [
      "Processando 2022\n"
     ]
    },
    {
     "name": "stderr",
     "output_type": "stream",
     "text": [
      "/tmp/ipykernel_302930/3078357877.py:23: FutureWarning: Passing a set as an indexer is deprecated and will raise in a future version. Use a list instead.\n",
      "  df_ano.loc[:, {i}] = True\n"
     ]
    },
    {
     "name": "stdout",
     "output_type": "stream",
     "text": [
      "Processando 2023\n"
     ]
    },
    {
     "name": "stderr",
     "output_type": "stream",
     "text": [
      "/tmp/ipykernel_302930/3078357877.py:23: FutureWarning: Passing a set as an indexer is deprecated and will raise in a future version. Use a list instead.\n",
      "  df_ano.loc[:, {i}] = True\n"
     ]
    }
   ],
   "source": [
    "dfs = []\n",
    "p = 0\n",
    "\n",
    "for i in range(1995,ano+1):\n",
    "\n",
    "    print(f'Processando {i}')\n",
    "\n",
    "    df = vaex.open(f'data/IPTU-HDF5/IPTU_{i}/IPTU_{i}.hdf5')\n",
    "\n",
    "    df.setor = df['NUMERO DO CONTRIBUINTE'].str.slice(0,3)\n",
    "    df.quadra = df['NUMERO DO CONTRIBUINTE'].str.slice(3,6)\n",
    "    df.fillna(value='00-0', column_names=['NUMERO DO CONDOMINIO'], inplace=True)\n",
    "    df.fillna(value=1., column_names=['FRACAO IDEAL'], inplace=True)\n",
    "    df.fillna(value=0., column_names=['AREA CONSTRUIDA', 'AREA OCUPADA', 'AREA DO TERRENO'], inplace=True)\n",
    "    df.sqlc = df.func.where(df['NUMERO DO CONDOMINIO'] == '00-0',\n",
    "                                    df['NUMERO DO CONTRIBUINTE'].str.slice(0, 10) + '00',\n",
    "                                    df['NUMERO DO CONTRIBUINTE'].str.slice(0, 6) + '0000' + df['NUMERO DO CONDOMINIO'].str.slice(0, 2))\n",
    "    df['sq'] = df.setor + df.quadra\n",
    "    df['sqlc'] = df.sqlc\n",
    "\n",
    "    df_ano = df.groupby('sqlc', agg={'exercicio': vaex.agg.first('ANO DO EXERCICIO')})\n",
    "    df_ano = df_ano.to_pandas_df()\n",
    "    df_ano.loc[:, {i}] = True\n",
    "    df_ano.drop('exercicio', axis=1, inplace=True)\n",
    "    df_ano.set_index('sqlc', inplace=True)\n",
    "\n",
    "    dfs.append(df_ano)\n",
    "\n",
    "#     if p > 1:\n",
    "#         break\n",
    "\n",
    "    p =+ 1"
   ]
  },
  {
   "cell_type": "code",
   "execution_count": 7,
   "metadata": {},
   "outputs": [],
   "source": [
    "df_iptus = pd.concat(dfs, axis=1)"
   ]
  },
  {
   "cell_type": "code",
   "execution_count": 8,
   "metadata": {},
   "outputs": [],
   "source": [
    "df_iptus.to_pickle('data/lote_sqlc_por_exercicio.pkl')"
   ]
  },
  {
   "cell_type": "markdown",
   "metadata": {},
   "source": [
    "## Relacionando aos lotes\n",
    "\n",
    "Reiniciar o Notebook aqui"
   ]
  },
  {
   "cell_type": "code",
   "execution_count": 9,
   "metadata": {},
   "outputs": [],
   "source": [
    "import geopandas as gpd\n",
    "import pandas as pd\n",
    "import glob\n",
    "import os\n",
    "import warnings\n",
    "warnings.filterwarnings('ignore')"
   ]
  },
  {
   "cell_type": "code",
   "execution_count": 10,
   "metadata": {},
   "outputs": [],
   "source": [
    "## Carregando Quadras Fiscais para espacializar o lcto do IPTU\n",
    "\n",
    "gdf_quadras = gpd.read_file('zip://data/SIRGAS_SHP_quadraMDSF.zip!SIRGAS_SHP_quadraMDSF/SIRGAS_SHP_quadraMDSF.shp')\n",
    "gdf_quadras = gdf_quadras.set_crs(epsg=31983)\n",
    "gdf_quadras = gdf_quadras[gdf_quadras.qd_tipo == 'F']\n",
    "gdf_quadras.loc[:, 'sq'] = gdf_quadras.qd_setor + gdf_quadras.qd_fiscal\n",
    "gdf_quadras = gdf_quadras.dissolve(by='sq').reset_index()\n",
    "gdf_quadras.geometry = gdf_quadras.buffer(-0.05)\n"
   ]
  },
  {
   "cell_type": "code",
   "execution_count": 11,
   "metadata": {},
   "outputs": [],
   "source": [
    "df_iptus = pd.read_pickle('data/lote_sqlc_por_exercicio.pkl')"
   ]
  },
  {
   "cell_type": "code",
   "execution_count": 12,
   "metadata": {},
   "outputs": [
    {
     "data": {
      "text/html": [
       "<div>\n",
       "<style scoped>\n",
       "    .dataframe tbody tr th:only-of-type {\n",
       "        vertical-align: middle;\n",
       "    }\n",
       "\n",
       "    .dataframe tbody tr th {\n",
       "        vertical-align: top;\n",
       "    }\n",
       "\n",
       "    .dataframe thead th {\n",
       "        text-align: right;\n",
       "    }\n",
       "</style>\n",
       "<table border=\"1\" class=\"dataframe\">\n",
       "  <thead>\n",
       "    <tr style=\"text-align: right;\">\n",
       "      <th></th>\n",
       "      <th>1995</th>\n",
       "      <th>1996</th>\n",
       "      <th>1997</th>\n",
       "      <th>1998</th>\n",
       "      <th>1999</th>\n",
       "      <th>2000</th>\n",
       "      <th>2001</th>\n",
       "      <th>2002</th>\n",
       "      <th>2003</th>\n",
       "      <th>2004</th>\n",
       "      <th>...</th>\n",
       "      <th>2014</th>\n",
       "      <th>2015</th>\n",
       "      <th>2016</th>\n",
       "      <th>2017</th>\n",
       "      <th>2018</th>\n",
       "      <th>2019</th>\n",
       "      <th>2020</th>\n",
       "      <th>2021</th>\n",
       "      <th>2022</th>\n",
       "      <th>2023</th>\n",
       "    </tr>\n",
       "    <tr>\n",
       "      <th>sqlc</th>\n",
       "      <th></th>\n",
       "      <th></th>\n",
       "      <th></th>\n",
       "      <th></th>\n",
       "      <th></th>\n",
       "      <th></th>\n",
       "      <th></th>\n",
       "      <th></th>\n",
       "      <th></th>\n",
       "      <th></th>\n",
       "      <th></th>\n",
       "      <th></th>\n",
       "      <th></th>\n",
       "      <th></th>\n",
       "      <th></th>\n",
       "      <th></th>\n",
       "      <th></th>\n",
       "      <th></th>\n",
       "      <th></th>\n",
       "      <th></th>\n",
       "      <th></th>\n",
       "    </tr>\n",
       "  </thead>\n",
       "  <tbody>\n",
       "    <tr>\n",
       "      <th>010087004100</th>\n",
       "      <td>True</td>\n",
       "      <td>True</td>\n",
       "      <td>True</td>\n",
       "      <td>NaN</td>\n",
       "      <td>NaN</td>\n",
       "      <td>NaN</td>\n",
       "      <td>NaN</td>\n",
       "      <td>NaN</td>\n",
       "      <td>NaN</td>\n",
       "      <td>NaN</td>\n",
       "      <td>...</td>\n",
       "      <td>NaN</td>\n",
       "      <td>NaN</td>\n",
       "      <td>NaN</td>\n",
       "      <td>NaN</td>\n",
       "      <td>NaN</td>\n",
       "      <td>NaN</td>\n",
       "      <td>NaN</td>\n",
       "      <td>NaN</td>\n",
       "      <td>NaN</td>\n",
       "      <td>NaN</td>\n",
       "    </tr>\n",
       "    <tr>\n",
       "      <th>010091001300</th>\n",
       "      <td>True</td>\n",
       "      <td>True</td>\n",
       "      <td>True</td>\n",
       "      <td>True</td>\n",
       "      <td>True</td>\n",
       "      <td>True</td>\n",
       "      <td>True</td>\n",
       "      <td>True</td>\n",
       "      <td>True</td>\n",
       "      <td>True</td>\n",
       "      <td>...</td>\n",
       "      <td>True</td>\n",
       "      <td>True</td>\n",
       "      <td>True</td>\n",
       "      <td>True</td>\n",
       "      <td>True</td>\n",
       "      <td>True</td>\n",
       "      <td>True</td>\n",
       "      <td>NaN</td>\n",
       "      <td>NaN</td>\n",
       "      <td>NaN</td>\n",
       "    </tr>\n",
       "    <tr>\n",
       "      <th>010093000700</th>\n",
       "      <td>True</td>\n",
       "      <td>True</td>\n",
       "      <td>True</td>\n",
       "      <td>True</td>\n",
       "      <td>True</td>\n",
       "      <td>True</td>\n",
       "      <td>True</td>\n",
       "      <td>True</td>\n",
       "      <td>True</td>\n",
       "      <td>True</td>\n",
       "      <td>...</td>\n",
       "      <td>True</td>\n",
       "      <td>True</td>\n",
       "      <td>True</td>\n",
       "      <td>True</td>\n",
       "      <td>True</td>\n",
       "      <td>True</td>\n",
       "      <td>True</td>\n",
       "      <td>True</td>\n",
       "      <td>True</td>\n",
       "      <td>True</td>\n",
       "    </tr>\n",
       "    <tr>\n",
       "      <th>010095001700</th>\n",
       "      <td>True</td>\n",
       "      <td>True</td>\n",
       "      <td>True</td>\n",
       "      <td>True</td>\n",
       "      <td>True</td>\n",
       "      <td>True</td>\n",
       "      <td>True</td>\n",
       "      <td>True</td>\n",
       "      <td>True</td>\n",
       "      <td>True</td>\n",
       "      <td>...</td>\n",
       "      <td>NaN</td>\n",
       "      <td>NaN</td>\n",
       "      <td>NaN</td>\n",
       "      <td>NaN</td>\n",
       "      <td>NaN</td>\n",
       "      <td>NaN</td>\n",
       "      <td>NaN</td>\n",
       "      <td>NaN</td>\n",
       "      <td>NaN</td>\n",
       "      <td>NaN</td>\n",
       "    </tr>\n",
       "    <tr>\n",
       "      <th>011012003600</th>\n",
       "      <td>True</td>\n",
       "      <td>True</td>\n",
       "      <td>True</td>\n",
       "      <td>True</td>\n",
       "      <td>True</td>\n",
       "      <td>True</td>\n",
       "      <td>True</td>\n",
       "      <td>True</td>\n",
       "      <td>True</td>\n",
       "      <td>True</td>\n",
       "      <td>...</td>\n",
       "      <td>True</td>\n",
       "      <td>True</td>\n",
       "      <td>True</td>\n",
       "      <td>True</td>\n",
       "      <td>True</td>\n",
       "      <td>True</td>\n",
       "      <td>True</td>\n",
       "      <td>True</td>\n",
       "      <td>True</td>\n",
       "      <td>True</td>\n",
       "    </tr>\n",
       "    <tr>\n",
       "      <th>...</th>\n",
       "      <td>...</td>\n",
       "      <td>...</td>\n",
       "      <td>...</td>\n",
       "      <td>...</td>\n",
       "      <td>...</td>\n",
       "      <td>...</td>\n",
       "      <td>...</td>\n",
       "      <td>...</td>\n",
       "      <td>...</td>\n",
       "      <td>...</td>\n",
       "      <td>...</td>\n",
       "      <td>...</td>\n",
       "      <td>...</td>\n",
       "      <td>...</td>\n",
       "      <td>...</td>\n",
       "      <td>...</td>\n",
       "      <td>...</td>\n",
       "      <td>...</td>\n",
       "      <td>...</td>\n",
       "      <td>...</td>\n",
       "      <td>...</td>\n",
       "    </tr>\n",
       "    <tr>\n",
       "      <th>135433005400</th>\n",
       "      <td>NaN</td>\n",
       "      <td>NaN</td>\n",
       "      <td>NaN</td>\n",
       "      <td>NaN</td>\n",
       "      <td>NaN</td>\n",
       "      <td>NaN</td>\n",
       "      <td>NaN</td>\n",
       "      <td>NaN</td>\n",
       "      <td>NaN</td>\n",
       "      <td>NaN</td>\n",
       "      <td>...</td>\n",
       "      <td>NaN</td>\n",
       "      <td>NaN</td>\n",
       "      <td>NaN</td>\n",
       "      <td>NaN</td>\n",
       "      <td>NaN</td>\n",
       "      <td>NaN</td>\n",
       "      <td>NaN</td>\n",
       "      <td>NaN</td>\n",
       "      <td>NaN</td>\n",
       "      <td>True</td>\n",
       "    </tr>\n",
       "    <tr>\n",
       "      <th>138054008300</th>\n",
       "      <td>NaN</td>\n",
       "      <td>NaN</td>\n",
       "      <td>NaN</td>\n",
       "      <td>NaN</td>\n",
       "      <td>NaN</td>\n",
       "      <td>NaN</td>\n",
       "      <td>NaN</td>\n",
       "      <td>NaN</td>\n",
       "      <td>NaN</td>\n",
       "      <td>NaN</td>\n",
       "      <td>...</td>\n",
       "      <td>NaN</td>\n",
       "      <td>NaN</td>\n",
       "      <td>NaN</td>\n",
       "      <td>NaN</td>\n",
       "      <td>NaN</td>\n",
       "      <td>NaN</td>\n",
       "      <td>NaN</td>\n",
       "      <td>NaN</td>\n",
       "      <td>NaN</td>\n",
       "      <td>True</td>\n",
       "    </tr>\n",
       "    <tr>\n",
       "      <th>138054008600</th>\n",
       "      <td>NaN</td>\n",
       "      <td>NaN</td>\n",
       "      <td>NaN</td>\n",
       "      <td>NaN</td>\n",
       "      <td>NaN</td>\n",
       "      <td>NaN</td>\n",
       "      <td>NaN</td>\n",
       "      <td>NaN</td>\n",
       "      <td>NaN</td>\n",
       "      <td>NaN</td>\n",
       "      <td>...</td>\n",
       "      <td>NaN</td>\n",
       "      <td>NaN</td>\n",
       "      <td>NaN</td>\n",
       "      <td>NaN</td>\n",
       "      <td>NaN</td>\n",
       "      <td>NaN</td>\n",
       "      <td>NaN</td>\n",
       "      <td>NaN</td>\n",
       "      <td>NaN</td>\n",
       "      <td>True</td>\n",
       "    </tr>\n",
       "    <tr>\n",
       "      <th>140271047800</th>\n",
       "      <td>NaN</td>\n",
       "      <td>NaN</td>\n",
       "      <td>NaN</td>\n",
       "      <td>NaN</td>\n",
       "      <td>NaN</td>\n",
       "      <td>NaN</td>\n",
       "      <td>NaN</td>\n",
       "      <td>NaN</td>\n",
       "      <td>NaN</td>\n",
       "      <td>NaN</td>\n",
       "      <td>...</td>\n",
       "      <td>NaN</td>\n",
       "      <td>NaN</td>\n",
       "      <td>NaN</td>\n",
       "      <td>NaN</td>\n",
       "      <td>NaN</td>\n",
       "      <td>NaN</td>\n",
       "      <td>NaN</td>\n",
       "      <td>NaN</td>\n",
       "      <td>NaN</td>\n",
       "      <td>True</td>\n",
       "    </tr>\n",
       "    <tr>\n",
       "      <th>146078005900</th>\n",
       "      <td>NaN</td>\n",
       "      <td>NaN</td>\n",
       "      <td>NaN</td>\n",
       "      <td>NaN</td>\n",
       "      <td>NaN</td>\n",
       "      <td>NaN</td>\n",
       "      <td>NaN</td>\n",
       "      <td>NaN</td>\n",
       "      <td>NaN</td>\n",
       "      <td>NaN</td>\n",
       "      <td>...</td>\n",
       "      <td>NaN</td>\n",
       "      <td>NaN</td>\n",
       "      <td>NaN</td>\n",
       "      <td>NaN</td>\n",
       "      <td>NaN</td>\n",
       "      <td>NaN</td>\n",
       "      <td>NaN</td>\n",
       "      <td>NaN</td>\n",
       "      <td>NaN</td>\n",
       "      <td>True</td>\n",
       "    </tr>\n",
       "  </tbody>\n",
       "</table>\n",
       "<p>1875808 rows × 29 columns</p>\n",
       "</div>"
      ],
      "text/plain": [
       "              1995  1996  1997  1998  1999  2000  2001  2002  2003  2004  ...  \\\n",
       "sqlc                                                                      ...   \n",
       "010087004100  True  True  True   NaN   NaN   NaN   NaN   NaN   NaN   NaN  ...   \n",
       "010091001300  True  True  True  True  True  True  True  True  True  True  ...   \n",
       "010093000700  True  True  True  True  True  True  True  True  True  True  ...   \n",
       "010095001700  True  True  True  True  True  True  True  True  True  True  ...   \n",
       "011012003600  True  True  True  True  True  True  True  True  True  True  ...   \n",
       "...            ...   ...   ...   ...   ...   ...   ...   ...   ...   ...  ...   \n",
       "135433005400   NaN   NaN   NaN   NaN   NaN   NaN   NaN   NaN   NaN   NaN  ...   \n",
       "138054008300   NaN   NaN   NaN   NaN   NaN   NaN   NaN   NaN   NaN   NaN  ...   \n",
       "138054008600   NaN   NaN   NaN   NaN   NaN   NaN   NaN   NaN   NaN   NaN  ...   \n",
       "140271047800   NaN   NaN   NaN   NaN   NaN   NaN   NaN   NaN   NaN   NaN  ...   \n",
       "146078005900   NaN   NaN   NaN   NaN   NaN   NaN   NaN   NaN   NaN   NaN  ...   \n",
       "\n",
       "              2014  2015  2016  2017  2018  2019  2020  2021  2022  2023  \n",
       "sqlc                                                                      \n",
       "010087004100   NaN   NaN   NaN   NaN   NaN   NaN   NaN   NaN   NaN   NaN  \n",
       "010091001300  True  True  True  True  True  True  True   NaN   NaN   NaN  \n",
       "010093000700  True  True  True  True  True  True  True  True  True  True  \n",
       "010095001700   NaN   NaN   NaN   NaN   NaN   NaN   NaN   NaN   NaN   NaN  \n",
       "011012003600  True  True  True  True  True  True  True  True  True  True  \n",
       "...            ...   ...   ...   ...   ...   ...   ...   ...   ...   ...  \n",
       "135433005400   NaN   NaN   NaN   NaN   NaN   NaN   NaN   NaN   NaN  True  \n",
       "138054008300   NaN   NaN   NaN   NaN   NaN   NaN   NaN   NaN   NaN  True  \n",
       "138054008600   NaN   NaN   NaN   NaN   NaN   NaN   NaN   NaN   NaN  True  \n",
       "140271047800   NaN   NaN   NaN   NaN   NaN   NaN   NaN   NaN   NaN  True  \n",
       "146078005900   NaN   NaN   NaN   NaN   NaN   NaN   NaN   NaN   NaN  True  \n",
       "\n",
       "[1875808 rows x 29 columns]"
      ]
     },
     "execution_count": 12,
     "metadata": {},
     "output_type": "execute_result"
    }
   ],
   "source": [
    "df_iptus"
   ]
  },
  {
   "cell_type": "code",
   "execution_count": 13,
   "metadata": {},
   "outputs": [
    {
     "name": "stdout",
     "output_type": "stream",
     "text": [
      "SIRGAS_SHP_LOTES_34_IPIRANGA.zip\n",
      "SIRGAS_SHP_LOTES_94_VILA_SONIA.zip\n",
      "SIRGAS_SHP_LOTES_27_CURSINO.zip\n",
      "SIRGAS_SHP_LOTES_21_CASA_VERDE.zip\n",
      "SIRGAS_SHP_LOTES_69_SANTA_CECILIA.zip\n",
      "SIRGAS_SHP_LOTES_03_ANHANGUERA.zip\n",
      "SIRGAS_SHP_LOTES_58_PEDREIRA.zip\n",
      "SIRGAS_SHP_LOTES_02_ALTO_DE_PINHEIROS.zip\n",
      "SIRGAS_SHP_LOTES_08_BELEM.zip\n",
      "SIRGAS_SHP_LOTES_87_VILA_JACUI.zip\n",
      "SIRGAS_SHP_LOTES_25_CIDADE_TIRADENTES.zip\n",
      "SIRGAS_SHP_LOTES_07_BELA_VISTA.zip\n",
      "SIRGAS_SHP_LOTES_71_SANTO_AMARO.zip\n",
      "SIRGAS_SHP_LOTES_41_JAGUARE.zip\n",
      "SIRGAS_SHP_LOTES_84_VILA_CURUCA.zip\n",
      "SIRGAS_SHP_LOTES_62_PINHEIROS.zip\n",
      "SIRGAS_SHP_LOTES_19_CAPAO_REDONDO.zip\n",
      "SIRGAS_SHP_LOTES_32_MOEMA.zip\n",
      "SIRGAS_SHP_LOTES_29_FREGUESIA_DO_O.zip\n",
      "SIRGAS_SHP_LOTES_64_PONTE_RASA.zip\n",
      "SIRGAS_SHP_LOTES_85_VILA_FORMOSA.zip\n",
      "SIRGAS_SHP_LOTES_13_CACHOEIRINHA.zip\n",
      "SIRGAS_SHP_LOTES_72_SAO_LUCAS.zip\n",
      "SIRGAS_SHP_LOTES_47_JOSE_BONIFACIO.zip\n",
      "SIRGAS_SHP_LOTES_36_ITAIM_PAULISTA.zip\n",
      "SIRGAS_SHP_LOTES_45_JARDIM_PAULISTA.zip\n",
      "SIRGAS_SHP_LOTES_55_PARELHEIROS.zip\n",
      "SIRGAS_SHP_LOTES_43_JARDIM_ANGELA.zip\n",
      "SIRGAS_SHP_LOTES_95_SAO_DOMINGOS.zip\n",
      "SIRGAS_SHP_LOTES_46_JARDIM_SAO_LUIS.zip\n",
      "SIRGAS_SHP_LOTES_86_VILA_GUILHERME.zip\n",
      "SIRGAS_SHP_LOTES_18_CANGAIBA.zip\n",
      "SIRGAS_SHP_LOTES_76_SAPOPEMBA.zip\n",
      "SIRGAS_SHP_LOTES_12_BUTANTA.zip\n",
      "SIRGAS_SHP_LOTES_42_JARAGUA.zip\n",
      "SIRGAS_SHP_LOTES_09_BOM_RETIRO.zip\n",
      "SIRGAS_SHP_LOTES_89_VILA_MARIA.zip\n",
      "SIRGAS_SHP_LOTES_56_PARI.zip\n",
      "SIRGAS_SHP_LOTES_80_TATUAPE.zip\n",
      "SIRGAS_SHP_LOTES_28_ERMELINO_MATARAZZO.zip\n",
      "SIRGAS_SHP_LOTES_79_SOCORRO.zip\n",
      "SIRGAS_SHP_LOTES_44_JARDIM_HELENA.zip\n",
      "SIRGAS_SHP_LOTES_77_SAUDE.zip\n",
      "SIRGAS_SHP_LOTES_96_LAJEADO.zip\n",
      "SIRGAS_SHP_LOTES_90_VILA_MARIANA.zip\n",
      "SIRGAS_SHP_LOTES_49_LIBERDADE.zip\n",
      "SIRGAS_SHP_LOTES_59_PENHA.zip\n",
      "SIRGAS_SHP_LOTES_67_RIO_PEQUENO.zip\n",
      "SIRGAS_SHP_LOTES_37_ITAQUERA.zip\n",
      "SIRGAS_SHP_LOTES_52_MARSILAC.zip\n",
      "SIRGAS_SHP_LOTES_30_GRAJAU.zip\n",
      "SIRGAS_SHP_LOTES_51_MANDAQUI.zip\n",
      "SIRGAS_SHP_LOTES_88_VILA_LEOPOLDINA.zip\n",
      "SIRGAS_SHP_LOTES_54_MORUMBI.zip\n",
      "SIRGAS_SHP_LOTES_01_AGUA_RASA.zip\n",
      "SIRGAS_SHP_LOTES_24_CIDADE_LIDER.zip\n",
      "SIRGAS_SHP_LOTES_26_CONSOLACAO.zip\n",
      "SIRGAS_SHP_LOTES_33_IGUATEMI.zip\n",
      "SIRGAS_SHP_LOTES_82_TUCURUVI.zip\n",
      "SIRGAS_SHP_LOTES_50_LIMAO.zip\n",
      "SIRGAS_SHP_LOTES_60_PERDIZES.zip\n",
      "SIRGAS_SHP_LOTES_73_SAO_MATEUS.zip\n",
      "SIRGAS_SHP_LOTES_66_REPUBLICA.zip\n",
      "SIRGAS_SHP_LOTES_75_SAO_RAFAEL.zip\n",
      "SIRGAS_SHP_LOTES_05_ARTUR_ALVIM.zip\n",
      "SIRGAS_SHP_LOTES_65_RAPOSO_TAVARES.zip\n",
      "SIRGAS_SHP_LOTES_61_PERUS.zip\n",
      "SIRGAS_SHP_LOTES_31_GUAIANASES.zip\n",
      "SIRGAS_SHP_LOTES_63_PIRITUBA.zip\n",
      "SIRGAS_SHP_LOTES_81_TREMEMBE.zip\n",
      "SIRGAS_SHP_LOTES_06_BARRA_FUNDA.zip\n",
      "SIRGAS_SHP_LOTES_91_VILA_MATILDE.zip\n",
      "SIRGAS_SHP_LOTES_53_MOOCA.zip\n",
      "SIRGAS_SHP_LOTES_14_CAMBUCI.zip\n",
      "SIRGAS_SHP_LOTES_35_ITAIM_BIBI.zip\n",
      "SIRGAS_SHP_LOTES_22_CIDADE_ADEMAR.zip\n",
      "SIRGAS_SHP_LOTES_38_JABAQUARA.zip\n",
      "SIRGAS_SHP_LOTES_16_CAMPO_GRANDE.zip\n",
      "SIRGAS_SHP_LOTES_74_SAO_MIGUEL.zip\n",
      "SIRGAS_SHP_LOTES_04_ARICANDUVA.zip\n",
      "SIRGAS_SHP_LOTES_15_CAMPO_BELO.zip\n",
      "SIRGAS_SHP_LOTES_40_JAGUARA.zip\n",
      "SIRGAS_SHP_LOTES_11_BRASILANDIA.zip\n",
      "SIRGAS_SHP_LOTES_20_CARRAO.zip\n",
      "SIRGAS_SHP_LOTES_83_VILA_ANDRADE.zip\n",
      "SIRGAS_SHP_LOTES_70_SANTANA.zip\n",
      "SIRGAS_SHP_LOTES_78_SE.zip\n",
      "SIRGAS_SHP_LOTES_93_VILA_PRUDENTE.zip\n",
      "SIRGAS_SHP_LOTES_10_BRAS.zip\n",
      "SIRGAS_SHP_LOTES_92_VILA_MEDEIROS.zip\n",
      "SIRGAS_SHP_LOTES_57_PARQUE_DO_CARMO.zip\n",
      "SIRGAS_SHP_LOTES_17_CAMPO_LIMPO.zip\n",
      "SIRGAS_SHP_LOTES_39_JACANA.zip\n",
      "SIRGAS_SHP_LOTES_68_SACOMA.zip\n",
      "SIRGAS_SHP_LOTES_48_LAPA.zip\n",
      "SIRGAS_SHP_LOTES_23_CIDADE_DUTRA.zip\n"
     ]
    }
   ],
   "source": [
    "for f in glob.glob(f'data/lotes/{ano}/SIRGAS_SHP_LOTES*.zip'):\n",
    "    print(os.path.basename(f))\n",
    "    gdf_lote = gpd.read_file(f'zip://{f}!{os.path.basename(f)[:-4]}')\n",
    "    gdf_lote.loc[:, 'sq'] = gdf_lote.lo_setor + gdf_lote.lo_quadra  \n",
    "    gdf_lote.loc[:, 'sqlc'] = gdf_lote.lo_setor + gdf_lote.lo_quadra + gdf_lote.lo_lote + gdf_lote.lo_condomi\n",
    "    \n",
    "    # Garantir que o lote é fiscal\n",
    "    gdf_lote = gdf_lote.loc[gdf_lote.lo_tp_lote == 'F', :]\n",
    "    \n",
    "    gdf_lote_iptu = gdf_lote.join(df_iptus, on='sqlc', how='left')\n",
    "    gdf_lote_iptu.fillna(False, inplace=True)\n",
    "    \n",
    "    quadras = gdf_quadras[gdf_quadras.sq.isin(gdf_lote_iptu.loc[gdf_lote_iptu[ano], 'sq'])]\n",
    "    quadras.set_index('sq', inplace=True)\n",
    "    quadras.set_crs(epsg=31983)\n",
    "\n",
    "    \n",
    "    os.makedirs(f'lotes_agregados_por_ano/{ano}', exist_ok=True)\n",
    "    lotes = gdf_lote[gdf_lote.sqlc.isin(gdf_lote_iptu.loc[gdf_lote_iptu[ano], 'sqlc'])].set_crs(epsg=31983)\n",
    "    lotes_dissolved = lotes.dissolve(by='sq')\n",
    "    lotes_dissolved.geometry = lotes_dissolved.buffer(0.05)\n",
    "    lotes_diff_quadras = quadras.difference(lotes_dissolved)\n",
    "    \n",
    "    lotes = lotes.loc[:, ['sq', 'sqlc', 'geometry']].reset_index(drop=True)\n",
    "    lotes.loc[:, 'agregado'] = False\n",
    "\n",
    "    lotes_diff_quadras = gpd.GeoDataFrame(pd.Series(lotes_diff_quadras.index + '000000', lotes_diff_quadras.index, name='sqlc'), geometry=lotes_diff_quadras).reset_index()\n",
    "    lotes_diff_quadras.loc[:, 'agregado'] = True\n",
    "    \n",
    "    pd.concat([lotes, lotes_diff_quadras]).to_file(\n",
    "        f'lotes_agregados_por_ano/{ano}/{os.path.basename(f)[:-4]}_IPTU_{ano}.gpkg', driver='GPKG',\n",
    "        ignore_index=True\n",
    "    )\n",
    "\n",
    "        # print(y)\n",
    "\n",
    "    # break"
   ]
  },
  {
   "cell_type": "code",
   "execution_count": null,
   "metadata": {},
   "outputs": [],
   "source": [
    "gdf_lote_iptu"
   ]
  },
  {
   "cell_type": "markdown",
   "metadata": {},
   "source": [
    "## Alternativa para arquivo único \n",
    "\n",
    "Ainda em desenvolvimento"
   ]
  },
  {
   "cell_type": "code",
   "execution_count": null,
   "metadata": {},
   "outputs": [],
   "source": [
    "# df_iptus[range(1995, 2023)]"
   ]
  },
  {
   "cell_type": "code",
   "execution_count": null,
   "metadata": {},
   "outputs": [],
   "source": [
    "import numpy as np"
   ]
  },
  {
   "cell_type": "code",
   "execution_count": null,
   "metadata": {},
   "outputs": [],
   "source": [
    "df_iptus.fillna(False, inplace=True)"
   ]
  },
  {
   "cell_type": "code",
   "execution_count": null,
   "metadata": {},
   "outputs": [],
   "source": []
  },
  {
   "cell_type": "code",
   "execution_count": null,
   "metadata": {},
   "outputs": [],
   "source": [
    "# Adicionar coluna 1994 e 2023 FALSE\n",
    "df_iptus.loc[:, 1994] = False\n",
    "df_iptus.loc[:, 2023] = False\n",
    "df_iptus.loc[:, 'data_de_inicio'] = None\n",
    "df_iptus.loc[:, 'data_de_termino'] = None\n",
    "\n",
    "for w in list(range(1994, 2023)):\n",
    "    # print(w, w+1)\n",
    "\n",
    "    inicio = df_iptus[w]\n",
    "    termino = df_iptus[w+1]\n",
    "\n",
    "    df_iptus.loc[~inicio & termino, 'data_de_inicio'] = pd.to_datetime(f'{w+1}-01-01 00:00:00')\n",
    "    df_iptus.loc[inicio & ~termino, 'data_de_termino'] = pd.to_datetime(f'{w}-12-31 23:59:59')\n",
    "    \n",
    "    # IF TRUE, TRUE\n",
    "    # Não muda nada\n",
    "\n",
    "    # IF TRUE, FALSE\n",
    "    # Data de termino\n",
    "\n",
    "    # IF FALSE, FALSE\n",
    "    # Não muda nada\n",
    "\n",
    "    # IF FALSE, TRUE\n",
    "    # DAta de inicio\n",
    "\n",
    "    df_iptus_date = df_iptus.drop(range(1994, 2024), axis=1)\n",
    "    df_iptus_date.data_de_inicio = pd.to_datetime(df_iptus_date.data_de_inicio)\n",
    "    df_iptus_date.data_de_termino = pd.to_datetime(df_iptus_date.data_de_termino)\n"
   ]
  },
  {
   "cell_type": "code",
   "execution_count": null,
   "metadata": {},
   "outputs": [],
   "source": [
    "lotes_diffs = []\n",
    "\n",
    "for f in glob.glob('data/lotes/SIRGAS_SHP_LOTES*.zip'):\n",
    "    print(os.path.basename(f))\n",
    "    gdf_lote = gpd.read_file(f'zip://{f}!{os.path.basename(f)[:-4]}')\n",
    "    gdf_lote.loc[:, 'sq'] = gdf_lote.lo_setor + gdf_lote.lo_quadra  \n",
    "    gdf_lote.loc[:, 'sqlc'] = gdf_lote.lo_setor + gdf_lote.lo_quadra + gdf_lote.lo_lote + gdf_lote.lo_condomi\n",
    "    \n",
    "    # Garantir que o lote é fiscal\n",
    "    gdf_lote = gdf_lote.loc[gdf_lote.lo_tp_lote == 'F', :]\n",
    "    \n",
    "    gdf_lote_iptu = gdf_lote.join(df_iptus_date, on='sqlc', how='left')\n",
    "    gdf_lote_iptu = gdf_lote_iptu.loc[:, ['sq', 'sqlc', 'data_de_inicio', 'data_de_termino', 'geometry']].reset_index(drop=True)\n",
    "    gdf_lote_iptu.loc[:, 'agregado'] = False\n",
    "\n",
    "    lotes_diffs.append(gdf_lote_iptu)\n",
    "    # gdf_lote_iptu.fillna(False, inplace=True)\n",
    "    \n",
    "    quadras = gdf_quadras[gdf_quadras.sq.isin(gdf_lote_iptu.loc[:, 'sq'])]\n",
    "    quadras.set_index('sq', inplace=True)\n",
    "    quadras.set_crs(epsg=31983)\n",
    "\n",
    "    for y in range(1995, 2023):\n",
    "        inicio = pd.to_datetime(f'{y}-01-01 00:00:00')\n",
    "        termino = pd.to_datetime(f'{y}-12-31 23:59:59')\n",
    "        periodo = (gdf_lote_iptu.data_de_inicio <= inicio) & (gdf_lote_iptu.data_de_termino >= termino)\n",
    "        lotes = gdf_lote_iptu[periodo]\n",
    "\n",
    "        # lotes = gdf_lote[gdf_lote.sqlc.isin(gdf_lote_iptu.loc[gdf_lote_iptu[y], 'sqlc'])].set_crs(epsg=31983)\n",
    "        lotes_dissolved = lotes.dissolve(by='sq')\n",
    "        lotes_dissolved.geometry = lotes_dissolved.buffer(0.05)\n",
    "        lotes_diff_quadras = quadras.difference(lotes_dissolved)\n",
    "        \n",
    "        # lotes = lotes.loc[:, ['sq', 'sqlc', 'data_de_inicio', 'geometry']].reset_index(drop=True)\n",
    "        # lotes.loc[:, 'agregado'] = False\n",
    "\n",
    "        lotes_diff_quadras = gpd.GeoDataFrame(pd.Series(lotes_diff_quadras.index + '000000', lotes_diff_quadras.index, name='sqlc'), geometry=lotes_diff_quadras).reset_index()\n",
    "        lotes_diff_quadras.loc[:, 'data_de_inicio'] = inicio\n",
    "        lotes_diff_quadras.loc[:, 'data_de_termino'] = termino\n",
    "        lotes_diff_quadras.loc[:, 'agregado'] = True\n",
    "\n",
    "        lotes_diffs.append(lotes_diff_quadras)\n",
    "        \n",
    "        print(y)\n",
    "        # break\n",
    "\n",
    "    pd.concat(lotes_diffs).to_file(\n",
    "        f'lotes_agregados_por_ano/atributo_de_data/{os.path.basename(f)[:-4]}_atributo_de_data.gpkg', driver='GPKG',\n",
    "        ignore_index=True\n",
    "    )\n",
    "\n",
    "\n",
    "    break"
   ]
  },
  {
   "cell_type": "code",
   "execution_count": null,
   "metadata": {},
   "outputs": [],
   "source": []
  }
 ],
 "metadata": {
  "kernelspec": {
   "display_name": "Python 3 (ipykernel)",
   "language": "python",
   "name": "python3"
  },
  "language_info": {
   "codemirror_mode": {
    "name": "ipython",
    "version": 3
   },
   "file_extension": ".py",
   "mimetype": "text/x-python",
   "name": "python",
   "nbconvert_exporter": "python",
   "pygments_lexer": "ipython3",
   "version": "3.10.6"
  },
  "vscode": {
   "interpreter": {
    "hash": "66377ee36ba471295a52b63e00c09c7d3241bd901d4537acec8d938c05575fda"
   }
  }
 },
 "nbformat": 4,
 "nbformat_minor": 2
}
