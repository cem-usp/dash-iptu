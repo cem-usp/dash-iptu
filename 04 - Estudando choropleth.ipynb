{
 "cells": [
  {
   "cell_type": "code",
   "execution_count": 1,
   "metadata": {},
   "outputs": [
    {
     "name": "stderr",
     "output_type": "stream",
     "text": [
      "/home/fernando/miniconda3/envs/dash/lib/python3.9/site-packages/geopandas/_compat.py:111: UserWarning: The Shapely GEOS version (3.10.2-CAPI-1.16.0) is incompatible with the GEOS version PyGEOS was compiled with (3.10.1-CAPI-1.16.0). Conversions between both will be slow.\n",
      "  warnings.warn(\n"
     ]
    }
   ],
   "source": [
    "import pandas as pd\n",
    "import geopandas as gpd\n",
    "import vaex\n",
    "import plotly.express as px"
   ]
  },
  {
   "cell_type": "code",
   "execution_count": 2,
   "metadata": {},
   "outputs": [],
   "source": [
    "df_iptu_distritos = vaex.open('data/IPTU-Distritos1995-2022-agrupados-por-distrito.hdf5')\n",
    "gdf_distritos = gpd.read_file('data/SIRGAS_GPKG_distrito.gpkg')"
   ]
  },
  {
   "cell_type": "code",
   "execution_count": 3,
   "metadata": {},
   "outputs": [],
   "source": [
    "gdf_distritos.geometry = gdf_distritos.simplify(tolerance=100)"
   ]
  },
  {
   "cell_type": "code",
   "execution_count": 5,
   "metadata": {},
   "outputs": [],
   "source": [
    "gdf_distritos['area'] = gdf_distritos.area\n",
    "gdf_distritos.to_crs(epsg=4674, inplace=True)"
   ]
  },
  {
   "cell_type": "code",
   "execution_count": 7,
   "metadata": {},
   "outputs": [],
   "source": [
    "gdf_distritos_counted = gdf_distritos.astype({'ds_codigo': 'int'}).merge(df_iptu_distritos[df_iptu_distritos.ano == 2022].to_pandas_df(), left_on='ds_codigo', right_on='distrito')"
   ]
  },
  {
   "cell_type": "code",
   "execution_count": 47,
   "metadata": {},
   "outputs": [
    {
     "ename": "TypeError",
     "evalue": "choropleth_mapbox() got an unexpected keyword argument 'zmax'",
     "output_type": "error",
     "traceback": [
      "\u001b[0;31m---------------------------------------------------------------------------\u001b[0m",
      "\u001b[0;31mTypeError\u001b[0m                                 Traceback (most recent call last)",
      "\u001b[1;32m/home/fernando/dev/dash-iptu/04 - Estudando choropleth.ipynb Cell 6'\u001b[0m in \u001b[0;36m<cell line: 1>\u001b[0;34m()\u001b[0m\n\u001b[0;32m----> <a href='vscode-notebook-cell:/home/fernando/dev/dash-iptu/04%20-%20Estudando%20choropleth.ipynb#ch0000002?line=0'>1</a>\u001b[0m fig \u001b[39m=\u001b[39m px\u001b[39m.\u001b[39;49mchoropleth_mapbox(gdf_distritos_counted,\n\u001b[1;32m      <a href='vscode-notebook-cell:/home/fernando/dev/dash-iptu/04%20-%20Estudando%20choropleth.ipynb#ch0000002?line=1'>2</a>\u001b[0m                    geojson\u001b[39m=\u001b[39;49mgdf_distritos_counted\u001b[39m.\u001b[39;49mgeometry,\n\u001b[1;32m      <a href='vscode-notebook-cell:/home/fernando/dev/dash-iptu/04%20-%20Estudando%20choropleth.ipynb#ch0000002?line=2'>3</a>\u001b[0m                    zoom\u001b[39m=\u001b[39;49m\u001b[39m9\u001b[39;49m,\n\u001b[1;32m      <a href='vscode-notebook-cell:/home/fernando/dev/dash-iptu/04%20-%20Estudando%20choropleth.ipynb#ch0000002?line=3'>4</a>\u001b[0m                    center\u001b[39m=\u001b[39;49m{\u001b[39m'\u001b[39;49m\u001b[39mlat\u001b[39;49m\u001b[39m'\u001b[39;49m:\u001b[39m-\u001b[39;49m\u001b[39m23.62095411\u001b[39;49m, \u001b[39m'\u001b[39;49m\u001b[39mlon\u001b[39;49m\u001b[39m'\u001b[39;49m:\u001b[39m-\u001b[39;49m\u001b[39m46.61666592\u001b[39;49m}, \n\u001b[1;32m      <a href='vscode-notebook-cell:/home/fernando/dev/dash-iptu/04%20-%20Estudando%20choropleth.ipynb#ch0000002?line=4'>5</a>\u001b[0m                   \u001b[39m#  projection=\"transverse mercator\",\u001b[39;49;00m\n\u001b[1;32m      <a href='vscode-notebook-cell:/home/fernando/dev/dash-iptu/04%20-%20Estudando%20choropleth.ipynb#ch0000002?line=5'>6</a>\u001b[0m                    color\u001b[39m=\u001b[39;49m\u001b[39m\"\u001b[39;49m\u001b[39mTO médio\u001b[39;49m\u001b[39m\"\u001b[39;49m,\n\u001b[1;32m      <a href='vscode-notebook-cell:/home/fernando/dev/dash-iptu/04%20-%20Estudando%20choropleth.ipynb#ch0000002?line=6'>7</a>\u001b[0m                    locations\u001b[39m=\u001b[39;49mgdf_distritos_counted\u001b[39m.\u001b[39;49mindex\u001b[39m.\u001b[39;49mto_list(),\n\u001b[1;32m      <a href='vscode-notebook-cell:/home/fernando/dev/dash-iptu/04%20-%20Estudando%20choropleth.ipynb#ch0000002?line=7'>8</a>\u001b[0m                    mapbox_style\u001b[39m=\u001b[39;49m\u001b[39m\"\u001b[39;49m\u001b[39mwhite-bg\u001b[39;49m\u001b[39m\"\u001b[39;49m,\n\u001b[1;32m      <a href='vscode-notebook-cell:/home/fernando/dev/dash-iptu/04%20-%20Estudando%20choropleth.ipynb#ch0000002?line=8'>9</a>\u001b[0m                    hover_data\u001b[39m=\u001b[39;49m[\u001b[39m\"\u001b[39;49m\u001b[39mds_nome\u001b[39;49m\u001b[39m\"\u001b[39;49m],\n\u001b[1;32m     <a href='vscode-notebook-cell:/home/fernando/dev/dash-iptu/04%20-%20Estudando%20choropleth.ipynb#ch0000002?line=9'>10</a>\u001b[0m                    custom_data\u001b[39m=\u001b[39;49m[\u001b[39m\"\u001b[39;49m\u001b[39mds_codigo\u001b[39;49m\u001b[39m\"\u001b[39;49m],\n\u001b[1;32m     <a href='vscode-notebook-cell:/home/fernando/dev/dash-iptu/04%20-%20Estudando%20choropleth.ipynb#ch0000002?line=10'>11</a>\u001b[0m                    height\u001b[39m=\u001b[39;49m\u001b[39m800\u001b[39;49m,\n\u001b[1;32m     <a href='vscode-notebook-cell:/home/fernando/dev/dash-iptu/04%20-%20Estudando%20choropleth.ipynb#ch0000002?line=11'>12</a>\u001b[0m                    width\u001b[39m=\u001b[39;49m\u001b[39m800\u001b[39;49m,\n\u001b[1;32m     <a href='vscode-notebook-cell:/home/fernando/dev/dash-iptu/04%20-%20Estudando%20choropleth.ipynb#ch0000002?line=12'>13</a>\u001b[0m                    zmax\u001b[39m=\u001b[39;49m\u001b[39m15\u001b[39;49m)\n\u001b[1;32m     <a href='vscode-notebook-cell:/home/fernando/dev/dash-iptu/04%20-%20Estudando%20choropleth.ipynb#ch0000002?line=13'>14</a>\u001b[0m                   \u001b[39m#  color=\"ds_codigo\")\u001b[39;00m\n\u001b[1;32m     <a href='vscode-notebook-cell:/home/fernando/dev/dash-iptu/04%20-%20Estudando%20choropleth.ipynb#ch0000002?line=14'>15</a>\u001b[0m                 \u001b[39m#    projection=\"mercator\")\u001b[39;00m\n\u001b[1;32m     <a href='vscode-notebook-cell:/home/fernando/dev/dash-iptu/04%20-%20Estudando%20choropleth.ipynb#ch0000002?line=15'>16</a>\u001b[0m \u001b[39m# fig.update_geos(fitbounds='geojson', visible=False)\u001b[39;00m\n\u001b[1;32m     <a href='vscode-notebook-cell:/home/fernando/dev/dash-iptu/04%20-%20Estudando%20choropleth.ipynb#ch0000002?line=16'>17</a>\u001b[0m fig\u001b[39m.\u001b[39mupdate_layout(margin\u001b[39m=\u001b[39m{\u001b[39m\"\u001b[39m\u001b[39mr\u001b[39m\u001b[39m\"\u001b[39m:\u001b[39m0\u001b[39m,\u001b[39m\"\u001b[39m\u001b[39mt\u001b[39m\u001b[39m\"\u001b[39m:\u001b[39m0\u001b[39m,\u001b[39m\"\u001b[39m\u001b[39ml\u001b[39m\u001b[39m\"\u001b[39m:\u001b[39m0\u001b[39m,\u001b[39m\"\u001b[39m\u001b[39mb\u001b[39m\u001b[39m\"\u001b[39m:\u001b[39m0\u001b[39m})\n",
      "\u001b[0;31mTypeError\u001b[0m: choropleth_mapbox() got an unexpected keyword argument 'zmax'"
     ]
    }
   ],
   "source": [
    "fig = px.choropleth_mapbox(gdf_distritos_counted,\n",
    "                   geojson=gdf_distritos_counted.geometry,\n",
    "                   zoom=9,\n",
    "                   center={'lat':-23.62095411, 'lon':-46.61666592}, \n",
    "                  #  projection=\"transverse mercator\",\n",
    "                   color=\"TO médio\",\n",
    "                   locations=gdf_distritos_counted.index.to_list(),\n",
    "                   mapbox_style=\"white-bg\",\n",
    "                   hover_data=[\"ds_nome\"],\n",
    "                   custom_data=[\"ds_codigo\"],\n",
    "                   height=800,\n",
    "                   width=800,\n",
    "                   zmax=15)\n",
    "                  #  color=\"ds_codigo\")\n",
    "                #    projection=\"mercator\")\n",
    "# fig.update_geos(fitbounds='geojson', visible=False)\n",
    "fig.update_layout(margin={\"r\":0,\"t\":0,\"l\":0,\"b\":0})\n",
    "fig.show()"
   ]
  },
  {
   "cell_type": "code",
   "execution_count": null,
   "metadata": {},
   "outputs": [],
   "source": [
    "\n",
    "\n",
    "\n",
    "\n",
    "\n"
   ]
  },
  {
   "cell_type": "code",
   "execution_count": null,
   "metadata": {},
   "outputs": [],
   "source": []
  },
  {
   "cell_type": "code",
   "execution_count": null,
   "metadata": {},
   "outputs": [],
   "source": []
  },
  {
   "cell_type": "code",
   "execution_count": null,
   "metadata": {},
   "outputs": [],
   "source": []
  }
 ],
 "metadata": {
  "interpreter": {
   "hash": "ebf3c2fc12fbcaba6e75ea2e49af41058138f51e278d9579f2c5ffa4a897fa04"
  },
  "kernelspec": {
   "display_name": "Python 3.9.12 ('dash')",
   "language": "python",
   "name": "python3"
  },
  "language_info": {
   "codemirror_mode": {
    "name": "ipython",
    "version": 3
   },
   "file_extension": ".py",
   "mimetype": "text/x-python",
   "name": "python",
   "nbconvert_exporter": "python",
   "pygments_lexer": "ipython3",
   "version": "3.9.12"
  },
  "orig_nbformat": 4
 },
 "nbformat": 4,
 "nbformat_minor": 2
}
