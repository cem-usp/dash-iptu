{
 "cells": [
  {
   "cell_type": "code",
   "execution_count": 1,
   "metadata": {},
   "outputs": [],
   "source": [
    "import vaex\n",
    "import geopandas as gpd\n",
    "from shapely.validation import make_valid\n",
    "from difflib import SequenceMatcher\n",
    "import numpy as np\n",
    "import pandas as pd"
   ]
  },
  {
   "cell_type": "code",
   "execution_count": 3,
   "metadata": {},
   "outputs": [
    {
     "name": "stdout",
     "output_type": "stream",
     "text": [
      "Processando 1995, Processando 1996, Processando 1997, Processando 1998, Processando 1999, Processando 2000, Processando 2001, Processando 2002, Processando 2003, Processando 2004, Processando 2005, Processando 2006, Processando 2007, Processando 2008, Processando 2009, Processando 2010, Processando 2011, Processando 2012, Processando 2013, Processando 2014, Processando 2015, Processando 2016, Processando 2017, Processando 2018, Processando 2019, Processando 2020, Processando 2021, Processando 2022, "
     ]
    }
   ],
   "source": [
    "dfs = []\n",
    "\n",
    "for i in range(1995,2023):\n",
    "\n",
    "    print(f'Processando {i}', end=', ')\n",
    "    \n",
    "    df = vaex.open(f'data/IPTU-HDF5/IPTU_{i}/IPTU_{i}.hdf5')\n",
    "    # df = vaex.open(f'data//IPTU-HDF5/IPTU_{i}/IPTU_{i}.hdf5')\n",
    "\n",
    "    df.setor = df['NUMERO DO CONTRIBUINTE'].str.slice(0,3)\n",
    "    df.quadra = df['NUMERO DO CONTRIBUINTE'].str.slice(3,6)\n",
    "    df.fillna(value='00-0', column_names=['NUMERO DO CONDOMINIO'], inplace=True)\n",
    "    df.fillna(value=1., column_names=['FRACAO IDEAL'], inplace=True)\n",
    "    df.fillna(value=0., column_names=['AREA CONSTRUIDA', 'AREA OCUPADA', 'AREA DO TERRENO'], inplace=True)\n",
    "    df.sqlc = df.func.where(df['NUMERO DO CONDOMINIO'] == '00-0',\n",
    "                                    df['NUMERO DO CONTRIBUINTE'].str.slice(0, 10) + '00',\n",
    "                                    df['NUMERO DO CONTRIBUINTE'].str.slice(0, 6) + '0000' + df['NUMERO DO CONDOMINIO'].str.slice(0, 2))\n",
    "    df['sq'] = df.setor + df.quadra\n",
    "    df['sqlc'] = df.sqlc\n",
    "    df_sqlc_ac = df.groupby('sqlc', agg={'area_contruida_total': vaex.agg.sum('AREA CONSTRUIDA')})\n",
    "    df = df.join(df_sqlc_ac, on='sqlc')\n",
    "    df['fracao_ideal'] = df.func.where(df['FRACAO IDEAL'] == 0.,  \n",
    "                                                df['AREA CONSTRUIDA'] / df['area_contruida_total'],\n",
    "                                                df['FRACAO IDEAL'])\n",
    "    df['ca'] = (df['AREA CONSTRUIDA'] / df['fracao_ideal']) / df['AREA DO TERRENO']\n",
    "    df['to'] = df['AREA OCUPADA'] / df['AREA DO TERRENO']\n",
    "\n",
    "    df['valor_terreno'] = df['fracao_ideal'] * df['VALOR DO M2 DO TERRENO'] * df['AREA DO TERRENO']\n",
    "    df['valor_construcao'] = df['VALOR DO M2 DE CONSTRUCAO'] * df['AREA CONSTRUIDA']\n",
    "\n",
    "    dfs.append(df)"
   ]
  },
  {
   "cell_type": "code",
   "execution_count": 4,
   "metadata": {},
   "outputs": [],
   "source": [
    "df_iptu = vaex.concat(dfs)"
   ]
  },
  {
   "cell_type": "code",
   "execution_count": 5,
   "metadata": {},
   "outputs": [
    {
     "data": {
      "text/plain": [
       "(82322059, 37)"
      ]
     },
     "execution_count": 5,
     "metadata": {},
     "output_type": "execute_result"
    }
   ],
   "source": [
    "df_iptu.shape"
   ]
  },
  {
   "cell_type": "code",
   "execution_count": 7,
   "metadata": {},
   "outputs": [],
   "source": [
    "campos = ['NUMERO DO CONTRIBUINTE', 'sq', 'sqlc']"
   ]
  },
  {
   "cell_type": "code",
   "execution_count": 11,
   "metadata": {},
   "outputs": [],
   "source": [
    "df_iptu['NUMERO DO CONTRIBUINTE'] = df_iptu['NUMERO DO CONTRIBUINTE'].str.replace('-', '')"
   ]
  },
  {
   "cell_type": "code",
   "execution_count": 19,
   "metadata": {},
   "outputs": [
    {
     "data": {
      "text/html": [
       "<table>\n",
       "<thead>\n",
       "<tr><th>#                                     </th><th>NUMERO DO CONTRIBUINTE  </th><th>sq    </th><th>sqlc        </th></tr>\n",
       "</thead>\n",
       "<tbody>\n",
       "<tr><td><i style='opacity: 0.6'>0</i>         </td><td>00100300014             </td><td>001003</td><td>001003000100</td></tr>\n",
       "<tr><td><i style='opacity: 0.6'>1</i>         </td><td>00100300022             </td><td>001003</td><td>001003000200</td></tr>\n",
       "<tr><td><i style='opacity: 0.6'>2</i>         </td><td>00100300030             </td><td>001003</td><td>001003000300</td></tr>\n",
       "<tr><td><i style='opacity: 0.6'>3</i>         </td><td>00100300049             </td><td>001003</td><td>001003000400</td></tr>\n",
       "<tr><td><i style='opacity: 0.6'>4</i>         </td><td>00100300057             </td><td>001003</td><td>001003000500</td></tr>\n",
       "<tr><td>...                                   </td><td>...                     </td><td>...   </td><td>...         </td></tr>\n",
       "<tr><td><i style='opacity: 0.6'>82,322,054</i></td><td>31011802381             </td><td>310118</td><td>310118000001</td></tr>\n",
       "<tr><td><i style='opacity: 0.6'>82,322,055</i></td><td>31011802391             </td><td>310118</td><td>310118000001</td></tr>\n",
       "<tr><td><i style='opacity: 0.6'>82,322,056</i></td><td>31011802403             </td><td>310118</td><td>310118000001</td></tr>\n",
       "<tr><td><i style='opacity: 0.6'>82,322,057</i></td><td>31011900014             </td><td>310119</td><td>310119000100</td></tr>\n",
       "<tr><td><i style='opacity: 0.6'>82,322,058</i></td><td>31012000017             </td><td>310120</td><td>310120000100</td></tr>\n",
       "</tbody>\n",
       "</table>"
      ],
      "text/plain": [
       "#           NUMERO DO CONTRIBUINTE    sq      sqlc\n",
       "0           00100300014               001003  001003000100\n",
       "1           00100300022               001003  001003000200\n",
       "2           00100300030               001003  001003000300\n",
       "3           00100300049               001003  001003000400\n",
       "4           00100300057               001003  001003000500\n",
       "...         ...                       ...     ...\n",
       "82,322,054  31011802381               310118  310118000001\n",
       "82,322,055  31011802391               310118  310118000001\n",
       "82,322,056  31011802403               310118  310118000001\n",
       "82,322,057  31011900014               310119  310119000100\n",
       "82,322,058  31012000017               310120  310120000100"
      ]
     },
     "execution_count": 19,
     "metadata": {},
     "output_type": "execute_result"
    }
   ],
   "source": [
    "df_iptu[campos]"
   ]
  },
  {
   "cell_type": "code",
   "execution_count": 20,
   "metadata": {},
   "outputs": [],
   "source": [
    "df_iptu['sq'] = df_iptu['sq'].astype('int64')"
   ]
  },
  {
   "cell_type": "code",
   "execution_count": 22,
   "metadata": {},
   "outputs": [],
   "source": [
    "df_iptu['sqlc'] = df_iptu['sqlc'].astype('int64')"
   ]
  },
  {
   "cell_type": "code",
   "execution_count": 23,
   "metadata": {},
   "outputs": [
    {
     "data": {
      "text/plain": [
       "NUMERO DO CONTRIBUINTE    large_string\n",
       "sq                               int64\n",
       "sqlc                             int64\n",
       "dtype: object"
      ]
     },
     "execution_count": 23,
     "metadata": {},
     "output_type": "execute_result"
    }
   ],
   "source": [
    "df_iptu[campos].dtypes"
   ]
  },
  {
   "cell_type": "code",
   "execution_count": 24,
   "metadata": {},
   "outputs": [
    {
     "data": {
      "text/html": [
       "<table>\n",
       "<thead>\n",
       "<tr><th>#                                     </th><th>NUMERO DO CONTRIBUINTE  </th><th>sq    </th><th>sqlc        </th></tr>\n",
       "</thead>\n",
       "<tbody>\n",
       "<tr><td><i style='opacity: 0.6'>0</i>         </td><td>00100300014             </td><td>1003  </td><td>1003000100  </td></tr>\n",
       "<tr><td><i style='opacity: 0.6'>1</i>         </td><td>00100300022             </td><td>1003  </td><td>1003000200  </td></tr>\n",
       "<tr><td><i style='opacity: 0.6'>2</i>         </td><td>00100300030             </td><td>1003  </td><td>1003000300  </td></tr>\n",
       "<tr><td><i style='opacity: 0.6'>3</i>         </td><td>00100300049             </td><td>1003  </td><td>1003000400  </td></tr>\n",
       "<tr><td><i style='opacity: 0.6'>4</i>         </td><td>00100300057             </td><td>1003  </td><td>1003000500  </td></tr>\n",
       "<tr><td>...                                   </td><td>...                     </td><td>...   </td><td>...         </td></tr>\n",
       "<tr><td><i style='opacity: 0.6'>82,322,054</i></td><td>31011802381             </td><td>310118</td><td>310118000001</td></tr>\n",
       "<tr><td><i style='opacity: 0.6'>82,322,055</i></td><td>31011802391             </td><td>310118</td><td>310118000001</td></tr>\n",
       "<tr><td><i style='opacity: 0.6'>82,322,056</i></td><td>31011802403             </td><td>310118</td><td>310118000001</td></tr>\n",
       "<tr><td><i style='opacity: 0.6'>82,322,057</i></td><td>31011900014             </td><td>310119</td><td>310119000100</td></tr>\n",
       "<tr><td><i style='opacity: 0.6'>82,322,058</i></td><td>31012000017             </td><td>310120</td><td>310120000100</td></tr>\n",
       "</tbody>\n",
       "</table>"
      ],
      "text/plain": [
       "#           NUMERO DO CONTRIBUINTE    sq      sqlc\n",
       "0           00100300014               1003    1003000100\n",
       "1           00100300022               1003    1003000200\n",
       "2           00100300030               1003    1003000300\n",
       "3           00100300049               1003    1003000400\n",
       "4           00100300057               1003    1003000500\n",
       "...         ...                       ...     ...\n",
       "82,322,054  31011802381               310118  310118000001\n",
       "82,322,055  31011802391               310118  310118000001\n",
       "82,322,056  31011802403               310118  310118000001\n",
       "82,322,057  31011900014               310119  310119000100\n",
       "82,322,058  31012000017               310120  310120000100"
      ]
     },
     "execution_count": 24,
     "metadata": {},
     "output_type": "execute_result"
    }
   ],
   "source": [
    "df_iptu[campos]"
   ]
  },
  {
   "cell_type": "code",
   "execution_count": 26,
   "metadata": {},
   "outputs": [],
   "source": [
    "df_iptu_agg = df_iptu[campos].groupby('NUMERO DO CONTRIBUINTE', agg={\n",
    "    'sq':vaex.agg.first('sq'),\n",
    "    'sqlc':vaex.agg.first('sqlc')\n",
    "})"
   ]
  },
  {
   "cell_type": "code",
   "execution_count": 31,
   "metadata": {},
   "outputs": [],
   "source": [
    "df_iptu_agg['sq'] = df_iptu_agg['sq'].astype('string').str.zfill(6)\n",
    "df_iptu_agg['sqlc'] = df_iptu_agg['sqlc'].astype('string').str.zfill(12)"
   ]
  },
  {
   "cell_type": "code",
   "execution_count": 34,
   "metadata": {},
   "outputs": [],
   "source": [
    "df_iptu_agg.to_pandas_df().to_feather('lotes_agregados_por_ano/sql_para_sqlc.feather')"
   ]
  },
  {
   "cell_type": "code",
   "execution_count": null,
   "metadata": {},
   "outputs": [],
   "source": []
  }
 ],
 "metadata": {
  "kernelspec": {
   "display_name": "Python 3.9.12 ('venv': venv)",
   "language": "python",
   "name": "python3"
  },
  "language_info": {
   "codemirror_mode": {
    "name": "ipython",
    "version": 3
   },
   "file_extension": ".py",
   "mimetype": "text/x-python",
   "name": "python",
   "nbconvert_exporter": "python",
   "pygments_lexer": "ipython3",
   "version": "3.9.12"
  },
  "orig_nbformat": 4,
  "vscode": {
   "interpreter": {
    "hash": "c1fb877d92570f95ca9cf21ba8296078ed0d1ac0c428c438ea8488773b3aa6c6"
   }
  }
 },
 "nbformat": 4,
 "nbformat_minor": 2
}
